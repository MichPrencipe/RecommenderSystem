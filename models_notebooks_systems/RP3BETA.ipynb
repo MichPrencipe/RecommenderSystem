{
  "cells": [
    {
      "cell_type": "markdown",
      "metadata": {
        "id": "cSLGYEz0xKvB"
      },
      "source": [
        "#Connect to drive"
      ]
    },
    {
      "cell_type": "code",
      "source": [
        "!git clone https://github.com/MaurizioFD/RecSys_Course_AT_PoliMi\n",
        "%cd RecSys_Course_AT_PoliMi\n",
        "!pip install -r requirements.txt\n",
        "!python run_compile_all_cython.py"
      ],
      "metadata": {
        "id": "_8qb-w0XLoKs",
        "colab": {
          "base_uri": "https://localhost:8080/"
        },
        "outputId": "29713a76-9d38-4671-b6d0-dc89d649df92"
      },
      "execution_count": 1,
      "outputs": [
        {
          "output_type": "stream",
          "name": "stdout",
          "text": [
            "Cloning into 'RecSys_Course_AT_PoliMi'...\n",
            "remote: Enumerating objects: 1499, done.\u001b[K\n",
            "remote: Counting objects: 100% (244/244), done.\u001b[K\n",
            "remote: Compressing objects: 100% (142/142), done.\u001b[K\n",
            "remote: Total 1499 (delta 113), reused 231 (delta 100), pack-reused 1255\u001b[K\n",
            "Receiving objects: 100% (1499/1499), 50.98 MiB | 11.80 MiB/s, done.\n",
            "Resolving deltas: 100% (844/844), done.\n",
            "/content/RecSys_Course_AT_PoliMi\n",
            "Collecting Cython==0.29.23 (from -r requirements.txt (line 1))\n",
            "  Downloading Cython-0.29.23-py2.py3-none-any.whl (978 kB)\n",
            "\u001b[2K     \u001b[90m━━━━━━━━━━━━━━━━━━━━━━━━━━━━━━━━━━━━━━━━\u001b[0m \u001b[32m978.0/978.0 kB\u001b[0m \u001b[31m7.1 MB/s\u001b[0m eta \u001b[36m0:00:00\u001b[0m\n",
            "\u001b[?25hCollecting h5py==3.1.0 (from -r requirements.txt (line 2))\n",
            "  Downloading h5py-3.1.0.tar.gz (371 kB)\n",
            "\u001b[2K     \u001b[90m━━━━━━━━━━━━━━━━━━━━━━━━━━━━━━━━━━━━━━━━\u001b[0m \u001b[32m371.4/371.4 kB\u001b[0m \u001b[31m1.6 MB/s\u001b[0m eta \u001b[36m0:00:00\u001b[0m\n",
            "\u001b[?25h  Installing build dependencies ... \u001b[?25l\u001b[?25hdone\n",
            "  Getting requirements to build wheel ... \u001b[?25l\u001b[?25hdone\n",
            "  \u001b[1;31merror\u001b[0m: \u001b[1msubprocess-exited-with-error\u001b[0m\n",
            "  \n",
            "  \u001b[31m×\u001b[0m \u001b[32mpip subprocess to install backend dependencies\u001b[0m did not run successfully.\n",
            "  \u001b[31m│\u001b[0m exit code: \u001b[1;36m1\u001b[0m\n",
            "  \u001b[31m╰─>\u001b[0m See above for output.\n",
            "  \n",
            "  \u001b[1;35mnote\u001b[0m: This error originates from a subprocess, and is likely not a problem with pip.\n",
            "  Installing backend dependencies ... \u001b[?25l\u001b[?25herror\n",
            "\u001b[1;31merror\u001b[0m: \u001b[1msubprocess-exited-with-error\u001b[0m\n",
            "\n",
            "\u001b[31m×\u001b[0m \u001b[32mpip subprocess to install backend dependencies\u001b[0m did not run successfully.\n",
            "\u001b[31m│\u001b[0m exit code: \u001b[1;36m1\u001b[0m\n",
            "\u001b[31m╰─>\u001b[0m See above for output.\n",
            "\n",
            "\u001b[1;35mnote\u001b[0m: This error originates from a subprocess, and is likely not a problem with pip.\n",
            "run_compile_all_cython: Found 10 Cython files in 4 folders...\n",
            "run_compile_all_cython: All files will be compiled using your current python environment: '/usr/bin/python3'\n",
            "Compiling [1/10]: MatrixFactorizationImpressions_Cython_Epoch.pyx... \n",
            "In file included from \u001b[01m\u001b[K/usr/local/lib/python3.10/dist-packages/numpy/core/include/numpy/ndarraytypes.h:1948\u001b[m\u001b[K,\n",
            "                 from \u001b[01m\u001b[K/usr/local/lib/python3.10/dist-packages/numpy/core/include/numpy/ndarrayobject.h:12\u001b[m\u001b[K,\n",
            "                 from \u001b[01m\u001b[K/usr/local/lib/python3.10/dist-packages/numpy/core/include/numpy/arrayobject.h:5\u001b[m\u001b[K,\n",
            "                 from \u001b[01m\u001b[KMatrixFactorizationImpressions_Cython_Epoch.c:1217\u001b[m\u001b[K:\n",
            "\u001b[01m\u001b[K/usr/local/lib/python3.10/dist-packages/numpy/core/include/numpy/npy_1_7_deprecated_api.h:17:2:\u001b[m\u001b[K \u001b[01;35m\u001b[Kwarning: \u001b[m\u001b[K#warning \"Using deprecated NumPy API, disable it with \" \"#define NPY_NO_DEPRECATED_API NPY_1_7_API_VERSION\" [\u001b[01;35m\u001b[K\u001b]8;;https://gcc.gnu.org/onlinedocs/gcc/Warning-Options.html#index-Wcpp\u0007-Wcpp\u001b]8;;\u0007\u001b[m\u001b[K]\n",
            "   17 | #\u001b[01;35m\u001b[Kwarning\u001b[m\u001b[K \"Using deprecated NumPy API, disable it with \" \\\n",
            "      |  \u001b[01;35m\u001b[K^~~~~~~\u001b[m\u001b[K\n",
            "\u001b[01m\u001b[KMatrixFactorizationImpressions_Cython_Epoch.c:\u001b[m\u001b[K In function ‘\u001b[01m\u001b[K__pyx_f_43MatrixFactorizationImpressions_Cython_Epoch_32MatrixFactorization_Cython_Epoch_sampleBPR_Cython\u001b[m\u001b[K’:\n",
            "\u001b[01m\u001b[KMatrixFactorizationImpressions_Cython_Epoch.c:30373:17:\u001b[m\u001b[K \u001b[01;35m\u001b[Kwarning: \u001b[m\u001b[K‘\u001b[01m\u001b[K__pyx_v_start_pos_impression_items\u001b[m\u001b[K’ may be used uninitialized in this function [\u001b[01;35m\u001b[K\u001b]8;;https://gcc.gnu.org/onlinedocs/gcc/Warning-Options.html#index-Wmaybe-uninitialized\u0007-Wmaybe-uninitialized\u001b]8;;\u0007\u001b[m\u001b[K]\n",
            "30373 |       \u001b[01;35m\u001b[K__pyx_t_4 = (__pyx_v_start_pos_impression_items + __pyx_v_index)\u001b[m\u001b[K;\n",
            "      |       \u001b[01;35m\u001b[K~~~~~~~~~~^~~~~~~~~~~~~~~~~~~~~~~~~~~~~~~~~~~~~~~~~~~~~~~~~~~~~~\u001b[m\u001b[K\n",
            "\u001b[01m\u001b[KMatrixFactorizationImpressions_Cython_Epoch.c:\u001b[m\u001b[K In function ‘\u001b[01m\u001b[K__pyx_pf_43MatrixFactorizationImpressions_Cython_Epoch_32MatrixFactorization_Cython_Epoch_10epochIteration_Cython_ASY_SVD_SGD\u001b[m\u001b[K’:\n",
            "\u001b[01m\u001b[KMatrixFactorizationImpressions_Cython_Epoch.c:26107:66:\u001b[m\u001b[K \u001b[01;35m\u001b[Kwarning: \u001b[m\u001b[K‘\u001b[01m\u001b[K__pyx_v_end_pos_seen_items\u001b[m\u001b[K’ may be used uninitialized in this function [\u001b[01;35m\u001b[K\u001b]8;;https://gcc.gnu.org/onlinedocs/gcc/Warning-Options.html#index-Wmaybe-uninitialized\u0007-Wmaybe-uninitialized\u001b]8;;\u0007\u001b[m\u001b[K]\n",
            "26107 |       for (__pyx_t_21 = __pyx_v_start_pos_seen_items; \u001b[01;35m\u001b[K__pyx_t_21 < __pyx_t_20\u001b[m\u001b[K; __pyx_t_21+=1) {\n",
            "      |                                                       \u001b[01;35m\u001b[K~~~~~~~~~~~^~~~~~~~~~~~\u001b[m\u001b[K\n",
            "\u001b[01m\u001b[KMatrixFactorizationImpressions_Cython_Epoch.c:26107:66:\u001b[m\u001b[K \u001b[01;35m\u001b[Kwarning: \u001b[m\u001b[K‘\u001b[01m\u001b[K__pyx_v_start_pos_seen_items\u001b[m\u001b[K’ may be used uninitialized in this function [\u001b[01;35m\u001b[K\u001b]8;;https://gcc.gnu.org/onlinedocs/gcc/Warning-Options.html#index-Wmaybe-uninitialized\u0007-Wmaybe-uninitialized\u001b]8;;\u0007\u001b[m\u001b[K]\n",
            "/usr/local/lib/python3.10/dist-packages/Cython/Compiler/Main.py:381: FutureWarning: Cython directive 'language_level' not set, using '3str' for now (Py3). This has changed from earlier releases! File: /content/RecSys_Course_AT_PoliMi/Recommenders/MatrixFactorization/Cython/MatrixFactorizationImpressions_Cython_Epoch.pyx\n",
            "  tree = Parsing.p_module(s, pxd, full_module_name)\n",
            "Compiling [1/10]: MatrixFactorizationImpressions_Cython_Epoch.pyx... PASS\n",
            "\n",
            "Compiling [2/10]: MatrixFactorization_Cython_Epoch.pyx... \n",
            "In file included from \u001b[01m\u001b[K/usr/local/lib/python3.10/dist-packages/numpy/core/include/numpy/ndarraytypes.h:1948\u001b[m\u001b[K,\n",
            "                 from \u001b[01m\u001b[K/usr/local/lib/python3.10/dist-packages/numpy/core/include/numpy/ndarrayobject.h:12\u001b[m\u001b[K,\n",
            "                 from \u001b[01m\u001b[K/usr/local/lib/python3.10/dist-packages/numpy/core/include/numpy/arrayobject.h:5\u001b[m\u001b[K,\n",
            "                 from \u001b[01m\u001b[KMatrixFactorization_Cython_Epoch.c:1217\u001b[m\u001b[K:\n",
            "\u001b[01m\u001b[K/usr/local/lib/python3.10/dist-packages/numpy/core/include/numpy/npy_1_7_deprecated_api.h:17:2:\u001b[m\u001b[K \u001b[01;35m\u001b[Kwarning: \u001b[m\u001b[K#warning \"Using deprecated NumPy API, disable it with \" \"#define NPY_NO_DEPRECATED_API NPY_1_7_API_VERSION\" [\u001b[01;35m\u001b[K\u001b]8;;https://gcc.gnu.org/onlinedocs/gcc/Warning-Options.html#index-Wcpp\u0007-Wcpp\u001b]8;;\u0007\u001b[m\u001b[K]\n",
            "   17 | #\u001b[01;35m\u001b[Kwarning\u001b[m\u001b[K \"Using deprecated NumPy API, disable it with \" \\\n",
            "      |  \u001b[01;35m\u001b[K^~~~~~~\u001b[m\u001b[K\n",
            "\u001b[01m\u001b[KMatrixFactorization_Cython_Epoch.c:\u001b[m\u001b[K In function ‘\u001b[01m\u001b[K__pyx_pf_32MatrixFactorization_Cython_Epoch_32MatrixFactorization_Cython_Epoch_10epochIteration_Cython_ASY_SVD_SGD\u001b[m\u001b[K’:\n",
            "\u001b[01m\u001b[KMatrixFactorization_Cython_Epoch.c:26251:68:\u001b[m\u001b[K \u001b[01;35m\u001b[Kwarning: \u001b[m\u001b[K‘\u001b[01m\u001b[K__pyx_v_end_pos_seen_items\u001b[m\u001b[K’ may be used uninitialized in this function [\u001b[01;35m\u001b[K\u001b]8;;https://gcc.gnu.org/onlinedocs/gcc/Warning-Options.html#index-Wmaybe-uninitialized\u0007-Wmaybe-uninitialized\u001b]8;;\u0007\u001b[m\u001b[K]\n",
            "26251 |         for (__pyx_t_21 = __pyx_v_start_pos_seen_items; \u001b[01;35m\u001b[K__pyx_t_21 < __pyx_t_20\u001b[m\u001b[K; __pyx_t_21+=1) {\n",
            "      |                                                         \u001b[01;35m\u001b[K~~~~~~~~~~~^~~~~~~~~~~~\u001b[m\u001b[K\n",
            "\u001b[01m\u001b[KMatrixFactorization_Cython_Epoch.c:26251:68:\u001b[m\u001b[K \u001b[01;35m\u001b[Kwarning: \u001b[m\u001b[K‘\u001b[01m\u001b[K__pyx_v_start_pos_seen_items\u001b[m\u001b[K’ may be used uninitialized in this function [\u001b[01;35m\u001b[K\u001b]8;;https://gcc.gnu.org/onlinedocs/gcc/Warning-Options.html#index-Wmaybe-uninitialized\u0007-Wmaybe-uninitialized\u001b]8;;\u0007\u001b[m\u001b[K]\n",
            "/usr/local/lib/python3.10/dist-packages/Cython/Compiler/Main.py:381: FutureWarning: Cython directive 'language_level' not set, using '3str' for now (Py3). This has changed from earlier releases! File: /content/RecSys_Course_AT_PoliMi/Recommenders/MatrixFactorization/Cython/MatrixFactorization_Cython_Epoch.pyx\n",
            "  tree = Parsing.p_module(s, pxd, full_module_name)\n",
            "Compiling [2/10]: MatrixFactorization_Cython_Epoch.pyx... PASS\n",
            "\n",
            "Compiling [3/10]: Compute_Similarity_Cython.pyx... \n",
            "warning: Compute_Similarity_Cython.pyx:21:0: The 'IF' statement is deprecated and will be removed in a future Cython version. Consider using runtime conditions or C macros instead. See https://github.com/cython/cython/issues/4310\n",
            "In file included from \u001b[01m\u001b[K/usr/local/lib/python3.10/dist-packages/numpy/core/include/numpy/ndarraytypes.h:1948\u001b[m\u001b[K,\n",
            "                 from \u001b[01m\u001b[K/usr/local/lib/python3.10/dist-packages/numpy/core/include/numpy/ndarrayobject.h:12\u001b[m\u001b[K,\n",
            "                 from \u001b[01m\u001b[K/usr/local/lib/python3.10/dist-packages/numpy/core/include/numpy/arrayobject.h:5\u001b[m\u001b[K,\n",
            "                 from \u001b[01m\u001b[KCompute_Similarity_Cython.c:1217\u001b[m\u001b[K:\n",
            "\u001b[01m\u001b[K/usr/local/lib/python3.10/dist-packages/numpy/core/include/numpy/npy_1_7_deprecated_api.h:17:2:\u001b[m\u001b[K \u001b[01;35m\u001b[Kwarning: \u001b[m\u001b[K#warning \"Using deprecated NumPy API, disable it with \" \"#define NPY_NO_DEPRECATED_API NPY_1_7_API_VERSION\" [\u001b[01;35m\u001b[K\u001b]8;;https://gcc.gnu.org/onlinedocs/gcc/Warning-Options.html#index-Wcpp\u0007-Wcpp\u001b]8;;\u0007\u001b[m\u001b[K]\n",
            "   17 | #\u001b[01;35m\u001b[Kwarning\u001b[m\u001b[K \"Using deprecated NumPy API, disable it with \" \\\n",
            "      |  \u001b[01;35m\u001b[K^~~~~~~\u001b[m\u001b[K\n",
            "/usr/local/lib/python3.10/dist-packages/Cython/Compiler/Main.py:381: FutureWarning: Cython directive 'language_level' not set, using '3str' for now (Py3). This has changed from earlier releases! File: /content/RecSys_Course_AT_PoliMi/Recommenders/Similarity/Cython/Compute_Similarity_Cython.pyx\n",
            "  tree = Parsing.p_module(s, pxd, full_module_name)\n",
            "warning: Compute_Similarity_Cython.pyx:21:0: The 'IF' statement is deprecated and will be removed in a future Cython version. Consider using runtime conditions or C macros instead. See https://github.com/cython/cython/issues/4310\n",
            "Compiling [3/10]: Compute_Similarity_Cython.pyx... PASS\n",
            "\n",
            "Compiling [4/10]: SLIM_BPR_Cython_Epoch.pyx... \n",
            "warning: SLIM_BPR_Cython_Epoch.pyx:24:0: The 'IF' statement is deprecated and will be removed in a future Cython version. Consider using runtime conditions or C macros instead. See https://github.com/cython/cython/issues/4310\n",
            "warning: SLIM_BPR_Cython_Epoch.pyx:632:34: Non-trivial type declarators in shared declaration (e.g. mix of pointers and values). Each pointer declaration should be on its own line.\n",
            "warning: SLIM_BPR_Cython_Epoch.pyx:632:66: Non-trivial type declarators in shared declaration (e.g. mix of pointers and values). Each pointer declaration should be on its own line.\n",
            "warning: SLIM_BPR_Cython_Epoch.pyx:817:35: Non-trivial type declarators in shared declaration (e.g. mix of pointers and values). Each pointer declaration should be on its own line.\n",
            "warning: SLIM_BPR_Cython_Epoch.pyx:817:52: Non-trivial type declarators in shared declaration (e.g. mix of pointers and values). Each pointer declaration should be on its own line.\n",
            "warning: SLIM_BPR_Cython_Epoch.pyx:916:35: Non-trivial type declarators in shared declaration (e.g. mix of pointers and values). Each pointer declaration should be on its own line.\n",
            "warning: SLIM_BPR_Cython_Epoch.pyx:916:53: Non-trivial type declarators in shared declaration (e.g. mix of pointers and values). Each pointer declaration should be on its own line.\n",
            "warning: SLIM_BPR_Cython_Epoch.pyx:916:69: Non-trivial type declarators in shared declaration (e.g. mix of pointers and values). Each pointer declaration should be on its own line.\n",
            "warning: SLIM_BPR_Cython_Epoch.pyx:1051:35: Non-trivial type declarators in shared declaration (e.g. mix of pointers and values). Each pointer declaration should be on its own line.\n",
            "warning: SLIM_BPR_Cython_Epoch.pyx:1051:42: Non-trivial type declarators in shared declaration (e.g. mix of pointers and values). Each pointer declaration should be on its own line.\n",
            "warning: SLIM_BPR_Cython_Epoch.pyx:1052:35: Non-trivial type declarators in shared declaration (e.g. mix of pointers and values). Each pointer declaration should be on its own line.\n",
            "warning: SLIM_BPR_Cython_Epoch.pyx:1052:53: Non-trivial type declarators in shared declaration (e.g. mix of pointers and values). Each pointer declaration should be on its own line.\n",
            "\n",
            "Error compiling Cython file:\n",
            "------------------------------------------------------------\n",
            "...\n",
            "            vector_pointer_to_list_elements[index].head = current_element\n",
            "            current_element = current_element.higher\n",
            "\n",
            "\n",
            "        # Sort array elements on their data field\n",
            "        qsort(vector_pointer_to_list_elements, list_length, sizeof(head_pointer_tree_s), compare_struct_on_data)\n",
            "                                                                                         ^\n",
            "------------------------------------------------------------\n",
            "\n",
            "SLIM_BPR_Cython_Epoch.pyx:990:89: Cannot assign type 'int (const void *, const void *) except? -1' to 'int (*)(const_void *, const_void *) noexcept'. Exception values are incompatible. Suggest adding 'noexcept' to type 'int (const void *, const void *) except? -1'.\n",
            "\n",
            "Error compiling Cython file:\n",
            "------------------------------------------------------------\n",
            "...\n",
            "        # Sort array elements on their data field\n",
            "        qsort(vector_pointer_to_list_elements, list_length, sizeof(head_pointer_tree_s), compare_struct_on_data)\n",
            "\n",
            "        # Sort only the TopK according to their column field\n",
            "        # Sort is from lower to higher, therefore the elements to be considered are from len-topK to len\n",
            "        qsort(&vector_pointer_to_list_elements[list_length-TopK], TopK, sizeof(head_pointer_tree_s), compare_struct_on_column)\n",
            "                                                                                                     ^\n",
            "------------------------------------------------------------\n",
            "\n",
            "SLIM_BPR_Cython_Epoch.pyx:994:101: Cannot assign type 'int (const void *, const void *) except? -1' to 'int (*)(const_void *, const_void *) noexcept'. Exception values are incompatible. Suggest adding 'noexcept' to type 'int (const void *, const void *) except? -1'.\n",
            "Traceback (most recent call last):\n",
            "  File \"/content/RecSys_Course_AT_PoliMi/CythonCompiler/compile_script.py\", line 48, in <module>\n",
            "    setup(\n",
            "  File \"/usr/local/lib/python3.10/dist-packages/setuptools/__init__.py\", line 107, in setup\n",
            "    return distutils.core.setup(**attrs)\n",
            "  File \"/usr/local/lib/python3.10/dist-packages/setuptools/_distutils/core.py\", line 185, in setup\n",
            "    return run_commands(dist)\n",
            "  File \"/usr/local/lib/python3.10/dist-packages/setuptools/_distutils/core.py\", line 201, in run_commands\n",
            "    dist.run_commands()\n",
            "  File \"/usr/local/lib/python3.10/dist-packages/setuptools/_distutils/dist.py\", line 969, in run_commands\n",
            "    self.run_command(cmd)\n",
            "  File \"/usr/local/lib/python3.10/dist-packages/setuptools/dist.py\", line 1244, in run_command\n",
            "    super().run_command(command)\n",
            "  File \"/usr/local/lib/python3.10/dist-packages/setuptools/_distutils/dist.py\", line 988, in run_command\n",
            "    cmd_obj.run()\n",
            "  File \"/usr/local/lib/python3.10/dist-packages/setuptools/_distutils/command/build_ext.py\", line 345, in run\n",
            "    self.build_extensions()\n",
            "  File \"/usr/local/lib/python3.10/dist-packages/setuptools/_distutils/command/build_ext.py\", line 467, in build_extensions\n",
            "    self._build_extensions_serial()\n",
            "  File \"/usr/local/lib/python3.10/dist-packages/setuptools/_distutils/command/build_ext.py\", line 493, in _build_extensions_serial\n",
            "    self.build_extension(ext)\n",
            "  File \"/usr/local/lib/python3.10/dist-packages/Cython/Distutils/build_ext.py\", line 130, in build_extension\n",
            "    new_ext = cythonize(\n",
            "  File \"/usr/local/lib/python3.10/dist-packages/Cython/Build/Dependencies.py\", line 1154, in cythonize\n",
            "    cythonize_one(*args)\n",
            "  File \"/usr/local/lib/python3.10/dist-packages/Cython/Build/Dependencies.py\", line 1321, in cythonize_one\n",
            "    raise CompileError(None, pyx_file)\n",
            "Cython.Compiler.Errors.CompileError: SLIM_BPR_Cython_Epoch.pyx\n",
            "Traceback (most recent call last):\n",
            "  File \"/content/RecSys_Course_AT_PoliMi/run_compile_all_cython.py\", line 59, in <module>\n",
            "    run_compile_subprocess(file_path, [file_name])\n",
            "  File \"/content/RecSys_Course_AT_PoliMi/CythonCompiler/run_compile_subprocess.py\", line 51, in run_compile_subprocess\n",
            "    raise exc\n",
            "  File \"/content/RecSys_Course_AT_PoliMi/CythonCompiler/run_compile_subprocess.py\", line 32, in run_compile_subprocess\n",
            "    output = subprocess.check_output(' '.join(command),\n",
            "  File \"/usr/lib/python3.10/subprocess.py\", line 421, in check_output\n",
            "    return run(*popenargs, stdout=PIPE, timeout=timeout, check=True,\n",
            "  File \"/usr/lib/python3.10/subprocess.py\", line 526, in run\n",
            "    raise CalledProcessError(retcode, process.args,\n",
            "subprocess.CalledProcessError: Command '/usr/bin/python3 /content/RecSys_Course_AT_PoliMi/CythonCompiler/compile_script.py SLIM_BPR_Cython_Epoch.pyx build_ext --inplace' returned non-zero exit status 1.\n",
            "Compiling [4/10]: SLIM_BPR_Cython_Epoch.pyx... FAIL: Command '/usr/bin/python3 /content/RecSys_Course_AT_PoliMi/CythonCompiler/compile_script.py SLIM_BPR_Cython_Epoch.pyx build_ext --inplace' returned non-zero exit status 1.\n",
            "\n",
            "Compiling [5/10]: Sparse_Matrix_Tree_CSR.pyx... \n",
            "warning: Sparse_Matrix_Tree_CSR.pyx:132:34: Non-trivial type declarators in shared declaration (e.g. mix of pointers and values). Each pointer declaration should be on its own line.\n",
            "warning: Sparse_Matrix_Tree_CSR.pyx:132:66: Non-trivial type declarators in shared declaration (e.g. mix of pointers and values). Each pointer declaration should be on its own line.\n",
            "warning: Sparse_Matrix_Tree_CSR.pyx:343:35: Non-trivial type declarators in shared declaration (e.g. mix of pointers and values). Each pointer declaration should be on its own line.\n",
            "warning: Sparse_Matrix_Tree_CSR.pyx:343:52: Non-trivial type declarators in shared declaration (e.g. mix of pointers and values). Each pointer declaration should be on its own line.\n",
            "warning: Sparse_Matrix_Tree_CSR.pyx:442:35: Non-trivial type declarators in shared declaration (e.g. mix of pointers and values). Each pointer declaration should be on its own line.\n",
            "warning: Sparse_Matrix_Tree_CSR.pyx:442:53: Non-trivial type declarators in shared declaration (e.g. mix of pointers and values). Each pointer declaration should be on its own line.\n",
            "warning: Sparse_Matrix_Tree_CSR.pyx:442:69: Non-trivial type declarators in shared declaration (e.g. mix of pointers and values). Each pointer declaration should be on its own line.\n",
            "warning: Sparse_Matrix_Tree_CSR.pyx:577:35: Non-trivial type declarators in shared declaration (e.g. mix of pointers and values). Each pointer declaration should be on its own line.\n",
            "warning: Sparse_Matrix_Tree_CSR.pyx:577:42: Non-trivial type declarators in shared declaration (e.g. mix of pointers and values). Each pointer declaration should be on its own line.\n",
            "warning: Sparse_Matrix_Tree_CSR.pyx:578:35: Non-trivial type declarators in shared declaration (e.g. mix of pointers and values). Each pointer declaration should be on its own line.\n",
            "warning: Sparse_Matrix_Tree_CSR.pyx:578:53: Non-trivial type declarators in shared declaration (e.g. mix of pointers and values). Each pointer declaration should be on its own line.\n",
            "\n",
            "Error compiling Cython file:\n",
            "------------------------------------------------------------\n",
            "...\n",
            "            vector_pointer_to_list_elements[index].head = current_element\n",
            "            current_element = current_element.higher\n",
            "\n",
            "\n",
            "        # Sort array elements on their data field\n",
            "        qsort(vector_pointer_to_list_elements, list_length, sizeof(head_pointer_tree_s), compare_struct_on_data)\n",
            "                                                                                         ^\n",
            "------------------------------------------------------------\n",
            "\n",
            "Sparse_Matrix_Tree_CSR.pyx:516:89: Cannot assign type 'int (const void *, const void *) except? -1' to 'int (*)(const_void *, const_void *) noexcept'. Exception values are incompatible. Suggest adding 'noexcept' to type 'int (const void *, const void *) except? -1'.\n",
            "\n",
            "Error compiling Cython file:\n",
            "------------------------------------------------------------\n",
            "...\n",
            "        # Sort array elements on their data field\n",
            "        qsort(vector_pointer_to_list_elements, list_length, sizeof(head_pointer_tree_s), compare_struct_on_data)\n",
            "\n",
            "        # Sort only the TopK according to their column field\n",
            "        # Sort is from lower to higher, therefore the elements to be considered are from len-topK to len\n",
            "        qsort(&vector_pointer_to_list_elements[list_length-TopK], TopK, sizeof(head_pointer_tree_s), compare_struct_on_column)\n",
            "                                                                                                     ^\n",
            "------------------------------------------------------------\n",
            "\n",
            "Sparse_Matrix_Tree_CSR.pyx:520:101: Cannot assign type 'int (const void *, const void *) except? -1' to 'int (*)(const_void *, const_void *) noexcept'. Exception values are incompatible. Suggest adding 'noexcept' to type 'int (const void *, const void *) except? -1'.\n",
            "Traceback (most recent call last):\n",
            "  File \"/content/RecSys_Course_AT_PoliMi/CythonCompiler/compile_script.py\", line 48, in <module>\n",
            "    setup(\n",
            "  File \"/usr/local/lib/python3.10/dist-packages/setuptools/__init__.py\", line 107, in setup\n",
            "    return distutils.core.setup(**attrs)\n",
            "  File \"/usr/local/lib/python3.10/dist-packages/setuptools/_distutils/core.py\", line 185, in setup\n",
            "    return run_commands(dist)\n",
            "  File \"/usr/local/lib/python3.10/dist-packages/setuptools/_distutils/core.py\", line 201, in run_commands\n",
            "    dist.run_commands()\n",
            "  File \"/usr/local/lib/python3.10/dist-packages/setuptools/_distutils/dist.py\", line 969, in run_commands\n",
            "    self.run_command(cmd)\n",
            "  File \"/usr/local/lib/python3.10/dist-packages/setuptools/dist.py\", line 1244, in run_command\n",
            "    super().run_command(command)\n",
            "  File \"/usr/local/lib/python3.10/dist-packages/setuptools/_distutils/dist.py\", line 988, in run_command\n",
            "    cmd_obj.run()\n",
            "  File \"/usr/local/lib/python3.10/dist-packages/setuptools/_distutils/command/build_ext.py\", line 345, in run\n",
            "    self.build_extensions()\n",
            "  File \"/usr/local/lib/python3.10/dist-packages/setuptools/_distutils/command/build_ext.py\", line 467, in build_extensions\n",
            "    self._build_extensions_serial()\n",
            "  File \"/usr/local/lib/python3.10/dist-packages/setuptools/_distutils/command/build_ext.py\", line 493, in _build_extensions_serial\n",
            "    self.build_extension(ext)\n",
            "  File \"/usr/local/lib/python3.10/dist-packages/Cython/Distutils/build_ext.py\", line 130, in build_extension\n",
            "    new_ext = cythonize(\n",
            "  File \"/usr/local/lib/python3.10/dist-packages/Cython/Build/Dependencies.py\", line 1154, in cythonize\n",
            "    cythonize_one(*args)\n",
            "  File \"/usr/local/lib/python3.10/dist-packages/Cython/Build/Dependencies.py\", line 1321, in cythonize_one\n",
            "    raise CompileError(None, pyx_file)\n",
            "Cython.Compiler.Errors.CompileError: Sparse_Matrix_Tree_CSR.pyx\n",
            "Traceback (most recent call last):\n",
            "  File \"/content/RecSys_Course_AT_PoliMi/run_compile_all_cython.py\", line 59, in <module>\n",
            "    run_compile_subprocess(file_path, [file_name])\n",
            "  File \"/content/RecSys_Course_AT_PoliMi/CythonCompiler/run_compile_subprocess.py\", line 51, in run_compile_subprocess\n",
            "    raise exc\n",
            "  File \"/content/RecSys_Course_AT_PoliMi/CythonCompiler/run_compile_subprocess.py\", line 32, in run_compile_subprocess\n",
            "    output = subprocess.check_output(' '.join(command),\n",
            "  File \"/usr/lib/python3.10/subprocess.py\", line 421, in check_output\n",
            "    return run(*popenargs, stdout=PIPE, timeout=timeout, check=True,\n",
            "  File \"/usr/lib/python3.10/subprocess.py\", line 526, in run\n",
            "    raise CalledProcessError(retcode, process.args,\n",
            "subprocess.CalledProcessError: Command '/usr/bin/python3 /content/RecSys_Course_AT_PoliMi/CythonCompiler/compile_script.py Sparse_Matrix_Tree_CSR.pyx build_ext --inplace' returned non-zero exit status 1.\n",
            "Compiling [5/10]: Sparse_Matrix_Tree_CSR.pyx... FAIL: Command '/usr/bin/python3 /content/RecSys_Course_AT_PoliMi/CythonCompiler/compile_script.py Sparse_Matrix_Tree_CSR.pyx build_ext --inplace' returned non-zero exit status 1.\n",
            "\n",
            "Compiling [6/10]: Triangular_Matrix.pyx... \n",
            "warning: Triangular_Matrix.pyx:22:0: The 'IF' statement is deprecated and will be removed in a future Cython version. Consider using runtime conditions or C macros instead. See https://github.com/cython/cython/issues/4310\n",
            "In file included from \u001b[01m\u001b[K/usr/local/lib/python3.10/dist-packages/numpy/core/include/numpy/ndarraytypes.h:1948\u001b[m\u001b[K,\n",
            "                 from \u001b[01m\u001b[K/usr/local/lib/python3.10/dist-packages/numpy/core/include/numpy/ndarrayobject.h:12\u001b[m\u001b[K,\n",
            "                 from \u001b[01m\u001b[K/usr/local/lib/python3.10/dist-packages/numpy/core/include/numpy/arrayobject.h:5\u001b[m\u001b[K,\n",
            "                 from \u001b[01m\u001b[KTriangular_Matrix.c:1217\u001b[m\u001b[K:\n",
            "\u001b[01m\u001b[K/usr/local/lib/python3.10/dist-packages/numpy/core/include/numpy/npy_1_7_deprecated_api.h:17:2:\u001b[m\u001b[K \u001b[01;35m\u001b[Kwarning: \u001b[m\u001b[K#warning \"Using deprecated NumPy API, disable it with \" \"#define NPY_NO_DEPRECATED_API NPY_1_7_API_VERSION\" [\u001b[01;35m\u001b[K\u001b]8;;https://gcc.gnu.org/onlinedocs/gcc/Warning-Options.html#index-Wcpp\u0007-Wcpp\u001b]8;;\u0007\u001b[m\u001b[K]\n",
            "   17 | #\u001b[01;35m\u001b[Kwarning\u001b[m\u001b[K \"Using deprecated NumPy API, disable it with \" \\\n",
            "      |  \u001b[01;35m\u001b[K^~~~~~~\u001b[m\u001b[K\n",
            "In function ‘\u001b[01m\u001b[K__pyx_pf_17Triangular_Matrix_17Triangular_Matrix___init__\u001b[m\u001b[K’,\n",
            "    inlined from ‘\u001b[01m\u001b[K__pyx_pw_17Triangular_Matrix_17Triangular_Matrix_1__init__\u001b[m\u001b[K’ at \u001b[01m\u001b[KTriangular_Matrix.c:5532:13\u001b[m\u001b[K:\n",
            "\u001b[01m\u001b[KTriangular_Matrix.c:5590:43:\u001b[m\u001b[K \u001b[01;35m\u001b[Kwarning: \u001b[m\u001b[Kargument 1 value ‘\u001b[01m\u001b[K18446744073709551608\u001b[m\u001b[K’ exceeds maximum object size 9223372036854775807 [\u001b[01;35m\u001b[K\u001b]8;;https://gcc.gnu.org/onlinedocs/gcc/Warning-Options.html#index-Walloc-size-larger-than=\u0007-Walloc-size-larger-than=\u001b]8;;\u0007\u001b[m\u001b[K]\n",
            " 5590 |   __pyx_v_self->row_pointer = ((double **)\u001b[01;35m\u001b[Kmalloc((__pyx_v_self->num_rows * (sizeof(double *))))\u001b[m\u001b[K);\n",
            "      |                                           \u001b[01;35m\u001b[K^~~~~~~~~~~~~~~~~~~~~~~~~~~~~~~~~~~~~~~~~~~~~~~~~~~~~\u001b[m\u001b[K\n",
            "In file included from \u001b[01m\u001b[K/usr/include/python3.10/Python.h:34\u001b[m\u001b[K,\n",
            "                 from \u001b[01m\u001b[KTriangular_Matrix.c:41\u001b[m\u001b[K:\n",
            "\u001b[01m\u001b[KTriangular_Matrix.c:\u001b[m\u001b[K In function ‘\u001b[01m\u001b[K__pyx_pw_17Triangular_Matrix_17Triangular_Matrix_1__init__\u001b[m\u001b[K’:\n",
            "\u001b[01m\u001b[K/usr/include/stdlib.h:540:14:\u001b[m\u001b[K \u001b[01;36m\u001b[Knote: \u001b[m\u001b[Kin a call to allocation function ‘\u001b[01m\u001b[Kmalloc\u001b[m\u001b[K’ declared here\n",
            "  540 | extern void *\u001b[01;36m\u001b[Kmalloc\u001b[m\u001b[K (size_t __size) __THROW __attribute_malloc__\n",
            "      |              \u001b[01;36m\u001b[K^~~~~~\u001b[m\u001b[K\n",
            "/usr/local/lib/python3.10/dist-packages/Cython/Compiler/Main.py:381: FutureWarning: Cython directive 'language_level' not set, using '3str' for now (Py3). This has changed from earlier releases! File: /content/RecSys_Course_AT_PoliMi/Recommenders/SLIM/Cython/Triangular_Matrix.pyx\n",
            "  tree = Parsing.p_module(s, pxd, full_module_name)\n",
            "warning: Triangular_Matrix.pyx:22:0: The 'IF' statement is deprecated and will be removed in a future Cython version. Consider using runtime conditions or C macros instead. See https://github.com/cython/cython/issues/4310\n",
            "Compiling [6/10]: Triangular_Matrix.pyx... PASS\n",
            "\n",
            "Compiling [7/10]: CFW_DVV_Similarity_Cython_SGD.pyx... \n",
            "In file included from \u001b[01m\u001b[K/usr/local/lib/python3.10/dist-packages/numpy/core/include/numpy/ndarraytypes.h:1948\u001b[m\u001b[K,\n",
            "                 from \u001b[01m\u001b[K/usr/local/lib/python3.10/dist-packages/numpy/core/include/numpy/ndarrayobject.h:12\u001b[m\u001b[K,\n",
            "                 from \u001b[01m\u001b[K/usr/local/lib/python3.10/dist-packages/numpy/core/include/numpy/arrayobject.h:5\u001b[m\u001b[K,\n",
            "                 from \u001b[01m\u001b[KCFW_DVV_Similarity_Cython_SGD.c:1217\u001b[m\u001b[K:\n",
            "\u001b[01m\u001b[K/usr/local/lib/python3.10/dist-packages/numpy/core/include/numpy/npy_1_7_deprecated_api.h:17:2:\u001b[m\u001b[K \u001b[01;35m\u001b[Kwarning: \u001b[m\u001b[K#warning \"Using deprecated NumPy API, disable it with \" \"#define NPY_NO_DEPRECATED_API NPY_1_7_API_VERSION\" [\u001b[01;35m\u001b[K\u001b]8;;https://gcc.gnu.org/onlinedocs/gcc/Warning-Options.html#index-Wcpp\u0007-Wcpp\u001b]8;;\u0007\u001b[m\u001b[K]\n",
            "   17 | #\u001b[01;35m\u001b[Kwarning\u001b[m\u001b[K \"Using deprecated NumPy API, disable it with \" \\\n",
            "      |  \u001b[01;35m\u001b[K^~~~~~~\u001b[m\u001b[K\n",
            "/usr/local/lib/python3.10/dist-packages/Cython/Compiler/Main.py:381: FutureWarning: Cython directive 'language_level' not set, using '3str' for now (Py3). This has changed from earlier releases! File: /content/RecSys_Course_AT_PoliMi/Recommenders/FeatureWeighting/Cython/CFW_DVV_Similarity_Cython_SGD.pyx\n",
            "  tree = Parsing.p_module(s, pxd, full_module_name)\n",
            "Compiling [7/10]: CFW_DVV_Similarity_Cython_SGD.pyx... PASS\n",
            "\n",
            "Compiling [8/10]: HP3_Similarity_Cython_SGD.pyx... \n",
            "performance hint: HP3_Similarity_Cython_SGD.pyx:113:40: Index should be typed for more efficient access\n",
            "performance hint: HP3_Similarity_Cython_SGD.pyx:114:40: Index should be typed for more efficient access\n",
            "In file included from \u001b[01m\u001b[K/usr/local/lib/python3.10/dist-packages/numpy/core/include/numpy/ndarraytypes.h:1948\u001b[m\u001b[K,\n",
            "                 from \u001b[01m\u001b[K/usr/local/lib/python3.10/dist-packages/numpy/core/include/numpy/ndarrayobject.h:12\u001b[m\u001b[K,\n",
            "                 from \u001b[01m\u001b[K/usr/local/lib/python3.10/dist-packages/numpy/core/include/numpy/arrayobject.h:5\u001b[m\u001b[K,\n",
            "                 from \u001b[01m\u001b[KHP3_Similarity_Cython_SGD.c:1217\u001b[m\u001b[K:\n",
            "\u001b[01m\u001b[K/usr/local/lib/python3.10/dist-packages/numpy/core/include/numpy/npy_1_7_deprecated_api.h:17:2:\u001b[m\u001b[K \u001b[01;35m\u001b[Kwarning: \u001b[m\u001b[K#warning \"Using deprecated NumPy API, disable it with \" \"#define NPY_NO_DEPRECATED_API NPY_1_7_API_VERSION\" [\u001b[01;35m\u001b[K\u001b]8;;https://gcc.gnu.org/onlinedocs/gcc/Warning-Options.html#index-Wcpp\u0007-Wcpp\u001b]8;;\u0007\u001b[m\u001b[K]\n",
            "   17 | #\u001b[01;35m\u001b[Kwarning\u001b[m\u001b[K \"Using deprecated NumPy API, disable it with \" \\\n",
            "      |  \u001b[01;35m\u001b[K^~~~~~~\u001b[m\u001b[K\n",
            "\u001b[01m\u001b[KHP3_Similarity_Cython_SGD.c:\u001b[m\u001b[K In function ‘\u001b[01m\u001b[K__pyx_pf_25HP3_Similarity_Cython_SGD_25HP3_Similarity_Cython_SGD_4fit\u001b[m\u001b[K’:\n",
            "\u001b[01m\u001b[KHP3_Similarity_Cython_SGD.c:23633:55:\u001b[m\u001b[K \u001b[01;35m\u001b[Kwarning: \u001b[m\u001b[K‘\u001b[01m\u001b[K__pyx_v_sample_num\u001b[m\u001b[K’ may be used uninitialized in this function [\u001b[01;35m\u001b[K\u001b]8;;https://gcc.gnu.org/onlinedocs/gcc/Warning-Options.html#index-Wmaybe-uninitialized\u0007-Wmaybe-uninitialized\u001b]8;;\u0007\u001b[m\u001b[K]\n",
            "23633 |   __pyx_t_1 = PyFloat_FromDouble((__pyx_v_cum_loss / \u001b[01;35m\u001b[K((double)__pyx_v_sample_num)\u001b[m\u001b[K)); if (unlikely(!__pyx_t_1)) __PYX_ERR(0, 291, __pyx_L1_error)\n",
            "      |                                                      \u001b[01;35m\u001b[K~^~~~~~~~~~~~~~~~~~~~~~~~~~~\u001b[m\u001b[K\n",
            "/usr/local/lib/python3.10/dist-packages/Cython/Compiler/Main.py:381: FutureWarning: Cython directive 'language_level' not set, using '3str' for now (Py3). This has changed from earlier releases! File: /content/RecSys_Course_AT_PoliMi/Recommenders/FeatureWeighting/Cython/HP3_Similarity_Cython_SGD.pyx\n",
            "  tree = Parsing.p_module(s, pxd, full_module_name)\n",
            "performance hint: HP3_Similarity_Cython_SGD.pyx:113:40: Index should be typed for more efficient access\n",
            "performance hint: HP3_Similarity_Cython_SGD.pyx:114:40: Index should be typed for more efficient access\n",
            "Compiling [8/10]: HP3_Similarity_Cython_SGD.pyx... PASS\n",
            "\n",
            "Compiling [9/10]: CFW_D_Similarity_Cython_SGD.pyx... \n",
            "In file included from \u001b[01m\u001b[K/usr/local/lib/python3.10/dist-packages/numpy/core/include/numpy/ndarraytypes.h:1948\u001b[m\u001b[K,\n",
            "                 from \u001b[01m\u001b[K/usr/local/lib/python3.10/dist-packages/numpy/core/include/numpy/ndarrayobject.h:12\u001b[m\u001b[K,\n",
            "                 from \u001b[01m\u001b[K/usr/local/lib/python3.10/dist-packages/numpy/core/include/numpy/arrayobject.h:5\u001b[m\u001b[K,\n",
            "                 from \u001b[01m\u001b[KCFW_D_Similarity_Cython_SGD.c:1217\u001b[m\u001b[K:\n",
            "\u001b[01m\u001b[K/usr/local/lib/python3.10/dist-packages/numpy/core/include/numpy/npy_1_7_deprecated_api.h:17:2:\u001b[m\u001b[K \u001b[01;35m\u001b[Kwarning: \u001b[m\u001b[K#warning \"Using deprecated NumPy API, disable it with \" \"#define NPY_NO_DEPRECATED_API NPY_1_7_API_VERSION\" [\u001b[01;35m\u001b[K\u001b]8;;https://gcc.gnu.org/onlinedocs/gcc/Warning-Options.html#index-Wcpp\u0007-Wcpp\u001b]8;;\u0007\u001b[m\u001b[K]\n",
            "   17 | #\u001b[01;35m\u001b[Kwarning\u001b[m\u001b[K \"Using deprecated NumPy API, disable it with \" \\\n",
            "      |  \u001b[01;35m\u001b[K^~~~~~~\u001b[m\u001b[K\n",
            "\u001b[01m\u001b[KCFW_D_Similarity_Cython_SGD.c:\u001b[m\u001b[K In function ‘\u001b[01m\u001b[K__pyx_pf_27CFW_D_Similarity_Cython_SGD_27CFW_D_Similarity_Cython_SGD_6fit\u001b[m\u001b[K’:\n",
            "\u001b[01m\u001b[KCFW_D_Similarity_Cython_SGD.c:23364:55:\u001b[m\u001b[K \u001b[01;35m\u001b[Kwarning: \u001b[m\u001b[K‘\u001b[01m\u001b[K__pyx_v_sample_num\u001b[m\u001b[K’ may be used uninitialized in this function [\u001b[01;35m\u001b[K\u001b]8;;https://gcc.gnu.org/onlinedocs/gcc/Warning-Options.html#index-Wmaybe-uninitialized\u0007-Wmaybe-uninitialized\u001b]8;;\u0007\u001b[m\u001b[K]\n",
            "23364 |   __pyx_t_3 = PyFloat_FromDouble((__pyx_v_cum_loss / \u001b[01;35m\u001b[K((double)__pyx_v_sample_num)\u001b[m\u001b[K)); if (unlikely(!__pyx_t_3)) __PYX_ERR(0, 290, __pyx_L1_error)\n",
            "      |                                                      \u001b[01;35m\u001b[K~^~~~~~~~~~~~~~~~~~~~~~~~~~~\u001b[m\u001b[K\n",
            "/usr/local/lib/python3.10/dist-packages/Cython/Compiler/Main.py:381: FutureWarning: Cython directive 'language_level' not set, using '3str' for now (Py3). This has changed from earlier releases! File: /content/RecSys_Course_AT_PoliMi/Recommenders/FeatureWeighting/Cython/CFW_D_Similarity_Cython_SGD.pyx\n",
            "  tree = Parsing.p_module(s, pxd, full_module_name)\n",
            "Compiling [9/10]: CFW_D_Similarity_Cython_SGD.pyx... PASS\n",
            "\n",
            "Compiling [10/10]: FBSM_Rating_Cython_SGD.pyx... \n",
            "In file included from \u001b[01m\u001b[K/usr/local/lib/python3.10/dist-packages/numpy/core/include/numpy/ndarraytypes.h:1948\u001b[m\u001b[K,\n",
            "                 from \u001b[01m\u001b[K/usr/local/lib/python3.10/dist-packages/numpy/core/include/numpy/ndarrayobject.h:12\u001b[m\u001b[K,\n",
            "                 from \u001b[01m\u001b[K/usr/local/lib/python3.10/dist-packages/numpy/core/include/numpy/arrayobject.h:5\u001b[m\u001b[K,\n",
            "                 from \u001b[01m\u001b[KFBSM_Rating_Cython_SGD.c:1217\u001b[m\u001b[K:\n",
            "\u001b[01m\u001b[K/usr/local/lib/python3.10/dist-packages/numpy/core/include/numpy/npy_1_7_deprecated_api.h:17:2:\u001b[m\u001b[K \u001b[01;35m\u001b[Kwarning: \u001b[m\u001b[K#warning \"Using deprecated NumPy API, disable it with \" \"#define NPY_NO_DEPRECATED_API NPY_1_7_API_VERSION\" [\u001b[01;35m\u001b[K\u001b]8;;https://gcc.gnu.org/onlinedocs/gcc/Warning-Options.html#index-Wcpp\u0007-Wcpp\u001b]8;;\u0007\u001b[m\u001b[K]\n",
            "   17 | #\u001b[01;35m\u001b[Kwarning\u001b[m\u001b[K \"Using deprecated NumPy API, disable it with \" \\\n",
            "      |  \u001b[01;35m\u001b[K^~~~~~~\u001b[m\u001b[K\n",
            "\u001b[01m\u001b[KFBSM_Rating_Cython_SGD.c:\u001b[m\u001b[K In function ‘\u001b[01m\u001b[K__pyx_pf_22FBSM_Rating_Cython_SGD_22FBSM_Rating_Cython_SGD_2fit\u001b[m\u001b[K’:\n",
            "\u001b[01m\u001b[KFBSM_Rating_Cython_SGD.c:26598:55:\u001b[m\u001b[K \u001b[01;35m\u001b[Kwarning: \u001b[m\u001b[K‘\u001b[01m\u001b[K__pyx_v_num_sample\u001b[m\u001b[K’ may be used uninitialized in this function [\u001b[01;35m\u001b[K\u001b]8;;https://gcc.gnu.org/onlinedocs/gcc/Warning-Options.html#index-Wmaybe-uninitialized\u0007-Wmaybe-uninitialized\u001b]8;;\u0007\u001b[m\u001b[K]\n",
            "26598 |   __pyx_t_5 = PyFloat_FromDouble((__pyx_v_cum_loss / \u001b[01;35m\u001b[K((double)__pyx_v_num_sample)\u001b[m\u001b[K)); if (unlikely(!__pyx_t_5)) __PYX_ERR(0, 551, __pyx_L1_error)\n",
            "      |                                                      \u001b[01;35m\u001b[K~^~~~~~~~~~~~~~~~~~~~~~~~~~~\u001b[m\u001b[K\n",
            "/usr/local/lib/python3.10/dist-packages/Cython/Compiler/Main.py:381: FutureWarning: Cython directive 'language_level' not set, using '3str' for now (Py3). This has changed from earlier releases! File: /content/RecSys_Course_AT_PoliMi/Recommenders/FeatureWeighting/Cython/FBSM_Rating_Cython_SGD.pyx\n",
            "  tree = Parsing.p_module(s, pxd, full_module_name)\n",
            "Compiling [10/10]: FBSM_Rating_Cython_SGD.pyx... PASS\n",
            "\n",
            "run_compile_all_cython: Compilation finished. FAILS 2/10.\n",
            "Compilation log can be found here: './result_experiments/run_compile_all_cython.txt'\n"
          ]
        }
      ]
    },
    {
      "cell_type": "code",
      "execution_count": 2,
      "metadata": {
        "colab": {
          "base_uri": "https://localhost:8080/"
        },
        "id": "dRiWEqrkxI-A",
        "outputId": "29df0eb2-75a2-42c2-c935-7235520912f1"
      },
      "outputs": [
        {
          "output_type": "stream",
          "name": "stdout",
          "text": [
            "Mounted at /gdrive\n"
          ]
        }
      ],
      "source": [
        "from google.colab import drive\n",
        "drive.mount('/gdrive')"
      ]
    },
    {
      "cell_type": "markdown",
      "metadata": {
        "id": "eCC3N4HIxjjH"
      },
      "source": [
        "#Import Library"
      ]
    },
    {
      "cell_type": "code",
      "execution_count": 3,
      "metadata": {
        "id": "_Cc4espPxNMj",
        "colab": {
          "base_uri": "https://localhost:8080/"
        },
        "outputId": "26793d69-86dc-4ede-c0f2-d28eb39fc44e"
      },
      "outputs": [
        {
          "output_type": "stream",
          "name": "stdout",
          "text": [
            "Collecting optuna\n",
            "  Downloading optuna-3.4.0-py3-none-any.whl (409 kB)\n",
            "\u001b[2K     \u001b[90m━━━━━━━━━━━━━━━━━━━━━━━━━━━━━━━━━━━━━━━━\u001b[0m \u001b[32m409.6/409.6 kB\u001b[0m \u001b[31m7.0 MB/s\u001b[0m eta \u001b[36m0:00:00\u001b[0m\n",
            "\u001b[?25hCollecting alembic>=1.5.0 (from optuna)\n",
            "  Downloading alembic-1.12.1-py3-none-any.whl (226 kB)\n",
            "\u001b[2K     \u001b[90m━━━━━━━━━━━━━━━━━━━━━━━━━━━━━━━━━━━━━━━━\u001b[0m \u001b[32m226.8/226.8 kB\u001b[0m \u001b[31m10.4 MB/s\u001b[0m eta \u001b[36m0:00:00\u001b[0m\n",
            "\u001b[?25hCollecting colorlog (from optuna)\n",
            "  Downloading colorlog-6.7.0-py2.py3-none-any.whl (11 kB)\n",
            "Requirement already satisfied: numpy in /usr/local/lib/python3.10/dist-packages (from optuna) (1.23.5)\n",
            "Requirement already satisfied: packaging>=20.0 in /usr/local/lib/python3.10/dist-packages (from optuna) (23.2)\n",
            "Requirement already satisfied: sqlalchemy>=1.3.0 in /usr/local/lib/python3.10/dist-packages (from optuna) (2.0.23)\n",
            "Requirement already satisfied: tqdm in /usr/local/lib/python3.10/dist-packages (from optuna) (4.66.1)\n",
            "Requirement already satisfied: PyYAML in /usr/local/lib/python3.10/dist-packages (from optuna) (6.0.1)\n",
            "Collecting Mako (from alembic>=1.5.0->optuna)\n",
            "  Downloading Mako-1.3.0-py3-none-any.whl (78 kB)\n",
            "\u001b[2K     \u001b[90m━━━━━━━━━━━━━━━━━━━━━━━━━━━━━━━━━━━━━━━━\u001b[0m \u001b[32m78.6/78.6 kB\u001b[0m \u001b[31m12.2 MB/s\u001b[0m eta \u001b[36m0:00:00\u001b[0m\n",
            "\u001b[?25hRequirement already satisfied: typing-extensions>=4 in /usr/local/lib/python3.10/dist-packages (from alembic>=1.5.0->optuna) (4.5.0)\n",
            "Requirement already satisfied: greenlet!=0.4.17 in /usr/local/lib/python3.10/dist-packages (from sqlalchemy>=1.3.0->optuna) (3.0.1)\n",
            "Requirement already satisfied: MarkupSafe>=0.9.2 in /usr/local/lib/python3.10/dist-packages (from Mako->alembic>=1.5.0->optuna) (2.1.3)\n",
            "Installing collected packages: Mako, colorlog, alembic, optuna\n",
            "Successfully installed Mako-1.3.0 alembic-1.12.1 colorlog-6.7.0 optuna-3.4.0\n"
          ]
        }
      ],
      "source": [
        "import pandas as pd\n",
        "import numpy as np\n",
        "import matplotlib.pyplot as plt\n",
        "from sklearn.model_selection import train_test_split\n",
        "import scipy.sparse as sp\n",
        "from typing import Tuple, Callable, Dict, Optional, List\n",
        "from scipy.stats import loguniform\n",
        "!pip install optuna\n",
        "import optuna"
      ]
    },
    {
      "cell_type": "code",
      "source": [
        "import warnings\n",
        "import logging\n",
        "warnings.simplefilter(action='ignore', category=FutureWarning)\n",
        "warnings.simplefilter(action='ignore', category=Warning)"
      ],
      "metadata": {
        "id": "Z9iaNqNWCaP5"
      },
      "execution_count": 4,
      "outputs": []
    },
    {
      "cell_type": "markdown",
      "metadata": {
        "id": "GnP3Qb-nzW3F"
      },
      "source": [
        "#Load Data"
      ]
    },
    {
      "cell_type": "code",
      "execution_count": 5,
      "metadata": {
        "id": "EmCzZHO8xnHS",
        "colab": {
          "base_uri": "https://localhost:8080/"
        },
        "outputId": "bcae8b60-244a-4f68-d961-de9731e377d1"
      },
      "outputs": [
        {
          "output_type": "stream",
          "name": "stdout",
          "text": [
            "/gdrive/MyDrive/RECSYS\n",
            "/gdrive/MyDrive/RECSYS/RecSys_Course_AT_PoliMi\n"
          ]
        }
      ],
      "source": [
        "%cd /gdrive/MyDrive/RECSYS\n",
        "data_train = pd.read_csv('data_train.csv')\n",
        "data_target_users_test = pd.read_csv('data_target_users_test.csv')\n",
        "%cd RecSys_Course_AT_PoliMi"
      ]
    },
    {
      "cell_type": "code",
      "execution_count": 6,
      "metadata": {
        "id": "Vh_4xGA8xzyV"
      },
      "outputs": [],
      "source": [
        "data_train.columns = [\"user_id\", \"item_id\", \"Interaction\"]"
      ]
    },
    {
      "cell_type": "code",
      "execution_count": 7,
      "metadata": {
        "id": "dtUrQBPlzSEc",
        "colab": {
          "base_uri": "https://localhost:8080/"
        },
        "outputId": "48bc582f-f7b1-4006-9532-666a8e5012c3"
      },
      "outputs": [
        {
          "output_type": "stream",
          "name": "stdout",
          "text": [
            "The number of interactions is 478730\n"
          ]
        }
      ],
      "source": [
        "print (\"The number of interactions is {}\".format(len(data_train)))"
      ]
    },
    {
      "cell_type": "code",
      "execution_count": 8,
      "metadata": {
        "id": "aiHSbCzyzUk7"
      },
      "outputs": [],
      "source": [
        "userID_unique = data_train[\"user_id\"].unique()\n",
        "itemID_unique = data_train[\"item_id\"].unique()"
      ]
    },
    {
      "cell_type": "code",
      "execution_count": 9,
      "metadata": {
        "id": "VoJy1s8Tzamf",
        "colab": {
          "base_uri": "https://localhost:8080/"
        },
        "outputId": "c30d1460-e914-4b77-e6f5-98f9a4eb8f2f"
      },
      "outputs": [
        {
          "output_type": "stream",
          "name": "stdout",
          "text": [
            "Number of items\t 22222, Number of users\t 12638\n",
            "Max ID items\t 22347, Max Id users\t 13024\n",
            "\n"
          ]
        }
      ],
      "source": [
        "n_users = len(userID_unique)\n",
        "n_items = len(itemID_unique)\n",
        "n_interactions = len(data_train)\n",
        "\n",
        "print (\"Number of items\\t {}, Number of users\\t {}\".format(n_items, n_users))\n",
        "print (\"Max ID items\\t {}, Max Id users\\t {}\\n\".format(max(itemID_unique), max(userID_unique)))"
      ]
    },
    {
      "cell_type": "markdown",
      "metadata": {
        "id": "1IB-Aujzz9OV"
      },
      "source": [
        "#Splitting Data"
      ]
    },
    {
      "cell_type": "code",
      "execution_count": 10,
      "metadata": {
        "id": "rv9buSlx5F_U"
      },
      "outputs": [],
      "source": [
        "def preprocess_data(interactions: pd.DataFrame):\n",
        "    unique_users = interactions.user_id.unique()\n",
        "    unique_items = interactions.item_id.unique()\n",
        "\n",
        "    num_users, min_user_id, max_user_id = unique_users.size, unique_users.min(), unique_users.max()\n",
        "    num_items, min_item_id, max_item_id = unique_items.size, unique_items.min(), unique_items.max()\n",
        "\n",
        "    print(num_users, min_user_id, max_user_id)\n",
        "    print(num_items, min_item_id, max_item_id)\n",
        "\n",
        "    mapping_user_id = pd.DataFrame({\"mapped_user_id\": np.arange(num_users), \"user_id\": unique_users})\n",
        "    mapping_item_id = pd.DataFrame({\"mapped_item_id\": np.arange(num_items), \"item_id\": unique_items})\n",
        "\n",
        "    interactions = pd.merge(left=interactions,\n",
        "                       right=mapping_user_id,\n",
        "                       how=\"inner\",\n",
        "                       on=\"user_id\")\n",
        "\n",
        "    interactions = pd.merge(left=interactions,\n",
        "                       right=mapping_item_id,\n",
        "                       how=\"inner\",\n",
        "                       on=\"item_id\")\n",
        "\n",
        "    return interactions\n"
      ]
    },
    {
      "cell_type": "code",
      "execution_count": 11,
      "metadata": {
        "id": "P7n04nV95Mc-",
        "colab": {
          "base_uri": "https://localhost:8080/"
        },
        "outputId": "378b10e2-2a65-4fb5-8777-4a346483e723"
      },
      "outputs": [
        {
          "output_type": "stream",
          "name": "stdout",
          "text": [
            "12638 1 13024\n",
            "22222 1 22347\n"
          ]
        }
      ],
      "source": [
        "interactions = preprocess_data(data_train)"
      ]
    },
    {
      "cell_type": "code",
      "execution_count": 12,
      "metadata": {
        "id": "B41fKtAp5wIO",
        "colab": {
          "base_uri": "https://localhost:8080/",
          "height": 0
        },
        "outputId": "2f0274d9-8c45-4023-a636-01dae56e63b2"
      },
      "outputs": [
        {
          "output_type": "execute_result",
          "data": {
            "text/plain": [
              "        user_id  item_id  Interaction  mapped_user_id  mapped_item_id\n",
              "0             1        7          1.0               0               0\n",
              "1             2        7          1.0               1               0\n",
              "2            26        7          1.0              24               0\n",
              "3            36        7          1.0              34               0\n",
              "4            41        7          1.0              39               0\n",
              "...         ...      ...          ...             ...             ...\n",
              "478725    12962    20368          1.0           12579           22217\n",
              "478726    12985    21058          1.0           12601           22218\n",
              "478727    12989    22317          1.0           12605           22219\n",
              "478728    13009    22339          1.0           12624           22220\n",
              "478729    13021    21466          1.0           12634           22221\n",
              "\n",
              "[478730 rows x 5 columns]"
            ],
            "text/html": [
              "\n",
              "  <div id=\"df-4200436d-b2e8-48ef-b497-f29d9db5af57\" class=\"colab-df-container\">\n",
              "    <div>\n",
              "<style scoped>\n",
              "    .dataframe tbody tr th:only-of-type {\n",
              "        vertical-align: middle;\n",
              "    }\n",
              "\n",
              "    .dataframe tbody tr th {\n",
              "        vertical-align: top;\n",
              "    }\n",
              "\n",
              "    .dataframe thead th {\n",
              "        text-align: right;\n",
              "    }\n",
              "</style>\n",
              "<table border=\"1\" class=\"dataframe\">\n",
              "  <thead>\n",
              "    <tr style=\"text-align: right;\">\n",
              "      <th></th>\n",
              "      <th>user_id</th>\n",
              "      <th>item_id</th>\n",
              "      <th>Interaction</th>\n",
              "      <th>mapped_user_id</th>\n",
              "      <th>mapped_item_id</th>\n",
              "    </tr>\n",
              "  </thead>\n",
              "  <tbody>\n",
              "    <tr>\n",
              "      <th>0</th>\n",
              "      <td>1</td>\n",
              "      <td>7</td>\n",
              "      <td>1.0</td>\n",
              "      <td>0</td>\n",
              "      <td>0</td>\n",
              "    </tr>\n",
              "    <tr>\n",
              "      <th>1</th>\n",
              "      <td>2</td>\n",
              "      <td>7</td>\n",
              "      <td>1.0</td>\n",
              "      <td>1</td>\n",
              "      <td>0</td>\n",
              "    </tr>\n",
              "    <tr>\n",
              "      <th>2</th>\n",
              "      <td>26</td>\n",
              "      <td>7</td>\n",
              "      <td>1.0</td>\n",
              "      <td>24</td>\n",
              "      <td>0</td>\n",
              "    </tr>\n",
              "    <tr>\n",
              "      <th>3</th>\n",
              "      <td>36</td>\n",
              "      <td>7</td>\n",
              "      <td>1.0</td>\n",
              "      <td>34</td>\n",
              "      <td>0</td>\n",
              "    </tr>\n",
              "    <tr>\n",
              "      <th>4</th>\n",
              "      <td>41</td>\n",
              "      <td>7</td>\n",
              "      <td>1.0</td>\n",
              "      <td>39</td>\n",
              "      <td>0</td>\n",
              "    </tr>\n",
              "    <tr>\n",
              "      <th>...</th>\n",
              "      <td>...</td>\n",
              "      <td>...</td>\n",
              "      <td>...</td>\n",
              "      <td>...</td>\n",
              "      <td>...</td>\n",
              "    </tr>\n",
              "    <tr>\n",
              "      <th>478725</th>\n",
              "      <td>12962</td>\n",
              "      <td>20368</td>\n",
              "      <td>1.0</td>\n",
              "      <td>12579</td>\n",
              "      <td>22217</td>\n",
              "    </tr>\n",
              "    <tr>\n",
              "      <th>478726</th>\n",
              "      <td>12985</td>\n",
              "      <td>21058</td>\n",
              "      <td>1.0</td>\n",
              "      <td>12601</td>\n",
              "      <td>22218</td>\n",
              "    </tr>\n",
              "    <tr>\n",
              "      <th>478727</th>\n",
              "      <td>12989</td>\n",
              "      <td>22317</td>\n",
              "      <td>1.0</td>\n",
              "      <td>12605</td>\n",
              "      <td>22219</td>\n",
              "    </tr>\n",
              "    <tr>\n",
              "      <th>478728</th>\n",
              "      <td>13009</td>\n",
              "      <td>22339</td>\n",
              "      <td>1.0</td>\n",
              "      <td>12624</td>\n",
              "      <td>22220</td>\n",
              "    </tr>\n",
              "    <tr>\n",
              "      <th>478729</th>\n",
              "      <td>13021</td>\n",
              "      <td>21466</td>\n",
              "      <td>1.0</td>\n",
              "      <td>12634</td>\n",
              "      <td>22221</td>\n",
              "    </tr>\n",
              "  </tbody>\n",
              "</table>\n",
              "<p>478730 rows × 5 columns</p>\n",
              "</div>\n",
              "    <div class=\"colab-df-buttons\">\n",
              "\n",
              "  <div class=\"colab-df-container\">\n",
              "    <button class=\"colab-df-convert\" onclick=\"convertToInteractive('df-4200436d-b2e8-48ef-b497-f29d9db5af57')\"\n",
              "            title=\"Convert this dataframe to an interactive table.\"\n",
              "            style=\"display:none;\">\n",
              "\n",
              "  <svg xmlns=\"http://www.w3.org/2000/svg\" height=\"24px\" viewBox=\"0 -960 960 960\">\n",
              "    <path d=\"M120-120v-720h720v720H120Zm60-500h600v-160H180v160Zm220 220h160v-160H400v160Zm0 220h160v-160H400v160ZM180-400h160v-160H180v160Zm440 0h160v-160H620v160ZM180-180h160v-160H180v160Zm440 0h160v-160H620v160Z\"/>\n",
              "  </svg>\n",
              "    </button>\n",
              "\n",
              "  <style>\n",
              "    .colab-df-container {\n",
              "      display:flex;\n",
              "      gap: 12px;\n",
              "    }\n",
              "\n",
              "    .colab-df-convert {\n",
              "      background-color: #E8F0FE;\n",
              "      border: none;\n",
              "      border-radius: 50%;\n",
              "      cursor: pointer;\n",
              "      display: none;\n",
              "      fill: #1967D2;\n",
              "      height: 32px;\n",
              "      padding: 0 0 0 0;\n",
              "      width: 32px;\n",
              "    }\n",
              "\n",
              "    .colab-df-convert:hover {\n",
              "      background-color: #E2EBFA;\n",
              "      box-shadow: 0px 1px 2px rgba(60, 64, 67, 0.3), 0px 1px 3px 1px rgba(60, 64, 67, 0.15);\n",
              "      fill: #174EA6;\n",
              "    }\n",
              "\n",
              "    .colab-df-buttons div {\n",
              "      margin-bottom: 4px;\n",
              "    }\n",
              "\n",
              "    [theme=dark] .colab-df-convert {\n",
              "      background-color: #3B4455;\n",
              "      fill: #D2E3FC;\n",
              "    }\n",
              "\n",
              "    [theme=dark] .colab-df-convert:hover {\n",
              "      background-color: #434B5C;\n",
              "      box-shadow: 0px 1px 3px 1px rgba(0, 0, 0, 0.15);\n",
              "      filter: drop-shadow(0px 1px 2px rgba(0, 0, 0, 0.3));\n",
              "      fill: #FFFFFF;\n",
              "    }\n",
              "  </style>\n",
              "\n",
              "    <script>\n",
              "      const buttonEl =\n",
              "        document.querySelector('#df-4200436d-b2e8-48ef-b497-f29d9db5af57 button.colab-df-convert');\n",
              "      buttonEl.style.display =\n",
              "        google.colab.kernel.accessAllowed ? 'block' : 'none';\n",
              "\n",
              "      async function convertToInteractive(key) {\n",
              "        const element = document.querySelector('#df-4200436d-b2e8-48ef-b497-f29d9db5af57');\n",
              "        const dataTable =\n",
              "          await google.colab.kernel.invokeFunction('convertToInteractive',\n",
              "                                                    [key], {});\n",
              "        if (!dataTable) return;\n",
              "\n",
              "        const docLinkHtml = 'Like what you see? Visit the ' +\n",
              "          '<a target=\"_blank\" href=https://colab.research.google.com/notebooks/data_table.ipynb>data table notebook</a>'\n",
              "          + ' to learn more about interactive tables.';\n",
              "        element.innerHTML = '';\n",
              "        dataTable['output_type'] = 'display_data';\n",
              "        await google.colab.output.renderOutput(dataTable, element);\n",
              "        const docLink = document.createElement('div');\n",
              "        docLink.innerHTML = docLinkHtml;\n",
              "        element.appendChild(docLink);\n",
              "      }\n",
              "    </script>\n",
              "  </div>\n",
              "\n",
              "\n",
              "<div id=\"df-6e845753-4e58-4eb7-802e-8b1467d48484\">\n",
              "  <button class=\"colab-df-quickchart\" onclick=\"quickchart('df-6e845753-4e58-4eb7-802e-8b1467d48484')\"\n",
              "            title=\"Suggest charts\"\n",
              "            style=\"display:none;\">\n",
              "\n",
              "<svg xmlns=\"http://www.w3.org/2000/svg\" height=\"24px\"viewBox=\"0 0 24 24\"\n",
              "     width=\"24px\">\n",
              "    <g>\n",
              "        <path d=\"M19 3H5c-1.1 0-2 .9-2 2v14c0 1.1.9 2 2 2h14c1.1 0 2-.9 2-2V5c0-1.1-.9-2-2-2zM9 17H7v-7h2v7zm4 0h-2V7h2v10zm4 0h-2v-4h2v4z\"/>\n",
              "    </g>\n",
              "</svg>\n",
              "  </button>\n",
              "\n",
              "<style>\n",
              "  .colab-df-quickchart {\n",
              "      --bg-color: #E8F0FE;\n",
              "      --fill-color: #1967D2;\n",
              "      --hover-bg-color: #E2EBFA;\n",
              "      --hover-fill-color: #174EA6;\n",
              "      --disabled-fill-color: #AAA;\n",
              "      --disabled-bg-color: #DDD;\n",
              "  }\n",
              "\n",
              "  [theme=dark] .colab-df-quickchart {\n",
              "      --bg-color: #3B4455;\n",
              "      --fill-color: #D2E3FC;\n",
              "      --hover-bg-color: #434B5C;\n",
              "      --hover-fill-color: #FFFFFF;\n",
              "      --disabled-bg-color: #3B4455;\n",
              "      --disabled-fill-color: #666;\n",
              "  }\n",
              "\n",
              "  .colab-df-quickchart {\n",
              "    background-color: var(--bg-color);\n",
              "    border: none;\n",
              "    border-radius: 50%;\n",
              "    cursor: pointer;\n",
              "    display: none;\n",
              "    fill: var(--fill-color);\n",
              "    height: 32px;\n",
              "    padding: 0;\n",
              "    width: 32px;\n",
              "  }\n",
              "\n",
              "  .colab-df-quickchart:hover {\n",
              "    background-color: var(--hover-bg-color);\n",
              "    box-shadow: 0 1px 2px rgba(60, 64, 67, 0.3), 0 1px 3px 1px rgba(60, 64, 67, 0.15);\n",
              "    fill: var(--button-hover-fill-color);\n",
              "  }\n",
              "\n",
              "  .colab-df-quickchart-complete:disabled,\n",
              "  .colab-df-quickchart-complete:disabled:hover {\n",
              "    background-color: var(--disabled-bg-color);\n",
              "    fill: var(--disabled-fill-color);\n",
              "    box-shadow: none;\n",
              "  }\n",
              "\n",
              "  .colab-df-spinner {\n",
              "    border: 2px solid var(--fill-color);\n",
              "    border-color: transparent;\n",
              "    border-bottom-color: var(--fill-color);\n",
              "    animation:\n",
              "      spin 1s steps(1) infinite;\n",
              "  }\n",
              "\n",
              "  @keyframes spin {\n",
              "    0% {\n",
              "      border-color: transparent;\n",
              "      border-bottom-color: var(--fill-color);\n",
              "      border-left-color: var(--fill-color);\n",
              "    }\n",
              "    20% {\n",
              "      border-color: transparent;\n",
              "      border-left-color: var(--fill-color);\n",
              "      border-top-color: var(--fill-color);\n",
              "    }\n",
              "    30% {\n",
              "      border-color: transparent;\n",
              "      border-left-color: var(--fill-color);\n",
              "      border-top-color: var(--fill-color);\n",
              "      border-right-color: var(--fill-color);\n",
              "    }\n",
              "    40% {\n",
              "      border-color: transparent;\n",
              "      border-right-color: var(--fill-color);\n",
              "      border-top-color: var(--fill-color);\n",
              "    }\n",
              "    60% {\n",
              "      border-color: transparent;\n",
              "      border-right-color: var(--fill-color);\n",
              "    }\n",
              "    80% {\n",
              "      border-color: transparent;\n",
              "      border-right-color: var(--fill-color);\n",
              "      border-bottom-color: var(--fill-color);\n",
              "    }\n",
              "    90% {\n",
              "      border-color: transparent;\n",
              "      border-bottom-color: var(--fill-color);\n",
              "    }\n",
              "  }\n",
              "</style>\n",
              "\n",
              "  <script>\n",
              "    async function quickchart(key) {\n",
              "      const quickchartButtonEl =\n",
              "        document.querySelector('#' + key + ' button');\n",
              "      quickchartButtonEl.disabled = true;  // To prevent multiple clicks.\n",
              "      quickchartButtonEl.classList.add('colab-df-spinner');\n",
              "      try {\n",
              "        const charts = await google.colab.kernel.invokeFunction(\n",
              "            'suggestCharts', [key], {});\n",
              "      } catch (error) {\n",
              "        console.error('Error during call to suggestCharts:', error);\n",
              "      }\n",
              "      quickchartButtonEl.classList.remove('colab-df-spinner');\n",
              "      quickchartButtonEl.classList.add('colab-df-quickchart-complete');\n",
              "    }\n",
              "    (() => {\n",
              "      let quickchartButtonEl =\n",
              "        document.querySelector('#df-6e845753-4e58-4eb7-802e-8b1467d48484 button');\n",
              "      quickchartButtonEl.style.display =\n",
              "        google.colab.kernel.accessAllowed ? 'block' : 'none';\n",
              "    })();\n",
              "  </script>\n",
              "</div>\n",
              "    </div>\n",
              "  </div>\n"
            ]
          },
          "metadata": {},
          "execution_count": 12
        }
      ],
      "source": [
        "interactions"
      ]
    },
    {
      "cell_type": "code",
      "execution_count": 13,
      "metadata": {
        "id": "BeQy3iIM3NWS"
      },
      "outputs": [],
      "source": [
        "def dataset_splits(interactions, num_users, num_items, validation_percentage: float, testing_percentage: float):\n",
        "    seed = 1234\n",
        "\n",
        "    (user_ids_training, user_ids_test,\n",
        "     item_ids_training, item_ids_test,\n",
        "     interactions_training, interactions_test) = train_test_split(interactions.mapped_user_id,\n",
        "                                                        interactions.mapped_item_id,\n",
        "                                                        interactions.Interaction,\n",
        "                                                        test_size=testing_percentage,\n",
        "                                                        shuffle=True,\n",
        "                                                        random_state=seed)\n",
        "\n",
        "    (user_ids_training, user_ids_validation,\n",
        "     item_ids_training, item_ids_validation,\n",
        "     interactions_training, interactions_validation) = train_test_split(user_ids_training,\n",
        "                                                              item_ids_training,\n",
        "                                                              interactions_training,\n",
        "                                                              test_size=validation_percentage,\n",
        "                                                             )\n",
        "\n",
        "    urm_train = sp.csr_matrix((interactions_training, (user_ids_training, item_ids_training)),\n",
        "                              shape=(num_users, num_items))\n",
        "\n",
        "    urm_validation = sp.csr_matrix((interactions_validation, (user_ids_validation, item_ids_validation)),\n",
        "                              shape=(num_users, num_items))\n",
        "\n",
        "    urm_test = sp.csr_matrix((interactions_test, (user_ids_test, item_ids_test)),\n",
        "                              shape=(num_users, num_items))\n",
        "\n",
        "\n",
        "\n",
        "    return urm_train, urm_validation, urm_test\n",
        "\n"
      ]
    },
    {
      "cell_type": "code",
      "execution_count": 14,
      "metadata": {
        "id": "_haTw9z74REP"
      },
      "outputs": [],
      "source": [
        "urm_train, urm_validation, urm_test = dataset_splits(interactions,\n",
        "                                                     num_users=12638,\n",
        "                                                     num_items=22222,\n",
        "                                                     validation_percentage=0.20,\n",
        "                                                     testing_percentage=0.20)"
      ]
    },
    {
      "cell_type": "code",
      "execution_count": 15,
      "metadata": {
        "id": "XZm4RgMl6_o4",
        "colab": {
          "base_uri": "https://localhost:8080/"
        },
        "outputId": "6f165ac8-6562-4d7a-87c3-2ae99d6e1946"
      },
      "outputs": [
        {
          "output_type": "execute_result",
          "data": {
            "text/plain": [
              "<12638x22222 sparse matrix of type '<class 'numpy.float64'>'\n",
              "\twith 306387 stored elements in Compressed Sparse Row format>"
            ]
          },
          "metadata": {},
          "execution_count": 15
        }
      ],
      "source": [
        "urm_train"
      ]
    },
    {
      "cell_type": "code",
      "execution_count": 16,
      "metadata": {
        "id": "Z22fMerd7DDD",
        "colab": {
          "base_uri": "https://localhost:8080/"
        },
        "outputId": "159876f9-b4ad-45a7-f55a-e420820c2135"
      },
      "outputs": [
        {
          "output_type": "execute_result",
          "data": {
            "text/plain": [
              "<12638x22222 sparse matrix of type '<class 'numpy.float64'>'\n",
              "\twith 76597 stored elements in Compressed Sparse Row format>"
            ]
          },
          "metadata": {},
          "execution_count": 16
        }
      ],
      "source": [
        "urm_validation"
      ]
    },
    {
      "cell_type": "code",
      "execution_count": 17,
      "metadata": {
        "id": "NXb7krZq7E07",
        "colab": {
          "base_uri": "https://localhost:8080/"
        },
        "outputId": "a5f047c2-60aa-41bd-c538-cb5f1c755ad0"
      },
      "outputs": [
        {
          "output_type": "execute_result",
          "data": {
            "text/plain": [
              "<12638x22222 sparse matrix of type '<class 'numpy.float64'>'\n",
              "\twith 95746 stored elements in Compressed Sparse Row format>"
            ]
          },
          "metadata": {},
          "execution_count": 17
        }
      ],
      "source": [
        "urm_test"
      ]
    },
    {
      "cell_type": "markdown",
      "metadata": {
        "id": "H9nAar4i78dQ"
      },
      "source": [
        "#Build the Recommendation System"
      ]
    },
    {
      "cell_type": "code",
      "source": [
        "from Evaluation.Evaluator import EvaluatorHoldout\n",
        "\n",
        "evaluator_validation = EvaluatorHoldout(urm_validation, cutoff_list=[10])\n",
        "evaluator_test = EvaluatorHoldout(urm_test, cutoff_list=[10])"
      ],
      "metadata": {
        "id": "ZC_ebyrAOfyC",
        "colab": {
          "base_uri": "https://localhost:8080/"
        },
        "outputId": "30798a1f-1e82-470c-fb38-b84cd478b20f"
      },
      "execution_count": 18,
      "outputs": [
        {
          "output_type": "stream",
          "name": "stdout",
          "text": [
            "EvaluatorHoldout: Ignoring 2617 (20.7%) Users that have less than 1 test interactions\n",
            "EvaluatorHoldout: Ignoring 2152 (17.0%) Users that have less than 1 test interactions\n"
          ]
        }
      ]
    },
    {
      "cell_type": "code",
      "source": [
        "class SaveResults(object):\n",
        "\n",
        "    def __init__(self):\n",
        "        self.results_df = pd.DataFrame()\n",
        "\n",
        "    def __call__(self, optuna_study, optuna_trial):\n",
        "        hyperparam_dict = optuna_trial.params.copy()\n",
        "        hyperparam_dict[\"result\"] = optuna_trial.values[0]\n",
        "\n",
        "        self.results_df = self.results_df.append(hyperparam_dict, ignore_index=True)"
      ],
      "metadata": {
        "id": "0LO4rh4ddXvN"
      },
      "execution_count": 19,
      "outputs": []
    },
    {
      "cell_type": "code",
      "source": [
        "from Recommenders.GraphBased.RP3betaRecommender import RP3betaRecommender\n",
        "def objective_function_slim_bpr(optuna_trial):\n",
        "\n",
        "    recommender_instance = RP3betaRecommender(urm_train)\n",
        "\n",
        "\n",
        "    recommender_instance.fit(topK = optuna_trial.suggest_int(\"topK\", 1, 100),\n",
        "                  alpha = optuna_trial.suggest_float(\"alpha\", 1e-2, 1, log=True),\n",
        "                  beta = optuna_trial.suggest_float(\"beta\", 1e-3, 1, log=True),\n",
        "                  implicit = False,\n",
        "                  normalize_similarity = True )\n",
        "\n",
        "    result_df, _ = evaluator_validation.evaluateRecommender(recommender_instance)\n",
        "\n",
        "    return result_df.loc[10][\"MAP\"]"
      ],
      "metadata": {
        "id": "m4_UAV2DzwwT"
      },
      "execution_count": 19,
      "outputs": []
    },
    {
      "cell_type": "code",
      "source": [
        "optuna_study = optuna.create_study(direction=\"maximize\")\n",
        "\n",
        "save_results = SaveResults()\n",
        "\n",
        "optuna_study.optimize(objective_function_slim_bpr,\n",
        "                      callbacks=[save_results],\n",
        "                      n_trials = 200)"
      ],
      "metadata": {
        "colab": {
          "base_uri": "https://localhost:8080/"
        },
        "id": "9-1aMgH904MF",
        "outputId": "771ed6ec-7de2-4777-969e-30c94dbbe4b9"
      },
      "execution_count": 22,
      "outputs": [
        {
          "output_type": "stream",
          "name": "stderr",
          "text": [
            "[I 2023-11-27 08:16:31,022] A new study created in memory with name: no-name-acc358fb-5299-41ab-a097-c277e3f7323b\n"
          ]
        },
        {
          "output_type": "stream",
          "name": "stdout",
          "text": [
            "RP3betaRecommender: URM Detected 466 ( 3.7%) users with no interactions.\n",
            "RP3betaRecommender: URM Detected 322 ( 1.4%) items with no interactions.\n",
            "RP3betaRecommender: Similarity column 22222 (100.0%), 2221.12 column/sec. Elapsed time 10.00 sec\n",
            "EvaluatorHoldout: Processed 10039 (100.0%) in 6.02 sec. Users per second: 1668\n"
          ]
        },
        {
          "output_type": "stream",
          "name": "stderr",
          "text": [
            "[I 2023-11-27 08:16:47,876] Trial 0 finished with value: 0.025150156453324152 and parameters: {'topK': 15, 'alpha': 0.755195881724507, 'beta': 0.12199786123800652}. Best is trial 0 with value: 0.025150156453324152.\n"
          ]
        },
        {
          "output_type": "stream",
          "name": "stdout",
          "text": [
            "RP3betaRecommender: URM Detected 466 ( 3.7%) users with no interactions.\n",
            "RP3betaRecommender: URM Detected 322 ( 1.4%) items with no interactions.\n",
            "RP3betaRecommender: Similarity column 22222 (100.0%), 1979.74 column/sec. Elapsed time 11.22 sec\n",
            "EvaluatorHoldout: Processed 10039 (100.0%) in 6.61 sec. Users per second: 1518\n"
          ]
        },
        {
          "output_type": "stream",
          "name": "stderr",
          "text": [
            "[I 2023-11-27 08:17:07,867] Trial 1 finished with value: 0.028923393210922067 and parameters: {'topK': 81, 'alpha': 0.010600033373641933, 'beta': 0.04542667521682959}. Best is trial 1 with value: 0.028923393210922067.\n"
          ]
        },
        {
          "output_type": "stream",
          "name": "stdout",
          "text": [
            "RP3betaRecommender: URM Detected 466 ( 3.7%) users with no interactions.\n",
            "RP3betaRecommender: URM Detected 322 ( 1.4%) items with no interactions.\n",
            "RP3betaRecommender: Similarity column 22222 (100.0%), 2240.97 column/sec. Elapsed time 9.92 sec\n",
            "EvaluatorHoldout: Processed 10039 (100.0%) in 6.03 sec. Users per second: 1665\n"
          ]
        },
        {
          "output_type": "stream",
          "name": "stderr",
          "text": [
            "[I 2023-11-27 08:17:24,815] Trial 2 finished with value: 0.027761108660351756 and parameters: {'topK': 25, 'alpha': 0.012177064638142537, 'beta': 0.030128469860119647}. Best is trial 1 with value: 0.028923393210922067.\n"
          ]
        },
        {
          "output_type": "stream",
          "name": "stdout",
          "text": [
            "RP3betaRecommender: URM Detected 466 ( 3.7%) users with no interactions.\n",
            "RP3betaRecommender: URM Detected 322 ( 1.4%) items with no interactions.\n",
            "RP3betaRecommender: Similarity column 22222 (100.0%), 1876.07 column/sec. Elapsed time 11.84 sec\n",
            "EvaluatorHoldout: Processed 10039 (100.0%) in 6.57 sec. Users per second: 1528\n"
          ]
        },
        {
          "output_type": "stream",
          "name": "stderr",
          "text": [
            "[I 2023-11-27 08:17:44,941] Trial 3 finished with value: 0.029134640773997512 and parameters: {'topK': 77, 'alpha': 0.29261044917039536, 'beta': 0.0014244927605795595}. Best is trial 3 with value: 0.029134640773997512.\n"
          ]
        },
        {
          "output_type": "stream",
          "name": "stdout",
          "text": [
            "RP3betaRecommender: URM Detected 466 ( 3.7%) users with no interactions.\n",
            "RP3betaRecommender: URM Detected 322 ( 1.4%) items with no interactions.\n",
            "RP3betaRecommender: Similarity column 22222 (100.0%), 1769.70 column/sec. Elapsed time 12.56 sec\n",
            "EvaluatorHoldout: Processed 10039 (100.0%) in 8.07 sec. Users per second: 1243\n"
          ]
        },
        {
          "output_type": "stream",
          "name": "stderr",
          "text": [
            "[I 2023-11-27 08:18:07,371] Trial 4 finished with value: 0.027617007954691124 and parameters: {'topK': 77, 'alpha': 0.7527721912739225, 'beta': 0.0021136462283984072}. Best is trial 3 with value: 0.029134640773997512.\n"
          ]
        },
        {
          "output_type": "stream",
          "name": "stdout",
          "text": [
            "RP3betaRecommender: URM Detected 466 ( 3.7%) users with no interactions.\n",
            "RP3betaRecommender: URM Detected 322 ( 1.4%) items with no interactions.\n",
            "RP3betaRecommender: Similarity column 22222 (100.0%), 2142.87 column/sec. Elapsed time 10.37 sec\n",
            "EvaluatorHoldout: Processed 10039 (100.0%) in 9.15 sec. Users per second: 1098\n"
          ]
        },
        {
          "output_type": "stream",
          "name": "stderr",
          "text": [
            "[I 2023-11-27 08:18:30,609] Trial 5 finished with value: 0.02037387521997548 and parameters: {'topK': 97, 'alpha': 0.5964806216102971, 'beta': 0.5623950379500642}. Best is trial 3 with value: 0.029134640773997512.\n"
          ]
        },
        {
          "output_type": "stream",
          "name": "stdout",
          "text": [
            "RP3betaRecommender: URM Detected 466 ( 3.7%) users with no interactions.\n",
            "RP3betaRecommender: URM Detected 322 ( 1.4%) items with no interactions.\n",
            "RP3betaRecommender: Similarity column 22222 (100.0%), 1407.38 column/sec. Elapsed time 15.79 sec\n",
            "EvaluatorHoldout: Processed 10039 (100.0%) in 7.04 sec. Users per second: 1427\n"
          ]
        },
        {
          "output_type": "stream",
          "name": "stderr",
          "text": [
            "[I 2023-11-27 08:18:58,311] Trial 6 finished with value: 0.02921953192074742 and parameters: {'topK': 88, 'alpha': 0.5352465914206863, 'beta': 0.011176162118722842}. Best is trial 6 with value: 0.02921953192074742.\n"
          ]
        },
        {
          "output_type": "stream",
          "name": "stdout",
          "text": [
            "RP3betaRecommender: URM Detected 466 ( 3.7%) users with no interactions.\n",
            "RP3betaRecommender: URM Detected 322 ( 1.4%) items with no interactions.\n",
            "RP3betaRecommender: Similarity column 22222 (100.0%), 2351.32 column/sec. Elapsed time 9.45 sec\n",
            "EvaluatorHoldout: Processed 10039 (100.0%) in 6.02 sec. Users per second: 1668\n"
          ]
        },
        {
          "output_type": "stream",
          "name": "stderr",
          "text": [
            "[I 2023-11-27 08:19:14,656] Trial 7 finished with value: 0.028827287863048504 and parameters: {'topK': 21, 'alpha': 0.06558151498732884, 'beta': 0.0742989319975486}. Best is trial 6 with value: 0.02921953192074742.\n"
          ]
        },
        {
          "output_type": "stream",
          "name": "stdout",
          "text": [
            "RP3betaRecommender: URM Detected 466 ( 3.7%) users with no interactions.\n",
            "RP3betaRecommender: URM Detected 322 ( 1.4%) items with no interactions.\n",
            "RP3betaRecommender: Similarity column 22222 (100.0%), 2231.69 column/sec. Elapsed time 9.96 sec\n",
            "EvaluatorHoldout: Processed 10039 (100.0%) in 5.78 sec. Users per second: 1738\n"
          ]
        },
        {
          "output_type": "stream",
          "name": "stderr",
          "text": [
            "[I 2023-11-27 08:19:31,093] Trial 8 finished with value: 0.025082527349685472 and parameters: {'topK': 15, 'alpha': 0.06533271340142456, 'beta': 0.002759411442308087}. Best is trial 6 with value: 0.02921953192074742.\n"
          ]
        },
        {
          "output_type": "stream",
          "name": "stdout",
          "text": [
            "RP3betaRecommender: URM Detected 466 ( 3.7%) users with no interactions.\n",
            "RP3betaRecommender: URM Detected 322 ( 1.4%) items with no interactions.\n",
            "RP3betaRecommender: Similarity column 22222 (100.0%), 2092.23 column/sec. Elapsed time 10.62 sec\n",
            "EvaluatorHoldout: Processed 10039 (100.0%) in 6.05 sec. Users per second: 1661\n"
          ]
        },
        {
          "output_type": "stream",
          "name": "stderr",
          "text": [
            "[I 2023-11-27 08:19:49,039] Trial 9 finished with value: 0.02839722700515634 and parameters: {'topK': 39, 'alpha': 0.011686921067756859, 'beta': 0.001499511670574269}. Best is trial 6 with value: 0.02921953192074742.\n"
          ]
        },
        {
          "output_type": "stream",
          "name": "stdout",
          "text": [
            "RP3betaRecommender: URM Detected 466 ( 3.7%) users with no interactions.\n",
            "RP3betaRecommender: URM Detected 322 ( 1.4%) items with no interactions.\n",
            "RP3betaRecommender: Similarity column 22222 (100.0%), 1891.24 column/sec. Elapsed time 11.75 sec\n",
            "EvaluatorHoldout: Processed 10039 (100.0%) in 6.62 sec. Users per second: 1517\n"
          ]
        },
        {
          "output_type": "stream",
          "name": "stderr",
          "text": [
            "[I 2023-11-27 08:20:08,867] Trial 10 finished with value: 0.029124983991006704 and parameters: {'topK': 58, 'alpha': 0.19532510481810342, 'beta': 0.0094657381264189}. Best is trial 6 with value: 0.02921953192074742.\n"
          ]
        },
        {
          "output_type": "stream",
          "name": "stdout",
          "text": [
            "RP3betaRecommender: URM Detected 466 ( 3.7%) users with no interactions.\n",
            "RP3betaRecommender: URM Detected 322 ( 1.4%) items with no interactions.\n",
            "RP3betaRecommender: Similarity column 22222 (100.0%), 1837.08 column/sec. Elapsed time 12.10 sec\n",
            "EvaluatorHoldout: Processed 10039 (100.0%) in 7.31 sec. Users per second: 1373\n"
          ]
        },
        {
          "output_type": "stream",
          "name": "stderr",
          "text": [
            "[I 2023-11-27 08:20:31,092] Trial 11 finished with value: 0.029300956428658532 and parameters: {'topK': 70, 'alpha': 0.2809485654257312, 'beta': 0.006806897004746516}. Best is trial 11 with value: 0.029300956428658532.\n"
          ]
        },
        {
          "output_type": "stream",
          "name": "stdout",
          "text": [
            "RP3betaRecommender: URM Detected 466 ( 3.7%) users with no interactions.\n",
            "RP3betaRecommender: URM Detected 322 ( 1.4%) items with no interactions.\n",
            "RP3betaRecommender: Similarity column 22222 (100.0%), 2053.88 column/sec. Elapsed time 10.82 sec\n",
            "EvaluatorHoldout: Processed 10039 (100.0%) in 6.70 sec. Users per second: 1498\n"
          ]
        },
        {
          "output_type": "stream",
          "name": "stderr",
          "text": [
            "[I 2023-11-27 08:20:50,049] Trial 12 finished with value: 0.029290382587274937 and parameters: {'topK': 58, 'alpha': 0.3174010680343486, 'beta': 0.009978263554745405}. Best is trial 11 with value: 0.029300956428658532.\n"
          ]
        },
        {
          "output_type": "stream",
          "name": "stdout",
          "text": [
            "RP3betaRecommender: URM Detected 466 ( 3.7%) users with no interactions.\n",
            "RP3betaRecommender: URM Detected 322 ( 1.4%) items with no interactions.\n",
            "RP3betaRecommender: Similarity column 22222 (100.0%), 2123.17 column/sec. Elapsed time 10.47 sec\n",
            "EvaluatorHoldout: Processed 10039 (100.0%) in 6.98 sec. Users per second: 1439\n"
          ]
        },
        {
          "output_type": "stream",
          "name": "stderr",
          "text": [
            "[I 2023-11-27 08:21:08,913] Trial 13 finished with value: 0.029186703601984203 and parameters: {'topK': 57, 'alpha': 0.20276185029522237, 'beta': 0.006658718843208436}. Best is trial 11 with value: 0.029300956428658532.\n"
          ]
        },
        {
          "output_type": "stream",
          "name": "stdout",
          "text": [
            "RP3betaRecommender: URM Detected 466 ( 3.7%) users with no interactions.\n",
            "RP3betaRecommender: URM Detected 322 ( 1.4%) items with no interactions.\n",
            "RP3betaRecommender: Similarity column 22222 (100.0%), 2442.95 column/sec. Elapsed time 9.10 sec\n",
            "EvaluatorHoldout: Processed 10039 (100.0%) in 6.64 sec. Users per second: 1513\n"
          ]
        },
        {
          "output_type": "stream",
          "name": "stderr",
          "text": [
            "[I 2023-11-27 08:21:25,847] Trial 14 finished with value: 0.029218243295591785 and parameters: {'topK': 44, 'alpha': 0.332839771807543, 'beta': 0.005188864172825658}. Best is trial 11 with value: 0.029300956428658532.\n"
          ]
        },
        {
          "output_type": "stream",
          "name": "stdout",
          "text": [
            "RP3betaRecommender: URM Detected 466 ( 3.7%) users with no interactions.\n",
            "RP3betaRecommender: URM Detected 322 ( 1.4%) items with no interactions.\n",
            "RP3betaRecommender: Similarity column 22222 (100.0%), 2239.13 column/sec. Elapsed time 9.92 sec\n",
            "EvaluatorHoldout: Processed 10039 (100.0%) in 7.18 sec. Users per second: 1398\n"
          ]
        },
        {
          "output_type": "stream",
          "name": "stderr",
          "text": [
            "[I 2023-11-27 08:21:44,617] Trial 15 finished with value: 0.029155254823648287 and parameters: {'topK': 65, 'alpha': 0.1387455799144252, 'beta': 0.0184105750164439}. Best is trial 11 with value: 0.029300956428658532.\n"
          ]
        },
        {
          "output_type": "stream",
          "name": "stdout",
          "text": [
            "RP3betaRecommender: URM Detected 466 ( 3.7%) users with no interactions.\n",
            "RP3betaRecommender: URM Detected 322 ( 1.4%) items with no interactions.\n",
            "RP3betaRecommender: Similarity column 22222 (100.0%), 2311.20 column/sec. Elapsed time 9.61 sec\n",
            "EvaluatorHoldout: Processed 10039 (100.0%) in 7.86 sec. Users per second: 1277\n"
          ]
        },
        {
          "output_type": "stream",
          "name": "stderr",
          "text": [
            "[I 2023-11-27 08:22:03,691] Trial 16 finished with value: 0.029284152914743768 and parameters: {'topK': 67, 'alpha': 0.38959630251827754, 'beta': 0.003821806283079088}. Best is trial 11 with value: 0.029300956428658532.\n"
          ]
        },
        {
          "output_type": "stream",
          "name": "stdout",
          "text": [
            "RP3betaRecommender: URM Detected 466 ( 3.7%) users with no interactions.\n",
            "RP3betaRecommender: URM Detected 322 ( 1.4%) items with no interactions.\n",
            "RP3betaRecommender: Similarity column 22222 (100.0%), 2565.90 column/sec. Elapsed time 8.66 sec\n",
            "EvaluatorHoldout: Processed 10039 (100.0%) in 7.62 sec. Users per second: 1317\n"
          ]
        },
        {
          "output_type": "stream",
          "name": "stderr",
          "text": [
            "[I 2023-11-27 08:22:21,199] Trial 17 finished with value: 0.023679009007727018 and parameters: {'topK': 39, 'alpha': 0.9773012668098289, 'beta': 0.014922952851710546}. Best is trial 11 with value: 0.029300956428658532.\n"
          ]
        },
        {
          "output_type": "stream",
          "name": "stdout",
          "text": [
            "RP3betaRecommender: URM Detected 466 ( 3.7%) users with no interactions.\n",
            "RP3betaRecommender: URM Detected 322 ( 1.4%) items with no interactions.\n",
            "RP3betaRecommender: Similarity column 22222 (100.0%), 2634.66 column/sec. Elapsed time 8.43 sec\n",
            "EvaluatorHoldout: Processed 10039 (100.0%) in 7.35 sec. Users per second: 1365\n"
          ]
        },
        {
          "output_type": "stream",
          "name": "stderr",
          "text": [
            "[I 2023-11-27 08:22:38,243] Trial 18 finished with value: 0.029192008310446573 and parameters: {'topK': 47, 'alpha': 0.4220359956766776, 'beta': 0.0051958553517976545}. Best is trial 11 with value: 0.029300956428658532.\n"
          ]
        },
        {
          "output_type": "stream",
          "name": "stdout",
          "text": [
            "RP3betaRecommender: URM Detected 466 ( 3.7%) users with no interactions.\n",
            "RP3betaRecommender: URM Detected 322 ( 1.4%) items with no interactions.\n",
            "RP3betaRecommender: Similarity column 22222 (100.0%), 2271.88 column/sec. Elapsed time 9.78 sec\n",
            "EvaluatorHoldout: Processed 10039 (100.0%) in 8.05 sec. Users per second: 1248\n"
          ]
        },
        {
          "output_type": "stream",
          "name": "stderr",
          "text": [
            "[I 2023-11-27 08:22:57,637] Trial 19 finished with value: 0.028879821078745437 and parameters: {'topK': 67, 'alpha': 0.1033574082222201, 'beta': 0.0011511771326155034}. Best is trial 11 with value: 0.029300956428658532.\n"
          ]
        },
        {
          "output_type": "stream",
          "name": "stdout",
          "text": [
            "RP3betaRecommender: URM Detected 466 ( 3.7%) users with no interactions.\n",
            "RP3betaRecommender: URM Detected 322 ( 1.4%) items with no interactions.\n",
            "RP3betaRecommender: Similarity column 22222 (100.0%), 3009.32 column/sec. Elapsed time 7.38 sec\n",
            "EvaluatorHoldout: Processed 10039 (100.0%) in 7.22 sec. Users per second: 1390\n"
          ]
        },
        {
          "output_type": "stream",
          "name": "stderr",
          "text": [
            "[I 2023-11-27 08:23:13,202] Trial 20 finished with value: 0.02875104552562474 and parameters: {'topK': 32, 'alpha': 0.23725662091012623, 'beta': 0.003034547269481587}. Best is trial 11 with value: 0.029300956428658532.\n"
          ]
        },
        {
          "output_type": "stream",
          "name": "stdout",
          "text": [
            "RP3betaRecommender: URM Detected 466 ( 3.7%) users with no interactions.\n",
            "RP3betaRecommender: URM Detected 322 ( 1.4%) items with no interactions.\n",
            "RP3betaRecommender: Similarity column 22222 (100.0%), 2223.96 column/sec. Elapsed time 9.99 sec\n",
            "EvaluatorHoldout: Processed 10039 (100.0%) in 8.05 sec. Users per second: 1247\n"
          ]
        },
        {
          "output_type": "stream",
          "name": "stderr",
          "text": [
            "[I 2023-11-27 08:23:32,863] Trial 21 finished with value: 0.029227998899530126 and parameters: {'topK': 67, 'alpha': 0.4073260411685163, 'beta': 0.004060185574986915}. Best is trial 11 with value: 0.029300956428658532.\n"
          ]
        },
        {
          "output_type": "stream",
          "name": "stdout",
          "text": [
            "RP3betaRecommender: URM Detected 466 ( 3.7%) users with no interactions.\n",
            "RP3betaRecommender: URM Detected 322 ( 1.4%) items with no interactions.\n",
            "RP3betaRecommender: Similarity column 22222 (100.0%), 4646.76 column/sec. Elapsed time 4.78 sec\n",
            "EvaluatorHoldout: Processed 10039 (100.0%) in 5.46 sec. Users per second: 1840\n"
          ]
        },
        {
          "output_type": "stream",
          "name": "stderr",
          "text": [
            "[I 2023-11-27 08:23:43,667] Trial 22 finished with value: 0.010204009916879631 and parameters: {'topK': 1, 'alpha': 0.38942720512918255, 'beta': 0.007319698378288288}. Best is trial 11 with value: 0.029300956428658532.\n"
          ]
        },
        {
          "output_type": "stream",
          "name": "stdout",
          "text": [
            "RP3betaRecommender: URM Detected 466 ( 3.7%) users with no interactions.\n",
            "RP3betaRecommender: URM Detected 322 ( 1.4%) items with no interactions.\n",
            "RP3betaRecommender: Similarity column 22222 (100.0%), 2136.61 column/sec. Elapsed time 10.40 sec\n",
            "EvaluatorHoldout: Processed 10039 (100.0%) in 6.23 sec. Users per second: 1612\n"
          ]
        },
        {
          "output_type": "stream",
          "name": "stderr",
          "text": [
            "[I 2023-11-27 08:24:01,638] Trial 23 finished with value: 0.029180762486619848 and parameters: {'topK': 56, 'alpha': 0.2457741107579921, 'beta': 0.003074079876838023}. Best is trial 11 with value: 0.029300956428658532.\n"
          ]
        },
        {
          "output_type": "stream",
          "name": "stdout",
          "text": [
            "RP3betaRecommender: URM Detected 466 ( 3.7%) users with no interactions.\n",
            "RP3betaRecommender: URM Detected 322 ( 1.4%) items with no interactions.\n",
            "RP3betaRecommender: Similarity column 22222 (100.0%), 1918.99 column/sec. Elapsed time 11.58 sec\n",
            "EvaluatorHoldout: Processed 10039 (100.0%) in 7.13 sec. Users per second: 1409\n"
          ]
        },
        {
          "output_type": "stream",
          "name": "stderr",
          "text": [
            "[I 2023-11-27 08:24:22,340] Trial 24 finished with value: 0.02938399369443321 and parameters: {'topK': 86, 'alpha': 0.5175164724912382, 'beta': 0.01670483724359997}. Best is trial 24 with value: 0.02938399369443321.\n"
          ]
        },
        {
          "output_type": "stream",
          "name": "stdout",
          "text": [
            "RP3betaRecommender: URM Detected 466 ( 3.7%) users with no interactions.\n",
            "RP3betaRecommender: URM Detected 322 ( 1.4%) items with no interactions.\n",
            "RP3betaRecommender: Similarity column 22222 (100.0%), 2018.78 column/sec. Elapsed time 11.01 sec\n",
            "EvaluatorHoldout: Processed 10039 (100.0%) in 8.50 sec. Users per second: 1181\n"
          ]
        },
        {
          "output_type": "stream",
          "name": "stderr",
          "text": [
            "[I 2023-11-27 08:24:44,059] Trial 25 finished with value: 0.028909530608405273 and parameters: {'topK': 98, 'alpha': 0.5701066746201443, 'beta': 0.016631277299409646}. Best is trial 24 with value: 0.02938399369443321.\n"
          ]
        },
        {
          "output_type": "stream",
          "name": "stdout",
          "text": [
            "RP3betaRecommender: URM Detected 466 ( 3.7%) users with no interactions.\n",
            "RP3betaRecommender: URM Detected 322 ( 1.4%) items with no interactions.\n",
            "RP3betaRecommender: Similarity column 22222 (100.0%), 2477.97 column/sec. Elapsed time 8.97 sec\n",
            "EvaluatorHoldout: Processed 10039 (100.0%) in 8.86 sec. Users per second: 1133\n"
          ]
        },
        {
          "output_type": "stream",
          "name": "stderr",
          "text": [
            "[I 2023-11-27 08:25:03,818] Trial 26 finished with value: 0.028931018235232038 and parameters: {'topK': 84, 'alpha': 0.1594704322542344, 'beta': 0.009427967097521955}. Best is trial 24 with value: 0.02938399369443321.\n"
          ]
        },
        {
          "output_type": "stream",
          "name": "stdout",
          "text": [
            "RP3betaRecommender: URM Detected 466 ( 3.7%) users with no interactions.\n",
            "RP3betaRecommender: URM Detected 322 ( 1.4%) items with no interactions.\n",
            "RP3betaRecommender: Similarity column 22222 (100.0%), 1689.99 column/sec. Elapsed time 13.15 sec\n",
            "EvaluatorHoldout: Processed 10039 (100.0%) in 6.53 sec. Users per second: 1538\n"
          ]
        },
        {
          "output_type": "stream",
          "name": "stderr",
          "text": [
            "[I 2023-11-27 08:25:26,940] Trial 27 finished with value: 0.02937501679956117 and parameters: {'topK': 91, 'alpha': 0.3045886338922758, 'beta': 0.027984549351622024}. Best is trial 24 with value: 0.02938399369443321.\n"
          ]
        },
        {
          "output_type": "stream",
          "name": "stdout",
          "text": [
            "RP3betaRecommender: URM Detected 466 ( 3.7%) users with no interactions.\n",
            "RP3betaRecommender: URM Detected 322 ( 1.4%) items with no interactions.\n",
            "RP3betaRecommender: Similarity column 22222 (100.0%), 1885.11 column/sec. Elapsed time 11.79 sec\n",
            "EvaluatorHoldout: Processed 10039 (100.0%) in 6.47 sec. Users per second: 1551\n"
          ]
        },
        {
          "output_type": "stream",
          "name": "stderr",
          "text": [
            "[I 2023-11-27 08:25:47,340] Trial 28 finished with value: 0.02921753573760769 and parameters: {'topK': 92, 'alpha': 0.5075261106142028, 'beta': 0.027798258882706397}. Best is trial 24 with value: 0.02938399369443321.\n"
          ]
        },
        {
          "output_type": "stream",
          "name": "stdout",
          "text": [
            "RP3betaRecommender: URM Detected 466 ( 3.7%) users with no interactions.\n",
            "RP3betaRecommender: URM Detected 322 ( 1.4%) items with no interactions.\n",
            "RP3betaRecommender: Similarity column 22222 (100.0%), 2019.71 column/sec. Elapsed time 11.00 sec\n",
            "EvaluatorHoldout: Processed 10039 (100.0%) in 7.07 sec. Users per second: 1420\n"
          ]
        },
        {
          "output_type": "stream",
          "name": "stderr",
          "text": [
            "[I 2023-11-27 08:26:07,260] Trial 29 finished with value: 0.025835270223904628 and parameters: {'topK': 75, 'alpha': 0.9096453390628203, 'beta': 0.057679828857297125}. Best is trial 24 with value: 0.02938399369443321.\n"
          ]
        },
        {
          "output_type": "stream",
          "name": "stdout",
          "text": [
            "RP3betaRecommender: URM Detected 466 ( 3.7%) users with no interactions.\n",
            "RP3betaRecommender: URM Detected 322 ( 1.4%) items with no interactions.\n",
            "RP3betaRecommender: Similarity column 22222 (100.0%), 1911.71 column/sec. Elapsed time 11.62 sec\n",
            "EvaluatorHoldout: Processed 10039 (100.0%) in 8.55 sec. Users per second: 1175\n"
          ]
        },
        {
          "output_type": "stream",
          "name": "stderr",
          "text": [
            "[I 2023-11-27 08:26:29,730] Trial 30 finished with value: 0.02799883233168445 and parameters: {'topK': 91, 'alpha': 0.7518013702676153, 'beta': 0.09190371117371454}. Best is trial 24 with value: 0.02938399369443321.\n"
          ]
        },
        {
          "output_type": "stream",
          "name": "stdout",
          "text": [
            "RP3betaRecommender: URM Detected 466 ( 3.7%) users with no interactions.\n",
            "RP3betaRecommender: URM Detected 322 ( 1.4%) items with no interactions.\n",
            "RP3betaRecommender: Similarity column 22222 (100.0%), 2355.71 column/sec. Elapsed time 9.43 sec\n",
            "EvaluatorHoldout: Processed 10039 (100.0%) in 8.86 sec. Users per second: 1133\n"
          ]
        },
        {
          "output_type": "stream",
          "name": "stderr",
          "text": [
            "[I 2023-11-27 08:26:49,989] Trial 31 finished with value: 0.02927794695924009 and parameters: {'topK': 85, 'alpha': 0.2851914230427578, 'beta': 0.0240816714993848}. Best is trial 24 with value: 0.02938399369443321.\n"
          ]
        },
        {
          "output_type": "stream",
          "name": "stdout",
          "text": [
            "RP3betaRecommender: URM Detected 466 ( 3.7%) users with no interactions.\n",
            "RP3betaRecommender: URM Detected 322 ( 1.4%) items with no interactions.\n",
            "RP3betaRecommender: Similarity column 22222 (100.0%), 2636.10 column/sec. Elapsed time 8.43 sec\n",
            "EvaluatorHoldout: Processed 10039 (100.0%) in 8.20 sec. Users per second: 1224\n"
          ]
        },
        {
          "output_type": "stream",
          "name": "stderr",
          "text": [
            "[I 2023-11-27 08:27:09,561] Trial 32 finished with value: 0.02946745786670099 and parameters: {'topK': 76, 'alpha': 0.30991984712719217, 'beta': 0.04115631765357839}. Best is trial 32 with value: 0.02946745786670099.\n"
          ]
        },
        {
          "output_type": "stream",
          "name": "stdout",
          "text": [
            "RP3betaRecommender: URM Detected 466 ( 3.7%) users with no interactions.\n",
            "RP3betaRecommender: URM Detected 322 ( 1.4%) items with no interactions.\n",
            "RP3betaRecommender: Similarity column 22222 (100.0%), 2276.09 column/sec. Elapsed time 9.76 sec\n",
            "EvaluatorHoldout: Processed 10039 (100.0%) in 6.99 sec. Users per second: 1437\n"
          ]
        },
        {
          "output_type": "stream",
          "name": "stderr",
          "text": [
            "[I 2023-11-27 08:27:29,516] Trial 33 finished with value: 0.028860060842081106 and parameters: {'topK': 80, 'alpha': 0.6428730830743105, 'beta': 0.03505762937296972}. Best is trial 32 with value: 0.02946745786670099.\n"
          ]
        },
        {
          "output_type": "stream",
          "name": "stdout",
          "text": [
            "RP3betaRecommender: URM Detected 466 ( 3.7%) users with no interactions.\n",
            "RP3betaRecommender: URM Detected 322 ( 1.4%) items with no interactions.\n",
            "RP3betaRecommender: Similarity column 22222 (100.0%), 2137.91 column/sec. Elapsed time 10.39 sec\n",
            "EvaluatorHoldout: Processed 10039 (100.0%) in 6.35 sec. Users per second: 1580\n"
          ]
        },
        {
          "output_type": "stream",
          "name": "stderr",
          "text": [
            "[I 2023-11-27 08:27:48,675] Trial 34 finished with value: 0.02934387634258157 and parameters: {'topK': 70, 'alpha': 0.5052520464334463, 'beta': 0.047857421959990466}. Best is trial 32 with value: 0.02946745786670099.\n"
          ]
        },
        {
          "output_type": "stream",
          "name": "stdout",
          "text": [
            "RP3betaRecommender: URM Detected 466 ( 3.7%) users with no interactions.\n",
            "RP3betaRecommender: URM Detected 322 ( 1.4%) items with no interactions.\n",
            "RP3betaRecommender: Similarity column 22222 (100.0%), 1871.64 column/sec. Elapsed time 11.87 sec\n",
            "EvaluatorHoldout: Processed 10039 (100.0%) in 6.34 sec. Users per second: 1582\n"
          ]
        },
        {
          "output_type": "stream",
          "name": "stderr",
          "text": [
            "[I 2023-11-27 08:28:08,697] Trial 35 finished with value: 0.029514793100558868 and parameters: {'topK': 73, 'alpha': 0.4711197069770923, 'beta': 0.042987817235005554}. Best is trial 35 with value: 0.029514793100558868.\n"
          ]
        },
        {
          "output_type": "stream",
          "name": "stdout",
          "text": [
            "RP3betaRecommender: URM Detected 466 ( 3.7%) users with no interactions.\n",
            "RP3betaRecommender: URM Detected 322 ( 1.4%) items with no interactions.\n",
            "RP3betaRecommender: Similarity column 22222 (100.0%), 1763.91 column/sec. Elapsed time 12.60 sec\n",
            "EvaluatorHoldout: Processed 10039 (100.0%) in 7.18 sec. Users per second: 1398\n"
          ]
        },
        {
          "output_type": "stream",
          "name": "stderr",
          "text": [
            "[I 2023-11-27 08:28:30,656] Trial 36 finished with value: 0.028190813762833104 and parameters: {'topK': 95, 'alpha': 0.7120331839134633, 'beta': 0.04158544336333665}. Best is trial 35 with value: 0.029514793100558868.\n"
          ]
        },
        {
          "output_type": "stream",
          "name": "stdout",
          "text": [
            "RP3betaRecommender: URM Detected 466 ( 3.7%) users with no interactions.\n",
            "RP3betaRecommender: URM Detected 322 ( 1.4%) items with no interactions.\n",
            "RP3betaRecommender: Similarity column 22222 (100.0%), 2029.95 column/sec. Elapsed time 10.95 sec\n",
            "EvaluatorHoldout: Processed 10039 (100.0%) in 9.22 sec. Users per second: 1089\n"
          ]
        },
        {
          "output_type": "stream",
          "name": "stderr",
          "text": [
            "[I 2023-11-27 08:28:53,530] Trial 37 finished with value: 0.029092139860891948 and parameters: {'topK': 100, 'alpha': 0.49454559900377176, 'beta': 0.15203212116232756}. Best is trial 35 with value: 0.029514793100558868.\n"
          ]
        },
        {
          "output_type": "stream",
          "name": "stdout",
          "text": [
            "RP3betaRecommender: URM Detected 466 ( 3.7%) users with no interactions.\n",
            "RP3betaRecommender: URM Detected 322 ( 1.4%) items with no interactions.\n",
            "RP3betaRecommender: Similarity column 22222 (100.0%), 2555.29 column/sec. Elapsed time 8.70 sec\n",
            "EvaluatorHoldout: Processed 10039 (100.0%) in 8.72 sec. Users per second: 1151\n"
          ]
        },
        {
          "output_type": "stream",
          "name": "stderr",
          "text": [
            "[I 2023-11-27 08:29:13,262] Trial 38 finished with value: 0.02705600143567085 and parameters: {'topK': 77, 'alpha': 0.8046619420670651, 'beta': 0.02659640719669997}. Best is trial 35 with value: 0.029514793100558868.\n"
          ]
        },
        {
          "output_type": "stream",
          "name": "stdout",
          "text": [
            "RP3betaRecommender: URM Detected 466 ( 3.7%) users with no interactions.\n",
            "RP3betaRecommender: URM Detected 322 ( 1.4%) items with no interactions.\n",
            "RP3betaRecommender: Similarity column 22222 (100.0%), 2330.88 column/sec. Elapsed time 9.53 sec\n",
            "EvaluatorHoldout: Processed 10039 (100.0%) in 7.41 sec. Users per second: 1355\n"
          ]
        },
        {
          "output_type": "stream",
          "name": "stderr",
          "text": [
            "[I 2023-11-27 08:29:34,006] Trial 39 finished with value: 0.024392555541325377 and parameters: {'topK': 87, 'alpha': 0.9985338384942853, 'beta': 0.13791302927011576}. Best is trial 35 with value: 0.029514793100558868.\n"
          ]
        },
        {
          "output_type": "stream",
          "name": "stdout",
          "text": [
            "RP3betaRecommender: URM Detected 466 ( 3.7%) users with no interactions.\n",
            "RP3betaRecommender: URM Detected 322 ( 1.4%) items with no interactions.\n",
            "RP3betaRecommender: Similarity column 22222 (100.0%), 1921.50 column/sec. Elapsed time 11.56 sec\n",
            "EvaluatorHoldout: Processed 10039 (100.0%) in 8.11 sec. Users per second: 1238\n"
          ]
        },
        {
          "output_type": "stream",
          "name": "stderr",
          "text": [
            "[I 2023-11-27 08:29:56,103] Trial 40 finished with value: 0.02852887627143046 and parameters: {'topK': 81, 'alpha': 0.6864369075793393, 'beta': 0.060326196847447604}. Best is trial 35 with value: 0.029514793100558868.\n"
          ]
        },
        {
          "output_type": "stream",
          "name": "stdout",
          "text": [
            "RP3betaRecommender: URM Detected 466 ( 3.7%) users with no interactions.\n",
            "RP3betaRecommender: URM Detected 322 ( 1.4%) items with no interactions.\n",
            "RP3betaRecommender: Similarity column 22222 (100.0%), 1695.68 column/sec. Elapsed time 13.11 sec\n",
            "EvaluatorHoldout: Processed 10039 (100.0%) in 6.57 sec. Users per second: 1527\n"
          ]
        },
        {
          "output_type": "stream",
          "name": "stderr",
          "text": [
            "[I 2023-11-27 08:30:17,599] Trial 41 finished with value: 0.02939268993781416 and parameters: {'topK': 75, 'alpha': 0.5125653914586497, 'beta': 0.042550636820964084}. Best is trial 35 with value: 0.029514793100558868.\n"
          ]
        },
        {
          "output_type": "stream",
          "name": "stdout",
          "text": [
            "RP3betaRecommender: URM Detected 466 ( 3.7%) users with no interactions.\n",
            "RP3betaRecommender: URM Detected 322 ( 1.4%) items with no interactions.\n",
            "RP3betaRecommender: Similarity column 22222 (100.0%), 2085.81 column/sec. Elapsed time 10.65 sec\n",
            "EvaluatorHoldout: Processed 10039 (100.0%) in 7.28 sec. Users per second: 1379\n"
          ]
        },
        {
          "output_type": "stream",
          "name": "stderr",
          "text": [
            "[I 2023-11-27 08:30:37,332] Trial 42 finished with value: 0.029522975475012758 and parameters: {'topK': 74, 'alpha': 0.36589241073493217, 'beta': 0.038980227870244764}. Best is trial 42 with value: 0.029522975475012758.\n"
          ]
        },
        {
          "output_type": "stream",
          "name": "stdout",
          "text": [
            "RP3betaRecommender: URM Detected 466 ( 3.7%) users with no interactions.\n",
            "RP3betaRecommender: URM Detected 322 ( 1.4%) items with no interactions.\n",
            "RP3betaRecommender: Similarity column 22222 (100.0%), 2127.07 column/sec. Elapsed time 10.45 sec\n",
            "EvaluatorHoldout: Processed 10039 (100.0%) in 8.33 sec. Users per second: 1205\n"
          ]
        },
        {
          "output_type": "stream",
          "name": "stderr",
          "text": [
            "[I 2023-11-27 08:30:57,902] Trial 43 finished with value: 0.02915685572299799 and parameters: {'topK': 73, 'alpha': 0.5793218905503672, 'beta': 0.041308944978810165}. Best is trial 42 with value: 0.029522975475012758.\n"
          ]
        },
        {
          "output_type": "stream",
          "name": "stdout",
          "text": [
            "RP3betaRecommender: URM Detected 466 ( 3.7%) users with no interactions.\n",
            "RP3betaRecommender: URM Detected 322 ( 1.4%) items with no interactions.\n",
            "RP3betaRecommender: Similarity column 22222 (100.0%), 2580.58 column/sec. Elapsed time 8.61 sec\n",
            "EvaluatorHoldout: Processed 10039 (100.0%) in 8.83 sec. Users per second: 1137\n"
          ]
        },
        {
          "output_type": "stream",
          "name": "stderr",
          "text": [
            "[I 2023-11-27 08:31:17,031] Trial 44 finished with value: 0.029686512284629856 and parameters: {'topK': 63, 'alpha': 0.44701684052210566, 'beta': 0.0850645832254702}. Best is trial 44 with value: 0.029686512284629856.\n"
          ]
        },
        {
          "output_type": "stream",
          "name": "stdout",
          "text": [
            "RP3betaRecommender: URM Detected 466 ( 3.7%) users with no interactions.\n",
            "RP3betaRecommender: URM Detected 322 ( 1.4%) items with no interactions.\n",
            "RP3betaRecommender: Similarity column 22222 (100.0%), 2723.70 column/sec. Elapsed time 8.16 sec\n",
            "EvaluatorHoldout: Processed 10039 (100.0%) in 8.91 sec. Users per second: 1127\n"
          ]
        },
        {
          "output_type": "stream",
          "name": "stderr",
          "text": [
            "[I 2023-11-27 08:31:35,806] Trial 45 finished with value: 0.029787475670282934 and parameters: {'topK': 62, 'alpha': 0.398295015297989, 'beta': 0.09675686713733431}. Best is trial 45 with value: 0.029787475670282934.\n"
          ]
        },
        {
          "output_type": "stream",
          "name": "stdout",
          "text": [
            "RP3betaRecommender: URM Detected 466 ( 3.7%) users with no interactions.\n",
            "RP3betaRecommender: URM Detected 322 ( 1.4%) items with no interactions.\n",
            "RP3betaRecommender: Similarity column 22222 (100.0%), 2835.24 column/sec. Elapsed time 7.84 sec\n",
            "EvaluatorHoldout: Processed 10039 (100.0%) in 8.48 sec. Users per second: 1184\n"
          ]
        },
        {
          "output_type": "stream",
          "name": "stderr",
          "text": [
            "[I 2023-11-27 08:31:54,236] Trial 46 finished with value: 0.029826549472928805 and parameters: {'topK': 61, 'alpha': 0.36757491108940654, 'beta': 0.09578832576207909}. Best is trial 46 with value: 0.029826549472928805.\n"
          ]
        },
        {
          "output_type": "stream",
          "name": "stdout",
          "text": [
            "RP3betaRecommender: URM Detected 466 ( 3.7%) users with no interactions.\n",
            "RP3betaRecommender: URM Detected 322 ( 1.4%) items with no interactions.\n",
            "RP3betaRecommender: Similarity column 22222 (100.0%), 2933.88 column/sec. Elapsed time 7.57 sec\n",
            "EvaluatorHoldout: Processed 10039 (100.0%) in 8.10 sec. Users per second: 1239\n"
          ]
        },
        {
          "output_type": "stream",
          "name": "stderr",
          "text": [
            "[I 2023-11-27 08:32:12,575] Trial 47 finished with value: 0.029827743229974682 and parameters: {'topK': 55, 'alpha': 0.3763640884912818, 'beta': 0.09786163638581087}. Best is trial 47 with value: 0.029827743229974682.\n"
          ]
        },
        {
          "output_type": "stream",
          "name": "stdout",
          "text": [
            "RP3betaRecommender: URM Detected 466 ( 3.7%) users with no interactions.\n",
            "RP3betaRecommender: URM Detected 322 ( 1.4%) items with no interactions.\n",
            "RP3betaRecommender: Similarity column 22222 (100.0%), 2760.69 column/sec. Elapsed time 8.05 sec\n",
            "EvaluatorHoldout: Processed 10039 (100.0%) in 7.66 sec. Users per second: 1311\n"
          ]
        },
        {
          "output_type": "stream",
          "name": "stderr",
          "text": [
            "[I 2023-11-27 08:32:31,159] Trial 48 finished with value: 0.030050046880657714 and parameters: {'topK': 52, 'alpha': 0.3678196400996936, 'beta': 0.19187708659567448}. Best is trial 48 with value: 0.030050046880657714.\n"
          ]
        },
        {
          "output_type": "stream",
          "name": "stdout",
          "text": [
            "RP3betaRecommender: URM Detected 466 ( 3.7%) users with no interactions.\n",
            "RP3betaRecommender: URM Detected 322 ( 1.4%) items with no interactions.\n",
            "RP3betaRecommender: Similarity column 22222 (100.0%), 2681.66 column/sec. Elapsed time 8.29 sec\n",
            "EvaluatorHoldout: Processed 10039 (100.0%) in 7.30 sec. Users per second: 1376\n"
          ]
        },
        {
          "output_type": "stream",
          "name": "stderr",
          "text": [
            "[I 2023-11-27 08:32:49,662] Trial 49 finished with value: 0.029785787808499286 and parameters: {'topK': 50, 'alpha': 0.21653245848042016, 'beta': 0.2119254646337577}. Best is trial 48 with value: 0.030050046880657714.\n"
          ]
        },
        {
          "output_type": "stream",
          "name": "stdout",
          "text": [
            "RP3betaRecommender: URM Detected 466 ( 3.7%) users with no interactions.\n",
            "RP3betaRecommender: URM Detected 322 ( 1.4%) items with no interactions.\n",
            "RP3betaRecommender: Similarity column 22222 (100.0%), 2256.38 column/sec. Elapsed time 9.85 sec\n",
            "EvaluatorHoldout: Processed 10039 (100.0%) in 6.60 sec. Users per second: 1522\n"
          ]
        },
        {
          "output_type": "stream",
          "name": "stderr",
          "text": [
            "[I 2023-11-27 08:33:09,150] Trial 50 finished with value: 0.029782091905062338 and parameters: {'topK': 52, 'alpha': 0.24964254445899858, 'beta': 0.2250000084143269}. Best is trial 48 with value: 0.030050046880657714.\n"
          ]
        },
        {
          "output_type": "stream",
          "name": "stdout",
          "text": [
            "RP3betaRecommender: URM Detected 466 ( 3.7%) users with no interactions.\n",
            "RP3betaRecommender: URM Detected 322 ( 1.4%) items with no interactions.\n",
            "RP3betaRecommender: Similarity column 22222 (100.0%), 2293.64 column/sec. Elapsed time 9.69 sec\n",
            "EvaluatorHoldout: Processed 10039 (100.0%) in 6.53 sec. Users per second: 1539\n"
          ]
        },
        {
          "output_type": "stream",
          "name": "stderr",
          "text": [
            "[I 2023-11-27 08:33:27,787] Trial 51 finished with value: 0.029490016712598828 and parameters: {'topK': 51, 'alpha': 0.24178177170167325, 'beta': 0.24491082705510014}. Best is trial 48 with value: 0.030050046880657714.\n"
          ]
        },
        {
          "output_type": "stream",
          "name": "stdout",
          "text": [
            "RP3betaRecommender: URM Detected 466 ( 3.7%) users with no interactions.\n",
            "RP3betaRecommender: URM Detected 322 ( 1.4%) items with no interactions.\n",
            "RP3betaRecommender: Similarity column 22222 (100.0%), 1983.24 column/sec. Elapsed time 11.20 sec\n",
            "EvaluatorHoldout: Processed 10039 (100.0%) in 6.48 sec. Users per second: 1548\n"
          ]
        },
        {
          "output_type": "stream",
          "name": "stderr",
          "text": [
            "[I 2023-11-27 08:33:47,289] Trial 52 finished with value: 0.029999833980808376 and parameters: {'topK': 53, 'alpha': 0.36608532297044116, 'beta': 0.20785604242621025}. Best is trial 48 with value: 0.030050046880657714.\n"
          ]
        },
        {
          "output_type": "stream",
          "name": "stdout",
          "text": [
            "RP3betaRecommender: URM Detected 466 ( 3.7%) users with no interactions.\n",
            "RP3betaRecommender: URM Detected 322 ( 1.4%) items with no interactions.\n",
            "RP3betaRecommender: Similarity column 22222 (100.0%), 2218.32 column/sec. Elapsed time 10.02 sec\n",
            "EvaluatorHoldout: Processed 10039 (100.0%) in 6.50 sec. Users per second: 1544\n"
          ]
        },
        {
          "output_type": "stream",
          "name": "stderr",
          "text": [
            "[I 2023-11-27 08:34:05,173] Trial 53 finished with value: 0.029630891902532652 and parameters: {'topK': 43, 'alpha': 0.36201176831207754, 'beta': 0.10744282941943543}. Best is trial 48 with value: 0.030050046880657714.\n"
          ]
        },
        {
          "output_type": "stream",
          "name": "stdout",
          "text": [
            "RP3betaRecommender: URM Detected 466 ( 3.7%) users with no interactions.\n",
            "RP3betaRecommender: URM Detected 322 ( 1.4%) items with no interactions.\n",
            "RP3betaRecommender: Similarity column 22222 (100.0%), 2080.92 column/sec. Elapsed time 10.68 sec\n",
            "EvaluatorHoldout: Processed 10039 (100.0%) in 7.11 sec. Users per second: 1411\n"
          ]
        },
        {
          "output_type": "stream",
          "name": "stderr",
          "text": [
            "[I 2023-11-27 08:34:25,349] Trial 54 finished with value: 0.028741013223033456 and parameters: {'topK': 62, 'alpha': 0.34550594833046744, 'beta': 0.3272271999088999}. Best is trial 48 with value: 0.030050046880657714.\n"
          ]
        },
        {
          "output_type": "stream",
          "name": "stdout",
          "text": [
            "RP3betaRecommender: URM Detected 466 ( 3.7%) users with no interactions.\n",
            "RP3betaRecommender: URM Detected 322 ( 1.4%) items with no interactions.\n",
            "RP3betaRecommender: Similarity column 22222 (100.0%), 2290.60 column/sec. Elapsed time 9.70 sec\n",
            "EvaluatorHoldout: Processed 10039 (100.0%) in 7.08 sec. Users per second: 1418\n"
          ]
        },
        {
          "output_type": "stream",
          "name": "stderr",
          "text": [
            "[I 2023-11-27 08:34:43,897] Trial 55 finished with value: 0.029981152868890845 and parameters: {'topK': 53, 'alpha': 0.2849531375166805, 'beta': 0.17126546240813012}. Best is trial 48 with value: 0.030050046880657714.\n"
          ]
        },
        {
          "output_type": "stream",
          "name": "stdout",
          "text": [
            "RP3betaRecommender: URM Detected 466 ( 3.7%) users with no interactions.\n",
            "RP3betaRecommender: URM Detected 322 ( 1.4%) items with no interactions.\n",
            "RP3betaRecommender: Similarity column 22222 (100.0%), 1742.63 column/sec. Elapsed time 12.75 sec\n",
            "EvaluatorHoldout: Processed 10039 (100.0%) in 7.79 sec. Users per second: 1289\n"
          ]
        },
        {
          "output_type": "stream",
          "name": "stderr",
          "text": [
            "[I 2023-11-27 08:35:06,324] Trial 56 finished with value: 0.029786645574323714 and parameters: {'topK': 60, 'alpha': 0.18196423098738257, 'beta': 0.1735243677816422}. Best is trial 48 with value: 0.030050046880657714.\n"
          ]
        },
        {
          "output_type": "stream",
          "name": "stdout",
          "text": [
            "RP3betaRecommender: URM Detected 466 ( 3.7%) users with no interactions.\n",
            "RP3betaRecommender: URM Detected 322 ( 1.4%) items with no interactions.\n",
            "RP3betaRecommender: Similarity column 22222 (100.0%), 2385.67 column/sec. Elapsed time 9.31 sec\n",
            "EvaluatorHoldout: Processed 10039 (100.0%) in 8.14 sec. Users per second: 1233\n"
          ]
        },
        {
          "output_type": "stream",
          "name": "stderr",
          "text": [
            "[I 2023-11-27 08:35:25,439] Trial 57 finished with value: 0.03002481986917711 and parameters: {'topK': 55, 'alpha': 0.41443465855709244, 'beta': 0.11312538820011597}. Best is trial 48 with value: 0.030050046880657714.\n"
          ]
        },
        {
          "output_type": "stream",
          "name": "stdout",
          "text": [
            "RP3betaRecommender: URM Detected 466 ( 3.7%) users with no interactions.\n",
            "RP3betaRecommender: URM Detected 322 ( 1.4%) items with no interactions.\n",
            "RP3betaRecommender: Similarity column 22222 (100.0%), 2684.73 column/sec. Elapsed time 8.28 sec\n",
            "EvaluatorHoldout: Processed 10039 (100.0%) in 8.38 sec. Users per second: 1199\n"
          ]
        },
        {
          "output_type": "stream",
          "name": "stderr",
          "text": [
            "[I 2023-11-27 08:35:43,675] Trial 58 finished with value: 0.029933991559900834 and parameters: {'topK': 54, 'alpha': 0.32467553793074705, 'beta': 0.12147077088123096}. Best is trial 48 with value: 0.030050046880657714.\n"
          ]
        },
        {
          "output_type": "stream",
          "name": "stdout",
          "text": [
            "RP3betaRecommender: URM Detected 466 ( 3.7%) users with no interactions.\n",
            "RP3betaRecommender: URM Detected 322 ( 1.4%) items with no interactions.\n",
            "RP3betaRecommender: Similarity column 22222 (100.0%), 2679.10 column/sec. Elapsed time 8.29 sec\n",
            "EvaluatorHoldout: Processed 10039 (100.0%) in 8.88 sec. Users per second: 1130\n"
          ]
        },
        {
          "output_type": "stream",
          "name": "stderr",
          "text": [
            "[I 2023-11-27 08:36:02,478] Trial 59 finished with value: 0.029767126460771457 and parameters: {'topK': 54, 'alpha': 0.27565324106269173, 'beta': 0.12478969714859785}. Best is trial 48 with value: 0.030050046880657714.\n"
          ]
        },
        {
          "output_type": "stream",
          "name": "stdout",
          "text": [
            "RP3betaRecommender: URM Detected 466 ( 3.7%) users with no interactions.\n",
            "RP3betaRecommender: URM Detected 322 ( 1.4%) items with no interactions.\n",
            "RP3betaRecommender: Similarity column 22222 (100.0%), 3230.08 column/sec. Elapsed time 6.88 sec\n",
            "EvaluatorHoldout: Processed 10039 (100.0%) in 9.01 sec. Users per second: 1114\n"
          ]
        },
        {
          "output_type": "stream",
          "name": "stderr",
          "text": [
            "[I 2023-11-27 08:36:19,903] Trial 60 finished with value: 0.027856087449423514 and parameters: {'topK': 34, 'alpha': 0.6187203452498661, 'beta': 0.34656191539872416}. Best is trial 48 with value: 0.030050046880657714.\n"
          ]
        },
        {
          "output_type": "stream",
          "name": "stdout",
          "text": [
            "RP3betaRecommender: URM Detected 466 ( 3.7%) users with no interactions.\n",
            "RP3betaRecommender: URM Detected 322 ( 1.4%) items with no interactions.\n",
            "RP3betaRecommender: Similarity column 22222 (100.0%), 2946.74 column/sec. Elapsed time 7.54 sec\n",
            "EvaluatorHoldout: Processed 10039 (100.0%) in 8.90 sec. Users per second: 1129\n"
          ]
        },
        {
          "output_type": "stream",
          "name": "stderr",
          "text": [
            "[I 2023-11-27 08:36:37,834] Trial 61 finished with value: 0.02990311989589826 and parameters: {'topK': 47, 'alpha': 0.3234351850391542, 'beta': 0.13742313254242014}. Best is trial 48 with value: 0.030050046880657714.\n"
          ]
        },
        {
          "output_type": "stream",
          "name": "stdout",
          "text": [
            "RP3betaRecommender: URM Detected 466 ( 3.7%) users with no interactions.\n",
            "RP3betaRecommender: URM Detected 322 ( 1.4%) items with no interactions.\n",
            "RP3betaRecommender: Similarity column 22222 (100.0%), 3066.72 column/sec. Elapsed time 7.25 sec\n",
            "EvaluatorHoldout: Processed 10039 (100.0%) in 8.82 sec. Users per second: 1139\n"
          ]
        },
        {
          "output_type": "stream",
          "name": "stderr",
          "text": [
            "[I 2023-11-27 08:36:55,282] Trial 62 finished with value: 0.029971895322528086 and parameters: {'topK': 47, 'alpha': 0.31146747863399943, 'beta': 0.12985680144453998}. Best is trial 48 with value: 0.030050046880657714.\n"
          ]
        },
        {
          "output_type": "stream",
          "name": "stdout",
          "text": [
            "RP3betaRecommender: URM Detected 466 ( 3.7%) users with no interactions.\n",
            "RP3betaRecommender: URM Detected 322 ( 1.4%) items with no interactions.\n",
            "RP3betaRecommender: Similarity column 22222 (100.0%), 3101.83 column/sec. Elapsed time 7.16 sec\n",
            "EvaluatorHoldout: Processed 10039 (100.0%) in 8.94 sec. Users per second: 1123\n"
          ]
        },
        {
          "output_type": "stream",
          "name": "stderr",
          "text": [
            "[I 2023-11-27 08:37:12,859] Trial 63 finished with value: 0.029970239083447814 and parameters: {'topK': 45, 'alpha': 0.2796440240591699, 'beta': 0.1705174967024273}. Best is trial 48 with value: 0.030050046880657714.\n"
          ]
        },
        {
          "output_type": "stream",
          "name": "stdout",
          "text": [
            "RP3betaRecommender: URM Detected 466 ( 3.7%) users with no interactions.\n",
            "RP3betaRecommender: URM Detected 322 ( 1.4%) items with no interactions.\n",
            "RP3betaRecommender: Similarity column 22222 (100.0%), 3146.72 column/sec. Elapsed time 7.06 sec\n",
            "EvaluatorHoldout: Processed 10039 (100.0%) in 8.86 sec. Users per second: 1133\n"
          ]
        },
        {
          "output_type": "stream",
          "name": "stderr",
          "text": [
            "[I 2023-11-27 08:37:30,202] Trial 64 finished with value: 0.029966361349467462 and parameters: {'topK': 41, 'alpha': 0.20937454534791813, 'beta': 0.18434291927923616}. Best is trial 48 with value: 0.030050046880657714.\n"
          ]
        },
        {
          "output_type": "stream",
          "name": "stdout",
          "text": [
            "RP3betaRecommender: URM Detected 466 ( 3.7%) users with no interactions.\n",
            "RP3betaRecommender: URM Detected 322 ( 1.4%) items with no interactions.\n",
            "RP3betaRecommender: Similarity column 22222 (100.0%), 2994.88 column/sec. Elapsed time 7.42 sec\n",
            "EvaluatorHoldout: Processed 10039 (100.0%) in 8.84 sec. Users per second: 1136\n"
          ]
        },
        {
          "output_type": "stream",
          "name": "stderr",
          "text": [
            "[I 2023-11-27 08:37:47,959] Trial 65 finished with value: 0.02986542563367966 and parameters: {'topK': 41, 'alpha': 0.16922140959812465, 'beta': 0.18075708004989346}. Best is trial 48 with value: 0.030050046880657714.\n"
          ]
        },
        {
          "output_type": "stream",
          "name": "stdout",
          "text": [
            "RP3betaRecommender: URM Detected 466 ( 3.7%) users with no interactions.\n",
            "RP3betaRecommender: URM Detected 322 ( 1.4%) items with no interactions.\n",
            "RP3betaRecommender: Similarity column 22222 (100.0%), 3059.06 column/sec. Elapsed time 7.26 sec\n",
            "EvaluatorHoldout: Processed 10039 (100.0%) in 8.62 sec. Users per second: 1165\n"
          ]
        },
        {
          "output_type": "stream",
          "name": "stderr",
          "text": [
            "[I 2023-11-27 08:38:05,735] Trial 66 finished with value: 0.029247680079436376 and parameters: {'topK': 35, 'alpha': 0.2752645493064714, 'beta': 0.3118496118632493}. Best is trial 48 with value: 0.030050046880657714.\n"
          ]
        },
        {
          "output_type": "stream",
          "name": "stdout",
          "text": [
            "RP3betaRecommender: URM Detected 466 ( 3.7%) users with no interactions.\n",
            "RP3betaRecommender: URM Detected 322 ( 1.4%) items with no interactions.\n",
            "RP3betaRecommender: Similarity column 22222 (100.0%), 3321.46 column/sec. Elapsed time 6.69 sec\n",
            "EvaluatorHoldout: Processed 10039 (100.0%) in 9.00 sec. Users per second: 1115\n"
          ]
        },
        {
          "output_type": "stream",
          "name": "stderr",
          "text": [
            "[I 2023-11-27 08:38:22,863] Trial 67 finished with value: 0.02711653914811608 and parameters: {'topK': 27, 'alpha': 0.201060125560603, 'beta': 0.452629430670354}. Best is trial 48 with value: 0.030050046880657714.\n"
          ]
        },
        {
          "output_type": "stream",
          "name": "stdout",
          "text": [
            "RP3betaRecommender: URM Detected 466 ( 3.7%) users with no interactions.\n",
            "RP3betaRecommender: URM Detected 322 ( 1.4%) items with no interactions.\n",
            "RP3betaRecommender: Similarity column 22222 (100.0%), 3078.60 column/sec. Elapsed time 7.22 sec\n",
            "EvaluatorHoldout: Processed 10039 (100.0%) in 8.42 sec. Users per second: 1192\n"
          ]
        },
        {
          "output_type": "stream",
          "name": "stderr",
          "text": [
            "[I 2023-11-27 08:38:40,675] Trial 68 finished with value: 0.029992201050822634 and parameters: {'topK': 46, 'alpha': 0.22529663447127518, 'beta': 0.1728548100530598}. Best is trial 48 with value: 0.030050046880657714.\n"
          ]
        },
        {
          "output_type": "stream",
          "name": "stdout",
          "text": [
            "RP3betaRecommender: URM Detected 466 ( 3.7%) users with no interactions.\n",
            "RP3betaRecommender: URM Detected 322 ( 1.4%) items with no interactions.\n",
            "RP3betaRecommender: Similarity column 22222 (100.0%), 3095.18 column/sec. Elapsed time 7.18 sec\n",
            "EvaluatorHoldout: Processed 10039 (100.0%) in 8.23 sec. Users per second: 1220\n"
          ]
        },
        {
          "output_type": "stream",
          "name": "stderr",
          "text": [
            "[I 2023-11-27 08:38:58,271] Trial 69 finished with value: 0.029663534437914616 and parameters: {'topK': 47, 'alpha': 0.14143771570617528, 'beta': 0.07421576998210092}. Best is trial 48 with value: 0.030050046880657714.\n"
          ]
        },
        {
          "output_type": "stream",
          "name": "stdout",
          "text": [
            "RP3betaRecommender: URM Detected 466 ( 3.7%) users with no interactions.\n",
            "RP3betaRecommender: URM Detected 322 ( 1.4%) items with no interactions.\n",
            "RP3betaRecommender: Similarity column 22222 (100.0%), 2961.48 column/sec. Elapsed time 7.50 sec\n",
            "EvaluatorHoldout: Processed 10039 (100.0%) in 8.12 sec. Users per second: 1237\n"
          ]
        },
        {
          "output_type": "stream",
          "name": "stderr",
          "text": [
            "[I 2023-11-27 08:39:16,882] Trial 70 finished with value: 0.029437127741490852 and parameters: {'topK': 49, 'alpha': 0.44558648432135006, 'beta': 0.27490399760673345}. Best is trial 48 with value: 0.030050046880657714.\n"
          ]
        },
        {
          "output_type": "stream",
          "name": "stdout",
          "text": [
            "RP3betaRecommender: URM Detected 466 ( 3.7%) users with no interactions.\n",
            "RP3betaRecommender: URM Detected 322 ( 1.4%) items with no interactions.\n",
            "RP3betaRecommender: Similarity column 22222 (100.0%), 2822.80 column/sec. Elapsed time 7.87 sec\n",
            "EvaluatorHoldout: Processed 10039 (100.0%) in 7.58 sec. Users per second: 1324\n"
          ]
        },
        {
          "output_type": "stream",
          "name": "stderr",
          "text": [
            "[I 2023-11-27 08:39:34,988] Trial 71 finished with value: 0.030072068140601108 and parameters: {'topK': 45, 'alpha': 0.22277135147013916, 'beta': 0.1918224037089753}. Best is trial 71 with value: 0.030072068140601108.\n"
          ]
        },
        {
          "output_type": "stream",
          "name": "stdout",
          "text": [
            "RP3betaRecommender: URM Detected 466 ( 3.7%) users with no interactions.\n",
            "RP3betaRecommender: URM Detected 322 ( 1.4%) items with no interactions.\n",
            "RP3betaRecommender: Similarity column 22222 (100.0%), 2103.79 column/sec. Elapsed time 10.56 sec\n",
            "EvaluatorHoldout: Processed 10039 (100.0%) in 7.92 sec. Users per second: 1267\n"
          ]
        },
        {
          "output_type": "stream",
          "name": "stderr",
          "text": [
            "[I 2023-11-27 08:39:56,177] Trial 72 finished with value: 0.029920192202790293 and parameters: {'topK': 45, 'alpha': 0.26523216920422166, 'beta': 0.17152908055534238}. Best is trial 71 with value: 0.030072068140601108.\n"
          ]
        },
        {
          "output_type": "stream",
          "name": "stdout",
          "text": [
            "RP3betaRecommender: URM Detected 466 ( 3.7%) users with no interactions.\n",
            "RP3betaRecommender: URM Detected 322 ( 1.4%) items with no interactions.\n",
            "RP3betaRecommender: Similarity column 22222 (100.0%), 2892.33 column/sec. Elapsed time 7.68 sec\n",
            "EvaluatorHoldout: Processed 10039 (100.0%) in 7.58 sec. Users per second: 1325\n"
          ]
        },
        {
          "output_type": "stream",
          "name": "stderr",
          "text": [
            "[I 2023-11-27 08:40:13,790] Trial 73 finished with value: 0.02971415052722971 and parameters: {'topK': 36, 'alpha': 0.2288754072569422, 'beta': 0.21664399814691696}. Best is trial 71 with value: 0.030072068140601108.\n"
          ]
        },
        {
          "output_type": "stream",
          "name": "stdout",
          "text": [
            "RP3betaRecommender: URM Detected 466 ( 3.7%) users with no interactions.\n",
            "RP3betaRecommender: URM Detected 322 ( 1.4%) items with no interactions.\n",
            "RP3betaRecommender: Similarity column 22222 (100.0%), 2365.69 column/sec. Elapsed time 9.39 sec\n",
            "EvaluatorHoldout: Processed 10039 (100.0%) in 6.97 sec. Users per second: 1441\n"
          ]
        },
        {
          "output_type": "stream",
          "name": "stderr",
          "text": [
            "[I 2023-11-27 08:40:33,232] Trial 74 finished with value: 0.029858440969109497 and parameters: {'topK': 58, 'alpha': 0.2900268553494998, 'beta': 0.1610518102987289}. Best is trial 71 with value: 0.030072068140601108.\n"
          ]
        },
        {
          "output_type": "stream",
          "name": "stdout",
          "text": [
            "RP3betaRecommender: URM Detected 466 ( 3.7%) users with no interactions.\n",
            "RP3betaRecommender: URM Detected 322 ( 1.4%) items with no interactions.\n",
            "RP3betaRecommender: Similarity column 22222 (100.0%), 2498.31 column/sec. Elapsed time 8.89 sec\n",
            "EvaluatorHoldout: Processed 10039 (100.0%) in 6.68 sec. Users per second: 1502\n"
          ]
        },
        {
          "output_type": "stream",
          "name": "stderr",
          "text": [
            "[I 2023-11-27 08:40:51,315] Trial 75 finished with value: 0.02959263238449423 and parameters: {'topK': 39, 'alpha': 0.42856269876143455, 'beta': 0.26323340433756903}. Best is trial 71 with value: 0.030072068140601108.\n"
          ]
        },
        {
          "output_type": "stream",
          "name": "stdout",
          "text": [
            "RP3betaRecommender: URM Detected 466 ( 3.7%) users with no interactions.\n",
            "RP3betaRecommender: URM Detected 322 ( 1.4%) items with no interactions.\n",
            "RP3betaRecommender: Similarity column 22222 (100.0%), 2346.36 column/sec. Elapsed time 9.47 sec\n",
            "EvaluatorHoldout: Processed 10039 (100.0%) in 6.31 sec. Users per second: 1590\n"
          ]
        },
        {
          "output_type": "stream",
          "name": "stderr",
          "text": [
            "[I 2023-11-27 08:41:09,375] Trial 76 finished with value: 0.02986006953832452 and parameters: {'topK': 46, 'alpha': 0.24080882289623776, 'beta': 0.11851312177393544}. Best is trial 71 with value: 0.030072068140601108.\n"
          ]
        },
        {
          "output_type": "stream",
          "name": "stdout",
          "text": [
            "RP3betaRecommender: URM Detected 466 ( 3.7%) users with no interactions.\n",
            "RP3betaRecommender: URM Detected 322 ( 1.4%) items with no interactions.\n",
            "RP3betaRecommender: Similarity column 22222 (100.0%), 2276.81 column/sec. Elapsed time 9.76 sec\n",
            "EvaluatorHoldout: Processed 10039 (100.0%) in 6.35 sec. Users per second: 1582\n"
          ]
        },
        {
          "output_type": "stream",
          "name": "stderr",
          "text": [
            "[I 2023-11-27 08:41:27,541] Trial 77 finished with value: 0.029896281486330455 and parameters: {'topK': 49, 'alpha': 0.33087313832170606, 'beta': 0.1432296060307113}. Best is trial 71 with value: 0.030072068140601108.\n"
          ]
        },
        {
          "output_type": "stream",
          "name": "stdout",
          "text": [
            "RP3betaRecommender: URM Detected 466 ( 3.7%) users with no interactions.\n",
            "RP3betaRecommender: URM Detected 322 ( 1.4%) items with no interactions.\n",
            "RP3betaRecommender: Similarity column 22222 (100.0%), 2475.90 column/sec. Elapsed time 8.98 sec\n",
            "EvaluatorHoldout: Processed 10039 (100.0%) in 6.27 sec. Users per second: 1600\n"
          ]
        },
        {
          "output_type": "stream",
          "name": "stderr",
          "text": [
            "[I 2023-11-27 08:41:44,602] Trial 78 finished with value: 0.029948447088102625 and parameters: {'topK': 28, 'alpha': 0.19180373999201827, 'beta': 0.19506295576103344}. Best is trial 71 with value: 0.030072068140601108.\n"
          ]
        },
        {
          "output_type": "stream",
          "name": "stdout",
          "text": [
            "RP3betaRecommender: URM Detected 466 ( 3.7%) users with no interactions.\n",
            "RP3betaRecommender: URM Detected 322 ( 1.4%) items with no interactions.\n",
            "RP3betaRecommender: Similarity column 22222 (100.0%), 2339.71 column/sec. Elapsed time 9.50 sec\n",
            "EvaluatorHoldout: Processed 10039 (100.0%) in 6.57 sec. Users per second: 1528\n"
          ]
        },
        {
          "output_type": "stream",
          "name": "stderr",
          "text": [
            "[I 2023-11-27 08:42:03,059] Trial 79 finished with value: 0.02840747671383219 and parameters: {'topK': 42, 'alpha': 0.3089440659581348, 'beta': 0.37849852543522783}. Best is trial 71 with value: 0.030072068140601108.\n"
          ]
        },
        {
          "output_type": "stream",
          "name": "stdout",
          "text": [
            "RP3betaRecommender: URM Detected 466 ( 3.7%) users with no interactions.\n",
            "RP3betaRecommender: URM Detected 322 ( 1.4%) items with no interactions.\n",
            "RP3betaRecommender: Similarity column 22222 (100.0%), 2149.38 column/sec. Elapsed time 10.34 sec\n",
            "EvaluatorHoldout: Processed 10039 (100.0%) in 6.58 sec. Users per second: 1526\n"
          ]
        },
        {
          "output_type": "stream",
          "name": "stderr",
          "text": [
            "[I 2023-11-27 08:42:21,930] Trial 80 finished with value: 0.015259377317351195 and parameters: {'topK': 52, 'alpha': 0.4239485342984955, 'beta': 0.6405673925986771}. Best is trial 71 with value: 0.030072068140601108.\n"
          ]
        },
        {
          "output_type": "stream",
          "name": "stdout",
          "text": [
            "RP3betaRecommender: URM Detected 466 ( 3.7%) users with no interactions.\n",
            "RP3betaRecommender: URM Detected 322 ( 1.4%) items with no interactions.\n",
            "RP3betaRecommender: Similarity column 22222 (100.0%), 2257.47 column/sec. Elapsed time 9.84 sec\n",
            "EvaluatorHoldout: Processed 10039 (100.0%) in 6.44 sec. Users per second: 1558\n"
          ]
        },
        {
          "output_type": "stream",
          "name": "stderr",
          "text": [
            "[I 2023-11-27 08:42:39,601] Trial 81 finished with value: 0.0297322229021106 and parameters: {'topK': 37, 'alpha': 0.20100605990451417, 'beta': 0.1912262625256008}. Best is trial 71 with value: 0.030072068140601108.\n"
          ]
        },
        {
          "output_type": "stream",
          "name": "stdout",
          "text": [
            "RP3betaRecommender: URM Detected 466 ( 3.7%) users with no interactions.\n",
            "RP3betaRecommender: URM Detected 322 ( 1.4%) items with no interactions.\n",
            "RP3betaRecommender: Similarity column 22222 (100.0%), 1989.87 column/sec. Elapsed time 11.17 sec\n",
            "EvaluatorHoldout: Processed 10039 (100.0%) in 6.60 sec. Users per second: 1520\n"
          ]
        },
        {
          "output_type": "stream",
          "name": "stderr",
          "text": [
            "[I 2023-11-27 08:42:59,433] Trial 82 finished with value: 0.029393927176076973 and parameters: {'topK': 58, 'alpha': 0.27415524857226836, 'beta': 0.2561374575355193}. Best is trial 71 with value: 0.030072068140601108.\n"
          ]
        },
        {
          "output_type": "stream",
          "name": "stdout",
          "text": [
            "RP3betaRecommender: URM Detected 466 ( 3.7%) users with no interactions.\n",
            "RP3betaRecommender: URM Detected 322 ( 1.4%) items with no interactions.\n",
            "RP3betaRecommender: Similarity column 22222 (100.0%), 2070.25 column/sec. Elapsed time 10.73 sec\n",
            "EvaluatorHoldout: Processed 10039 (100.0%) in 6.38 sec. Users per second: 1575\n"
          ]
        },
        {
          "output_type": "stream",
          "name": "stderr",
          "text": [
            "[I 2023-11-27 08:43:17,862] Trial 83 finished with value: 0.029994213045313925 and parameters: {'topK': 41, 'alpha': 0.23628561721464292, 'beta': 0.144756043159825}. Best is trial 71 with value: 0.030072068140601108.\n"
          ]
        },
        {
          "output_type": "stream",
          "name": "stdout",
          "text": [
            "RP3betaRecommender: URM Detected 466 ( 3.7%) users with no interactions.\n",
            "RP3betaRecommender: URM Detected 322 ( 1.4%) items with no interactions.\n",
            "RP3betaRecommender: Similarity column 22222 (100.0%), 2078.46 column/sec. Elapsed time 10.69 sec\n",
            "EvaluatorHoldout: Processed 10039 (100.0%) in 6.35 sec. Users per second: 1581\n"
          ]
        },
        {
          "output_type": "stream",
          "name": "stderr",
          "text": [
            "[I 2023-11-27 08:43:36,396] Trial 84 finished with value: 0.030036966940045134 and parameters: {'topK': 44, 'alpha': 0.22732075588423326, 'beta': 0.15847488951840843}. Best is trial 71 with value: 0.030072068140601108.\n"
          ]
        },
        {
          "output_type": "stream",
          "name": "stdout",
          "text": [
            "RP3betaRecommender: URM Detected 466 ( 3.7%) users with no interactions.\n",
            "RP3betaRecommender: URM Detected 322 ( 1.4%) items with no interactions.\n",
            "RP3betaRecommender: Similarity column 22222 (100.0%), 2093.78 column/sec. Elapsed time 10.61 sec\n",
            "EvaluatorHoldout: Processed 10039 (100.0%) in 6.48 sec. Users per second: 1549\n"
          ]
        },
        {
          "output_type": "stream",
          "name": "stderr",
          "text": [
            "[I 2023-11-27 08:43:54,799] Trial 85 finished with value: 0.03000708743835565 and parameters: {'topK': 39, 'alpha': 0.222662340516707, 'beta': 0.14504851339903888}. Best is trial 71 with value: 0.030072068140601108.\n"
          ]
        },
        {
          "output_type": "stream",
          "name": "stdout",
          "text": [
            "RP3betaRecommender: URM Detected 466 ( 3.7%) users with no interactions.\n",
            "RP3betaRecommender: URM Detected 322 ( 1.4%) items with no interactions.\n",
            "RP3betaRecommender: Similarity column 22222 (100.0%), 2130.97 column/sec. Elapsed time 10.43 sec\n",
            "EvaluatorHoldout: Processed 10039 (100.0%) in 6.31 sec. Users per second: 1590\n"
          ]
        },
        {
          "output_type": "stream",
          "name": "stderr",
          "text": [
            "[I 2023-11-27 08:44:12,740] Trial 86 finished with value: 0.029880414794998113 and parameters: {'topK': 32, 'alpha': 0.17754960390249172, 'beta': 0.15006469893989563}. Best is trial 71 with value: 0.030072068140601108.\n"
          ]
        },
        {
          "output_type": "stream",
          "name": "stdout",
          "text": [
            "RP3betaRecommender: URM Detected 466 ( 3.7%) users with no interactions.\n",
            "RP3betaRecommender: URM Detected 322 ( 1.4%) items with no interactions.\n",
            "RP3betaRecommender: Similarity column 22222 (100.0%), 2207.58 column/sec. Elapsed time 10.07 sec\n",
            "EvaluatorHoldout: Processed 10039 (100.0%) in 8.04 sec. Users per second: 1248\n"
          ]
        },
        {
          "output_type": "stream",
          "name": "stderr",
          "text": [
            "[I 2023-11-27 08:44:31,927] Trial 87 finished with value: 0.02912935187688668 and parameters: {'topK': 19, 'alpha': 0.15744165085219022, 'beta': 0.21768103186492452}. Best is trial 71 with value: 0.030072068140601108.\n"
          ]
        },
        {
          "output_type": "stream",
          "name": "stdout",
          "text": [
            "RP3betaRecommender: URM Detected 466 ( 3.7%) users with no interactions.\n",
            "RP3betaRecommender: URM Detected 322 ( 1.4%) items with no interactions.\n",
            "RP3betaRecommender: Similarity column 22222 (100.0%), 1917.07 column/sec. Elapsed time 11.59 sec\n",
            "EvaluatorHoldout: Processed 10039 (100.0%) in 6.52 sec. Users per second: 1541\n"
          ]
        },
        {
          "output_type": "stream",
          "name": "stderr",
          "text": [
            "[I 2023-11-27 08:44:51,732] Trial 88 finished with value: 0.029534545431547283 and parameters: {'topK': 39, 'alpha': 0.25350806496673123, 'beta': 0.2761093381591309}. Best is trial 71 with value: 0.030072068140601108.\n"
          ]
        },
        {
          "output_type": "stream",
          "name": "stdout",
          "text": [
            "RP3betaRecommender: URM Detected 466 ( 3.7%) users with no interactions.\n",
            "RP3betaRecommender: URM Detected 322 ( 1.4%) items with no interactions.\n",
            "RP3betaRecommender: Similarity column 22222 (100.0%), 2140.04 column/sec. Elapsed time 10.38 sec\n",
            "EvaluatorHoldout: Processed 10039 (100.0%) in 6.16 sec. Users per second: 1629\n"
          ]
        },
        {
          "output_type": "stream",
          "name": "stderr",
          "text": [
            "[I 2023-11-27 08:45:09,407] Trial 89 finished with value: 0.02976065171229059 and parameters: {'topK': 31, 'alpha': 0.2289247814209212, 'beta': 0.11540094043965225}. Best is trial 71 with value: 0.030072068140601108.\n"
          ]
        },
        {
          "output_type": "stream",
          "name": "stdout",
          "text": [
            "RP3betaRecommender: URM Detected 466 ( 3.7%) users with no interactions.\n",
            "RP3betaRecommender: URM Detected 322 ( 1.4%) items with no interactions.\n",
            "RP3betaRecommender: Similarity column 22222 (100.0%), 2060.08 column/sec. Elapsed time 10.79 sec\n",
            "EvaluatorHoldout: Processed 10039 (100.0%) in 6.32 sec. Users per second: 1589\n"
          ]
        },
        {
          "output_type": "stream",
          "name": "stderr",
          "text": [
            "[I 2023-11-27 08:45:27,916] Trial 90 finished with value: 0.02997884441155701 and parameters: {'topK': 43, 'alpha': 0.22227821060379588, 'beta': 0.1523423736053383}. Best is trial 71 with value: 0.030072068140601108.\n"
          ]
        },
        {
          "output_type": "stream",
          "name": "stdout",
          "text": [
            "RP3betaRecommender: URM Detected 466 ( 3.7%) users with no interactions.\n",
            "RP3betaRecommender: URM Detected 322 ( 1.4%) items with no interactions.\n",
            "RP3betaRecommender: Similarity column 22222 (100.0%), 2004.69 column/sec. Elapsed time 11.08 sec\n",
            "EvaluatorHoldout: Processed 10039 (100.0%) in 6.27 sec. Users per second: 1600\n"
          ]
        },
        {
          "output_type": "stream",
          "name": "stderr",
          "text": [
            "[I 2023-11-27 08:45:46,676] Trial 91 finished with value: 0.02968656367152254 and parameters: {'topK': 52, 'alpha': 0.21004395981794874, 'beta': 0.08142208702676064}. Best is trial 71 with value: 0.030072068140601108.\n"
          ]
        },
        {
          "output_type": "stream",
          "name": "stdout",
          "text": [
            "RP3betaRecommender: URM Detected 466 ( 3.7%) users with no interactions.\n",
            "RP3betaRecommender: URM Detected 322 ( 1.4%) items with no interactions.\n",
            "RP3betaRecommender: Similarity column 22222 (100.0%), 2058.58 column/sec. Elapsed time 10.79 sec\n",
            "EvaluatorHoldout: Processed 10039 (100.0%) in 6.33 sec. Users per second: 1586\n"
          ]
        },
        {
          "output_type": "stream",
          "name": "stderr",
          "text": [
            "[I 2023-11-27 08:46:05,189] Trial 92 finished with value: 0.029935699185873722 and parameters: {'topK': 43, 'alpha': 0.2245466627264531, 'beta': 0.1473633689478817}. Best is trial 71 with value: 0.030072068140601108.\n"
          ]
        },
        {
          "output_type": "stream",
          "name": "stdout",
          "text": [
            "RP3betaRecommender: URM Detected 466 ( 3.7%) users with no interactions.\n",
            "RP3betaRecommender: URM Detected 322 ( 1.4%) items with no interactions.\n",
            "RP3betaRecommender: Similarity column 22222 (100.0%), 1970.42 column/sec. Elapsed time 11.28 sec\n",
            "EvaluatorHoldout: Processed 10039 (100.0%) in 6.85 sec. Users per second: 1465\n"
          ]
        },
        {
          "output_type": "stream",
          "name": "stderr",
          "text": [
            "[I 2023-11-27 08:46:25,302] Trial 93 finished with value: 0.029871793655537153 and parameters: {'topK': 56, 'alpha': 0.3997427650166044, 'beta': 0.23059904016213725}. Best is trial 71 with value: 0.030072068140601108.\n"
          ]
        },
        {
          "output_type": "stream",
          "name": "stdout",
          "text": [
            "RP3betaRecommender: URM Detected 466 ( 3.7%) users with no interactions.\n",
            "RP3betaRecommender: URM Detected 322 ( 1.4%) items with no interactions.\n",
            "RP3betaRecommender: Similarity column 22222 (100.0%), 2122.54 column/sec. Elapsed time 10.47 sec\n",
            "EvaluatorHoldout: Processed 10039 (100.0%) in 6.69 sec. Users per second: 1501\n"
          ]
        },
        {
          "output_type": "stream",
          "name": "stderr",
          "text": [
            "[I 2023-11-27 08:46:43,898] Trial 94 finished with value: 0.029957455605677728 and parameters: {'topK': 49, 'alpha': 0.3392900658130389, 'beta': 0.11050303844011779}. Best is trial 71 with value: 0.030072068140601108.\n"
          ]
        },
        {
          "output_type": "stream",
          "name": "stdout",
          "text": [
            "RP3betaRecommender: URM Detected 466 ( 3.7%) users with no interactions.\n",
            "RP3betaRecommender: URM Detected 322 ( 1.4%) items with no interactions.\n",
            "RP3betaRecommender: Similarity column 22222 (100.0%), 2231.25 column/sec. Elapsed time 9.96 sec\n",
            "EvaluatorHoldout: Processed 10039 (100.0%) in 6.66 sec. Users per second: 1508\n"
          ]
        },
        {
          "output_type": "stream",
          "name": "stderr",
          "text": [
            "[I 2023-11-27 08:47:01,873] Trial 95 finished with value: 0.030030729361838253 and parameters: {'topK': 38, 'alpha': 0.15649335396436936, 'beta': 0.15972308881899208}. Best is trial 71 with value: 0.030072068140601108.\n"
          ]
        },
        {
          "output_type": "stream",
          "name": "stdout",
          "text": [
            "RP3betaRecommender: URM Detected 466 ( 3.7%) users with no interactions.\n",
            "RP3betaRecommender: URM Detected 322 ( 1.4%) items with no interactions.\n",
            "RP3betaRecommender: Similarity column 22222 (100.0%), 2360.38 column/sec. Elapsed time 9.41 sec\n",
            "EvaluatorHoldout: Processed 10039 (100.0%) in 6.63 sec. Users per second: 1513\n"
          ]
        },
        {
          "output_type": "stream",
          "name": "stderr",
          "text": [
            "[I 2023-11-27 08:47:19,408] Trial 96 finished with value: 0.029847321636095644 and parameters: {'topK': 37, 'alpha': 0.12149652633521461, 'beta': 0.1957596909779083}. Best is trial 71 with value: 0.030072068140601108.\n"
          ]
        },
        {
          "output_type": "stream",
          "name": "stdout",
          "text": [
            "RP3betaRecommender: URM Detected 466 ( 3.7%) users with no interactions.\n",
            "RP3betaRecommender: URM Detected 322 ( 1.4%) items with no interactions.\n",
            "RP3betaRecommender: Similarity column 22222 (100.0%), 2610.54 column/sec. Elapsed time 8.51 sec\n",
            "EvaluatorHoldout: Processed 10039 (100.0%) in 5.79 sec. Users per second: 1735\n"
          ]
        },
        {
          "output_type": "stream",
          "name": "stderr",
          "text": [
            "[I 2023-11-27 08:47:34,351] Trial 97 finished with value: 0.02140078693096918 and parameters: {'topK': 5, 'alpha': 0.18043839166674042, 'beta': 0.10546446020912636}. Best is trial 71 with value: 0.030072068140601108.\n"
          ]
        },
        {
          "output_type": "stream",
          "name": "stdout",
          "text": [
            "RP3betaRecommender: URM Detected 466 ( 3.7%) users with no interactions.\n",
            "RP3betaRecommender: URM Detected 322 ( 1.4%) items with no interactions.\n",
            "RP3betaRecommender: Similarity column 22222 (100.0%), 2074.96 column/sec. Elapsed time 10.71 sec\n",
            "EvaluatorHoldout: Processed 10039 (100.0%) in 6.30 sec. Users per second: 1595\n"
          ]
        },
        {
          "output_type": "stream",
          "name": "stderr",
          "text": [
            "[I 2023-11-27 08:47:52,635] Trial 98 finished with value: 0.029881628316233453 and parameters: {'topK': 39, 'alpha': 0.25048611128363296, 'beta': 0.1301964511239699}. Best is trial 71 with value: 0.030072068140601108.\n"
          ]
        },
        {
          "output_type": "stream",
          "name": "stdout",
          "text": [
            "RP3betaRecommender: URM Detected 466 ( 3.7%) users with no interactions.\n",
            "RP3betaRecommender: URM Detected 322 ( 1.4%) items with no interactions.\n",
            "RP3betaRecommender: Similarity column 22222 (100.0%), 1966.80 column/sec. Elapsed time 11.30 sec\n",
            "EvaluatorHoldout: Processed 10039 (100.0%) in 6.53 sec. Users per second: 1537\n"
          ]
        },
        {
          "output_type": "stream",
          "name": "stderr",
          "text": [
            "[I 2023-11-27 08:48:12,357] Trial 99 finished with value: 0.029680274706422826 and parameters: {'topK': 54, 'alpha': 0.15747578180587185, 'beta': 0.20074520205667248}. Best is trial 71 with value: 0.030072068140601108.\n"
          ]
        },
        {
          "output_type": "stream",
          "name": "stdout",
          "text": [
            "RP3betaRecommender: URM Detected 466 ( 3.7%) users with no interactions.\n",
            "RP3betaRecommender: URM Detected 322 ( 1.4%) items with no interactions.\n",
            "RP3betaRecommender: Similarity column 22222 (100.0%), 2070.35 column/sec. Elapsed time 10.73 sec\n",
            "EvaluatorHoldout: Processed 10039 (100.0%) in 6.48 sec. Users per second: 1550\n"
          ]
        },
        {
          "output_type": "stream",
          "name": "stderr",
          "text": [
            "[I 2023-11-27 08:48:31,109] Trial 100 finished with value: 0.02977174337543904 and parameters: {'topK': 40, 'alpha': 0.1882714181425257, 'beta': 0.2350047766487735}. Best is trial 71 with value: 0.030072068140601108.\n"
          ]
        },
        {
          "output_type": "stream",
          "name": "stdout",
          "text": [
            "RP3betaRecommender: URM Detected 466 ( 3.7%) users with no interactions.\n",
            "RP3betaRecommender: URM Detected 322 ( 1.4%) items with no interactions.\n",
            "RP3betaRecommender: Similarity column 22222 (100.0%), 2219.58 column/sec. Elapsed time 10.01 sec\n",
            "EvaluatorHoldout: Processed 10039 (100.0%) in 6.32 sec. Users per second: 1588\n"
          ]
        },
        {
          "output_type": "stream",
          "name": "stderr",
          "text": [
            "[I 2023-11-27 08:48:48,954] Trial 101 finished with value: 0.029897313177022586 and parameters: {'topK': 43, 'alpha': 0.215125920878734, 'beta': 0.16873428728401624}. Best is trial 71 with value: 0.030072068140601108.\n"
          ]
        },
        {
          "output_type": "stream",
          "name": "stdout",
          "text": [
            "RP3betaRecommender: URM Detected 466 ( 3.7%) users with no interactions.\n",
            "RP3betaRecommender: URM Detected 322 ( 1.4%) items with no interactions.\n",
            "RP3betaRecommender: Similarity column 22222 (100.0%), 2071.37 column/sec. Elapsed time 10.73 sec\n",
            "EvaluatorHoldout: Processed 10039 (100.0%) in 6.34 sec. Users per second: 1584\n"
          ]
        },
        {
          "output_type": "stream",
          "name": "stderr",
          "text": [
            "[I 2023-11-27 08:49:07,401] Trial 102 finished with value: 0.029857081192871754 and parameters: {'topK': 44, 'alpha': 0.2506784886101816, 'beta': 0.13352933774998663}. Best is trial 71 with value: 0.030072068140601108.\n"
          ]
        },
        {
          "output_type": "stream",
          "name": "stdout",
          "text": [
            "RP3betaRecommender: URM Detected 466 ( 3.7%) users with no interactions.\n",
            "RP3betaRecommender: URM Detected 322 ( 1.4%) items with no interactions.\n",
            "RP3betaRecommender: Similarity column 22222 (100.0%), 1739.80 column/sec. Elapsed time 12.77 sec\n",
            "EvaluatorHoldout: Processed 10039 (100.0%) in 7.40 sec. Users per second: 1356\n"
          ]
        },
        {
          "output_type": "stream",
          "name": "stderr",
          "text": [
            "[I 2023-11-27 08:49:30,321] Trial 103 finished with value: 0.02996685940704286 and parameters: {'topK': 50, 'alpha': 0.35525608073429005, 'beta': 0.16695217853681354}. Best is trial 71 with value: 0.030072068140601108.\n"
          ]
        },
        {
          "output_type": "stream",
          "name": "stdout",
          "text": [
            "RP3betaRecommender: URM Detected 466 ( 3.7%) users with no interactions.\n",
            "RP3betaRecommender: URM Detected 322 ( 1.4%) items with no interactions.\n",
            "RP3betaRecommender: Similarity column 22222 (100.0%), 2211.87 column/sec. Elapsed time 10.05 sec\n",
            "EvaluatorHoldout: Processed 10039 (100.0%) in 7.75 sec. Users per second: 1296\n"
          ]
        },
        {
          "output_type": "stream",
          "name": "stderr",
          "text": [
            "[I 2023-11-27 08:49:50,072] Trial 104 finished with value: 0.02917830382144571 and parameters: {'topK': 48, 'alpha': 0.2963496509606597, 'beta': 0.29554774469592215}. Best is trial 71 with value: 0.030072068140601108.\n"
          ]
        },
        {
          "output_type": "stream",
          "name": "stdout",
          "text": [
            "RP3betaRecommender: URM Detected 466 ( 3.7%) users with no interactions.\n",
            "RP3betaRecommender: URM Detected 322 ( 1.4%) items with no interactions.\n",
            "RP3betaRecommender: Similarity column 22222 (100.0%), 2377.68 column/sec. Elapsed time 9.35 sec\n",
            "EvaluatorHoldout: Processed 10039 (100.0%) in 8.59 sec. Users per second: 1169\n"
          ]
        },
        {
          "output_type": "stream",
          "name": "stderr",
          "text": [
            "[I 2023-11-27 08:50:10,020] Trial 105 finished with value: 0.029756683063038417 and parameters: {'topK': 60, 'alpha': 0.22582207139428656, 'beta': 0.15063377490642313}. Best is trial 71 with value: 0.030072068140601108.\n"
          ]
        },
        {
          "output_type": "stream",
          "name": "stdout",
          "text": [
            "RP3betaRecommender: URM Detected 466 ( 3.7%) users with no interactions.\n",
            "RP3betaRecommender: URM Detected 322 ( 1.4%) items with no interactions.\n",
            "RP3betaRecommender: Similarity column 22222 (100.0%), 2784.90 column/sec. Elapsed time 7.98 sec\n",
            "EvaluatorHoldout: Processed 10039 (100.0%) in 8.47 sec. Users per second: 1185\n"
          ]
        },
        {
          "output_type": "stream",
          "name": "stderr",
          "text": [
            "[I 2023-11-27 08:50:27,907] Trial 106 finished with value: 0.0296091512940802 and parameters: {'topK': 34, 'alpha': 0.26051493374369444, 'beta': 0.24702793916167118}. Best is trial 71 with value: 0.030072068140601108.\n"
          ]
        },
        {
          "output_type": "stream",
          "name": "stdout",
          "text": [
            "RP3betaRecommender: URM Detected 466 ( 3.7%) users with no interactions.\n",
            "RP3betaRecommender: URM Detected 322 ( 1.4%) items with no interactions.\n",
            "RP3betaRecommender: Similarity column 22222 (100.0%), 2731.70 column/sec. Elapsed time 8.13 sec\n",
            "EvaluatorHoldout: Processed 10039 (100.0%) in 8.93 sec. Users per second: 1124\n"
          ]
        },
        {
          "output_type": "stream",
          "name": "stderr",
          "text": [
            "[I 2023-11-27 08:50:46,525] Trial 107 finished with value: 0.029830431159747057 and parameters: {'topK': 52, 'alpha': 0.2952282518259409, 'beta': 0.1024337391890063}. Best is trial 71 with value: 0.030072068140601108.\n"
          ]
        },
        {
          "output_type": "stream",
          "name": "stdout",
          "text": [
            "RP3betaRecommender: URM Detected 466 ( 3.7%) users with no interactions.\n",
            "RP3betaRecommender: URM Detected 322 ( 1.4%) items with no interactions.\n",
            "RP3betaRecommender: Similarity column 22222 (100.0%), 2923.76 column/sec. Elapsed time 7.60 sec\n",
            "EvaluatorHoldout: Processed 10039 (100.0%) in 8.98 sec. Users per second: 1118\n"
          ]
        },
        {
          "output_type": "stream",
          "name": "stderr",
          "text": [
            "[I 2023-11-27 08:51:04,695] Trial 108 finished with value: 0.03004467102111315 and parameters: {'topK': 45, 'alpha': 0.20276128469849478, 'beta': 0.19726266586034166}. Best is trial 71 with value: 0.030072068140601108.\n"
          ]
        },
        {
          "output_type": "stream",
          "name": "stdout",
          "text": [
            "RP3betaRecommender: URM Detected 466 ( 3.7%) users with no interactions.\n",
            "RP3betaRecommender: URM Detected 322 ( 1.4%) items with no interactions.\n",
            "RP3betaRecommender: Similarity column 22222 (100.0%), 2970.75 column/sec. Elapsed time 7.48 sec\n",
            "EvaluatorHoldout: Processed 10039 (100.0%) in 8.96 sec. Users per second: 1120\n"
          ]
        },
        {
          "output_type": "stream",
          "name": "stderr",
          "text": [
            "[I 2023-11-27 08:51:22,776] Trial 109 finished with value: 0.029875161473428315 and parameters: {'topK': 45, 'alpha': 0.1941054166252877, 'beta': 0.20907040606671853}. Best is trial 71 with value: 0.030072068140601108.\n"
          ]
        },
        {
          "output_type": "stream",
          "name": "stdout",
          "text": [
            "RP3betaRecommender: URM Detected 466 ( 3.7%) users with no interactions.\n",
            "RP3betaRecommender: URM Detected 322 ( 1.4%) items with no interactions.\n",
            "RP3betaRecommender: Similarity column 22222 (100.0%), 2854.40 column/sec. Elapsed time 7.79 sec\n",
            "EvaluatorHoldout: Processed 10039 (100.0%) in 8.45 sec. Users per second: 1188\n"
          ]
        },
        {
          "output_type": "stream",
          "name": "stderr",
          "text": [
            "[I 2023-11-27 08:51:41,836] Trial 110 finished with value: 0.028432027790031768 and parameters: {'topK': 56, 'alpha': 0.1731670083367453, 'beta': 0.3669480239754674}. Best is trial 71 with value: 0.030072068140601108.\n"
          ]
        },
        {
          "output_type": "stream",
          "name": "stdout",
          "text": [
            "RP3betaRecommender: URM Detected 466 ( 3.7%) users with no interactions.\n",
            "RP3betaRecommender: URM Detected 322 ( 1.4%) items with no interactions.\n",
            "RP3betaRecommender: Similarity column 22222 (100.0%), 2893.99 column/sec. Elapsed time 7.68 sec\n",
            "EvaluatorHoldout: Processed 10039 (100.0%) in 7.84 sec. Users per second: 1280\n"
          ]
        },
        {
          "output_type": "stream",
          "name": "stderr",
          "text": [
            "[I 2023-11-27 08:51:59,723] Trial 111 finished with value: 0.030003644516544435 and parameters: {'topK': 42, 'alpha': 0.20940544141730172, 'beta': 0.15954552577097156}. Best is trial 71 with value: 0.030072068140601108.\n"
          ]
        },
        {
          "output_type": "stream",
          "name": "stdout",
          "text": [
            "RP3betaRecommender: URM Detected 466 ( 3.7%) users with no interactions.\n",
            "RP3betaRecommender: URM Detected 322 ( 1.4%) items with no interactions.\n",
            "RP3betaRecommender: Similarity column 22222 (100.0%), 2784.29 column/sec. Elapsed time 7.98 sec\n",
            "EvaluatorHoldout: Processed 10039 (100.0%) in 7.52 sec. Users per second: 1334\n"
          ]
        },
        {
          "output_type": "stream",
          "name": "stderr",
          "text": [
            "[I 2023-11-27 08:52:17,483] Trial 112 finished with value: 0.02994977919447506 and parameters: {'topK': 41, 'alpha': 0.1964850347934703, 'beta': 0.1244902189663677}. Best is trial 71 with value: 0.030072068140601108.\n"
          ]
        },
        {
          "output_type": "stream",
          "name": "stdout",
          "text": [
            "RP3betaRecommender: URM Detected 466 ( 3.7%) users with no interactions.\n",
            "RP3betaRecommender: URM Detected 322 ( 1.4%) items with no interactions.\n",
            "RP3betaRecommender: Similarity column 22222 (100.0%), 2425.23 column/sec. Elapsed time 9.16 sec\n",
            "EvaluatorHoldout: Processed 10039 (100.0%) in 6.94 sec. Users per second: 1446\n"
          ]
        },
        {
          "output_type": "stream",
          "name": "stderr",
          "text": [
            "[I 2023-11-27 08:52:36,985] Trial 113 finished with value: 0.02971992167056426 and parameters: {'topK': 65, 'alpha': 0.14601785391518526, 'beta': 0.18141112276198193}. Best is trial 71 with value: 0.030072068140601108.\n"
          ]
        },
        {
          "output_type": "stream",
          "name": "stdout",
          "text": [
            "RP3betaRecommender: URM Detected 466 ( 3.7%) users with no interactions.\n",
            "RP3betaRecommender: URM Detected 322 ( 1.4%) items with no interactions.\n",
            "RP3betaRecommender: Similarity column 22222 (100.0%), 2490.08 column/sec. Elapsed time 8.92 sec\n",
            "EvaluatorHoldout: Processed 10039 (100.0%) in 6.66 sec. Users per second: 1508\n"
          ]
        },
        {
          "output_type": "stream",
          "name": "stderr",
          "text": [
            "[I 2023-11-27 08:52:55,055] Trial 114 finished with value: 0.02944923133114197 and parameters: {'topK': 38, 'alpha': 0.2678765517532143, 'beta': 0.29864305295396404}. Best is trial 71 with value: 0.030072068140601108.\n"
          ]
        },
        {
          "output_type": "stream",
          "name": "stdout",
          "text": [
            "RP3betaRecommender: URM Detected 466 ( 3.7%) users with no interactions.\n",
            "RP3betaRecommender: URM Detected 322 ( 1.4%) items with no interactions.\n",
            "RP3betaRecommender: Similarity column 22222 (100.0%), 2351.99 column/sec. Elapsed time 9.45 sec\n",
            "EvaluatorHoldout: Processed 10039 (100.0%) in 6.47 sec. Users per second: 1552\n"
          ]
        },
        {
          "output_type": "stream",
          "name": "stderr",
          "text": [
            "[I 2023-11-27 08:53:13,474] Trial 115 finished with value: 0.029633243841083387 and parameters: {'topK': 46, 'alpha': 0.1705352520906208, 'beta': 0.24187223437833266}. Best is trial 71 with value: 0.030072068140601108.\n"
          ]
        },
        {
          "output_type": "stream",
          "name": "stdout",
          "text": [
            "RP3betaRecommender: URM Detected 466 ( 3.7%) users with no interactions.\n",
            "RP3betaRecommender: URM Detected 322 ( 1.4%) items with no interactions.\n",
            "RP3betaRecommender: Similarity column 22222 (100.0%), 2160.64 column/sec. Elapsed time 10.28 sec\n",
            "EvaluatorHoldout: Processed 10039 (100.0%) in 6.23 sec. Users per second: 1612\n"
          ]
        },
        {
          "output_type": "stream",
          "name": "stderr",
          "text": [
            "[I 2023-11-27 08:53:31,698] Trial 116 finished with value: 0.029810323073347446 and parameters: {'topK': 53, 'alpha': 0.36243615932043544, 'beta': 0.08698347400042511}. Best is trial 71 with value: 0.030072068140601108.\n"
          ]
        },
        {
          "output_type": "stream",
          "name": "stdout",
          "text": [
            "RP3betaRecommender: URM Detected 466 ( 3.7%) users with no interactions.\n",
            "RP3betaRecommender: URM Detected 322 ( 1.4%) items with no interactions.\n",
            "RP3betaRecommender: Similarity column 22222 (100.0%), 2168.73 column/sec. Elapsed time 10.25 sec\n",
            "EvaluatorHoldout: Processed 10039 (100.0%) in 6.36 sec. Users per second: 1578\n"
          ]
        },
        {
          "output_type": "stream",
          "name": "stderr",
          "text": [
            "[I 2023-11-27 08:53:49,909] Trial 117 finished with value: 0.0299954186608736 and parameters: {'topK': 48, 'alpha': 0.23512763651999025, 'beta': 0.16449989582127222}. Best is trial 71 with value: 0.030072068140601108.\n"
          ]
        },
        {
          "output_type": "stream",
          "name": "stdout",
          "text": [
            "RP3betaRecommender: URM Detected 466 ( 3.7%) users with no interactions.\n",
            "RP3betaRecommender: URM Detected 322 ( 1.4%) items with no interactions.\n",
            "RP3betaRecommender: Similarity column 22222 (100.0%), 2299.35 column/sec. Elapsed time 9.66 sec\n",
            "EvaluatorHoldout: Processed 10039 (100.0%) in 8.83 sec. Users per second: 1136\n"
          ]
        },
        {
          "output_type": "stream",
          "name": "stderr",
          "text": [
            "[I 2023-11-27 08:54:09,624] Trial 118 finished with value: 0.02977698088565727 and parameters: {'topK': 30, 'alpha': 0.20833971201497678, 'beta': 0.13901430413598362}. Best is trial 71 with value: 0.030072068140601108.\n"
          ]
        },
        {
          "output_type": "stream",
          "name": "stdout",
          "text": [
            "RP3betaRecommender: URM Detected 466 ( 3.7%) users with no interactions.\n",
            "RP3betaRecommender: URM Detected 322 ( 1.4%) items with no interactions.\n",
            "RP3betaRecommender: Similarity column 22222 (100.0%), 2166.64 column/sec. Elapsed time 10.26 sec\n",
            "EvaluatorHoldout: Processed 10039 (100.0%) in 6.45 sec. Users per second: 1556\n"
          ]
        },
        {
          "output_type": "stream",
          "name": "stderr",
          "text": [
            "[I 2023-11-27 08:54:27,831] Trial 119 finished with value: 0.029925311127871383 and parameters: {'topK': 50, 'alpha': 0.23657535412169303, 'beta': 0.11863391059435416}. Best is trial 71 with value: 0.030072068140601108.\n"
          ]
        },
        {
          "output_type": "stream",
          "name": "stdout",
          "text": [
            "RP3betaRecommender: URM Detected 466 ( 3.7%) users with no interactions.\n",
            "RP3betaRecommender: URM Detected 322 ( 1.4%) items with no interactions.\n",
            "RP3betaRecommender: Similarity column 22222 (100.0%), 2151.02 column/sec. Elapsed time 10.33 sec\n",
            "EvaluatorHoldout: Processed 10039 (100.0%) in 6.46 sec. Users per second: 1554\n"
          ]
        },
        {
          "output_type": "stream",
          "name": "stderr",
          "text": [
            "[I 2023-11-27 08:54:46,009] Trial 120 finished with value: 0.029585042935725468 and parameters: {'topK': 35, 'alpha': 0.47219480090220917, 'beta': 0.19846641140282062}. Best is trial 71 with value: 0.030072068140601108.\n"
          ]
        },
        {
          "output_type": "stream",
          "name": "stdout",
          "text": [
            "RP3betaRecommender: URM Detected 466 ( 3.7%) users with no interactions.\n",
            "RP3betaRecommender: URM Detected 322 ( 1.4%) items with no interactions.\n",
            "RP3betaRecommender: Similarity column 22222 (100.0%), 2228.42 column/sec. Elapsed time 9.97 sec\n",
            "EvaluatorHoldout: Processed 10039 (100.0%) in 6.62 sec. Users per second: 1516\n"
          ]
        },
        {
          "output_type": "stream",
          "name": "stderr",
          "text": [
            "[I 2023-11-27 08:55:04,186] Trial 121 finished with value: 0.02987273047811972 and parameters: {'topK': 45, 'alpha': 0.30747062221595145, 'beta': 0.17395668230920192}. Best is trial 71 with value: 0.030072068140601108.\n"
          ]
        },
        {
          "output_type": "stream",
          "name": "stdout",
          "text": [
            "RP3betaRecommender: URM Detected 466 ( 3.7%) users with no interactions.\n",
            "RP3betaRecommender: URM Detected 322 ( 1.4%) items with no interactions.\n",
            "RP3betaRecommender: Similarity column 22222 (100.0%), 2108.24 column/sec. Elapsed time 10.54 sec\n",
            "EvaluatorHoldout: Processed 10039 (100.0%) in 6.91 sec. Users per second: 1454\n"
          ]
        },
        {
          "output_type": "stream",
          "name": "stderr",
          "text": [
            "[I 2023-11-27 08:55:23,255] Trial 122 finished with value: 0.029922180480254162 and parameters: {'topK': 48, 'alpha': 0.24068663399381646, 'beta': 0.15733073967401312}. Best is trial 71 with value: 0.030072068140601108.\n"
          ]
        },
        {
          "output_type": "stream",
          "name": "stdout",
          "text": [
            "RP3betaRecommender: URM Detected 466 ( 3.7%) users with no interactions.\n",
            "RP3betaRecommender: URM Detected 322 ( 1.4%) items with no interactions.\n",
            "RP3betaRecommender: Similarity column 22222 (100.0%), 2237.39 column/sec. Elapsed time 9.93 sec\n",
            "EvaluatorHoldout: Processed 10039 (100.0%) in 7.18 sec. Users per second: 1399\n"
          ]
        },
        {
          "output_type": "stream",
          "name": "stderr",
          "text": [
            "[I 2023-11-27 08:55:42,041] Trial 123 finished with value: 0.02998173393606222 and parameters: {'topK': 42, 'alpha': 0.28084138789294, 'beta': 0.22063250013295857}. Best is trial 71 with value: 0.030072068140601108.\n"
          ]
        },
        {
          "output_type": "stream",
          "name": "stdout",
          "text": [
            "RP3betaRecommender: URM Detected 466 ( 3.7%) users with no interactions.\n",
            "RP3betaRecommender: URM Detected 322 ( 1.4%) items with no interactions.\n",
            "RP3betaRecommender: Similarity column 22222 (100.0%), 2440.37 column/sec. Elapsed time 9.11 sec\n",
            "EvaluatorHoldout: Processed 10039 (100.0%) in 7.17 sec. Users per second: 1400\n"
          ]
        },
        {
          "output_type": "stream",
          "name": "stderr",
          "text": [
            "[I 2023-11-27 08:55:59,926] Trial 124 finished with value: 0.0297016990878432 and parameters: {'topK': 42, 'alpha': 0.18456305188983038, 'beta': 0.21901232511265023}. Best is trial 71 with value: 0.030072068140601108.\n"
          ]
        },
        {
          "output_type": "stream",
          "name": "stdout",
          "text": [
            "RP3betaRecommender: URM Detected 466 ( 3.7%) users with no interactions.\n",
            "RP3betaRecommender: URM Detected 322 ( 1.4%) items with no interactions.\n",
            "RP3betaRecommender: Similarity column 22222 (100.0%), 2445.84 column/sec. Elapsed time 9.09 sec\n",
            "EvaluatorHoldout: Processed 10039 (100.0%) in 7.35 sec. Users per second: 1366\n"
          ]
        },
        {
          "output_type": "stream",
          "name": "stderr",
          "text": [
            "[I 2023-11-27 08:56:17,951] Trial 125 finished with value: 0.02961219102642557 and parameters: {'topK': 40, 'alpha': 0.2096171571828854, 'beta': 0.2695290311603279}. Best is trial 71 with value: 0.030072068140601108.\n"
          ]
        },
        {
          "output_type": "stream",
          "name": "stdout",
          "text": [
            "RP3betaRecommender: URM Detected 466 ( 3.7%) users with no interactions.\n",
            "RP3betaRecommender: URM Detected 322 ( 1.4%) items with no interactions.\n",
            "RP3betaRecommender: Similarity column 22222 (100.0%), 2405.64 column/sec. Elapsed time 9.24 sec\n",
            "EvaluatorHoldout: Processed 10039 (100.0%) in 7.57 sec. Users per second: 1327\n"
          ]
        },
        {
          "output_type": "stream",
          "name": "stderr",
          "text": [
            "[I 2023-11-27 08:56:36,504] Trial 126 finished with value: 0.02912980645324517 and parameters: {'topK': 37, 'alpha': 0.3833003041821367, 'beta': 0.3214740004103608}. Best is trial 71 with value: 0.030072068140601108.\n"
          ]
        },
        {
          "output_type": "stream",
          "name": "stdout",
          "text": [
            "RP3betaRecommender: URM Detected 466 ( 3.7%) users with no interactions.\n",
            "RP3betaRecommender: URM Detected 322 ( 1.4%) items with no interactions.\n",
            "RP3betaRecommender: Similarity column 22222 (100.0%), 2531.74 column/sec. Elapsed time 8.78 sec\n",
            "EvaluatorHoldout: Processed 10039 (100.0%) in 7.36 sec. Users per second: 1365\n"
          ]
        },
        {
          "output_type": "stream",
          "name": "stderr",
          "text": [
            "[I 2023-11-27 08:56:54,010] Trial 127 finished with value: 0.029678555221936284 and parameters: {'topK': 46, 'alpha': 0.1268103211661389, 'beta': 0.09701722109313733}. Best is trial 71 with value: 0.030072068140601108.\n"
          ]
        },
        {
          "output_type": "stream",
          "name": "stdout",
          "text": [
            "RP3betaRecommender: URM Detected 466 ( 3.7%) users with no interactions.\n",
            "RP3betaRecommender: URM Detected 322 ( 1.4%) items with no interactions.\n",
            "RP3betaRecommender: Similarity column 22222 (100.0%), 2484.42 column/sec. Elapsed time 8.94 sec\n",
            "EvaluatorHoldout: Processed 10039 (100.0%) in 7.40 sec. Users per second: 1357\n"
          ]
        },
        {
          "output_type": "stream",
          "name": "stderr",
          "text": [
            "[I 2023-11-27 08:57:11,835] Trial 128 finished with value: 0.029551301511407318 and parameters: {'topK': 34, 'alpha': 0.33122769166874255, 'beta': 0.1954512460415657}. Best is trial 71 with value: 0.030072068140601108.\n"
          ]
        },
        {
          "output_type": "stream",
          "name": "stdout",
          "text": [
            "RP3betaRecommender: URM Detected 466 ( 3.7%) users with no interactions.\n",
            "RP3betaRecommender: URM Detected 322 ( 1.4%) items with no interactions.\n",
            "RP3betaRecommender: Similarity column 22222 (100.0%), 2535.11 column/sec. Elapsed time 8.77 sec\n",
            "EvaluatorHoldout: Processed 10039 (100.0%) in 7.34 sec. Users per second: 1368\n"
          ]
        },
        {
          "output_type": "stream",
          "name": "stderr",
          "text": [
            "[I 2023-11-27 08:57:29,328] Trial 129 finished with value: 0.02988179828826323 and parameters: {'topK': 44, 'alpha': 0.2668896982981879, 'beta': 0.13532139281875794}. Best is trial 71 with value: 0.030072068140601108.\n"
          ]
        },
        {
          "output_type": "stream",
          "name": "stdout",
          "text": [
            "RP3betaRecommender: URM Detected 466 ( 3.7%) users with no interactions.\n",
            "RP3betaRecommender: URM Detected 322 ( 1.4%) items with no interactions.\n",
            "RP3betaRecommender: Similarity column 22222 (100.0%), 2374.27 column/sec. Elapsed time 9.36 sec\n",
            "EvaluatorHoldout: Processed 10039 (100.0%) in 7.46 sec. Users per second: 1346\n"
          ]
        },
        {
          "output_type": "stream",
          "name": "stderr",
          "text": [
            "[I 2023-11-27 08:57:47,555] Trial 130 finished with value: 0.029743650556480716 and parameters: {'topK': 48, 'alpha': 0.22711808170087155, 'beta': 0.1109392321573878}. Best is trial 71 with value: 0.030072068140601108.\n"
          ]
        },
        {
          "output_type": "stream",
          "name": "stdout",
          "text": [
            "RP3betaRecommender: URM Detected 466 ( 3.7%) users with no interactions.\n",
            "RP3betaRecommender: URM Detected 322 ( 1.4%) items with no interactions.\n",
            "RP3betaRecommender: Similarity column 22222 (100.0%), 2480.38 column/sec. Elapsed time 8.96 sec\n",
            "EvaluatorHoldout: Processed 10039 (100.0%) in 7.91 sec. Users per second: 1270\n"
          ]
        },
        {
          "output_type": "stream",
          "name": "stderr",
          "text": [
            "[I 2023-11-27 08:58:06,107] Trial 131 finished with value: 0.030002189872197056 and parameters: {'topK': 50, 'alpha': 0.2948587314788505, 'beta': 0.1587262711796012}. Best is trial 71 with value: 0.030072068140601108.\n"
          ]
        },
        {
          "output_type": "stream",
          "name": "stdout",
          "text": [
            "RP3betaRecommender: URM Detected 466 ( 3.7%) users with no interactions.\n",
            "RP3betaRecommender: URM Detected 322 ( 1.4%) items with no interactions.\n",
            "RP3betaRecommender: Similarity column 22222 (100.0%), 2487.26 column/sec. Elapsed time 8.93 sec\n",
            "EvaluatorHoldout: Processed 10039 (100.0%) in 8.32 sec. Users per second: 1207\n"
          ]
        },
        {
          "output_type": "stream",
          "name": "stderr",
          "text": [
            "[I 2023-11-27 08:58:24,972] Trial 132 finished with value: 0.029907677517997448 and parameters: {'topK': 50, 'alpha': 0.25637521317306405, 'beta': 0.1568491849106481}. Best is trial 71 with value: 0.030072068140601108.\n"
          ]
        },
        {
          "output_type": "stream",
          "name": "stdout",
          "text": [
            "RP3betaRecommender: URM Detected 466 ( 3.7%) users with no interactions.\n",
            "RP3betaRecommender: URM Detected 322 ( 1.4%) items with no interactions.\n",
            "RP3betaRecommender: Similarity column 22222 (100.0%), 2768.23 column/sec. Elapsed time 8.03 sec\n",
            "EvaluatorHoldout: Processed 10039 (100.0%) in 8.55 sec. Users per second: 1174\n"
          ]
        },
        {
          "output_type": "stream",
          "name": "stderr",
          "text": [
            "[I 2023-11-27 08:58:43,144] Trial 133 finished with value: 0.030026974165832842 and parameters: {'topK': 41, 'alpha': 0.2868611845346947, 'beta': 0.2100605014450485}. Best is trial 71 with value: 0.030072068140601108.\n"
          ]
        },
        {
          "output_type": "stream",
          "name": "stdout",
          "text": [
            "RP3betaRecommender: URM Detected 466 ( 3.7%) users with no interactions.\n",
            "RP3betaRecommender: URM Detected 322 ( 1.4%) items with no interactions.\n",
            "RP3betaRecommender: Similarity column 22222 (100.0%), 2270.33 column/sec. Elapsed time 9.79 sec\n",
            "EvaluatorHoldout: Processed 10039 (100.0%) in 9.83 sec. Users per second: 1021\n"
          ]
        },
        {
          "output_type": "stream",
          "name": "stderr",
          "text": [
            "[I 2023-11-27 08:59:05,922] Trial 134 finished with value: 0.03004651304357468 and parameters: {'topK': 51, 'alpha': 0.3306367806828278, 'beta': 0.1840554148464167}. Best is trial 71 with value: 0.030072068140601108.\n"
          ]
        },
        {
          "output_type": "stream",
          "name": "stdout",
          "text": [
            "RP3betaRecommender: URM Detected 466 ( 3.7%) users with no interactions.\n",
            "RP3betaRecommender: URM Detected 322 ( 1.4%) items with no interactions.\n",
            "RP3betaRecommender: Similarity column 22222 (100.0%), 2824.14 column/sec. Elapsed time 7.87 sec\n",
            "EvaluatorHoldout: Processed 10039 (100.0%) in 8.38 sec. Users per second: 1198\n"
          ]
        },
        {
          "output_type": "stream",
          "name": "stderr",
          "text": [
            "[I 2023-11-27 08:59:25,219] Trial 135 finished with value: 0.029459291303598686 and parameters: {'topK': 59, 'alpha': 0.33864216103985334, 'beta': 0.24768916531032478}. Best is trial 71 with value: 0.030072068140601108.\n"
          ]
        },
        {
          "output_type": "stream",
          "name": "stdout",
          "text": [
            "RP3betaRecommender: URM Detected 466 ( 3.7%) users with no interactions.\n",
            "RP3betaRecommender: URM Detected 322 ( 1.4%) items with no interactions.\n",
            "RP3betaRecommender: Similarity column 22222 (100.0%), 2535.68 column/sec. Elapsed time 8.76 sec\n",
            "EvaluatorHoldout: Processed 10039 (100.0%) in 7.40 sec. Users per second: 1357\n"
          ]
        },
        {
          "output_type": "stream",
          "name": "stderr",
          "text": [
            "[I 2023-11-27 08:59:44,171] Trial 136 finished with value: 0.029806749707885473 and parameters: {'topK': 55, 'alpha': 0.4002996148292863, 'beta': 0.14063747548682032}. Best is trial 71 with value: 0.030072068140601108.\n"
          ]
        },
        {
          "output_type": "stream",
          "name": "stdout",
          "text": [
            "RP3betaRecommender: URM Detected 466 ( 3.7%) users with no interactions.\n",
            "RP3betaRecommender: URM Detected 322 ( 1.4%) items with no interactions.\n",
            "RP3betaRecommender: Similarity column 22222 (100.0%), 2351.91 column/sec. Elapsed time 9.45 sec\n",
            "EvaluatorHoldout: Processed 10039 (100.0%) in 7.29 sec. Users per second: 1377\n"
          ]
        },
        {
          "output_type": "stream",
          "name": "stderr",
          "text": [
            "[I 2023-11-27 09:00:03,771] Trial 137 finished with value: 0.03005179008217179 and parameters: {'topK': 51, 'alpha': 0.3019387008202404, 'beta': 0.17861755044689553}. Best is trial 71 with value: 0.030072068140601108.\n"
          ]
        },
        {
          "output_type": "stream",
          "name": "stdout",
          "text": [
            "RP3betaRecommender: URM Detected 466 ( 3.7%) users with no interactions.\n",
            "RP3betaRecommender: URM Detected 322 ( 1.4%) items with no interactions.\n",
            "RP3betaRecommender: Similarity column 22222 (100.0%), 2260.74 column/sec. Elapsed time 9.83 sec\n",
            "EvaluatorHoldout: Processed 10039 (100.0%) in 6.46 sec. Users per second: 1554\n"
          ]
        },
        {
          "output_type": "stream",
          "name": "stderr",
          "text": [
            "[I 2023-11-27 09:00:22,455] Trial 138 finished with value: 0.029987493220883128 and parameters: {'topK': 51, 'alpha': 0.30944413428967815, 'beta': 0.18807953325213309}. Best is trial 71 with value: 0.030072068140601108.\n"
          ]
        },
        {
          "output_type": "stream",
          "name": "stdout",
          "text": [
            "RP3betaRecommender: URM Detected 466 ( 3.7%) users with no interactions.\n",
            "RP3betaRecommender: URM Detected 322 ( 1.4%) items with no interactions.\n",
            "RP3betaRecommender: Similarity column 22222 (100.0%), 2122.22 column/sec. Elapsed time 10.47 sec\n",
            "EvaluatorHoldout: Processed 10039 (100.0%) in 6.55 sec. Users per second: 1534\n"
          ]
        },
        {
          "output_type": "stream",
          "name": "stderr",
          "text": [
            "[I 2023-11-27 09:00:41,477] Trial 139 finished with value: 0.029430807153688014 and parameters: {'topK': 54, 'alpha': 0.44104031841682695, 'beta': 0.2621693354872986}. Best is trial 71 with value: 0.030072068140601108.\n"
          ]
        },
        {
          "output_type": "stream",
          "name": "stdout",
          "text": [
            "RP3betaRecommender: URM Detected 466 ( 3.7%) users with no interactions.\n",
            "RP3betaRecommender: URM Detected 322 ( 1.4%) items with no interactions.\n",
            "RP3betaRecommender: Similarity column 22222 (100.0%), 2129.80 column/sec. Elapsed time 10.43 sec\n",
            "EvaluatorHoldout: Processed 10039 (100.0%) in 6.91 sec. Users per second: 1453\n"
          ]
        },
        {
          "output_type": "stream",
          "name": "stderr",
          "text": [
            "[I 2023-11-27 09:01:01,116] Trial 140 finished with value: 0.028037056274181696 and parameters: {'topK': 57, 'alpha': 0.3442360969179989, 'beta': 0.4171840474054737}. Best is trial 71 with value: 0.030072068140601108.\n"
          ]
        },
        {
          "output_type": "stream",
          "name": "stdout",
          "text": [
            "RP3betaRecommender: URM Detected 466 ( 3.7%) users with no interactions.\n",
            "RP3betaRecommender: URM Detected 322 ( 1.4%) items with no interactions.\n",
            "RP3betaRecommender: Similarity column 22222 (100.0%), 2094.40 column/sec. Elapsed time 10.61 sec\n",
            "EvaluatorHoldout: Processed 10039 (100.0%) in 6.71 sec. Users per second: 1496\n"
          ]
        },
        {
          "output_type": "stream",
          "name": "stderr",
          "text": [
            "[I 2023-11-27 09:01:20,063] Trial 141 finished with value: 0.02994071929000725 and parameters: {'topK': 48, 'alpha': 0.29265936025983835, 'beta': 0.15627740272771828}. Best is trial 71 with value: 0.030072068140601108.\n"
          ]
        },
        {
          "output_type": "stream",
          "name": "stdout",
          "text": [
            "RP3betaRecommender: URM Detected 466 ( 3.7%) users with no interactions.\n",
            "RP3betaRecommender: URM Detected 322 ( 1.4%) items with no interactions.\n",
            "RP3betaRecommender: Similarity column 22222 (100.0%), 2372.86 column/sec. Elapsed time 9.37 sec\n",
            "EvaluatorHoldout: Processed 10039 (100.0%) in 6.83 sec. Users per second: 1470\n"
          ]
        },
        {
          "output_type": "stream",
          "name": "stderr",
          "text": [
            "[I 2023-11-27 09:01:37,775] Trial 142 finished with value: 0.029890874004082718 and parameters: {'topK': 40, 'alpha': 0.3923912346744627, 'beta': 0.2107440618135591}. Best is trial 71 with value: 0.030072068140601108.\n"
          ]
        },
        {
          "output_type": "stream",
          "name": "stdout",
          "text": [
            "RP3betaRecommender: URM Detected 466 ( 3.7%) users with no interactions.\n",
            "RP3betaRecommender: URM Detected 322 ( 1.4%) items with no interactions.\n",
            "RP3betaRecommender: Similarity column 22222 (100.0%), 2163.08 column/sec. Elapsed time 10.27 sec\n",
            "EvaluatorHoldout: Processed 10039 (100.0%) in 6.94 sec. Users per second: 1447\n"
          ]
        },
        {
          "output_type": "stream",
          "name": "stderr",
          "text": [
            "[I 2023-11-27 09:01:56,503] Trial 143 finished with value: 0.02992378137960396 and parameters: {'topK': 51, 'alpha': 0.3165615043240823, 'beta': 0.12149419298955207}. Best is trial 71 with value: 0.030072068140601108.\n"
          ]
        },
        {
          "output_type": "stream",
          "name": "stdout",
          "text": [
            "RP3betaRecommender: URM Detected 466 ( 3.7%) users with no interactions.\n",
            "RP3betaRecommender: URM Detected 322 ( 1.4%) items with no interactions.\n",
            "RP3betaRecommender: Similarity column 22222 (100.0%), 2258.92 column/sec. Elapsed time 9.84 sec\n",
            "EvaluatorHoldout: Processed 10039 (100.0%) in 6.75 sec. Users per second: 1487\n"
          ]
        },
        {
          "output_type": "stream",
          "name": "stderr",
          "text": [
            "[I 2023-11-27 09:02:14,428] Trial 144 finished with value: 0.02930173513772494 and parameters: {'topK': 43, 'alpha': 0.5460098766253333, 'beta': 0.07506960212054171}. Best is trial 71 with value: 0.030072068140601108.\n"
          ]
        },
        {
          "output_type": "stream",
          "name": "stdout",
          "text": [
            "RP3betaRecommender: URM Detected 466 ( 3.7%) users with no interactions.\n",
            "RP3betaRecommender: URM Detected 322 ( 1.4%) items with no interactions.\n",
            "RP3betaRecommender: Similarity column 22222 (100.0%), 2333.24 column/sec. Elapsed time 9.52 sec\n",
            "EvaluatorHoldout: Processed 10039 (100.0%) in 7.07 sec. Users per second: 1419\n"
          ]
        },
        {
          "output_type": "stream",
          "name": "stderr",
          "text": [
            "[I 2023-11-27 09:02:32,618] Trial 145 finished with value: 0.030000086962434055 and parameters: {'topK': 47, 'alpha': 0.2594164025329398, 'beta': 0.17831801433983593}. Best is trial 71 with value: 0.030072068140601108.\n"
          ]
        },
        {
          "output_type": "stream",
          "name": "stdout",
          "text": [
            "RP3betaRecommender: URM Detected 466 ( 3.7%) users with no interactions.\n",
            "RP3betaRecommender: URM Detected 322 ( 1.4%) items with no interactions.\n",
            "RP3betaRecommender: Similarity column 22222 (100.0%), 2214.12 column/sec. Elapsed time 10.04 sec\n",
            "EvaluatorHoldout: Processed 10039 (100.0%) in 7.93 sec. Users per second: 1266\n"
          ]
        },
        {
          "output_type": "stream",
          "name": "stderr",
          "text": [
            "[I 2023-11-27 09:02:52,645] Trial 146 finished with value: 0.02897150715384613 and parameters: {'topK': 53, 'alpha': 0.2611976397867497, 'beta': 0.2969613598590433}. Best is trial 71 with value: 0.030072068140601108.\n"
          ]
        },
        {
          "output_type": "stream",
          "name": "stdout",
          "text": [
            "RP3betaRecommender: URM Detected 466 ( 3.7%) users with no interactions.\n",
            "RP3betaRecommender: URM Detected 322 ( 1.4%) items with no interactions.\n",
            "RP3betaRecommender: Similarity column 22222 (100.0%), 2568.76 column/sec. Elapsed time 8.65 sec\n",
            "EvaluatorHoldout: Processed 10039 (100.0%) in 8.18 sec. Users per second: 1227\n"
          ]
        },
        {
          "output_type": "stream",
          "name": "stderr",
          "text": [
            "[I 2023-11-27 09:03:11,215] Trial 147 finished with value: 0.030055644099124746 and parameters: {'topK': 47, 'alpha': 0.2854476872309155, 'beta': 0.18551090406411527}. Best is trial 71 with value: 0.030072068140601108.\n"
          ]
        },
        {
          "output_type": "stream",
          "name": "stdout",
          "text": [
            "RP3betaRecommender: URM Detected 466 ( 3.7%) users with no interactions.\n",
            "RP3betaRecommender: URM Detected 322 ( 1.4%) items with no interactions.\n",
            "RP3betaRecommender: Similarity column 22222 (100.0%), 2692.83 column/sec. Elapsed time 8.25 sec\n",
            "EvaluatorHoldout: Processed 10039 (100.0%) in 8.54 sec. Users per second: 1175\n"
          ]
        },
        {
          "output_type": "stream",
          "name": "stderr",
          "text": [
            "[I 2023-11-27 09:03:29,693] Trial 148 finished with value: 0.03000652613537385 and parameters: {'topK': 46, 'alpha': 0.2873121755903004, 'beta': 0.19007623828285228}. Best is trial 71 with value: 0.030072068140601108.\n"
          ]
        },
        {
          "output_type": "stream",
          "name": "stdout",
          "text": [
            "RP3betaRecommender: URM Detected 466 ( 3.7%) users with no interactions.\n",
            "RP3betaRecommender: URM Detected 322 ( 1.4%) items with no interactions.\n",
            "RP3betaRecommender: Similarity column 22222 (100.0%), 2564.17 column/sec. Elapsed time 8.67 sec\n",
            "EvaluatorHoldout: Processed 10039 (100.0%) in 10.43 sec. Users per second: 962\n"
          ]
        },
        {
          "output_type": "stream",
          "name": "stderr",
          "text": [
            "[I 2023-11-27 09:03:51,449] Trial 149 finished with value: 0.030005087302378036 and parameters: {'topK': 45, 'alpha': 0.29341059801641795, 'beta': 0.19977282537570482}. Best is trial 71 with value: 0.030072068140601108.\n"
          ]
        },
        {
          "output_type": "stream",
          "name": "stdout",
          "text": [
            "RP3betaRecommender: URM Detected 466 ( 3.7%) users with no interactions.\n",
            "RP3betaRecommender: URM Detected 322 ( 1.4%) items with no interactions.\n",
            "RP3betaRecommender: Similarity column 22222 (100.0%), 2955.60 column/sec. Elapsed time 7.52 sec\n",
            "EvaluatorHoldout: Processed 10039 (100.0%) in 8.99 sec. Users per second: 1117\n"
          ]
        },
        {
          "output_type": "stream",
          "name": "stderr",
          "text": [
            "[I 2023-11-27 09:04:09,519] Trial 150 finished with value: 0.029914844013110908 and parameters: {'topK': 44, 'alpha': 0.2906281636078979, 'beta': 0.23902380254001396}. Best is trial 71 with value: 0.030072068140601108.\n"
          ]
        },
        {
          "output_type": "stream",
          "name": "stdout",
          "text": [
            "RP3betaRecommender: URM Detected 466 ( 3.7%) users with no interactions.\n",
            "RP3betaRecommender: URM Detected 322 ( 1.4%) items with no interactions.\n",
            "RP3betaRecommender: Similarity column 22222 (100.0%), 2945.70 column/sec. Elapsed time 7.54 sec\n",
            "EvaluatorHoldout: Processed 10039 (100.0%) in 8.79 sec. Users per second: 1142\n"
          ]
        },
        {
          "output_type": "stream",
          "name": "stderr",
          "text": [
            "[I 2023-11-27 09:04:27,577] Trial 151 finished with value: 0.029983528524469005 and parameters: {'topK': 47, 'alpha': 0.3238002034053973, 'beta': 0.18264008692395348}. Best is trial 71 with value: 0.030072068140601108.\n"
          ]
        },
        {
          "output_type": "stream",
          "name": "stdout",
          "text": [
            "RP3betaRecommender: URM Detected 466 ( 3.7%) users with no interactions.\n",
            "RP3betaRecommender: URM Detected 322 ( 1.4%) items with no interactions.\n",
            "RP3betaRecommender: Similarity column 22222 (100.0%), 2902.50 column/sec. Elapsed time 7.66 sec\n",
            "EvaluatorHoldout: Processed 10039 (100.0%) in 8.21 sec. Users per second: 1223\n"
          ]
        },
        {
          "output_type": "stream",
          "name": "stderr",
          "text": [
            "[I 2023-11-27 09:04:46,093] Trial 152 finished with value: 0.030075866817823312 and parameters: {'topK': 50, 'alpha': 0.276022803154294, 'beta': 0.19581129141404438}. Best is trial 152 with value: 0.030075866817823312.\n"
          ]
        },
        {
          "output_type": "stream",
          "name": "stdout",
          "text": [
            "RP3betaRecommender: URM Detected 466 ( 3.7%) users with no interactions.\n",
            "RP3betaRecommender: URM Detected 322 ( 1.4%) items with no interactions.\n",
            "RP3betaRecommender: Similarity column 22222 (100.0%), 2854.09 column/sec. Elapsed time 7.79 sec\n",
            "EvaluatorHoldout: Processed 10039 (100.0%) in 7.86 sec. Users per second: 1278\n"
          ]
        },
        {
          "output_type": "stream",
          "name": "stderr",
          "text": [
            "[I 2023-11-27 09:05:04,562] Trial 153 finished with value: 0.02952710223778077 and parameters: {'topK': 45, 'alpha': 0.3549509210624975, 'beta': 0.28092082123768297}. Best is trial 152 with value: 0.030075866817823312.\n"
          ]
        },
        {
          "output_type": "stream",
          "name": "stdout",
          "text": [
            "RP3betaRecommender: URM Detected 466 ( 3.7%) users with no interactions.\n",
            "RP3betaRecommender: URM Detected 322 ( 1.4%) items with no interactions.\n",
            "RP3betaRecommender: Similarity column 22222 (100.0%), 2499.56 column/sec. Elapsed time 8.89 sec\n",
            "EvaluatorHoldout: Processed 10039 (100.0%) in 7.26 sec. Users per second: 1383\n"
          ]
        },
        {
          "output_type": "stream",
          "name": "stderr",
          "text": [
            "[I 2023-11-27 09:05:23,684] Trial 154 finished with value: 0.02972811195069398 and parameters: {'topK': 51, 'alpha': 0.2863499505593842, 'beta': 0.22011390624524443}. Best is trial 152 with value: 0.030075866817823312.\n"
          ]
        },
        {
          "output_type": "stream",
          "name": "stdout",
          "text": [
            "RP3betaRecommender: URM Detected 466 ( 3.7%) users with no interactions.\n",
            "RP3betaRecommender: URM Detected 322 ( 1.4%) items with no interactions.\n",
            "RP3betaRecommender: Similarity column 22222 (100.0%), 2579.37 column/sec. Elapsed time 8.62 sec\n",
            "EvaluatorHoldout: Processed 10039 (100.0%) in 6.86 sec. Users per second: 1463\n"
          ]
        },
        {
          "output_type": "stream",
          "name": "stderr",
          "text": [
            "[I 2023-11-27 09:05:41,319] Trial 155 finished with value: 0.029923939493119816 and parameters: {'topK': 38, 'alpha': 0.203823123381456, 'beta': 0.13631942383743964}. Best is trial 152 with value: 0.030075866817823312.\n"
          ]
        },
        {
          "output_type": "stream",
          "name": "stdout",
          "text": [
            "RP3betaRecommender: URM Detected 466 ( 3.7%) users with no interactions.\n",
            "RP3betaRecommender: URM Detected 322 ( 1.4%) items with no interactions.\n",
            "RP3betaRecommender: Similarity column 22222 (100.0%), 2299.60 column/sec. Elapsed time 9.66 sec\n",
            "EvaluatorHoldout: Processed 10039 (100.0%) in 6.61 sec. Users per second: 1519\n"
          ]
        },
        {
          "output_type": "stream",
          "name": "stderr",
          "text": [
            "[I 2023-11-27 09:06:00,416] Trial 156 finished with value: 0.02995913951462331 and parameters: {'topK': 49, 'alpha': 0.3120522345613539, 'beta': 0.1940755783595032}. Best is trial 152 with value: 0.030075866817823312.\n"
          ]
        },
        {
          "output_type": "stream",
          "name": "stdout",
          "text": [
            "RP3betaRecommender: URM Detected 466 ( 3.7%) users with no interactions.\n",
            "RP3betaRecommender: URM Detected 322 ( 1.4%) items with no interactions.\n",
            "RP3betaRecommender: Similarity column 22222 (100.0%), 2178.98 column/sec. Elapsed time 10.20 sec\n",
            "EvaluatorHoldout: Processed 10039 (100.0%) in 6.33 sec. Users per second: 1586\n"
          ]
        },
        {
          "output_type": "stream",
          "name": "stderr",
          "text": [
            "[I 2023-11-27 09:06:19,173] Trial 157 finished with value: 0.03006735635782374 and parameters: {'topK': 42, 'alpha': 0.27511576359310685, 'beta': 0.15612944749594992}. Best is trial 152 with value: 0.030075866817823312.\n"
          ]
        },
        {
          "output_type": "stream",
          "name": "stdout",
          "text": [
            "RP3betaRecommender: URM Detected 466 ( 3.7%) users with no interactions.\n",
            "RP3betaRecommender: URM Detected 322 ( 1.4%) items with no interactions.\n",
            "RP3betaRecommender: Similarity column 22222 (100.0%), 2212.86 column/sec. Elapsed time 10.04 sec\n",
            "EvaluatorHoldout: Processed 10039 (100.0%) in 6.21 sec. Users per second: 1617\n"
          ]
        },
        {
          "output_type": "stream",
          "name": "stderr",
          "text": [
            "[I 2023-11-27 09:06:37,374] Trial 158 finished with value: 0.029720024444349666 and parameters: {'topK': 41, 'alpha': 0.2498654190037212, 'beta': 0.12431781282452037}. Best is trial 152 with value: 0.030075866817823312.\n"
          ]
        },
        {
          "output_type": "stream",
          "name": "stdout",
          "text": [
            "RP3betaRecommender: URM Detected 466 ( 3.7%) users with no interactions.\n",
            "RP3betaRecommender: URM Detected 322 ( 1.4%) items with no interactions.\n",
            "RP3betaRecommender: Similarity column 22222 (100.0%), 2166.94 column/sec. Elapsed time 10.26 sec\n",
            "EvaluatorHoldout: Processed 10039 (100.0%) in 6.52 sec. Users per second: 1540\n"
          ]
        },
        {
          "output_type": "stream",
          "name": "stderr",
          "text": [
            "[I 2023-11-27 09:06:56,348] Trial 159 finished with value: 0.028714201123554745 and parameters: {'topK': 44, 'alpha': 0.2155494770760555, 'beta': 0.33801979020249023}. Best is trial 152 with value: 0.030075866817823312.\n"
          ]
        },
        {
          "output_type": "stream",
          "name": "stdout",
          "text": [
            "RP3betaRecommender: URM Detected 466 ( 3.7%) users with no interactions.\n",
            "RP3betaRecommender: URM Detected 322 ( 1.4%) items with no interactions.\n",
            "RP3betaRecommender: Similarity column 22222 (100.0%), 2284.25 column/sec. Elapsed time 9.73 sec\n",
            "EvaluatorHoldout: Processed 10039 (100.0%) in 6.37 sec. Users per second: 1577\n"
          ]
        },
        {
          "output_type": "stream",
          "name": "stderr",
          "text": [
            "[I 2023-11-27 09:07:14,196] Trial 160 finished with value: 0.029638900352118924 and parameters: {'topK': 39, 'alpha': 0.16216028129299528, 'beta': 0.23179973034329746}. Best is trial 152 with value: 0.030075866817823312.\n"
          ]
        },
        {
          "output_type": "stream",
          "name": "stdout",
          "text": [
            "RP3betaRecommender: URM Detected 466 ( 3.7%) users with no interactions.\n",
            "RP3betaRecommender: URM Detected 322 ( 1.4%) items with no interactions.\n",
            "RP3betaRecommender: Similarity column 22222 (100.0%), 2048.64 column/sec. Elapsed time 10.85 sec\n",
            "EvaluatorHoldout: Processed 10039 (100.0%) in 6.37 sec. Users per second: 1577\n"
          ]
        },
        {
          "output_type": "stream",
          "name": "stderr",
          "text": [
            "[I 2023-11-27 09:07:32,921] Trial 161 finished with value: 0.030082266462384214 and parameters: {'topK': 42, 'alpha': 0.27979763011233805, 'beta': 0.15756790684967256}. Best is trial 161 with value: 0.030082266462384214.\n"
          ]
        },
        {
          "output_type": "stream",
          "name": "stdout",
          "text": [
            "RP3betaRecommender: URM Detected 466 ( 3.7%) users with no interactions.\n",
            "RP3betaRecommender: URM Detected 322 ( 1.4%) items with no interactions.\n",
            "RP3betaRecommender: Similarity column 22222 (100.0%), 2048.75 column/sec. Elapsed time 10.85 sec\n",
            "EvaluatorHoldout: Processed 10039 (100.0%) in 6.35 sec. Users per second: 1582\n"
          ]
        },
        {
          "output_type": "stream",
          "name": "stderr",
          "text": [
            "[I 2023-11-27 09:07:51,609] Trial 162 finished with value: 0.029985971378291544 and parameters: {'topK': 43, 'alpha': 0.27534282950517036, 'beta': 0.19923214976319562}. Best is trial 161 with value: 0.030082266462384214.\n"
          ]
        },
        {
          "output_type": "stream",
          "name": "stdout",
          "text": [
            "RP3betaRecommender: URM Detected 466 ( 3.7%) users with no interactions.\n",
            "RP3betaRecommender: URM Detected 322 ( 1.4%) items with no interactions.\n",
            "RP3betaRecommender: Similarity column 22222 (100.0%), 2257.93 column/sec. Elapsed time 9.84 sec\n",
            "EvaluatorHoldout: Processed 10039 (100.0%) in 6.29 sec. Users per second: 1597\n"
          ]
        },
        {
          "output_type": "stream",
          "name": "stderr",
          "text": [
            "[I 2023-11-27 09:08:09,006] Trial 163 finished with value: 0.02992296314215851 and parameters: {'topK': 36, 'alpha': 0.3554675465319346, 'beta': 0.16657086223290155}. Best is trial 161 with value: 0.030082266462384214.\n"
          ]
        },
        {
          "output_type": "stream",
          "name": "stdout",
          "text": [
            "RP3betaRecommender: URM Detected 466 ( 3.7%) users with no interactions.\n",
            "RP3betaRecommender: URM Detected 322 ( 1.4%) items with no interactions.\n",
            "RP3betaRecommender: Similarity column 22222 (100.0%), 2192.67 column/sec. Elapsed time 10.13 sec\n",
            "EvaluatorHoldout: Processed 10039 (100.0%) in 7.84 sec. Users per second: 1281\n"
          ]
        },
        {
          "output_type": "stream",
          "name": "stderr",
          "text": [
            "[I 2023-11-27 09:08:28,390] Trial 164 finished with value: 0.029910780495749363 and parameters: {'topK': 46, 'alpha': 0.19174069254268886, 'beta': 0.14340023092675908}. Best is trial 161 with value: 0.030082266462384214.\n"
          ]
        },
        {
          "output_type": "stream",
          "name": "stdout",
          "text": [
            "RP3betaRecommender: URM Detected 466 ( 3.7%) users with no interactions.\n",
            "RP3betaRecommender: URM Detected 322 ( 1.4%) items with no interactions.\n",
            "RP3betaRecommender: Similarity column 22222 (100.0%), 1851.11 column/sec. Elapsed time 12.00 sec\n",
            "EvaluatorHoldout: Processed 10039 (100.0%) in 6.34 sec. Users per second: 1584\n"
          ]
        },
        {
          "output_type": "stream",
          "name": "stderr",
          "text": [
            "[I 2023-11-27 09:08:48,040] Trial 165 finished with value: 0.029811421962283792 and parameters: {'topK': 41, 'alpha': 0.24029868974571758, 'beta': 0.10552667723540683}. Best is trial 161 with value: 0.030082266462384214.\n"
          ]
        },
        {
          "output_type": "stream",
          "name": "stdout",
          "text": [
            "RP3betaRecommender: URM Detected 466 ( 3.7%) users with no interactions.\n",
            "RP3betaRecommender: URM Detected 322 ( 1.4%) items with no interactions.\n",
            "RP3betaRecommender: Similarity column 22222 (100.0%), 2086.59 column/sec. Elapsed time 10.65 sec\n",
            "EvaluatorHoldout: Processed 10039 (100.0%) in 6.36 sec. Users per second: 1579\n"
          ]
        },
        {
          "output_type": "stream",
          "name": "stderr",
          "text": [
            "[I 2023-11-27 09:09:06,409] Trial 166 finished with value: 0.029948597295942948 and parameters: {'topK': 38, 'alpha': 0.2781434850583864, 'beta': 0.17236306114779876}. Best is trial 161 with value: 0.030082266462384214.\n"
          ]
        },
        {
          "output_type": "stream",
          "name": "stdout",
          "text": [
            "RP3betaRecommender: URM Detected 466 ( 3.7%) users with no interactions.\n",
            "RP3betaRecommender: URM Detected 322 ( 1.4%) items with no interactions.\n",
            "RP3betaRecommender: Similarity column 22222 (100.0%), 2063.67 column/sec. Elapsed time 10.77 sec\n",
            "EvaluatorHoldout: Processed 10039 (100.0%) in 6.52 sec. Users per second: 1539\n"
          ]
        },
        {
          "output_type": "stream",
          "name": "stderr",
          "text": [
            "[I 2023-11-27 09:09:25,398] Trial 167 finished with value: 0.029676207236223325 and parameters: {'topK': 42, 'alpha': 0.41824212765353347, 'beta': 0.25743080703289073}. Best is trial 161 with value: 0.030082266462384214.\n"
          ]
        },
        {
          "output_type": "stream",
          "name": "stdout",
          "text": [
            "RP3betaRecommender: URM Detected 466 ( 3.7%) users with no interactions.\n",
            "RP3betaRecommender: URM Detected 322 ( 1.4%) items with no interactions.\n",
            "RP3betaRecommender: Similarity column 22222 (100.0%), 2220.01 column/sec. Elapsed time 10.01 sec\n",
            "EvaluatorHoldout: Processed 10039 (100.0%) in 6.43 sec. Users per second: 1562\n"
          ]
        },
        {
          "output_type": "stream",
          "name": "stderr",
          "text": [
            "[I 2023-11-27 09:09:43,570] Trial 168 finished with value: 0.03000419000817466 and parameters: {'topK': 45, 'alpha': 0.3208148873523076, 'beta': 0.2073252558946239}. Best is trial 161 with value: 0.030082266462384214.\n"
          ]
        },
        {
          "output_type": "stream",
          "name": "stdout",
          "text": [
            "RP3betaRecommender: URM Detected 466 ( 3.7%) users with no interactions.\n",
            "RP3betaRecommender: URM Detected 322 ( 1.4%) items with no interactions.\n",
            "RP3betaRecommender: Similarity column 22222 (100.0%), 2052.06 column/sec. Elapsed time 10.83 sec\n",
            "EvaluatorHoldout: Processed 10039 (100.0%) in 6.79 sec. Users per second: 1478\n"
          ]
        },
        {
          "output_type": "stream",
          "name": "stderr",
          "text": [
            "[I 2023-11-27 09:10:02,870] Trial 169 finished with value: 0.029970737141023225 and parameters: {'topK': 46, 'alpha': 0.32599645315528536, 'beta': 0.2043518035871032}. Best is trial 161 with value: 0.030082266462384214.\n"
          ]
        },
        {
          "output_type": "stream",
          "name": "stdout",
          "text": [
            "RP3betaRecommender: URM Detected 466 ( 3.7%) users with no interactions.\n",
            "RP3betaRecommender: URM Detected 322 ( 1.4%) items with no interactions.\n",
            "RP3betaRecommender: Similarity column 22222 (100.0%), 2241.44 column/sec. Elapsed time 9.91 sec\n",
            "EvaluatorHoldout: Processed 10039 (100.0%) in 6.99 sec. Users per second: 1436\n"
          ]
        },
        {
          "output_type": "stream",
          "name": "stderr",
          "text": [
            "[I 2023-11-27 09:10:21,530] Trial 170 finished with value: 0.029951107348009622 and parameters: {'topK': 45, 'alpha': 0.3651648256369582, 'beta': 0.2216329732989037}. Best is trial 161 with value: 0.030082266462384214.\n"
          ]
        },
        {
          "output_type": "stream",
          "name": "stdout",
          "text": [
            "RP3betaRecommender: URM Detected 466 ( 3.7%) users with no interactions.\n",
            "RP3betaRecommender: URM Detected 322 ( 1.4%) items with no interactions.\n",
            "RP3betaRecommender: Similarity column 22222 (100.0%), 2210.06 column/sec. Elapsed time 10.05 sec\n",
            "EvaluatorHoldout: Processed 10039 (100.0%) in 7.20 sec. Users per second: 1394\n"
          ]
        },
        {
          "output_type": "stream",
          "name": "stderr",
          "text": [
            "[I 2023-11-27 09:10:40,417] Trial 171 finished with value: 0.029938699389840187 and parameters: {'topK': 43, 'alpha': 0.3040559778684965, 'beta': 0.18354884160111026}. Best is trial 161 with value: 0.030082266462384214.\n"
          ]
        },
        {
          "output_type": "stream",
          "name": "stdout",
          "text": [
            "RP3betaRecommender: URM Detected 466 ( 3.7%) users with no interactions.\n",
            "RP3betaRecommender: URM Detected 322 ( 1.4%) items with no interactions.\n",
            "RP3betaRecommender: Similarity column 22222 (100.0%), 2484.53 column/sec. Elapsed time 8.94 sec\n",
            "EvaluatorHoldout: Processed 10039 (100.0%) in 7.04 sec. Users per second: 1426\n"
          ]
        },
        {
          "output_type": "stream",
          "name": "stderr",
          "text": [
            "[I 2023-11-27 09:10:57,781] Trial 172 finished with value: 0.02996215552994134 and parameters: {'topK': 40, 'alpha': 0.2631249436928205, 'beta': 0.15290419536564995}. Best is trial 161 with value: 0.030082266462384214.\n"
          ]
        },
        {
          "output_type": "stream",
          "name": "stdout",
          "text": [
            "RP3betaRecommender: URM Detected 466 ( 3.7%) users with no interactions.\n",
            "RP3betaRecommender: URM Detected 322 ( 1.4%) items with no interactions.\n",
            "RP3betaRecommender: Similarity column 22222 (100.0%), 2232.08 column/sec. Elapsed time 9.96 sec\n",
            "EvaluatorHoldout: Processed 10039 (100.0%) in 7.31 sec. Users per second: 1374\n"
          ]
        },
        {
          "output_type": "stream",
          "name": "stderr",
          "text": [
            "[I 2023-11-27 09:11:16,536] Trial 173 finished with value: 0.02984538869836228 and parameters: {'topK': 49, 'alpha': 0.2231480682376226, 'beta': 0.13028129048332326}. Best is trial 161 with value: 0.030082266462384214.\n"
          ]
        },
        {
          "output_type": "stream",
          "name": "stdout",
          "text": [
            "RP3betaRecommender: URM Detected 466 ( 3.7%) users with no interactions.\n",
            "RP3betaRecommender: URM Detected 322 ( 1.4%) items with no interactions.\n",
            "RP3betaRecommender: Similarity column 22222 (100.0%), 2431.03 column/sec. Elapsed time 9.14 sec\n",
            "EvaluatorHoldout: Processed 10039 (100.0%) in 7.56 sec. Users per second: 1329\n"
          ]
        },
        {
          "output_type": "stream",
          "name": "stderr",
          "text": [
            "[I 2023-11-27 09:11:34,837] Trial 174 finished with value: 0.029986030670860038 and parameters: {'topK': 47, 'alpha': 0.24523878924965, 'beta': 0.18707849077220928}. Best is trial 161 with value: 0.030082266462384214.\n"
          ]
        },
        {
          "output_type": "stream",
          "name": "stdout",
          "text": [
            "RP3betaRecommender: URM Detected 466 ( 3.7%) users with no interactions.\n",
            "RP3betaRecommender: URM Detected 322 ( 1.4%) items with no interactions.\n",
            "RP3betaRecommender: Similarity column 22222 (100.0%), 2535.58 column/sec. Elapsed time 8.76 sec\n",
            "EvaluatorHoldout: Processed 10039 (100.0%) in 7.14 sec. Users per second: 1406\n"
          ]
        },
        {
          "output_type": "stream",
          "name": "stderr",
          "text": [
            "[I 2023-11-27 09:11:51,986] Trial 175 finished with value: 0.029657134793353725 and parameters: {'topK': 33, 'alpha': 0.39004405221182165, 'beta': 0.15360117864740766}. Best is trial 161 with value: 0.030082266462384214.\n"
          ]
        },
        {
          "output_type": "stream",
          "name": "stdout",
          "text": [
            "RP3betaRecommender: URM Detected 466 ( 3.7%) users with no interactions.\n",
            "RP3betaRecommender: URM Detected 322 ( 1.4%) items with no interactions.\n",
            "RP3betaRecommender: Similarity column 22222 (100.0%), 2554.58 column/sec. Elapsed time 8.70 sec\n",
            "EvaluatorHoldout: Processed 10039 (100.0%) in 7.27 sec. Users per second: 1380\n"
          ]
        },
        {
          "output_type": "stream",
          "name": "stderr",
          "text": [
            "[I 2023-11-27 09:12:09,474] Trial 176 finished with value: 0.029814042693811806 and parameters: {'topK': 36, 'alpha': 0.32141988497045704, 'beta': 0.2347007883589513}. Best is trial 161 with value: 0.030082266462384214.\n"
          ]
        },
        {
          "output_type": "stream",
          "name": "stdout",
          "text": [
            "RP3betaRecommender: URM Detected 466 ( 3.7%) users with no interactions.\n",
            "RP3betaRecommender: URM Detected 322 ( 1.4%) items with no interactions.\n",
            "RP3betaRecommender: Similarity column 22222 (100.0%), 2256.75 column/sec. Elapsed time 9.85 sec\n",
            "EvaluatorHoldout: Processed 10039 (100.0%) in 8.15 sec. Users per second: 1231\n"
          ]
        },
        {
          "output_type": "stream",
          "name": "stderr",
          "text": [
            "[I 2023-11-27 09:12:29,605] Trial 177 finished with value: 0.029111457379711346 and parameters: {'topK': 55, 'alpha': 0.27735395250129363, 'beta': 0.28598611972323673}. Best is trial 161 with value: 0.030082266462384214.\n"
          ]
        },
        {
          "output_type": "stream",
          "name": "stdout",
          "text": [
            "RP3betaRecommender: URM Detected 466 ( 3.7%) users with no interactions.\n",
            "RP3betaRecommender: URM Detected 322 ( 1.4%) items with no interactions.\n",
            "RP3betaRecommender: Similarity column 22222 (100.0%), 2546.62 column/sec. Elapsed time 8.73 sec\n",
            "EvaluatorHoldout: Processed 10039 (100.0%) in 8.08 sec. Users per second: 1243\n"
          ]
        },
        {
          "output_type": "stream",
          "name": "stderr",
          "text": [
            "[I 2023-11-27 09:12:47,800] Trial 178 finished with value: 0.02984466532902653 and parameters: {'topK': 45, 'alpha': 0.2029888358210784, 'beta': 0.11933780242507772}. Best is trial 161 with value: 0.030082266462384214.\n"
          ]
        },
        {
          "output_type": "stream",
          "name": "stdout",
          "text": [
            "RP3betaRecommender: URM Detected 466 ( 3.7%) users with no interactions.\n",
            "RP3betaRecommender: URM Detected 322 ( 1.4%) items with no interactions.\n",
            "RP3betaRecommender: Similarity column 22222 (100.0%), 2618.02 column/sec. Elapsed time 8.49 sec\n",
            "EvaluatorHoldout: Processed 10039 (100.0%) in 8.66 sec. Users per second: 1160\n"
          ]
        },
        {
          "output_type": "stream",
          "name": "stderr",
          "text": [
            "[I 2023-11-27 09:13:06,715] Trial 179 finished with value: 0.029939632259584632 and parameters: {'topK': 52, 'alpha': 0.18130248953076883, 'beta': 0.17124082413194594}. Best is trial 161 with value: 0.030082266462384214.\n"
          ]
        },
        {
          "output_type": "stream",
          "name": "stdout",
          "text": [
            "RP3betaRecommender: URM Detected 466 ( 3.7%) users with no interactions.\n",
            "RP3betaRecommender: URM Detected 322 ( 1.4%) items with no interactions.\n",
            "RP3betaRecommender: Similarity column 22222 (100.0%), 2209.79 column/sec. Elapsed time 10.06 sec\n",
            "EvaluatorHoldout: Processed 10039 (100.0%) in 8.37 sec. Users per second: 1199\n"
          ]
        },
        {
          "output_type": "stream",
          "name": "stderr",
          "text": [
            "[I 2023-11-27 09:13:27,640] Trial 180 finished with value: 0.029716158568883173 and parameters: {'topK': 41, 'alpha': 0.4507248814590119, 'beta': 0.20498232377555284}. Best is trial 161 with value: 0.030082266462384214.\n"
          ]
        },
        {
          "output_type": "stream",
          "name": "stdout",
          "text": [
            "RP3betaRecommender: URM Detected 466 ( 3.7%) users with no interactions.\n",
            "RP3betaRecommender: URM Detected 322 ( 1.4%) items with no interactions.\n",
            "RP3betaRecommender: Similarity column 22222 (100.0%), 2792.25 column/sec. Elapsed time 7.96 sec\n",
            "EvaluatorHoldout: Processed 10039 (100.0%) in 7.88 sec. Users per second: 1275\n"
          ]
        },
        {
          "output_type": "stream",
          "name": "stderr",
          "text": [
            "[I 2023-11-27 09:13:46,123] Trial 181 finished with value: 0.029922085612144555 and parameters: {'topK': 50, 'alpha': 0.29357402857932824, 'beta': 0.15167028243754815}. Best is trial 161 with value: 0.030082266462384214.\n"
          ]
        },
        {
          "output_type": "stream",
          "name": "stdout",
          "text": [
            "RP3betaRecommender: URM Detected 466 ( 3.7%) users with no interactions.\n",
            "RP3betaRecommender: URM Detected 322 ( 1.4%) items with no interactions.\n",
            "RP3betaRecommender: Similarity column 22222 (100.0%), 2468.03 column/sec. Elapsed time 9.00 sec\n",
            "EvaluatorHoldout: Processed 10039 (100.0%) in 7.39 sec. Users per second: 1359\n"
          ]
        },
        {
          "output_type": "stream",
          "name": "stderr",
          "text": [
            "[I 2023-11-27 09:14:05,189] Trial 182 finished with value: 0.029968926741264862 and parameters: {'topK': 49, 'alpha': 0.3005553147323728, 'beta': 0.16164895863277026}. Best is trial 161 with value: 0.030082266462384214.\n"
          ]
        },
        {
          "output_type": "stream",
          "name": "stdout",
          "text": [
            "RP3betaRecommender: URM Detected 466 ( 3.7%) users with no interactions.\n",
            "RP3betaRecommender: URM Detected 322 ( 1.4%) items with no interactions.\n",
            "RP3betaRecommender: Similarity column 22222 (100.0%), 2474.27 column/sec. Elapsed time 8.98 sec\n",
            "EvaluatorHoldout: Processed 10039 (100.0%) in 6.84 sec. Users per second: 1468\n"
          ]
        },
        {
          "output_type": "stream",
          "name": "stderr",
          "text": [
            "[I 2023-11-27 09:14:23,369] Trial 183 finished with value: 0.029990125810924917 and parameters: {'topK': 44, 'alpha': 0.34310464349479936, 'beta': 0.13721545488703132}. Best is trial 161 with value: 0.030082266462384214.\n"
          ]
        },
        {
          "output_type": "stream",
          "name": "stdout",
          "text": [
            "RP3betaRecommender: URM Detected 466 ( 3.7%) users with no interactions.\n",
            "RP3betaRecommender: URM Detected 322 ( 1.4%) items with no interactions.\n",
            "RP3betaRecommender: Similarity column 22222 (100.0%), 2319.88 column/sec. Elapsed time 9.58 sec\n",
            "EvaluatorHoldout: Processed 10039 (100.0%) in 6.37 sec. Users per second: 1575\n"
          ]
        },
        {
          "output_type": "stream",
          "name": "stderr",
          "text": [
            "[I 2023-11-27 09:14:41,926] Trial 184 finished with value: 0.002045680575912674 and parameters: {'topK': 51, 'alpha': 0.25125235244064986, 'beta': 0.8836887280749873}. Best is trial 161 with value: 0.030082266462384214.\n"
          ]
        },
        {
          "output_type": "stream",
          "name": "stdout",
          "text": [
            "RP3betaRecommender: URM Detected 466 ( 3.7%) users with no interactions.\n",
            "RP3betaRecommender: URM Detected 322 ( 1.4%) items with no interactions.\n",
            "RP3betaRecommender: Similarity column 22222 (100.0%), 2266.82 column/sec. Elapsed time 9.80 sec\n",
            "EvaluatorHoldout: Processed 10039 (100.0%) in 6.43 sec. Users per second: 1562\n"
          ]
        },
        {
          "output_type": "stream",
          "name": "stderr",
          "text": [
            "[I 2023-11-27 09:15:00,360] Trial 185 finished with value: 0.029967887144896996 and parameters: {'topK': 47, 'alpha': 0.26713927515310815, 'beta': 0.19094543377992085}. Best is trial 161 with value: 0.030082266462384214.\n"
          ]
        },
        {
          "output_type": "stream",
          "name": "stdout",
          "text": [
            "RP3betaRecommender: URM Detected 466 ( 3.7%) users with no interactions.\n",
            "RP3betaRecommender: URM Detected 322 ( 1.4%) items with no interactions.\n",
            "RP3betaRecommender: Similarity column 22222 (100.0%), 2046.37 column/sec. Elapsed time 10.86 sec\n",
            "EvaluatorHoldout: Processed 10039 (100.0%) in 6.47 sec. Users per second: 1552\n"
          ]
        },
        {
          "output_type": "stream",
          "name": "stderr",
          "text": [
            "[I 2023-11-27 09:15:19,383] Trial 186 finished with value: 0.02980068605454605 and parameters: {'topK': 42, 'alpha': 0.22569720291980006, 'beta': 0.23065427171222136}. Best is trial 161 with value: 0.030082266462384214.\n"
          ]
        },
        {
          "output_type": "stream",
          "name": "stdout",
          "text": [
            "RP3betaRecommender: URM Detected 466 ( 3.7%) users with no interactions.\n",
            "RP3betaRecommender: URM Detected 322 ( 1.4%) items with no interactions.\n",
            "RP3betaRecommender: Similarity column 22222 (100.0%), 1950.55 column/sec. Elapsed time 11.39 sec\n",
            "EvaluatorHoldout: Processed 10039 (100.0%) in 6.35 sec. Users per second: 1580\n"
          ]
        },
        {
          "output_type": "stream",
          "name": "stderr",
          "text": [
            "[I 2023-11-27 09:15:38,776] Trial 187 finished with value: 0.029885189823181876 and parameters: {'topK': 57, 'alpha': 0.382238332402274, 'beta': 0.11042465604648753}. Best is trial 161 with value: 0.030082266462384214.\n"
          ]
        },
        {
          "output_type": "stream",
          "name": "stdout",
          "text": [
            "RP3betaRecommender: URM Detected 466 ( 3.7%) users with no interactions.\n",
            "RP3betaRecommender: URM Detected 322 ( 1.4%) items with no interactions.\n",
            "RP3betaRecommender: Similarity column 22222 (100.0%), 2004.72 column/sec. Elapsed time 11.08 sec\n",
            "EvaluatorHoldout: Processed 10039 (100.0%) in 6.41 sec. Users per second: 1567\n"
          ]
        },
        {
          "output_type": "stream",
          "name": "stderr",
          "text": [
            "[I 2023-11-27 09:15:57,948] Trial 188 finished with value: 0.029859516141018477 and parameters: {'topK': 53, 'alpha': 0.32807611650715107, 'beta': 0.1753791956062132}. Best is trial 161 with value: 0.030082266462384214.\n"
          ]
        },
        {
          "output_type": "stream",
          "name": "stdout",
          "text": [
            "RP3betaRecommender: URM Detected 466 ( 3.7%) users with no interactions.\n",
            "RP3betaRecommender: URM Detected 322 ( 1.4%) items with no interactions.\n",
            "RP3betaRecommender: Similarity column 22222 (100.0%), 2091.80 column/sec. Elapsed time 10.62 sec\n",
            "EvaluatorHoldout: Processed 10039 (100.0%) in 6.22 sec. Users per second: 1615\n"
          ]
        },
        {
          "output_type": "stream",
          "name": "stderr",
          "text": [
            "[I 2023-11-27 09:16:15,987] Trial 189 finished with value: 0.029660095468941237 and parameters: {'topK': 38, 'alpha': 0.30328414972239975, 'beta': 0.09409124030457443}. Best is trial 161 with value: 0.030082266462384214.\n"
          ]
        },
        {
          "output_type": "stream",
          "name": "stdout",
          "text": [
            "RP3betaRecommender: URM Detected 466 ( 3.7%) users with no interactions.\n",
            "RP3betaRecommender: URM Detected 322 ( 1.4%) items with no interactions.\n",
            "RP3betaRecommender: Similarity column 22222 (100.0%), 2015.51 column/sec. Elapsed time 11.03 sec\n",
            "EvaluatorHoldout: Processed 10039 (100.0%) in 6.57 sec. Users per second: 1529\n"
          ]
        },
        {
          "output_type": "stream",
          "name": "stderr",
          "text": [
            "[I 2023-11-27 09:16:35,395] Trial 190 finished with value: 0.02938446012930537 and parameters: {'topK': 48, 'alpha': 0.0907936642548902, 'beta': 0.2569428527789312}. Best is trial 161 with value: 0.030082266462384214.\n"
          ]
        },
        {
          "output_type": "stream",
          "name": "stdout",
          "text": [
            "RP3betaRecommender: URM Detected 466 ( 3.7%) users with no interactions.\n",
            "RP3betaRecommender: URM Detected 322 ( 1.4%) items with no interactions.\n",
            "RP3betaRecommender: Similarity column 22222 (100.0%), 2054.71 column/sec. Elapsed time 10.82 sec\n",
            "EvaluatorHoldout: Processed 10039 (100.0%) in 6.55 sec. Users per second: 1532\n"
          ]
        },
        {
          "output_type": "stream",
          "name": "stderr",
          "text": [
            "[I 2023-11-27 09:16:54,341] Trial 191 finished with value: 0.029974187968510348 and parameters: {'topK': 46, 'alpha': 0.2626539402071864, 'beta': 0.17259881613425396}. Best is trial 161 with value: 0.030082266462384214.\n"
          ]
        },
        {
          "output_type": "stream",
          "name": "stdout",
          "text": [
            "RP3betaRecommender: URM Detected 466 ( 3.7%) users with no interactions.\n",
            "RP3betaRecommender: URM Detected 322 ( 1.4%) items with no interactions.\n",
            "RP3betaRecommender: Similarity column 22222 (100.0%), 2086.70 column/sec. Elapsed time 10.65 sec\n",
            "EvaluatorHoldout: Processed 10039 (100.0%) in 6.76 sec. Users per second: 1485\n"
          ]
        },
        {
          "output_type": "stream",
          "name": "stderr",
          "text": [
            "[I 2023-11-27 09:17:13,440] Trial 192 finished with value: 0.029977670418700558 and parameters: {'topK': 47, 'alpha': 0.2431899082174566, 'beta': 0.20195796654889098}. Best is trial 161 with value: 0.030082266462384214.\n"
          ]
        },
        {
          "output_type": "stream",
          "name": "stdout",
          "text": [
            "RP3betaRecommender: URM Detected 466 ( 3.7%) users with no interactions.\n",
            "RP3betaRecommender: URM Detected 322 ( 1.4%) items with no interactions.\n",
            "RP3betaRecommender: Similarity column 22222 (100.0%), 2177.54 column/sec. Elapsed time 10.21 sec\n",
            "EvaluatorHoldout: Processed 10039 (100.0%) in 6.71 sec. Users per second: 1495\n"
          ]
        },
        {
          "output_type": "stream",
          "name": "stderr",
          "text": [
            "[I 2023-11-27 09:17:31,829] Trial 193 finished with value: 0.030042200497425314 and parameters: {'topK': 44, 'alpha': 0.2830692655142917, 'beta': 0.1514780302714361}. Best is trial 161 with value: 0.030082266462384214.\n"
          ]
        },
        {
          "output_type": "stream",
          "name": "stdout",
          "text": [
            "RP3betaRecommender: URM Detected 466 ( 3.7%) users with no interactions.\n",
            "RP3betaRecommender: URM Detected 322 ( 1.4%) items with no interactions.\n",
            "RP3betaRecommender: Similarity column 22222 (100.0%), 2177.25 column/sec. Elapsed time 10.21 sec\n",
            "EvaluatorHoldout: Processed 10039 (100.0%) in 6.66 sec. Users per second: 1508\n"
          ]
        },
        {
          "output_type": "stream",
          "name": "stderr",
          "text": [
            "[I 2023-11-27 09:17:50,109] Trial 194 finished with value: 0.02991960322994309 and parameters: {'topK': 43, 'alpha': 0.286771881037149, 'beta': 0.13924825738411623}. Best is trial 161 with value: 0.030082266462384214.\n"
          ]
        },
        {
          "output_type": "stream",
          "name": "stdout",
          "text": [
            "RP3betaRecommender: URM Detected 466 ( 3.7%) users with no interactions.\n",
            "RP3betaRecommender: URM Detected 322 ( 1.4%) items with no interactions.\n",
            "RP3betaRecommender: Similarity column 22222 (100.0%), 1765.37 column/sec. Elapsed time 12.59 sec\n",
            "EvaluatorHoldout: Processed 10039 (100.0%) in 7.87 sec. Users per second: 1275\n"
          ]
        },
        {
          "output_type": "stream",
          "name": "stderr",
          "text": [
            "[I 2023-11-27 09:18:13,030] Trial 195 finished with value: 0.030090634620219384 and parameters: {'topK': 44, 'alpha': 0.21591232212788025, 'beta': 0.15299862700982697}. Best is trial 195 with value: 0.030090634620219384.\n"
          ]
        },
        {
          "output_type": "stream",
          "name": "stdout",
          "text": [
            "RP3betaRecommender: URM Detected 466 ( 3.7%) users with no interactions.\n",
            "RP3betaRecommender: URM Detected 322 ( 1.4%) items with no interactions.\n",
            "RP3betaRecommender: Similarity column 22222 (100.0%), 2473.33 column/sec. Elapsed time 8.98 sec\n",
            "EvaluatorHoldout: Processed 10039 (100.0%) in 7.80 sec. Users per second: 1288\n"
          ]
        },
        {
          "output_type": "stream",
          "name": "stderr",
          "text": [
            "[I 2023-11-27 09:18:31,173] Trial 196 finished with value: 0.02996679616163645 and parameters: {'topK': 44, 'alpha': 0.21289224471620574, 'beta': 0.12301935255258886}. Best is trial 195 with value: 0.030090634620219384.\n"
          ]
        },
        {
          "output_type": "stream",
          "name": "stdout",
          "text": [
            "RP3betaRecommender: URM Detected 466 ( 3.7%) users with no interactions.\n",
            "RP3betaRecommender: URM Detected 322 ( 1.4%) items with no interactions.\n",
            "RP3betaRecommender: Similarity column 22222 (100.0%), 2555.79 column/sec. Elapsed time 8.69 sec\n",
            "EvaluatorHoldout: Processed 10039 (100.0%) in 7.89 sec. Users per second: 1272\n"
          ]
        },
        {
          "output_type": "stream",
          "name": "stderr",
          "text": [
            "[I 2023-11-27 09:18:49,135] Trial 197 finished with value: 0.029934327551122276 and parameters: {'topK': 40, 'alpha': 0.19734611062774954, 'beta': 0.15121471499414516}. Best is trial 195 with value: 0.030090634620219384.\n"
          ]
        },
        {
          "output_type": "stream",
          "name": "stdout",
          "text": [
            "RP3betaRecommender: URM Detected 466 ( 3.7%) users with no interactions.\n",
            "RP3betaRecommender: URM Detected 322 ( 1.4%) items with no interactions.\n",
            "RP3betaRecommender: Similarity column 22222 (100.0%), 2642.37 column/sec. Elapsed time 8.41 sec\n",
            "EvaluatorHoldout: Processed 10039 (100.0%) in 8.33 sec. Users per second: 1205\n"
          ]
        },
        {
          "output_type": "stream",
          "name": "stderr",
          "text": [
            "[I 2023-11-27 09:19:07,517] Trial 198 finished with value: 0.029764731041003745 and parameters: {'topK': 39, 'alpha': 0.2294639804007496, 'beta': 0.2182220426334428}. Best is trial 195 with value: 0.030090634620219384.\n"
          ]
        },
        {
          "output_type": "stream",
          "name": "stdout",
          "text": [
            "RP3betaRecommender: URM Detected 466 ( 3.7%) users with no interactions.\n",
            "RP3betaRecommender: URM Detected 322 ( 1.4%) items with no interactions.\n",
            "RP3betaRecommender: Similarity column 22222 (100.0%), 2766.74 column/sec. Elapsed time 8.03 sec\n",
            "EvaluatorHoldout: Processed 10039 (100.0%) in 7.99 sec. Users per second: 1257\n"
          ]
        },
        {
          "output_type": "stream",
          "name": "stderr",
          "text": [
            "[I 2023-11-27 09:19:24,796] Trial 199 finished with value: 0.029485431420634308 and parameters: {'topK': 42, 'alpha': 0.3455321269100255, 'beta': 0.05263021246527978}. Best is trial 195 with value: 0.030090634620219384.\n"
          ]
        }
      ]
    },
    {
      "cell_type": "code",
      "source": [
        "bests = optuna_study.best_trial.params\n",
        "bests"
      ],
      "metadata": {
        "id": "kWu2el6v0qaa",
        "colab": {
          "base_uri": "https://localhost:8080/"
        },
        "outputId": "59b91fbd-b896-4fd0-b7b7-8ed7ea6ea25b"
      },
      "execution_count": 23,
      "outputs": [
        {
          "output_type": "execute_result",
          "data": {
            "text/plain": [
              "{'topK': 44, 'alpha': 0.21591232212788025, 'beta': 0.15299862700982697}"
            ]
          },
          "metadata": {},
          "execution_count": 23
        }
      ]
    },
    {
      "cell_type": "code",
      "source": [],
      "metadata": {
        "id": "U-0LlQIJHfMa"
      },
      "execution_count": null,
      "outputs": []
    },
    {
      "cell_type": "code",
      "source": [
        "recommender_instance = RP3betaRecommender(urm_train + urm_validation)\n",
        "recommender_instance.fit(**bests)\n",
        "\n",
        "result_df, _ = evaluator_test.evaluateRecommender(recommender_instance)\n",
        "result_df\n"
      ],
      "metadata": {
        "colab": {
          "base_uri": "https://localhost:8080/",
          "height": 231
        },
        "id": "Vf2ntySEamP8",
        "outputId": "1b7f6209-9d28-4d03-e17f-b79f83da1840"
      },
      "execution_count": 24,
      "outputs": [
        {
          "output_type": "stream",
          "name": "stdout",
          "text": [
            "RP3betaRecommender: URM Detected 230 ( 1.8%) users with no interactions.\n",
            "RP3betaRecommender: URM Detected 93 ( 0.4%) items with no interactions.\n",
            "RP3betaRecommender: Similarity column 22222 (100.0%), 1554.33 column/sec. Elapsed time 14.30 sec\n",
            "EvaluatorHoldout: Processed 10486 (100.0%) in 7.74 sec. Users per second: 1354\n"
          ]
        },
        {
          "output_type": "execute_result",
          "data": {
            "text/plain": [
              "       PRECISION PRECISION_RECALL_MIN_DEN    RECALL       MAP MAP_MIN_DEN  \\\n",
              "cutoff                                                                      \n",
              "10      0.093143                 0.162036  0.136137  0.048089    0.083478   \n",
              "\n",
              "             MRR     NDCG        F1  HIT_RATE ARHR_ALL_HITS  ...  \\\n",
              "cutoff                                                       ...   \n",
              "10      0.267838  0.14892  0.110609  0.511158      0.354076  ...   \n",
              "\n",
              "       COVERAGE_USER COVERAGE_USER_HIT USERS_IN_GT DIVERSITY_GINI  \\\n",
              "cutoff                                                              \n",
              "10           0.82972          0.424118     0.82972       0.086468   \n",
              "\n",
              "       SHANNON_ENTROPY RATIO_DIVERSITY_HERFINDAHL RATIO_DIVERSITY_GINI  \\\n",
              "cutoff                                                                   \n",
              "10           10.742446                   0.998595             0.248248   \n",
              "\n",
              "       RATIO_SHANNON_ENTROPY RATIO_AVERAGE_POPULARITY RATIO_NOVELTY  \n",
              "cutoff                                                               \n",
              "10                  0.827582                 1.378839      0.299739  \n",
              "\n",
              "[1 rows x 27 columns]"
            ],
            "text/html": [
              "\n",
              "  <div id=\"df-66ea90fb-ec8a-465c-8b8d-8821ab20fe92\" class=\"colab-df-container\">\n",
              "    <div>\n",
              "<style scoped>\n",
              "    .dataframe tbody tr th:only-of-type {\n",
              "        vertical-align: middle;\n",
              "    }\n",
              "\n",
              "    .dataframe tbody tr th {\n",
              "        vertical-align: top;\n",
              "    }\n",
              "\n",
              "    .dataframe thead th {\n",
              "        text-align: right;\n",
              "    }\n",
              "</style>\n",
              "<table border=\"1\" class=\"dataframe\">\n",
              "  <thead>\n",
              "    <tr style=\"text-align: right;\">\n",
              "      <th></th>\n",
              "      <th>PRECISION</th>\n",
              "      <th>PRECISION_RECALL_MIN_DEN</th>\n",
              "      <th>RECALL</th>\n",
              "      <th>MAP</th>\n",
              "      <th>MAP_MIN_DEN</th>\n",
              "      <th>MRR</th>\n",
              "      <th>NDCG</th>\n",
              "      <th>F1</th>\n",
              "      <th>HIT_RATE</th>\n",
              "      <th>ARHR_ALL_HITS</th>\n",
              "      <th>...</th>\n",
              "      <th>COVERAGE_USER</th>\n",
              "      <th>COVERAGE_USER_HIT</th>\n",
              "      <th>USERS_IN_GT</th>\n",
              "      <th>DIVERSITY_GINI</th>\n",
              "      <th>SHANNON_ENTROPY</th>\n",
              "      <th>RATIO_DIVERSITY_HERFINDAHL</th>\n",
              "      <th>RATIO_DIVERSITY_GINI</th>\n",
              "      <th>RATIO_SHANNON_ENTROPY</th>\n",
              "      <th>RATIO_AVERAGE_POPULARITY</th>\n",
              "      <th>RATIO_NOVELTY</th>\n",
              "    </tr>\n",
              "    <tr>\n",
              "      <th>cutoff</th>\n",
              "      <th></th>\n",
              "      <th></th>\n",
              "      <th></th>\n",
              "      <th></th>\n",
              "      <th></th>\n",
              "      <th></th>\n",
              "      <th></th>\n",
              "      <th></th>\n",
              "      <th></th>\n",
              "      <th></th>\n",
              "      <th></th>\n",
              "      <th></th>\n",
              "      <th></th>\n",
              "      <th></th>\n",
              "      <th></th>\n",
              "      <th></th>\n",
              "      <th></th>\n",
              "      <th></th>\n",
              "      <th></th>\n",
              "      <th></th>\n",
              "      <th></th>\n",
              "    </tr>\n",
              "  </thead>\n",
              "  <tbody>\n",
              "    <tr>\n",
              "      <th>10</th>\n",
              "      <td>0.093143</td>\n",
              "      <td>0.162036</td>\n",
              "      <td>0.136137</td>\n",
              "      <td>0.048089</td>\n",
              "      <td>0.083478</td>\n",
              "      <td>0.267838</td>\n",
              "      <td>0.14892</td>\n",
              "      <td>0.110609</td>\n",
              "      <td>0.511158</td>\n",
              "      <td>0.354076</td>\n",
              "      <td>...</td>\n",
              "      <td>0.82972</td>\n",
              "      <td>0.424118</td>\n",
              "      <td>0.82972</td>\n",
              "      <td>0.086468</td>\n",
              "      <td>10.742446</td>\n",
              "      <td>0.998595</td>\n",
              "      <td>0.248248</td>\n",
              "      <td>0.827582</td>\n",
              "      <td>1.378839</td>\n",
              "      <td>0.299739</td>\n",
              "    </tr>\n",
              "  </tbody>\n",
              "</table>\n",
              "<p>1 rows × 27 columns</p>\n",
              "</div>\n",
              "    <div class=\"colab-df-buttons\">\n",
              "\n",
              "  <div class=\"colab-df-container\">\n",
              "    <button class=\"colab-df-convert\" onclick=\"convertToInteractive('df-66ea90fb-ec8a-465c-8b8d-8821ab20fe92')\"\n",
              "            title=\"Convert this dataframe to an interactive table.\"\n",
              "            style=\"display:none;\">\n",
              "\n",
              "  <svg xmlns=\"http://www.w3.org/2000/svg\" height=\"24px\" viewBox=\"0 -960 960 960\">\n",
              "    <path d=\"M120-120v-720h720v720H120Zm60-500h600v-160H180v160Zm220 220h160v-160H400v160Zm0 220h160v-160H400v160ZM180-400h160v-160H180v160Zm440 0h160v-160H620v160ZM180-180h160v-160H180v160Zm440 0h160v-160H620v160Z\"/>\n",
              "  </svg>\n",
              "    </button>\n",
              "\n",
              "  <style>\n",
              "    .colab-df-container {\n",
              "      display:flex;\n",
              "      gap: 12px;\n",
              "    }\n",
              "\n",
              "    .colab-df-convert {\n",
              "      background-color: #E8F0FE;\n",
              "      border: none;\n",
              "      border-radius: 50%;\n",
              "      cursor: pointer;\n",
              "      display: none;\n",
              "      fill: #1967D2;\n",
              "      height: 32px;\n",
              "      padding: 0 0 0 0;\n",
              "      width: 32px;\n",
              "    }\n",
              "\n",
              "    .colab-df-convert:hover {\n",
              "      background-color: #E2EBFA;\n",
              "      box-shadow: 0px 1px 2px rgba(60, 64, 67, 0.3), 0px 1px 3px 1px rgba(60, 64, 67, 0.15);\n",
              "      fill: #174EA6;\n",
              "    }\n",
              "\n",
              "    .colab-df-buttons div {\n",
              "      margin-bottom: 4px;\n",
              "    }\n",
              "\n",
              "    [theme=dark] .colab-df-convert {\n",
              "      background-color: #3B4455;\n",
              "      fill: #D2E3FC;\n",
              "    }\n",
              "\n",
              "    [theme=dark] .colab-df-convert:hover {\n",
              "      background-color: #434B5C;\n",
              "      box-shadow: 0px 1px 3px 1px rgba(0, 0, 0, 0.15);\n",
              "      filter: drop-shadow(0px 1px 2px rgba(0, 0, 0, 0.3));\n",
              "      fill: #FFFFFF;\n",
              "    }\n",
              "  </style>\n",
              "\n",
              "    <script>\n",
              "      const buttonEl =\n",
              "        document.querySelector('#df-66ea90fb-ec8a-465c-8b8d-8821ab20fe92 button.colab-df-convert');\n",
              "      buttonEl.style.display =\n",
              "        google.colab.kernel.accessAllowed ? 'block' : 'none';\n",
              "\n",
              "      async function convertToInteractive(key) {\n",
              "        const element = document.querySelector('#df-66ea90fb-ec8a-465c-8b8d-8821ab20fe92');\n",
              "        const dataTable =\n",
              "          await google.colab.kernel.invokeFunction('convertToInteractive',\n",
              "                                                    [key], {});\n",
              "        if (!dataTable) return;\n",
              "\n",
              "        const docLinkHtml = 'Like what you see? Visit the ' +\n",
              "          '<a target=\"_blank\" href=https://colab.research.google.com/notebooks/data_table.ipynb>data table notebook</a>'\n",
              "          + ' to learn more about interactive tables.';\n",
              "        element.innerHTML = '';\n",
              "        dataTable['output_type'] = 'display_data';\n",
              "        await google.colab.output.renderOutput(dataTable, element);\n",
              "        const docLink = document.createElement('div');\n",
              "        docLink.innerHTML = docLinkHtml;\n",
              "        element.appendChild(docLink);\n",
              "      }\n",
              "    </script>\n",
              "  </div>\n",
              "\n",
              "    </div>\n",
              "  </div>\n"
            ]
          },
          "metadata": {},
          "execution_count": 24
        }
      ]
    },
    {
      "cell_type": "markdown",
      "source": [
        "## Top popular for the users without info"
      ],
      "metadata": {
        "id": "GqvLoWjYOUXJ"
      }
    },
    {
      "cell_type": "code",
      "execution_count": 25,
      "metadata": {
        "id": "pXwcRW6e5tt4"
      },
      "outputs": [],
      "source": [
        "class TopPopRecommender(object):\n",
        "\n",
        "    def fit(self, URM_train):\n",
        "\n",
        "        item_popularity = np.ediff1d(URM_train.tocsc().indptr)\n",
        "\n",
        "        # We are not interested in sorting the popularity value,\n",
        "        # but to order the items according to it\n",
        "        self.popular_items = np.argsort(item_popularity)\n",
        "        self.popular_items = np.flip(self.popular_items, axis = 0)\n",
        "\n",
        "\n",
        "    def recommend(self, user_id, at=5):\n",
        "\n",
        "        recommended_items = self.popular_items[0:at]\n",
        "\n",
        "        return recommended_items"
      ]
    },
    {
      "cell_type": "markdown",
      "metadata": {
        "id": "--6CuvMqQrIf"
      },
      "source": [
        "#Hyperparameter Tuning\n",
        "\n",
        "\n",
        "*   Number of neighbors\n",
        "\n",
        "*   Shrinking\n",
        "\n",
        "*   Similarity Type\n",
        "\n"
      ]
    },
    {
      "cell_type": "code",
      "source": [
        "%cd RecSys_Course_AT_PoliMi_\n",
        "from Evaluation.Evaluator import EvaluatorHoldout\n",
        "\n",
        "\n",
        "evaluator_validation = EvaluatorHoldout(urm_validation, cutoff_list=[10])\n",
        "evaluator_test = EvaluatorHoldout(urm_test, cutoff_list=[10])"
      ],
      "metadata": {
        "colab": {
          "base_uri": "https://localhost:8080/"
        },
        "id": "rWLSE4-aZxOf",
        "outputId": "074249fc-e96d-4fbd-8eab-13cea962eb09"
      },
      "execution_count": null,
      "outputs": [
        {
          "output_type": "stream",
          "name": "stdout",
          "text": [
            "[Errno 2] No such file or directory: 'RecSys_Course_AT_PoliMi_'\n",
            "/gdrive/MyDrive/RECSYS/RecSys_Course_AT_PoliMi\n",
            "EvaluatorHoldout: Ignoring 3066 (24.3%) Users that have less than 1 test interactions\n",
            "EvaluatorHoldout: Ignoring 2716 (21.5%) Users that have less than 1 test interactions\n"
          ]
        }
      ]
    },
    {
      "cell_type": "code",
      "execution_count": null,
      "metadata": {
        "id": "xCLT9Q2bhcNv"
      },
      "outputs": [],
      "source": [
        "def objective_function_ItemKNN_similarities(optuna_trial):\n",
        "\n",
        "    recommender_instance = ItemKNNCFRecommender(urm_train)\n",
        "    similarity = optuna_trial.suggest_categorical(\"similarity\", ['cosine', 'dice', 'jaccard', 'asymmetric', 'tversky', 'euclidean'])\n",
        "\n",
        "    full_hyperp = {\"similarity\": similarity,\n",
        "                   \"topK\": optuna_trial.suggest_int(\"topK\", 5, 1000),\n",
        "                   \"shrink\": optuna_trial.suggest_int(\"shrink\", 0, 1000),\n",
        "                  }\n",
        "\n",
        "    if similarity == \"asymmetric\":\n",
        "        full_hyperp[\"asymmetric_alpha\"] = optuna_trial.suggest_float(\"asymmetric_alpha\", 0, 2, log=False)\n",
        "        full_hyperp[\"normalize\"] = True\n",
        "\n",
        "    elif similarity == \"tversky\":\n",
        "        full_hyperp[\"tversky_alpha\"] = optuna_trial.suggest_float(\"tversky_alpha\", 0, 2, log=False)\n",
        "        full_hyperp[\"tversky_beta\"] = optuna_trial.suggest_float(\"tversky_beta\", 0, 2, log=False)\n",
        "        full_hyperp[\"normalize\"] = True\n",
        "\n",
        "    elif similarity == \"euclidean\":\n",
        "        full_hyperp[\"normalize_avg_row\"] = optuna_trial.suggest_categorical(\"normalize_avg_row\", [True, False])\n",
        "        full_hyperp[\"similarity_from_distance_mode\"] = optuna_trial.suggest_categorical(\"similarity_from_distance_mode\", [\"lin\", \"log\", \"exp\"])\n",
        "        full_hyperp[\"normalize\"] = optuna_trial.suggest_categorical(\"normalize\", [True, False])\n",
        "\n",
        "\n",
        "    recommender_instance.fit(**full_hyperp)\n",
        "\n",
        "    result_df, _ = evaluator_validation.evaluateRecommender(recommender_instance)\n",
        "\n",
        "    return result_df.loc[10][\"MAP\"]"
      ]
    },
    {
      "cell_type": "code",
      "source": [
        "from Recommenders.KNN.ItemKNNCFRecommender import ItemKNNCFRecommender\n",
        "\n",
        "def objective_function_UserKNN_similarities(optuna_trial):\n",
        "\n",
        "    recommender_instance = UserKNNCFRecommender(urm_train)\n",
        "    similarity = optuna_trial.suggest_categorical(\"similarity\", ['cosine', 'dice', 'jaccard', 'asymmetric', 'tversky', 'euclidean', 'pearson'])\n",
        "\n",
        "    full_hyperp = {\"similarity\": similarity,\n",
        "                   \"topK\": optuna_trial.suggest_int(\"topK\", 5, 1000),\n",
        "                   \"shrink\": optuna_trial.suggest_int(\"shrink\", 0, 1000),\n",
        "                  }\n",
        "\n",
        "    if similarity == \"asymmetric\":\n",
        "        full_hyperp[\"asymmetric_alpha\"] = optuna_trial.suggest_float(\"asymmetric_alpha\", 0, 2, log=False)\n",
        "        full_hyperp[\"normalize\"] = True\n",
        "\n",
        "    elif similarity == \"tversky\":\n",
        "        full_hyperp[\"tversky_alpha\"] = optuna_trial.suggest_float(\"tversky_alpha\", 0, 2, log=False)\n",
        "        full_hyperp[\"tversky_beta\"] = optuna_trial.suggest_float(\"tversky_beta\", 0, 2, log=False)\n",
        "        full_hyperp[\"normalize\"] = True\n",
        "\n",
        "    elif similarity == \"euclidean\":\n",
        "        full_hyperp[\"normalize_avg_row\"] = optuna_trial.suggest_categorical(\"normalize_avg_row\", [True, False])\n",
        "        full_hyperp[\"similarity_from_distance_mode\"] = optuna_trial.suggest_categorical(\"similarity_from_distance_mode\", [\"lin\", \"log\", \"exp\"])\n",
        "        full_hyperp[\"normalize\"] = optuna_trial.suggest_categorical(\"normalize\", [True, False])\n",
        "\n",
        "\n",
        "    recommender_instance.fit(**full_hyperp)\n",
        "\n",
        "    result_df, _ = evaluator_validation.evaluateRecommender(recommender_instance)\n",
        "\n",
        "    return result_df.loc[10][\"MAP\"]"
      ],
      "metadata": {
        "id": "ksR0iIK_YFNS"
      },
      "execution_count": null,
      "outputs": []
    },
    {
      "cell_type": "code",
      "source": [
        "class SaveResults(object):\n",
        "\n",
        "    def __init__(self):\n",
        "        self.results_df = pd.DataFrame()\n",
        "\n",
        "    def __call__(self, optuna_study, optuna_trial):\n",
        "        hyperparam_dict = optuna_trial.params.copy()\n",
        "        hyperparam_dict[\"result\"] = optuna_trial.values[0]\n",
        "\n",
        "        self.results_df = self.results_df.append(hyperparam_dict, ignore_index=True)"
      ],
      "metadata": {
        "id": "EltFJ03Ay2Kg"
      },
      "execution_count": 21,
      "outputs": []
    },
    {
      "cell_type": "code",
      "source": [
        "item_optuna_study = optuna.create_study(direction=\"maximize\")\n",
        "\n",
        "item_save_results = SaveResults()\n",
        "\n",
        "item_optuna_study.optimize(objective_function_ItemKNN_similarities,\n",
        "                      callbacks=[item_save_results],\n",
        "                      n_trials = 50)"
      ],
      "metadata": {
        "id": "V-cQk8tdaM73"
      },
      "execution_count": null,
      "outputs": []
    },
    {
      "cell_type": "code",
      "source": [
        "user_optuna_study = optuna.create_study(direction=\"maximize\")\n",
        "\n",
        "user_save_results = SaveResults()\n",
        "\n",
        "user_optuna_study.optimize(objective_function_UserKNN_similarities,\n",
        "                      callbacks=[user_save_results],\n",
        "                      n_trials = 50)"
      ],
      "metadata": {
        "id": "yrbk9COxzmS0"
      },
      "execution_count": null,
      "outputs": []
    },
    {
      "cell_type": "code",
      "source": [
        "user_bests = user_optuna_study.best_trial.params"
      ],
      "metadata": {
        "id": "XBtL5f0AakvJ"
      },
      "execution_count": null,
      "outputs": []
    },
    {
      "cell_type": "code",
      "source": [
        "item_bests = {'topK': 17, 'shrink': 158, 'tversky_alpha': 0.7658894054120393, 'tversky_beta': 17.560866787611264}"
      ],
      "metadata": {
        "id": "IYtZY_sO88nf"
      },
      "execution_count": null,
      "outputs": []
    },
    {
      "cell_type": "code",
      "source": [
        "recommender_instance_item = ItemKNNCFRecommender(urm_train + urm_validation)\n",
        "recommender_instance_item.fit(**item_bests)\n",
        "\n",
        "result_df_item, _ = evaluator_test.evaluateRecommender(recommender_instance_item)\n",
        "result_df_item"
      ],
      "metadata": {
        "colab": {
          "base_uri": "https://localhost:8080/",
          "height": 231
        },
        "id": "R-hl3tAj9FbE",
        "outputId": "18c70d3c-0ce2-41a3-fbbd-a281fc65964a"
      },
      "execution_count": null,
      "outputs": [
        {
          "output_type": "stream",
          "name": "stdout",
          "text": [
            "ItemKNNCFRecommender: URM Detected 230 ( 1.8%) users with no interactions.\n",
            "ItemKNNCFRecommender: URM Detected 93 ( 0.4%) items with no interactions.\n",
            "Similarity column 22222 (100.0%), 3253.92 column/sec. Elapsed time 6.83 sec\n",
            "EvaluatorHoldout: Processed 10486 (100.0%) in 9.20 sec. Users per second: 1140\n"
          ]
        },
        {
          "output_type": "execute_result",
          "data": {
            "text/plain": [
              "       PRECISION PRECISION_RECALL_MIN_DEN    RECALL       MAP MAP_MIN_DEN  \\\n",
              "cutoff                                                                      \n",
              "10      0.074661                 0.134423  0.114083  0.038066    0.067712   \n",
              "\n",
              "             MRR      NDCG        F1  HIT_RATE ARHR_ALL_HITS  ...  \\\n",
              "cutoff                                                        ...   \n",
              "10      0.229832  0.122869  0.090255  0.447358      0.292888  ...   \n",
              "\n",
              "       COVERAGE_USER COVERAGE_USER_HIT USERS_IN_GT DIVERSITY_GINI  \\\n",
              "cutoff                                                              \n",
              "10           0.82972          0.371182     0.82972       0.032249   \n",
              "\n",
              "       SHANNON_ENTROPY RATIO_DIVERSITY_HERFINDAHL RATIO_DIVERSITY_GINI  \\\n",
              "cutoff                                                                   \n",
              "10            9.268157                    0.99612             0.092586   \n",
              "\n",
              "       RATIO_SHANNON_ENTROPY RATIO_AVERAGE_POPULARITY RATIO_NOVELTY  \n",
              "cutoff                                                               \n",
              "10                  0.714005                  2.18609      0.272204  \n",
              "\n",
              "[1 rows x 27 columns]"
            ],
            "text/html": [
              "\n",
              "  <div id=\"df-a4f05afe-9936-4818-b693-e6339ad21fda\" class=\"colab-df-container\">\n",
              "    <div>\n",
              "<style scoped>\n",
              "    .dataframe tbody tr th:only-of-type {\n",
              "        vertical-align: middle;\n",
              "    }\n",
              "\n",
              "    .dataframe tbody tr th {\n",
              "        vertical-align: top;\n",
              "    }\n",
              "\n",
              "    .dataframe thead th {\n",
              "        text-align: right;\n",
              "    }\n",
              "</style>\n",
              "<table border=\"1\" class=\"dataframe\">\n",
              "  <thead>\n",
              "    <tr style=\"text-align: right;\">\n",
              "      <th></th>\n",
              "      <th>PRECISION</th>\n",
              "      <th>PRECISION_RECALL_MIN_DEN</th>\n",
              "      <th>RECALL</th>\n",
              "      <th>MAP</th>\n",
              "      <th>MAP_MIN_DEN</th>\n",
              "      <th>MRR</th>\n",
              "      <th>NDCG</th>\n",
              "      <th>F1</th>\n",
              "      <th>HIT_RATE</th>\n",
              "      <th>ARHR_ALL_HITS</th>\n",
              "      <th>...</th>\n",
              "      <th>COVERAGE_USER</th>\n",
              "      <th>COVERAGE_USER_HIT</th>\n",
              "      <th>USERS_IN_GT</th>\n",
              "      <th>DIVERSITY_GINI</th>\n",
              "      <th>SHANNON_ENTROPY</th>\n",
              "      <th>RATIO_DIVERSITY_HERFINDAHL</th>\n",
              "      <th>RATIO_DIVERSITY_GINI</th>\n",
              "      <th>RATIO_SHANNON_ENTROPY</th>\n",
              "      <th>RATIO_AVERAGE_POPULARITY</th>\n",
              "      <th>RATIO_NOVELTY</th>\n",
              "    </tr>\n",
              "    <tr>\n",
              "      <th>cutoff</th>\n",
              "      <th></th>\n",
              "      <th></th>\n",
              "      <th></th>\n",
              "      <th></th>\n",
              "      <th></th>\n",
              "      <th></th>\n",
              "      <th></th>\n",
              "      <th></th>\n",
              "      <th></th>\n",
              "      <th></th>\n",
              "      <th></th>\n",
              "      <th></th>\n",
              "      <th></th>\n",
              "      <th></th>\n",
              "      <th></th>\n",
              "      <th></th>\n",
              "      <th></th>\n",
              "      <th></th>\n",
              "      <th></th>\n",
              "      <th></th>\n",
              "      <th></th>\n",
              "    </tr>\n",
              "  </thead>\n",
              "  <tbody>\n",
              "    <tr>\n",
              "      <th>10</th>\n",
              "      <td>0.074661</td>\n",
              "      <td>0.134423</td>\n",
              "      <td>0.114083</td>\n",
              "      <td>0.038066</td>\n",
              "      <td>0.067712</td>\n",
              "      <td>0.229832</td>\n",
              "      <td>0.122869</td>\n",
              "      <td>0.090255</td>\n",
              "      <td>0.447358</td>\n",
              "      <td>0.292888</td>\n",
              "      <td>...</td>\n",
              "      <td>0.82972</td>\n",
              "      <td>0.371182</td>\n",
              "      <td>0.82972</td>\n",
              "      <td>0.032249</td>\n",
              "      <td>9.268157</td>\n",
              "      <td>0.99612</td>\n",
              "      <td>0.092586</td>\n",
              "      <td>0.714005</td>\n",
              "      <td>2.18609</td>\n",
              "      <td>0.272204</td>\n",
              "    </tr>\n",
              "  </tbody>\n",
              "</table>\n",
              "<p>1 rows × 27 columns</p>\n",
              "</div>\n",
              "    <div class=\"colab-df-buttons\">\n",
              "\n",
              "  <div class=\"colab-df-container\">\n",
              "    <button class=\"colab-df-convert\" onclick=\"convertToInteractive('df-a4f05afe-9936-4818-b693-e6339ad21fda')\"\n",
              "            title=\"Convert this dataframe to an interactive table.\"\n",
              "            style=\"display:none;\">\n",
              "\n",
              "  <svg xmlns=\"http://www.w3.org/2000/svg\" height=\"24px\" viewBox=\"0 -960 960 960\">\n",
              "    <path d=\"M120-120v-720h720v720H120Zm60-500h600v-160H180v160Zm220 220h160v-160H400v160Zm0 220h160v-160H400v160ZM180-400h160v-160H180v160Zm440 0h160v-160H620v160ZM180-180h160v-160H180v160Zm440 0h160v-160H620v160Z\"/>\n",
              "  </svg>\n",
              "    </button>\n",
              "\n",
              "  <style>\n",
              "    .colab-df-container {\n",
              "      display:flex;\n",
              "      gap: 12px;\n",
              "    }\n",
              "\n",
              "    .colab-df-convert {\n",
              "      background-color: #E8F0FE;\n",
              "      border: none;\n",
              "      border-radius: 50%;\n",
              "      cursor: pointer;\n",
              "      display: none;\n",
              "      fill: #1967D2;\n",
              "      height: 32px;\n",
              "      padding: 0 0 0 0;\n",
              "      width: 32px;\n",
              "    }\n",
              "\n",
              "    .colab-df-convert:hover {\n",
              "      background-color: #E2EBFA;\n",
              "      box-shadow: 0px 1px 2px rgba(60, 64, 67, 0.3), 0px 1px 3px 1px rgba(60, 64, 67, 0.15);\n",
              "      fill: #174EA6;\n",
              "    }\n",
              "\n",
              "    .colab-df-buttons div {\n",
              "      margin-bottom: 4px;\n",
              "    }\n",
              "\n",
              "    [theme=dark] .colab-df-convert {\n",
              "      background-color: #3B4455;\n",
              "      fill: #D2E3FC;\n",
              "    }\n",
              "\n",
              "    [theme=dark] .colab-df-convert:hover {\n",
              "      background-color: #434B5C;\n",
              "      box-shadow: 0px 1px 3px 1px rgba(0, 0, 0, 0.15);\n",
              "      filter: drop-shadow(0px 1px 2px rgba(0, 0, 0, 0.3));\n",
              "      fill: #FFFFFF;\n",
              "    }\n",
              "  </style>\n",
              "\n",
              "    <script>\n",
              "      const buttonEl =\n",
              "        document.querySelector('#df-a4f05afe-9936-4818-b693-e6339ad21fda button.colab-df-convert');\n",
              "      buttonEl.style.display =\n",
              "        google.colab.kernel.accessAllowed ? 'block' : 'none';\n",
              "\n",
              "      async function convertToInteractive(key) {\n",
              "        const element = document.querySelector('#df-a4f05afe-9936-4818-b693-e6339ad21fda');\n",
              "        const dataTable =\n",
              "          await google.colab.kernel.invokeFunction('convertToInteractive',\n",
              "                                                    [key], {});\n",
              "        if (!dataTable) return;\n",
              "\n",
              "        const docLinkHtml = 'Like what you see? Visit the ' +\n",
              "          '<a target=\"_blank\" href=https://colab.research.google.com/notebooks/data_table.ipynb>data table notebook</a>'\n",
              "          + ' to learn more about interactive tables.';\n",
              "        element.innerHTML = '';\n",
              "        dataTable['output_type'] = 'display_data';\n",
              "        await google.colab.output.renderOutput(dataTable, element);\n",
              "        const docLink = document.createElement('div');\n",
              "        docLink.innerHTML = docLinkHtml;\n",
              "        element.appendChild(docLink);\n",
              "      }\n",
              "    </script>\n",
              "  </div>\n",
              "\n",
              "    </div>\n",
              "  </div>\n"
            ]
          },
          "metadata": {},
          "execution_count": 74
        }
      ]
    },
    {
      "cell_type": "code",
      "source": [
        "recommender_instance_user = UserKNNCFRecommender(urm_train + urm_validation)\n",
        "recommender_instance_user.fit(**user_optuna_study.best_trial.params)\n",
        "\n",
        "result_df_user, _ = evaluator_test.evaluateRecommender(recommender_instance_user)\n",
        "result_df_user"
      ],
      "metadata": {
        "colab": {
          "base_uri": "https://localhost:8080/",
          "height": 231
        },
        "id": "fXngKcaxbS76",
        "outputId": "6e498046-ae4e-450a-8131-282483d3a3ca"
      },
      "execution_count": null,
      "outputs": [
        {
          "output_type": "stream",
          "name": "stdout",
          "text": [
            "UserKNNCFRecommender: URM Detected 156 ( 1.2%) users with no interactions.\n",
            "UserKNNCFRecommender: URM Detected 65 ( 0.3%) items with no interactions.\n",
            "Similarity column 12638 (100.0%), 1790.04 column/sec. Elapsed time 7.06 sec\n",
            "EvaluatorHoldout: Processed 9922 (100.0%) in 9.77 sec. Users per second: 1016\n"
          ]
        },
        {
          "output_type": "execute_result",
          "data": {
            "text/plain": [
              "       PRECISION PRECISION_RECALL_MIN_DEN    RECALL       MAP MAP_MIN_DEN  \\\n",
              "cutoff                                                                      \n",
              "10      0.055614                 0.119083  0.108848  0.026084    0.056232   \n",
              "\n",
              "             MRR      NDCG        F1  HIT_RATE ARHR_ALL_HITS  ...  \\\n",
              "cutoff                                                        ...   \n",
              "10      0.185723  0.101881  0.073615  0.388228      0.219411  ...   \n",
              "\n",
              "       COVERAGE_USER COVERAGE_USER_HIT USERS_IN_GT DIVERSITY_GINI  \\\n",
              "cutoff                                                              \n",
              "10          0.785093          0.304795    0.785093       0.012461   \n",
              "\n",
              "       SHANNON_ENTROPY RATIO_DIVERSITY_HERFINDAHL RATIO_DIVERSITY_GINI  \\\n",
              "cutoff                                                                   \n",
              "10            7.632904                   0.983943             0.035661   \n",
              "\n",
              "       RATIO_SHANNON_ENTROPY RATIO_AVERAGE_POPULARITY RATIO_NOVELTY  \n",
              "cutoff                                                               \n",
              "10                  0.587871                 3.616883       0.23348  \n",
              "\n",
              "[1 rows x 27 columns]"
            ],
            "text/html": [
              "\n",
              "  <div id=\"df-330a45ce-407c-405a-9361-b1256ffb89e7\" class=\"colab-df-container\">\n",
              "    <div>\n",
              "<style scoped>\n",
              "    .dataframe tbody tr th:only-of-type {\n",
              "        vertical-align: middle;\n",
              "    }\n",
              "\n",
              "    .dataframe tbody tr th {\n",
              "        vertical-align: top;\n",
              "    }\n",
              "\n",
              "    .dataframe thead th {\n",
              "        text-align: right;\n",
              "    }\n",
              "</style>\n",
              "<table border=\"1\" class=\"dataframe\">\n",
              "  <thead>\n",
              "    <tr style=\"text-align: right;\">\n",
              "      <th></th>\n",
              "      <th>PRECISION</th>\n",
              "      <th>PRECISION_RECALL_MIN_DEN</th>\n",
              "      <th>RECALL</th>\n",
              "      <th>MAP</th>\n",
              "      <th>MAP_MIN_DEN</th>\n",
              "      <th>MRR</th>\n",
              "      <th>NDCG</th>\n",
              "      <th>F1</th>\n",
              "      <th>HIT_RATE</th>\n",
              "      <th>ARHR_ALL_HITS</th>\n",
              "      <th>...</th>\n",
              "      <th>COVERAGE_USER</th>\n",
              "      <th>COVERAGE_USER_HIT</th>\n",
              "      <th>USERS_IN_GT</th>\n",
              "      <th>DIVERSITY_GINI</th>\n",
              "      <th>SHANNON_ENTROPY</th>\n",
              "      <th>RATIO_DIVERSITY_HERFINDAHL</th>\n",
              "      <th>RATIO_DIVERSITY_GINI</th>\n",
              "      <th>RATIO_SHANNON_ENTROPY</th>\n",
              "      <th>RATIO_AVERAGE_POPULARITY</th>\n",
              "      <th>RATIO_NOVELTY</th>\n",
              "    </tr>\n",
              "    <tr>\n",
              "      <th>cutoff</th>\n",
              "      <th></th>\n",
              "      <th></th>\n",
              "      <th></th>\n",
              "      <th></th>\n",
              "      <th></th>\n",
              "      <th></th>\n",
              "      <th></th>\n",
              "      <th></th>\n",
              "      <th></th>\n",
              "      <th></th>\n",
              "      <th></th>\n",
              "      <th></th>\n",
              "      <th></th>\n",
              "      <th></th>\n",
              "      <th></th>\n",
              "      <th></th>\n",
              "      <th></th>\n",
              "      <th></th>\n",
              "      <th></th>\n",
              "      <th></th>\n",
              "      <th></th>\n",
              "    </tr>\n",
              "  </thead>\n",
              "  <tbody>\n",
              "    <tr>\n",
              "      <th>10</th>\n",
              "      <td>0.055614</td>\n",
              "      <td>0.119083</td>\n",
              "      <td>0.108848</td>\n",
              "      <td>0.026084</td>\n",
              "      <td>0.056232</td>\n",
              "      <td>0.185723</td>\n",
              "      <td>0.101881</td>\n",
              "      <td>0.073615</td>\n",
              "      <td>0.388228</td>\n",
              "      <td>0.219411</td>\n",
              "      <td>...</td>\n",
              "      <td>0.785093</td>\n",
              "      <td>0.304795</td>\n",
              "      <td>0.785093</td>\n",
              "      <td>0.012461</td>\n",
              "      <td>7.632904</td>\n",
              "      <td>0.983943</td>\n",
              "      <td>0.035661</td>\n",
              "      <td>0.587871</td>\n",
              "      <td>3.616883</td>\n",
              "      <td>0.23348</td>\n",
              "    </tr>\n",
              "  </tbody>\n",
              "</table>\n",
              "<p>1 rows × 27 columns</p>\n",
              "</div>\n",
              "    <div class=\"colab-df-buttons\">\n",
              "\n",
              "  <div class=\"colab-df-container\">\n",
              "    <button class=\"colab-df-convert\" onclick=\"convertToInteractive('df-330a45ce-407c-405a-9361-b1256ffb89e7')\"\n",
              "            title=\"Convert this dataframe to an interactive table.\"\n",
              "            style=\"display:none;\">\n",
              "\n",
              "  <svg xmlns=\"http://www.w3.org/2000/svg\" height=\"24px\" viewBox=\"0 -960 960 960\">\n",
              "    <path d=\"M120-120v-720h720v720H120Zm60-500h600v-160H180v160Zm220 220h160v-160H400v160Zm0 220h160v-160H400v160ZM180-400h160v-160H180v160Zm440 0h160v-160H620v160ZM180-180h160v-160H180v160Zm440 0h160v-160H620v160Z\"/>\n",
              "  </svg>\n",
              "    </button>\n",
              "\n",
              "  <style>\n",
              "    .colab-df-container {\n",
              "      display:flex;\n",
              "      gap: 12px;\n",
              "    }\n",
              "\n",
              "    .colab-df-convert {\n",
              "      background-color: #E8F0FE;\n",
              "      border: none;\n",
              "      border-radius: 50%;\n",
              "      cursor: pointer;\n",
              "      display: none;\n",
              "      fill: #1967D2;\n",
              "      height: 32px;\n",
              "      padding: 0 0 0 0;\n",
              "      width: 32px;\n",
              "    }\n",
              "\n",
              "    .colab-df-convert:hover {\n",
              "      background-color: #E2EBFA;\n",
              "      box-shadow: 0px 1px 2px rgba(60, 64, 67, 0.3), 0px 1px 3px 1px rgba(60, 64, 67, 0.15);\n",
              "      fill: #174EA6;\n",
              "    }\n",
              "\n",
              "    .colab-df-buttons div {\n",
              "      margin-bottom: 4px;\n",
              "    }\n",
              "\n",
              "    [theme=dark] .colab-df-convert {\n",
              "      background-color: #3B4455;\n",
              "      fill: #D2E3FC;\n",
              "    }\n",
              "\n",
              "    [theme=dark] .colab-df-convert:hover {\n",
              "      background-color: #434B5C;\n",
              "      box-shadow: 0px 1px 3px 1px rgba(0, 0, 0, 0.15);\n",
              "      filter: drop-shadow(0px 1px 2px rgba(0, 0, 0, 0.3));\n",
              "      fill: #FFFFFF;\n",
              "    }\n",
              "  </style>\n",
              "\n",
              "    <script>\n",
              "      const buttonEl =\n",
              "        document.querySelector('#df-330a45ce-407c-405a-9361-b1256ffb89e7 button.colab-df-convert');\n",
              "      buttonEl.style.display =\n",
              "        google.colab.kernel.accessAllowed ? 'block' : 'none';\n",
              "\n",
              "      async function convertToInteractive(key) {\n",
              "        const element = document.querySelector('#df-330a45ce-407c-405a-9361-b1256ffb89e7');\n",
              "        const dataTable =\n",
              "          await google.colab.kernel.invokeFunction('convertToInteractive',\n",
              "                                                    [key], {});\n",
              "        if (!dataTable) return;\n",
              "\n",
              "        const docLinkHtml = 'Like what you see? Visit the ' +\n",
              "          '<a target=\"_blank\" href=https://colab.research.google.com/notebooks/data_table.ipynb>data table notebook</a>'\n",
              "          + ' to learn more about interactive tables.';\n",
              "        element.innerHTML = '';\n",
              "        dataTable['output_type'] = 'display_data';\n",
              "        await google.colab.output.renderOutput(dataTable, element);\n",
              "        const docLink = document.createElement('div');\n",
              "        docLink.innerHTML = docLinkHtml;\n",
              "        element.appendChild(docLink);\n",
              "      }\n",
              "    </script>\n",
              "  </div>\n",
              "\n",
              "    </div>\n",
              "  </div>\n"
            ]
          },
          "metadata": {},
          "execution_count": 35
        }
      ]
    },
    {
      "cell_type": "code",
      "source": [
        "from Recommenders.BaseRecommender import BaseRecommender\n",
        "\n",
        "class ScoresHybridRecommender(BaseRecommender):\n",
        "    \"\"\" ScoresHybridRecommender\n",
        "    Hybrid of two prediction scores R = R1*alpha + R2*(1-alpha)\n",
        "\n",
        "    \"\"\"\n",
        "\n",
        "    RECOMMENDER_NAME = \"ScoresHybridRecommender\"\n",
        "\n",
        "    def __init__(self, URM_train, recommender_1, recommender_2):\n",
        "        super(ScoresHybridRecommender, self).__init__(URM_train)\n",
        "\n",
        "        self.URM_train = sp.csr_matrix(URM_train)\n",
        "        self.recommender_1 = recommender_1\n",
        "        self.recommender_2 = recommender_2\n",
        "\n",
        "\n",
        "    def fit(self, alpha = 0.5):\n",
        "        self.alpha = alpha\n",
        "\n",
        "\n",
        "    def _compute_item_score(self, user_id_array, items_to_compute):\n",
        "\n",
        "        # In a simple extension this could be a loop over a list of pretrained recommender objects\n",
        "        item_weights_1 = self.recommender_1._compute_item_score(user_id_array)\n",
        "        item_weights_2 = self.recommender_2._compute_item_score(user_id_array)\n",
        "\n",
        "        item_weights = item_weights_1*self.alpha + item_weights_2*(1-self.alpha)\n",
        "\n",
        "        return item_weights"
      ],
      "metadata": {
        "id": "3CydGxGzbqEn"
      },
      "execution_count": null,
      "outputs": []
    },
    {
      "cell_type": "code",
      "source": [
        "recommender_instance_user = SLIM_BPR_Python(urm_train + urm_validation)\n",
        "recommender_instance_user.fit(topK=100, epochs = 25, learning_rate=1e-8, lambda_i=5e-4)\n",
        "\n",
        "recommender_instance_item = ItemKNNCFRecommender(urm_train + urm_validation)\n",
        "\n",
        "item_bests = {'similarity': 'tversky',\n",
        " 'topK': 18,\n",
        " 'shrink': 10,\n",
        " 'tversky_alpha': 0.19184100253588082,\n",
        " 'tversky_beta': 1.6515107809400285}\n",
        "recommender_instance_item.fit(**item_bests)\n",
        "\n",
        "\n",
        "scoreshybridrecommender = ScoresHybridRecommender(urm_train, recommender_instance_item,recommender_instance_user)\n",
        "scoreshybridrecommender.fit(alpha = 0.3)\n",
        "\n",
        "result_df, _ = evaluator_test.evaluateRecommender(scoreshybridrecommender)\n",
        "result_df"
      ],
      "metadata": {
        "colab": {
          "base_uri": "https://localhost:8080/"
        },
        "id": "UvquCs_ebrWv",
        "outputId": "73577a82-c899-4ec4-e265-907788ce0239"
      },
      "execution_count": null,
      "outputs": [
        {
          "output_type": "stream",
          "name": "stdout",
          "text": [
            "Recommender_Base_Class: URM Detected 230 ( 1.8%) users with no interactions.\n",
            "Recommender_Base_Class: URM Detected 93 ( 0.4%) items with no interactions.\n",
            "Epoch 1, Iteration 12638 in 6.34 seconds. Samples per second 1991.91\n",
            "Epoch 2, Iteration 12638 in 3.10 seconds. Samples per second 4081.04\n",
            "Epoch 3, Iteration 12638 in 3.35 seconds. Samples per second 3771.17\n",
            "Epoch 4, Iteration 12638 in 3.86 seconds. Samples per second 3276.16\n",
            "Epoch 5, Iteration 12638 in 2.86 seconds. Samples per second 4412.12\n",
            "Epoch 6, Iteration 12638 in 2.72 seconds. Samples per second 4638.11\n",
            "Epoch 7, Iteration 12638 in 2.64 seconds. Samples per second 4790.53\n",
            "Epoch 8, Iteration 12638 in 2.44 seconds. Samples per second 5176.51\n",
            "Epoch 9, Iteration 12638 in 2.61 seconds. Samples per second 4835.56\n",
            "Epoch 10, Iteration 12638 in 3.20 seconds. Samples per second 3952.52\n",
            "Epoch 11, Iteration 12638 in 4.09 seconds. Samples per second 3089.94\n",
            "Epoch 12, Iteration 12638 in 1.74 seconds. Samples per second 7276.36\n",
            "Epoch 13, Iteration 12638 in 1.77 seconds. Samples per second 7134.03\n",
            "Epoch 14, Iteration 12638 in 1.74 seconds. Samples per second 7252.65\n",
            "Epoch 15, Iteration 12638 in 1.65 seconds. Samples per second 7658.72\n",
            "Epoch 16, Iteration 12638 in 1.65 seconds. Samples per second 7675.39\n",
            "Epoch 17, Iteration 12638 in 1.85 seconds. Samples per second 6825.79\n",
            "Epoch 18, Iteration 12638 in 2.55 seconds. Samples per second 4964.91\n",
            "Epoch 19, Iteration 12638 in 2.66 seconds. Samples per second 4749.55\n",
            "Epoch 20, Iteration 12638 in 1.72 seconds. Samples per second 7350.27\n",
            "Epoch 21, Iteration 12638 in 1.65 seconds. Samples per second 7682.62\n",
            "Epoch 22, Iteration 12638 in 1.60 seconds. Samples per second 7877.78\n",
            "Epoch 23, Iteration 12638 in 1.55 seconds. Samples per second 8137.84\n",
            "Epoch 24, Iteration 12638 in 1.60 seconds. Samples per second 7921.53\n",
            "Epoch 25, Iteration 12638 in 1.57 seconds. Samples per second 8039.95\n",
            "Train completed in 1.04 minutes\n",
            "ItemKNNCFRecommender: URM Detected 230 ( 1.8%) users with no interactions.\n",
            "ItemKNNCFRecommender: URM Detected 93 ( 0.4%) items with no interactions.\n",
            "Similarity column 22222 (100.0%), 5103.26 column/sec. Elapsed time 4.35 sec\n",
            "ScoresHybridRecommender: URM Detected 454 ( 3.6%) users with no interactions.\n",
            "ScoresHybridRecommender: URM Detected 310 ( 1.4%) items with no interactions.\n"
          ]
        }
      ]
    },
    {
      "cell_type": "markdown",
      "metadata": {
        "id": "kf7c8Jck8MD7"
      },
      "source": [
        "#Evaluate the Recommendation System"
      ]
    },
    {
      "cell_type": "code",
      "execution_count": null,
      "metadata": {
        "id": "0AEJQ18RBDNh"
      },
      "outputs": [],
      "source": [
        "def recall(recommendations: np.array, relevant_items: np.array) -> float:\n",
        "    is_relevant = np.in1d(recommendations, relevant_items, assume_unique=True)\n",
        "\n",
        "    recall_score = np.sum(is_relevant) / relevant_items.shape[0]\n",
        "\n",
        "    return recall_score\n",
        "\n",
        "\n",
        "def precision(recommendations: np.array, relevant_items: np.array) -> float:\n",
        "    is_relevant = np.in1d(recommendations, relevant_items, assume_unique=True)\n",
        "\n",
        "    precision_score = np.sum(is_relevant) / recommendations.shape[0]\n",
        "\n",
        "    return precision_score\n",
        "\n",
        "def mean_average_precision(recommendations: np.array, relevant_items: np.array) -> float:\n",
        "    is_relevant = np.in1d(recommendations, relevant_items, assume_unique=True)\n",
        "\n",
        "    precision_at_k = is_relevant * np.cumsum(is_relevant, dtype=np.float32) / (1 + np.arange(is_relevant.shape[0]))\n",
        "\n",
        "    map_score = np.sum(precision_at_k) / np.min([relevant_items.shape[0], is_relevant.shape[0]])\n",
        "\n",
        "    return map_score\n",
        "\n",
        "def AP(recommended_items, relevant_items):\n",
        "\n",
        "    is_relevant = np.in1d(recommended_items, relevant_items, assume_unique=True)\n",
        "\n",
        "    # Cumulative sum: precision at 1, at 2, at 3 ...\n",
        "    p_at_k = is_relevant * np.cumsum(is_relevant, dtype=np.float32) / (1 + np.arange(is_relevant.shape[0]))\n",
        "\n",
        "    ap_score = np.sum(p_at_k) / np.min([relevant_items.shape[0], is_relevant.shape[0]])\n",
        "\n",
        "    return ap_score"
      ]
    },
    {
      "cell_type": "code",
      "execution_count": null,
      "metadata": {
        "id": "rpnDKdXF77OP"
      },
      "outputs": [],
      "source": [
        "def evaluator(recommender: object, urm_train: sp.csr_matrix, urm_test: sp.csr_matrix):\n",
        "    recommendation_length = 10\n",
        "    accum_precision = 0\n",
        "    accum_recall = 0\n",
        "    accum_map = 0\n",
        "\n",
        "    num_users = urm_train.shape[0]\n",
        "\n",
        "    num_users_evaluated = 0\n",
        "    num_users_skipped = 0\n",
        "    for user_id in range(num_users):\n",
        "        user_profile_start = urm_test.indptr[user_id]\n",
        "        user_profile_end = urm_test.indptr[user_id+1]\n",
        "\n",
        "        relevant_items = urm_test.indices[user_profile_start:user_profile_end]\n",
        "\n",
        "        if relevant_items.size == 0:\n",
        "            num_users_skipped += 1\n",
        "            continue\n",
        "\n",
        "        recommendations = recommender.recommend(user_id=user_id,\n",
        "                                               at=recommendation_length,\n",
        "                                               urm_train=urm_train,\n",
        "                                               remove_seen=True)\n",
        "\n",
        "        accum_precision += precision(recommendations, relevant_items)\n",
        "        accum_recall += recall(recommendations, relevant_items)\n",
        "        accum_map += mean_average_precision(recommendations, relevant_items)\n",
        "\n",
        "        num_users_evaluated += 1\n",
        "\n",
        "\n",
        "    accum_precision /= max(num_users_evaluated, 1)\n",
        "    accum_recall /= max(num_users_evaluated, 1)\n",
        "    accum_map /=  max(num_users_evaluated, 1)\n",
        "\n",
        "    return accum_precision, accum_recall, accum_map, num_users_evaluated, num_users_skipped"
      ]
    },
    {
      "cell_type": "code",
      "execution_count": null,
      "metadata": {
        "id": "E5jBxiwnPcPM",
        "colab": {
          "base_uri": "https://localhost:8080/",
          "height": 210
        },
        "outputId": "a9d69dd9-820f-487a-b435-62d1321e9218"
      },
      "outputs": [
        {
          "output_type": "error",
          "ename": "NameError",
          "evalue": "ignored",
          "traceback": [
            "\u001b[0;31m---------------------------------------------------------------------------\u001b[0m",
            "\u001b[0;31mNameError\u001b[0m                                 Traceback (most recent call last)",
            "\u001b[0;32m<ipython-input-75-7a51a8096436>\u001b[0m in \u001b[0;36m<cell line: 1>\u001b[0;34m()\u001b[0m\n\u001b[0;32m----> 1\u001b[0;31m accum_precision, accum_recall, accum_map, num_user_evaluated, num_users_skipped = evaluator(itemknn_recommender,\n\u001b[0m\u001b[1;32m      2\u001b[0m                                                                                             \u001b[0murm_train\u001b[0m\u001b[0;34m,\u001b[0m\u001b[0;34m\u001b[0m\u001b[0;34m\u001b[0m\u001b[0m\n\u001b[1;32m      3\u001b[0m                                                                                             urm_test)\n",
            "\u001b[0;31mNameError\u001b[0m: name 'itemknn_recommender' is not defined"
          ]
        }
      ],
      "source": [
        "accum_precision, accum_recall, accum_map, num_user_evaluated, num_users_skipped = evaluator(itemknn_recommender,\n",
        "                                                                                            urm_train,\n",
        "                                                                                            urm_test)"
      ]
    },
    {
      "cell_type": "code",
      "execution_count": null,
      "metadata": {
        "id": "EMtabpn8Ph3N"
      },
      "outputs": [],
      "source": [
        "accum_precision, accum_recall, accum_map, num_user_evaluated, num_users_skipped"
      ]
    },
    {
      "cell_type": "code",
      "execution_count": null,
      "metadata": {
        "id": "XppxpbmC0BJ1"
      },
      "outputs": [],
      "source": []
    },
    {
      "cell_type": "markdown",
      "metadata": {
        "id": "0YNKBGi69yjT"
      },
      "source": [
        "#Prepare Submission"
      ]
    },
    {
      "cell_type": "code",
      "execution_count": 26,
      "metadata": {
        "id": "XbsJMXyq-feb",
        "colab": {
          "base_uri": "https://localhost:8080/"
        },
        "outputId": "f88a12c4-9ac0-487a-b8ca-26c7fcc77998"
      },
      "outputs": [
        {
          "output_type": "execute_result",
          "data": {
            "text/plain": [
              "<12638x22222 sparse matrix of type '<class 'numpy.float64'>'\n",
              "\twith 478730 stored elements in Compressed Sparse Row format>"
            ]
          },
          "metadata": {},
          "execution_count": 26
        }
      ],
      "source": [
        "#forse ho sbagliato ad agggiungere anche il test set qui\n",
        "best_shrink = 5\n",
        "urm_train_validation = urm_train + urm_validation + urm_test\n",
        "urm_train_validation"
      ]
    },
    {
      "cell_type": "code",
      "execution_count": 28,
      "metadata": {
        "id": "Mxytchsc-gJV",
        "colab": {
          "base_uri": "https://localhost:8080/"
        },
        "outputId": "d29117f5-2a33-4a16-907f-a867d0525203"
      },
      "outputs": [
        {
          "output_type": "stream",
          "name": "stdout",
          "text": [
            "RP3betaRecommender: Similarity column 22222 (100.0%), 2276.31 column/sec. Elapsed time 9.76 sec\n"
          ]
        }
      ],
      "source": [
        "best_recommender = RP3betaRecommender(urm_train_validation)\n",
        "best_recommender.fit(**bests)"
      ]
    },
    {
      "cell_type": "markdown",
      "metadata": {
        "id": "hNLDmXo65XYT"
      },
      "source": [
        "##Top popular for those users without info"
      ]
    },
    {
      "cell_type": "code",
      "execution_count": 29,
      "metadata": {
        "id": "jwzA82CX5WsP"
      },
      "outputs": [],
      "source": [
        "toppop_recommender = TopPopRecommender()\n",
        "toppop_recommender.fit(urm_train_validation)"
      ]
    },
    {
      "cell_type": "code",
      "execution_count": 30,
      "metadata": {
        "id": "6CA4_0p9-mAz",
        "colab": {
          "base_uri": "https://localhost:8080/"
        },
        "outputId": "60a6b3cd-9642-49d3-b443-0114f615a597"
      },
      "outputs": [
        {
          "output_type": "execute_result",
          "data": {
            "text/plain": [
              "10882"
            ]
          },
          "metadata": {},
          "execution_count": 30
        }
      ],
      "source": [
        "users_to_recommend = np.array(data_target_users_test[\"user_id\"])\n",
        "len(users_to_recommend)"
      ]
    },
    {
      "cell_type": "code",
      "execution_count": 31,
      "metadata": {
        "id": "ULSRLU5i9x3x"
      },
      "outputs": [],
      "source": [
        "def prepare_submission(interactions: pd.DataFrame, users_to_recommend: np.array, urm_train: sp.csr_matrix, recommender: object, toppop_recommender: object):\n",
        "    users_ids_and_mappings = interactions[interactions.user_id.isin(users_to_recommend)][['user_id', 'mapped_user_id']].drop_duplicates()\n",
        "    items_ids_and_mappings = interactions[[\"item_id\", \"mapped_item_id\"]].drop_duplicates()\n",
        "\n",
        "    mapping_to_item_id = dict(zip(interactions.mapped_item_id, interactions.item_id))\n",
        "\n",
        "\n",
        "    recommendation_length = 10\n",
        "    submission = []\n",
        "    for idx, row in users_ids_and_mappings.iterrows():\n",
        "        user_id = row.user_id\n",
        "        mapped_user_id = row.mapped_user_id\n",
        "\n",
        "        recommendations = recommender.recommend(user_id_array=mapped_user_id, cutoff=10)\n",
        "\n",
        "        submission.append((user_id, [mapping_to_item_id[item_id] for item_id in recommendations]))\n",
        "\n",
        "    #assign top popular to the user without interactions\n",
        "    users_without_info = np.setdiff1d(users_to_recommend,np.array(interactions[interactions.user_id.isin(users_to_recommend)][['user_id', 'mapped_user_id']].drop_duplicates().user_id))\n",
        "    for user_id in users_without_info:\n",
        "      recommendations = toppop_recommender.recommend(user_id, at = 10)\n",
        "      submission.append((user_id, [mapping_to_item_id[item_id] for item_id in recommendations]))\n",
        "\n",
        "    return submission"
      ]
    },
    {
      "cell_type": "code",
      "execution_count": 32,
      "metadata": {
        "id": "SiJdrRHX99QI"
      },
      "outputs": [],
      "source": [
        "submission = prepare_submission(interactions, users_to_recommend, urm_train_validation, best_recommender, toppop_recommender)"
      ]
    },
    {
      "cell_type": "code",
      "execution_count": 33,
      "metadata": {
        "id": "KHShzKp7-C4D",
        "colab": {
          "base_uri": "https://localhost:8080/"
        },
        "outputId": "f929c492-c1b2-4111-d6d1-00adcf51fae0"
      },
      "outputs": [
        {
          "output_type": "execute_result",
          "data": {
            "text/plain": [
              "[(1, [101, 36, 403, 506, 123, 515, 139, 694, 254, 1546]),\n",
              " (2, [1095, 1522, 47, 28, 11, 196, 50, 102, 3176, 12]),\n",
              " (26, [139, 269, 254, 353, 314, 1089, 612, 165, 1005, 15]),\n",
              " (36, [4, 16, 181, 2205, 165, 379, 202, 314, 269, 283]),\n",
              " (41, [31, 58, 55, 592, 618, 77, 66, 605, 60, 148]),\n",
              " (47, [38, 214, 211, 96, 344, 262, 1635, 4, 442, 232]),\n",
              " (54, [19, 238, 2, 6, 8, 278, 174, 769, 112, 135]),\n",
              " (73, [125, 10057, 516, 998, 2105, 701, 21, 580, 1728, 786]),\n",
              " (88, [139, 346, 133, 11531, 1089, 1222, 99, 318, 77, 60]),\n",
              " (89, [138, 12673, 12672, 15014, 324, 15015, 344, 10, 154, 12677]),\n",
              " (95, [482, 2456, 173, 4, 44, 4627, 2178, 18638, 16, 669]),\n",
              " (100, [313, 764, 636, 99, 1050, 17, 262, 851, 3947, 112]),\n",
              " (101, [837, 82, 754, 2314, 624, 1290, 1177, 707, 526, 390]),\n",
              " (102, [2904, 2284, 2585, 7055, 2843, 5724, 2283, 3208, 2958, 67]),\n",
              " (104, [119, 299, 252, 23, 89, 2, 4, 129, 71, 639]),\n",
              " (114, [5, 17, 575, 5427, 50, 27, 4000, 7236, 42, 102]),\n",
              " (124, [715, 1342, 346, 859, 1198, 9878, 2590, 8112, 94, 262]),\n",
              " (127, [618, 40, 41, 39, 55, 42, 47, 50, 828, 624]),\n",
              " (138, [117, 11, 28, 120, 47, 17, 50, 8, 1670, 27]),\n",
              " (145, [56, 144, 240, 184, 16, 1, 149, 28, 47, 42]),\n",
              " (152, [45, 85, 80, 320, 389, 159, 326, 886, 66, 689]),\n",
              " (178, [4, 1232, 112, 128, 765, 1, 68, 2, 23, 56]),\n",
              " (189, [4057, 94, 5332, 1198, 2582, 159, 5806, 3458, 2543, 2963]),\n",
              " (202, [101, 59, 96, 320, 2424, 2423, 584, 414, 540, 907]),\n",
              " (208, [22, 41, 39, 837, 4, 58, 978, 662, 45, 76]),\n",
              " (226, [1555, 54, 68, 43, 98, 64, 10902, 112, 132, 4]),\n",
              " (251, [4, 33, 60, 147, 32, 116, 148, 35, 540, 1020]),\n",
              " (253, [1636, 80, 2103, 44, 701, 4840, 979, 256, 2665, 1062]),\n",
              " (256, [95, 220, 537, 191, 60, 8, 66, 175, 1428, 4]),\n",
              " (259, [191, 537, 5, 45, 621, 465, 181, 29, 101, 389]),\n",
              " (279, [112, 8517, 895, 88, 107, 2641, 548, 988, 6550, 62]),\n",
              " (290, [34, 449, 4057, 3597, 147, 4704, 36, 51, 4, 5337]),\n",
              " (292, [146, 171, 316, 1883, 318, 2401, 314, 1006, 35, 1425]),\n",
              " (301, [31, 39, 58, 3, 298, 1166, 13, 98, 36, 381]),\n",
              " (312, [4094, 6064, 8328, 5044, 12082, 12929, 6102, 6287, 512, 7647]),\n",
              " (323, [45, 7444, 537, 4, 792, 1024, 102, 880, 906, 768]),\n",
              " (340, [3976, 2056, 4775, 5841, 1506, 816, 6948, 4371, 6118, 4248]),\n",
              " (343, [76, 182, 208, 324, 344, 121, 1451, 498, 23, 5845]),\n",
              " (346, [17, 1, 16, 28, 47, 50, 339, 80, 44, 54]),\n",
              " (374, [90, 1244, 16, 4, 44, 2428, 18, 229, 16502, 112]),\n",
              " (386, [160, 751, 9, 414, 536, 7724, 104, 144, 23, 35]),\n",
              " (407, [9369, 496, 367, 4, 44, 3453, 1928, 1875, 1267, 2362]),\n",
              " (418, [36, 101, 10, 2514, 848, 4123, 201, 25, 804, 112]),\n",
              " (421, [3440, 759, 981, 2669, 106, 3280, 872, 5586, 108, 1899]),\n",
              " (422, [208, 344, 596, 85, 813, 8, 255, 1099, 1, 298]),\n",
              " (427, [102, 49, 19, 300, 5840, 6912, 3462, 51, 93, 510]),\n",
              " (433, [8, 1, 32, 7630, 1632, 25, 2981, 44, 79, 182]),\n",
              " (443, [434, 67, 22, 1046, 177, 135, 1, 90, 238, 395]),\n",
              " (444, [572, 9, 604, 1434, 1377, 2, 2570, 1897, 1931, 20]),\n",
              " (458, [34, 41, 349, 2518, 264, 1072, 571, 1116, 1637, 109]),\n",
              " (459, [342, 116, 148, 160, 175, 1108, 256, 259, 1083, 1214]),\n",
              " (463, [1125, 1124, 1535, 17, 47, 50, 27, 42, 243, 71]),\n",
              " (467, [1896, 90, 1008, 4, 225, 6, 2, 4354, 99, 345]),\n",
              " (477, [203, 93, 38, 214, 188, 891, 11, 498, 18108, 17]),\n",
              " (499, [27, 11, 28, 15, 42, 50, 101, 56, 160, 174]),\n",
              " (511, [40, 39, 4363, 299, 1858, 1185, 15, 1231, 2925, 496]),\n",
              " (512, [9, 22, 144, 168, 133, 917, 228, 240, 171, 146]),\n",
              " (529, [571, 1365, 1496, 95, 535, 871, 220, 2922, 1629, 45]),\n",
              " (553, [41, 39, 32, 96, 182, 77, 60, 344, 175, 25]),\n",
              " (554, [159, 120, 957, 510, 1050, 633, 2219, 1375, 533, 800]),\n",
              " (565, [112, 939, 1391, 4592, 5284, 559, 54, 916, 953, 218]),\n",
              " (579, [571, 739, 2875, 2042, 270, 447, 1917, 512, 1464, 102]),\n",
              " (598, [136, 532, 206, 1939, 981, 112, 4948, 2503, 415, 612]),\n",
              " (615, [105, 5455, 327, 391, 12345, 1, 3747, 95, 28, 365]),\n",
              " (617, [34, 51, 579, 467, 573, 129, 430, 376, 77, 242]),\n",
              " (621, [29, 21, 463, 117, 3090, 1818, 896, 1195, 2492, 2200]),\n",
              " (627, [8, 596, 27, 284, 28, 414, 47, 52, 913, 259]),\n",
              " (632, [8, 1, 238, 16, 278, 2, 93, 214, 203, 38]),\n",
              " (644, [8, 96, 138, 16, 1244, 17, 5, 3267, 71, 981]),\n",
              " (656, [12, 97, 405, 615, 1602, 520, 31, 39, 514, 645]),\n",
              " (659, [31, 55, 186, 352, 22, 71, 716, 1376, 2773, 702]),\n",
              " (660, [365, 8, 94, 34, 3776, 560, 51, 285, 401, 2084]),\n",
              " (677, [1, 56, 40, 1334, 3560, 39, 22, 81, 5534, 1691]),\n",
              " (686, [1344, 338, 1205, 70, 4048, 2528, 6186, 3, 192, 567]),\n",
              " (695, [1286, 635, 35, 1897, 104, 2761, 224, 684, 2879, 807]),\n",
              " (701, [16, 10504, 9277, 67, 596, 250, 17, 13869, 10453, 2599]),\n",
              " (708, [112, 9, 3012, 1287, 21029, 16, 54, 11065, 359, 283]),\n",
              " (712, [929, 117, 120, 999, 2512, 1724, 1233, 1837, 29, 401]),\n",
              " (716, [228, 291, 56, 35, 411, 48, 2411, 1050, 224, 373]),\n",
              " (725, [146, 171, 316, 292, 474, 509, 318, 964, 80, 314]),\n",
              " (735, [6053, 7484, 10477, 7482, 6334, 12772, 12769, 11231, 9755, 10476]),\n",
              " (737, [156, 38, 102, 6, 211, 203, 264, 205, 358, 296]),\n",
              " (763, [10305, 13938, 5715, 116, 197, 5014, 20876, 9423, 9602, 66]),\n",
              " (787, [35, 56, 981, 4, 872, 3, 241, 258, 112, 104]),\n",
              " (789, [41, 58, 66, 101, 182, 60, 99, 208, 116, 4]),\n",
              " (829, [6709, 179, 8096, 401, 10549, 2, 1099, 813, 4025, 6564]),\n",
              " (831, [76, 55, 799, 1, 1480, 408, 978, 1578, 27, 780]),\n",
              " (847, [636, 511, 375, 451, 928, 1273, 986, 970, 1073, 749]),\n",
              " (894, [146, 133, 171, 318, 316, 843, 269, 34, 275, 1006]),\n",
              " (900, [14687, 14688, 13447, 13449, 31, 17711, 22204, 9570, 14686, 35]),\n",
              " (901, [4, 629, 1611, 9362, 49, 22, 5793, 5188, 4328, 61]),\n",
              " (902, [2027, 27, 136, 1663, 28, 47, 42, 41, 50, 39]),\n",
              " (920, [39, 55, 58, 1775, 76, 138, 182, 1641, 2830, 208]),\n",
              " (921, [28, 2453, 27, 3810, 47, 1488, 3162, 85, 9, 203]),\n",
              " (940, [160, 471, 2023, 973, 259, 1397, 231, 938, 580, 808]),\n",
              " (946, [1198, 1342, 62, 94, 34, 99, 5018, 518, 738, 33]),\n",
              " (947, [2051, 201, 253, 2493, 5203, 452, 300, 205, 13, 989]),\n",
              " (965, [509, 1054, 1853, 399, 1752, 1129, 293, 433, 15, 582]),\n",
              " (969, [14692, 14691, 20148, 16091, 13444, 14696, 14687, 39, 13449, 16117]),\n",
              " (971, [32, 569, 9, 564, 824, 124, 3590, 168, 1017, 771]),\n",
              " (978, [22, 33, 141, 73, 65, 762, 427, 521, 565, 83]),\n",
              " (988, [1316, 1411, 58, 55, 35, 349, 56, 841, 904, 82]),\n",
              " (989, [40, 39, 2830, 58, 1641, 55, 22, 612, 54, 353]),\n",
              " (993, [214, 93, 203, 38, 188, 645, 2688, 5037, 6015, 514]),\n",
              " (994, [55, 326, 465, 76, 792, 537, 191, 22, 815, 2353]),\n",
              " (1007, [1, 681, 93, 38, 3803, 4, 211, 301, 346, 8]),\n",
              " (1010, [16, 44, 4, 25, 112, 1369, 237, 155, 4447, 766]),\n",
              " (1014, [112, 11267, 848, 6, 2, 72, 30, 339, 517, 21144]),\n",
              " (1017, [96, 138, 34, 262, 365, 51, 449, 664, 705, 20]),\n",
              " (1022, [104, 149, 56, 168, 144, 404, 184, 435, 240, 67]),\n",
              " (1024, [96, 182, 208, 324, 181, 344, 828, 624, 978, 1433]),\n",
              " (1026, [1440, 837, 706, 89, 390, 36, 1177, 1051, 754, 12]),\n",
              " (1032, [32, 182, 1253, 19968, 17713, 2420, 5664, 15484, 85, 1]),\n",
              " (1036, [23, 326, 389, 2483, 489, 465, 41, 40, 39, 98]),\n",
              " (1042, [35, 56, 540, 635, 1, 449, 146, 168, 34, 2830]),\n",
              " (1050, [171, 17, 769, 146, 133, 415, 55, 612, 47, 722]),\n",
              " (1051, [94, 99, 174, 36, 260, 366, 702, 238, 157, 48]),\n",
              " (1057, [40, 55, 58, 76, 4, 133, 318, 254, 269, 1079]),\n",
              " (1059, [99, 990, 1897, 635, 11226, 12922, 391, 2248, 12037, 12036]),\n",
              " (1062, [936, 17, 236, 1030, 754, 1290, 28, 42, 11, 5507]),\n",
              " (1069, [35, 104, 9, 144, 2150, 184, 168, 4133, 122, 201]),\n",
              " (1070, [156, 197, 1866, 2765, 3338, 102, 205, 286, 196, 209]),\n",
              " (1082, [522, 627, 681, 259, 160, 3713, 3381, 999, 3198, 3984]),\n",
              " (1083, [326, 220, 35, 59, 168, 224, 537, 9, 389, 259]),\n",
              " (1100, [17, 50, 37, 35, 9, 168, 8593, 5936, 136, 5721]),\n",
              " (1107, [182, 208, 5396, 411, 324, 344, 583, 6854, 11992, 9254]),\n",
              " (1108, [15, 67, 22, 48, 409, 137, 1, 1008, 238, 28]),\n",
              " (1110, [582, 29, 112, 2626, 488, 35, 1984, 23, 804, 56]),\n",
              " (1111, [1116, 3527, 1185, 511, 3466, 857, 986, 479, 1073, 1281]),\n",
              " (1116, [67, 278, 238, 250, 52, 199, 781, 541, 8, 18286]),\n",
              " (1118, [1154, 183, 241, 13721, 1582, 2002, 88, 3795, 14, 507]),\n",
              " (1123, [95, 50, 465, 191, 792, 681, 955, 880, 1024, 860]),\n",
              " (1138, [148, 1112, 938, 1397, 998, 1414, 304, 483, 133, 4]),\n",
              " (1144, [29, 31, 9573, 64, 43, 58, 40, 356, 41, 39]),\n",
              " (1155, [48, 1049, 1475, 1116, 58, 40, 41, 31, 39, 55]),\n",
              " (1175, [138, 182, 12778, 20871, 344, 60, 13146, 15127, 8236, 148]),\n",
              " (1176, [1, 112, 540, 44, 339, 334, 401, 10, 2, 1334]),\n",
              " (1181, [35, 320, 147, 1041, 168, 184, 149, 240, 708, 1722]),\n",
              " (1195, [291, 411, 841, 1497, 257, 583, 1537, 36, 1991, 1127]),\n",
              " (1198, [281, 546, 716, 44, 124, 25, 2, 1343, 16, 14]),\n",
              " (1200, [61, 567, 2, 189, 4000, 104, 144, 35, 56, 10]),\n",
              " (1203, [185, 143, 3, 90, 530, 1882, 112, 13600, 223, 11765]),\n",
              " (1213, [1, 480, 116, 662, 2442, 1125, 1124, 239, 830, 511]),\n",
              " (1250, [540, 292, 441, 388, 48, 886, 907, 147, 1041, 1722]),\n",
              " (1259, [210, 775, 2800, 722, 2636, 2801, 778, 2583, 2219, 2898]),\n",
              " (1260, [1367, 298, 4, 44, 111, 87, 11, 16, 74, 201]),\n",
              " (1263, [635, 1807, 49, 1017, 6, 459, 5963, 1654, 181, 1377]),\n",
              " (1266, [95, 326, 191, 220, 389, 465, 1024, 537, 2, 768]),\n",
              " (1273, [32, 138, 1, 324, 2661, 38, 344, 214, 4047, 51]),\n",
              " (1288, [39, 32, 76, 1095, 344, 34, 1286, 77, 262, 116]),\n",
              " (1290, [88, 94, 99, 3865, 19, 4090, 13989, 80, 13981, 9248]),\n",
              " (1299, [41, 40, 76, 55, 841, 411, 905, 59, 291, 904]),\n",
              " (1300, [186, 41, 708, 40, 58, 22, 94, 1443, 1041, 907]),\n",
              " (1305, [662, 1715, 45, 124, 771, 11, 220, 600, 71, 682]),\n",
              " (1307, [43, 64, 455, 401, 2071, 556, 29, 204, 596, 2]),\n",
              " (1308, [41, 31, 12, 292, 58, 441, 856, 139, 76, 388]),\n",
              " (1323, [160, 259, 1019, 3198, 37, 28, 47, 145, 11, 4682]),\n",
              " (1327, [2813, 1488, 3590, 2565, 2423, 4125, 6190, 4267, 1589, 694]),\n",
              " (1332, [139, 10374, 347, 853, 133, 630, 5514, 350, 5954, 269]),\n",
              " (1334, [4676, 2215, 6984, 5838, 872, 7315, 19736, 8092, 4159, 154]),\n",
              " (1340, [320, 540, 1041, 4, 585, 2106, 12, 165, 2013, 269]),\n",
              " (1348, [122, 201, 253, 2, 989, 1175, 927, 6, 335, 350]),\n",
              " (1360, [213, 413, 532, 96, 207, 1312, 4464, 138, 1930, 182]),\n",
              " (1363, [27, 201, 824, 37, 569, 43, 124, 210, 1996, 64]),\n",
              " (1364, [1897, 1931, 2149, 59, 536, 2570, 1, 296, 584, 635]),\n",
              " (1379, [411, 8417, 9944, 9405, 12243, 13110, 10, 583, 12216, 17237]),\n",
              " (1391, [39, 55, 5032, 808, 689, 11180, 3984, 8292, 585, 17]),\n",
              " (1418, [4, 112, 5357, 4778, 16677, 16983, 4269, 11724, 6022, 3594]),\n",
              " (1434, [34, 94, 99, 19, 1, 9871, 2, 174, 394, 112]),\n",
              " (1447, [132, 802, 141, 43, 103, 446, 891, 472, 98, 198]),\n",
              " (1454, [2626, 320, 488, 1984, 36, 9688, 3066, 95, 28, 17]),\n",
              " (1464, [2, 631, 60, 148, 175, 1799, 867, 1331, 7600, 934]),\n",
              " (1468, [442, 279, 181, 1431, 20, 32, 9, 627, 401, 179]),\n",
              " (1486, [112, 11, 28, 6, 2, 17, 47, 30, 50, 68]),\n",
              " (1494, [31, 58, 76, 9, 27, 56, 36, 11, 240, 28]),\n",
              " (1496, [45, 326, 389, 465, 537, 199, 395, 250, 28, 1]),\n",
              " (1497, [1210, 1768, 66, 551, 301, 385, 99, 555, 10163, 20]),\n",
              " (1505, [22, 385, 33, 6, 95, 2202, 1306, 471, 20, 924]),\n",
              " (1514, [179, 1529, 72, 339, 4085, 6912, 2255, 1464, 1019, 3622]),\n",
              " (1516, [98, 252, 313, 4, 467, 430, 573, 1146, 348, 928]),\n",
              " (1517, [360, 6624, 112, 2835, 8349, 89, 102, 10, 407, 20]),\n",
              " (1518, [35, 240, 433, 582, 38, 256, 8808, 683, 1082, 203]),\n",
              " (1521, [1689, 7120, 2501, 8535, 1871, 2540, 1462, 2367, 3945, 303]),\n",
              " (1526, [59, 259, 536, 956, 648, 1001, 4979, 11695, 2522, 112]),\n",
              " (1536, [31, 55, 76, 582, 433, 624, 978, 250, 1051, 186]),\n",
              " (1537, [8885, 8417, 555, 12243, 8423, 9405, 13110, 3523, 7716, 9413]),\n",
              " (1546, [35, 104, 1, 224, 184, 56, 310, 9, 177, 168]),\n",
              " (1568, [39, 138, 182, 208, 4, 324, 344, 5, 156, 8260]),\n",
              " (1584, [15, 93, 31, 337, 506, 203, 520, 76, 188, 1497]),\n",
              " (1585, [261, 573, 126, 1069, 17, 1480, 399, 28, 2886, 3367]),\n",
              " (1599, [178, 1120, 780, 38, 93, 1846, 186, 808, 188, 13359]),\n",
              " (1603, [259, 546, 16, 743, 536, 4, 6, 584, 956, 648]),\n",
              " (1608, [186, 40, 55, 17, 58, 168, 28, 103, 76, 47]),\n",
              " (1610, [203, 93, 188, 603, 211, 358, 1855, 1978, 1296, 1651]),\n",
              " (1614, [17, 761, 55, 2309, 148, 2615, 60, 253, 93, 66]),\n",
              " (1621, [54, 29, 933, 385, 422, 490, 647, 1684, 10, 51]),\n",
              " (1652, [17397, 1348, 949, 1, 2407, 4, 2, 22202, 132, 566]),\n",
              " (1671, [1032, 2516, 17944, 7898, 10398, 6749, 9313, 7395, 11622, 7394]),\n",
              " (1694, [42, 35, 144, 9, 149, 136, 37, 224, 240, 93]),\n",
              " (1702, [1049, 712, 442, 1475, 1116, 590, 10093, 3, 19902, 11806]),\n",
              " (1709, [2257, 2967, 496, 64, 1730, 476, 2057, 198, 1267, 5]),\n",
              " (1718, [44, 29, 3227, 1487, 25, 3992, 3038, 2551, 96, 138]),\n",
              " (1724, [1031, 160, 584, 59, 298, 259, 1670, 1359, 956, 883]),\n",
              " (1735, [1108, 2, 486, 39, 58, 286, 76, 4, 40, 41]),\n",
              " (1740, [3, 2401, 2637, 1425, 697, 1883, 1165, 2030, 11, 28]),\n",
              " (1741, [938, 471, 3269, 9056, 5224, 4767, 2641, 87, 1989, 1191]),\n",
              " (1748, [11, 82, 1505, 596, 302, 1, 2087, 3544, 1476, 7442]),\n",
              " (1755, [64, 98, 57, 198, 576, 204, 5, 348, 133, 9]),\n",
              " (1786, [1186, 1990, 1279, 146, 1429, 829, 2295, 4009, 12, 10537]),\n",
              " (1794, [101, 379, 11, 287, 550, 28, 27, 559, 47, 228]),\n",
              " (1816, [467, 313, 430, 418, 379, 321, 236, 636, 1406, 1123]),\n",
              " (1837, [7572, 4596, 4212, 329, 388, 7897, 12, 39, 4332, 58]),\n",
              " (1840, [55, 76, 16, 64, 94, 99, 98, 262, 29, 25]),\n",
              " (1865, [119, 36, 587, 85, 769, 161, 722, 1, 129, 1058]),\n",
              " (1868, [168, 144, 149, 224, 240, 3527, 2596, 239, 201, 1073]),\n",
              " (1870, [1, 603, 716, 281, 645, 514, 1448, 1343, 4, 72]),\n",
              " (1879, [839, 173, 1770, 1, 2025, 10, 66, 60, 88, 1449]),\n",
              " (1894, [1730, 3280, 128, 6, 5586, 4890, 3869, 3947, 5591, 917]),\n",
              " (1908, [101, 292, 329, 1866, 18, 35, 2765, 3790, 161, 408]),\n",
              " (1918, [19, 1511, 33, 44, 1, 22, 174, 92, 6752, 16]),\n",
              " (1922, [55, 179, 1092, 596, 4, 255, 813, 886, 351, 1099]),\n",
              " (1925, [715, 2963, 3458, 9, 1, 104, 94, 240, 4336, 738]),\n",
              " (1930, [1, 40, 1358, 2404, 2501, 31, 55, 203, 1334, 160]),\n",
              " (1939, [1, 1932, 1899, 33, 654, 8, 73, 9, 2255, 77]),\n",
              " (1946, [351, 3532, 897, 2542, 4, 2291, 3617, 3875, 5598, 3691]),\n",
              " (1949, [6306, 6056, 6578, 7133, 41, 55, 8404, 635, 496, 533]),\n",
              " (1950, [28, 50, 117, 4020, 1, 120, 9, 136, 510, 157]),\n",
              " (1969, [12, 150, 2, 615, 35, 1602, 1111, 56, 873, 45]),\n",
              " (1988, [5044, 12082, 6287, 8328, 12197, 738, 715, 72, 14878, 392]),\n",
              " (1993, [2, 5, 739, 1, 321, 4, 81, 6, 33, 11297]),\n",
              " (2001, [298, 629, 6, 93, 1790, 36, 7379, 821, 2230, 188]),\n",
              " (2005, [555, 2263, 4644, 3560, 450, 953, 351, 551, 2700, 505]),\n",
              " (2031, [17, 11, 50, 42, 2, 37, 33, 360, 36, 145]),\n",
              " (2038, [109, 43, 4066, 21, 51, 64, 455, 198, 29, 98]),\n",
              " (2054, [1604, 1425, 292, 2030, 2401, 697, 1883, 41, 1870, 58]),\n",
              " (2106, [226, 775, 35, 1746, 564, 1055, 638, 28, 855, 6622]),\n",
              " (2117, [3726, 7618, 4385, 255, 14786, 813, 10176, 88, 3243, 4799]),\n",
              " (2138, [71, 1, 1628, 4, 1596, 93, 1918, 808, 203, 1962]),\n",
              " (2142, [133, 139, 34, 4, 99, 171, 314, 269, 146, 92]),\n",
              " (2144, [40, 39, 55, 1790, 401, 365, 821, 262, 596, 813]),\n",
              " (2155, [214, 1770, 4, 211, 203, 93, 188, 38, 112, 389]),\n",
              " (2157, [45, 138, 326, 324, 344, 210, 443, 191, 769, 600]),\n",
              " (2164, [186, 146, 292, 1149, 40, 837, 1239, 347, 58, 630]),\n",
              " (2178, [101, 1546, 36, 15, 94, 2783, 738, 12868, 2808, 99]),\n",
              " (2182, [15, 133, 612, 39, 353, 254, 415, 2366, 316, 1776]),\n",
              " (2221, [35, 42, 775, 224, 810, 149, 144, 480, 1868, 823]),\n",
              " (2222, [243, 116, 175, 5, 445, 1057, 598, 882, 4, 11]),\n",
              " (2226, [55, 58, 76, 4, 44, 89, 133, 2, 10, 35]),\n",
              " (2229, [270, 808, 938, 58, 96, 40, 112, 41, 31, 39]),\n",
              " (2234, [326, 58, 55, 465, 621, 56, 1024, 1067, 168, 54]),\n",
              " (2239, [60, 116, 4047, 1570, 1078, 5138, 7033, 14735, 1095, 255]),\n",
              " (2255, [716, 352, 281, 1448, 1376, 1343, 1994, 755, 3534, 3373]),\n",
              " (2270, [583, 905, 1537, 291, 40, 120, 1693, 257, 76, 3184]),\n",
              " (2272, [751, 1627, 1021, 112, 10112, 3949, 186, 3228, 362, 13453]),\n",
              " (2274, [15, 36, 4352, 4900, 101, 1695, 5821, 21836, 403, 4121]),\n",
              " (2276, [55, 6430, 5, 1920, 17190, 13966, 11349, 6382, 13460, 9]),\n",
              " (2286, [613, 1, 8, 93, 712, 164, 44, 25, 214, 188]),\n",
              " (2300, [1277, 17, 2843, 2585, 496, 2283, 533, 3208, 2492, 2958]),\n",
              " (2313, [1191, 1422, 5508, 1186, 1682, 1429, 1828, 120, 133, 1279]),\n",
              " (2320, [45, 326, 220, 465, 792, 191, 906, 537, 860, 26]),\n",
              " (2322, [28, 47, 42, 50, 39, 40, 824, 55, 58, 564]),\n",
              " (2323, [4117, 2748, 179, 1075, 511, 1895, 1281, 6363, 102, 986]),\n",
              " (2339, [4, 2084, 1, 26, 3954, 4064, 3033, 2802, 3513, 4448]),\n",
              " (2358, [141, 22, 228, 48, 301, 330, 660, 73, 193, 424]),\n",
              " (2363, [4871, 2641, 5225, 9056, 4, 11936, 6566, 3187, 4410, 89]),\n",
              " (2368, [708, 1041, 94, 34, 907, 1940, 2042, 2771, 1443, 1163]),\n",
              " (2419, [43, 98, 13, 64, 198, 57, 20, 17, 97, 134]),\n",
              " (2428, [2257, 2505, 2689, 99, 2208, 2967, 179, 670, 2057, 205]),\n",
              " (2434, [1363, 5, 3991, 209, 17, 320, 222, 53, 1148, 13]),\n",
              " (2443, [126, 11, 82, 547, 343, 287, 89, 80, 4164, 71]),\n",
              " (2455, [1324, 23, 5721, 20091, 321, 12459, 2076, 17, 517, 11]),\n",
              " (2461, [612, 133, 139, 252, 1071, 171, 60, 857, 316, 350]),\n",
              " (2468, [126, 12, 82, 615, 321, 458, 390, 152, 293, 405]),\n",
              " (2469, [39, 40, 58, 1288, 36, 1481, 599, 239, 1196, 375]),\n",
              " (2475, [6, 90, 632, 36, 72, 339, 101, 891, 4, 483]),\n",
              " (2480, [561, 92, 2561, 4768, 28, 47, 27, 1971, 56, 6802]),\n",
              " (2494, [121, 3916, 1040, 50, 1104, 88, 2418, 2024, 2, 6]),\n",
              " (2499, [7006, 5903, 7337, 7002, 56, 133, 146, 33, 104, 103]),\n",
              " (2513, [96, 138, 104, 168, 240, 224, 236, 184, 282, 20]),\n",
              " (2525, [512, 2807, 4, 1019, 1321, 2255, 302, 103, 2004, 371]),\n",
              " (2531, [66, 116, 148, 35, 9, 175, 107, 786, 51, 7346]),\n",
              " (2532, [2264, 41, 6429, 31, 202, 5915, 6178, 18219, 18212, 6179]),\n",
              " (2539, [95, 4, 45, 220, 389, 67, 85, 43, 537, 768]),\n",
              " (2540, [182, 220, 389, 583, 578, 21125, 769, 465, 1155, 56]),\n",
              " (2554, [583, 291, 2, 1, 38, 411, 257, 1303, 623, 905]),\n",
              " (2564, [49, 1688, 243, 2513, 1123, 51, 410, 122, 916, 2]),\n",
              " (2568, [15, 583, 3440, 904, 1497, 578, 8385, 480, 4301, 28]),\n",
              " (2582, [1, 6, 3012, 958, 249, 299, 21029, 21, 5470, 30]),\n",
              " (2586, [112, 4778, 11236, 16677, 16983, 5357, 3594, 22221, 4269, 11724]),\n",
              " (2590, [4, 28, 8, 47, 27, 50, 42, 39, 31, 40]),\n",
              " (2594, [18434, 5344, 20752, 8186, 108, 4, 18433, 4196, 3342, 13711]),\n",
              " (2601, [313, 430, 4734, 5188, 5793, 573, 159, 22, 120, 9772]),\n",
              " (2607, [5530, 5339, 7010, 11227, 14151, 11310, 5156, 12922, 15540, 12924]),\n",
              " (2609, [567, 5776, 3760, 3005, 112, 3602, 2029, 1613, 20925, 1008]),\n",
              " (2624, [4, 55, 76, 808, 160, 259, 891, 938, 59, 15]),\n",
              " (2628, [107, 120, 4, 2131, 1220, 14, 15, 5397, 510, 2649]),\n",
              " (2642, [208, 344, 107, 367, 85, 117, 16868, 285, 38, 93]),\n",
              " (2659, [109, 29, 1401, 43, 112, 198, 98, 54, 21, 4528]),\n",
              " (2663, [4, 702, 228, 33, 2, 22, 298, 94, 801, 99]),\n",
              " (2673, [67, 7822, 546, 3058, 59, 414, 743, 1401, 36, 238]),\n",
              " (2674, [512, 1899, 1019, 1197, 1666, 2875, 22, 1, 70, 1932]),\n",
              " (2682, [8996, 559, 13379, 550, 553, 298, 293, 13396, 14619, 287]),\n",
              " (2683, [1367, 451, 638, 203, 10, 124, 685, 214, 93, 827]),\n",
              " (2685, [112, 5810, 2535, 547, 706, 82, 84, 343, 37, 754]),\n",
              " (2689, [133, 112, 131, 281, 139, 165, 598, 29, 269, 1625]),\n",
              " (2700, [112, 8, 18477, 2336, 16490, 61, 4, 2896, 528, 6562]),\n",
              " (2717, [1041, 708, 433, 316, 133, 408, 146, 689, 2109, 41]),\n",
              " (2735, [1186, 1429, 1990, 2295, 2558, 4, 3351, 236, 16, 1467]),\n",
              " (2746, [35, 31, 55, 58, 56, 76, 104, 149, 144, 240]),\n",
              " (2759, [4, 99, 1, 94, 41, 2, 22, 262, 154, 44]),\n",
              " (2760, [249, 242, 1481, 376, 573, 2813, 3810, 41, 31, 636]),\n",
              " (2784, [261, 12363, 8361, 11520, 990, 11522, 1897, 11519, 14537, 4596]),\n",
              " (2786, [95, 220, 326, 267, 389, 997, 537, 45, 768, 465]),\n",
              " (2792, [50, 37, 136, 145, 22, 277, 1372, 1227, 4031, 15]),\n",
              " (2797, [40, 64, 103, 135, 228, 660, 13147, 260, 16, 384]),\n",
              " (2798, [8, 22, 591, 410, 1, 181, 3420, 20390, 174, 41]),\n",
              " (2803, [14200, 14151, 11226, 15540, 9846, 11227, 12036, 12037, 11228, 2005]),\n",
              " (2816, [149, 122, 451, 56, 184, 288, 168, 144, 2, 775]),\n",
              " (2859, [9, 9772, 6534, 569, 685, 19, 240, 224, 1147, 638]),\n",
              " (2869, [1231, 39, 1281, 832, 970, 1525, 45, 2966, 2211, 2172]),\n",
              " (2876, [4, 6, 300, 102, 156, 112, 9, 35, 1, 95]),\n",
              " (2882, [1, 38, 85, 188, 1635, 154, 514, 1568, 211, 358]),\n",
              " (2910, [28, 17, 47, 27, 363, 145, 11, 37, 774, 1549]),\n",
              " (2912, [9091, 31, 9590, 10211, 4999, 9059, 415, 5932, 59, 414]),\n",
              " (2917, [4, 1352, 2321, 182, 365, 208, 297, 401, 228, 1433]),\n",
              " (2925, [376, 467, 430, 1382, 573, 117, 4871, 1816, 389, 561]),\n",
              " (2933, [738, 2794, 1198, 34, 94, 99, 13815, 1387, 320, 5789]),\n",
              " (2942, [41, 2513, 35, 11, 1688, 15, 154, 56, 47, 104]),\n",
              " (2958, [23, 9, 903, 732, 35, 56, 3318, 168, 144, 2516]),\n",
              " (2960, [915, 703, 1143, 236, 713, 1438, 707, 413, 1700, 2824]),\n",
              " (2966, [104, 35, 9, 149, 144, 184, 1433, 807, 558, 224]),\n",
              " (2973, [1570, 9582, 10835, 14735, 14726, 12485, 571, 10150, 264, 5593]),\n",
              " (2977, [196, 754, 1177, 41, 40, 282, 55, 58, 848, 76]),\n",
              " (2992, [14005, 15377, 12048, 476, 2570, 18962, 1650, 1897, 1434, 16607]),\n",
              " (2994, [40, 39, 58, 578, 28, 1749, 124, 564, 55, 42]),\n",
              " (3005, [4, 138, 90, 1203, 182, 438, 208, 7014, 34, 14859]),\n",
              " (3010, [301, 260, 2, 631, 22, 2111, 164, 28, 2332, 17]),\n",
              " (3015, [71, 9404, 4099, 14083, 19103, 146, 1596, 879, 340, 6739]),\n",
              " (3016, [27, 11, 28, 50, 174, 264, 1433, 407, 284, 739]),\n",
              " (3018, [58, 77, 116, 148, 1, 845, 376, 467, 430, 573]),\n",
              " (3019, [2641, 4238, 6263, 6881, 5783, 4640, 4601, 10412, 6550, 11936]),\n",
              " (3054, [342, 3414, 41, 31, 39, 3243, 55, 4153, 4162, 3954]),\n",
              " (3058, [998, 580, 1112, 1283, 4605, 254, 13626, 1844, 3198, 11866]),\n",
              " (3063, [132, 12, 446, 891, 19, 472, 763, 22, 152, 52]),\n",
              " (3075, [36, 6425, 161, 6725, 5706, 16091, 13450, 6427, 6426, 14696]),\n",
              " (3086, [41, 257, 76, 2243, 1693, 3, 4, 2276, 272, 185]),\n",
              " (3107, [3954, 5336, 4544, 4834, 4162, 3737, 4556, 5503, 25, 8]),\n",
              " (3114, [702, 8, 631, 73, 260, 16, 17, 238, 135, 27]),\n",
              " (3115, [40, 540, 58, 16, 76, 907, 1041, 147, 1443, 1722]),\n",
              " (3141, [97, 12, 484, 458, 405, 873, 150, 8, 38, 22]),\n",
              " (3144, [44, 139, 220, 10923, 326, 389, 3776, 62, 465, 1]),\n",
              " (3151, [442, 4, 52, 22, 15, 196, 48, 183, 96, 739]),\n",
              " (3164, [17, 82, 511, 111, 11, 47, 986, 750, 390, 1073]),\n",
              " (3165, [648, 1001, 2678, 1097, 3649, 2191, 2718, 998, 498, 1233]),\n",
              " (3185, [4, 15, 19, 101, 174, 660, 49, 181, 43, 330]),\n",
              " (3186, [82, 713, 707, 510, 390, 866, 3565, 89, 1120, 2824]),\n",
              " (3196, [101, 76, 161, 59, 506, 259, 584, 6209, 120, 544]),\n",
              " (3199, [4047, 9039, 9582, 12485, 10150, 14734, 97, 154, 2486, 3580]),\n",
              " (3209, [1227, 1095, 1354, 10, 262, 196, 1522, 656, 2002, 517]),\n",
              " (3211, [15, 101, 36, 327, 676, 3164, 4, 9256, 13607, 391]),\n",
              " (3238, [1337, 566, 512, 35, 1476, 891, 19, 56, 2780, 2733]),\n",
              " (3239, [32, 5225, 182, 4731, 154, 12808, 35, 2230, 6, 2441]),\n",
              " (3258, [3, 185, 143, 112, 659, 6372, 391, 756, 7767, 131]),\n",
              " (3269, [60, 116, 1460, 2, 1593, 56, 2531, 3076, 175, 103]),\n",
              " (3278, [624, 707, 978, 983, 399, 1440, 433, 328, 556, 186]),\n",
              " (3283, [1, 579, 2483, 625, 179, 2, 263, 5344, 22, 2155]),\n",
              " (3284, [411, 841, 291, 1497, 904, 1537, 3218, 2669, 1500, 3440]),\n",
              " (3289, [34, 291, 583, 841, 35, 39, 627, 55, 104, 262]),\n",
              " (3292, [830, 783, 569, 124, 685, 1444, 1055, 619, 898, 855]),\n",
              " (3304, [39, 22, 133, 174, 238, 93, 4, 101, 181, 157]),\n",
              " (3315, [66, 60, 746, 4, 72, 546, 688, 52, 2, 26]),\n",
              " (3320, [56, 144, 168, 59, 433, 399, 240, 15, 582, 308]),\n",
              " (3323, [36, 161, 354, 740, 515, 922, 429, 893, 67, 177]),\n",
              " (3330, [156, 2, 159, 205, 416, 319, 1550, 357, 120, 15]),\n",
              " (3332, [15, 101, 147, 1163, 1, 428, 1682, 708, 1279, 1429]),\n",
              " (3342, [228, 66, 1932, 938, 60, 1321, 1738, 1464, 1899, 2255]),\n",
              " (3349, [95, 341, 220, 326, 465, 792, 179, 401, 768, 1024]),\n",
              " (3368, [27, 1767, 42, 104, 9, 144, 184, 433, 375, 857]),\n",
              " (3369, [32, 182, 324, 467, 376, 129, 313, 242, 1, 636]),\n",
              " (3382, [1106, 2230, 154, 3823, 202, 1236, 3560, 230, 4957, 2352]),\n",
              " (3388, [17, 50, 27, 42, 1040, 4, 2056, 448, 20, 1763]),\n",
              " (3393, [94, 99, 5227, 396, 262, 135, 395, 67, 74, 105]),\n",
              " (3398, [149, 9, 224, 56, 184, 144, 373, 17, 11, 47]),\n",
              " (3411, [22, 17, 11, 28, 47, 50, 4, 10, 157, 101]),\n",
              " (3425, [5081, 9865, 9168, 9, 4713, 49, 659, 181, 366, 1]),\n",
              " (3426, [4, 104, 144, 168, 149, 224, 155, 451, 243, 830]),\n",
              " (3427, [2281, 41, 31, 39, 76, 191, 16, 45, 326, 4033]),\n",
              " (3429, [160, 536, 414, 2, 3645, 5513, 648, 3648, 956, 3716]),\n",
              " (3463, [36, 101, 4, 1223, 2281, 32, 1020, 3681, 2268, 3090]),\n",
              " (3464, [101, 133, 139, 15, 36, 254, 3903, 1281, 116, 625]),\n",
              " (3466, [4, 1750, 950, 29, 291, 1633, 9349, 183, 930, 1915]),\n",
              " (3472, [298, 10, 21, 131, 284, 89, 35, 9, 104, 56]),\n",
              " (3488, [35, 104, 56, 144, 9, 224, 184, 373, 258, 382]),\n",
              " (3510, [206, 627, 1663, 202, 262, 955, 345, 4, 3982, 84]),\n",
              " (3524, [3616, 2563, 3188, 4941, 3810, 2813, 1488, 6190, 4552, 4978]),\n",
              " (3526, [56, 88, 300, 156, 97, 102, 104, 7157, 635, 5191]),\n",
              " (3592, [4, 16, 65, 2, 2899, 45, 19, 73, 688, 4754]),\n",
              " (3596, [40, 58, 76, 1703, 2051, 35, 56, 144, 9, 168]),\n",
              " (3604, [580, 1112, 3704, 1028, 1728, 72, 17, 998, 1685, 501]),\n",
              " (3608, [550, 212, 293, 433, 126, 399, 103, 33, 141, 48]),\n",
              " (3626, [39, 76, 11, 17, 28, 50, 27, 42, 592, 102]),\n",
              " (3662, [208, 5709, 94, 3258, 955, 99, 324, 5307, 1936, 262]),\n",
              " (3667, [15, 339, 10, 111, 1908, 95, 4066, 418, 71, 122]),\n",
              " (3673, [9, 149, 168, 144, 1196, 184, 2534, 382, 82, 5371]),\n",
              " (3674, [84, 3, 1, 298, 583, 411, 16, 3510, 493, 4033]),\n",
              " (3676, [771, 4493, 154, 131, 10, 1583, 25, 2800, 578, 2583]),\n",
              " (3683, [93, 132, 566, 472, 211, 98, 763, 491, 603, 26]),\n",
              " (3690, [5, 181, 1172, 243, 36, 410, 29, 71, 879, 101]),\n",
              " (3693, [112, 1, 52, 29, 8, 44, 25, 93, 425, 203]),\n",
              " (3699, [40, 76, 205, 2411, 1510, 291, 1092, 1377, 127, 498]),\n",
              " (3723, [5, 1785, 1009, 6, 1589, 1787, 1197, 626, 2792, 365]),\n",
              " (3737, [34, 99, 715, 765, 680, 1232, 21, 57, 1448, 2163]),\n",
              " (3753, [388, 5513, 1519, 1286, 9641, 376, 467, 9555, 242, 3810]),\n",
              " (3754, [22, 33, 48, 1, 4, 9625, 386, 2003, 1013, 14889]),\n",
              " (3796, [1029, 884, 1095, 1227, 775, 1672, 196, 1372, 1354, 1536]),\n",
              " (3818, [35, 1075, 3804, 2264, 4623, 693, 375, 3090, 2408, 511]),\n",
              " (3825, [38, 203, 85, 1494, 358, 3360, 514, 3493, 154, 645]),\n",
              " (3826, [56, 326, 465, 191, 224, 537, 168, 1024, 144, 768]),\n",
              " (3827, [138, 344, 48, 220, 326, 73, 537, 792, 41, 40]),\n",
              " (3832, [154, 881, 1785, 447, 207, 9371, 21, 285, 29, 1548]),\n",
              " (3835, [8, 44, 70, 4, 29, 22, 108, 3646, 3536, 48]),\n",
              " (3839, [6525, 6052, 34, 6824, 6526, 6367, 6875, 4543, 6585, 7485]),\n",
              " (3846, [694, 1481, 3616, 1422, 3590, 2563, 15, 3810, 2813, 4941]),\n",
              " (3851, [4, 148, 40, 496, 2149, 56, 45, 41, 31, 94]),\n",
              " (3859, [74, 4, 44, 1975, 16, 112, 369, 301, 2914, 4120]),\n",
              " (3868, [1258, 112, 2003, 137, 54, 115, 380, 1, 3780, 4750]),\n",
              " (3883, [6064, 5044, 1751, 7647, 7913, 6884, 2, 8328, 2531, 6287]),\n",
              " (3885, [10669, 4782, 318, 254, 41, 40, 146, 34, 3776, 55]),\n",
              " (3887, [385, 35, 9, 2, 104, 282, 102, 184, 224, 240]),\n",
              " (3900, [94, 1, 1675, 108, 33, 3360, 262, 13315, 1691, 22]),\n",
              " (3903, [467, 129, 3697, 636, 430, 5736, 376, 764, 573, 313]),\n",
              " (3905, [1277, 3526, 129, 2903, 2283, 313, 573, 896, 3437, 1795]),\n",
              " (3906, [430, 31, 4901, 76, 636, 126, 2540, 2367, 1871, 4630]),\n",
              " (3919, [239, 986, 8312, 750, 1231, 1422, 6597, 3682, 832, 10398]),\n",
              " (3923, [4, 2, 610, 5586, 7543, 263, 2498, 2523, 157, 14]),\n",
              " (3942, [40, 76, 582, 55, 9318, 956, 5534, 354, 618, 893]),\n",
              " (3958, [40, 326, 220, 58, 389, 465, 76, 792, 768, 1024]),\n",
              " (3995, [89, 4, 220, 326, 33, 389, 146, 598, 34, 171]),\n",
              " (4004, [11, 17, 47, 27, 42, 145, 96, 32, 182, 208]),\n",
              " (4026, [4, 44, 5233, 4486, 7630, 51, 451, 25, 67, 7928]),\n",
              " (4038, [35, 618, 291, 144, 168, 149, 77, 1108, 240, 184]),\n",
              " (4044, [28, 27, 136, 3472, 2, 112, 363, 1, 22, 4]),\n",
              " (4045, [1, 2, 8, 52, 25, 728, 266, 688, 1220, 1227]),\n",
              " (4061, [1818, 160, 1768, 259, 12531, 555, 505, 536, 11949, 18623]),\n",
              " (4062, [160, 259, 414, 536, 956, 1, 648, 4, 2, 17]),\n",
              " (4069, [408, 4596, 292, 12034, 4212, 9312, 12918, 15806, 376, 242]),\n",
              " (4078, [345, 1975, 131, 112, 4910, 3333, 21329, 2271, 4778, 16983]),\n",
              " (4079, [4, 2, 17, 28, 27, 47, 830, 691, 77, 60]),\n",
              " (4087, [19, 8, 48, 583, 841, 1, 112, 905, 1991, 80]),\n",
              " (4096, [148, 77, 770, 761, 919, 579, 428, 66, 116, 60]),\n",
              " (4120, [3010, 1377, 789, 197, 4, 102, 267, 11637, 1004, 562]),\n",
              " (4125, [27, 3162, 40, 2563, 31, 39, 3810, 4941, 2813, 3259]),\n",
              " (4127, [205, 2604, 156, 112, 2214, 1993, 2329, 798, 7286, 1957]),\n",
              " (4151, [31, 55, 58, 8776, 76, 21039, 8775, 18650, 16870, 470]),\n",
              " (4175, [1475, 1116, 8535, 164, 112, 128, 802, 2320, 821, 3323]),\n",
              " (4181, [11, 28, 50, 136, 4605, 145, 730, 38, 6903, 214]),\n",
              " (4194, [71, 41, 39, 55, 299, 23, 2129, 179, 129, 3644]),\n",
              " (4205, [55, 129, 440, 242, 299, 1032, 467, 313, 178, 1253]),\n",
              " (4216, [224, 35, 149, 144, 28, 9, 47, 27, 373, 17]),\n",
              " (4229, [579, 717, 99, 428, 32, 755, 770, 138, 1213, 1398]),\n",
              " (4233, [652, 2670, 914, 1860, 1854, 1769, 217, 1489, 2604, 633]),\n",
              " (4236, [214, 93, 38, 345, 188, 132, 603, 219, 1633, 216]),\n",
              " (4254, [525, 17, 90, 167, 112, 6622, 11, 106, 3994, 70]),\n",
              " (4299, [3, 367, 3613, 313, 242, 2362, 376, 842, 467, 430]),\n",
              " (4310, [259, 1, 160, 510, 156, 28, 17, 739, 723, 536]),\n",
              " (4351, [10462, 12946, 12768, 12770, 11231, 10476, 11215, 9292, 11925, 11073]),\n",
              " (4352, [986, 1073, 832, 1231, 4, 1525, 199, 6043, 1075, 3209]),\n",
              " (4354, [66, 11, 55, 28, 76, 47, 451, 17, 111, 22]),\n",
              " (4355, [11, 94, 17, 50, 27, 42, 145, 262, 105, 112]),\n",
              " (4362, [318, 316, 353, 165, 350, 612, 40, 41, 269, 39]),\n",
              " (4363, [9023, 10815, 35, 1928, 396, 8376, 8885, 8437, 8423, 220]),\n",
              " (4399, [1816, 2517, 2145, 2761, 3905, 112, 3721, 137, 283, 8]),\n",
              " (4405, [160, 95, 45, 414, 584, 39, 55, 537, 612, 58]),\n",
              " (4407, [8, 35, 144, 168, 149, 848, 1099, 71, 255, 9]),\n",
              " (4421, [76, 66, 116, 60, 510, 148, 52, 693, 3813, 72]),\n",
              " (4425, [116, 395, 77, 250, 1462, 44, 680, 148, 66, 199]),\n",
              " (4436, [96, 32, 208, 324, 344, 1, 15, 716, 8, 1209]),\n",
              " (4439, [9, 750, 47, 857, 11, 42, 28, 35, 50, 56]),\n",
              " (4444, [1871, 1962, 1851, 4292, 35, 91, 2236, 3945, 3269, 329]),\n",
              " (4449, [342, 6, 1214, 1288, 566, 486, 718, 891, 170, 472]),\n",
              " (4451, [1363, 1964, 29, 1, 57, 325, 146, 183, 98, 43]),\n",
              " (4461, [138, 54, 229, 112, 40, 756, 52, 2428, 359, 283]),\n",
              " (4465, [25, 112, 52, 8, 21, 321, 6, 698, 1377, 635]),\n",
              " (4483, [239, 224, 375, 1075, 149, 9, 750, 184, 1073, 17]),\n",
              " (4489, [36, 101, 45, 16, 389, 1, 2, 354, 81, 220]),\n",
              " (4494, [4630, 98, 117, 1031, 120, 385, 159, 11345, 16, 198]),\n",
              " (4514, [388, 2, 6, 261, 35, 56, 319, 347, 49, 329]),\n",
              " (4529, [179, 4, 4343, 8, 22, 1283, 220, 590, 2561, 87]),\n",
              " (4531, [4, 2, 196, 10, 159, 14114, 6358, 9827, 12829, 3233]),\n",
              " (4540, [17, 27, 42, 28, 50, 136, 145, 11, 2, 6]),\n",
              " (4547, [15, 36, 101, 1234, 187, 357, 112, 1223, 128, 895]),\n",
              " (4554, [1367, 51, 78, 108, 1619, 10665, 4064, 471, 345, 3954]),\n",
              " (4572, [88, 401, 17, 596, 2, 813, 270, 81, 131, 255]),\n",
              " (4585, [15, 451, 101, 638, 480, 186, 161, 399, 582, 830]),\n",
              " (4589, [15, 40, 101, 39, 58, 55, 37, 4, 82, 89]),\n",
              " (4598, [3980, 3880, 1200, 829, 4462, 5216, 4, 5821, 4900, 261]),\n",
              " (4599, [706, 936, 1177, 1207, 116, 66, 60, 77, 1409, 2611]),\n",
              " (4604, [874, 4, 2308, 846, 80, 124, 32, 174, 29, 8]),\n",
              " (4608, [540, 1960, 2075, 1163, 10307, 11048, 11178, 9586, 13, 99]),\n",
              " (4622, [342, 1108, 436, 5, 1475, 1116, 486, 86, 1689, 35]),\n",
              " (4630, [1057, 54, 5, 2481, 3674, 4145, 157, 2252, 2354, 295]),\n",
              " (4645, [31, 41, 39, 55, 58, 379, 159, 117, 35, 4]),\n",
              " (4653, [18, 270, 11, 17, 7092, 414, 536, 47, 326, 120]),\n",
              " (4666, [45, 220, 191, 465, 537, 613, 880, 906, 1024, 133]),\n",
              " (4673, [256, 6903, 19063, 13694, 9888, 7142, 471, 13626, 4, 16997]),\n",
              " (4679, [733, 592, 4999, 2366, 2121, 2125, 6215, 2495, 630, 6789]),\n",
              " (4682, [764, 636, 40, 41, 39, 31, 5488, 343, 15, 308]),\n",
              " (4691, [8, 9, 105, 51, 154, 16, 35, 104, 110, 1131]),\n",
              " (4693, [25, 8, 44, 229, 213, 339, 1044, 160, 1312, 1263]),\n",
              " (4696, [4, 16, 1, 2, 153, 1607, 10, 1688, 472, 8]),\n",
              " (4697, [2, 167, 5963, 11557, 1, 4, 283, 11804, 1301, 13318]),\n",
              " (4711, [12991, 96, 125, 963, 3776, 182, 208, 324, 344, 1754]),\n",
              " (4712, [298, 154, 2247, 4031, 23, 1, 3, 71, 603, 9]),\n",
              " (4721, [1, 93, 38, 36, 4, 101, 4871, 203, 5225, 214]),\n",
              " (4722, [202, 1227, 1031, 67, 10, 238, 384, 1405, 183, 1372]),\n",
              " (4726, [433, 582, 1, 264, 4, 739, 1629, 871, 1699, 287]),\n",
              " (4727, [2205, 9268, 54, 560, 112, 1730, 9809, 875, 1244, 2562]),\n",
              " (4729, [1828, 1682, 399, 433, 64, 2295, 122, 88, 2558, 1367]),\n",
              " (4752, [12677, 10993, 16484, 16481, 3141, 534, 994, 16308, 1788, 36]),\n",
              " (4754, [15, 715, 66, 96, 60, 3525, 1342, 58, 4805, 4]),\n",
              " (4765, [71, 181, 436, 903, 212, 445, 2020, 328, 102, 225]),\n",
              " (4774, [35, 4042, 2438, 3022, 4833, 104, 969, 186, 1686, 320]),\n",
              " (4782, [2230, 206, 1106, 7308, 908, 51, 447, 10000, 54, 617]),\n",
              " (4815, [1374, 4277, 2781, 5134, 630, 853, 457, 733, 16183, 45]),\n",
              " (4843, [60, 175, 94, 20, 335, 139, 16, 165, 1092, 254]),\n",
              " (4849, [1535, 1715, 4, 216, 371, 33, 22, 6, 103, 511]),\n",
              " (4874, [252, 2404, 299, 2501, 2367, 4292, 129, 1146, 928, 3945]),\n",
              " (4879, [112, 492, 1, 345, 954, 2524, 68, 60, 1964, 12]),\n",
              " (4884, [2404, 911, 4292, 17, 11181, 11, 28, 1186, 50, 1682]),\n",
              " (4896, [4, 44, 2483, 5344, 16, 75, 1720, 172, 112, 434]),\n",
              " (4902, [49, 243, 410, 3300, 6950, 6124, 1699, 237, 2002, 11196]),\n",
              " (4907, [207, 1460, 2531, 3076, 90, 8, 946, 617, 1346, 1692]),\n",
              " (4916, [270, 203, 214, 211, 1005, 440, 534, 520, 3318, 3407]),\n",
              " (4936, [47, 27, 42, 1050, 136, 15, 297, 451, 225, 13]),\n",
              " (4948, [6, 566, 449, 763, 103, 20, 1037, 22, 491, 250]),\n",
              " (4958, [196, 1372, 1354, 1227, 112, 1095, 82, 390, 16, 4982]),\n",
              " (4960, [41, 81, 2702, 21, 1234, 3318, 3407, 298, 2516, 112]),\n",
              " (4965, [1214, 160, 1288, 76, 536, 35, 2102, 40, 41, 486]),\n",
              " (4968, [112, 4778, 11236, 16677, 16983, 5357, 3594, 22221, 4269, 11724]),\n",
              " (4976, [231, 1, 808, 179, 2, 886, 351, 15, 401, 1479]),\n",
              " (4979, [17, 28, 11, 42, 465, 191, 537, 16, 196, 792]),\n",
              " (4984, [2, 350, 146, 380, 843, 422, 359, 744, 1, 4]),\n",
              " (4986, [76, 11, 28, 42, 243, 2, 145, 4, 511, 410]),\n",
              " (4990, [1, 212, 6805, 183, 112, 424, 48, 940, 1109, 241]),\n",
              " (4997, [129, 764, 4676, 3440, 2777, 51, 6434, 1593, 1352, 2669]),\n",
              " (5000, [1630, 292, 347, 799, 329, 2277, 4896, 1622, 9027, 1210]),\n",
              " (5001, [89, 343, 390, 547, 1028, 95, 983, 3798, 326, 45]),\n",
              " (5010, [40, 496, 55, 146, 76, 955, 269, 318, 1267, 314]),\n",
              " (5033, [764, 119, 249, 3348, 5344, 1720, 316, 1557, 8650, 2083]),\n",
              " (5043, [161, 4, 82, 51, 4066, 45, 1368, 2272, 465, 637]),\n",
              " (5048, [3299, 15, 161, 2981, 21582, 94, 875, 101, 8250, 1490]),\n",
              " (5051, [59, 259, 584, 536, 112, 13, 648, 1233, 43, 999]),\n",
              " (5059, [2903, 2284, 3526, 5023, 4079, 4869, 896, 7847, 7108, 1795]),\n",
              " (5064, [3431, 7742, 6563, 4405, 2906, 4716, 112, 4573, 9010, 5242]),\n",
              " (5076, [28, 27, 42, 808, 2803, 145, 1, 471, 766, 9306]),\n",
              " (5091, [85, 17, 47, 50, 27, 37, 42, 298, 203, 49]),\n",
              " (5103, [857, 1073, 970, 41, 40, 58, 1678, 3466, 1859, 104]),\n",
              " (5107, [2, 132, 891, 15090, 446, 566, 18606, 1037, 63, 1]),\n",
              " (5112, [17, 11, 28, 27, 50, 33, 16, 44, 259, 2]),\n",
              " (5129, [540, 17, 27, 47, 50, 585, 16, 147, 1840, 689]),\n",
              " (5133, [31, 104, 240, 224, 511, 2493, 375, 2694, 382, 857]),\n",
              " (5162, [40, 4, 154, 34, 80, 384, 174, 1, 1031, 94]),\n",
              " (5167, [161, 506, 637, 2499, 840, 544, 1798, 1523, 2949, 354]),\n",
              " (5169, [104, 35, 33, 144, 2215, 184, 160, 373, 65, 4768]),\n",
              " (5187, [38, 451, 80, 203, 60, 214, 148, 211, 66, 22]),\n",
              " (5191, [39, 9760, 15228, 58, 12778, 12766, 12179, 21061, 15198, 76]),\n",
              " (5200, [12, 320, 97, 405, 2102, 126, 147, 1722, 119, 1163]),\n",
              " (5204, [35, 56, 224, 4, 496, 104, 3644, 5, 205, 78]),\n",
              " (5215, [160, 29, 54, 414, 68, 536, 112, 5420, 2505, 506]),\n",
              " (5235, [2791, 6309, 2540, 911, 2501, 13831, 18724, 2638, 262, 907]),\n",
              " (5242, [1, 329, 203, 31, 188, 40, 39, 514, 292, 76]),\n",
              " (5268, [3012, 4, 512, 442, 1817, 284, 285, 8, 1750, 11550]),\n",
              " (5274, [182, 138, 238, 8, 324, 116, 148, 60, 85, 16]),\n",
              " (5284, [598, 1448, 584, 160, 21589, 59, 128, 133, 1625, 6122]),\n",
              " (5330, [2, 21231, 583, 8279, 411, 828, 291, 837, 236, 332]),\n",
              " (5334, [208, 321, 71, 37, 1596, 308, 729, 1186, 703, 1429]),\n",
              " (5339, [8, 67, 44, 135, 631, 141, 260, 278, 77, 60]),\n",
              " (5340, [97, 94, 596, 1, 712, 867, 401, 10466, 170, 11062]),\n",
              " (5348, [298, 21, 8315, 68, 7900, 677, 493, 70, 4100, 3372]),\n",
              " (5350, [71, 1483, 17, 201, 275, 321, 11, 28, 85, 253]),\n",
              " (5366, [1124, 451, 17, 47, 749, 210, 42, 334, 8407, 1749]),\n",
              " (5374, [94, 34, 2543, 3458, 2963, 3977, 4079, 99, 4095, 751]),\n",
              " (5387, [39, 31, 76, 532, 224, 104, 9, 450, 1031, 769]),\n",
              " (5390, [2367, 1560, 2501, 2476, 911, 1848, 347, 58, 3589, 3945]),\n",
              " (5391, [467, 40, 2272, 58, 764, 347, 636, 76, 9058, 6750]),\n",
              " (5397, [58, 64, 198, 1108, 16, 1214, 1083, 1288, 243, 23]),\n",
              " (5398, [702, 4, 228, 5838, 2561, 4479, 2215, 1, 212, 44]),\n",
              " (5399, [3022, 5, 397, 12, 1100, 17, 11833, 2257, 42, 2532]),\n",
              " (5405, [112, 54, 5357, 16677, 4778, 11236, 4269, 16983, 6022, 3594]),\n",
              " (5420, [117, 585, 907, 1041, 1, 1443, 15, 1163, 93, 35]),\n",
              " (5441, [205, 133, 165, 22, 3000, 20, 265, 33, 139, 39]),\n",
              " (5447, [533, 76, 2505, 1267, 2913, 2208, 2747, 2967, 3533, 22]),\n",
              " (5472, [160, 36, 536, 414, 15, 101, 956, 657, 354, 154]),\n",
              " (5490, [1950, 1499, 564, 2601, 36, 1147, 1055, 1868, 332, 101]),\n",
              " (5493, [252, 148, 77, 60, 116, 66, 38, 203, 886, 214]),\n",
              " (5510, [15, 411, 101, 161, 869, 905, 1497, 10, 390, 1127]),\n",
              " (5520, [6026, 6836, 11147, 133, 11090, 16571, 11849, 11979, 3866, 15073]),\n",
              " (5536, [126, 287, 5, 71, 1327, 185, 1900, 86, 37, 589]),\n",
              " (5552, [494, 9, 56, 169, 471, 144, 4664, 3826, 208, 482]),\n",
              " (5558, [1652, 15, 2714, 36, 7909, 4879, 6571, 2996, 159, 8809]),\n",
              " (5559, [4094, 5044, 7647, 8328, 4441, 6064, 4435, 112, 709, 15587]),\n",
              " (5560, [96, 182, 467, 6641, 573, 4248, 8, 20, 6916, 52]),\n",
              " (5562, [160, 59, 15, 536, 584, 956, 1001, 999, 161, 399]),\n",
              " (5568, [391, 327, 1641, 112, 2830, 1939, 1616, 280, 626, 2043]),\n",
              " (5586, [1130, 3379, 3023, 51, 674, 88, 36, 1964, 112, 954]),\n",
              " (5589, [5504, 7354, 7019, 2367, 2404, 1871, 3447, 9014, 9024, 329]),\n",
              " (5590, [72, 4871, 2441, 6681, 5225, 4162, 4238, 3737, 133, 66]),\n",
              " (5599, [15340, 264, 21861, 21955, 15489, 17159, 21392, 21958, 571, 4]),\n",
              " (5602, [18934, 15376, 1780, 4, 4483, 183, 15597, 1786, 16394, 4937]),\n",
              " (5615, [160, 414, 440, 93, 534, 467, 38, 3407, 2516, 313]),\n",
              " (5620, [15, 112, 90, 1, 101, 133, 438, 38, 139, 1688]),\n",
              " (5621, [33, 3, 22, 2033, 68, 12863, 3397, 156, 20291, 1327]),\n",
              " (5622, [95, 326, 220, 537, 101, 389, 997, 45, 103, 5516]),\n",
              " (5630, [903, 124, 775, 745, 308, 375, 986, 857, 1868, 824]),\n",
              " (5638, [898, 1052, 745, 92, 451, 569, 1355, 865, 824, 17]),\n",
              " (5643, [1159, 101, 26, 812, 44, 3602, 4741, 1652, 72, 339]),\n",
              " (5657, [624, 236, 754, 343, 2034, 2611, 1290, 805, 1382, 8143]),\n",
              " (5663, [41, 58, 841, 1497, 257, 905, 4, 14, 1127, 126]),\n",
              " (5685, [13, 17, 2438, 1499, 28, 64, 50, 11, 1950, 4711]),\n",
              " (5686, [395, 2155, 96, 138, 634, 2483, 182, 208, 199, 19]),\n",
              " (5691, [564, 824, 898, 569, 855, 451, 619, 745, 1536, 1805]),\n",
              " (5692, [5182, 5363, 3771, 6521, 7497, 8238, 11068, 7853, 1372, 4053]),\n",
              " (5693, [47, 37, 27, 17, 50, 42, 363, 4, 22, 33]),\n",
              " (5695, [88, 51, 15, 393, 221, 2643, 927, 101, 4027, 6]),\n",
              " (5722, [8, 65, 8344, 33, 950, 566, 446, 141, 4, 1037]),\n",
              " (5746, [111, 2522, 122, 599, 1196, 5435, 135, 1100, 5067, 634]),\n",
              " (5760, [742, 5, 903, 71, 22, 3259, 33, 732, 96, 1]),\n",
              " (5780, [1279, 1429, 2558, 8775, 126, 8444, 1446, 104, 5362, 11190]),\n",
              " (5796, [23, 4, 126, 489, 942, 91, 2051, 1259, 155, 1017]),\n",
              " (5808, [14, 219, 817, 8, 673, 207, 145, 692, 2394, 3836]),\n",
              " (5810, [702, 3169, 678, 260, 716, 1895, 761, 1799, 281, 369]),\n",
              " (5813, [255, 813, 34, 94, 1099, 1293, 3021, 88, 1764, 1284]),\n",
              " (5814, [5, 851, 581, 89, 3, 2513, 10, 981, 18, 337]),\n",
              " (5819, [1220, 131, 1632, 5601, 3213, 4, 3289, 107, 6298, 4177]),\n",
              " (5828, [399, 35, 582, 104, 9, 224, 184, 17, 420, 1054]),\n",
              " (5852, [4, 1434, 990, 17, 2, 662, 1125, 572, 2570, 2459]),\n",
              " (5853, [303, 249, 31, 299, 55, 58, 1232, 2775, 1146, 76]),\n",
              " (5887, [9, 186, 104, 149, 433, 184, 388, 240, 1604, 1542]),\n",
              " (5891, [285, 2743, 261, 594, 1256, 580, 1028, 3360, 1919, 3424]),\n",
              " (5933, [8598, 353, 612, 411, 6856, 1696, 11626, 11627, 11167, 14767]),\n",
              " (5943, [8807, 15367, 6263, 5365, 5783, 6307, 12734, 12808, 18741, 6308]),\n",
              " (5947, [124, 564, 749, 569, 760, 745, 824, 767, 685, 2377]),\n",
              " (5948, [95, 220, 147, 579, 60, 1041, 907, 1163, 1007, 76]),\n",
              " (5959, [2832, 89, 4583, 22, 390, 48, 915, 28, 8999, 47]),\n",
              " (5968, [7315, 2777, 36, 11479, 3575, 101, 1422, 9997, 4159, 346]),\n",
              " (5977, [101, 9262, 11180, 15, 346, 1, 9814, 161, 955, 99]),\n",
              " (5979, [1020, 3751, 1120, 2, 23, 4846, 9249, 728, 3655, 28]),\n",
              " (5982, [2517, 708, 147, 2075, 3811, 689, 1443, 4, 901, 19084]),\n",
              " (5984, [67, 95, 629, 596, 1611, 101, 4, 238, 2, 813]),\n",
              " (5992, [1092, 4121, 3803, 1542, 9254, 4363, 6854, 811, 4891, 112]),\n",
              " (6007, [2777, 1461, 4676, 3121, 11479, 6180, 1682, 613, 548, 1828]),\n",
              " (6011, [262, 1222, 14567, 112, 1474, 298, 5121, 2694, 1072, 11866]),\n",
              " (6037, [58, 262, 202, 998, 14, 580, 788, 2450, 1112, 365]),\n",
              " (6041, [3612, 1326, 102, 267, 156, 197, 112, 1004, 46, 398]),\n",
              " (6060, [89, 95, 101, 49, 308, 465, 243, 191, 792, 880]),\n",
              " (6070, [101, 25, 51, 2016, 8, 571, 16, 596, 871, 3726]),\n",
              " (6071, [66, 1464, 1008, 2669, 2255, 7306, 1932, 12293, 1070, 15799]),\n",
              " (6074, [808, 938, 68, 2376, 112, 6, 630, 696, 1853, 1363]),\n",
              " (6077, [182, 94, 208, 262, 34, 35, 324, 344, 99, 228]),\n",
              " (6083, [32, 208, 5420, 324, 344, 4133, 67, 281, 1151, 112]),\n",
              " (6093, [1464, 831, 1932, 446, 1019, 459, 2807, 472, 285, 2255]),\n",
              " (6101, [104, 56, 224, 9, 168, 144, 184, 807, 998, 1728]),\n",
              " (6109, [28, 17, 11, 47, 27, 4, 42, 451, 37, 112]),\n",
              " (6121, [41, 39, 580, 998, 64, 11, 117, 13, 120, 1108]),\n",
              " (6123, [137, 135, 39, 395, 724, 67, 180, 112, 1478, 711]),\n",
              " (6126, [25, 43, 13, 109, 1714, 6, 1844, 1019, 108, 401]),\n",
              " (6129, [11, 27, 47, 50, 1790, 340, 71, 154, 550, 128]),\n",
              " (6147, [981, 3496, 851, 4, 44, 9070, 16, 1568, 2669, 991]),\n",
              " (6170, [808, 16, 62, 938, 266, 35, 133, 4, 1225, 2]),\n",
              " (6178, [1382, 376, 573, 242, 324, 2517, 89, 236, 2034, 3905]),\n",
              " (6190, [23, 27, 17, 47, 4, 37, 42, 56, 145, 12]),\n",
              " (6205, [104, 144, 168, 149, 244, 201, 1, 382, 80, 452]),\n",
              " (6211, [239, 511, 11, 28, 42, 80, 4, 50, 857, 1281]),\n",
              " (6217, [4, 2, 6, 199, 281, 407, 135, 598, 67, 395]),\n",
              " (6222, [743, 1058, 510, 8, 43, 64, 4665, 21, 96, 13]),\n",
              " (6240, [697, 2401, 1729, 1604, 3128, 3592, 2823, 1848, 1870, 148]),\n",
              " (6242, [43, 64, 884, 82, 1438, 13, 36, 198, 98, 11]),\n",
              " (6257, [37, 321, 121, 379, 340, 2471, 28, 688, 275, 17]),\n",
              " (6269, [35, 56, 73, 224, 33, 168, 144, 17, 251, 36]),\n",
              " (6272, [101, 1, 2, 88, 8, 26, 67, 890, 3289, 270]),\n",
              " (6289, [263, 112, 4778, 5357, 16677, 16983, 4269, 11724, 6022, 3594]),\n",
              " (6301, [40, 1411, 1674, 35, 4, 71, 11, 88, 43, 96]),\n",
              " (6328, [260, 96, 208, 955, 390, 933, 262, 324, 915, 936]),\n",
              " (6342, [583, 291, 101, 1127, 2243, 116, 4684, 148, 3184, 2580]),\n",
              " (6346, [6875, 7132, 6052, 6051, 6053, 6054, 7133, 7134, 6585, 7486]),\n",
              " (6371, [17, 95, 47, 28, 11, 50, 326, 220, 191, 792]),\n",
              " (6376, [182, 324, 291, 411, 64, 49, 181, 4, 841, 185]),\n",
              " (6377, [678, 1213, 2846, 4, 220, 3379, 1398, 465, 226, 14120]),\n",
              " (6396, [11, 47, 50, 778, 3751, 722, 35, 104, 500, 159]),\n",
              " (6415, [476, 1331, 3625, 614, 7808, 464, 1267, 5633, 6, 3982]),\n",
              " (6426, [334, 117, 264, 3126, 120, 29, 156, 81, 3209, 2]),\n",
              " (6428, [128, 75, 13472, 159, 120, 101, 293, 32, 5420, 4121]),\n",
              " (6461, [88, 178, 1397, 1550, 1020, 498, 5116, 286, 13258, 2748]),\n",
              " (6486, [449, 55, 58, 59, 76, 467, 129, 313, 376, 414]),\n",
              " (6509, [346, 627, 68, 2493, 14004, 105, 1786, 156, 9248, 300]),\n",
              " (6517, [94, 42, 56, 2036, 1, 11, 28, 41, 40, 2]),\n",
              " (6522, [1286, 2617, 1078, 1816, 8, 3905, 4, 1122, 3721, 16]),\n",
              " (6530, [346, 119, 133, 252, 60, 579, 770, 175, 15, 919]),\n",
              " (6534, [433, 43, 98, 582, 57, 109, 133, 165, 102, 335]),\n",
              " (6536, [2295, 2558, 3351, 6111, 6423, 5362, 8444, 10348, 6599, 119]),\n",
              " (6564, [2, 94, 34, 73, 33, 104, 85, 48, 2543, 144]),\n",
              " (6572, [413, 814, 213, 872, 8, 1478, 68, 167, 783, 1733]),\n",
              " (6588, [9, 399, 12, 433, 582, 509, 56, 144, 405, 71]),\n",
              " (6590, [467, 242, 181, 4, 636, 3154, 542, 19, 410, 3380]),\n",
              " (6595, [28, 47, 27, 42, 49, 95, 191, 1893, 220, 326]),\n",
              " (6610, [15, 17839, 16235, 107, 2, 813, 1631, 30, 19, 156]),\n",
              " (6612, [41, 376, 3721, 129, 242, 3811, 33, 1475, 103, 764]),\n",
              " (6615, [2958, 896, 31, 44, 22, 2766, 2618, 7212, 7030, 103]),\n",
              " (6640, [6277, 7883, 171, 8168, 146, 11633, 6212, 9043, 2, 10844]),\n",
              " (6641, [332, 1112, 240, 1397, 28, 414, 536, 973, 135, 1028]),\n",
              " (6655, [3427, 5181, 15251, 108, 17398, 58, 112, 6013, 33, 19183]),\n",
              " (6658, [1028, 21039, 15145, 11190, 95, 47, 27, 998, 788, 42]),\n",
              " (6668, [40, 55, 76, 344, 379, 9, 117, 101, 35, 7258]),\n",
              " (6669, [54, 96, 138, 182, 208, 106, 17986, 791, 324, 759]),\n",
              " (6673, [89, 1029, 915, 936, 1438, 1207, 884, 1177, 2034, 2611]),\n",
              " (6683, [126, 293, 379, 287, 28, 17, 275, 15812, 550, 47]),\n",
              " (6685, [35, 1401, 149, 102, 224, 184, 23, 104, 168, 144]),\n",
              " (6738, [104, 9, 326, 191, 220, 149, 465, 224, 775, 116]),\n",
              " (6742, [6185, 1165, 2683, 2401, 1796, 697, 1729, 186, 1870, 5722]),\n",
              " (6759, [56, 458, 97, 66, 77, 1, 116, 44, 1864, 148]),\n",
              " (6765, [592, 242, 573, 433, 186, 10809, 1288, 261, 764, 636]),\n",
              " (6796, [34, 182, 208, 262, 324, 4, 1342, 148, 257, 175]),\n",
              " (6798, [476, 5531, 6226, 3214, 5339, 7010, 5530, 5000, 3391, 2967]),\n",
              " (6807, [15, 36, 56, 11, 47, 27, 174, 349, 42, 1475]),\n",
              " (6810, [1883, 697, 2683, 1041, 98, 534, 3128, 2516, 3592, 907]),\n",
              " (6818, [95, 326, 189, 220, 537, 1227, 191, 389, 45, 739]),\n",
              " (6851, [15, 101, 161, 403, 429, 506, 1248, 977, 15932, 379]),\n",
              " (6864, [8, 44, 25, 17, 27, 4, 47, 28, 11, 1864]),\n",
              " (6897, [108, 1, 3090, 4583, 555, 2202, 93, 179, 4, 203]),\n",
              " (6906, [239, 857, 111, 3527, 1231, 832, 1281, 511, 1858, 986]),\n",
              " (6910, [22, 73, 132, 104, 144, 6, 1932, 476, 4, 472]),\n",
              " (6917, [133, 1258, 1013, 1, 171, 139, 3, 314, 3979, 93]),\n",
              " (6927, [35, 9, 144, 184, 1481, 224, 2, 149, 262, 373]),\n",
              " (6929, [259, 11, 28, 42, 47, 1688, 2678, 111, 1097, 287]),\n",
              " (6978, [782, 9, 56, 104, 144, 1, 168, 240, 687, 756]),\n",
              " (6986, [13, 2, 344, 208, 182, 1818, 303, 3502, 1210, 281]),\n",
              " (6993, [15, 125, 1367, 101, 203, 1798, 1936, 154, 94, 1234]),\n",
              " (6998, [40, 27, 28, 55, 58, 50, 76, 5, 4, 97]),\n",
              " (7005, [3905, 133, 3811, 203, 171, 1481, 16, 188, 1191, 3188]),\n",
              " (7011, [1330, 194, 330, 802, 163, 103, 862, 1412, 940, 73]),\n",
              " (7015, [16, 107, 156, 4, 300, 102, 1442, 549, 669, 1]),\n",
              " (7019, [1593, 1460, 131, 2531, 571, 1220, 587, 202, 4963, 522]),\n",
              " (7024, [34, 99, 3565, 6, 2, 5744, 70, 1172, 632, 52]),\n",
              " (7027, [2084, 3059, 4544, 5950, 4799, 179, 4153, 3597, 4839, 3414]),\n",
              " (7036, [2, 208, 138, 182, 32, 598, 96, 344, 6, 1]),\n",
              " (7057, [34, 598, 352, 399, 582, 1625, 1343, 123, 1994, 39]),\n",
              " (7058, [9, 259, 56, 104, 144, 168, 536, 375, 8, 239]),\n",
              " (7059, [41, 3791, 55, 58, 76, 1281, 511, 375, 104, 4623]),\n",
              " (7069, [16, 28, 95, 11, 4, 44, 26, 50, 47, 121]),\n",
              " (7075, [1, 2, 11, 28, 17, 36, 42, 29, 389, 906]),\n",
              " (7086, [4223, 1481, 5633, 4897, 22, 3043, 4, 1364, 43, 16]),\n",
              " (7092, [174, 157, 80, 890, 3618, 437, 309, 5087, 22, 1598]),\n",
              " (7113, [242, 3905, 2056, 1763, 252, 143, 35, 5421, 104, 149]),\n",
              " (7119, [1699, 3692, 2603, 1573, 2724, 1723, 2258, 264, 3, 93]),\n",
              " (7133, [94, 1342, 34, 2163, 881, 2590, 262, 302, 2543, 99]),\n",
              " (7151, [182, 324, 837, 344, 556, 282, 1051, 978, 22, 526]),\n",
              " (7167, [27, 11, 42, 47, 28, 6, 1, 50, 80, 112]),\n",
              " (7173, [9, 14082, 104, 19220, 19112, 149, 6264, 21455, 112, 144]),\n",
              " (7187, [573, 208, 175, 612, 353, 770, 133, 415, 428, 579]),\n",
              " (7188, [1, 1461, 38, 93, 203, 680, 4, 2775, 1232, 514]),\n",
              " (7193, [4627, 286, 439, 29, 366, 8418, 215, 1340, 41, 112]),\n",
              " (7201, [27, 11, 28, 47, 50, 136, 58, 40, 41, 31]),\n",
              " (7222, [207, 766, 743, 1058, 2036, 1222, 38, 174, 250, 516]),\n",
              " (7232, [1, 2, 22, 517, 3283, 494, 8158, 6366, 687, 6362]),\n",
              " (7235, [1186, 1682, 1828, 1279, 397, 117, 1196, 6111, 599, 10348]),\n",
              " (7238, [1049, 349, 401, 15, 1116, 192, 96, 138, 339, 498]),\n",
              " (7244, [126, 236, 1207, 436, 16, 355, 550, 706, 35, 2611]),\n",
              " (7270, [82, 632, 8, 35, 54, 2538, 1771, 305, 450, 1]),\n",
              " (7275, [119, 249, 639, 536, 584, 956, 117, 242, 332, 1001]),\n",
              " (7284, [1, 214, 93, 39, 55, 58, 203, 1106, 76, 188]),\n",
              " (7285, [250, 801, 702, 2, 631, 934, 781, 28, 395, 17]),\n",
              " (7288, [7112, 5705, 9023, 14, 10815, 1, 4, 2, 5127, 891]),\n",
              " (7306, [116, 733, 4076, 320, 4082, 76, 408, 175, 292, 329]),\n",
              " (7309, [313, 376, 636, 82, 89, 94, 262, 112, 119, 229]),\n",
              " (7323, [291, 36, 56, 224, 15, 55, 168, 184, 1537, 144]),\n",
              " (7326, [40, 39, 55, 76, 262, 4688, 13, 635, 2150, 1434]),\n",
              " (7361, [540, 154, 907, 320, 585, 147, 329, 261, 292, 347]),\n",
              " (7369, [94, 27, 11, 1227, 28, 1095, 1342, 50, 99, 10]),\n",
              " (7373, [58, 89, 308, 390, 2898, 769, 638, 210, 983, 600]),\n",
              " (7380, [6, 2084, 3, 3954, 4064, 891, 718, 566, 446, 104]),\n",
              " (7388, [11, 103, 27, 47, 762, 2, 449, 3012, 664, 643]),\n",
              " (7406, [41, 4, 624, 706, 805, 236, 2, 2964, 2056, 828]),\n",
              " (7426, [262, 31, 2072, 1960, 5332, 1840, 147, 1911, 1198, 392]),\n",
              " (7445, [44, 4, 25, 5348, 93, 1629, 871, 203, 85, 8565]),\n",
              " (7446, [259, 414, 956, 1001, 634, 80, 781, 6, 395, 296]),\n",
              " (7460, [67, 4, 2, 634, 16, 598, 28, 238, 1448, 17]),\n",
              " (7461, [1029, 1438, 308, 343, 556, 122, 305, 3180, 5142, 1608]),\n",
              " (7463, [254, 314, 94, 38, 269, 12, 203, 146, 214, 165]),\n",
              " (7469, [39, 355, 732, 76, 328, 23, 1282, 1507, 343, 91]),\n",
              " (7471, [43, 98, 179, 571, 521, 1578, 401, 57, 202, 339]),\n",
              " (7477, [138, 208, 324, 344, 13458, 391, 13376, 1, 532, 14]),\n",
              " (7485, [540, 320, 99, 1163, 2127, 39, 4336, 147, 3458, 2543]),\n",
              " (7490, [1, 4, 2, 3, 336, 80, 88, 107, 51, 105]),\n",
              " (7493, [569, 1868, 124, 1147, 89, 745, 638, 827, 16520, 824]),\n",
              " (7497, [76, 5216, 5051, 252, 3537, 261, 5821, 4900, 2121, 3870]),\n",
              " (7505, [51, 401, 813, 255, 25, 1, 16, 94, 1099, 34]),\n",
              " (7507, [40, 39, 76, 77, 618, 98, 2085, 1, 1108, 60]),\n",
              " (7510, [120, 21, 1191, 394, 49, 1481, 1422, 131, 510, 338]),\n",
              " (7522, [36, 101, 1, 34, 1542, 25, 44, 161, 3, 52]),\n",
              " (7534, [37, 35, 28, 56, 17, 9, 104, 149, 144, 15]),\n",
              " (7538, [9712, 11178, 10234, 9813, 220, 6, 4736, 2906, 5038, 138]),\n",
              " (7541, [35, 56, 149, 4030, 1206, 3177, 160, 186, 4146, 999]),\n",
              " (7542, [467, 242, 32, 138, 182, 636, 94, 1372, 40, 11054]),\n",
              " (7548, [5, 2, 4399, 702, 23, 301, 20, 22, 73, 181]),\n",
              " (7550, [40, 31, 58, 76, 4, 1046, 883, 13157, 1529, 5840]),\n",
              " (7557, [1883, 2389, 2823, 4, 4474, 8663, 4612, 919, 697, 428]),\n",
              " (7584, [1382, 1816, 279, 2517, 113, 2761, 29, 15, 3905, 1031]),\n",
              " (7593, [7027, 7369, 6723, 6720, 6725, 7028, 6426, 324, 6721, 585]),\n",
              " (7596, [569, 722, 210, 1155, 769, 443, 685, 27, 1055, 824]),\n",
              " (7603, [16, 36, 101, 44, 5671, 2518, 9053, 5121, 3568, 4353]),\n",
              " (7620, [2034, 1207, 5507, 1177, 936, 547, 112, 3537, 1030, 6]),\n",
              " (7624, [389, 44, 465, 191, 537, 298, 25, 243, 792, 880]),\n",
              " (7635, [242, 430, 2423, 1078, 4267, 2403, 1702, 94, 99, 2442]),\n",
              " (7644, [293, 2150, 126, 955, 28, 287, 17, 559, 47, 27]),\n",
              " (7649, [1897, 3269, 6881, 8332, 5106, 5995, 15152, 7971, 72, 18741]),\n",
              " (7653, [101, 350, 146, 843, 3, 29, 143, 112, 316, 185]),\n",
              " (7660, [36, 11, 249, 6545, 3128, 252, 6532, 1604, 1425, 27]),\n",
              " (7664, [320, 1722, 585, 35, 1041, 4704, 99, 2075, 8376, 1497]),\n",
              " (7674, [6043, 517, 1, 4, 979, 9277, 10, 85, 8721, 8217]),\n",
              " (7696, [31, 55, 13509, 1230, 1078, 133, 36, 413, 2741, 3107]),\n",
              " (7702, [596, 5, 40, 55, 58, 7729, 1099, 8, 76, 11660]),\n",
              " (7704, [18926, 160, 3789, 536, 471, 1433, 21278, 414, 2561, 7975]),\n",
              " (7708, [3403, 196, 228, 2308, 8473, 10660, 202, 9442, 301, 6974]),\n",
              " (7714, [540, 467, 1125, 573, 32, 313, 907, 1532, 2, 1534]),\n",
              " (7717, [15, 101, 680, 1610, 1196, 599, 895, 397, 2667, 403]),\n",
              " (7740, [4, 571, 8, 188, 214, 1365, 211, 52, 10, 107]),\n",
              " (7744, [5, 71, 64, 198, 97, 1017, 639, 82, 1510, 1146]),\n",
              " (7762, [17, 47, 42, 11, 28, 303, 50, 35, 4, 277]),\n",
              " (7765, [1, 112, 1647, 14499, 10670, 1403, 1031, 1077, 15771, 17658]),\n",
              " (7777, [31, 56, 104, 239, 1858, 168, 511, 184, 3466, 1073]),\n",
              " (7781, [159, 120, 510, 1785, 1505, 99, 985, 1310, 1724, 11931]),\n",
              " (7785, [33, 73, 2, 4, 65, 259, 108, 43, 170, 4728]),\n",
              " (7802, [1481, 1191, 694, 101, 15, 10, 11, 693, 3813, 17]),\n",
              " (7803, [55, 540, 585, 841, 907, 480, 564, 691, 569, 578]),\n",
              " (7808, [2102, 1089, 16037, 963, 720, 1132, 3812, 9768, 6407, 4]),\n",
              " (7818, [2321, 1461, 28, 8, 17, 44, 52, 865, 47, 50]),\n",
              " (7828, [117, 120, 500, 126, 4266, 3055, 131, 293, 1724, 275]),\n",
              " (7867, [3810, 64, 635, 4941, 3616, 3590, 21, 57, 9851, 6525]),\n",
              " (7889, [98, 64, 15, 56, 348, 168, 109, 101, 104, 250]),\n",
              " (7893, [939, 59, 414, 9, 10, 536, 1001, 95, 4, 259]),\n",
              " (7902, [537, 95, 45, 220, 326, 191, 1756, 1893, 1067, 1024]),\n",
              " (7916, [6178, 6179, 11222, 20504, 20515, 20512, 6723, 6427, 12035, 5303]),\n",
              " (7918, [35, 56, 9, 17, 104, 28, 168, 47, 11, 5]),\n",
              " (7934, [8, 2986, 1676, 267, 2007, 4, 2607, 1487, 1803, 266]),\n",
              " (7942, [17909, 17901, 17903, 17910, 17888, 96, 1481, 347, 292, 94]),\n",
              " (7957, [40, 55, 58, 76, 3816, 16, 243, 289, 181, 270]),\n",
              " (7965, [54, 68, 3975, 2603, 332, 1283, 1263, 1028, 788, 2687]),\n",
              " (7968, [138, 182, 208, 324, 344, 54, 36, 117, 660, 1441]),\n",
              " (7973, [93, 214, 56, 211, 9, 603, 358, 514, 1635, 28]),\n",
              " (7977, [1190, 7912, 7935, 4597, 4332, 415, 2021, 984, 292, 1313]),\n",
              " (7982, [3424, 38, 3178, 203, 4348, 3791, 214, 16993, 188, 3140]),\n",
              " (7993, [8, 7867, 76, 17, 28, 11, 7477, 6, 26, 1264]),\n",
              " (8003, [39, 55, 2, 56, 76, 2453, 441, 168, 38, 261]),\n",
              " (8005, [171, 2198, 165, 56, 97, 12, 148, 350, 316, 116]),\n",
              " (8015, [17, 28, 103, 506, 47, 42, 50, 750, 893, 48]),\n",
              " (8040, [99, 3458, 705, 738, 262, 51, 10402, 4336, 67, 5806]),\n",
              " (8041, [116, 60, 208, 344, 318, 304, 165, 15, 278, 101]),\n",
              " (8045, [2, 108, 112, 96, 68, 138, 674, 591, 1130, 2016]),\n",
              " (8055, [55, 58, 12917, 12034, 10471, 12920, 14020, 12918, 11222, 12035]),\n",
              " (8066, [47, 27, 42, 94, 34, 37, 145, 16, 8, 451]),\n",
              " (8071, [3325, 2362, 3613, 367, 2347, 3568, 16842, 2424, 125, 9429]),\n",
              " (8082, [67, 12, 220, 1230, 326, 389, 16, 278, 2438, 33]),\n",
              " (8086, [1040, 78, 95, 103, 45, 170, 10, 389, 113, 220]),\n",
              " (8092, [14189, 124, 210, 1401, 6, 783, 49, 8398, 28, 19]),\n",
              " (8099, [3, 1225, 2063, 605, 332, 4, 44, 23, 786, 345]),\n",
              " (8103, [592, 342, 618, 1108, 1288, 751, 271, 5585, 10, 6276]),\n",
              " (8104, [271, 117, 2, 9241, 396, 1501, 1747, 4124, 629, 2253]),\n",
              " (8108, [96, 32, 376, 242, 573, 178, 764, 4, 1120, 636]),\n",
              " (8110, [2321, 1461, 9, 56, 144, 104, 168, 8515, 240, 1266]),\n",
              " (8151, [10636, 210, 1415, 770, 1398, 896, 1195, 67, 4615, 919]),\n",
              " (8176, [56, 149, 361, 71, 47, 97, 310, 615, 42, 12]),\n",
              " (8192, [41, 40, 39, 55, 58, 6, 76, 1993, 13759, 163]),\n",
              " (8198, [1688, 684, 349, 1083, 43, 1288, 13, 582, 122, 154]),\n",
              " (8211, [67, 44, 463, 883, 555, 1369, 6662, 5129, 2555, 3067]),\n",
              " (8224, [43, 64, 57, 11, 12103, 28, 865, 4, 47, 42]),\n",
              " (8230, [340, 321, 91, 398, 2748, 3804, 550, 1075, 489, 3039]),\n",
              " (8237, [43, 109, 98, 198, 1197, 5688, 1588, 15, 36, 13]),\n",
              " (8244, [55, 1847, 1610, 2, 2051, 3959, 5, 76, 4324, 9765]),\n",
              " (8275, [76, 2, 60, 718, 44, 1099, 226, 4, 255, 8]),\n",
              " (8276, [40, 76, 77, 60, 148, 82, 4, 22, 542, 380]),\n",
              " (8278, [9103, 10865, 8622, 11728, 4858, 1290, 1177, 4315, 10978, 6763]),\n",
              " (8282, [2702, 2072, 1253, 1032, 7664, 13, 1519, 1, 630, 2495]),\n",
              " (8287, [131, 59, 160, 355, 1579, 96, 1282, 629, 665, 1611]),\n",
              " (8302, [1422, 3188, 4552, 4978, 3162, 2453, 5508, 33, 384, 2231]),\n",
              " (8316, [1286, 8437, 561, 8417, 3905, 12243, 9943, 94, 9413, 12199]),\n",
              " (8321, [9, 144, 318, 146, 171, 184, 145, 224, 329, 269]),\n",
              " (8329, [15, 4284, 51, 1352, 4042, 2290, 3205, 342, 183, 29]),\n",
              " (8342, [4, 978, 119, 1051, 249, 355, 129, 762, 22, 2]),\n",
              " (8348, [9455, 2198, 4559, 2290, 3205, 202, 3258, 12395, 5307, 3447]),\n",
              " (8357, [4, 1652, 813, 135, 1, 1331, 191, 255, 326, 8]),\n",
              " (8364, [159, 11, 28, 329, 347, 17, 146, 848, 799, 47]),\n",
              " (8387, [366, 8, 134, 170, 1908, 823, 1968, 834, 704, 6]),\n",
              " (8403, [5647, 104, 56, 144, 168, 240, 751, 224, 258, 184]),\n",
              " (8424, [39, 41, 1083, 1288, 31, 76, 486, 613, 1406, 15]),\n",
              " (8446, [4870, 36, 4869, 40, 5020, 1816, 138, 58, 82, 5992]),\n",
              " (8447, [23, 590, 393, 72, 16, 71, 9, 229, 112, 601]),\n",
              " (8450, [2, 22, 161, 6, 48, 54, 699, 112, 476, 1096]),\n",
              " (8451, [4, 118, 95, 8, 45, 220, 61, 389, 537, 465]),\n",
              " (8465, [77, 2841, 1627, 35, 116, 1768, 9, 9189, 7105, 745]),\n",
              " (8470, [428, 625, 717, 919, 761, 678, 770, 210, 443, 771]),\n",
              " (8471, [88, 131, 107, 29, 112, 208, 225, 96, 189, 324]),\n",
              " (8474, [2599, 1, 2, 1672, 9, 728, 423, 4567, 4190, 687]),\n",
              " (8490, [366, 1092, 28, 27, 22, 39, 4, 42, 50, 762]),\n",
              " (8495, [1481, 3188, 3080, 4552, 2453, 98, 5508, 4978, 199, 424]),\n",
              " (8496, [320, 1411, 809, 907, 1767, 1041, 708, 249, 1443, 4]),\n",
              " (8503, [39, 40, 41, 58, 31, 55, 435, 76, 302, 592]),\n",
              " (8536, [537, 906, 191, 768, 860, 2740, 3095, 8352, 54, 137]),\n",
              " (8538, [580, 267, 1028, 109, 1511, 3704, 1368, 43, 64, 156]),\n",
              " (8542, [160, 10, 259, 159, 95, 59, 40, 31, 414, 39]),\n",
              " (8546, [4, 5, 36, 101, 783, 413, 1230, 2258, 2603, 63]),\n",
              " (8548, [39, 76, 1, 23, 17, 27, 14, 47, 22, 11]),\n",
              " (8551, [55, 58, 240, 50, 42, 47, 11, 389, 382, 121]),\n",
              " (8554, [42, 3655, 47, 11, 28, 909, 50, 641, 136, 1]),\n",
              " (8561, [160, 59, 1253, 8560, 1032, 259, 414, 3318, 3407, 956]),\n",
              " (8575, [40, 55, 76, 3, 16, 95, 4, 389, 25, 220]),\n",
              " (8589, [12959, 12062, 21558, 9730, 4892, 7449, 63, 4, 6, 8]),\n",
              " (8599, [1, 16, 422, 2155, 949, 54, 2240, 4060, 115, 4564]),\n",
              " (8600, [652, 21912, 7143, 17311, 1860, 122, 1854, 15675, 111, 29]),\n",
              " (8604, [2, 160, 70, 3010, 133, 95, 259, 1261, 139, 45]),\n",
              " (8609, [66, 9, 304, 7033, 144, 2446, 9039, 1539, 9582, 10835]),\n",
              " (8617, [31, 40, 28, 238, 37, 1446, 809, 1618, 1674, 5]),\n",
              " (8621, [299, 129, 1146, 242, 174, 1337, 928, 1273, 313, 95]),\n",
              " (8628, [4082, 2121, 7824, 7811, 7771, 9091, 82, 1776, 89, 2728]),\n",
              " (8663, [160, 59, 536, 584, 956, 2481, 82, 1350, 648, 2191]),\n",
              " (8676, [160, 584, 4861, 59, 2773, 51, 536, 414, 146, 956]),\n",
              " (8682, [44, 279, 52, 226, 2955, 2901, 901, 108, 4, 15667]),\n",
              " (8699, [10, 690, 1354, 1522, 5, 1764, 13, 71, 4688, 2701]),\n",
              " (8716, [17, 47, 50, 405, 1730, 124, 9, 122, 19, 2498]),\n",
              " (8718, [242, 430, 249, 119, 252, 764, 639, 636, 299, 41]),\n",
              " (8722, [326, 537, 45, 906, 1756, 1007, 997, 17, 59, 35]),\n",
              " (8737, [259, 536, 414, 956, 584, 1001, 115, 141, 163, 1259]),\n",
              " (8745, [4, 43, 1, 214, 7975, 2732, 64, 38, 203, 348]),\n",
              " (8749, [1, 28, 17, 4, 2, 47, 37, 50, 27, 93]),\n",
              " (8750, [595, 71, 3033, 2972, 196, 1029, 641, 4, 23, 293]),\n",
              " (8759, [45, 31, 39, 389, 326, 58, 220, 792, 880, 76]),\n",
              " (8761, [47, 240, 2, 41, 1, 214, 31, 64, 150, 512]),\n",
              " (8774, [612, 353, 540, 408, 389, 77, 58, 907, 146, 585]),\n",
              " (8779, [2, 2111, 4, 664, 121, 22150, 101, 449, 2875, 22]),\n",
              " (8782, [35, 9, 207, 66, 184, 7508, 149, 240, 102, 416]),\n",
              " (8786, [292, 388, 606, 325, 686, 35, 5108, 350, 56, 5]),\n",
              " (8796, [9442, 8044, 8473, 9982, 10660, 9455, 2657, 588, 3718, 1093]),\n",
              " (8816, [1897, 2570, 604, 2879, 635, 3129, 96, 324, 32, 182]),\n",
              " (8817, [35, 56, 144, 149, 168, 9, 184, 382, 310, 373]),\n",
              " (8854, [5179, 39, 5378, 117, 1542, 8160, 3122, 681, 13822, 11957]),\n",
              " (8859, [50, 22, 85, 4, 37, 2, 212, 73, 56, 136]),\n",
              " (8861, [329, 292, 1796, 11, 201, 1883, 1, 1425, 1165, 1604]),\n",
              " (8867, [43, 5, 71, 4754, 13, 174, 1930, 239, 5613, 688]),\n",
              " (8873, [41, 55, 58, 705, 3776, 76, 963, 57, 43, 64]),\n",
              " (8881, [22, 17, 27, 949, 2671, 4, 5018, 2, 47, 28]),\n",
              " (8885, [293, 340, 23, 275, 287, 5188, 2535, 4734, 6003, 321]),\n",
              " (8888, [2202, 555, 3870, 3523, 385, 1210, 60, 463, 4321, 48]),\n",
              " (8892, [275, 4, 2, 321, 35, 54, 143, 104, 71, 73]),\n",
              " (8906, [1143, 1669, 1493, 82, 713, 1517, 2019, 2234, 89, 347]),\n",
              " (8915, [313, 2813, 3616, 3590, 764, 636, 6190, 694, 1191, 1481]),\n",
              " (8919, [3246, 96, 32, 344, 5288, 8982, 1000, 324, 138, 182]),\n",
              " (8930, [40, 58, 2896, 433, 524, 1688, 684, 399, 2615, 48]),\n",
              " (8933, [1788, 1845, 612, 353, 994, 415, 33, 2021, 65, 170]),\n",
              " (8935, [467, 41, 55, 764, 1290, 15, 1510, 8, 27, 2611]),\n",
              " (8957, [1993, 163, 112, 19312, 6935, 11416, 11279, 7982, 9202, 5866]),\n",
              " (8958, [261, 292, 325, 4, 44, 316, 329, 733, 108, 474]),\n",
              " (8966, [117, 12, 23, 1391, 510, 500, 1028, 1112, 154, 3]),\n",
              " (9020, [58, 31, 170, 1083, 1214, 533, 496, 103, 391, 48]),\n",
              " (9023, [220, 880, 511, 750, 860, 44, 1281, 621, 1073, 986]),\n",
              " (9051, [433, 379, 196, 38, 5, 93, 126, 105, 68, 88]),\n",
              " (9052, [1, 11, 33, 28, 4, 27, 47, 50, 42, 16]),\n",
              " (9053, [33, 48, 220, 54, 68, 112, 326, 40, 389, 73]),\n",
              " (9054, [28, 17, 8, 27, 50, 44, 42, 662, 10, 1534]),\n",
              " (9057, [401, 22, 813, 1099, 93, 1581, 48, 14, 211, 238]),\n",
              " (9071, [343, 179, 596, 1451, 112, 3704, 63, 1181, 1049, 813]),\n",
              " (9085, [2007, 2150, 1368, 4133, 375, 7200, 95, 101, 438, 9706]),\n",
              " (9088, [2444, 112, 283, 68, 54, 490, 380, 1621, 69, 359]),\n",
              " (9100, [751, 11, 160, 244, 12, 201, 259, 253, 59, 956]),\n",
              " (9105, [132, 566, 95, 891, 220, 49, 10516, 465, 326, 4]),\n",
              " (9119, [205, 23, 4035, 71, 117, 37, 89, 17, 1107, 725]),\n",
              " (9126, [1096, 2, 178, 94, 3126, 433, 1725, 399, 1237, 1286]),\n",
              " (9148, [129, 430, 9678, 198, 13, 9124, 109, 18293, 20479, 9677]),\n",
              " (9177, [2565, 66, 77, 281, 8, 129, 3454, 138, 639, 22]),\n",
              " (9195, [537, 1067, 45, 1893, 47, 2771, 50, 42, 4247, 465]),\n",
              " (9197, [2121, 28, 262, 4, 76, 613, 2120, 636, 3162, 249]),\n",
              " (9208, [112, 952, 385, 1833, 29, 10564, 1415, 4, 2, 5393]),\n",
              " (9210, [129, 242, 573, 96, 138, 182, 324, 764, 636, 2611]),\n",
              " (9214, [1794, 571, 264, 5737, 2, 2482, 739, 3335, 964, 1667]),\n",
              " (9230, [1359, 692, 28, 580, 917, 4, 47, 347, 329, 27]),\n",
              " (9265, [313, 430, 1382, 1286, 324, 19079, 344, 35, 907, 2761]),\n",
              " (9278, [12978, 8, 301, 2406, 80, 174, 9881, 1, 181, 36]),\n",
              " (9287, [13057, 7303, 4782, 15305, 3, 17067, 5338, 94, 11524, 13961]),\n",
              " (9289, [434, 10001, 1511, 2355, 1519, 513, 3602, 130, 1433, 112]),\n",
              " (9297, [13, 1618, 1411, 1535, 29, 9, 1715, 1883, 1425, 308]),\n",
              " (9298, [264, 739, 67, 90, 1028, 112, 5106, 11, 1365, 97]),\n",
              " (9305, [733, 1776, 299, 1090, 34, 2962, 4076, 3609, 129, 4082]),\n",
              " (9306, [39, 764, 76, 636, 43, 29, 1, 98, 5, 156]),\n",
              " (9317, [88, 279, 80, 265, 662, 174, 96, 1534, 1715, 36]),\n",
              " (9318, [342, 275, 22, 5154, 71, 4706, 7397, 1628, 2236, 1686]),\n",
              " (9335, [249, 299, 1273, 1560, 242, 388, 261, 313, 220, 292]),\n",
              " (9341, [203, 841, 214, 1497, 211, 1537, 905, 358, 1127, 520]),\n",
              " (9343, [1, 38, 66, 203, 116, 214, 148, 154, 175, 211]),\n",
              " (9345, [8, 465, 191, 537, 66, 60, 792, 148, 2, 1024]),\n",
              " (9363, [15, 101, 1, 36, 354, 93, 270, 17, 14234, 506]),\n",
              " (9365, [138, 32, 11419, 4, 8, 77, 17, 28, 60, 746]),\n",
              " (9383, [7559, 2542, 5598, 8731, 39, 4898, 7193, 8310, 3691, 7557]),\n",
              " ...]"
            ]
          },
          "metadata": {},
          "execution_count": 33
        }
      ],
      "source": [
        "submission"
      ]
    },
    {
      "cell_type": "code",
      "execution_count": 34,
      "metadata": {
        "id": "AuuEFD83-OVp"
      },
      "outputs": [],
      "source": [
        "def write_submission(submissions):\n",
        "    with open(\"./submission.csv\", \"w\") as f:\n",
        "        f.write(\"user_id,item_list\\n\")\n",
        "        for user_id, items in submissions:\n",
        "            f.write(f\"{user_id},{' '.join([str(item) for item in items])}\\n\")\n"
      ]
    },
    {
      "cell_type": "code",
      "execution_count": 35,
      "metadata": {
        "id": "tQdu0QIw-VSU",
        "colab": {
          "base_uri": "https://localhost:8080/"
        },
        "outputId": "bc91e7c0-b434-487c-bfd5-f350cefd68f3"
      },
      "outputs": [
        {
          "output_type": "stream",
          "name": "stdout",
          "text": [
            "/gdrive/MyDrive/RECSYS\n"
          ]
        }
      ],
      "source": [
        "%cd /gdrive/MyDrive/RECSYS\n",
        "write_submission(submission)"
      ]
    },
    {
      "cell_type": "code",
      "execution_count": null,
      "metadata": {
        "id": "Zo6KGGEnLS1P"
      },
      "outputs": [],
      "source": []
    }
  ],
  "metadata": {
    "colab": {
      "provenance": [],
      "collapsed_sections": [
        "cSLGYEz0xKvB",
        "GnP3Qb-nzW3F",
        "1IB-Aujzz9OV",
        "GqvLoWjYOUXJ",
        "kf7c8Jck8MD7"
      ]
    },
    "kernelspec": {
      "display_name": "Python 3",
      "name": "python3"
    },
    "language_info": {
      "name": "python"
    }
  },
  "nbformat": 4,
  "nbformat_minor": 0
}