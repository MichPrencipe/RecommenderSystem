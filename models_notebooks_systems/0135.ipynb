{
  "cells": [
    {
      "cell_type": "markdown",
      "metadata": {
        "id": "cSLGYEz0xKvB"
      },
      "source": [
        "#Connect to drive"
      ]
    },
    {
      "cell_type": "code",
      "source": [
        "!git clone https://github.com/MaurizioFD/RecSys_Course_AT_PoliMi\n",
        "%cd RecSys_Course_AT_PoliMi\n",
        "!pip install -r requirements.txt\n",
        "!python run_compile_all_cython.py"
      ],
      "metadata": {
        "colab": {
          "base_uri": "https://localhost:8080/"
        },
        "id": "_8qb-w0XLoKs",
        "outputId": "e2fa3682-a97b-4a5d-8e49-2b185a54c867"
      },
      "execution_count": 1,
      "outputs": [
        {
          "output_type": "stream",
          "name": "stdout",
          "text": [
            "Cloning into 'RecSys_Course_AT_PoliMi'...\n",
            "remote: Enumerating objects: 1499, done.\u001b[K\n",
            "remote: Counting objects: 100% (244/244), done.\u001b[K\n",
            "remote: Compressing objects: 100% (142/142), done.\u001b[K\n",
            "remote: Total 1499 (delta 113), reused 231 (delta 100), pack-reused 1255\u001b[K\n",
            "Receiving objects: 100% (1499/1499), 50.98 MiB | 20.80 MiB/s, done.\n",
            "Resolving deltas: 100% (844/844), done.\n",
            "/content/RecSys_Course_AT_PoliMi\n",
            "Collecting Cython==0.29.23 (from -r requirements.txt (line 1))\n",
            "  Downloading Cython-0.29.23-py2.py3-none-any.whl (978 kB)\n",
            "\u001b[2K     \u001b[90m━━━━━━━━━━━━━━━━━━━━━━━━━━━━━━━━━━━━━━━━\u001b[0m \u001b[32m978.0/978.0 kB\u001b[0m \u001b[31m6.9 MB/s\u001b[0m eta \u001b[36m0:00:00\u001b[0m\n",
            "\u001b[?25hCollecting h5py==3.1.0 (from -r requirements.txt (line 2))\n",
            "  Downloading h5py-3.1.0.tar.gz (371 kB)\n",
            "\u001b[2K     \u001b[90m━━━━━━━━━━━━━━━━━━━━━━━━━━━━━━━━━━━━━━━━\u001b[0m \u001b[32m371.4/371.4 kB\u001b[0m \u001b[31m9.6 MB/s\u001b[0m eta \u001b[36m0:00:00\u001b[0m\n",
            "\u001b[?25h  Installing build dependencies ... \u001b[?25l\u001b[?25hdone\n",
            "  Getting requirements to build wheel ... \u001b[?25l\u001b[?25hdone\n",
            "  \u001b[1;31merror\u001b[0m: \u001b[1msubprocess-exited-with-error\u001b[0m\n",
            "  \n",
            "  \u001b[31m×\u001b[0m \u001b[32mpip subprocess to install backend dependencies\u001b[0m did not run successfully.\n",
            "  \u001b[31m│\u001b[0m exit code: \u001b[1;36m1\u001b[0m\n",
            "  \u001b[31m╰─>\u001b[0m See above for output.\n",
            "  \n",
            "  \u001b[1;35mnote\u001b[0m: This error originates from a subprocess, and is likely not a problem with pip.\n",
            "  Installing backend dependencies ... \u001b[?25l\u001b[?25herror\n",
            "\u001b[1;31merror\u001b[0m: \u001b[1msubprocess-exited-with-error\u001b[0m\n",
            "\n",
            "\u001b[31m×\u001b[0m \u001b[32mpip subprocess to install backend dependencies\u001b[0m did not run successfully.\n",
            "\u001b[31m│\u001b[0m exit code: \u001b[1;36m1\u001b[0m\n",
            "\u001b[31m╰─>\u001b[0m See above for output.\n",
            "\n",
            "\u001b[1;35mnote\u001b[0m: This error originates from a subprocess, and is likely not a problem with pip.\n",
            "run_compile_all_cython: Found 10 Cython files in 4 folders...\n",
            "run_compile_all_cython: All files will be compiled using your current python environment: '/usr/bin/python3'\n",
            "Compiling [1/10]: MatrixFactorization_Cython_Epoch.pyx... \n",
            "In file included from \u001b[01m\u001b[K/usr/local/lib/python3.10/dist-packages/numpy/core/include/numpy/ndarraytypes.h:1948\u001b[m\u001b[K,\n",
            "                 from \u001b[01m\u001b[K/usr/local/lib/python3.10/dist-packages/numpy/core/include/numpy/ndarrayobject.h:12\u001b[m\u001b[K,\n",
            "                 from \u001b[01m\u001b[K/usr/local/lib/python3.10/dist-packages/numpy/core/include/numpy/arrayobject.h:5\u001b[m\u001b[K,\n",
            "                 from \u001b[01m\u001b[KMatrixFactorization_Cython_Epoch.c:1217\u001b[m\u001b[K:\n",
            "\u001b[01m\u001b[K/usr/local/lib/python3.10/dist-packages/numpy/core/include/numpy/npy_1_7_deprecated_api.h:17:2:\u001b[m\u001b[K \u001b[01;35m\u001b[Kwarning: \u001b[m\u001b[K#warning \"Using deprecated NumPy API, disable it with \" \"#define NPY_NO_DEPRECATED_API NPY_1_7_API_VERSION\" [\u001b[01;35m\u001b[K\u001b]8;;https://gcc.gnu.org/onlinedocs/gcc/Warning-Options.html#index-Wcpp\u0007-Wcpp\u001b]8;;\u0007\u001b[m\u001b[K]\n",
            "   17 | #\u001b[01;35m\u001b[Kwarning\u001b[m\u001b[K \"Using deprecated NumPy API, disable it with \" \\\n",
            "      |  \u001b[01;35m\u001b[K^~~~~~~\u001b[m\u001b[K\n",
            "\u001b[01m\u001b[KMatrixFactorization_Cython_Epoch.c:\u001b[m\u001b[K In function ‘\u001b[01m\u001b[K__pyx_pf_32MatrixFactorization_Cython_Epoch_32MatrixFactorization_Cython_Epoch_10epochIteration_Cython_ASY_SVD_SGD\u001b[m\u001b[K’:\n",
            "\u001b[01m\u001b[KMatrixFactorization_Cython_Epoch.c:26251:68:\u001b[m\u001b[K \u001b[01;35m\u001b[Kwarning: \u001b[m\u001b[K‘\u001b[01m\u001b[K__pyx_v_end_pos_seen_items\u001b[m\u001b[K’ may be used uninitialized in this function [\u001b[01;35m\u001b[K\u001b]8;;https://gcc.gnu.org/onlinedocs/gcc/Warning-Options.html#index-Wmaybe-uninitialized\u0007-Wmaybe-uninitialized\u001b]8;;\u0007\u001b[m\u001b[K]\n",
            "26251 |         for (__pyx_t_21 = __pyx_v_start_pos_seen_items; \u001b[01;35m\u001b[K__pyx_t_21 < __pyx_t_20\u001b[m\u001b[K; __pyx_t_21+=1) {\n",
            "      |                                                         \u001b[01;35m\u001b[K~~~~~~~~~~~^~~~~~~~~~~~\u001b[m\u001b[K\n",
            "\u001b[01m\u001b[KMatrixFactorization_Cython_Epoch.c:26251:68:\u001b[m\u001b[K \u001b[01;35m\u001b[Kwarning: \u001b[m\u001b[K‘\u001b[01m\u001b[K__pyx_v_start_pos_seen_items\u001b[m\u001b[K’ may be used uninitialized in this function [\u001b[01;35m\u001b[K\u001b]8;;https://gcc.gnu.org/onlinedocs/gcc/Warning-Options.html#index-Wmaybe-uninitialized\u0007-Wmaybe-uninitialized\u001b]8;;\u0007\u001b[m\u001b[K]\n",
            "/usr/local/lib/python3.10/dist-packages/Cython/Compiler/Main.py:381: FutureWarning: Cython directive 'language_level' not set, using '3str' for now (Py3). This has changed from earlier releases! File: /content/RecSys_Course_AT_PoliMi/Recommenders/MatrixFactorization/Cython/MatrixFactorization_Cython_Epoch.pyx\n",
            "  tree = Parsing.p_module(s, pxd, full_module_name)\n",
            "Compiling [1/10]: MatrixFactorization_Cython_Epoch.pyx... PASS\n",
            "\n",
            "Compiling [2/10]: MatrixFactorizationImpressions_Cython_Epoch.pyx... \n",
            "In file included from \u001b[01m\u001b[K/usr/local/lib/python3.10/dist-packages/numpy/core/include/numpy/ndarraytypes.h:1948\u001b[m\u001b[K,\n",
            "                 from \u001b[01m\u001b[K/usr/local/lib/python3.10/dist-packages/numpy/core/include/numpy/ndarrayobject.h:12\u001b[m\u001b[K,\n",
            "                 from \u001b[01m\u001b[K/usr/local/lib/python3.10/dist-packages/numpy/core/include/numpy/arrayobject.h:5\u001b[m\u001b[K,\n",
            "                 from \u001b[01m\u001b[KMatrixFactorizationImpressions_Cython_Epoch.c:1217\u001b[m\u001b[K:\n",
            "\u001b[01m\u001b[K/usr/local/lib/python3.10/dist-packages/numpy/core/include/numpy/npy_1_7_deprecated_api.h:17:2:\u001b[m\u001b[K \u001b[01;35m\u001b[Kwarning: \u001b[m\u001b[K#warning \"Using deprecated NumPy API, disable it with \" \"#define NPY_NO_DEPRECATED_API NPY_1_7_API_VERSION\" [\u001b[01;35m\u001b[K\u001b]8;;https://gcc.gnu.org/onlinedocs/gcc/Warning-Options.html#index-Wcpp\u0007-Wcpp\u001b]8;;\u0007\u001b[m\u001b[K]\n",
            "   17 | #\u001b[01;35m\u001b[Kwarning\u001b[m\u001b[K \"Using deprecated NumPy API, disable it with \" \\\n",
            "      |  \u001b[01;35m\u001b[K^~~~~~~\u001b[m\u001b[K\n",
            "\u001b[01m\u001b[KMatrixFactorizationImpressions_Cython_Epoch.c:\u001b[m\u001b[K In function ‘\u001b[01m\u001b[K__pyx_f_43MatrixFactorizationImpressions_Cython_Epoch_32MatrixFactorization_Cython_Epoch_sampleBPR_Cython\u001b[m\u001b[K’:\n",
            "\u001b[01m\u001b[KMatrixFactorizationImpressions_Cython_Epoch.c:30373:17:\u001b[m\u001b[K \u001b[01;35m\u001b[Kwarning: \u001b[m\u001b[K‘\u001b[01m\u001b[K__pyx_v_start_pos_impression_items\u001b[m\u001b[K’ may be used uninitialized in this function [\u001b[01;35m\u001b[K\u001b]8;;https://gcc.gnu.org/onlinedocs/gcc/Warning-Options.html#index-Wmaybe-uninitialized\u0007-Wmaybe-uninitialized\u001b]8;;\u0007\u001b[m\u001b[K]\n",
            "30373 |       \u001b[01;35m\u001b[K__pyx_t_4 = (__pyx_v_start_pos_impression_items + __pyx_v_index)\u001b[m\u001b[K;\n",
            "      |       \u001b[01;35m\u001b[K~~~~~~~~~~^~~~~~~~~~~~~~~~~~~~~~~~~~~~~~~~~~~~~~~~~~~~~~~~~~~~~~\u001b[m\u001b[K\n",
            "\u001b[01m\u001b[KMatrixFactorizationImpressions_Cython_Epoch.c:\u001b[m\u001b[K In function ‘\u001b[01m\u001b[K__pyx_pf_43MatrixFactorizationImpressions_Cython_Epoch_32MatrixFactorization_Cython_Epoch_10epochIteration_Cython_ASY_SVD_SGD\u001b[m\u001b[K’:\n",
            "\u001b[01m\u001b[KMatrixFactorizationImpressions_Cython_Epoch.c:26107:66:\u001b[m\u001b[K \u001b[01;35m\u001b[Kwarning: \u001b[m\u001b[K‘\u001b[01m\u001b[K__pyx_v_end_pos_seen_items\u001b[m\u001b[K’ may be used uninitialized in this function [\u001b[01;35m\u001b[K\u001b]8;;https://gcc.gnu.org/onlinedocs/gcc/Warning-Options.html#index-Wmaybe-uninitialized\u0007-Wmaybe-uninitialized\u001b]8;;\u0007\u001b[m\u001b[K]\n",
            "26107 |       for (__pyx_t_21 = __pyx_v_start_pos_seen_items; \u001b[01;35m\u001b[K__pyx_t_21 < __pyx_t_20\u001b[m\u001b[K; __pyx_t_21+=1) {\n",
            "      |                                                       \u001b[01;35m\u001b[K~~~~~~~~~~~^~~~~~~~~~~~\u001b[m\u001b[K\n",
            "\u001b[01m\u001b[KMatrixFactorizationImpressions_Cython_Epoch.c:26107:66:\u001b[m\u001b[K \u001b[01;35m\u001b[Kwarning: \u001b[m\u001b[K‘\u001b[01m\u001b[K__pyx_v_start_pos_seen_items\u001b[m\u001b[K’ may be used uninitialized in this function [\u001b[01;35m\u001b[K\u001b]8;;https://gcc.gnu.org/onlinedocs/gcc/Warning-Options.html#index-Wmaybe-uninitialized\u0007-Wmaybe-uninitialized\u001b]8;;\u0007\u001b[m\u001b[K]\n",
            "/usr/local/lib/python3.10/dist-packages/Cython/Compiler/Main.py:381: FutureWarning: Cython directive 'language_level' not set, using '3str' for now (Py3). This has changed from earlier releases! File: /content/RecSys_Course_AT_PoliMi/Recommenders/MatrixFactorization/Cython/MatrixFactorizationImpressions_Cython_Epoch.pyx\n",
            "  tree = Parsing.p_module(s, pxd, full_module_name)\n",
            "Compiling [2/10]: MatrixFactorizationImpressions_Cython_Epoch.pyx... PASS\n",
            "\n",
            "Compiling [3/10]: Compute_Similarity_Cython.pyx... \n",
            "warning: Compute_Similarity_Cython.pyx:21:0: The 'IF' statement is deprecated and will be removed in a future Cython version. Consider using runtime conditions or C macros instead. See https://github.com/cython/cython/issues/4310\n",
            "In file included from \u001b[01m\u001b[K/usr/local/lib/python3.10/dist-packages/numpy/core/include/numpy/ndarraytypes.h:1948\u001b[m\u001b[K,\n",
            "                 from \u001b[01m\u001b[K/usr/local/lib/python3.10/dist-packages/numpy/core/include/numpy/ndarrayobject.h:12\u001b[m\u001b[K,\n",
            "                 from \u001b[01m\u001b[K/usr/local/lib/python3.10/dist-packages/numpy/core/include/numpy/arrayobject.h:5\u001b[m\u001b[K,\n",
            "                 from \u001b[01m\u001b[KCompute_Similarity_Cython.c:1217\u001b[m\u001b[K:\n",
            "\u001b[01m\u001b[K/usr/local/lib/python3.10/dist-packages/numpy/core/include/numpy/npy_1_7_deprecated_api.h:17:2:\u001b[m\u001b[K \u001b[01;35m\u001b[Kwarning: \u001b[m\u001b[K#warning \"Using deprecated NumPy API, disable it with \" \"#define NPY_NO_DEPRECATED_API NPY_1_7_API_VERSION\" [\u001b[01;35m\u001b[K\u001b]8;;https://gcc.gnu.org/onlinedocs/gcc/Warning-Options.html#index-Wcpp\u0007-Wcpp\u001b]8;;\u0007\u001b[m\u001b[K]\n",
            "   17 | #\u001b[01;35m\u001b[Kwarning\u001b[m\u001b[K \"Using deprecated NumPy API, disable it with \" \\\n",
            "      |  \u001b[01;35m\u001b[K^~~~~~~\u001b[m\u001b[K\n",
            "/usr/local/lib/python3.10/dist-packages/Cython/Compiler/Main.py:381: FutureWarning: Cython directive 'language_level' not set, using '3str' for now (Py3). This has changed from earlier releases! File: /content/RecSys_Course_AT_PoliMi/Recommenders/Similarity/Cython/Compute_Similarity_Cython.pyx\n",
            "  tree = Parsing.p_module(s, pxd, full_module_name)\n",
            "warning: Compute_Similarity_Cython.pyx:21:0: The 'IF' statement is deprecated and will be removed in a future Cython version. Consider using runtime conditions or C macros instead. See https://github.com/cython/cython/issues/4310\n",
            "Compiling [3/10]: Compute_Similarity_Cython.pyx... PASS\n",
            "\n",
            "Compiling [4/10]: Triangular_Matrix.pyx... \n",
            "warning: Triangular_Matrix.pyx:22:0: The 'IF' statement is deprecated and will be removed in a future Cython version. Consider using runtime conditions or C macros instead. See https://github.com/cython/cython/issues/4310\n",
            "In file included from \u001b[01m\u001b[K/usr/local/lib/python3.10/dist-packages/numpy/core/include/numpy/ndarraytypes.h:1948\u001b[m\u001b[K,\n",
            "                 from \u001b[01m\u001b[K/usr/local/lib/python3.10/dist-packages/numpy/core/include/numpy/ndarrayobject.h:12\u001b[m\u001b[K,\n",
            "                 from \u001b[01m\u001b[K/usr/local/lib/python3.10/dist-packages/numpy/core/include/numpy/arrayobject.h:5\u001b[m\u001b[K,\n",
            "                 from \u001b[01m\u001b[KTriangular_Matrix.c:1217\u001b[m\u001b[K:\n",
            "\u001b[01m\u001b[K/usr/local/lib/python3.10/dist-packages/numpy/core/include/numpy/npy_1_7_deprecated_api.h:17:2:\u001b[m\u001b[K \u001b[01;35m\u001b[Kwarning: \u001b[m\u001b[K#warning \"Using deprecated NumPy API, disable it with \" \"#define NPY_NO_DEPRECATED_API NPY_1_7_API_VERSION\" [\u001b[01;35m\u001b[K\u001b]8;;https://gcc.gnu.org/onlinedocs/gcc/Warning-Options.html#index-Wcpp\u0007-Wcpp\u001b]8;;\u0007\u001b[m\u001b[K]\n",
            "   17 | #\u001b[01;35m\u001b[Kwarning\u001b[m\u001b[K \"Using deprecated NumPy API, disable it with \" \\\n",
            "      |  \u001b[01;35m\u001b[K^~~~~~~\u001b[m\u001b[K\n",
            "In function ‘\u001b[01m\u001b[K__pyx_pf_17Triangular_Matrix_17Triangular_Matrix___init__\u001b[m\u001b[K’,\n",
            "    inlined from ‘\u001b[01m\u001b[K__pyx_pw_17Triangular_Matrix_17Triangular_Matrix_1__init__\u001b[m\u001b[K’ at \u001b[01m\u001b[KTriangular_Matrix.c:5532:13\u001b[m\u001b[K:\n",
            "\u001b[01m\u001b[KTriangular_Matrix.c:5590:43:\u001b[m\u001b[K \u001b[01;35m\u001b[Kwarning: \u001b[m\u001b[Kargument 1 value ‘\u001b[01m\u001b[K18446744073709551608\u001b[m\u001b[K’ exceeds maximum object size 9223372036854775807 [\u001b[01;35m\u001b[K\u001b]8;;https://gcc.gnu.org/onlinedocs/gcc/Warning-Options.html#index-Walloc-size-larger-than=\u0007-Walloc-size-larger-than=\u001b]8;;\u0007\u001b[m\u001b[K]\n",
            " 5590 |   __pyx_v_self->row_pointer = ((double **)\u001b[01;35m\u001b[Kmalloc((__pyx_v_self->num_rows * (sizeof(double *))))\u001b[m\u001b[K);\n",
            "      |                                           \u001b[01;35m\u001b[K^~~~~~~~~~~~~~~~~~~~~~~~~~~~~~~~~~~~~~~~~~~~~~~~~~~~~\u001b[m\u001b[K\n",
            "In file included from \u001b[01m\u001b[K/usr/include/python3.10/Python.h:34\u001b[m\u001b[K,\n",
            "                 from \u001b[01m\u001b[KTriangular_Matrix.c:41\u001b[m\u001b[K:\n",
            "\u001b[01m\u001b[KTriangular_Matrix.c:\u001b[m\u001b[K In function ‘\u001b[01m\u001b[K__pyx_pw_17Triangular_Matrix_17Triangular_Matrix_1__init__\u001b[m\u001b[K’:\n",
            "\u001b[01m\u001b[K/usr/include/stdlib.h:540:14:\u001b[m\u001b[K \u001b[01;36m\u001b[Knote: \u001b[m\u001b[Kin a call to allocation function ‘\u001b[01m\u001b[Kmalloc\u001b[m\u001b[K’ declared here\n",
            "  540 | extern void *\u001b[01;36m\u001b[Kmalloc\u001b[m\u001b[K (size_t __size) __THROW __attribute_malloc__\n",
            "      |              \u001b[01;36m\u001b[K^~~~~~\u001b[m\u001b[K\n",
            "/usr/local/lib/python3.10/dist-packages/Cython/Compiler/Main.py:381: FutureWarning: Cython directive 'language_level' not set, using '3str' for now (Py3). This has changed from earlier releases! File: /content/RecSys_Course_AT_PoliMi/Recommenders/SLIM/Cython/Triangular_Matrix.pyx\n",
            "  tree = Parsing.p_module(s, pxd, full_module_name)\n",
            "warning: Triangular_Matrix.pyx:22:0: The 'IF' statement is deprecated and will be removed in a future Cython version. Consider using runtime conditions or C macros instead. See https://github.com/cython/cython/issues/4310\n",
            "Compiling [4/10]: Triangular_Matrix.pyx... PASS\n",
            "\n",
            "Compiling [5/10]: SLIM_BPR_Cython_Epoch.pyx... \n",
            "warning: SLIM_BPR_Cython_Epoch.pyx:24:0: The 'IF' statement is deprecated and will be removed in a future Cython version. Consider using runtime conditions or C macros instead. See https://github.com/cython/cython/issues/4310\n",
            "warning: SLIM_BPR_Cython_Epoch.pyx:632:34: Non-trivial type declarators in shared declaration (e.g. mix of pointers and values). Each pointer declaration should be on its own line.\n",
            "warning: SLIM_BPR_Cython_Epoch.pyx:632:66: Non-trivial type declarators in shared declaration (e.g. mix of pointers and values). Each pointer declaration should be on its own line.\n",
            "warning: SLIM_BPR_Cython_Epoch.pyx:817:35: Non-trivial type declarators in shared declaration (e.g. mix of pointers and values). Each pointer declaration should be on its own line.\n",
            "warning: SLIM_BPR_Cython_Epoch.pyx:817:52: Non-trivial type declarators in shared declaration (e.g. mix of pointers and values). Each pointer declaration should be on its own line.\n",
            "warning: SLIM_BPR_Cython_Epoch.pyx:916:35: Non-trivial type declarators in shared declaration (e.g. mix of pointers and values). Each pointer declaration should be on its own line.\n",
            "warning: SLIM_BPR_Cython_Epoch.pyx:916:53: Non-trivial type declarators in shared declaration (e.g. mix of pointers and values). Each pointer declaration should be on its own line.\n",
            "warning: SLIM_BPR_Cython_Epoch.pyx:916:69: Non-trivial type declarators in shared declaration (e.g. mix of pointers and values). Each pointer declaration should be on its own line.\n",
            "warning: SLIM_BPR_Cython_Epoch.pyx:1051:35: Non-trivial type declarators in shared declaration (e.g. mix of pointers and values). Each pointer declaration should be on its own line.\n",
            "warning: SLIM_BPR_Cython_Epoch.pyx:1051:42: Non-trivial type declarators in shared declaration (e.g. mix of pointers and values). Each pointer declaration should be on its own line.\n",
            "warning: SLIM_BPR_Cython_Epoch.pyx:1052:35: Non-trivial type declarators in shared declaration (e.g. mix of pointers and values). Each pointer declaration should be on its own line.\n",
            "warning: SLIM_BPR_Cython_Epoch.pyx:1052:53: Non-trivial type declarators in shared declaration (e.g. mix of pointers and values). Each pointer declaration should be on its own line.\n",
            "\n",
            "Error compiling Cython file:\n",
            "------------------------------------------------------------\n",
            "...\n",
            "            vector_pointer_to_list_elements[index].head = current_element\n",
            "            current_element = current_element.higher\n",
            "\n",
            "\n",
            "        # Sort array elements on their data field\n",
            "        qsort(vector_pointer_to_list_elements, list_length, sizeof(head_pointer_tree_s), compare_struct_on_data)\n",
            "                                                                                         ^\n",
            "------------------------------------------------------------\n",
            "\n",
            "SLIM_BPR_Cython_Epoch.pyx:990:89: Cannot assign type 'int (const void *, const void *) except? -1' to 'int (*)(const_void *, const_void *) noexcept'. Exception values are incompatible. Suggest adding 'noexcept' to type 'int (const void *, const void *) except? -1'.\n",
            "\n",
            "Error compiling Cython file:\n",
            "------------------------------------------------------------\n",
            "...\n",
            "        # Sort array elements on their data field\n",
            "        qsort(vector_pointer_to_list_elements, list_length, sizeof(head_pointer_tree_s), compare_struct_on_data)\n",
            "\n",
            "        # Sort only the TopK according to their column field\n",
            "        # Sort is from lower to higher, therefore the elements to be considered are from len-topK to len\n",
            "        qsort(&vector_pointer_to_list_elements[list_length-TopK], TopK, sizeof(head_pointer_tree_s), compare_struct_on_column)\n",
            "                                                                                                     ^\n",
            "------------------------------------------------------------\n",
            "\n",
            "SLIM_BPR_Cython_Epoch.pyx:994:101: Cannot assign type 'int (const void *, const void *) except? -1' to 'int (*)(const_void *, const_void *) noexcept'. Exception values are incompatible. Suggest adding 'noexcept' to type 'int (const void *, const void *) except? -1'.\n",
            "Traceback (most recent call last):\n",
            "  File \"/content/RecSys_Course_AT_PoliMi/CythonCompiler/compile_script.py\", line 48, in <module>\n",
            "    setup(\n",
            "  File \"/usr/local/lib/python3.10/dist-packages/setuptools/__init__.py\", line 107, in setup\n",
            "    return distutils.core.setup(**attrs)\n",
            "  File \"/usr/local/lib/python3.10/dist-packages/setuptools/_distutils/core.py\", line 185, in setup\n",
            "    return run_commands(dist)\n",
            "  File \"/usr/local/lib/python3.10/dist-packages/setuptools/_distutils/core.py\", line 201, in run_commands\n",
            "    dist.run_commands()\n",
            "  File \"/usr/local/lib/python3.10/dist-packages/setuptools/_distutils/dist.py\", line 969, in run_commands\n",
            "    self.run_command(cmd)\n",
            "  File \"/usr/local/lib/python3.10/dist-packages/setuptools/dist.py\", line 1244, in run_command\n",
            "    super().run_command(command)\n",
            "  File \"/usr/local/lib/python3.10/dist-packages/setuptools/_distutils/dist.py\", line 988, in run_command\n",
            "    cmd_obj.run()\n",
            "  File \"/usr/local/lib/python3.10/dist-packages/setuptools/_distutils/command/build_ext.py\", line 345, in run\n",
            "    self.build_extensions()\n",
            "  File \"/usr/local/lib/python3.10/dist-packages/setuptools/_distutils/command/build_ext.py\", line 467, in build_extensions\n",
            "    self._build_extensions_serial()\n",
            "  File \"/usr/local/lib/python3.10/dist-packages/setuptools/_distutils/command/build_ext.py\", line 493, in _build_extensions_serial\n",
            "    self.build_extension(ext)\n",
            "  File \"/usr/local/lib/python3.10/dist-packages/Cython/Distutils/build_ext.py\", line 130, in build_extension\n",
            "    new_ext = cythonize(\n",
            "  File \"/usr/local/lib/python3.10/dist-packages/Cython/Build/Dependencies.py\", line 1154, in cythonize\n",
            "    cythonize_one(*args)\n",
            "  File \"/usr/local/lib/python3.10/dist-packages/Cython/Build/Dependencies.py\", line 1321, in cythonize_one\n",
            "    raise CompileError(None, pyx_file)\n",
            "Cython.Compiler.Errors.CompileError: SLIM_BPR_Cython_Epoch.pyx\n",
            "Traceback (most recent call last):\n",
            "  File \"/content/RecSys_Course_AT_PoliMi/run_compile_all_cython.py\", line 59, in <module>\n",
            "    run_compile_subprocess(file_path, [file_name])\n",
            "  File \"/content/RecSys_Course_AT_PoliMi/CythonCompiler/run_compile_subprocess.py\", line 51, in run_compile_subprocess\n",
            "    raise exc\n",
            "  File \"/content/RecSys_Course_AT_PoliMi/CythonCompiler/run_compile_subprocess.py\", line 32, in run_compile_subprocess\n",
            "    output = subprocess.check_output(' '.join(command),\n",
            "  File \"/usr/lib/python3.10/subprocess.py\", line 421, in check_output\n",
            "    return run(*popenargs, stdout=PIPE, timeout=timeout, check=True,\n",
            "  File \"/usr/lib/python3.10/subprocess.py\", line 526, in run\n",
            "    raise CalledProcessError(retcode, process.args,\n",
            "subprocess.CalledProcessError: Command '/usr/bin/python3 /content/RecSys_Course_AT_PoliMi/CythonCompiler/compile_script.py SLIM_BPR_Cython_Epoch.pyx build_ext --inplace' returned non-zero exit status 1.\n",
            "Compiling [5/10]: SLIM_BPR_Cython_Epoch.pyx... FAIL: Command '/usr/bin/python3 /content/RecSys_Course_AT_PoliMi/CythonCompiler/compile_script.py SLIM_BPR_Cython_Epoch.pyx build_ext --inplace' returned non-zero exit status 1.\n",
            "\n",
            "Compiling [6/10]: Sparse_Matrix_Tree_CSR.pyx... \n",
            "warning: Sparse_Matrix_Tree_CSR.pyx:132:34: Non-trivial type declarators in shared declaration (e.g. mix of pointers and values). Each pointer declaration should be on its own line.\n",
            "warning: Sparse_Matrix_Tree_CSR.pyx:132:66: Non-trivial type declarators in shared declaration (e.g. mix of pointers and values). Each pointer declaration should be on its own line.\n",
            "warning: Sparse_Matrix_Tree_CSR.pyx:343:35: Non-trivial type declarators in shared declaration (e.g. mix of pointers and values). Each pointer declaration should be on its own line.\n",
            "warning: Sparse_Matrix_Tree_CSR.pyx:343:52: Non-trivial type declarators in shared declaration (e.g. mix of pointers and values). Each pointer declaration should be on its own line.\n",
            "warning: Sparse_Matrix_Tree_CSR.pyx:442:35: Non-trivial type declarators in shared declaration (e.g. mix of pointers and values). Each pointer declaration should be on its own line.\n",
            "warning: Sparse_Matrix_Tree_CSR.pyx:442:53: Non-trivial type declarators in shared declaration (e.g. mix of pointers and values). Each pointer declaration should be on its own line.\n",
            "warning: Sparse_Matrix_Tree_CSR.pyx:442:69: Non-trivial type declarators in shared declaration (e.g. mix of pointers and values). Each pointer declaration should be on its own line.\n",
            "warning: Sparse_Matrix_Tree_CSR.pyx:577:35: Non-trivial type declarators in shared declaration (e.g. mix of pointers and values). Each pointer declaration should be on its own line.\n",
            "warning: Sparse_Matrix_Tree_CSR.pyx:577:42: Non-trivial type declarators in shared declaration (e.g. mix of pointers and values). Each pointer declaration should be on its own line.\n",
            "warning: Sparse_Matrix_Tree_CSR.pyx:578:35: Non-trivial type declarators in shared declaration (e.g. mix of pointers and values). Each pointer declaration should be on its own line.\n",
            "warning: Sparse_Matrix_Tree_CSR.pyx:578:53: Non-trivial type declarators in shared declaration (e.g. mix of pointers and values). Each pointer declaration should be on its own line.\n",
            "\n",
            "Error compiling Cython file:\n",
            "------------------------------------------------------------\n",
            "...\n",
            "            vector_pointer_to_list_elements[index].head = current_element\n",
            "            current_element = current_element.higher\n",
            "\n",
            "\n",
            "        # Sort array elements on their data field\n",
            "        qsort(vector_pointer_to_list_elements, list_length, sizeof(head_pointer_tree_s), compare_struct_on_data)\n",
            "                                                                                         ^\n",
            "------------------------------------------------------------\n",
            "\n",
            "Sparse_Matrix_Tree_CSR.pyx:516:89: Cannot assign type 'int (const void *, const void *) except? -1' to 'int (*)(const_void *, const_void *) noexcept'. Exception values are incompatible. Suggest adding 'noexcept' to type 'int (const void *, const void *) except? -1'.\n",
            "\n",
            "Error compiling Cython file:\n",
            "------------------------------------------------------------\n",
            "...\n",
            "        # Sort array elements on their data field\n",
            "        qsort(vector_pointer_to_list_elements, list_length, sizeof(head_pointer_tree_s), compare_struct_on_data)\n",
            "\n",
            "        # Sort only the TopK according to their column field\n",
            "        # Sort is from lower to higher, therefore the elements to be considered are from len-topK to len\n",
            "        qsort(&vector_pointer_to_list_elements[list_length-TopK], TopK, sizeof(head_pointer_tree_s), compare_struct_on_column)\n",
            "                                                                                                     ^\n",
            "------------------------------------------------------------\n",
            "\n",
            "Sparse_Matrix_Tree_CSR.pyx:520:101: Cannot assign type 'int (const void *, const void *) except? -1' to 'int (*)(const_void *, const_void *) noexcept'. Exception values are incompatible. Suggest adding 'noexcept' to type 'int (const void *, const void *) except? -1'.\n",
            "Traceback (most recent call last):\n",
            "  File \"/content/RecSys_Course_AT_PoliMi/CythonCompiler/compile_script.py\", line 48, in <module>\n",
            "    setup(\n",
            "  File \"/usr/local/lib/python3.10/dist-packages/setuptools/__init__.py\", line 107, in setup\n",
            "    return distutils.core.setup(**attrs)\n",
            "  File \"/usr/local/lib/python3.10/dist-packages/setuptools/_distutils/core.py\", line 185, in setup\n",
            "    return run_commands(dist)\n",
            "  File \"/usr/local/lib/python3.10/dist-packages/setuptools/_distutils/core.py\", line 201, in run_commands\n",
            "    dist.run_commands()\n",
            "  File \"/usr/local/lib/python3.10/dist-packages/setuptools/_distutils/dist.py\", line 969, in run_commands\n",
            "    self.run_command(cmd)\n",
            "  File \"/usr/local/lib/python3.10/dist-packages/setuptools/dist.py\", line 1244, in run_command\n",
            "    super().run_command(command)\n",
            "  File \"/usr/local/lib/python3.10/dist-packages/setuptools/_distutils/dist.py\", line 988, in run_command\n",
            "    cmd_obj.run()\n",
            "  File \"/usr/local/lib/python3.10/dist-packages/setuptools/_distutils/command/build_ext.py\", line 345, in run\n",
            "    self.build_extensions()\n",
            "  File \"/usr/local/lib/python3.10/dist-packages/setuptools/_distutils/command/build_ext.py\", line 467, in build_extensions\n",
            "    self._build_extensions_serial()\n",
            "  File \"/usr/local/lib/python3.10/dist-packages/setuptools/_distutils/command/build_ext.py\", line 493, in _build_extensions_serial\n",
            "    self.build_extension(ext)\n",
            "  File \"/usr/local/lib/python3.10/dist-packages/Cython/Distutils/build_ext.py\", line 130, in build_extension\n",
            "    new_ext = cythonize(\n",
            "  File \"/usr/local/lib/python3.10/dist-packages/Cython/Build/Dependencies.py\", line 1154, in cythonize\n",
            "    cythonize_one(*args)\n",
            "  File \"/usr/local/lib/python3.10/dist-packages/Cython/Build/Dependencies.py\", line 1321, in cythonize_one\n",
            "    raise CompileError(None, pyx_file)\n",
            "Cython.Compiler.Errors.CompileError: Sparse_Matrix_Tree_CSR.pyx\n",
            "Traceback (most recent call last):\n",
            "  File \"/content/RecSys_Course_AT_PoliMi/run_compile_all_cython.py\", line 59, in <module>\n",
            "    run_compile_subprocess(file_path, [file_name])\n",
            "  File \"/content/RecSys_Course_AT_PoliMi/CythonCompiler/run_compile_subprocess.py\", line 51, in run_compile_subprocess\n",
            "    raise exc\n",
            "  File \"/content/RecSys_Course_AT_PoliMi/CythonCompiler/run_compile_subprocess.py\", line 32, in run_compile_subprocess\n",
            "    output = subprocess.check_output(' '.join(command),\n",
            "  File \"/usr/lib/python3.10/subprocess.py\", line 421, in check_output\n",
            "    return run(*popenargs, stdout=PIPE, timeout=timeout, check=True,\n",
            "  File \"/usr/lib/python3.10/subprocess.py\", line 526, in run\n",
            "    raise CalledProcessError(retcode, process.args,\n",
            "subprocess.CalledProcessError: Command '/usr/bin/python3 /content/RecSys_Course_AT_PoliMi/CythonCompiler/compile_script.py Sparse_Matrix_Tree_CSR.pyx build_ext --inplace' returned non-zero exit status 1.\n",
            "Compiling [6/10]: Sparse_Matrix_Tree_CSR.pyx... FAIL: Command '/usr/bin/python3 /content/RecSys_Course_AT_PoliMi/CythonCompiler/compile_script.py Sparse_Matrix_Tree_CSR.pyx build_ext --inplace' returned non-zero exit status 1.\n",
            "\n",
            "Compiling [7/10]: FBSM_Rating_Cython_SGD.pyx... \n",
            "In file included from \u001b[01m\u001b[K/usr/local/lib/python3.10/dist-packages/numpy/core/include/numpy/ndarraytypes.h:1948\u001b[m\u001b[K,\n",
            "                 from \u001b[01m\u001b[K/usr/local/lib/python3.10/dist-packages/numpy/core/include/numpy/ndarrayobject.h:12\u001b[m\u001b[K,\n",
            "                 from \u001b[01m\u001b[K/usr/local/lib/python3.10/dist-packages/numpy/core/include/numpy/arrayobject.h:5\u001b[m\u001b[K,\n",
            "                 from \u001b[01m\u001b[KFBSM_Rating_Cython_SGD.c:1217\u001b[m\u001b[K:\n",
            "\u001b[01m\u001b[K/usr/local/lib/python3.10/dist-packages/numpy/core/include/numpy/npy_1_7_deprecated_api.h:17:2:\u001b[m\u001b[K \u001b[01;35m\u001b[Kwarning: \u001b[m\u001b[K#warning \"Using deprecated NumPy API, disable it with \" \"#define NPY_NO_DEPRECATED_API NPY_1_7_API_VERSION\" [\u001b[01;35m\u001b[K\u001b]8;;https://gcc.gnu.org/onlinedocs/gcc/Warning-Options.html#index-Wcpp\u0007-Wcpp\u001b]8;;\u0007\u001b[m\u001b[K]\n",
            "   17 | #\u001b[01;35m\u001b[Kwarning\u001b[m\u001b[K \"Using deprecated NumPy API, disable it with \" \\\n",
            "      |  \u001b[01;35m\u001b[K^~~~~~~\u001b[m\u001b[K\n",
            "\u001b[01m\u001b[KFBSM_Rating_Cython_SGD.c:\u001b[m\u001b[K In function ‘\u001b[01m\u001b[K__pyx_pf_22FBSM_Rating_Cython_SGD_22FBSM_Rating_Cython_SGD_2fit\u001b[m\u001b[K’:\n",
            "\u001b[01m\u001b[KFBSM_Rating_Cython_SGD.c:26598:55:\u001b[m\u001b[K \u001b[01;35m\u001b[Kwarning: \u001b[m\u001b[K‘\u001b[01m\u001b[K__pyx_v_num_sample\u001b[m\u001b[K’ may be used uninitialized in this function [\u001b[01;35m\u001b[K\u001b]8;;https://gcc.gnu.org/onlinedocs/gcc/Warning-Options.html#index-Wmaybe-uninitialized\u0007-Wmaybe-uninitialized\u001b]8;;\u0007\u001b[m\u001b[K]\n",
            "26598 |   __pyx_t_5 = PyFloat_FromDouble((__pyx_v_cum_loss / \u001b[01;35m\u001b[K((double)__pyx_v_num_sample)\u001b[m\u001b[K)); if (unlikely(!__pyx_t_5)) __PYX_ERR(0, 551, __pyx_L1_error)\n",
            "      |                                                      \u001b[01;35m\u001b[K~^~~~~~~~~~~~~~~~~~~~~~~~~~~\u001b[m\u001b[K\n",
            "/usr/local/lib/python3.10/dist-packages/Cython/Compiler/Main.py:381: FutureWarning: Cython directive 'language_level' not set, using '3str' for now (Py3). This has changed from earlier releases! File: /content/RecSys_Course_AT_PoliMi/Recommenders/FeatureWeighting/Cython/FBSM_Rating_Cython_SGD.pyx\n",
            "  tree = Parsing.p_module(s, pxd, full_module_name)\n",
            "Compiling [7/10]: FBSM_Rating_Cython_SGD.pyx... PASS\n",
            "\n",
            "Compiling [8/10]: CFW_DVV_Similarity_Cython_SGD.pyx... \n",
            "In file included from \u001b[01m\u001b[K/usr/local/lib/python3.10/dist-packages/numpy/core/include/numpy/ndarraytypes.h:1948\u001b[m\u001b[K,\n",
            "                 from \u001b[01m\u001b[K/usr/local/lib/python3.10/dist-packages/numpy/core/include/numpy/ndarrayobject.h:12\u001b[m\u001b[K,\n",
            "                 from \u001b[01m\u001b[K/usr/local/lib/python3.10/dist-packages/numpy/core/include/numpy/arrayobject.h:5\u001b[m\u001b[K,\n",
            "                 from \u001b[01m\u001b[KCFW_DVV_Similarity_Cython_SGD.c:1217\u001b[m\u001b[K:\n",
            "\u001b[01m\u001b[K/usr/local/lib/python3.10/dist-packages/numpy/core/include/numpy/npy_1_7_deprecated_api.h:17:2:\u001b[m\u001b[K \u001b[01;35m\u001b[Kwarning: \u001b[m\u001b[K#warning \"Using deprecated NumPy API, disable it with \" \"#define NPY_NO_DEPRECATED_API NPY_1_7_API_VERSION\" [\u001b[01;35m\u001b[K\u001b]8;;https://gcc.gnu.org/onlinedocs/gcc/Warning-Options.html#index-Wcpp\u0007-Wcpp\u001b]8;;\u0007\u001b[m\u001b[K]\n",
            "   17 | #\u001b[01;35m\u001b[Kwarning\u001b[m\u001b[K \"Using deprecated NumPy API, disable it with \" \\\n",
            "      |  \u001b[01;35m\u001b[K^~~~~~~\u001b[m\u001b[K\n",
            "/usr/local/lib/python3.10/dist-packages/Cython/Compiler/Main.py:381: FutureWarning: Cython directive 'language_level' not set, using '3str' for now (Py3). This has changed from earlier releases! File: /content/RecSys_Course_AT_PoliMi/Recommenders/FeatureWeighting/Cython/CFW_DVV_Similarity_Cython_SGD.pyx\n",
            "  tree = Parsing.p_module(s, pxd, full_module_name)\n",
            "Compiling [8/10]: CFW_DVV_Similarity_Cython_SGD.pyx... PASS\n",
            "\n",
            "Compiling [9/10]: HP3_Similarity_Cython_SGD.pyx... \n",
            "performance hint: HP3_Similarity_Cython_SGD.pyx:113:40: Index should be typed for more efficient access\n",
            "performance hint: HP3_Similarity_Cython_SGD.pyx:114:40: Index should be typed for more efficient access\n",
            "In file included from \u001b[01m\u001b[K/usr/local/lib/python3.10/dist-packages/numpy/core/include/numpy/ndarraytypes.h:1948\u001b[m\u001b[K,\n",
            "                 from \u001b[01m\u001b[K/usr/local/lib/python3.10/dist-packages/numpy/core/include/numpy/ndarrayobject.h:12\u001b[m\u001b[K,\n",
            "                 from \u001b[01m\u001b[K/usr/local/lib/python3.10/dist-packages/numpy/core/include/numpy/arrayobject.h:5\u001b[m\u001b[K,\n",
            "                 from \u001b[01m\u001b[KHP3_Similarity_Cython_SGD.c:1217\u001b[m\u001b[K:\n",
            "\u001b[01m\u001b[K/usr/local/lib/python3.10/dist-packages/numpy/core/include/numpy/npy_1_7_deprecated_api.h:17:2:\u001b[m\u001b[K \u001b[01;35m\u001b[Kwarning: \u001b[m\u001b[K#warning \"Using deprecated NumPy API, disable it with \" \"#define NPY_NO_DEPRECATED_API NPY_1_7_API_VERSION\" [\u001b[01;35m\u001b[K\u001b]8;;https://gcc.gnu.org/onlinedocs/gcc/Warning-Options.html#index-Wcpp\u0007-Wcpp\u001b]8;;\u0007\u001b[m\u001b[K]\n",
            "   17 | #\u001b[01;35m\u001b[Kwarning\u001b[m\u001b[K \"Using deprecated NumPy API, disable it with \" \\\n",
            "      |  \u001b[01;35m\u001b[K^~~~~~~\u001b[m\u001b[K\n",
            "\u001b[01m\u001b[KHP3_Similarity_Cython_SGD.c:\u001b[m\u001b[K In function ‘\u001b[01m\u001b[K__pyx_pf_25HP3_Similarity_Cython_SGD_25HP3_Similarity_Cython_SGD_4fit\u001b[m\u001b[K’:\n",
            "\u001b[01m\u001b[KHP3_Similarity_Cython_SGD.c:23633:55:\u001b[m\u001b[K \u001b[01;35m\u001b[Kwarning: \u001b[m\u001b[K‘\u001b[01m\u001b[K__pyx_v_sample_num\u001b[m\u001b[K’ may be used uninitialized in this function [\u001b[01;35m\u001b[K\u001b]8;;https://gcc.gnu.org/onlinedocs/gcc/Warning-Options.html#index-Wmaybe-uninitialized\u0007-Wmaybe-uninitialized\u001b]8;;\u0007\u001b[m\u001b[K]\n",
            "23633 |   __pyx_t_1 = PyFloat_FromDouble((__pyx_v_cum_loss / \u001b[01;35m\u001b[K((double)__pyx_v_sample_num)\u001b[m\u001b[K)); if (unlikely(!__pyx_t_1)) __PYX_ERR(0, 291, __pyx_L1_error)\n",
            "      |                                                      \u001b[01;35m\u001b[K~^~~~~~~~~~~~~~~~~~~~~~~~~~~\u001b[m\u001b[K\n",
            "/usr/local/lib/python3.10/dist-packages/Cython/Compiler/Main.py:381: FutureWarning: Cython directive 'language_level' not set, using '3str' for now (Py3). This has changed from earlier releases! File: /content/RecSys_Course_AT_PoliMi/Recommenders/FeatureWeighting/Cython/HP3_Similarity_Cython_SGD.pyx\n",
            "  tree = Parsing.p_module(s, pxd, full_module_name)\n",
            "performance hint: HP3_Similarity_Cython_SGD.pyx:113:40: Index should be typed for more efficient access\n",
            "performance hint: HP3_Similarity_Cython_SGD.pyx:114:40: Index should be typed for more efficient access\n",
            "Compiling [9/10]: HP3_Similarity_Cython_SGD.pyx... PASS\n",
            "\n",
            "Compiling [10/10]: CFW_D_Similarity_Cython_SGD.pyx... \n",
            "In file included from \u001b[01m\u001b[K/usr/local/lib/python3.10/dist-packages/numpy/core/include/numpy/ndarraytypes.h:1948\u001b[m\u001b[K,\n",
            "                 from \u001b[01m\u001b[K/usr/local/lib/python3.10/dist-packages/numpy/core/include/numpy/ndarrayobject.h:12\u001b[m\u001b[K,\n",
            "                 from \u001b[01m\u001b[K/usr/local/lib/python3.10/dist-packages/numpy/core/include/numpy/arrayobject.h:5\u001b[m\u001b[K,\n",
            "                 from \u001b[01m\u001b[KCFW_D_Similarity_Cython_SGD.c:1217\u001b[m\u001b[K:\n",
            "\u001b[01m\u001b[K/usr/local/lib/python3.10/dist-packages/numpy/core/include/numpy/npy_1_7_deprecated_api.h:17:2:\u001b[m\u001b[K \u001b[01;35m\u001b[Kwarning: \u001b[m\u001b[K#warning \"Using deprecated NumPy API, disable it with \" \"#define NPY_NO_DEPRECATED_API NPY_1_7_API_VERSION\" [\u001b[01;35m\u001b[K\u001b]8;;https://gcc.gnu.org/onlinedocs/gcc/Warning-Options.html#index-Wcpp\u0007-Wcpp\u001b]8;;\u0007\u001b[m\u001b[K]\n",
            "   17 | #\u001b[01;35m\u001b[Kwarning\u001b[m\u001b[K \"Using deprecated NumPy API, disable it with \" \\\n",
            "      |  \u001b[01;35m\u001b[K^~~~~~~\u001b[m\u001b[K\n",
            "\u001b[01m\u001b[KCFW_D_Similarity_Cython_SGD.c:\u001b[m\u001b[K In function ‘\u001b[01m\u001b[K__pyx_pf_27CFW_D_Similarity_Cython_SGD_27CFW_D_Similarity_Cython_SGD_6fit\u001b[m\u001b[K’:\n",
            "\u001b[01m\u001b[KCFW_D_Similarity_Cython_SGD.c:23364:55:\u001b[m\u001b[K \u001b[01;35m\u001b[Kwarning: \u001b[m\u001b[K‘\u001b[01m\u001b[K__pyx_v_sample_num\u001b[m\u001b[K’ may be used uninitialized in this function [\u001b[01;35m\u001b[K\u001b]8;;https://gcc.gnu.org/onlinedocs/gcc/Warning-Options.html#index-Wmaybe-uninitialized\u0007-Wmaybe-uninitialized\u001b]8;;\u0007\u001b[m\u001b[K]\n",
            "23364 |   __pyx_t_3 = PyFloat_FromDouble((__pyx_v_cum_loss / \u001b[01;35m\u001b[K((double)__pyx_v_sample_num)\u001b[m\u001b[K)); if (unlikely(!__pyx_t_3)) __PYX_ERR(0, 290, __pyx_L1_error)\n",
            "      |                                                      \u001b[01;35m\u001b[K~^~~~~~~~~~~~~~~~~~~~~~~~~~~\u001b[m\u001b[K\n",
            "/usr/local/lib/python3.10/dist-packages/Cython/Compiler/Main.py:381: FutureWarning: Cython directive 'language_level' not set, using '3str' for now (Py3). This has changed from earlier releases! File: /content/RecSys_Course_AT_PoliMi/Recommenders/FeatureWeighting/Cython/CFW_D_Similarity_Cython_SGD.pyx\n",
            "  tree = Parsing.p_module(s, pxd, full_module_name)\n",
            "Compiling [10/10]: CFW_D_Similarity_Cython_SGD.pyx... PASS\n",
            "\n",
            "run_compile_all_cython: Compilation finished. FAILS 2/10.\n",
            "Compilation log can be found here: './result_experiments/run_compile_all_cython.txt'\n"
          ]
        }
      ]
    },
    {
      "cell_type": "code",
      "execution_count": 2,
      "metadata": {
        "colab": {
          "base_uri": "https://localhost:8080/"
        },
        "id": "dRiWEqrkxI-A",
        "outputId": "3c8e7cc5-c25f-47fc-a331-104d50a33d2f"
      },
      "outputs": [
        {
          "output_type": "stream",
          "name": "stdout",
          "text": [
            "Mounted at /gdrive\n"
          ]
        }
      ],
      "source": [
        "from google.colab import drive\n",
        "drive.mount('/gdrive')"
      ]
    },
    {
      "cell_type": "markdown",
      "metadata": {
        "id": "eCC3N4HIxjjH"
      },
      "source": [
        "#Import Library"
      ]
    },
    {
      "cell_type": "code",
      "execution_count": 3,
      "metadata": {
        "colab": {
          "base_uri": "https://localhost:8080/"
        },
        "id": "_Cc4espPxNMj",
        "outputId": "1f9d88de-f01a-426d-b755-17621e97f9af"
      },
      "outputs": [
        {
          "output_type": "stream",
          "name": "stdout",
          "text": [
            "Collecting optuna\n",
            "  Downloading optuna-3.4.0-py3-none-any.whl (409 kB)\n",
            "\u001b[2K     \u001b[90m━━━━━━━━━━━━━━━━━━━━━━━━━━━━━━━━━━━━━━━━\u001b[0m \u001b[32m409.6/409.6 kB\u001b[0m \u001b[31m5.9 MB/s\u001b[0m eta \u001b[36m0:00:00\u001b[0m\n",
            "\u001b[?25hCollecting alembic>=1.5.0 (from optuna)\n",
            "  Downloading alembic-1.12.1-py3-none-any.whl (226 kB)\n",
            "\u001b[2K     \u001b[90m━━━━━━━━━━━━━━━━━━━━━━━━━━━━━━━━━━━━━━━━\u001b[0m \u001b[32m226.8/226.8 kB\u001b[0m \u001b[31m19.4 MB/s\u001b[0m eta \u001b[36m0:00:00\u001b[0m\n",
            "\u001b[?25hCollecting colorlog (from optuna)\n",
            "  Downloading colorlog-6.7.0-py2.py3-none-any.whl (11 kB)\n",
            "Requirement already satisfied: numpy in /usr/local/lib/python3.10/dist-packages (from optuna) (1.23.5)\n",
            "Requirement already satisfied: packaging>=20.0 in /usr/local/lib/python3.10/dist-packages (from optuna) (23.2)\n",
            "Requirement already satisfied: sqlalchemy>=1.3.0 in /usr/local/lib/python3.10/dist-packages (from optuna) (2.0.23)\n",
            "Requirement already satisfied: tqdm in /usr/local/lib/python3.10/dist-packages (from optuna) (4.66.1)\n",
            "Requirement already satisfied: PyYAML in /usr/local/lib/python3.10/dist-packages (from optuna) (6.0.1)\n",
            "Collecting Mako (from alembic>=1.5.0->optuna)\n",
            "  Downloading Mako-1.3.0-py3-none-any.whl (78 kB)\n",
            "\u001b[2K     \u001b[90m━━━━━━━━━━━━━━━━━━━━━━━━━━━━━━━━━━━━━━━━\u001b[0m \u001b[32m78.6/78.6 kB\u001b[0m \u001b[31m8.5 MB/s\u001b[0m eta \u001b[36m0:00:00\u001b[0m\n",
            "\u001b[?25hRequirement already satisfied: typing-extensions>=4 in /usr/local/lib/python3.10/dist-packages (from alembic>=1.5.0->optuna) (4.5.0)\n",
            "Requirement already satisfied: greenlet!=0.4.17 in /usr/local/lib/python3.10/dist-packages (from sqlalchemy>=1.3.0->optuna) (3.0.1)\n",
            "Requirement already satisfied: MarkupSafe>=0.9.2 in /usr/local/lib/python3.10/dist-packages (from Mako->alembic>=1.5.0->optuna) (2.1.3)\n",
            "Installing collected packages: Mako, colorlog, alembic, optuna\n",
            "Successfully installed Mako-1.3.0 alembic-1.12.1 colorlog-6.7.0 optuna-3.4.0\n"
          ]
        }
      ],
      "source": [
        "import pandas as pd\n",
        "import numpy as np\n",
        "import matplotlib.pyplot as plt\n",
        "from sklearn.model_selection import train_test_split\n",
        "import scipy.sparse as sp\n",
        "from typing import Tuple, Callable, Dict, Optional, List\n",
        "from Recommenders.KNN.ItemKNNCFRecommender import ItemKNNCFRecommender\n",
        "from Recommenders.Similarity.Compute_Similarity_Python import Compute_Similarity_Python\n",
        "from scipy.stats import loguniform\n",
        "!pip install optuna\n",
        "import optuna"
      ]
    },
    {
      "cell_type": "markdown",
      "metadata": {
        "id": "GnP3Qb-nzW3F"
      },
      "source": [
        "#Load Data"
      ]
    },
    {
      "cell_type": "code",
      "execution_count": 4,
      "metadata": {
        "id": "EmCzZHO8xnHS",
        "colab": {
          "base_uri": "https://localhost:8080/"
        },
        "outputId": "c9e018cd-b887-4bf2-ce3d-31ec771441c5"
      },
      "outputs": [
        {
          "output_type": "stream",
          "name": "stdout",
          "text": [
            "/gdrive/MyDrive/RECSYS\n",
            "/content/RecSys_Course_AT_PoliMi\n"
          ]
        }
      ],
      "source": [
        "%cd /gdrive/MyDrive/RECSYS\n",
        "data_train = pd.read_csv('data_train.csv')\n",
        "data_target_users_test = pd.read_csv('data_target_users_test.csv')\n",
        "%cd ../../../content/RecSys_Course_AT_PoliMi"
      ]
    },
    {
      "cell_type": "code",
      "execution_count": 5,
      "metadata": {
        "id": "Vh_4xGA8xzyV"
      },
      "outputs": [],
      "source": [
        "data_train.columns = [\"user_id\", \"item_id\", \"Interaction\"]"
      ]
    },
    {
      "cell_type": "code",
      "execution_count": 6,
      "metadata": {
        "id": "dtUrQBPlzSEc",
        "colab": {
          "base_uri": "https://localhost:8080/"
        },
        "outputId": "c7201d8c-a8e6-49e1-a0ed-e7b896be2476"
      },
      "outputs": [
        {
          "output_type": "stream",
          "name": "stdout",
          "text": [
            "The number of interactions is 478730\n"
          ]
        }
      ],
      "source": [
        "print (\"The number of interactions is {}\".format(len(data_train)))"
      ]
    },
    {
      "cell_type": "code",
      "execution_count": 7,
      "metadata": {
        "id": "aiHSbCzyzUk7"
      },
      "outputs": [],
      "source": [
        "userID_unique = data_train[\"user_id\"].unique()\n",
        "itemID_unique = data_train[\"item_id\"].unique()"
      ]
    },
    {
      "cell_type": "code",
      "execution_count": 8,
      "metadata": {
        "id": "VoJy1s8Tzamf",
        "colab": {
          "base_uri": "https://localhost:8080/"
        },
        "outputId": "5544846d-66d1-4a78-99c3-3916ba22757d"
      },
      "outputs": [
        {
          "output_type": "stream",
          "name": "stdout",
          "text": [
            "Number of items\t 22222, Number of users\t 12638\n",
            "Max ID items\t 22347, Max Id users\t 13024\n",
            "\n"
          ]
        }
      ],
      "source": [
        "n_users = len(userID_unique)\n",
        "n_items = len(itemID_unique)\n",
        "n_interactions = len(data_train)\n",
        "\n",
        "print (\"Number of items\\t {}, Number of users\\t {}\".format(n_items, n_users))\n",
        "print (\"Max ID items\\t {}, Max Id users\\t {}\\n\".format(max(itemID_unique), max(userID_unique)))"
      ]
    },
    {
      "cell_type": "markdown",
      "metadata": {
        "id": "1IB-Aujzz9OV"
      },
      "source": [
        "#Splitting Data"
      ]
    },
    {
      "cell_type": "code",
      "execution_count": 9,
      "metadata": {
        "id": "rv9buSlx5F_U"
      },
      "outputs": [],
      "source": [
        "def preprocess_data(interactions: pd.DataFrame):\n",
        "    unique_users = interactions.user_id.unique()\n",
        "    unique_items = interactions.item_id.unique()\n",
        "\n",
        "    num_users, min_user_id, max_user_id = unique_users.size, unique_users.min(), unique_users.max()\n",
        "    num_items, min_item_id, max_item_id = unique_items.size, unique_items.min(), unique_items.max()\n",
        "\n",
        "    print(num_users, min_user_id, max_user_id)\n",
        "    print(num_items, min_item_id, max_item_id)\n",
        "\n",
        "    mapping_user_id = pd.DataFrame({\"mapped_user_id\": np.arange(num_users), \"user_id\": unique_users})\n",
        "    mapping_item_id = pd.DataFrame({\"mapped_item_id\": np.arange(num_items), \"item_id\": unique_items})\n",
        "\n",
        "    interactions = pd.merge(left=interactions,\n",
        "                       right=mapping_user_id,\n",
        "                       how=\"inner\",\n",
        "                       on=\"user_id\")\n",
        "\n",
        "    interactions = pd.merge(left=interactions,\n",
        "                       right=mapping_item_id,\n",
        "                       how=\"inner\",\n",
        "                       on=\"item_id\")\n",
        "\n",
        "    return interactions\n"
      ]
    },
    {
      "cell_type": "code",
      "execution_count": 10,
      "metadata": {
        "id": "P7n04nV95Mc-",
        "colab": {
          "base_uri": "https://localhost:8080/"
        },
        "outputId": "f98a89d9-b338-41dc-ad30-023c0eadb625"
      },
      "outputs": [
        {
          "output_type": "stream",
          "name": "stdout",
          "text": [
            "12638 1 13024\n",
            "22222 1 22347\n"
          ]
        }
      ],
      "source": [
        "interactions = preprocess_data(data_train)"
      ]
    },
    {
      "cell_type": "code",
      "execution_count": 11,
      "metadata": {
        "id": "B41fKtAp5wIO",
        "colab": {
          "base_uri": "https://localhost:8080/",
          "height": 0
        },
        "outputId": "26d9c358-ce66-47ad-d491-1f52d2df77a4"
      },
      "outputs": [
        {
          "output_type": "execute_result",
          "data": {
            "text/plain": [
              "        user_id  item_id  Interaction  mapped_user_id  mapped_item_id\n",
              "0             1        7          1.0               0               0\n",
              "1             2        7          1.0               1               0\n",
              "2            26        7          1.0              24               0\n",
              "3            36        7          1.0              34               0\n",
              "4            41        7          1.0              39               0\n",
              "...         ...      ...          ...             ...             ...\n",
              "478725    12962    20368          1.0           12579           22217\n",
              "478726    12985    21058          1.0           12601           22218\n",
              "478727    12989    22317          1.0           12605           22219\n",
              "478728    13009    22339          1.0           12624           22220\n",
              "478729    13021    21466          1.0           12634           22221\n",
              "\n",
              "[478730 rows x 5 columns]"
            ],
            "text/html": [
              "\n",
              "  <div id=\"df-7e3d17eb-7c7f-4fb4-93c0-26c200fb2aec\" class=\"colab-df-container\">\n",
              "    <div>\n",
              "<style scoped>\n",
              "    .dataframe tbody tr th:only-of-type {\n",
              "        vertical-align: middle;\n",
              "    }\n",
              "\n",
              "    .dataframe tbody tr th {\n",
              "        vertical-align: top;\n",
              "    }\n",
              "\n",
              "    .dataframe thead th {\n",
              "        text-align: right;\n",
              "    }\n",
              "</style>\n",
              "<table border=\"1\" class=\"dataframe\">\n",
              "  <thead>\n",
              "    <tr style=\"text-align: right;\">\n",
              "      <th></th>\n",
              "      <th>user_id</th>\n",
              "      <th>item_id</th>\n",
              "      <th>Interaction</th>\n",
              "      <th>mapped_user_id</th>\n",
              "      <th>mapped_item_id</th>\n",
              "    </tr>\n",
              "  </thead>\n",
              "  <tbody>\n",
              "    <tr>\n",
              "      <th>0</th>\n",
              "      <td>1</td>\n",
              "      <td>7</td>\n",
              "      <td>1.0</td>\n",
              "      <td>0</td>\n",
              "      <td>0</td>\n",
              "    </tr>\n",
              "    <tr>\n",
              "      <th>1</th>\n",
              "      <td>2</td>\n",
              "      <td>7</td>\n",
              "      <td>1.0</td>\n",
              "      <td>1</td>\n",
              "      <td>0</td>\n",
              "    </tr>\n",
              "    <tr>\n",
              "      <th>2</th>\n",
              "      <td>26</td>\n",
              "      <td>7</td>\n",
              "      <td>1.0</td>\n",
              "      <td>24</td>\n",
              "      <td>0</td>\n",
              "    </tr>\n",
              "    <tr>\n",
              "      <th>3</th>\n",
              "      <td>36</td>\n",
              "      <td>7</td>\n",
              "      <td>1.0</td>\n",
              "      <td>34</td>\n",
              "      <td>0</td>\n",
              "    </tr>\n",
              "    <tr>\n",
              "      <th>4</th>\n",
              "      <td>41</td>\n",
              "      <td>7</td>\n",
              "      <td>1.0</td>\n",
              "      <td>39</td>\n",
              "      <td>0</td>\n",
              "    </tr>\n",
              "    <tr>\n",
              "      <th>...</th>\n",
              "      <td>...</td>\n",
              "      <td>...</td>\n",
              "      <td>...</td>\n",
              "      <td>...</td>\n",
              "      <td>...</td>\n",
              "    </tr>\n",
              "    <tr>\n",
              "      <th>478725</th>\n",
              "      <td>12962</td>\n",
              "      <td>20368</td>\n",
              "      <td>1.0</td>\n",
              "      <td>12579</td>\n",
              "      <td>22217</td>\n",
              "    </tr>\n",
              "    <tr>\n",
              "      <th>478726</th>\n",
              "      <td>12985</td>\n",
              "      <td>21058</td>\n",
              "      <td>1.0</td>\n",
              "      <td>12601</td>\n",
              "      <td>22218</td>\n",
              "    </tr>\n",
              "    <tr>\n",
              "      <th>478727</th>\n",
              "      <td>12989</td>\n",
              "      <td>22317</td>\n",
              "      <td>1.0</td>\n",
              "      <td>12605</td>\n",
              "      <td>22219</td>\n",
              "    </tr>\n",
              "    <tr>\n",
              "      <th>478728</th>\n",
              "      <td>13009</td>\n",
              "      <td>22339</td>\n",
              "      <td>1.0</td>\n",
              "      <td>12624</td>\n",
              "      <td>22220</td>\n",
              "    </tr>\n",
              "    <tr>\n",
              "      <th>478729</th>\n",
              "      <td>13021</td>\n",
              "      <td>21466</td>\n",
              "      <td>1.0</td>\n",
              "      <td>12634</td>\n",
              "      <td>22221</td>\n",
              "    </tr>\n",
              "  </tbody>\n",
              "</table>\n",
              "<p>478730 rows × 5 columns</p>\n",
              "</div>\n",
              "    <div class=\"colab-df-buttons\">\n",
              "\n",
              "  <div class=\"colab-df-container\">\n",
              "    <button class=\"colab-df-convert\" onclick=\"convertToInteractive('df-7e3d17eb-7c7f-4fb4-93c0-26c200fb2aec')\"\n",
              "            title=\"Convert this dataframe to an interactive table.\"\n",
              "            style=\"display:none;\">\n",
              "\n",
              "  <svg xmlns=\"http://www.w3.org/2000/svg\" height=\"24px\" viewBox=\"0 -960 960 960\">\n",
              "    <path d=\"M120-120v-720h720v720H120Zm60-500h600v-160H180v160Zm220 220h160v-160H400v160Zm0 220h160v-160H400v160ZM180-400h160v-160H180v160Zm440 0h160v-160H620v160ZM180-180h160v-160H180v160Zm440 0h160v-160H620v160Z\"/>\n",
              "  </svg>\n",
              "    </button>\n",
              "\n",
              "  <style>\n",
              "    .colab-df-container {\n",
              "      display:flex;\n",
              "      gap: 12px;\n",
              "    }\n",
              "\n",
              "    .colab-df-convert {\n",
              "      background-color: #E8F0FE;\n",
              "      border: none;\n",
              "      border-radius: 50%;\n",
              "      cursor: pointer;\n",
              "      display: none;\n",
              "      fill: #1967D2;\n",
              "      height: 32px;\n",
              "      padding: 0 0 0 0;\n",
              "      width: 32px;\n",
              "    }\n",
              "\n",
              "    .colab-df-convert:hover {\n",
              "      background-color: #E2EBFA;\n",
              "      box-shadow: 0px 1px 2px rgba(60, 64, 67, 0.3), 0px 1px 3px 1px rgba(60, 64, 67, 0.15);\n",
              "      fill: #174EA6;\n",
              "    }\n",
              "\n",
              "    .colab-df-buttons div {\n",
              "      margin-bottom: 4px;\n",
              "    }\n",
              "\n",
              "    [theme=dark] .colab-df-convert {\n",
              "      background-color: #3B4455;\n",
              "      fill: #D2E3FC;\n",
              "    }\n",
              "\n",
              "    [theme=dark] .colab-df-convert:hover {\n",
              "      background-color: #434B5C;\n",
              "      box-shadow: 0px 1px 3px 1px rgba(0, 0, 0, 0.15);\n",
              "      filter: drop-shadow(0px 1px 2px rgba(0, 0, 0, 0.3));\n",
              "      fill: #FFFFFF;\n",
              "    }\n",
              "  </style>\n",
              "\n",
              "    <script>\n",
              "      const buttonEl =\n",
              "        document.querySelector('#df-7e3d17eb-7c7f-4fb4-93c0-26c200fb2aec button.colab-df-convert');\n",
              "      buttonEl.style.display =\n",
              "        google.colab.kernel.accessAllowed ? 'block' : 'none';\n",
              "\n",
              "      async function convertToInteractive(key) {\n",
              "        const element = document.querySelector('#df-7e3d17eb-7c7f-4fb4-93c0-26c200fb2aec');\n",
              "        const dataTable =\n",
              "          await google.colab.kernel.invokeFunction('convertToInteractive',\n",
              "                                                    [key], {});\n",
              "        if (!dataTable) return;\n",
              "\n",
              "        const docLinkHtml = 'Like what you see? Visit the ' +\n",
              "          '<a target=\"_blank\" href=https://colab.research.google.com/notebooks/data_table.ipynb>data table notebook</a>'\n",
              "          + ' to learn more about interactive tables.';\n",
              "        element.innerHTML = '';\n",
              "        dataTable['output_type'] = 'display_data';\n",
              "        await google.colab.output.renderOutput(dataTable, element);\n",
              "        const docLink = document.createElement('div');\n",
              "        docLink.innerHTML = docLinkHtml;\n",
              "        element.appendChild(docLink);\n",
              "      }\n",
              "    </script>\n",
              "  </div>\n",
              "\n",
              "\n",
              "<div id=\"df-f298c1fc-05cd-4b08-a955-40a3a1f97ab3\">\n",
              "  <button class=\"colab-df-quickchart\" onclick=\"quickchart('df-f298c1fc-05cd-4b08-a955-40a3a1f97ab3')\"\n",
              "            title=\"Suggest charts\"\n",
              "            style=\"display:none;\">\n",
              "\n",
              "<svg xmlns=\"http://www.w3.org/2000/svg\" height=\"24px\"viewBox=\"0 0 24 24\"\n",
              "     width=\"24px\">\n",
              "    <g>\n",
              "        <path d=\"M19 3H5c-1.1 0-2 .9-2 2v14c0 1.1.9 2 2 2h14c1.1 0 2-.9 2-2V5c0-1.1-.9-2-2-2zM9 17H7v-7h2v7zm4 0h-2V7h2v10zm4 0h-2v-4h2v4z\"/>\n",
              "    </g>\n",
              "</svg>\n",
              "  </button>\n",
              "\n",
              "<style>\n",
              "  .colab-df-quickchart {\n",
              "      --bg-color: #E8F0FE;\n",
              "      --fill-color: #1967D2;\n",
              "      --hover-bg-color: #E2EBFA;\n",
              "      --hover-fill-color: #174EA6;\n",
              "      --disabled-fill-color: #AAA;\n",
              "      --disabled-bg-color: #DDD;\n",
              "  }\n",
              "\n",
              "  [theme=dark] .colab-df-quickchart {\n",
              "      --bg-color: #3B4455;\n",
              "      --fill-color: #D2E3FC;\n",
              "      --hover-bg-color: #434B5C;\n",
              "      --hover-fill-color: #FFFFFF;\n",
              "      --disabled-bg-color: #3B4455;\n",
              "      --disabled-fill-color: #666;\n",
              "  }\n",
              "\n",
              "  .colab-df-quickchart {\n",
              "    background-color: var(--bg-color);\n",
              "    border: none;\n",
              "    border-radius: 50%;\n",
              "    cursor: pointer;\n",
              "    display: none;\n",
              "    fill: var(--fill-color);\n",
              "    height: 32px;\n",
              "    padding: 0;\n",
              "    width: 32px;\n",
              "  }\n",
              "\n",
              "  .colab-df-quickchart:hover {\n",
              "    background-color: var(--hover-bg-color);\n",
              "    box-shadow: 0 1px 2px rgba(60, 64, 67, 0.3), 0 1px 3px 1px rgba(60, 64, 67, 0.15);\n",
              "    fill: var(--button-hover-fill-color);\n",
              "  }\n",
              "\n",
              "  .colab-df-quickchart-complete:disabled,\n",
              "  .colab-df-quickchart-complete:disabled:hover {\n",
              "    background-color: var(--disabled-bg-color);\n",
              "    fill: var(--disabled-fill-color);\n",
              "    box-shadow: none;\n",
              "  }\n",
              "\n",
              "  .colab-df-spinner {\n",
              "    border: 2px solid var(--fill-color);\n",
              "    border-color: transparent;\n",
              "    border-bottom-color: var(--fill-color);\n",
              "    animation:\n",
              "      spin 1s steps(1) infinite;\n",
              "  }\n",
              "\n",
              "  @keyframes spin {\n",
              "    0% {\n",
              "      border-color: transparent;\n",
              "      border-bottom-color: var(--fill-color);\n",
              "      border-left-color: var(--fill-color);\n",
              "    }\n",
              "    20% {\n",
              "      border-color: transparent;\n",
              "      border-left-color: var(--fill-color);\n",
              "      border-top-color: var(--fill-color);\n",
              "    }\n",
              "    30% {\n",
              "      border-color: transparent;\n",
              "      border-left-color: var(--fill-color);\n",
              "      border-top-color: var(--fill-color);\n",
              "      border-right-color: var(--fill-color);\n",
              "    }\n",
              "    40% {\n",
              "      border-color: transparent;\n",
              "      border-right-color: var(--fill-color);\n",
              "      border-top-color: var(--fill-color);\n",
              "    }\n",
              "    60% {\n",
              "      border-color: transparent;\n",
              "      border-right-color: var(--fill-color);\n",
              "    }\n",
              "    80% {\n",
              "      border-color: transparent;\n",
              "      border-right-color: var(--fill-color);\n",
              "      border-bottom-color: var(--fill-color);\n",
              "    }\n",
              "    90% {\n",
              "      border-color: transparent;\n",
              "      border-bottom-color: var(--fill-color);\n",
              "    }\n",
              "  }\n",
              "</style>\n",
              "\n",
              "  <script>\n",
              "    async function quickchart(key) {\n",
              "      const quickchartButtonEl =\n",
              "        document.querySelector('#' + key + ' button');\n",
              "      quickchartButtonEl.disabled = true;  // To prevent multiple clicks.\n",
              "      quickchartButtonEl.classList.add('colab-df-spinner');\n",
              "      try {\n",
              "        const charts = await google.colab.kernel.invokeFunction(\n",
              "            'suggestCharts', [key], {});\n",
              "      } catch (error) {\n",
              "        console.error('Error during call to suggestCharts:', error);\n",
              "      }\n",
              "      quickchartButtonEl.classList.remove('colab-df-spinner');\n",
              "      quickchartButtonEl.classList.add('colab-df-quickchart-complete');\n",
              "    }\n",
              "    (() => {\n",
              "      let quickchartButtonEl =\n",
              "        document.querySelector('#df-f298c1fc-05cd-4b08-a955-40a3a1f97ab3 button');\n",
              "      quickchartButtonEl.style.display =\n",
              "        google.colab.kernel.accessAllowed ? 'block' : 'none';\n",
              "    })();\n",
              "  </script>\n",
              "</div>\n",
              "    </div>\n",
              "  </div>\n"
            ]
          },
          "metadata": {},
          "execution_count": 11
        }
      ],
      "source": [
        "interactions"
      ]
    },
    {
      "cell_type": "code",
      "execution_count": 12,
      "metadata": {
        "id": "BeQy3iIM3NWS"
      },
      "outputs": [],
      "source": [
        "def dataset_splits(interactions, num_users, num_items, validation_percentage: float, testing_percentage: float):\n",
        "    seed = 1234\n",
        "\n",
        "    (user_ids_training, user_ids_test,\n",
        "     item_ids_training, item_ids_test,\n",
        "     interactions_training, interactions_test) = train_test_split(interactions.mapped_user_id,\n",
        "                                                        interactions.mapped_item_id,\n",
        "                                                        interactions.Interaction,\n",
        "                                                        test_size=testing_percentage,\n",
        "                                                        shuffle=True,\n",
        "                                                        random_state=seed)\n",
        "\n",
        "    (user_ids_training, user_ids_validation,\n",
        "     item_ids_training, item_ids_validation,\n",
        "     interactions_training, interactions_validation) = train_test_split(user_ids_training,\n",
        "                                                              item_ids_training,\n",
        "                                                              interactions_training,\n",
        "                                                              test_size=validation_percentage,\n",
        "                                                             )\n",
        "\n",
        "    urm_train = sp.csr_matrix((interactions_training, (user_ids_training, item_ids_training)),\n",
        "                              shape=(num_users, num_items))\n",
        "\n",
        "    urm_validation = sp.csr_matrix((interactions_validation, (user_ids_validation, item_ids_validation)),\n",
        "                              shape=(num_users, num_items))\n",
        "\n",
        "    urm_test = sp.csr_matrix((interactions_test, (user_ids_test, item_ids_test)),\n",
        "                              shape=(num_users, num_items))\n",
        "\n",
        "\n",
        "\n",
        "    return urm_train, urm_validation, urm_test\n",
        "\n"
      ]
    },
    {
      "cell_type": "code",
      "execution_count": 13,
      "metadata": {
        "id": "_haTw9z74REP"
      },
      "outputs": [],
      "source": [
        "urm_train, urm_validation, urm_test = dataset_splits(interactions,\n",
        "                                                     num_users=12638,\n",
        "                                                     num_items=22222,\n",
        "                                                     validation_percentage=0.20,\n",
        "                                                     testing_percentage=0.20)"
      ]
    },
    {
      "cell_type": "code",
      "execution_count": 14,
      "metadata": {
        "id": "XZm4RgMl6_o4",
        "colab": {
          "base_uri": "https://localhost:8080/"
        },
        "outputId": "ea3d1c14-8ea0-499e-850d-1c1d867a2a85"
      },
      "outputs": [
        {
          "output_type": "execute_result",
          "data": {
            "text/plain": [
              "<12638x22222 sparse matrix of type '<class 'numpy.float64'>'\n",
              "\twith 306387 stored elements in Compressed Sparse Row format>"
            ]
          },
          "metadata": {},
          "execution_count": 14
        }
      ],
      "source": [
        "urm_train"
      ]
    },
    {
      "cell_type": "code",
      "execution_count": 15,
      "metadata": {
        "id": "Z22fMerd7DDD",
        "colab": {
          "base_uri": "https://localhost:8080/"
        },
        "outputId": "514efb44-ab5d-40e3-db3a-4be9210c1245"
      },
      "outputs": [
        {
          "output_type": "execute_result",
          "data": {
            "text/plain": [
              "<12638x22222 sparse matrix of type '<class 'numpy.float64'>'\n",
              "\twith 76597 stored elements in Compressed Sparse Row format>"
            ]
          },
          "metadata": {},
          "execution_count": 15
        }
      ],
      "source": [
        "urm_validation"
      ]
    },
    {
      "cell_type": "code",
      "execution_count": 16,
      "metadata": {
        "id": "NXb7krZq7E07",
        "colab": {
          "base_uri": "https://localhost:8080/"
        },
        "outputId": "6109e65a-6f4d-47b4-a028-d9fe170fb605"
      },
      "outputs": [
        {
          "output_type": "execute_result",
          "data": {
            "text/plain": [
              "<12638x22222 sparse matrix of type '<class 'numpy.float64'>'\n",
              "\twith 95746 stored elements in Compressed Sparse Row format>"
            ]
          },
          "metadata": {},
          "execution_count": 16
        }
      ],
      "source": [
        "urm_test"
      ]
    },
    {
      "cell_type": "markdown",
      "metadata": {
        "id": "H9nAar4i78dQ"
      },
      "source": [
        "#Build the Recommendation System"
      ]
    },
    {
      "cell_type": "code",
      "execution_count": 109,
      "metadata": {
        "id": "hb7DlmAP1exj"
      },
      "outputs": [],
      "source": [
        "from Recommenders.KNN.ItemKNNCFRecommender import ItemKNNCFRecommender"
      ]
    },
    {
      "cell_type": "code",
      "source": [
        "import pandas as pd\n",
        "from tqdm import tqdm\n",
        "import scipy.sparse as sps\n",
        "import numpy as np\n",
        "from xgboost import XGBRanker\n",
        "\n",
        "n_users, n_items = urm_train.shape\n",
        "\n",
        "training_dataframe = pd.DataFrame(index=range(0,n_users), columns = [\"ItemID\"])\n",
        "training_dataframe.index.name='UserID'"
      ],
      "metadata": {
        "id": "NH64CWbHOdis"
      },
      "execution_count": null,
      "outputs": []
    },
    {
      "cell_type": "code",
      "source": [
        "cutoff = 10\n",
        "\n",
        "for user_id in tqdm(range(n_users)):\n",
        "    recommendations = itemKNNCF.recommend(user_id, cutoff = cutoff)\n",
        "    training_dataframe.loc[user_id, \"ItemID\"] = recommendations"
      ],
      "metadata": {
        "id": "ZC_ebyrAOfyC"
      },
      "execution_count": null,
      "outputs": []
    },
    {
      "cell_type": "code",
      "source": [
        "training_dataframe = training_dataframe.explode(\"ItemID\")\n",
        "training_dataframe"
      ],
      "metadata": {
        "id": "aeRq-xD-jTpd"
      },
      "execution_count": null,
      "outputs": []
    },
    {
      "cell_type": "code",
      "source": [
        "URM_validation_coo = sps.coo_matrix(urm_validation)\n",
        "\n",
        "correct_recommendations = pd.DataFrame({\"UserID\": URM_validation_coo.row,\n",
        "                                        \"ItemID\": URM_validation_coo.col})\n",
        "correct_recommendations"
      ],
      "metadata": {
        "id": "iKvqUJYJjfOc"
      },
      "execution_count": null,
      "outputs": []
    },
    {
      "cell_type": "code",
      "source": [
        "training_dataframe = pd.merge(training_dataframe, correct_recommendations, on=['UserID','ItemID'], how='left', indicator='Exist')\n",
        "training_dataframe"
      ],
      "metadata": {
        "id": "A1Y9J-JKjlSc"
      },
      "execution_count": null,
      "outputs": []
    },
    {
      "cell_type": "code",
      "source": [
        "training_dataframe[\"Label\"] = training_dataframe[\"Exist\"] == \"both\"\n",
        "training_dataframe.drop(columns = ['Exist'], inplace=True)\n",
        "training_dataframe"
      ],
      "metadata": {
        "id": "3DB5_M4Zjqws"
      },
      "execution_count": null,
      "outputs": []
    },
    {
      "cell_type": "code",
      "source": [
        "from Recommenders.GraphBased.RP3betaRecommender import RP3betaRecommender\n",
        "from Recommenders.GraphBased.P3alphaRecommender import P3alphaRecommender\n",
        "from Recommenders.MatrixFactorization.PureSVDRecommender import PureSVDRecommender\n",
        "\n",
        "best_rp3 = {'topK': 60, 'alpha': 0.33948653564351783, 'beta': 0.03959118666931211}\n",
        "best_p3 = {'topK': 65, 'alpha': 0.19508730035495367, 'implicit': False, 'normalize_similarity': True}\n",
        "\n",
        "pureSVD = PureSVDRecommender(urm_train)\n",
        "pureSVD.fit()\n",
        "\n",
        "p3alpha = P3alphaRecommender(urm_train)\n",
        "p3alpha.fit(**best_p3)\n",
        "\n",
        "rp3 = RP3betaRecommender(urm_train)\n",
        "rp3.fit(**best_rp3)\n",
        "\n",
        "\n",
        "other_algorithms = {\n",
        "    \"PureSVD\": pureSVD,\n",
        "    \"P3alpha\": p3alpha,\n",
        "    \"RP3beta\": rp3\n",
        "}"
      ],
      "metadata": {
        "id": "6h11O65qj37d"
      },
      "execution_count": null,
      "outputs": []
    },
    {
      "cell_type": "code",
      "source": [
        "training_dataframe = training_dataframe.set_index('UserID')\n",
        "\n",
        "for user_id in tqdm(range(n_users)):\n",
        "    for rec_label, rec_instance in other_algorithms.items():\n",
        "\n",
        "        item_list = training_dataframe.loc[user_id, \"ItemID\"].values.tolist()\n",
        "\n",
        "        all_item_scores = rec_instance._compute_item_score([user_id], items_to_compute = item_list)\n",
        "\n",
        "        training_dataframe.loc[user_id, rec_label] = all_item_scores[0, item_list]\n",
        "\n",
        "training_dataframe = training_dataframe.reset_index()\n",
        "training_dataframe = training_dataframe.rename(columns = {\"index\": \"UserID\"})\n",
        "training_dataframe"
      ],
      "metadata": {
        "id": "SQbT4aUPsuHY"
      },
      "execution_count": null,
      "outputs": []
    },
    {
      "cell_type": "code",
      "source": [
        "user_popularity = np.ediff1d(sps.csr_matrix(urm_train).indptr)\n",
        "\n",
        "training_dataframe['user_profile_len'] = user_popularity[training_dataframe[\"UserID\"].values.astype(int)]\n",
        "training_dataframe"
      ],
      "metadata": {
        "id": "-syudEI6tPLm"
      },
      "execution_count": null,
      "outputs": []
    },
    {
      "cell_type": "code",
      "source": [
        "training_dataframe = training_dataframe.sort_values(\"UserID\").reset_index()\n",
        "training_dataframe.drop(columns = ['index'], inplace=True)\n",
        "training_dataframe"
      ],
      "metadata": {
        "id": "47Aqi10ktZuh"
      },
      "execution_count": null,
      "outputs": []
    },
    {
      "cell_type": "code",
      "source": [
        "groups = training_dataframe.groupby(\"UserID\").size().values\n",
        "groups"
      ],
      "metadata": {
        "id": "uAGJZJAHturi"
      },
      "execution_count": null,
      "outputs": []
    },
    {
      "cell_type": "code",
      "source": [
        "from xgboost import XGBRanker"
      ],
      "metadata": {
        "id": "rGQVZ9rBt-ZX"
      },
      "execution_count": null,
      "outputs": []
    },
    {
      "cell_type": "code",
      "source": [
        "n_estimators = 50\n",
        "learning_rate = 1e-1\n",
        "reg_alpha = 1e-1\n",
        "reg_lambda = 1e-1\n",
        "max_depth = 5\n",
        "max_leaves = 0\n",
        "grow_policy = \"depthwise\"\n",
        "objective = \"pairwise\"\n",
        "booster = \"gbtree\"\n",
        "use_user_profile = False\n",
        "random_seed = None\n",
        "\n",
        "XGB_model = XGBRanker(objective='rank:{}'.format(objective),\n",
        "                      n_estimators = int(n_estimators),\n",
        "                      random_state = random_seed,\n",
        "                      learning_rate = learning_rate,\n",
        "                      reg_alpha = reg_alpha,\n",
        "                      reg_lambda = reg_lambda,\n",
        "                      max_depth = int(max_depth),\n",
        "                      max_leaves = int(max_leaves),\n",
        "                      grow_policy = grow_policy,\n",
        "                      verbosity = 0, # 2 if self.verbose else 0,\n",
        "                      booster = booster,\n",
        "                      )"
      ],
      "metadata": {
        "id": "rPOqn9ckt_iH"
      },
      "execution_count": null,
      "outputs": []
    },
    {
      "cell_type": "code",
      "source": [
        "training_dataframe[\"Label\"].value_counts()"
      ],
      "metadata": {
        "id": "cvrYqTIbuuLB"
      },
      "execution_count": null,
      "outputs": []
    },
    {
      "cell_type": "code",
      "source": [
        "\n",
        "y_train = training_dataframe[\"Label\"]\n",
        "X_train = training_dataframe.drop(columns=[\"Label\"])\n"
      ],
      "metadata": {
        "id": "FD2R-riBuELP"
      },
      "execution_count": null,
      "outputs": []
    },
    {
      "cell_type": "code",
      "source": [
        "\n",
        "X_train[\"UserID\"] = X_train[\"UserID\"].astype(\"category\")\n",
        "X_train[\"ItemID\"] = X_train[\"ItemID\"].astype(\"category\")\n",
        "\n",
        "\n",
        "XGB_model = XGBRanker(objective='rank:{}'.format(objective),\n",
        "                      n_estimators = int(n_estimators),\n",
        "                      random_state = random_seed,\n",
        "                      learning_rate = learning_rate,\n",
        "                      reg_alpha = reg_alpha,\n",
        "                      reg_lambda = reg_lambda,\n",
        "                      max_depth = int(max_depth),\n",
        "                      max_leaves = int(max_leaves),\n",
        "                      grow_policy = grow_policy,\n",
        "                      verbosity = 0, # 2 if self.verbose else 0,\n",
        "                      booster = booster,\n",
        "                      enable_categorical = True,\n",
        "                      tree_method = \"hist\",  # Supported tree methods are `gpu_hist`, `approx`, and `hist`.\n",
        "                      )\n",
        "\n",
        "XGB_model.fit(X_train,\n",
        "          y_train,\n",
        "          group=groups,\n",
        "          verbose=True)"
      ],
      "metadata": {
        "id": "6RTDavKbwtNA"
      },
      "execution_count": null,
      "outputs": []
    },
    {
      "cell_type": "code",
      "source": [
        "X_to_predict = X_train[X_train[\"UserID\"] == 10]\n",
        "\n",
        "XGB_model.predict(X_to_predict)"
      ],
      "metadata": {
        "id": "TBRgHwU2wRxR"
      },
      "execution_count": null,
      "outputs": []
    },
    {
      "cell_type": "code",
      "source": [],
      "metadata": {
        "id": "VheI3wj4zuo4"
      },
      "execution_count": null,
      "outputs": []
    },
    {
      "cell_type": "code",
      "source": [
        "%matplotlib inline\n",
        "from xgboost import plot_importance\n",
        "plot_importance(XGB_model, importance_type='weight', title='Weight (Frequence)')"
      ],
      "metadata": {
        "id": "Q1OJuDMywUHm"
      },
      "execution_count": null,
      "outputs": []
    },
    {
      "cell_type": "markdown",
      "source": [
        "## Top popular for the users without info"
      ],
      "metadata": {
        "id": "GqvLoWjYOUXJ"
      }
    },
    {
      "cell_type": "code",
      "execution_count": 17,
      "metadata": {
        "id": "pXwcRW6e5tt4"
      },
      "outputs": [],
      "source": [
        "class TopPopRecommender(object):\n",
        "\n",
        "    def fit(self, URM_train):\n",
        "\n",
        "        item_popularity = np.ediff1d(URM_train.tocsc().indptr)\n",
        "\n",
        "        # We are not interested in sorting the popularity value,\n",
        "        # but to order the items according to it\n",
        "        self.popular_items = np.argsort(item_popularity)\n",
        "        self.popular_items = np.flip(self.popular_items, axis = 0)\n",
        "\n",
        "\n",
        "    def recommend(self, user_id, at=5):\n",
        "\n",
        "        recommended_items = self.popular_items[0:at]\n",
        "\n",
        "        return recommended_items"
      ]
    },
    {
      "cell_type": "markdown",
      "metadata": {
        "id": "--6CuvMqQrIf"
      },
      "source": [
        "#Hyperparameter Tuning\n",
        "\n",
        "\n",
        "*   Number of neighbors\n",
        "\n",
        "*   Shrinking\n",
        "\n",
        "*   Similarity Type\n",
        "\n"
      ]
    },
    {
      "cell_type": "code",
      "source": [
        "from Evaluation.Evaluator import EvaluatorHoldout\n",
        "\n",
        "\n",
        "evaluator_validation = EvaluatorHoldout(urm_validation, cutoff_list=[10])\n",
        "evaluator_test = EvaluatorHoldout(urm_test, cutoff_list=[10])"
      ],
      "metadata": {
        "colab": {
          "base_uri": "https://localhost:8080/"
        },
        "id": "rWLSE4-aZxOf",
        "outputId": "3267a819-7355-4077-f82e-a1f8dbcb2ec3"
      },
      "execution_count": 18,
      "outputs": [
        {
          "output_type": "stream",
          "name": "stdout",
          "text": [
            "EvaluatorHoldout: Ignoring 2600 (20.6%) Users that have less than 1 test interactions\n",
            "EvaluatorHoldout: Ignoring 2152 (17.0%) Users that have less than 1 test interactions\n"
          ]
        }
      ]
    },
    {
      "cell_type": "code",
      "execution_count": 115,
      "metadata": {
        "id": "xCLT9Q2bhcNv"
      },
      "outputs": [],
      "source": [
        "from Recommenders.GraphBased.RP3betaRecommender import *\n",
        "def objective_function(optuna_trial):\n",
        "  rp3 = RP3betaRecommender(urm_train)\n",
        "  rp3.fit(topK = optuna_trial.suggest_int(\"topK\", 5,200),\n",
        "          alpha = optuna_trial.suggest_float(\"alpha\", 1e-3, 1.0, log=True),\n",
        "          beta = optuna_trial.suggest_float(\"beta\", 1e-3, 0.8, log=True),\n",
        "          min_rating=optuna_trial.suggest_categorical(\"min_rating\", [0,1]),\n",
        "          implicit = True\n",
        "          )\n",
        "  result_df, _ = evaluator_validation.evaluateRecommender(rp3)\n",
        "  return result_df.loc[10][\"MAP\"]"
      ]
    },
    {
      "cell_type": "code",
      "source": [
        "class SaveResults(object):\n",
        "\n",
        "    def __init__(self):\n",
        "        self.results_df = pd.DataFrame()\n",
        "\n",
        "    def __call__(self, optuna_study, optuna_trial):\n",
        "        hyperparam_dict = optuna_trial.params.copy()\n",
        "        hyperparam_dict[\"result\"] = optuna_trial.values[0]\n",
        "\n",
        "        self.results_df = self.results_df.append(hyperparam_dict, ignore_index=True)"
      ],
      "metadata": {
        "id": "EltFJ03Ay2Kg"
      },
      "execution_count": 91,
      "outputs": []
    },
    {
      "cell_type": "code",
      "source": [
        "optuna_study = optuna.create_study(direction=\"maximize\")\n",
        "\n",
        "save_results = SaveResults()\n",
        "\n",
        "optuna_study.optimize(objective_function,\n",
        "                      callbacks=[save_results],\n",
        "                      n_trials = 1000)"
      ],
      "metadata": {
        "id": "yrbk9COxzmS0"
      },
      "execution_count": null,
      "outputs": []
    },
    {
      "cell_type": "code",
      "source": [
        "rp3_bests = {'topK': 38, 'alpha': 0.26757664834748907, 'beta': 0.11595928151320324, 'min_rating': 1,'implicit': True}"
      ],
      "metadata": {
        "id": "XBtL5f0AakvJ"
      },
      "execution_count": 19,
      "outputs": []
    },
    {
      "cell_type": "code",
      "source": [
        "item_bests = {'similarity': 'tversky', 'topK': 5, 'shrink': 21, 'tversky_alpha': 0.13257209212599813, 'tversky_beta': 1.5891321967903664}"
      ],
      "metadata": {
        "id": "IYtZY_sO88nf"
      },
      "execution_count": 20,
      "outputs": []
    },
    {
      "cell_type": "code",
      "source": [
        "recommender_instance_item = ItemKNNCFRecommender(urm_train + urm_validation)\n",
        "recommender_instance_item.fit(**item_bests)\n"
      ],
      "metadata": {
        "colab": {
          "base_uri": "https://localhost:8080/"
        },
        "id": "R-hl3tAj9FbE",
        "outputId": "39d6f9e5-46e8-41d8-dadb-baca1386eb94"
      },
      "execution_count": 119,
      "outputs": [
        {
          "output_type": "stream",
          "name": "stdout",
          "text": [
            "ItemKNNCFRecommender: URM Detected 230 ( 1.8%) users with no interactions.\n",
            "ItemKNNCFRecommender: URM Detected 93 ( 0.4%) items with no interactions.\n",
            "Similarity column 22222 (100.0%), 3731.00 column/sec. Elapsed time 5.96 sec\n"
          ]
        }
      ]
    },
    {
      "cell_type": "code",
      "source": [
        "from Recommenders.KNN.ItemKNNSimilarityHybridRecommender import *\n",
        "def objective_function_ItemKNN_similarities(optuna_trial):\n",
        "\n",
        "  itemknn = ItemKNNCFRecommender(urm_train)\n",
        "  itemknn.fit(**item_bests)\n",
        "  rp3 = RP3betaRecommender(urm_train)\n",
        "  rp3.fit(**rp3_bests)\n",
        "\n",
        "  hybrid = ItemKNNSimilarityHybridRecommender(urm_train, itemknn.W_sparse, rp3.W_sparse)\n",
        "\n",
        "  hybrid.fit(topK = optuna_trial.suggest_int(\"topK\", 5,500),\n",
        "      alpha = optuna_trial.suggest_float(\"alpha\", 0.01, 1.0, log=True))\n",
        "  result_df, _ = evaluator_validation.evaluateRecommender(hybrid)\n",
        "  return result_df.loc[10][\"MAP\"]"
      ],
      "metadata": {
        "id": "3CydGxGzbqEn"
      },
      "execution_count": 120,
      "outputs": []
    },
    {
      "cell_type": "code",
      "source": [
        "optuna_study = optuna.create_study(direction=\"maximize\")\n",
        "\n",
        "save_results = SaveResults()\n",
        "\n",
        "optuna_study.optimize(objective_function_ItemKNN_similarities,\n",
        "                      callbacks=[save_results],\n",
        "                      n_trials = 100)"
      ],
      "metadata": {
        "colab": {
          "base_uri": "https://localhost:8080/"
        },
        "id": "xauGVQ-0_wAa",
        "outputId": "d0409ef4-09ce-4263-f1a4-9ff2f549329d"
      },
      "execution_count": null,
      "outputs": [
        {
          "output_type": "stream",
          "name": "stderr",
          "text": [
            "[I 2023-11-28 17:22:37,914] A new study created in memory with name: no-name-e2e7e186-2eb7-4ce4-af16-c9cfff912c3d\n"
          ]
        },
        {
          "output_type": "stream",
          "name": "stdout",
          "text": [
            "ItemKNNCFRecommender: URM Detected 490 ( 3.9%) users with no interactions.\n",
            "ItemKNNCFRecommender: URM Detected 311 ( 1.4%) items with no interactions.\n",
            "Similarity column 22222 (100.0%), 3418.50 column/sec. Elapsed time 6.50 sec\n",
            "RP3betaRecommender: URM Detected 490 ( 3.9%) users with no interactions.\n",
            "RP3betaRecommender: URM Detected 311 ( 1.4%) items with no interactions.\n",
            "RP3betaRecommender: Similarity column 22222 (100.0%), 3014.94 column/sec. Elapsed time 7.37 sec\n",
            "ItemKNNSimilarityHybridRecommender: URM Detected 490 ( 3.9%) users with no interactions.\n",
            "ItemKNNSimilarityHybridRecommender: URM Detected 311 ( 1.4%) items with no interactions.\n",
            "EvaluatorHoldout: Processed 10039 (100.0%) in 7.93 sec. Users per second: 1266\n"
          ]
        },
        {
          "output_type": "stream",
          "name": "stderr",
          "text": [
            "[I 2023-11-28 17:23:02,170] Trial 0 finished with value: 0.03096895915453568 and parameters: {'topK': 329, 'alpha': 0.0108767852018699}. Best is trial 0 with value: 0.03096895915453568.\n"
          ]
        },
        {
          "output_type": "stream",
          "name": "stdout",
          "text": [
            "ItemKNNCFRecommender: URM Detected 490 ( 3.9%) users with no interactions.\n",
            "ItemKNNCFRecommender: URM Detected 311 ( 1.4%) items with no interactions.\n"
          ]
        },
        {
          "output_type": "stream",
          "name": "stderr",
          "text": [
            "<ipython-input-91-14c86811ef81>:10: FutureWarning: The frame.append method is deprecated and will be removed from pandas in a future version. Use pandas.concat instead.\n",
            "  self.results_df = self.results_df.append(hyperparam_dict, ignore_index=True)\n"
          ]
        },
        {
          "output_type": "stream",
          "name": "stdout",
          "text": [
            "Similarity column 22222 (100.0%), 4744.55 column/sec. Elapsed time 4.68 sec\n",
            "RP3betaRecommender: URM Detected 490 ( 3.9%) users with no interactions.\n",
            "RP3betaRecommender: URM Detected 311 ( 1.4%) items with no interactions.\n",
            "RP3betaRecommender: Similarity column 22222 (100.0%), 3113.90 column/sec. Elapsed time 7.14 sec\n",
            "ItemKNNSimilarityHybridRecommender: URM Detected 490 ( 3.9%) users with no interactions.\n",
            "ItemKNNSimilarityHybridRecommender: URM Detected 311 ( 1.4%) items with no interactions.\n",
            "EvaluatorHoldout: Processed 10039 (100.0%) in 6.96 sec. Users per second: 1443\n"
          ]
        },
        {
          "output_type": "stream",
          "name": "stderr",
          "text": [
            "[I 2023-11-28 17:23:25,150] Trial 1 finished with value: 0.03131490362190659 and parameters: {'topK': 362, 'alpha': 0.07947133717795436}. Best is trial 1 with value: 0.03131490362190659.\n"
          ]
        },
        {
          "output_type": "stream",
          "name": "stdout",
          "text": [
            "ItemKNNCFRecommender: URM Detected 490 ( 3.9%) users with no interactions.\n",
            "ItemKNNCFRecommender: URM Detected 311 ( 1.4%) items with no interactions.\n"
          ]
        },
        {
          "output_type": "stream",
          "name": "stderr",
          "text": [
            "<ipython-input-91-14c86811ef81>:10: FutureWarning: The frame.append method is deprecated and will be removed from pandas in a future version. Use pandas.concat instead.\n",
            "  self.results_df = self.results_df.append(hyperparam_dict, ignore_index=True)\n"
          ]
        },
        {
          "output_type": "stream",
          "name": "stdout",
          "text": [
            "Similarity column 22222 (100.0%), 5225.85 column/sec. Elapsed time 4.25 sec\n",
            "RP3betaRecommender: URM Detected 490 ( 3.9%) users with no interactions.\n",
            "RP3betaRecommender: URM Detected 311 ( 1.4%) items with no interactions.\n",
            "RP3betaRecommender: Similarity column 22222 (100.0%), 2418.53 column/sec. Elapsed time 9.19 sec\n",
            "ItemKNNSimilarityHybridRecommender: URM Detected 490 ( 3.9%) users with no interactions.\n",
            "ItemKNNSimilarityHybridRecommender: URM Detected 311 ( 1.4%) items with no interactions.\n",
            "EvaluatorHoldout: Processed 10039 (100.0%) in 6.40 sec. Users per second: 1569\n"
          ]
        },
        {
          "output_type": "stream",
          "name": "stderr",
          "text": [
            "[I 2023-11-28 17:23:47,303] Trial 2 finished with value: 0.031077053459761136 and parameters: {'topK': 233, 'alpha': 0.026490596333918964}. Best is trial 1 with value: 0.03131490362190659.\n"
          ]
        },
        {
          "output_type": "stream",
          "name": "stdout",
          "text": [
            "ItemKNNCFRecommender: URM Detected 490 ( 3.9%) users with no interactions.\n",
            "ItemKNNCFRecommender: URM Detected 311 ( 1.4%) items with no interactions.\n"
          ]
        },
        {
          "output_type": "stream",
          "name": "stderr",
          "text": [
            "<ipython-input-91-14c86811ef81>:10: FutureWarning: The frame.append method is deprecated and will be removed from pandas in a future version. Use pandas.concat instead.\n",
            "  self.results_df = self.results_df.append(hyperparam_dict, ignore_index=True)\n"
          ]
        },
        {
          "output_type": "stream",
          "name": "stdout",
          "text": [
            "Similarity column 22222 (100.0%), 3113.73 column/sec. Elapsed time 7.14 sec\n",
            "RP3betaRecommender: URM Detected 490 ( 3.9%) users with no interactions.\n",
            "RP3betaRecommender: URM Detected 311 ( 1.4%) items with no interactions.\n",
            "RP3betaRecommender: Similarity column 22222 (100.0%), 3378.91 column/sec. Elapsed time 6.58 sec\n",
            "ItemKNNSimilarityHybridRecommender: URM Detected 490 ( 3.9%) users with no interactions.\n",
            "ItemKNNSimilarityHybridRecommender: URM Detected 311 ( 1.4%) items with no interactions.\n",
            "EvaluatorHoldout: Processed 10039 (100.0%) in 8.28 sec. Users per second: 1212\n"
          ]
        },
        {
          "output_type": "stream",
          "name": "stderr",
          "text": [
            "[I 2023-11-28 17:24:11,706] Trial 3 finished with value: 0.031082591385659695 and parameters: {'topK': 339, 'alpha': 0.034241781161733764}. Best is trial 1 with value: 0.03131490362190659.\n"
          ]
        },
        {
          "output_type": "stream",
          "name": "stdout",
          "text": [
            "ItemKNNCFRecommender: URM Detected 490 ( 3.9%) users with no interactions.\n",
            "ItemKNNCFRecommender: URM Detected 311 ( 1.4%) items with no interactions.\n"
          ]
        },
        {
          "output_type": "stream",
          "name": "stderr",
          "text": [
            "<ipython-input-91-14c86811ef81>:10: FutureWarning: The frame.append method is deprecated and will be removed from pandas in a future version. Use pandas.concat instead.\n",
            "  self.results_df = self.results_df.append(hyperparam_dict, ignore_index=True)\n"
          ]
        },
        {
          "output_type": "stream",
          "name": "stdout",
          "text": [
            "Similarity column 22222 (100.0%), 5093.12 column/sec. Elapsed time 4.36 sec\n",
            "RP3betaRecommender: URM Detected 490 ( 3.9%) users with no interactions.\n",
            "RP3betaRecommender: URM Detected 311 ( 1.4%) items with no interactions.\n",
            "RP3betaRecommender: Similarity column 22222 (100.0%), 2631.96 column/sec. Elapsed time 8.44 sec\n",
            "ItemKNNSimilarityHybridRecommender: URM Detected 490 ( 3.9%) users with no interactions.\n",
            "ItemKNNSimilarityHybridRecommender: URM Detected 311 ( 1.4%) items with no interactions.\n",
            "EvaluatorHoldout: Processed 10039 (100.0%) in 6.39 sec. Users per second: 1571\n"
          ]
        },
        {
          "output_type": "stream",
          "name": "stderr",
          "text": [
            "[I 2023-11-28 17:24:34,202] Trial 4 finished with value: 0.031719108967091965 and parameters: {'topK': 93, 'alpha': 0.3547238647352621}. Best is trial 4 with value: 0.031719108967091965.\n"
          ]
        },
        {
          "output_type": "stream",
          "name": "stdout",
          "text": [
            "ItemKNNCFRecommender: URM Detected 490 ( 3.9%) users with no interactions.\n",
            "ItemKNNCFRecommender: URM Detected 311 ( 1.4%) items with no interactions.\n"
          ]
        },
        {
          "output_type": "stream",
          "name": "stderr",
          "text": [
            "<ipython-input-91-14c86811ef81>:10: FutureWarning: The frame.append method is deprecated and will be removed from pandas in a future version. Use pandas.concat instead.\n",
            "  self.results_df = self.results_df.append(hyperparam_dict, ignore_index=True)\n"
          ]
        },
        {
          "output_type": "stream",
          "name": "stdout",
          "text": [
            "Similarity column 22222 (100.0%), 3687.54 column/sec. Elapsed time 6.03 sec\n",
            "RP3betaRecommender: URM Detected 490 ( 3.9%) users with no interactions.\n",
            "RP3betaRecommender: URM Detected 311 ( 1.4%) items with no interactions.\n",
            "RP3betaRecommender: Similarity column 22222 (100.0%), 2794.16 column/sec. Elapsed time 7.95 sec\n",
            "ItemKNNSimilarityHybridRecommender: URM Detected 490 ( 3.9%) users with no interactions.\n",
            "ItemKNNSimilarityHybridRecommender: URM Detected 311 ( 1.4%) items with no interactions.\n",
            "EvaluatorHoldout: Processed 10039 (100.0%) in 8.42 sec. Users per second: 1192\n"
          ]
        },
        {
          "output_type": "stream",
          "name": "stderr",
          "text": [
            "[I 2023-11-28 17:24:59,051] Trial 5 finished with value: 0.03138759235805787 and parameters: {'topK': 52, 'alpha': 0.12476817902062183}. Best is trial 4 with value: 0.031719108967091965.\n"
          ]
        },
        {
          "output_type": "stream",
          "name": "stdout",
          "text": [
            "ItemKNNCFRecommender: URM Detected 490 ( 3.9%) users with no interactions.\n",
            "ItemKNNCFRecommender: URM Detected 311 ( 1.4%) items with no interactions.\n"
          ]
        },
        {
          "output_type": "stream",
          "name": "stderr",
          "text": [
            "<ipython-input-91-14c86811ef81>:10: FutureWarning: The frame.append method is deprecated and will be removed from pandas in a future version. Use pandas.concat instead.\n",
            "  self.results_df = self.results_df.append(hyperparam_dict, ignore_index=True)\n"
          ]
        },
        {
          "output_type": "stream",
          "name": "stdout",
          "text": [
            "Similarity column 22222 (100.0%), 4653.40 column/sec. Elapsed time 4.78 sec\n",
            "RP3betaRecommender: URM Detected 490 ( 3.9%) users with no interactions.\n",
            "RP3betaRecommender: URM Detected 311 ( 1.4%) items with no interactions.\n",
            "RP3betaRecommender: Similarity column 22222 (100.0%), 3408.42 column/sec. Elapsed time 6.52 sec\n",
            "ItemKNNSimilarityHybridRecommender: URM Detected 490 ( 3.9%) users with no interactions.\n",
            "ItemKNNSimilarityHybridRecommender: URM Detected 311 ( 1.4%) items with no interactions.\n",
            "EvaluatorHoldout: Processed 10039 (100.0%) in 7.51 sec. Users per second: 1336\n"
          ]
        },
        {
          "output_type": "stream",
          "name": "stderr",
          "text": [
            "[I 2023-11-28 17:25:22,012] Trial 6 finished with value: 0.03117912364002636 and parameters: {'topK': 36, 'alpha': 0.08786227657049131}. Best is trial 4 with value: 0.031719108967091965.\n"
          ]
        },
        {
          "output_type": "stream",
          "name": "stdout",
          "text": [
            "ItemKNNCFRecommender: URM Detected 490 ( 3.9%) users with no interactions.\n",
            "ItemKNNCFRecommender: URM Detected 311 ( 1.4%) items with no interactions.\n"
          ]
        },
        {
          "output_type": "stream",
          "name": "stderr",
          "text": [
            "<ipython-input-91-14c86811ef81>:10: FutureWarning: The frame.append method is deprecated and will be removed from pandas in a future version. Use pandas.concat instead.\n",
            "  self.results_df = self.results_df.append(hyperparam_dict, ignore_index=True)\n"
          ]
        },
        {
          "output_type": "stream",
          "name": "stdout",
          "text": [
            "Similarity column 22222 (100.0%), 5104.36 column/sec. Elapsed time 4.35 sec\n",
            "RP3betaRecommender: URM Detected 490 ( 3.9%) users with no interactions.\n",
            "RP3betaRecommender: URM Detected 311 ( 1.4%) items with no interactions.\n",
            "RP3betaRecommender: Similarity column 22222 (100.0%), 2367.51 column/sec. Elapsed time 9.39 sec\n",
            "ItemKNNSimilarityHybridRecommender: URM Detected 490 ( 3.9%) users with no interactions.\n",
            "ItemKNNSimilarityHybridRecommender: URM Detected 311 ( 1.4%) items with no interactions.\n",
            "EvaluatorHoldout: Processed 10039 (100.0%) in 7.27 sec. Users per second: 1381\n"
          ]
        },
        {
          "output_type": "stream",
          "name": "stderr",
          "text": [
            "[I 2023-11-28 17:25:45,500] Trial 7 finished with value: 0.03165073672992809 and parameters: {'topK': 211, 'alpha': 0.3939194070320081}. Best is trial 4 with value: 0.031719108967091965.\n"
          ]
        },
        {
          "output_type": "stream",
          "name": "stdout",
          "text": [
            "ItemKNNCFRecommender: URM Detected 490 ( 3.9%) users with no interactions.\n",
            "ItemKNNCFRecommender: URM Detected 311 ( 1.4%) items with no interactions.\n"
          ]
        },
        {
          "output_type": "stream",
          "name": "stderr",
          "text": [
            "<ipython-input-91-14c86811ef81>:10: FutureWarning: The frame.append method is deprecated and will be removed from pandas in a future version. Use pandas.concat instead.\n",
            "  self.results_df = self.results_df.append(hyperparam_dict, ignore_index=True)\n"
          ]
        },
        {
          "output_type": "stream",
          "name": "stdout",
          "text": [
            "Similarity column 22222 (100.0%), 3378.87 column/sec. Elapsed time 6.58 sec\n",
            "RP3betaRecommender: URM Detected 490 ( 3.9%) users with no interactions.\n",
            "RP3betaRecommender: URM Detected 311 ( 1.4%) items with no interactions.\n",
            "RP3betaRecommender: Similarity column 22222 (100.0%), 3244.19 column/sec. Elapsed time 6.85 sec\n",
            "ItemKNNSimilarityHybridRecommender: URM Detected 490 ( 3.9%) users with no interactions.\n",
            "ItemKNNSimilarityHybridRecommender: URM Detected 311 ( 1.4%) items with no interactions.\n",
            "EvaluatorHoldout: Processed 10039 (100.0%) in 8.02 sec. Users per second: 1252\n"
          ]
        },
        {
          "output_type": "stream",
          "name": "stderr",
          "text": [
            "[I 2023-11-28 17:26:09,904] Trial 8 finished with value: 0.03103785711914037 and parameters: {'topK': 308, 'alpha': 0.016994674574615565}. Best is trial 4 with value: 0.031719108967091965.\n"
          ]
        },
        {
          "output_type": "stream",
          "name": "stdout",
          "text": [
            "ItemKNNCFRecommender: URM Detected 490 ( 3.9%) users with no interactions.\n",
            "ItemKNNCFRecommender: URM Detected 311 ( 1.4%) items with no interactions.\n"
          ]
        },
        {
          "output_type": "stream",
          "name": "stderr",
          "text": [
            "<ipython-input-91-14c86811ef81>:10: FutureWarning: The frame.append method is deprecated and will be removed from pandas in a future version. Use pandas.concat instead.\n",
            "  self.results_df = self.results_df.append(hyperparam_dict, ignore_index=True)\n"
          ]
        },
        {
          "output_type": "stream",
          "name": "stdout",
          "text": [
            "Similarity column 22222 (100.0%), 5173.70 column/sec. Elapsed time 4.30 sec\n",
            "RP3betaRecommender: URM Detected 490 ( 3.9%) users with no interactions.\n",
            "RP3betaRecommender: URM Detected 311 ( 1.4%) items with no interactions.\n",
            "RP3betaRecommender: Similarity column 22222 (100.0%), 2385.07 column/sec. Elapsed time 9.32 sec\n",
            "ItemKNNSimilarityHybridRecommender: URM Detected 490 ( 3.9%) users with no interactions.\n",
            "ItemKNNSimilarityHybridRecommender: URM Detected 311 ( 1.4%) items with no interactions.\n",
            "EvaluatorHoldout: Processed 10039 (100.0%) in 6.27 sec. Users per second: 1600\n"
          ]
        },
        {
          "output_type": "stream",
          "name": "stderr",
          "text": [
            "[I 2023-11-28 17:26:32,646] Trial 9 finished with value: 0.0310686101980058 and parameters: {'topK': 26, 'alpha': 0.05720133193255873}. Best is trial 4 with value: 0.031719108967091965.\n"
          ]
        },
        {
          "output_type": "stream",
          "name": "stdout",
          "text": [
            "ItemKNNCFRecommender: URM Detected 490 ( 3.9%) users with no interactions.\n",
            "ItemKNNCFRecommender: URM Detected 311 ( 1.4%) items with no interactions.\n"
          ]
        },
        {
          "output_type": "stream",
          "name": "stderr",
          "text": [
            "<ipython-input-91-14c86811ef81>:10: FutureWarning: The frame.append method is deprecated and will be removed from pandas in a future version. Use pandas.concat instead.\n",
            "  self.results_df = self.results_df.append(hyperparam_dict, ignore_index=True)\n"
          ]
        },
        {
          "output_type": "stream",
          "name": "stdout",
          "text": [
            "Similarity column 22222 (100.0%), 3264.18 column/sec. Elapsed time 6.81 sec\n",
            "RP3betaRecommender: URM Detected 490 ( 3.9%) users with no interactions.\n",
            "RP3betaRecommender: URM Detected 311 ( 1.4%) items with no interactions.\n",
            "RP3betaRecommender: Similarity column 22222 (100.0%), 3064.70 column/sec. Elapsed time 7.25 sec\n",
            "ItemKNNSimilarityHybridRecommender: URM Detected 490 ( 3.9%) users with no interactions.\n",
            "ItemKNNSimilarityHybridRecommender: URM Detected 311 ( 1.4%) items with no interactions.\n",
            "EvaluatorHoldout: Processed 10039 (100.0%) in 8.44 sec. Users per second: 1189\n"
          ]
        },
        {
          "output_type": "stream",
          "name": "stderr",
          "text": [
            "[I 2023-11-28 17:26:57,649] Trial 10 finished with value: 0.03041900081744705 and parameters: {'topK': 131, 'alpha': 0.9100724058886932}. Best is trial 4 with value: 0.031719108967091965.\n"
          ]
        },
        {
          "output_type": "stream",
          "name": "stdout",
          "text": [
            "ItemKNNCFRecommender: URM Detected 490 ( 3.9%) users with no interactions.\n",
            "ItemKNNCFRecommender: URM Detected 311 ( 1.4%) items with no interactions.\n"
          ]
        },
        {
          "output_type": "stream",
          "name": "stderr",
          "text": [
            "<ipython-input-91-14c86811ef81>:10: FutureWarning: The frame.append method is deprecated and will be removed from pandas in a future version. Use pandas.concat instead.\n",
            "  self.results_df = self.results_df.append(hyperparam_dict, ignore_index=True)\n"
          ]
        },
        {
          "output_type": "stream",
          "name": "stdout",
          "text": [
            "Similarity column 22222 (100.0%), 5102.28 column/sec. Elapsed time 4.36 sec\n",
            "RP3betaRecommender: URM Detected 490 ( 3.9%) users with no interactions.\n",
            "RP3betaRecommender: URM Detected 311 ( 1.4%) items with no interactions.\n",
            "RP3betaRecommender: Similarity column 22222 (100.0%), 2858.34 column/sec. Elapsed time 7.77 sec\n",
            "ItemKNNSimilarityHybridRecommender: URM Detected 490 ( 3.9%) users with no interactions.\n",
            "ItemKNNSimilarityHybridRecommender: URM Detected 311 ( 1.4%) items with no interactions.\n",
            "EvaluatorHoldout: Processed 10039 (100.0%) in 6.40 sec. Users per second: 1568\n"
          ]
        },
        {
          "output_type": "stream",
          "name": "stderr",
          "text": [
            "[I 2023-11-28 17:27:20,226] Trial 11 finished with value: 0.031652527365496966 and parameters: {'topK': 494, 'alpha': 0.38795652744583775}. Best is trial 4 with value: 0.031719108967091965.\n"
          ]
        },
        {
          "output_type": "stream",
          "name": "stdout",
          "text": [
            "ItemKNNCFRecommender: URM Detected 490 ( 3.9%) users with no interactions.\n",
            "ItemKNNCFRecommender: URM Detected 311 ( 1.4%) items with no interactions.\n"
          ]
        },
        {
          "output_type": "stream",
          "name": "stderr",
          "text": [
            "<ipython-input-91-14c86811ef81>:10: FutureWarning: The frame.append method is deprecated and will be removed from pandas in a future version. Use pandas.concat instead.\n",
            "  self.results_df = self.results_df.append(hyperparam_dict, ignore_index=True)\n"
          ]
        },
        {
          "output_type": "stream",
          "name": "stdout",
          "text": [
            "Similarity column 22222 (100.0%), 4556.48 column/sec. Elapsed time 4.88 sec\n",
            "RP3betaRecommender: URM Detected 490 ( 3.9%) users with no interactions.\n",
            "RP3betaRecommender: URM Detected 311 ( 1.4%) items with no interactions.\n",
            "RP3betaRecommender: Similarity column 22222 (100.0%), 2602.45 column/sec. Elapsed time 8.54 sec\n",
            "ItemKNNSimilarityHybridRecommender: URM Detected 490 ( 3.9%) users with no interactions.\n",
            "ItemKNNSimilarityHybridRecommender: URM Detected 311 ( 1.4%) items with no interactions.\n",
            "EvaluatorHoldout: Processed 10039 (100.0%) in 7.47 sec. Users per second: 1344\n"
          ]
        },
        {
          "output_type": "stream",
          "name": "stderr",
          "text": [
            "[I 2023-11-28 17:27:43,410] Trial 12 finished with value: 0.03166325536755879 and parameters: {'topK': 499, 'alpha': 0.21994458889752805}. Best is trial 4 with value: 0.031719108967091965.\n"
          ]
        },
        {
          "output_type": "stream",
          "name": "stdout",
          "text": [
            "ItemKNNCFRecommender: URM Detected 490 ( 3.9%) users with no interactions.\n",
            "ItemKNNCFRecommender: URM Detected 311 ( 1.4%) items with no interactions.\n"
          ]
        },
        {
          "output_type": "stream",
          "name": "stderr",
          "text": [
            "<ipython-input-91-14c86811ef81>:10: FutureWarning: The frame.append method is deprecated and will be removed from pandas in a future version. Use pandas.concat instead.\n",
            "  self.results_df = self.results_df.append(hyperparam_dict, ignore_index=True)\n"
          ]
        },
        {
          "output_type": "stream",
          "name": "stdout",
          "text": [
            "Similarity column 22222 (100.0%), 3622.36 column/sec. Elapsed time 6.13 sec\n",
            "RP3betaRecommender: URM Detected 490 ( 3.9%) users with no interactions.\n",
            "RP3betaRecommender: URM Detected 311 ( 1.4%) items with no interactions.\n",
            "RP3betaRecommender: Similarity column 22222 (100.0%), 3210.93 column/sec. Elapsed time 6.92 sec\n",
            "ItemKNNSimilarityHybridRecommender: URM Detected 490 ( 3.9%) users with no interactions.\n",
            "ItemKNNSimilarityHybridRecommender: URM Detected 311 ( 1.4%) items with no interactions.\n",
            "EvaluatorHoldout: Processed 10039 (100.0%) in 7.56 sec. Users per second: 1329\n"
          ]
        },
        {
          "output_type": "stream",
          "name": "stderr",
          "text": [
            "[I 2023-11-28 17:28:07,604] Trial 13 finished with value: 0.03167412567178502 and parameters: {'topK': 496, 'alpha': 0.19555100417919202}. Best is trial 4 with value: 0.031719108967091965.\n"
          ]
        },
        {
          "output_type": "stream",
          "name": "stdout",
          "text": [
            "ItemKNNCFRecommender: URM Detected 490 ( 3.9%) users with no interactions.\n",
            "ItemKNNCFRecommender: URM Detected 311 ( 1.4%) items with no interactions.\n"
          ]
        },
        {
          "output_type": "stream",
          "name": "stderr",
          "text": [
            "<ipython-input-91-14c86811ef81>:10: FutureWarning: The frame.append method is deprecated and will be removed from pandas in a future version. Use pandas.concat instead.\n",
            "  self.results_df = self.results_df.append(hyperparam_dict, ignore_index=True)\n"
          ]
        },
        {
          "output_type": "stream",
          "name": "stdout",
          "text": [
            "Similarity column 22222 (100.0%), 5126.19 column/sec. Elapsed time 4.33 sec\n",
            "RP3betaRecommender: URM Detected 490 ( 3.9%) users with no interactions.\n",
            "RP3betaRecommender: URM Detected 311 ( 1.4%) items with no interactions.\n",
            "RP3betaRecommender: Similarity column 22222 (100.0%), 2349.90 column/sec. Elapsed time 9.46 sec\n",
            "ItemKNNSimilarityHybridRecommender: URM Detected 490 ( 3.9%) users with no interactions.\n",
            "ItemKNNSimilarityHybridRecommender: URM Detected 311 ( 1.4%) items with no interactions.\n",
            "EvaluatorHoldout: Processed 10039 (100.0%) in 7.12 sec. Users per second: 1409\n"
          ]
        },
        {
          "output_type": "stream",
          "name": "stderr",
          "text": [
            "[I 2023-11-28 17:28:30,811] Trial 14 finished with value: 0.03163354188506118 and parameters: {'topK': 129, 'alpha': 0.18472945264192955}. Best is trial 4 with value: 0.031719108967091965.\n"
          ]
        },
        {
          "output_type": "stream",
          "name": "stdout",
          "text": [
            "ItemKNNCFRecommender: URM Detected 490 ( 3.9%) users with no interactions.\n",
            "ItemKNNCFRecommender: URM Detected 311 ( 1.4%) items with no interactions.\n"
          ]
        },
        {
          "output_type": "stream",
          "name": "stderr",
          "text": [
            "<ipython-input-91-14c86811ef81>:10: FutureWarning: The frame.append method is deprecated and will be removed from pandas in a future version. Use pandas.concat instead.\n",
            "  self.results_df = self.results_df.append(hyperparam_dict, ignore_index=True)\n"
          ]
        },
        {
          "output_type": "stream",
          "name": "stdout",
          "text": [
            "Similarity column 22222 (100.0%), 3015.54 column/sec. Elapsed time 7.37 sec\n",
            "RP3betaRecommender: URM Detected 490 ( 3.9%) users with no interactions.\n",
            "RP3betaRecommender: URM Detected 311 ( 1.4%) items with no interactions.\n",
            "RP3betaRecommender: Similarity column 22222 (100.0%), 3379.01 column/sec. Elapsed time 6.58 sec\n",
            "ItemKNNSimilarityHybridRecommender: URM Detected 490 ( 3.9%) users with no interactions.\n",
            "ItemKNNSimilarityHybridRecommender: URM Detected 311 ( 1.4%) items with no interactions.\n",
            "EvaluatorHoldout: Processed 10039 (100.0%) in 8.30 sec. Users per second: 1209\n"
          ]
        },
        {
          "output_type": "stream",
          "name": "stderr",
          "text": [
            "[I 2023-11-28 17:28:55,436] Trial 15 finished with value: 0.031722488643496846 and parameters: {'topK': 402, 'alpha': 0.3174164466957008}. Best is trial 15 with value: 0.031722488643496846.\n"
          ]
        },
        {
          "output_type": "stream",
          "name": "stdout",
          "text": [
            "ItemKNNCFRecommender: URM Detected 490 ( 3.9%) users with no interactions.\n",
            "ItemKNNCFRecommender: URM Detected 311 ( 1.4%) items with no interactions.\n"
          ]
        },
        {
          "output_type": "stream",
          "name": "stderr",
          "text": [
            "<ipython-input-91-14c86811ef81>:10: FutureWarning: The frame.append method is deprecated and will be removed from pandas in a future version. Use pandas.concat instead.\n",
            "  self.results_df = self.results_df.append(hyperparam_dict, ignore_index=True)\n"
          ]
        },
        {
          "output_type": "stream",
          "name": "stdout",
          "text": [
            "Similarity column 22222 (100.0%), 5145.88 column/sec. Elapsed time 4.32 sec\n",
            "RP3betaRecommender: URM Detected 490 ( 3.9%) users with no interactions.\n",
            "RP3betaRecommender: URM Detected 311 ( 1.4%) items with no interactions.\n",
            "RP3betaRecommender: Similarity column 22222 (100.0%), 2645.68 column/sec. Elapsed time 8.40 sec\n",
            "ItemKNNSimilarityHybridRecommender: URM Detected 490 ( 3.9%) users with no interactions.\n",
            "ItemKNNSimilarityHybridRecommender: URM Detected 311 ( 1.4%) items with no interactions.\n",
            "EvaluatorHoldout: Processed 10039 (100.0%) in 5.99 sec. Users per second: 1677\n"
          ]
        },
        {
          "output_type": "stream",
          "name": "stderr",
          "text": [
            "[I 2023-11-28 17:29:17,626] Trial 16 finished with value: 0.03097040589320725 and parameters: {'topK': 386, 'alpha': 0.7651999731698299}. Best is trial 15 with value: 0.031722488643496846.\n"
          ]
        },
        {
          "output_type": "stream",
          "name": "stdout",
          "text": [
            "ItemKNNCFRecommender: URM Detected 490 ( 3.9%) users with no interactions.\n",
            "ItemKNNCFRecommender: URM Detected 311 ( 1.4%) items with no interactions.\n"
          ]
        },
        {
          "output_type": "stream",
          "name": "stderr",
          "text": [
            "<ipython-input-91-14c86811ef81>:10: FutureWarning: The frame.append method is deprecated and will be removed from pandas in a future version. Use pandas.concat instead.\n",
            "  self.results_df = self.results_df.append(hyperparam_dict, ignore_index=True)\n"
          ]
        },
        {
          "output_type": "stream",
          "name": "stdout",
          "text": [
            "Similarity column 22222 (100.0%), 4277.22 column/sec. Elapsed time 5.20 sec\n",
            "RP3betaRecommender: URM Detected 490 ( 3.9%) users with no interactions.\n",
            "RP3betaRecommender: URM Detected 311 ( 1.4%) items with no interactions.\n",
            "RP3betaRecommender: Similarity column 22222 (100.0%), 2668.41 column/sec. Elapsed time 8.33 sec\n",
            "ItemKNNSimilarityHybridRecommender: URM Detected 490 ( 3.9%) users with no interactions.\n",
            "ItemKNNSimilarityHybridRecommender: URM Detected 311 ( 1.4%) items with no interactions.\n",
            "EvaluatorHoldout: Processed 10039 (100.0%) in 7.76 sec. Users per second: 1294\n"
          ]
        },
        {
          "output_type": "stream",
          "name": "stderr",
          "text": [
            "[I 2023-11-28 17:29:41,294] Trial 17 finished with value: 0.03157131631083242 and parameters: {'topK': 428, 'alpha': 0.4298616293711293}. Best is trial 15 with value: 0.031722488643496846.\n"
          ]
        },
        {
          "output_type": "stream",
          "name": "stdout",
          "text": [
            "ItemKNNCFRecommender: URM Detected 490 ( 3.9%) users with no interactions.\n",
            "ItemKNNCFRecommender: URM Detected 311 ( 1.4%) items with no interactions.\n"
          ]
        },
        {
          "output_type": "stream",
          "name": "stderr",
          "text": [
            "<ipython-input-91-14c86811ef81>:10: FutureWarning: The frame.append method is deprecated and will be removed from pandas in a future version. Use pandas.concat instead.\n",
            "  self.results_df = self.results_df.append(hyperparam_dict, ignore_index=True)\n"
          ]
        },
        {
          "output_type": "stream",
          "name": "stdout",
          "text": [
            "Similarity column 22222 (100.0%), 3984.37 column/sec. Elapsed time 5.58 sec\n",
            "RP3betaRecommender: URM Detected 490 ( 3.9%) users with no interactions.\n",
            "RP3betaRecommender: URM Detected 311 ( 1.4%) items with no interactions.\n",
            "RP3betaRecommender: Similarity column 22222 (100.0%), 3243.07 column/sec. Elapsed time 6.85 sec\n",
            "ItemKNNSimilarityHybridRecommender: URM Detected 490 ( 3.9%) users with no interactions.\n",
            "ItemKNNSimilarityHybridRecommender: URM Detected 311 ( 1.4%) items with no interactions.\n",
            "EvaluatorHoldout: Processed 10039 (100.0%) in 7.46 sec. Users per second: 1346\n"
          ]
        },
        {
          "output_type": "stream",
          "name": "stderr",
          "text": [
            "[I 2023-11-28 17:30:04,936] Trial 18 finished with value: 0.0312401317401818 and parameters: {'topK': 162, 'alpha': 0.6168893711383082}. Best is trial 15 with value: 0.031722488643496846.\n"
          ]
        },
        {
          "output_type": "stream",
          "name": "stdout",
          "text": [
            "ItemKNNCFRecommender: URM Detected 490 ( 3.9%) users with no interactions.\n",
            "ItemKNNCFRecommender: URM Detected 311 ( 1.4%) items with no interactions.\n"
          ]
        },
        {
          "output_type": "stream",
          "name": "stderr",
          "text": [
            "<ipython-input-91-14c86811ef81>:10: FutureWarning: The frame.append method is deprecated and will be removed from pandas in a future version. Use pandas.concat instead.\n",
            "  self.results_df = self.results_df.append(hyperparam_dict, ignore_index=True)\n"
          ]
        },
        {
          "output_type": "stream",
          "name": "stdout",
          "text": [
            "Similarity column 22222 (100.0%), 5143.93 column/sec. Elapsed time 4.32 sec\n",
            "RP3betaRecommender: URM Detected 490 ( 3.9%) users with no interactions.\n",
            "RP3betaRecommender: URM Detected 311 ( 1.4%) items with no interactions.\n",
            "RP3betaRecommender: Similarity column 22222 (100.0%), 2422.68 column/sec. Elapsed time 9.17 sec\n",
            "ItemKNNSimilarityHybridRecommender: URM Detected 490 ( 3.9%) users with no interactions.\n",
            "ItemKNNSimilarityHybridRecommender: URM Detected 311 ( 1.4%) items with no interactions.\n",
            "EvaluatorHoldout: Processed 10039 (100.0%) in 6.43 sec. Users per second: 1562\n"
          ]
        },
        {
          "output_type": "stream",
          "name": "stderr",
          "text": [
            "[I 2023-11-28 17:30:27,304] Trial 19 finished with value: 0.0316850275987144 and parameters: {'topK': 278, 'alpha': 0.2769551341388645}. Best is trial 15 with value: 0.031722488643496846.\n"
          ]
        },
        {
          "output_type": "stream",
          "name": "stdout",
          "text": [
            "ItemKNNCFRecommender: URM Detected 490 ( 3.9%) users with no interactions.\n",
            "ItemKNNCFRecommender: URM Detected 311 ( 1.4%) items with no interactions.\n"
          ]
        },
        {
          "output_type": "stream",
          "name": "stderr",
          "text": [
            "<ipython-input-91-14c86811ef81>:10: FutureWarning: The frame.append method is deprecated and will be removed from pandas in a future version. Use pandas.concat instead.\n",
            "  self.results_df = self.results_df.append(hyperparam_dict, ignore_index=True)\n"
          ]
        },
        {
          "output_type": "stream",
          "name": "stdout",
          "text": [
            "Similarity column 22222 (100.0%), 2969.58 column/sec. Elapsed time 7.48 sec\n",
            "RP3betaRecommender: URM Detected 490 ( 3.9%) users with no interactions.\n",
            "RP3betaRecommender: URM Detected 311 ( 1.4%) items with no interactions.\n",
            "RP3betaRecommender: Similarity column 22222 (100.0%), 3175.34 column/sec. Elapsed time 7.00 sec\n",
            "ItemKNNSimilarityHybridRecommender: URM Detected 490 ( 3.9%) users with no interactions.\n",
            "ItemKNNSimilarityHybridRecommender: URM Detected 311 ( 1.4%) items with no interactions.\n",
            "EvaluatorHoldout: Processed 10039 (100.0%) in 8.34 sec. Users per second: 1204\n"
          ]
        },
        {
          "output_type": "stream",
          "name": "stderr",
          "text": [
            "[I 2023-11-28 17:30:52,485] Trial 20 finished with value: 0.031364875398644 and parameters: {'topK': 425, 'alpha': 0.5587476256117136}. Best is trial 15 with value: 0.031722488643496846.\n"
          ]
        },
        {
          "output_type": "stream",
          "name": "stdout",
          "text": [
            "ItemKNNCFRecommender: URM Detected 490 ( 3.9%) users with no interactions.\n",
            "ItemKNNCFRecommender: URM Detected 311 ( 1.4%) items with no interactions.\n"
          ]
        },
        {
          "output_type": "stream",
          "name": "stderr",
          "text": [
            "<ipython-input-91-14c86811ef81>:10: FutureWarning: The frame.append method is deprecated and will be removed from pandas in a future version. Use pandas.concat instead.\n",
            "  self.results_df = self.results_df.append(hyperparam_dict, ignore_index=True)\n"
          ]
        },
        {
          "output_type": "stream",
          "name": "stdout",
          "text": [
            "Similarity column 22222 (100.0%), 5193.99 column/sec. Elapsed time 4.28 sec\n",
            "RP3betaRecommender: URM Detected 490 ( 3.9%) users with no interactions.\n",
            "RP3betaRecommender: URM Detected 311 ( 1.4%) items with no interactions.\n",
            "RP3betaRecommender: Similarity column 22222 (100.0%), 2662.54 column/sec. Elapsed time 8.35 sec\n",
            "ItemKNNSimilarityHybridRecommender: URM Detected 490 ( 3.9%) users with no interactions.\n",
            "ItemKNNSimilarityHybridRecommender: URM Detected 311 ( 1.4%) items with no interactions.\n",
            "EvaluatorHoldout: Processed 10039 (100.0%) in 7.17 sec. Users per second: 1399\n"
          ]
        },
        {
          "output_type": "stream",
          "name": "stderr",
          "text": [
            "[I 2023-11-28 17:31:15,787] Trial 21 finished with value: 0.03166767464033146 and parameters: {'topK': 271, 'alpha': 0.2744052828969199}. Best is trial 15 with value: 0.031722488643496846.\n"
          ]
        },
        {
          "output_type": "stream",
          "name": "stdout",
          "text": [
            "ItemKNNCFRecommender: URM Detected 490 ( 3.9%) users with no interactions.\n",
            "ItemKNNCFRecommender: URM Detected 311 ( 1.4%) items with no interactions.\n"
          ]
        },
        {
          "output_type": "stream",
          "name": "stderr",
          "text": [
            "<ipython-input-91-14c86811ef81>:10: FutureWarning: The frame.append method is deprecated and will be removed from pandas in a future version. Use pandas.concat instead.\n",
            "  self.results_df = self.results_df.append(hyperparam_dict, ignore_index=True)\n"
          ]
        },
        {
          "output_type": "stream",
          "name": "stdout",
          "text": [
            "Similarity column 22222 (100.0%), 3503.03 column/sec. Elapsed time 6.34 sec\n",
            "RP3betaRecommender: URM Detected 490 ( 3.9%) users with no interactions.\n",
            "RP3betaRecommender: URM Detected 311 ( 1.4%) items with no interactions.\n",
            "RP3betaRecommender: Similarity column 22222 (100.0%), 3067.94 column/sec. Elapsed time 7.24 sec\n",
            "ItemKNNSimilarityHybridRecommender: URM Detected 490 ( 3.9%) users with no interactions.\n",
            "ItemKNNSimilarityHybridRecommender: URM Detected 311 ( 1.4%) items with no interactions.\n",
            "EvaluatorHoldout: Processed 10039 (100.0%) in 7.93 sec. Users per second: 1266\n"
          ]
        },
        {
          "output_type": "stream",
          "name": "stderr",
          "text": [
            "[I 2023-11-28 17:31:39,760] Trial 22 finished with value: 0.03167468697476681 and parameters: {'topK': 195, 'alpha': 0.2834505281599522}. Best is trial 15 with value: 0.031722488643496846.\n"
          ]
        },
        {
          "output_type": "stream",
          "name": "stdout",
          "text": [
            "ItemKNNCFRecommender: URM Detected 490 ( 3.9%) users with no interactions.\n",
            "ItemKNNCFRecommender: URM Detected 311 ( 1.4%) items with no interactions.\n"
          ]
        },
        {
          "output_type": "stream",
          "name": "stderr",
          "text": [
            "<ipython-input-91-14c86811ef81>:10: FutureWarning: The frame.append method is deprecated and will be removed from pandas in a future version. Use pandas.concat instead.\n",
            "  self.results_df = self.results_df.append(hyperparam_dict, ignore_index=True)\n"
          ]
        },
        {
          "output_type": "stream",
          "name": "stdout",
          "text": [
            "Similarity column 22222 (100.0%), 4729.96 column/sec. Elapsed time 4.70 sec\n",
            "RP3betaRecommender: URM Detected 490 ( 3.9%) users with no interactions.\n",
            "RP3betaRecommender: URM Detected 311 ( 1.4%) items with no interactions.\n",
            "RP3betaRecommender: Similarity column 22222 (100.0%), 3142.97 column/sec. Elapsed time 7.07 sec\n",
            "ItemKNNSimilarityHybridRecommender: URM Detected 490 ( 3.9%) users with no interactions.\n",
            "ItemKNNSimilarityHybridRecommender: URM Detected 311 ( 1.4%) items with no interactions.\n",
            "EvaluatorHoldout: Processed 10039 (100.0%) in 7.17 sec. Users per second: 1399\n"
          ]
        },
        {
          "output_type": "stream",
          "name": "stderr",
          "text": [
            "[I 2023-11-28 17:32:02,880] Trial 23 finished with value: 0.03144290837163667 and parameters: {'topK': 280, 'alpha': 0.13617673723268933}. Best is trial 15 with value: 0.031722488643496846.\n"
          ]
        },
        {
          "output_type": "stream",
          "name": "stdout",
          "text": [
            "ItemKNNCFRecommender: URM Detected 490 ( 3.9%) users with no interactions.\n",
            "ItemKNNCFRecommender: URM Detected 311 ( 1.4%) items with no interactions.\n"
          ]
        },
        {
          "output_type": "stream",
          "name": "stderr",
          "text": [
            "<ipython-input-91-14c86811ef81>:10: FutureWarning: The frame.append method is deprecated and will be removed from pandas in a future version. Use pandas.concat instead.\n",
            "  self.results_df = self.results_df.append(hyperparam_dict, ignore_index=True)\n"
          ]
        },
        {
          "output_type": "stream",
          "name": "stdout",
          "text": [
            "Similarity column 22222 (100.0%), 5162.41 column/sec. Elapsed time 4.30 sec\n",
            "RP3betaRecommender: URM Detected 490 ( 3.9%) users with no interactions.\n",
            "RP3betaRecommender: URM Detected 311 ( 1.4%) items with no interactions.\n",
            "RP3betaRecommender: Similarity column 22222 (100.0%), 2467.60 column/sec. Elapsed time 9.01 sec\n",
            "ItemKNNSimilarityHybridRecommender: URM Detected 490 ( 3.9%) users with no interactions.\n",
            "ItemKNNSimilarityHybridRecommender: URM Detected 311 ( 1.4%) items with no interactions.\n",
            "EvaluatorHoldout: Processed 10039 (100.0%) in 7.31 sec. Users per second: 1374\n"
          ]
        },
        {
          "output_type": "stream",
          "name": "stderr",
          "text": [
            "[I 2023-11-28 17:32:25,846] Trial 24 finished with value: 0.031671449600526314 and parameters: {'topK': 85, 'alpha': 0.3052830932351308}. Best is trial 15 with value: 0.031722488643496846.\n"
          ]
        },
        {
          "output_type": "stream",
          "name": "stdout",
          "text": [
            "ItemKNNCFRecommender: URM Detected 490 ( 3.9%) users with no interactions.\n",
            "ItemKNNCFRecommender: URM Detected 311 ( 1.4%) items with no interactions.\n"
          ]
        },
        {
          "output_type": "stream",
          "name": "stderr",
          "text": [
            "<ipython-input-91-14c86811ef81>:10: FutureWarning: The frame.append method is deprecated and will be removed from pandas in a future version. Use pandas.concat instead.\n",
            "  self.results_df = self.results_df.append(hyperparam_dict, ignore_index=True)\n"
          ]
        },
        {
          "output_type": "stream",
          "name": "stdout",
          "text": [
            "Similarity column 22222 (100.0%), 3367.29 column/sec. Elapsed time 6.60 sec\n",
            "RP3betaRecommender: URM Detected 490 ( 3.9%) users with no interactions.\n",
            "RP3betaRecommender: URM Detected 311 ( 1.4%) items with no interactions.\n",
            "RP3betaRecommender: Similarity column 22222 (100.0%), 3330.27 column/sec. Elapsed time 6.67 sec\n",
            "ItemKNNSimilarityHybridRecommender: URM Detected 490 ( 3.9%) users with no interactions.\n",
            "ItemKNNSimilarityHybridRecommender: URM Detected 311 ( 1.4%) items with no interactions.\n",
            "EvaluatorHoldout: Processed 10039 (100.0%) in 8.08 sec. Users per second: 1243\n"
          ]
        },
        {
          "output_type": "stream",
          "name": "stderr",
          "text": [
            "[I 2023-11-28 17:32:49,966] Trial 25 finished with value: 0.031325441887749175 and parameters: {'topK': 428, 'alpha': 0.5808604481609451}. Best is trial 15 with value: 0.031722488643496846.\n"
          ]
        },
        {
          "output_type": "stream",
          "name": "stdout",
          "text": [
            "ItemKNNCFRecommender: URM Detected 490 ( 3.9%) users with no interactions.\n",
            "ItemKNNCFRecommender: URM Detected 311 ( 1.4%) items with no interactions.\n"
          ]
        },
        {
          "output_type": "stream",
          "name": "stderr",
          "text": [
            "<ipython-input-91-14c86811ef81>:10: FutureWarning: The frame.append method is deprecated and will be removed from pandas in a future version. Use pandas.concat instead.\n",
            "  self.results_df = self.results_df.append(hyperparam_dict, ignore_index=True)\n"
          ]
        },
        {
          "output_type": "stream",
          "name": "stdout",
          "text": [
            "Similarity column 22222 (100.0%), 5041.07 column/sec. Elapsed time 4.41 sec\n",
            "RP3betaRecommender: URM Detected 490 ( 3.9%) users with no interactions.\n",
            "RP3betaRecommender: URM Detected 311 ( 1.4%) items with no interactions.\n",
            "RP3betaRecommender: Similarity column 22222 (100.0%), 2471.61 column/sec. Elapsed time 8.99 sec\n",
            "ItemKNNSimilarityHybridRecommender: URM Detected 490 ( 3.9%) users with no interactions.\n",
            "ItemKNNSimilarityHybridRecommender: URM Detected 311 ( 1.4%) items with no interactions.\n",
            "EvaluatorHoldout: Processed 10039 (100.0%) in 6.50 sec. Users per second: 1545\n"
          ]
        },
        {
          "output_type": "stream",
          "name": "stderr",
          "text": [
            "[I 2023-11-28 17:33:12,497] Trial 26 finished with value: 0.03154207716888288 and parameters: {'topK': 86, 'alpha': 0.15587777976635567}. Best is trial 15 with value: 0.031722488643496846.\n"
          ]
        },
        {
          "output_type": "stream",
          "name": "stdout",
          "text": [
            "ItemKNNCFRecommender: URM Detected 490 ( 3.9%) users with no interactions.\n",
            "ItemKNNCFRecommender: URM Detected 311 ( 1.4%) items with no interactions.\n"
          ]
        },
        {
          "output_type": "stream",
          "name": "stderr",
          "text": [
            "<ipython-input-91-14c86811ef81>:10: FutureWarning: The frame.append method is deprecated and will be removed from pandas in a future version. Use pandas.concat instead.\n",
            "  self.results_df = self.results_df.append(hyperparam_dict, ignore_index=True)\n"
          ]
        },
        {
          "output_type": "stream",
          "name": "stdout",
          "text": [
            "Similarity column 22222 (100.0%), 3398.40 column/sec. Elapsed time 6.54 sec\n",
            "RP3betaRecommender: URM Detected 490 ( 3.9%) users with no interactions.\n",
            "RP3betaRecommender: URM Detected 311 ( 1.4%) items with no interactions.\n",
            "RP3betaRecommender: Similarity column 22222 (100.0%), 2983.36 column/sec. Elapsed time 7.45 sec\n",
            "ItemKNNSimilarityHybridRecommender: URM Detected 490 ( 3.9%) users with no interactions.\n",
            "ItemKNNSimilarityHybridRecommender: URM Detected 311 ( 1.4%) items with no interactions.\n",
            "EvaluatorHoldout: Processed 10039 (100.0%) in 8.62 sec. Users per second: 1164\n"
          ]
        },
        {
          "output_type": "stream",
          "name": "stderr",
          "text": [
            "[I 2023-11-28 17:33:37,522] Trial 27 finished with value: 0.03168290887759978 and parameters: {'topK': 284, 'alpha': 0.2555036767384978}. Best is trial 15 with value: 0.031722488643496846.\n"
          ]
        },
        {
          "output_type": "stream",
          "name": "stdout",
          "text": [
            "ItemKNNCFRecommender: URM Detected 490 ( 3.9%) users with no interactions.\n",
            "ItemKNNCFRecommender: URM Detected 311 ( 1.4%) items with no interactions.\n"
          ]
        },
        {
          "output_type": "stream",
          "name": "stderr",
          "text": [
            "<ipython-input-91-14c86811ef81>:10: FutureWarning: The frame.append method is deprecated and will be removed from pandas in a future version. Use pandas.concat instead.\n",
            "  self.results_df = self.results_df.append(hyperparam_dict, ignore_index=True)\n"
          ]
        },
        {
          "output_type": "stream",
          "name": "stdout",
          "text": [
            "Similarity column 22222 (100.0%), 5216.69 column/sec. Elapsed time 4.26 sec\n",
            "RP3betaRecommender: URM Detected 490 ( 3.9%) users with no interactions.\n",
            "RP3betaRecommender: URM Detected 311 ( 1.4%) items with no interactions.\n",
            "RP3betaRecommender: Similarity column 22222 (100.0%), 2927.56 column/sec. Elapsed time 7.59 sec\n",
            "ItemKNNSimilarityHybridRecommender: URM Detected 490 ( 3.9%) users with no interactions.\n",
            "ItemKNNSimilarityHybridRecommender: URM Detected 311 ( 1.4%) items with no interactions.\n",
            "EvaluatorHoldout: Processed 10039 (100.0%) in 6.54 sec. Users per second: 1534\n"
          ]
        },
        {
          "output_type": "stream",
          "name": "stderr",
          "text": [
            "[I 2023-11-28 17:34:00,070] Trial 28 finished with value: 0.030308376695965224 and parameters: {'topK': 247, 'alpha': 0.9529223783372263}. Best is trial 15 with value: 0.031722488643496846.\n"
          ]
        },
        {
          "output_type": "stream",
          "name": "stdout",
          "text": [
            "ItemKNNCFRecommender: URM Detected 490 ( 3.9%) users with no interactions.\n",
            "ItemKNNCFRecommender: URM Detected 311 ( 1.4%) items with no interactions.\n"
          ]
        },
        {
          "output_type": "stream",
          "name": "stderr",
          "text": [
            "<ipython-input-91-14c86811ef81>:10: FutureWarning: The frame.append method is deprecated and will be removed from pandas in a future version. Use pandas.concat instead.\n",
            "  self.results_df = self.results_df.append(hyperparam_dict, ignore_index=True)\n"
          ]
        },
        {
          "output_type": "stream",
          "name": "stdout",
          "text": [
            "Similarity column 22222 (100.0%), 4919.49 column/sec. Elapsed time 4.52 sec\n",
            "RP3betaRecommender: URM Detected 490 ( 3.9%) users with no interactions.\n",
            "RP3betaRecommender: URM Detected 311 ( 1.4%) items with no interactions.\n",
            "RP3betaRecommender: Similarity column 22222 (100.0%), 2501.28 column/sec. Elapsed time 8.88 sec\n",
            "ItemKNNSimilarityHybridRecommender: URM Detected 490 ( 3.9%) users with no interactions.\n",
            "ItemKNNSimilarityHybridRecommender: URM Detected 311 ( 1.4%) items with no interactions.\n",
            "EvaluatorHoldout: Processed 10039 (100.0%) in 6.83 sec. Users per second: 1470\n"
          ]
        },
        {
          "output_type": "stream",
          "name": "stderr",
          "text": [
            "[I 2023-11-28 17:34:22,647] Trial 29 finished with value: 0.03164777605434065 and parameters: {'topK': 400, 'alpha': 0.3967177264914798}. Best is trial 15 with value: 0.031722488643496846.\n"
          ]
        },
        {
          "output_type": "stream",
          "name": "stdout",
          "text": [
            "ItemKNNCFRecommender: URM Detected 490 ( 3.9%) users with no interactions.\n",
            "ItemKNNCFRecommender: URM Detected 311 ( 1.4%) items with no interactions.\n"
          ]
        },
        {
          "output_type": "stream",
          "name": "stderr",
          "text": [
            "<ipython-input-91-14c86811ef81>:10: FutureWarning: The frame.append method is deprecated and will be removed from pandas in a future version. Use pandas.concat instead.\n",
            "  self.results_df = self.results_df.append(hyperparam_dict, ignore_index=True)\n"
          ]
        },
        {
          "output_type": "stream",
          "name": "stdout",
          "text": [
            "Similarity column 22222 (100.0%), 3398.22 column/sec. Elapsed time 6.54 sec\n",
            "RP3betaRecommender: URM Detected 490 ( 3.9%) users with no interactions.\n",
            "RP3betaRecommender: URM Detected 311 ( 1.4%) items with no interactions.\n",
            "RP3betaRecommender: Similarity column 22222 (100.0%), 3427.07 column/sec. Elapsed time 6.48 sec\n",
            "ItemKNNSimilarityHybridRecommender: URM Detected 490 ( 3.9%) users with no interactions.\n",
            "ItemKNNSimilarityHybridRecommender: URM Detected 311 ( 1.4%) items with no interactions.\n",
            "EvaluatorHoldout: Processed 10039 (100.0%) in 8.29 sec. Users per second: 1211\n"
          ]
        },
        {
          "output_type": "stream",
          "name": "stderr",
          "text": [
            "[I 2023-11-28 17:34:46,554] Trial 30 finished with value: 0.031381089939711636 and parameters: {'topK': 166, 'alpha': 0.1159204156343964}. Best is trial 15 with value: 0.031722488643496846.\n"
          ]
        },
        {
          "output_type": "stream",
          "name": "stdout",
          "text": [
            "ItemKNNCFRecommender: URM Detected 490 ( 3.9%) users with no interactions.\n",
            "ItemKNNCFRecommender: URM Detected 311 ( 1.4%) items with no interactions.\n"
          ]
        },
        {
          "output_type": "stream",
          "name": "stderr",
          "text": [
            "<ipython-input-91-14c86811ef81>:10: FutureWarning: The frame.append method is deprecated and will be removed from pandas in a future version. Use pandas.concat instead.\n",
            "  self.results_df = self.results_df.append(hyperparam_dict, ignore_index=True)\n"
          ]
        },
        {
          "output_type": "stream",
          "name": "stdout",
          "text": [
            "Similarity column 22222 (100.0%), 5054.17 column/sec. Elapsed time 4.40 sec\n",
            "RP3betaRecommender: URM Detected 490 ( 3.9%) users with no interactions.\n",
            "RP3betaRecommender: URM Detected 311 ( 1.4%) items with no interactions.\n",
            "RP3betaRecommender: Similarity column 22222 (100.0%), 2549.48 column/sec. Elapsed time 8.72 sec\n",
            "ItemKNNSimilarityHybridRecommender: URM Detected 490 ( 3.9%) users with no interactions.\n",
            "ItemKNNSimilarityHybridRecommender: URM Detected 311 ( 1.4%) items with no interactions.\n",
            "EvaluatorHoldout: Processed 10039 (100.0%) in 6.89 sec. Users per second: 1457\n"
          ]
        },
        {
          "output_type": "stream",
          "name": "stderr",
          "text": [
            "[I 2023-11-28 17:35:09,473] Trial 31 finished with value: 0.03162979854756943 and parameters: {'topK': 300, 'alpha': 0.2454968130594361}. Best is trial 15 with value: 0.031722488643496846.\n"
          ]
        },
        {
          "output_type": "stream",
          "name": "stdout",
          "text": [
            "ItemKNNCFRecommender: URM Detected 490 ( 3.9%) users with no interactions.\n",
            "ItemKNNCFRecommender: URM Detected 311 ( 1.4%) items with no interactions.\n"
          ]
        },
        {
          "output_type": "stream",
          "name": "stderr",
          "text": [
            "<ipython-input-91-14c86811ef81>:10: FutureWarning: The frame.append method is deprecated and will be removed from pandas in a future version. Use pandas.concat instead.\n",
            "  self.results_df = self.results_df.append(hyperparam_dict, ignore_index=True)\n"
          ]
        },
        {
          "output_type": "stream",
          "name": "stdout",
          "text": [
            "Similarity column 22222 (100.0%), 3240.37 column/sec. Elapsed time 6.86 sec\n",
            "RP3betaRecommender: URM Detected 490 ( 3.9%) users with no interactions.\n",
            "RP3betaRecommender: URM Detected 311 ( 1.4%) items with no interactions.\n",
            "RP3betaRecommender: Similarity column 22222 (100.0%), 3139.10 column/sec. Elapsed time 7.08 sec\n",
            "ItemKNNSimilarityHybridRecommender: URM Detected 490 ( 3.9%) users with no interactions.\n",
            "ItemKNNSimilarityHybridRecommender: URM Detected 311 ( 1.4%) items with no interactions.\n",
            "EvaluatorHoldout: Processed 10039 (100.0%) in 8.28 sec. Users per second: 1213\n"
          ]
        },
        {
          "output_type": "stream",
          "name": "stderr",
          "text": [
            "[I 2023-11-28 17:35:34,078] Trial 32 finished with value: 0.03167595188289502 and parameters: {'topK': 342, 'alpha': 0.19864278401269772}. Best is trial 15 with value: 0.031722488643496846.\n"
          ]
        },
        {
          "output_type": "stream",
          "name": "stdout",
          "text": [
            "ItemKNNCFRecommender: URM Detected 490 ( 3.9%) users with no interactions.\n",
            "ItemKNNCFRecommender: URM Detected 311 ( 1.4%) items with no interactions.\n"
          ]
        },
        {
          "output_type": "stream",
          "name": "stderr",
          "text": [
            "<ipython-input-91-14c86811ef81>:10: FutureWarning: The frame.append method is deprecated and will be removed from pandas in a future version. Use pandas.concat instead.\n",
            "  self.results_df = self.results_df.append(hyperparam_dict, ignore_index=True)\n"
          ]
        },
        {
          "output_type": "stream",
          "name": "stdout",
          "text": [
            "Similarity column 22222 (100.0%), 5184.12 column/sec. Elapsed time 4.29 sec\n",
            "RP3betaRecommender: URM Detected 490 ( 3.9%) users with no interactions.\n",
            "RP3betaRecommender: URM Detected 311 ( 1.4%) items with no interactions.\n",
            "RP3betaRecommender: Similarity column 22222 (100.0%), 2996.25 column/sec. Elapsed time 7.42 sec\n",
            "ItemKNNSimilarityHybridRecommender: URM Detected 490 ( 3.9%) users with no interactions.\n",
            "ItemKNNSimilarityHybridRecommender: URM Detected 311 ( 1.4%) items with no interactions.\n",
            "EvaluatorHoldout: Processed 10039 (100.0%) in 6.48 sec. Users per second: 1549\n"
          ]
        },
        {
          "output_type": "stream",
          "name": "stderr",
          "text": [
            "[I 2023-11-28 17:35:56,488] Trial 33 finished with value: 0.031717002104491014 and parameters: {'topK': 227, 'alpha': 0.31819514858337505}. Best is trial 15 with value: 0.031722488643496846.\n"
          ]
        },
        {
          "output_type": "stream",
          "name": "stdout",
          "text": [
            "ItemKNNCFRecommender: URM Detected 490 ( 3.9%) users with no interactions.\n",
            "ItemKNNCFRecommender: URM Detected 311 ( 1.4%) items with no interactions.\n"
          ]
        },
        {
          "output_type": "stream",
          "name": "stderr",
          "text": [
            "<ipython-input-91-14c86811ef81>:10: FutureWarning: The frame.append method is deprecated and will be removed from pandas in a future version. Use pandas.concat instead.\n",
            "  self.results_df = self.results_df.append(hyperparam_dict, ignore_index=True)\n"
          ]
        },
        {
          "output_type": "stream",
          "name": "stdout",
          "text": [
            "Similarity column 22222 (100.0%), 5152.75 column/sec. Elapsed time 4.31 sec\n",
            "RP3betaRecommender: URM Detected 490 ( 3.9%) users with no interactions.\n",
            "RP3betaRecommender: URM Detected 311 ( 1.4%) items with no interactions.\n",
            "RP3betaRecommender: Similarity column 22222 (100.0%), 2445.26 column/sec. Elapsed time 9.09 sec\n",
            "ItemKNNSimilarityHybridRecommender: URM Detected 490 ( 3.9%) users with no interactions.\n",
            "ItemKNNSimilarityHybridRecommender: URM Detected 311 ( 1.4%) items with no interactions.\n",
            "EvaluatorHoldout: Processed 10039 (100.0%) in 6.60 sec. Users per second: 1521\n"
          ]
        },
        {
          "output_type": "stream",
          "name": "stderr",
          "text": [
            "[I 2023-11-28 17:36:18,914] Trial 34 finished with value: 0.031698012671217246 and parameters: {'topK': 220, 'alpha': 0.3274251578975884}. Best is trial 15 with value: 0.031722488643496846.\n"
          ]
        },
        {
          "output_type": "stream",
          "name": "stdout",
          "text": [
            "ItemKNNCFRecommender: URM Detected 490 ( 3.9%) users with no interactions.\n",
            "ItemKNNCFRecommender: URM Detected 311 ( 1.4%) items with no interactions.\n"
          ]
        },
        {
          "output_type": "stream",
          "name": "stderr",
          "text": [
            "<ipython-input-91-14c86811ef81>:10: FutureWarning: The frame.append method is deprecated and will be removed from pandas in a future version. Use pandas.concat instead.\n",
            "  self.results_df = self.results_df.append(hyperparam_dict, ignore_index=True)\n"
          ]
        },
        {
          "output_type": "stream",
          "name": "stdout",
          "text": [
            "Similarity column 22222 (100.0%), 3259.64 column/sec. Elapsed time 6.82 sec\n",
            "RP3betaRecommender: URM Detected 490 ( 3.9%) users with no interactions.\n",
            "RP3betaRecommender: URM Detected 311 ( 1.4%) items with no interactions.\n",
            "RP3betaRecommender: Similarity column 22222 (100.0%), 3334.97 column/sec. Elapsed time 6.66 sec\n",
            "ItemKNNSimilarityHybridRecommender: URM Detected 490 ( 3.9%) users with no interactions.\n",
            "ItemKNNSimilarityHybridRecommender: URM Detected 311 ( 1.4%) items with no interactions.\n",
            "EvaluatorHoldout: Processed 10039 (100.0%) in 8.41 sec. Users per second: 1194\n"
          ]
        },
        {
          "output_type": "stream",
          "name": "stderr",
          "text": [
            "[I 2023-11-28 17:36:43,247] Trial 35 finished with value: 0.03154426308824181 and parameters: {'topK': 202, 'alpha': 0.4611465236401402}. Best is trial 15 with value: 0.031722488643496846.\n"
          ]
        },
        {
          "output_type": "stream",
          "name": "stdout",
          "text": [
            "ItemKNNCFRecommender: URM Detected 490 ( 3.9%) users with no interactions.\n",
            "ItemKNNCFRecommender: URM Detected 311 ( 1.4%) items with no interactions.\n"
          ]
        },
        {
          "output_type": "stream",
          "name": "stderr",
          "text": [
            "<ipython-input-91-14c86811ef81>:10: FutureWarning: The frame.append method is deprecated and will be removed from pandas in a future version. Use pandas.concat instead.\n",
            "  self.results_df = self.results_df.append(hyperparam_dict, ignore_index=True)\n"
          ]
        },
        {
          "output_type": "stream",
          "name": "stdout",
          "text": [
            "Similarity column 22222 (100.0%), 5162.82 column/sec. Elapsed time 4.30 sec\n",
            "RP3betaRecommender: URM Detected 490 ( 3.9%) users with no interactions.\n",
            "RP3betaRecommender: URM Detected 311 ( 1.4%) items with no interactions.\n",
            "RP3betaRecommender: Similarity column 22222 (100.0%), 2584.79 column/sec. Elapsed time 8.60 sec\n",
            "ItemKNNSimilarityHybridRecommender: URM Detected 490 ( 3.9%) users with no interactions.\n",
            "ItemKNNSimilarityHybridRecommender: URM Detected 311 ( 1.4%) items with no interactions.\n",
            "EvaluatorHoldout: Processed 10039 (100.0%) in 6.07 sec. Users per second: 1654\n"
          ]
        },
        {
          "output_type": "stream",
          "name": "stderr",
          "text": [
            "[I 2023-11-28 17:37:05,275] Trial 36 finished with value: 0.03172606200895881 and parameters: {'topK': 231, 'alpha': 0.3443595434752237}. Best is trial 36 with value: 0.03172606200895881.\n"
          ]
        },
        {
          "output_type": "stream",
          "name": "stdout",
          "text": [
            "ItemKNNCFRecommender: URM Detected 490 ( 3.9%) users with no interactions.\n",
            "ItemKNNCFRecommender: URM Detected 311 ( 1.4%) items with no interactions.\n"
          ]
        },
        {
          "output_type": "stream",
          "name": "stderr",
          "text": [
            "<ipython-input-91-14c86811ef81>:10: FutureWarning: The frame.append method is deprecated and will be removed from pandas in a future version. Use pandas.concat instead.\n",
            "  self.results_df = self.results_df.append(hyperparam_dict, ignore_index=True)\n"
          ]
        },
        {
          "output_type": "stream",
          "name": "stdout",
          "text": [
            "Similarity column 22222 (100.0%), 3738.43 column/sec. Elapsed time 5.94 sec\n",
            "RP3betaRecommender: URM Detected 490 ( 3.9%) users with no interactions.\n",
            "RP3betaRecommender: URM Detected 311 ( 1.4%) items with no interactions.\n",
            "RP3betaRecommender: Similarity column 22222 (100.0%), 2851.52 column/sec. Elapsed time 7.79 sec\n",
            "ItemKNNSimilarityHybridRecommender: URM Detected 490 ( 3.9%) users with no interactions.\n",
            "ItemKNNSimilarityHybridRecommender: URM Detected 311 ( 1.4%) items with no interactions.\n",
            "EvaluatorHoldout: Processed 10039 (100.0%) in 8.39 sec. Users per second: 1197\n"
          ]
        },
        {
          "output_type": "stream",
          "name": "stderr",
          "text": [
            "[I 2023-11-28 17:37:29,912] Trial 37 finished with value: 0.03156202714176639 and parameters: {'topK': 177, 'alpha': 0.16468070964315523}. Best is trial 36 with value: 0.03172606200895881.\n"
          ]
        },
        {
          "output_type": "stream",
          "name": "stdout",
          "text": [
            "ItemKNNCFRecommender: URM Detected 490 ( 3.9%) users with no interactions.\n",
            "ItemKNNCFRecommender: URM Detected 311 ( 1.4%) items with no interactions.\n"
          ]
        },
        {
          "output_type": "stream",
          "name": "stderr",
          "text": [
            "<ipython-input-91-14c86811ef81>:10: FutureWarning: The frame.append method is deprecated and will be removed from pandas in a future version. Use pandas.concat instead.\n",
            "  self.results_df = self.results_df.append(hyperparam_dict, ignore_index=True)\n"
          ]
        },
        {
          "output_type": "stream",
          "name": "stdout",
          "text": [
            "Similarity column 22222 (100.0%), 4646.94 column/sec. Elapsed time 4.78 sec\n",
            "RP3betaRecommender: URM Detected 490 ( 3.9%) users with no interactions.\n",
            "RP3betaRecommender: URM Detected 311 ( 1.4%) items with no interactions.\n",
            "RP3betaRecommender: Similarity column 22222 (100.0%), 3366.33 column/sec. Elapsed time 6.60 sec\n",
            "ItemKNNSimilarityHybridRecommender: URM Detected 490 ( 3.9%) users with no interactions.\n",
            "ItemKNNSimilarityHybridRecommender: URM Detected 311 ( 1.4%) items with no interactions.\n",
            "EvaluatorHoldout: Processed 10039 (100.0%) in 7.19 sec. Users per second: 1396\n"
          ]
        },
        {
          "output_type": "stream",
          "name": "stderr",
          "text": [
            "[I 2023-11-28 17:37:52,728] Trial 38 finished with value: 0.03145150579407005 and parameters: {'topK': 242, 'alpha': 0.49890303083751975}. Best is trial 36 with value: 0.03172606200895881.\n"
          ]
        },
        {
          "output_type": "stream",
          "name": "stdout",
          "text": [
            "ItemKNNCFRecommender: URM Detected 490 ( 3.9%) users with no interactions.\n",
            "ItemKNNCFRecommender: URM Detected 311 ( 1.4%) items with no interactions.\n"
          ]
        },
        {
          "output_type": "stream",
          "name": "stderr",
          "text": [
            "<ipython-input-91-14c86811ef81>:10: FutureWarning: The frame.append method is deprecated and will be removed from pandas in a future version. Use pandas.concat instead.\n",
            "  self.results_df = self.results_df.append(hyperparam_dict, ignore_index=True)\n"
          ]
        },
        {
          "output_type": "stream",
          "name": "stdout",
          "text": [
            "Similarity column 22222 (100.0%), 5210.12 column/sec. Elapsed time 4.27 sec\n",
            "RP3betaRecommender: URM Detected 490 ( 3.9%) users with no interactions.\n",
            "RP3betaRecommender: URM Detected 311 ( 1.4%) items with no interactions.\n",
            "RP3betaRecommender: Similarity column 22222 (100.0%), 2444.46 column/sec. Elapsed time 9.09 sec\n",
            "ItemKNNSimilarityHybridRecommender: URM Detected 490 ( 3.9%) users with no interactions.\n",
            "ItemKNNSimilarityHybridRecommender: URM Detected 311 ( 1.4%) items with no interactions.\n",
            "EvaluatorHoldout: Processed 10039 (100.0%) in 7.04 sec. Users per second: 1426\n"
          ]
        },
        {
          "output_type": "stream",
          "name": "stderr",
          "text": [
            "[I 2023-11-28 17:38:15,463] Trial 39 finished with value: 0.031069384954234298 and parameters: {'topK': 324, 'alpha': 0.7198498813778109}. Best is trial 36 with value: 0.03172606200895881.\n"
          ]
        },
        {
          "output_type": "stream",
          "name": "stdout",
          "text": [
            "ItemKNNCFRecommender: URM Detected 490 ( 3.9%) users with no interactions.\n",
            "ItemKNNCFRecommender: URM Detected 311 ( 1.4%) items with no interactions.\n"
          ]
        },
        {
          "output_type": "stream",
          "name": "stderr",
          "text": [
            "<ipython-input-91-14c86811ef81>:10: FutureWarning: The frame.append method is deprecated and will be removed from pandas in a future version. Use pandas.concat instead.\n",
            "  self.results_df = self.results_df.append(hyperparam_dict, ignore_index=True)\n"
          ]
        },
        {
          "output_type": "stream",
          "name": "stdout",
          "text": [
            "Similarity column 22222 (100.0%), 3183.20 column/sec. Elapsed time 6.98 sec\n",
            "RP3betaRecommender: URM Detected 490 ( 3.9%) users with no interactions.\n",
            "RP3betaRecommender: URM Detected 311 ( 1.4%) items with no interactions.\n",
            "RP3betaRecommender: Similarity column 22222 (100.0%), 3380.50 column/sec. Elapsed time 6.57 sec\n",
            "ItemKNNSimilarityHybridRecommender: URM Detected 490 ( 3.9%) users with no interactions.\n",
            "ItemKNNSimilarityHybridRecommender: URM Detected 311 ( 1.4%) items with no interactions.\n",
            "EvaluatorHoldout: Processed 10039 (100.0%) in 8.38 sec. Users per second: 1199\n"
          ]
        },
        {
          "output_type": "stream",
          "name": "stderr",
          "text": [
            "[I 2023-11-28 17:38:39,883] Trial 40 finished with value: 0.03073939018779159 and parameters: {'topK': 10, 'alpha': 0.3459614522376934}. Best is trial 36 with value: 0.03172606200895881.\n"
          ]
        },
        {
          "output_type": "stream",
          "name": "stdout",
          "text": [
            "ItemKNNCFRecommender: URM Detected 490 ( 3.9%) users with no interactions.\n",
            "ItemKNNCFRecommender: URM Detected 311 ( 1.4%) items with no interactions.\n"
          ]
        },
        {
          "output_type": "stream",
          "name": "stderr",
          "text": [
            "<ipython-input-91-14c86811ef81>:10: FutureWarning: The frame.append method is deprecated and will be removed from pandas in a future version. Use pandas.concat instead.\n",
            "  self.results_df = self.results_df.append(hyperparam_dict, ignore_index=True)\n"
          ]
        },
        {
          "output_type": "stream",
          "name": "stdout",
          "text": [
            "Similarity column 22222 (100.0%), 5059.12 column/sec. Elapsed time 4.39 sec\n",
            "RP3betaRecommender: URM Detected 490 ( 3.9%) users with no interactions.\n",
            "RP3betaRecommender: URM Detected 311 ( 1.4%) items with no interactions.\n",
            "RP3betaRecommender: Similarity column 22222 (100.0%), 2585.23 column/sec. Elapsed time 8.60 sec\n",
            "ItemKNNSimilarityHybridRecommender: URM Detected 490 ( 3.9%) users with no interactions.\n",
            "ItemKNNSimilarityHybridRecommender: URM Detected 311 ( 1.4%) items with no interactions.\n",
            "EvaluatorHoldout: Processed 10039 (100.0%) in 7.10 sec. Users per second: 1414\n"
          ]
        },
        {
          "output_type": "stream",
          "name": "stderr",
          "text": [
            "[I 2023-11-28 17:39:03,141] Trial 41 finished with value: 0.03172920451508966 and parameters: {'topK': 219, 'alpha': 0.34083136072866477}. Best is trial 41 with value: 0.03172920451508966.\n"
          ]
        },
        {
          "output_type": "stream",
          "name": "stdout",
          "text": [
            "ItemKNNCFRecommender: URM Detected 490 ( 3.9%) users with no interactions.\n",
            "ItemKNNCFRecommender: URM Detected 311 ( 1.4%) items with no interactions.\n"
          ]
        },
        {
          "output_type": "stream",
          "name": "stderr",
          "text": [
            "<ipython-input-91-14c86811ef81>:10: FutureWarning: The frame.append method is deprecated and will be removed from pandas in a future version. Use pandas.concat instead.\n",
            "  self.results_df = self.results_df.append(hyperparam_dict, ignore_index=True)\n"
          ]
        },
        {
          "output_type": "stream",
          "name": "stdout",
          "text": [
            "Similarity column 22222 (100.0%), 3271.07 column/sec. Elapsed time 6.79 sec\n",
            "RP3betaRecommender: URM Detected 490 ( 3.9%) users with no interactions.\n",
            "RP3betaRecommender: URM Detected 311 ( 1.4%) items with no interactions.\n",
            "RP3betaRecommender: Similarity column 22222 (100.0%), 3083.08 column/sec. Elapsed time 7.21 sec\n",
            "ItemKNNSimilarityHybridRecommender: URM Detected 490 ( 3.9%) users with no interactions.\n",
            "ItemKNNSimilarityHybridRecommender: URM Detected 311 ( 1.4%) items with no interactions.\n",
            "EvaluatorHoldout: Processed 10039 (100.0%) in 8.50 sec. Users per second: 1181\n"
          ]
        },
        {
          "output_type": "stream",
          "name": "stderr",
          "text": [
            "[I 2023-11-28 17:39:28,098] Trial 42 finished with value: 0.03170816355894562 and parameters: {'topK': 138, 'alpha': 0.35610886658129715}. Best is trial 41 with value: 0.03172920451508966.\n"
          ]
        },
        {
          "output_type": "stream",
          "name": "stdout",
          "text": [
            "ItemKNNCFRecommender: URM Detected 490 ( 3.9%) users with no interactions.\n",
            "ItemKNNCFRecommender: URM Detected 311 ( 1.4%) items with no interactions.\n"
          ]
        },
        {
          "output_type": "stream",
          "name": "stderr",
          "text": [
            "<ipython-input-91-14c86811ef81>:10: FutureWarning: The frame.append method is deprecated and will be removed from pandas in a future version. Use pandas.concat instead.\n",
            "  self.results_df = self.results_df.append(hyperparam_dict, ignore_index=True)\n"
          ]
        },
        {
          "output_type": "stream",
          "name": "stdout",
          "text": [
            "Similarity column 22222 (100.0%), 5129.78 column/sec. Elapsed time 4.33 sec\n",
            "RP3betaRecommender: URM Detected 490 ( 3.9%) users with no interactions.\n",
            "RP3betaRecommender: URM Detected 311 ( 1.4%) items with no interactions.\n",
            "RP3betaRecommender: Similarity column 22222 (100.0%), 2989.27 column/sec. Elapsed time 7.43 sec\n",
            "ItemKNNSimilarityHybridRecommender: URM Detected 490 ( 3.9%) users with no interactions.\n",
            "ItemKNNSimilarityHybridRecommender: URM Detected 311 ( 1.4%) items with no interactions.\n",
            "EvaluatorHoldout: Processed 10039 (100.0%) in 6.96 sec. Users per second: 1442\n"
          ]
        },
        {
          "output_type": "stream",
          "name": "stderr",
          "text": [
            "[I 2023-11-28 17:39:50,971] Trial 43 finished with value: 0.03150220094014321 and parameters: {'topK': 80, 'alpha': 0.4766215844597448}. Best is trial 41 with value: 0.03172920451508966.\n"
          ]
        },
        {
          "output_type": "stream",
          "name": "stdout",
          "text": [
            "ItemKNNCFRecommender: URM Detected 490 ( 3.9%) users with no interactions.\n",
            "ItemKNNCFRecommender: URM Detected 311 ( 1.4%) items with no interactions.\n"
          ]
        },
        {
          "output_type": "stream",
          "name": "stderr",
          "text": [
            "<ipython-input-91-14c86811ef81>:10: FutureWarning: The frame.append method is deprecated and will be removed from pandas in a future version. Use pandas.concat instead.\n",
            "  self.results_df = self.results_df.append(hyperparam_dict, ignore_index=True)\n"
          ]
        },
        {
          "output_type": "stream",
          "name": "stdout",
          "text": [
            "Similarity column 22222 (100.0%), 4552.11 column/sec. Elapsed time 4.88 sec\n",
            "RP3betaRecommender: URM Detected 490 ( 3.9%) users with no interactions.\n",
            "RP3betaRecommender: URM Detected 311 ( 1.4%) items with no interactions.\n",
            "RP3betaRecommender: Similarity column 22222 (100.0%), 2595.96 column/sec. Elapsed time 8.56 sec\n",
            "ItemKNNSimilarityHybridRecommender: URM Detected 490 ( 3.9%) users with no interactions.\n",
            "ItemKNNSimilarityHybridRecommender: URM Detected 311 ( 1.4%) items with no interactions.\n",
            "EvaluatorHoldout: Processed 10039 (100.0%) in 7.04 sec. Users per second: 1426\n"
          ]
        },
        {
          "output_type": "stream",
          "name": "stderr",
          "text": [
            "[I 2023-11-28 17:40:13,823] Trial 44 finished with value: 0.03166056743778649 and parameters: {'topK': 231, 'alpha': 0.22615662436178346}. Best is trial 41 with value: 0.03172920451508966.\n"
          ]
        },
        {
          "output_type": "stream",
          "name": "stdout",
          "text": [
            "ItemKNNCFRecommender: URM Detected 490 ( 3.9%) users with no interactions.\n",
            "ItemKNNCFRecommender: URM Detected 311 ( 1.4%) items with no interactions.\n"
          ]
        },
        {
          "output_type": "stream",
          "name": "stderr",
          "text": [
            "<ipython-input-91-14c86811ef81>:10: FutureWarning: The frame.append method is deprecated and will be removed from pandas in a future version. Use pandas.concat instead.\n",
            "  self.results_df = self.results_df.append(hyperparam_dict, ignore_index=True)\n"
          ]
        },
        {
          "output_type": "stream",
          "name": "stdout",
          "text": [
            "Similarity column 22222 (100.0%), 3587.37 column/sec. Elapsed time 6.19 sec\n",
            "RP3betaRecommender: URM Detected 490 ( 3.9%) users with no interactions.\n",
            "RP3betaRecommender: URM Detected 311 ( 1.4%) items with no interactions.\n",
            "RP3betaRecommender: Similarity column 22222 (100.0%), 3411.46 column/sec. Elapsed time 6.51 sec\n",
            "ItemKNNSimilarityHybridRecommender: URM Detected 490 ( 3.9%) users with no interactions.\n",
            "ItemKNNSimilarityHybridRecommender: URM Detected 311 ( 1.4%) items with no interactions.\n",
            "EvaluatorHoldout: Processed 10039 (100.0%) in 7.89 sec. Users per second: 1272\n"
          ]
        },
        {
          "output_type": "stream",
          "name": "stderr",
          "text": [
            "[I 2023-11-28 17:40:37,370] Trial 45 finished with value: 0.03170939289153263 and parameters: {'topK': 459, 'alpha': 0.34530989358244635}. Best is trial 41 with value: 0.03172920451508966.\n"
          ]
        },
        {
          "output_type": "stream",
          "name": "stdout",
          "text": [
            "ItemKNNCFRecommender: URM Detected 490 ( 3.9%) users with no interactions.\n",
            "ItemKNNCFRecommender: URM Detected 311 ( 1.4%) items with no interactions.\n"
          ]
        },
        {
          "output_type": "stream",
          "name": "stderr",
          "text": [
            "<ipython-input-91-14c86811ef81>:10: FutureWarning: The frame.append method is deprecated and will be removed from pandas in a future version. Use pandas.concat instead.\n",
            "  self.results_df = self.results_df.append(hyperparam_dict, ignore_index=True)\n"
          ]
        },
        {
          "output_type": "stream",
          "name": "stdout",
          "text": [
            "Similarity column 22222 (100.0%), 5067.78 column/sec. Elapsed time 4.38 sec\n",
            "RP3betaRecommender: URM Detected 490 ( 3.9%) users with no interactions.\n",
            "RP3betaRecommender: URM Detected 311 ( 1.4%) items with no interactions.\n",
            "RP3betaRecommender: Similarity column 22222 (100.0%), 2343.69 column/sec. Elapsed time 9.48 sec\n",
            "ItemKNNSimilarityHybridRecommender: URM Detected 490 ( 3.9%) users with no interactions.\n",
            "ItemKNNSimilarityHybridRecommender: URM Detected 311 ( 1.4%) items with no interactions.\n",
            "EvaluatorHoldout: Processed 10039 (100.0%) in 6.68 sec. Users per second: 1504\n"
          ]
        },
        {
          "output_type": "stream",
          "name": "stderr",
          "text": [
            "[I 2023-11-28 17:41:00,291] Trial 46 finished with value: 0.03157237171855181 and parameters: {'topK': 114, 'alpha': 0.42529909659562093}. Best is trial 41 with value: 0.03172920451508966.\n"
          ]
        },
        {
          "output_type": "stream",
          "name": "stdout",
          "text": [
            "ItemKNNCFRecommender: URM Detected 490 ( 3.9%) users with no interactions.\n",
            "ItemKNNCFRecommender: URM Detected 311 ( 1.4%) items with no interactions.\n"
          ]
        },
        {
          "output_type": "stream",
          "name": "stderr",
          "text": [
            "<ipython-input-91-14c86811ef81>:10: FutureWarning: The frame.append method is deprecated and will be removed from pandas in a future version. Use pandas.concat instead.\n",
            "  self.results_df = self.results_df.append(hyperparam_dict, ignore_index=True)\n"
          ]
        },
        {
          "output_type": "stream",
          "name": "stdout",
          "text": [
            "Similarity column 22222 (100.0%), 3166.11 column/sec. Elapsed time 7.02 sec\n",
            "RP3betaRecommender: URM Detected 490 ( 3.9%) users with no interactions.\n",
            "RP3betaRecommender: URM Detected 311 ( 1.4%) items with no interactions.\n",
            "RP3betaRecommender: Similarity column 22222 (100.0%), 3300.48 column/sec. Elapsed time 6.73 sec\n",
            "ItemKNNSimilarityHybridRecommender: URM Detected 490 ( 3.9%) users with no interactions.\n",
            "ItemKNNSimilarityHybridRecommender: URM Detected 311 ( 1.4%) items with no interactions.\n",
            "EvaluatorHoldout: Processed 10039 (100.0%) in 8.30 sec. Users per second: 1210\n"
          ]
        },
        {
          "output_type": "stream",
          "name": "stderr",
          "text": [
            "[I 2023-11-28 17:41:24,830] Trial 47 finished with value: 0.031300388801136184 and parameters: {'topK': 357, 'alpha': 0.09806026445904617}. Best is trial 41 with value: 0.03172920451508966.\n"
          ]
        },
        {
          "output_type": "stream",
          "name": "stdout",
          "text": [
            "ItemKNNCFRecommender: URM Detected 490 ( 3.9%) users with no interactions.\n",
            "ItemKNNCFRecommender: URM Detected 311 ( 1.4%) items with no interactions.\n"
          ]
        },
        {
          "output_type": "stream",
          "name": "stderr",
          "text": [
            "<ipython-input-91-14c86811ef81>:10: FutureWarning: The frame.append method is deprecated and will be removed from pandas in a future version. Use pandas.concat instead.\n",
            "  self.results_df = self.results_df.append(hyperparam_dict, ignore_index=True)\n"
          ]
        },
        {
          "output_type": "stream",
          "name": "stdout",
          "text": [
            "Similarity column 22222 (100.0%), 5039.90 column/sec. Elapsed time 4.41 sec\n",
            "RP3betaRecommender: URM Detected 490 ( 3.9%) users with no interactions.\n",
            "RP3betaRecommender: URM Detected 311 ( 1.4%) items with no interactions.\n",
            "RP3betaRecommender: Similarity column 22222 (100.0%), 2905.02 column/sec. Elapsed time 7.65 sec\n",
            "ItemKNNSimilarityHybridRecommender: URM Detected 490 ( 3.9%) users with no interactions.\n",
            "ItemKNNSimilarityHybridRecommender: URM Detected 311 ( 1.4%) items with no interactions.\n",
            "EvaluatorHoldout: Processed 10039 (100.0%) in 6.30 sec. Users per second: 1593\n"
          ]
        },
        {
          "output_type": "stream",
          "name": "stderr",
          "text": [
            "[I 2023-11-28 17:41:47,301] Trial 48 finished with value: 0.03166871423669929 and parameters: {'topK': 253, 'alpha': 0.23502193510764374}. Best is trial 41 with value: 0.03172920451508966.\n"
          ]
        },
        {
          "output_type": "stream",
          "name": "stdout",
          "text": [
            "ItemKNNCFRecommender: URM Detected 490 ( 3.9%) users with no interactions.\n",
            "ItemKNNCFRecommender: URM Detected 311 ( 1.4%) items with no interactions.\n"
          ]
        },
        {
          "output_type": "stream",
          "name": "stderr",
          "text": [
            "<ipython-input-91-14c86811ef81>:10: FutureWarning: The frame.append method is deprecated and will be removed from pandas in a future version. Use pandas.concat instead.\n",
            "  self.results_df = self.results_df.append(hyperparam_dict, ignore_index=True)\n"
          ]
        },
        {
          "output_type": "stream",
          "name": "stdout",
          "text": [
            "Similarity column 22222 (100.0%), 4741.52 column/sec. Elapsed time 4.69 sec\n",
            "RP3betaRecommender: URM Detected 490 ( 3.9%) users with no interactions.\n",
            "RP3betaRecommender: URM Detected 311 ( 1.4%) items with no interactions.\n",
            "RP3betaRecommender: Similarity column 22222 (100.0%), 2502.44 column/sec. Elapsed time 8.88 sec\n",
            "ItemKNNSimilarityHybridRecommender: URM Detected 490 ( 3.9%) users with no interactions.\n",
            "ItemKNNSimilarityHybridRecommender: URM Detected 311 ( 1.4%) items with no interactions.\n",
            "EvaluatorHoldout: Processed 10039 (100.0%) in 6.67 sec. Users per second: 1506\n"
          ]
        },
        {
          "output_type": "stream",
          "name": "stderr",
          "text": [
            "[I 2023-11-28 17:42:09,868] Trial 49 finished with value: 0.031064380661452354 and parameters: {'topK': 185, 'alpha': 0.7371732181148974}. Best is trial 41 with value: 0.03172920451508966.\n"
          ]
        },
        {
          "output_type": "stream",
          "name": "stdout",
          "text": [
            "ItemKNNCFRecommender: URM Detected 490 ( 3.9%) users with no interactions.\n",
            "ItemKNNCFRecommender: URM Detected 311 ( 1.4%) items with no interactions.\n"
          ]
        },
        {
          "output_type": "stream",
          "name": "stderr",
          "text": [
            "<ipython-input-91-14c86811ef81>:10: FutureWarning: The frame.append method is deprecated and will be removed from pandas in a future version. Use pandas.concat instead.\n",
            "  self.results_df = self.results_df.append(hyperparam_dict, ignore_index=True)\n"
          ]
        },
        {
          "output_type": "stream",
          "name": "stdout",
          "text": [
            "Similarity column 22222 (100.0%), 3396.22 column/sec. Elapsed time 6.54 sec\n",
            "RP3betaRecommender: URM Detected 490 ( 3.9%) users with no interactions.\n",
            "RP3betaRecommender: URM Detected 311 ( 1.4%) items with no interactions.\n",
            "RP3betaRecommender: Similarity column 22222 (100.0%), 3293.73 column/sec. Elapsed time 6.75 sec\n",
            "ItemKNNSimilarityHybridRecommender: URM Detected 490 ( 3.9%) users with no interactions.\n",
            "ItemKNNSimilarityHybridRecommender: URM Detected 311 ( 1.4%) items with no interactions.\n",
            "EvaluatorHoldout: Processed 10039 (100.0%) in 8.29 sec. Users per second: 1211\n"
          ]
        },
        {
          "output_type": "stream",
          "name": "stderr",
          "text": [
            "[I 2023-11-28 17:42:34,214] Trial 50 finished with value: 0.03167410986043342 and parameters: {'topK': 49, 'alpha': 0.1992989106689366}. Best is trial 41 with value: 0.03172920451508966.\n"
          ]
        },
        {
          "output_type": "stream",
          "name": "stdout",
          "text": [
            "ItemKNNCFRecommender: URM Detected 490 ( 3.9%) users with no interactions.\n",
            "ItemKNNCFRecommender: URM Detected 311 ( 1.4%) items with no interactions.\n"
          ]
        },
        {
          "output_type": "stream",
          "name": "stderr",
          "text": [
            "<ipython-input-91-14c86811ef81>:10: FutureWarning: The frame.append method is deprecated and will be removed from pandas in a future version. Use pandas.concat instead.\n",
            "  self.results_df = self.results_df.append(hyperparam_dict, ignore_index=True)\n"
          ]
        },
        {
          "output_type": "stream",
          "name": "stdout",
          "text": [
            "Similarity column 22222 (100.0%), 5059.43 column/sec. Elapsed time 4.39 sec\n",
            "RP3betaRecommender: URM Detected 490 ( 3.9%) users with no interactions.\n",
            "RP3betaRecommender: URM Detected 311 ( 1.4%) items with no interactions.\n",
            "RP3betaRecommender: Similarity column 22222 (100.0%), 2416.27 column/sec. Elapsed time 9.20 sec\n",
            "ItemKNNSimilarityHybridRecommender: URM Detected 490 ( 3.9%) users with no interactions.\n",
            "ItemKNNSimilarityHybridRecommender: URM Detected 311 ( 1.4%) items with no interactions.\n",
            "EvaluatorHoldout: Processed 10039 (100.0%) in 6.08 sec. Users per second: 1651\n"
          ]
        },
        {
          "output_type": "stream",
          "name": "stderr",
          "text": [
            "[I 2023-11-28 17:42:56,381] Trial 51 finished with value: 0.031707416472582434 and parameters: {'topK': 464, 'alpha': 0.3335679282207975}. Best is trial 41 with value: 0.03172920451508966.\n"
          ]
        },
        {
          "output_type": "stream",
          "name": "stdout",
          "text": [
            "ItemKNNCFRecommender: URM Detected 490 ( 3.9%) users with no interactions.\n",
            "ItemKNNCFRecommender: URM Detected 311 ( 1.4%) items with no interactions.\n"
          ]
        },
        {
          "output_type": "stream",
          "name": "stderr",
          "text": [
            "<ipython-input-91-14c86811ef81>:10: FutureWarning: The frame.append method is deprecated and will be removed from pandas in a future version. Use pandas.concat instead.\n",
            "  self.results_df = self.results_df.append(hyperparam_dict, ignore_index=True)\n"
          ]
        },
        {
          "output_type": "stream",
          "name": "stdout",
          "text": [
            "Similarity column 22222 (100.0%), 3451.81 column/sec. Elapsed time 6.44 sec\n",
            "RP3betaRecommender: URM Detected 490 ( 3.9%) users with no interactions.\n",
            "RP3betaRecommender: URM Detected 311 ( 1.4%) items with no interactions.\n",
            "RP3betaRecommender: Similarity column 22222 (100.0%), 2997.49 column/sec. Elapsed time 7.41 sec\n",
            "ItemKNNSimilarityHybridRecommender: URM Detected 490 ( 3.9%) users with no interactions.\n",
            "ItemKNNSimilarityHybridRecommender: URM Detected 311 ( 1.4%) items with no interactions.\n",
            "EvaluatorHoldout: Processed 10039 (100.0%) in 8.54 sec. Users per second: 1176\n"
          ]
        },
        {
          "output_type": "stream",
          "name": "stderr",
          "text": [
            "[I 2023-11-28 17:43:21,217] Trial 52 finished with value: 0.03165498998350894 and parameters: {'topK': 460, 'alpha': 0.38651937586375706}. Best is trial 41 with value: 0.03172920451508966.\n"
          ]
        },
        {
          "output_type": "stream",
          "name": "stdout",
          "text": [
            "ItemKNNCFRecommender: URM Detected 490 ( 3.9%) users with no interactions.\n",
            "ItemKNNCFRecommender: URM Detected 311 ( 1.4%) items with no interactions.\n"
          ]
        },
        {
          "output_type": "stream",
          "name": "stderr",
          "text": [
            "<ipython-input-91-14c86811ef81>:10: FutureWarning: The frame.append method is deprecated and will be removed from pandas in a future version. Use pandas.concat instead.\n",
            "  self.results_df = self.results_df.append(hyperparam_dict, ignore_index=True)\n"
          ]
        },
        {
          "output_type": "stream",
          "name": "stdout",
          "text": [
            "Similarity column 22222 (100.0%), 5056.48 column/sec. Elapsed time 4.39 sec\n",
            "RP3betaRecommender: URM Detected 490 ( 3.9%) users with no interactions.\n",
            "RP3betaRecommender: URM Detected 311 ( 1.4%) items with no interactions.\n",
            "RP3betaRecommender: Similarity column 22222 (100.0%), 3010.02 column/sec. Elapsed time 7.38 sec\n",
            "ItemKNNSimilarityHybridRecommender: URM Detected 490 ( 3.9%) users with no interactions.\n",
            "ItemKNNSimilarityHybridRecommender: URM Detected 311 ( 1.4%) items with no interactions.\n",
            "EvaluatorHoldout: Processed 10039 (100.0%) in 6.87 sec. Users per second: 1462\n"
          ]
        },
        {
          "output_type": "stream",
          "name": "stderr",
          "text": [
            "[I 2023-11-28 17:43:44,030] Trial 53 finished with value: 0.03167202671485978 and parameters: {'topK': 477, 'alpha': 0.30750832930752814}. Best is trial 41 with value: 0.03172920451508966.\n"
          ]
        },
        {
          "output_type": "stream",
          "name": "stdout",
          "text": [
            "ItemKNNCFRecommender: URM Detected 490 ( 3.9%) users with no interactions.\n",
            "ItemKNNCFRecommender: URM Detected 311 ( 1.4%) items with no interactions.\n"
          ]
        },
        {
          "output_type": "stream",
          "name": "stderr",
          "text": [
            "<ipython-input-91-14c86811ef81>:10: FutureWarning: The frame.append method is deprecated and will be removed from pandas in a future version. Use pandas.concat instead.\n",
            "  self.results_df = self.results_df.append(hyperparam_dict, ignore_index=True)\n"
          ]
        },
        {
          "output_type": "stream",
          "name": "stdout",
          "text": [
            "Similarity column 22222 (100.0%), 5116.79 column/sec. Elapsed time 4.34 sec\n",
            "RP3betaRecommender: URM Detected 490 ( 3.9%) users with no interactions.\n",
            "RP3betaRecommender: URM Detected 311 ( 1.4%) items with no interactions.\n",
            "RP3betaRecommender: Similarity column 22222 (100.0%), 2453.96 column/sec. Elapsed time 9.06 sec\n",
            "ItemKNNSimilarityHybridRecommender: URM Detected 490 ( 3.9%) users with no interactions.\n",
            "ItemKNNSimilarityHybridRecommender: URM Detected 311 ( 1.4%) items with no interactions.\n",
            "EvaluatorHoldout: Processed 10039 (100.0%) in 6.95 sec. Users per second: 1444\n"
          ]
        },
        {
          "output_type": "stream",
          "name": "stderr",
          "text": [
            "[I 2023-11-28 17:44:06,723] Trial 54 finished with value: 0.03140618650754146 and parameters: {'topK': 212, 'alpha': 0.5451442883108918}. Best is trial 41 with value: 0.03172920451508966.\n"
          ]
        },
        {
          "output_type": "stream",
          "name": "stdout",
          "text": [
            "ItemKNNCFRecommender: URM Detected 490 ( 3.9%) users with no interactions.\n",
            "ItemKNNCFRecommender: URM Detected 311 ( 1.4%) items with no interactions.\n"
          ]
        },
        {
          "output_type": "stream",
          "name": "stderr",
          "text": [
            "<ipython-input-91-14c86811ef81>:10: FutureWarning: The frame.append method is deprecated and will be removed from pandas in a future version. Use pandas.concat instead.\n",
            "  self.results_df = self.results_df.append(hyperparam_dict, ignore_index=True)\n"
          ]
        },
        {
          "output_type": "stream",
          "name": "stdout",
          "text": [
            "Similarity column 22222 (100.0%), 3403.14 column/sec. Elapsed time 6.53 sec\n",
            "RP3betaRecommender: URM Detected 490 ( 3.9%) users with no interactions.\n",
            "RP3betaRecommender: URM Detected 311 ( 1.4%) items with no interactions.\n",
            "RP3betaRecommender: Similarity column 22222 (100.0%), 3348.32 column/sec. Elapsed time 6.64 sec\n",
            "ItemKNNSimilarityHybridRecommender: URM Detected 490 ( 3.9%) users with no interactions.\n",
            "ItemKNNSimilarityHybridRecommender: URM Detected 311 ( 1.4%) items with no interactions.\n",
            "EvaluatorHoldout: Processed 10039 (100.0%) in 8.21 sec. Users per second: 1223\n"
          ]
        },
        {
          "output_type": "stream",
          "name": "stderr",
          "text": [
            "[I 2023-11-28 17:44:30,910] Trial 55 finished with value: 0.031150864801876146 and parameters: {'topK': 397, 'alpha': 0.64435034938016}. Best is trial 41 with value: 0.03172920451508966.\n"
          ]
        },
        {
          "output_type": "stream",
          "name": "stdout",
          "text": [
            "ItemKNNCFRecommender: URM Detected 490 ( 3.9%) users with no interactions.\n",
            "ItemKNNCFRecommender: URM Detected 311 ( 1.4%) items with no interactions.\n"
          ]
        },
        {
          "output_type": "stream",
          "name": "stderr",
          "text": [
            "<ipython-input-91-14c86811ef81>:10: FutureWarning: The frame.append method is deprecated and will be removed from pandas in a future version. Use pandas.concat instead.\n",
            "  self.results_df = self.results_df.append(hyperparam_dict, ignore_index=True)\n"
          ]
        },
        {
          "output_type": "stream",
          "name": "stdout",
          "text": [
            "Similarity column 22222 (100.0%), 5041.60 column/sec. Elapsed time 4.41 sec\n",
            "RP3betaRecommender: URM Detected 490 ( 3.9%) users with no interactions.\n",
            "RP3betaRecommender: URM Detected 311 ( 1.4%) items with no interactions.\n",
            "RP3betaRecommender: Similarity column 22222 (100.0%), 2431.08 column/sec. Elapsed time 9.14 sec\n",
            "ItemKNNSimilarityHybridRecommender: URM Detected 490 ( 3.9%) users with no interactions.\n",
            "ItemKNNSimilarityHybridRecommender: URM Detected 311 ( 1.4%) items with no interactions.\n",
            "EvaluatorHoldout: Processed 10039 (100.0%) in 6.14 sec. Users per second: 1634\n"
          ]
        },
        {
          "output_type": "stream",
          "name": "stderr",
          "text": [
            "[I 2023-11-28 17:44:53,184] Trial 56 finished with value: 0.031463763544399344 and parameters: {'topK': 148, 'alpha': 0.488893807547265}. Best is trial 41 with value: 0.03172920451508966.\n"
          ]
        },
        {
          "output_type": "stream",
          "name": "stdout",
          "text": [
            "ItemKNNCFRecommender: URM Detected 490 ( 3.9%) users with no interactions.\n",
            "ItemKNNCFRecommender: URM Detected 311 ( 1.4%) items with no interactions.\n"
          ]
        },
        {
          "output_type": "stream",
          "name": "stderr",
          "text": [
            "<ipython-input-91-14c86811ef81>:10: FutureWarning: The frame.append method is deprecated and will be removed from pandas in a future version. Use pandas.concat instead.\n",
            "  self.results_df = self.results_df.append(hyperparam_dict, ignore_index=True)\n"
          ]
        },
        {
          "output_type": "stream",
          "name": "stdout",
          "text": [
            "Similarity column 22222 (100.0%), 3390.35 column/sec. Elapsed time 6.55 sec\n",
            "RP3betaRecommender: URM Detected 490 ( 3.9%) users with no interactions.\n",
            "RP3betaRecommender: URM Detected 311 ( 1.4%) items with no interactions.\n",
            "RP3betaRecommender: Similarity column 22222 (100.0%), 3060.49 column/sec. Elapsed time 7.26 sec\n",
            "ItemKNNSimilarityHybridRecommender: URM Detected 490 ( 3.9%) users with no interactions.\n",
            "ItemKNNSimilarityHybridRecommender: URM Detected 311 ( 1.4%) items with no interactions.\n",
            "EvaluatorHoldout: Processed 10039 (100.0%) in 8.10 sec. Users per second: 1239\n"
          ]
        },
        {
          "output_type": "stream",
          "name": "stderr",
          "text": [
            "[I 2023-11-28 17:45:17,491] Trial 57 finished with value: 0.0316672200639729 and parameters: {'topK': 262, 'alpha': 0.2748770676689856}. Best is trial 41 with value: 0.03172920451508966.\n"
          ]
        },
        {
          "output_type": "stream",
          "name": "stdout",
          "text": [
            "ItemKNNCFRecommender: URM Detected 490 ( 3.9%) users with no interactions.\n",
            "ItemKNNCFRecommender: URM Detected 311 ( 1.4%) items with no interactions.\n"
          ]
        },
        {
          "output_type": "stream",
          "name": "stderr",
          "text": [
            "<ipython-input-91-14c86811ef81>:10: FutureWarning: The frame.append method is deprecated and will be removed from pandas in a future version. Use pandas.concat instead.\n",
            "  self.results_df = self.results_df.append(hyperparam_dict, ignore_index=True)\n"
          ]
        },
        {
          "output_type": "stream",
          "name": "stdout",
          "text": [
            "Similarity column 22222 (100.0%), 4922.99 column/sec. Elapsed time 4.51 sec\n",
            "RP3betaRecommender: URM Detected 490 ( 3.9%) users with no interactions.\n",
            "RP3betaRecommender: URM Detected 311 ( 1.4%) items with no interactions.\n",
            "RP3betaRecommender: Similarity column 22222 (100.0%), 3086.48 column/sec. Elapsed time 7.20 sec\n",
            "ItemKNNSimilarityHybridRecommender: URM Detected 490 ( 3.9%) users with no interactions.\n",
            "ItemKNNSimilarityHybridRecommender: URM Detected 311 ( 1.4%) items with no interactions.\n",
            "EvaluatorHoldout: Processed 10039 (100.0%) in 6.64 sec. Users per second: 1511\n"
          ]
        },
        {
          "output_type": "stream",
          "name": "stderr",
          "text": [
            "[I 2023-11-28 17:45:40,053] Trial 58 finished with value: 0.03164777605434065 and parameters: {'topK': 300, 'alpha': 0.396639289420623}. Best is trial 41 with value: 0.03172920451508966.\n"
          ]
        },
        {
          "output_type": "stream",
          "name": "stdout",
          "text": [
            "ItemKNNCFRecommender: URM Detected 490 ( 3.9%) users with no interactions.\n",
            "ItemKNNCFRecommender: URM Detected 311 ( 1.4%) items with no interactions.\n"
          ]
        },
        {
          "output_type": "stream",
          "name": "stderr",
          "text": [
            "<ipython-input-91-14c86811ef81>:10: FutureWarning: The frame.append method is deprecated and will be removed from pandas in a future version. Use pandas.concat instead.\n",
            "  self.results_df = self.results_df.append(hyperparam_dict, ignore_index=True)\n"
          ]
        },
        {
          "output_type": "stream",
          "name": "stdout",
          "text": [
            "Similarity column 22222 (100.0%), 5133.96 column/sec. Elapsed time 4.33 sec\n",
            "RP3betaRecommender: URM Detected 490 ( 3.9%) users with no interactions.\n",
            "RP3betaRecommender: URM Detected 311 ( 1.4%) items with no interactions.\n",
            "RP3betaRecommender: Similarity column 22222 (100.0%), 2432.83 column/sec. Elapsed time 9.13 sec\n",
            "ItemKNNSimilarityHybridRecommender: URM Detected 490 ( 3.9%) users with no interactions.\n",
            "ItemKNNSimilarityHybridRecommender: URM Detected 311 ( 1.4%) items with no interactions.\n",
            "EvaluatorHoldout: Processed 10039 (100.0%) in 7.15 sec. Users per second: 1404\n"
          ]
        },
        {
          "output_type": "stream",
          "name": "stderr",
          "text": [
            "[I 2023-11-28 17:46:02,970] Trial 59 finished with value: 0.03158797356974488 and parameters: {'topK': 450, 'alpha': 0.17136403282869128}. Best is trial 41 with value: 0.03172920451508966.\n"
          ]
        },
        {
          "output_type": "stream",
          "name": "stdout",
          "text": [
            "ItemKNNCFRecommender: URM Detected 490 ( 3.9%) users with no interactions.\n",
            "ItemKNNCFRecommender: URM Detected 311 ( 1.4%) items with no interactions.\n"
          ]
        },
        {
          "output_type": "stream",
          "name": "stderr",
          "text": [
            "<ipython-input-91-14c86811ef81>:10: FutureWarning: The frame.append method is deprecated and will be removed from pandas in a future version. Use pandas.concat instead.\n",
            "  self.results_df = self.results_df.append(hyperparam_dict, ignore_index=True)\n"
          ]
        },
        {
          "output_type": "stream",
          "name": "stdout",
          "text": [
            "Similarity column 22222 (100.0%), 3325.65 column/sec. Elapsed time 6.68 sec\n",
            "RP3betaRecommender: URM Detected 490 ( 3.9%) users with no interactions.\n",
            "RP3betaRecommender: URM Detected 311 ( 1.4%) items with no interactions.\n",
            "RP3betaRecommender: Similarity column 22222 (100.0%), 3406.51 column/sec. Elapsed time 6.52 sec\n",
            "ItemKNNSimilarityHybridRecommender: URM Detected 490 ( 3.9%) users with no interactions.\n",
            "ItemKNNSimilarityHybridRecommender: URM Detected 311 ( 1.4%) items with no interactions.\n",
            "EvaluatorHoldout: Processed 10039 (100.0%) in 8.25 sec. Users per second: 1217\n"
          ]
        },
        {
          "output_type": "stream",
          "name": "stderr",
          "text": [
            "[I 2023-11-28 17:46:26,908] Trial 60 finished with value: 0.0316517565621064 and parameters: {'topK': 317, 'alpha': 0.21835276580095908}. Best is trial 41 with value: 0.03172920451508966.\n"
          ]
        },
        {
          "output_type": "stream",
          "name": "stdout",
          "text": [
            "ItemKNNCFRecommender: URM Detected 490 ( 3.9%) users with no interactions.\n",
            "ItemKNNCFRecommender: URM Detected 311 ( 1.4%) items with no interactions.\n"
          ]
        },
        {
          "output_type": "stream",
          "name": "stderr",
          "text": [
            "<ipython-input-91-14c86811ef81>:10: FutureWarning: The frame.append method is deprecated and will be removed from pandas in a future version. Use pandas.concat instead.\n",
            "  self.results_df = self.results_df.append(hyperparam_dict, ignore_index=True)\n"
          ]
        },
        {
          "output_type": "stream",
          "name": "stdout",
          "text": [
            "Similarity column 22222 (100.0%), 5152.82 column/sec. Elapsed time 4.31 sec\n",
            "RP3betaRecommender: URM Detected 490 ( 3.9%) users with no interactions.\n",
            "RP3betaRecommender: URM Detected 311 ( 1.4%) items with no interactions.\n",
            "RP3betaRecommender: Similarity column 22222 (100.0%), 2580.38 column/sec. Elapsed time 8.61 sec\n",
            "ItemKNNSimilarityHybridRecommender: URM Detected 490 ( 3.9%) users with no interactions.\n",
            "ItemKNNSimilarityHybridRecommender: URM Detected 311 ( 1.4%) items with no interactions.\n",
            "EvaluatorHoldout: Processed 10039 (100.0%) in 6.78 sec. Users per second: 1481\n"
          ]
        },
        {
          "output_type": "stream",
          "name": "stderr",
          "text": [
            "[I 2023-11-28 17:46:49,688] Trial 61 finished with value: 0.031709634014644605 and parameters: {'topK': 109, 'alpha': 0.3534176086671482}. Best is trial 41 with value: 0.03172920451508966.\n"
          ]
        },
        {
          "output_type": "stream",
          "name": "stdout",
          "text": [
            "ItemKNNCFRecommender: URM Detected 490 ( 3.9%) users with no interactions.\n",
            "ItemKNNCFRecommender: URM Detected 311 ( 1.4%) items with no interactions.\n"
          ]
        },
        {
          "output_type": "stream",
          "name": "stderr",
          "text": [
            "<ipython-input-91-14c86811ef81>:10: FutureWarning: The frame.append method is deprecated and will be removed from pandas in a future version. Use pandas.concat instead.\n",
            "  self.results_df = self.results_df.append(hyperparam_dict, ignore_index=True)\n"
          ]
        },
        {
          "output_type": "stream",
          "name": "stdout",
          "text": [
            "Similarity column 22222 (100.0%), 3496.55 column/sec. Elapsed time 6.36 sec\n",
            "RP3betaRecommender: URM Detected 490 ( 3.9%) users with no interactions.\n",
            "RP3betaRecommender: URM Detected 311 ( 1.4%) items with no interactions.\n",
            "RP3betaRecommender: Similarity column 22222 (100.0%), 2918.22 column/sec. Elapsed time 7.61 sec\n",
            "ItemKNNSimilarityHybridRecommender: URM Detected 490 ( 3.9%) users with no interactions.\n",
            "ItemKNNSimilarityHybridRecommender: URM Detected 311 ( 1.4%) items with no interactions.\n",
            "EvaluatorHoldout: Processed 10039 (100.0%) in 8.03 sec. Users per second: 1250\n"
          ]
        },
        {
          "output_type": "stream",
          "name": "stderr",
          "text": [
            "[I 2023-11-28 17:47:14,184] Trial 62 finished with value: 0.03169068015691197 and parameters: {'topK': 105, 'alpha': 0.3036989787808006}. Best is trial 41 with value: 0.03172920451508966.\n"
          ]
        },
        {
          "output_type": "stream",
          "name": "stdout",
          "text": [
            "ItemKNNCFRecommender: URM Detected 490 ( 3.9%) users with no interactions.\n",
            "ItemKNNCFRecommender: URM Detected 311 ( 1.4%) items with no interactions.\n"
          ]
        },
        {
          "output_type": "stream",
          "name": "stderr",
          "text": [
            "<ipython-input-91-14c86811ef81>:10: FutureWarning: The frame.append method is deprecated and will be removed from pandas in a future version. Use pandas.concat instead.\n",
            "  self.results_df = self.results_df.append(hyperparam_dict, ignore_index=True)\n"
          ]
        },
        {
          "output_type": "stream",
          "name": "stdout",
          "text": [
            "Similarity column 22222 (100.0%), 4834.39 column/sec. Elapsed time 4.60 sec\n",
            "RP3betaRecommender: URM Detected 490 ( 3.9%) users with no interactions.\n",
            "RP3betaRecommender: URM Detected 311 ( 1.4%) items with no interactions.\n",
            "RP3betaRecommender: Similarity column 22222 (100.0%), 3045.14 column/sec. Elapsed time 7.30 sec\n",
            "ItemKNNSimilarityHybridRecommender: URM Detected 490 ( 3.9%) users with no interactions.\n",
            "ItemKNNSimilarityHybridRecommender: URM Detected 311 ( 1.4%) items with no interactions.\n",
            "EvaluatorHoldout: Processed 10039 (100.0%) in 6.68 sec. Users per second: 1503\n"
          ]
        },
        {
          "output_type": "stream",
          "name": "stderr",
          "text": [
            "[I 2023-11-28 17:47:36,917] Trial 63 finished with value: 0.031730528715786306 and parameters: {'topK': 62, 'alpha': 0.34054720087980433}. Best is trial 63 with value: 0.031730528715786306.\n"
          ]
        },
        {
          "output_type": "stream",
          "name": "stdout",
          "text": [
            "ItemKNNCFRecommender: URM Detected 490 ( 3.9%) users with no interactions.\n",
            "ItemKNNCFRecommender: URM Detected 311 ( 1.4%) items with no interactions.\n"
          ]
        },
        {
          "output_type": "stream",
          "name": "stderr",
          "text": [
            "<ipython-input-91-14c86811ef81>:10: FutureWarning: The frame.append method is deprecated and will be removed from pandas in a future version. Use pandas.concat instead.\n",
            "  self.results_df = self.results_df.append(hyperparam_dict, ignore_index=True)\n"
          ]
        },
        {
          "output_type": "stream",
          "name": "stdout",
          "text": [
            "Similarity column 22222 (100.0%), 5159.19 column/sec. Elapsed time 4.31 sec\n",
            "RP3betaRecommender: URM Detected 490 ( 3.9%) users with no interactions.\n",
            "RP3betaRecommender: URM Detected 311 ( 1.4%) items with no interactions.\n",
            "RP3betaRecommender: Similarity column 22222 (100.0%), 2431.27 column/sec. Elapsed time 9.14 sec\n",
            "ItemKNNSimilarityHybridRecommender: URM Detected 490 ( 3.9%) users with no interactions.\n",
            "ItemKNNSimilarityHybridRecommender: URM Detected 311 ( 1.4%) items with no interactions.\n",
            "EvaluatorHoldout: Processed 10039 (100.0%) in 6.51 sec. Users per second: 1542\n"
          ]
        },
        {
          "output_type": "stream",
          "name": "stderr",
          "text": [
            "[I 2023-11-28 17:47:59,249] Trial 64 finished with value: 0.03169143910178891 and parameters: {'topK': 43, 'alpha': 0.26244747034069743}. Best is trial 63 with value: 0.031730528715786306.\n"
          ]
        },
        {
          "output_type": "stream",
          "name": "stdout",
          "text": [
            "ItemKNNCFRecommender: URM Detected 490 ( 3.9%) users with no interactions.\n",
            "ItemKNNCFRecommender: URM Detected 311 ( 1.4%) items with no interactions.\n"
          ]
        },
        {
          "output_type": "stream",
          "name": "stderr",
          "text": [
            "<ipython-input-91-14c86811ef81>:10: FutureWarning: The frame.append method is deprecated and will be removed from pandas in a future version. Use pandas.concat instead.\n",
            "  self.results_df = self.results_df.append(hyperparam_dict, ignore_index=True)\n"
          ]
        },
        {
          "output_type": "stream",
          "name": "stdout",
          "text": [
            "Similarity column 22222 (100.0%), 3188.26 column/sec. Elapsed time 6.97 sec\n",
            "RP3betaRecommender: URM Detected 490 ( 3.9%) users with no interactions.\n",
            "RP3betaRecommender: URM Detected 311 ( 1.4%) items with no interactions.\n",
            "RP3betaRecommender: Similarity column 22222 (100.0%), 3248.77 column/sec. Elapsed time 6.84 sec\n",
            "ItemKNNSimilarityHybridRecommender: URM Detected 490 ( 3.9%) users with no interactions.\n",
            "ItemKNNSimilarityHybridRecommender: URM Detected 311 ( 1.4%) items with no interactions.\n",
            "EvaluatorHoldout: Processed 10039 (100.0%) in 8.22 sec. Users per second: 1222\n"
          ]
        },
        {
          "output_type": "stream",
          "name": "stderr",
          "text": [
            "[I 2023-11-28 17:48:23,897] Trial 65 finished with value: 0.03160071751913587 and parameters: {'topK': 67, 'alpha': 0.40980864571518155}. Best is trial 63 with value: 0.031730528715786306.\n"
          ]
        },
        {
          "output_type": "stream",
          "name": "stdout",
          "text": [
            "ItemKNNCFRecommender: URM Detected 490 ( 3.9%) users with no interactions.\n",
            "ItemKNNCFRecommender: URM Detected 311 ( 1.4%) items with no interactions.\n"
          ]
        },
        {
          "output_type": "stream",
          "name": "stderr",
          "text": [
            "<ipython-input-91-14c86811ef81>:10: FutureWarning: The frame.append method is deprecated and will be removed from pandas in a future version. Use pandas.concat instead.\n",
            "  self.results_df = self.results_df.append(hyperparam_dict, ignore_index=True)\n"
          ]
        },
        {
          "output_type": "stream",
          "name": "stdout",
          "text": [
            "Similarity column 22222 (100.0%), 5133.61 column/sec. Elapsed time 4.33 sec\n",
            "RP3betaRecommender: URM Detected 490 ( 3.9%) users with no interactions.\n",
            "RP3betaRecommender: URM Detected 311 ( 1.4%) items with no interactions.\n",
            "RP3betaRecommender: Similarity column 22222 (100.0%), 2527.04 column/sec. Elapsed time 8.79 sec\n",
            "ItemKNNSimilarityHybridRecommender: URM Detected 490 ( 3.9%) users with no interactions.\n",
            "ItemKNNSimilarityHybridRecommender: URM Detected 311 ( 1.4%) items with no interactions.\n",
            "EvaluatorHoldout: Processed 10039 (100.0%) in 6.37 sec. Users per second: 1577\n"
          ]
        },
        {
          "output_type": "stream",
          "name": "stderr",
          "text": [
            "[I 2023-11-28 17:48:46,301] Trial 66 finished with value: 0.03140423380561863 and parameters: {'topK': 105, 'alpha': 0.5334292420121828}. Best is trial 63 with value: 0.031730528715786306.\n"
          ]
        },
        {
          "output_type": "stream",
          "name": "stdout",
          "text": [
            "ItemKNNCFRecommender: URM Detected 490 ( 3.9%) users with no interactions.\n",
            "ItemKNNCFRecommender: URM Detected 311 ( 1.4%) items with no interactions.\n"
          ]
        },
        {
          "output_type": "stream",
          "name": "stderr",
          "text": [
            "<ipython-input-91-14c86811ef81>:10: FutureWarning: The frame.append method is deprecated and will be removed from pandas in a future version. Use pandas.concat instead.\n",
            "  self.results_df = self.results_df.append(hyperparam_dict, ignore_index=True)\n"
          ]
        },
        {
          "output_type": "stream",
          "name": "stdout",
          "text": [
            "Similarity column 22222 (100.0%), 3531.61 column/sec. Elapsed time 6.29 sec\n",
            "RP3betaRecommender: URM Detected 490 ( 3.9%) users with no interactions.\n",
            "RP3betaRecommender: URM Detected 311 ( 1.4%) items with no interactions.\n",
            "RP3betaRecommender: Similarity column 22222 (100.0%), 2982.92 column/sec. Elapsed time 7.45 sec\n",
            "ItemKNNSimilarityHybridRecommender: URM Detected 490 ( 3.9%) users with no interactions.\n",
            "ItemKNNSimilarityHybridRecommender: URM Detected 311 ( 1.4%) items with no interactions.\n",
            "EvaluatorHoldout: Processed 10039 (100.0%) in 7.97 sec. Users per second: 1260\n"
          ]
        },
        {
          "output_type": "stream",
          "name": "stderr",
          "text": [
            "[I 2023-11-28 17:49:10,634] Trial 67 finished with value: 0.031454723404120984 and parameters: {'topK': 26, 'alpha': 0.44791001541626124}. Best is trial 63 with value: 0.031730528715786306.\n"
          ]
        },
        {
          "output_type": "stream",
          "name": "stdout",
          "text": [
            "ItemKNNCFRecommender: URM Detected 490 ( 3.9%) users with no interactions.\n",
            "ItemKNNCFRecommender: URM Detected 311 ( 1.4%) items with no interactions.\n"
          ]
        },
        {
          "output_type": "stream",
          "name": "stderr",
          "text": [
            "<ipython-input-91-14c86811ef81>:10: FutureWarning: The frame.append method is deprecated and will be removed from pandas in a future version. Use pandas.concat instead.\n",
            "  self.results_df = self.results_df.append(hyperparam_dict, ignore_index=True)\n"
          ]
        },
        {
          "output_type": "stream",
          "name": "stdout",
          "text": [
            "Similarity column 22222 (100.0%), 4532.52 column/sec. Elapsed time 4.90 sec\n",
            "RP3betaRecommender: URM Detected 490 ( 3.9%) users with no interactions.\n",
            "RP3betaRecommender: URM Detected 311 ( 1.4%) items with no interactions.\n",
            "RP3betaRecommender: Similarity column 22222 (100.0%), 3121.09 column/sec. Elapsed time 7.12 sec\n",
            "ItemKNNSimilarityHybridRecommender: URM Detected 490 ( 3.9%) users with no interactions.\n",
            "ItemKNNSimilarityHybridRecommender: URM Detected 311 ( 1.4%) items with no interactions.\n",
            "EvaluatorHoldout: Processed 10039 (100.0%) in 7.09 sec. Users per second: 1416\n"
          ]
        },
        {
          "output_type": "stream",
          "name": "stderr",
          "text": [
            "[I 2023-11-28 17:49:34,004] Trial 68 finished with value: 0.03171696652894995 and parameters: {'topK': 72, 'alpha': 0.2956183331564919}. Best is trial 63 with value: 0.031730528715786306.\n"
          ]
        },
        {
          "output_type": "stream",
          "name": "stdout",
          "text": [
            "ItemKNNCFRecommender: URM Detected 490 ( 3.9%) users with no interactions.\n",
            "ItemKNNCFRecommender: URM Detected 311 ( 1.4%) items with no interactions.\n"
          ]
        },
        {
          "output_type": "stream",
          "name": "stderr",
          "text": [
            "<ipython-input-91-14c86811ef81>:10: FutureWarning: The frame.append method is deprecated and will be removed from pandas in a future version. Use pandas.concat instead.\n",
            "  self.results_df = self.results_df.append(hyperparam_dict, ignore_index=True)\n"
          ]
        },
        {
          "output_type": "stream",
          "name": "stdout",
          "text": [
            "Similarity column 22222 (100.0%), 5120.66 column/sec. Elapsed time 4.34 sec\n",
            "RP3betaRecommender: URM Detected 490 ( 3.9%) users with no interactions.\n",
            "RP3betaRecommender: URM Detected 311 ( 1.4%) items with no interactions.\n",
            "RP3betaRecommender: Similarity column 22222 (100.0%), 2458.03 column/sec. Elapsed time 9.04 sec\n",
            "ItemKNNSimilarityHybridRecommender: URM Detected 490 ( 3.9%) users with no interactions.\n",
            "ItemKNNSimilarityHybridRecommender: URM Detected 311 ( 1.4%) items with no interactions.\n",
            "EvaluatorHoldout: Processed 10039 (100.0%) in 6.97 sec. Users per second: 1441\n"
          ]
        },
        {
          "output_type": "stream",
          "name": "stderr",
          "text": [
            "[I 2023-11-28 17:49:56,721] Trial 69 finished with value: 0.03169015047663338 and parameters: {'topK': 62, 'alpha': 0.27018519088719367}. Best is trial 63 with value: 0.031730528715786306.\n"
          ]
        },
        {
          "output_type": "stream",
          "name": "stdout",
          "text": [
            "ItemKNNCFRecommender: URM Detected 490 ( 3.9%) users with no interactions.\n",
            "ItemKNNCFRecommender: URM Detected 311 ( 1.4%) items with no interactions.\n"
          ]
        },
        {
          "output_type": "stream",
          "name": "stderr",
          "text": [
            "<ipython-input-91-14c86811ef81>:10: FutureWarning: The frame.append method is deprecated and will be removed from pandas in a future version. Use pandas.concat instead.\n",
            "  self.results_df = self.results_df.append(hyperparam_dict, ignore_index=True)\n"
          ]
        },
        {
          "output_type": "stream",
          "name": "stdout",
          "text": [
            "Similarity column 22222 (100.0%), 3348.98 column/sec. Elapsed time 6.64 sec\n",
            "RP3betaRecommender: URM Detected 490 ( 3.9%) users with no interactions.\n",
            "RP3betaRecommender: URM Detected 311 ( 1.4%) items with no interactions.\n",
            "RP3betaRecommender: Similarity column 22222 (100.0%), 3131.45 column/sec. Elapsed time 7.10 sec\n",
            "ItemKNNSimilarityHybridRecommender: URM Detected 490 ( 3.9%) users with no interactions.\n",
            "ItemKNNSimilarityHybridRecommender: URM Detected 311 ( 1.4%) items with no interactions.\n",
            "EvaluatorHoldout: Processed 10039 (100.0%) in 8.04 sec. Users per second: 1248\n"
          ]
        },
        {
          "output_type": "stream",
          "name": "stderr",
          "text": [
            "[I 2023-11-28 17:50:21,464] Trial 70 finished with value: 0.031691782998686295 and parameters: {'topK': 227, 'alpha': 0.20950523433622228}. Best is trial 63 with value: 0.031730528715786306.\n"
          ]
        },
        {
          "output_type": "stream",
          "name": "stdout",
          "text": [
            "ItemKNNCFRecommender: URM Detected 490 ( 3.9%) users with no interactions.\n",
            "ItemKNNCFRecommender: URM Detected 311 ( 1.4%) items with no interactions.\n"
          ]
        },
        {
          "output_type": "stream",
          "name": "stderr",
          "text": [
            "<ipython-input-91-14c86811ef81>:10: FutureWarning: The frame.append method is deprecated and will be removed from pandas in a future version. Use pandas.concat instead.\n",
            "  self.results_df = self.results_df.append(hyperparam_dict, ignore_index=True)\n"
          ]
        },
        {
          "output_type": "stream",
          "name": "stdout",
          "text": [
            "Similarity column 22222 (100.0%), 5156.77 column/sec. Elapsed time 4.31 sec\n",
            "RP3betaRecommender: URM Detected 490 ( 3.9%) users with no interactions.\n",
            "RP3betaRecommender: URM Detected 311 ( 1.4%) items with no interactions.\n",
            "RP3betaRecommender: Similarity column 22222 (100.0%), 2440.78 column/sec. Elapsed time 9.10 sec\n",
            "ItemKNNSimilarityHybridRecommender: URM Detected 490 ( 3.9%) users with no interactions.\n",
            "ItemKNNSimilarityHybridRecommender: URM Detected 311 ( 1.4%) items with no interactions.\n",
            "EvaluatorHoldout: Processed 10039 (100.0%) in 6.43 sec. Users per second: 1561\n"
          ]
        },
        {
          "output_type": "stream",
          "name": "stderr",
          "text": [
            "[I 2023-11-28 17:50:43,792] Trial 71 finished with value: 0.03168065180715855 and parameters: {'topK': 91, 'alpha': 0.36216334510371984}. Best is trial 63 with value: 0.031730528715786306.\n"
          ]
        },
        {
          "output_type": "stream",
          "name": "stdout",
          "text": [
            "ItemKNNCFRecommender: URM Detected 490 ( 3.9%) users with no interactions.\n",
            "ItemKNNCFRecommender: URM Detected 311 ( 1.4%) items with no interactions.\n"
          ]
        },
        {
          "output_type": "stream",
          "name": "stderr",
          "text": [
            "<ipython-input-91-14c86811ef81>:10: FutureWarning: The frame.append method is deprecated and will be removed from pandas in a future version. Use pandas.concat instead.\n",
            "  self.results_df = self.results_df.append(hyperparam_dict, ignore_index=True)\n"
          ]
        },
        {
          "output_type": "stream",
          "name": "stdout",
          "text": [
            "Similarity column 22222 (100.0%), 3286.23 column/sec. Elapsed time 6.76 sec\n",
            "RP3betaRecommender: URM Detected 490 ( 3.9%) users with no interactions.\n",
            "RP3betaRecommender: URM Detected 311 ( 1.4%) items with no interactions.\n",
            "RP3betaRecommender: Similarity column 22222 (100.0%), 3065.48 column/sec. Elapsed time 7.25 sec\n",
            "ItemKNNSimilarityHybridRecommender: URM Detected 490 ( 3.9%) users with no interactions.\n",
            "ItemKNNSimilarityHybridRecommender: URM Detected 311 ( 1.4%) items with no interactions.\n",
            "EvaluatorHoldout: Processed 10039 (100.0%) in 8.65 sec. Users per second: 1160\n"
          ]
        },
        {
          "output_type": "stream",
          "name": "stderr",
          "text": [
            "[I 2023-11-28 17:51:08,946] Trial 72 finished with value: 0.03170587486580131 and parameters: {'topK': 155, 'alpha': 0.296204732368036}. Best is trial 63 with value: 0.031730528715786306.\n"
          ]
        },
        {
          "output_type": "stream",
          "name": "stdout",
          "text": [
            "ItemKNNCFRecommender: URM Detected 490 ( 3.9%) users with no interactions.\n",
            "ItemKNNCFRecommender: URM Detected 311 ( 1.4%) items with no interactions.\n"
          ]
        },
        {
          "output_type": "stream",
          "name": "stderr",
          "text": [
            "<ipython-input-91-14c86811ef81>:10: FutureWarning: The frame.append method is deprecated and will be removed from pandas in a future version. Use pandas.concat instead.\n",
            "  self.results_df = self.results_df.append(hyperparam_dict, ignore_index=True)\n"
          ]
        },
        {
          "output_type": "stream",
          "name": "stdout",
          "text": [
            "Similarity column 22222 (100.0%), 5210.75 column/sec. Elapsed time 4.26 sec\n",
            "RP3betaRecommender: URM Detected 490 ( 3.9%) users with no interactions.\n",
            "RP3betaRecommender: URM Detected 311 ( 1.4%) items with no interactions.\n",
            "RP3betaRecommender: Similarity column 22222 (100.0%), 3001.83 column/sec. Elapsed time 7.40 sec\n",
            "ItemKNNSimilarityHybridRecommender: URM Detected 490 ( 3.9%) users with no interactions.\n",
            "ItemKNNSimilarityHybridRecommender: URM Detected 311 ( 1.4%) items with no interactions.\n",
            "EvaluatorHoldout: Processed 10039 (100.0%) in 7.25 sec. Users per second: 1384\n"
          ]
        },
        {
          "output_type": "stream",
          "name": "stderr",
          "text": [
            "[I 2023-11-28 17:51:32,012] Trial 73 finished with value: 0.03165393062295162 and parameters: {'topK': 124, 'alpha': 0.24363155978450673}. Best is trial 63 with value: 0.031730528715786306.\n"
          ]
        },
        {
          "output_type": "stream",
          "name": "stdout",
          "text": [
            "ItemKNNCFRecommender: URM Detected 490 ( 3.9%) users with no interactions.\n",
            "ItemKNNCFRecommender: URM Detected 311 ( 1.4%) items with no interactions.\n"
          ]
        },
        {
          "output_type": "stream",
          "name": "stderr",
          "text": [
            "<ipython-input-91-14c86811ef81>:10: FutureWarning: The frame.append method is deprecated and will be removed from pandas in a future version. Use pandas.concat instead.\n",
            "  self.results_df = self.results_df.append(hyperparam_dict, ignore_index=True)\n"
          ]
        },
        {
          "output_type": "stream",
          "name": "stdout",
          "text": [
            "Similarity column 22222 (100.0%), 4158.64 column/sec. Elapsed time 5.34 sec\n",
            "RP3betaRecommender: URM Detected 490 ( 3.9%) users with no interactions.\n",
            "RP3betaRecommender: URM Detected 311 ( 1.4%) items with no interactions.\n",
            "RP3betaRecommender: Similarity column 22222 (100.0%), 2725.72 column/sec. Elapsed time 8.15 sec\n",
            "ItemKNNSimilarityHybridRecommender: URM Detected 490 ( 3.9%) users with no interactions.\n",
            "ItemKNNSimilarityHybridRecommender: URM Detected 311 ( 1.4%) items with no interactions.\n",
            "EvaluatorHoldout: Processed 10039 (100.0%) in 6.77 sec. Users per second: 1483\n"
          ]
        },
        {
          "output_type": "stream",
          "name": "stderr",
          "text": [
            "[I 2023-11-28 17:51:54,495] Trial 74 finished with value: 0.030328156696819125 and parameters: {'topK': 6, 'alpha': 0.3316662858229229}. Best is trial 63 with value: 0.031730528715786306.\n"
          ]
        },
        {
          "output_type": "stream",
          "name": "stdout",
          "text": [
            "ItemKNNCFRecommender: URM Detected 490 ( 3.9%) users with no interactions.\n",
            "ItemKNNCFRecommender: URM Detected 311 ( 1.4%) items with no interactions.\n"
          ]
        },
        {
          "output_type": "stream",
          "name": "stderr",
          "text": [
            "<ipython-input-91-14c86811ef81>:10: FutureWarning: The frame.append method is deprecated and will be removed from pandas in a future version. Use pandas.concat instead.\n",
            "  self.results_df = self.results_df.append(hyperparam_dict, ignore_index=True)\n"
          ]
        },
        {
          "output_type": "stream",
          "name": "stdout",
          "text": [
            "Similarity column 22222 (100.0%), 3634.60 column/sec. Elapsed time 6.11 sec\n",
            "RP3betaRecommender: URM Detected 490 ( 3.9%) users with no interactions.\n",
            "RP3betaRecommender: URM Detected 311 ( 1.4%) items with no interactions.\n",
            "RP3betaRecommender: Similarity column 22222 (100.0%), 3214.46 column/sec. Elapsed time 6.91 sec\n",
            "ItemKNNSimilarityHybridRecommender: URM Detected 490 ( 3.9%) users with no interactions.\n",
            "ItemKNNSimilarityHybridRecommender: URM Detected 311 ( 1.4%) items with no interactions.\n",
            "EvaluatorHoldout: Processed 10039 (100.0%) in 7.63 sec. Users per second: 1315\n"
          ]
        },
        {
          "output_type": "stream",
          "name": "stderr",
          "text": [
            "[I 2023-11-28 17:52:18,590] Trial 75 finished with value: 0.03164557037079221 and parameters: {'topK': 74, 'alpha': 0.37636576331165106}. Best is trial 63 with value: 0.031730528715786306.\n"
          ]
        },
        {
          "output_type": "stream",
          "name": "stdout",
          "text": [
            "ItemKNNCFRecommender: URM Detected 490 ( 3.9%) users with no interactions.\n",
            "ItemKNNCFRecommender: URM Detected 311 ( 1.4%) items with no interactions.\n"
          ]
        },
        {
          "output_type": "stream",
          "name": "stderr",
          "text": [
            "<ipython-input-91-14c86811ef81>:10: FutureWarning: The frame.append method is deprecated and will be removed from pandas in a future version. Use pandas.concat instead.\n",
            "  self.results_df = self.results_df.append(hyperparam_dict, ignore_index=True)\n"
          ]
        },
        {
          "output_type": "stream",
          "name": "stdout",
          "text": [
            "Similarity column 22222 (100.0%), 5225.28 column/sec. Elapsed time 4.25 sec\n",
            "RP3betaRecommender: URM Detected 490 ( 3.9%) users with no interactions.\n",
            "RP3betaRecommender: URM Detected 311 ( 1.4%) items with no interactions.\n",
            "RP3betaRecommender: Similarity column 22222 (100.0%), 2375.42 column/sec. Elapsed time 9.35 sec\n",
            "ItemKNNSimilarityHybridRecommender: URM Detected 490 ( 3.9%) users with no interactions.\n",
            "ItemKNNSimilarityHybridRecommender: URM Detected 311 ( 1.4%) items with no interactions.\n",
            "EvaluatorHoldout: Processed 10039 (100.0%) in 6.13 sec. Users per second: 1639\n"
          ]
        },
        {
          "output_type": "stream",
          "name": "stderr",
          "text": [
            "[I 2023-11-28 17:52:40,737] Trial 76 finished with value: 0.031237724461900436 and parameters: {'topK': 200, 'alpha': 0.6172296189088332}. Best is trial 63 with value: 0.031730528715786306.\n"
          ]
        },
        {
          "output_type": "stream",
          "name": "stdout",
          "text": [
            "ItemKNNCFRecommender: URM Detected 490 ( 3.9%) users with no interactions.\n",
            "ItemKNNCFRecommender: URM Detected 311 ( 1.4%) items with no interactions.\n"
          ]
        },
        {
          "output_type": "stream",
          "name": "stderr",
          "text": [
            "<ipython-input-91-14c86811ef81>:10: FutureWarning: The frame.append method is deprecated and will be removed from pandas in a future version. Use pandas.concat instead.\n",
            "  self.results_df = self.results_df.append(hyperparam_dict, ignore_index=True)\n"
          ]
        },
        {
          "output_type": "stream",
          "name": "stdout",
          "text": [
            "Similarity column 22222 (100.0%), 3288.54 column/sec. Elapsed time 6.76 sec\n",
            "RP3betaRecommender: URM Detected 490 ( 3.9%) users with no interactions.\n",
            "RP3betaRecommender: URM Detected 311 ( 1.4%) items with no interactions.\n",
            "RP3betaRecommender: Similarity column 22222 (100.0%), 3157.10 column/sec. Elapsed time 7.04 sec\n",
            "ItemKNNSimilarityHybridRecommender: URM Detected 490 ( 3.9%) users with no interactions.\n",
            "ItemKNNSimilarityHybridRecommender: URM Detected 311 ( 1.4%) items with no interactions.\n",
            "EvaluatorHoldout: Processed 10039 (100.0%) in 8.28 sec. Users per second: 1213\n"
          ]
        },
        {
          "output_type": "stream",
          "name": "stderr",
          "text": [
            "[I 2023-11-28 17:53:05,349] Trial 77 finished with value: 0.03153738515029501 and parameters: {'topK': 57, 'alpha': 0.4373803051200889}. Best is trial 63 with value: 0.031730528715786306.\n"
          ]
        },
        {
          "output_type": "stream",
          "name": "stdout",
          "text": [
            "ItemKNNCFRecommender: URM Detected 490 ( 3.9%) users with no interactions.\n",
            "ItemKNNCFRecommender: URM Detected 311 ( 1.4%) items with no interactions.\n"
          ]
        },
        {
          "output_type": "stream",
          "name": "stderr",
          "text": [
            "<ipython-input-91-14c86811ef81>:10: FutureWarning: The frame.append method is deprecated and will be removed from pandas in a future version. Use pandas.concat instead.\n",
            "  self.results_df = self.results_df.append(hyperparam_dict, ignore_index=True)\n"
          ]
        },
        {
          "output_type": "stream",
          "name": "stdout",
          "text": [
            "Similarity column 22222 (100.0%), 5118.98 column/sec. Elapsed time 4.34 sec\n",
            "RP3betaRecommender: URM Detected 490 ( 3.9%) users with no interactions.\n",
            "RP3betaRecommender: URM Detected 311 ( 1.4%) items with no interactions.\n",
            "RP3betaRecommender: Similarity column 22222 (100.0%), 3074.80 column/sec. Elapsed time 7.23 sec\n",
            "ItemKNNSimilarityHybridRecommender: URM Detected 490 ( 3.9%) users with no interactions.\n",
            "ItemKNNSimilarityHybridRecommender: URM Detected 311 ( 1.4%) items with no interactions.\n",
            "EvaluatorHoldout: Processed 10039 (100.0%) in 6.98 sec. Users per second: 1437\n"
          ]
        },
        {
          "output_type": "stream",
          "name": "stderr",
          "text": [
            "[I 2023-11-28 17:53:28,034] Trial 78 finished with value: 0.03162635562575818 and parameters: {'topK': 114, 'alpha': 0.18209621108287094}. Best is trial 63 with value: 0.031730528715786306.\n"
          ]
        },
        {
          "output_type": "stream",
          "name": "stdout",
          "text": [
            "ItemKNNCFRecommender: URM Detected 490 ( 3.9%) users with no interactions.\n",
            "ItemKNNCFRecommender: URM Detected 311 ( 1.4%) items with no interactions.\n"
          ]
        },
        {
          "output_type": "stream",
          "name": "stderr",
          "text": [
            "<ipython-input-91-14c86811ef81>:10: FutureWarning: The frame.append method is deprecated and will be removed from pandas in a future version. Use pandas.concat instead.\n",
            "  self.results_df = self.results_df.append(hyperparam_dict, ignore_index=True)\n"
          ]
        },
        {
          "output_type": "stream",
          "name": "stdout",
          "text": [
            "Similarity column 22222 (100.0%), 4857.50 column/sec. Elapsed time 4.57 sec\n",
            "RP3betaRecommender: URM Detected 490 ( 3.9%) users with no interactions.\n",
            "RP3betaRecommender: URM Detected 311 ( 1.4%) items with no interactions.\n",
            "RP3betaRecommender: Similarity column 22222 (100.0%), 2523.85 column/sec. Elapsed time 8.80 sec\n",
            "ItemKNNSimilarityHybridRecommender: URM Detected 490 ( 3.9%) users with no interactions.\n",
            "ItemKNNSimilarityHybridRecommender: URM Detected 311 ( 1.4%) items with no interactions.\n",
            "EvaluatorHoldout: Processed 10039 (100.0%) in 7.13 sec. Users per second: 1407\n"
          ]
        },
        {
          "output_type": "stream",
          "name": "stderr",
          "text": [
            "[I 2023-11-28 17:53:50,923] Trial 79 finished with value: 0.03168059251459004 and parameters: {'topK': 139, 'alpha': 0.3041240385708363}. Best is trial 63 with value: 0.031730528715786306.\n"
          ]
        },
        {
          "output_type": "stream",
          "name": "stdout",
          "text": [
            "ItemKNNCFRecommender: URM Detected 490 ( 3.9%) users with no interactions.\n",
            "ItemKNNCFRecommender: URM Detected 311 ( 1.4%) items with no interactions.\n"
          ]
        },
        {
          "output_type": "stream",
          "name": "stderr",
          "text": [
            "<ipython-input-91-14c86811ef81>:10: FutureWarning: The frame.append method is deprecated and will be removed from pandas in a future version. Use pandas.concat instead.\n",
            "  self.results_df = self.results_df.append(hyperparam_dict, ignore_index=True)\n"
          ]
        },
        {
          "output_type": "stream",
          "name": "stdout",
          "text": [
            "Similarity column 22222 (100.0%), 3482.94 column/sec. Elapsed time 6.38 sec\n",
            "RP3betaRecommender: URM Detected 490 ( 3.9%) users with no interactions.\n",
            "RP3betaRecommender: URM Detected 311 ( 1.4%) items with no interactions.\n",
            "RP3betaRecommender: Similarity column 22222 (100.0%), 3354.82 column/sec. Elapsed time 6.62 sec\n",
            "ItemKNNSimilarityHybridRecommender: URM Detected 490 ( 3.9%) users with no interactions.\n",
            "ItemKNNSimilarityHybridRecommender: URM Detected 311 ( 1.4%) items with no interactions.\n",
            "EvaluatorHoldout: Processed 10039 (100.0%) in 8.31 sec. Users per second: 1208\n"
          ]
        },
        {
          "output_type": "stream",
          "name": "stderr",
          "text": [
            "[I 2023-11-28 17:54:15,551] Trial 80 finished with value: 0.03116367594951137 and parameters: {'topK': 22, 'alpha': 0.5074749405100496}. Best is trial 63 with value: 0.031730528715786306.\n"
          ]
        },
        {
          "output_type": "stream",
          "name": "stdout",
          "text": [
            "ItemKNNCFRecommender: URM Detected 490 ( 3.9%) users with no interactions.\n",
            "ItemKNNCFRecommender: URM Detected 311 ( 1.4%) items with no interactions.\n"
          ]
        },
        {
          "output_type": "stream",
          "name": "stderr",
          "text": [
            "<ipython-input-91-14c86811ef81>:10: FutureWarning: The frame.append method is deprecated and will be removed from pandas in a future version. Use pandas.concat instead.\n",
            "  self.results_df = self.results_df.append(hyperparam_dict, ignore_index=True)\n"
          ]
        },
        {
          "output_type": "stream",
          "name": "stdout",
          "text": [
            "Similarity column 22222 (100.0%), 5011.58 column/sec. Elapsed time 4.43 sec\n",
            "RP3betaRecommender: URM Detected 490 ( 3.9%) users with no interactions.\n",
            "RP3betaRecommender: URM Detected 311 ( 1.4%) items with no interactions.\n",
            "RP3betaRecommender: Similarity column 22222 (100.0%), 2362.62 column/sec. Elapsed time 9.41 sec\n",
            "ItemKNNSimilarityHybridRecommender: URM Detected 490 ( 3.9%) users with no interactions.\n",
            "ItemKNNSimilarityHybridRecommender: URM Detected 311 ( 1.4%) items with no interactions.\n",
            "EvaluatorHoldout: Processed 10039 (100.0%) in 6.28 sec. Users per second: 1599\n"
          ]
        },
        {
          "output_type": "stream",
          "name": "stderr",
          "text": [
            "[I 2023-11-28 17:54:38,142] Trial 81 finished with value: 0.0316856086658857 and parameters: {'topK': 376, 'alpha': 0.35686877794124866}. Best is trial 63 with value: 0.031730528715786306.\n"
          ]
        },
        {
          "output_type": "stream",
          "name": "stdout",
          "text": [
            "ItemKNNCFRecommender: URM Detected 490 ( 3.9%) users with no interactions.\n",
            "ItemKNNCFRecommender: URM Detected 311 ( 1.4%) items with no interactions.\n"
          ]
        },
        {
          "output_type": "stream",
          "name": "stderr",
          "text": [
            "<ipython-input-91-14c86811ef81>:10: FutureWarning: The frame.append method is deprecated and will be removed from pandas in a future version. Use pandas.concat instead.\n",
            "  self.results_df = self.results_df.append(hyperparam_dict, ignore_index=True)\n"
          ]
        },
        {
          "output_type": "stream",
          "name": "stdout",
          "text": [
            "Similarity column 22222 (100.0%), 3034.55 column/sec. Elapsed time 7.32 sec\n",
            "RP3betaRecommender: URM Detected 490 ( 3.9%) users with no interactions.\n",
            "RP3betaRecommender: URM Detected 311 ( 1.4%) items with no interactions.\n",
            "RP3betaRecommender: Similarity column 22222 (100.0%), 3251.77 column/sec. Elapsed time 6.83 sec\n",
            "ItemKNNSimilarityHybridRecommender: URM Detected 490 ( 3.9%) users with no interactions.\n",
            "ItemKNNSimilarityHybridRecommender: URM Detected 311 ( 1.4%) items with no interactions.\n",
            "EvaluatorHoldout: Processed 10039 (100.0%) in 8.31 sec. Users per second: 1208\n"
          ]
        },
        {
          "output_type": "stream",
          "name": "stderr",
          "text": [
            "[I 2023-11-28 17:55:02,993] Trial 82 finished with value: 0.03170048714774305 and parameters: {'topK': 95, 'alpha': 0.25683918021579116}. Best is trial 63 with value: 0.031730528715786306.\n"
          ]
        },
        {
          "output_type": "stream",
          "name": "stdout",
          "text": [
            "ItemKNNCFRecommender: URM Detected 490 ( 3.9%) users with no interactions.\n",
            "ItemKNNCFRecommender: URM Detected 311 ( 1.4%) items with no interactions.\n"
          ]
        },
        {
          "output_type": "stream",
          "name": "stderr",
          "text": [
            "<ipython-input-91-14c86811ef81>:10: FutureWarning: The frame.append method is deprecated and will be removed from pandas in a future version. Use pandas.concat instead.\n",
            "  self.results_df = self.results_df.append(hyperparam_dict, ignore_index=True)\n"
          ]
        }
      ]
    },
    {
      "cell_type": "code",
      "source": [
        "itemknn = ItemKNNCFRecommender(urm_train+urm_validation)\n",
        "itemknn.fit(**item_bests)\n",
        "from Recommenders.GraphBased.RP3betaRecommender import *\n",
        "from Recommenders.KNN.ItemKNNSimilarityHybridRecommender import *\n",
        "rp3 = RP3betaRecommender(urm_train + urm_validation)\n",
        "rp3.fit(**rp3_bests)\n",
        "\n",
        "best_hybrid = {'topK': 62, 'alpha': 0.34054720087980433}\n",
        "\n",
        "scoreshybridrecommender = ItemKNNSimilarityHybridRecommender(urm_train + urm_validation, itemknn.W_sparse, rp3.W_sparse)\n",
        "scoreshybridrecommender.fit(**best_hybrid)\n",
        "\n",
        "result_df, _ = evaluator_test.evaluateRecommender(scoreshybridrecommender)\n",
        "result_df"
      ],
      "metadata": {
        "colab": {
          "base_uri": "https://localhost:8080/",
          "height": 318
        },
        "id": "UvquCs_ebrWv",
        "outputId": "886fc52c-254b-46f2-f1e1-9f3b354fc2cf"
      },
      "execution_count": 23,
      "outputs": [
        {
          "output_type": "stream",
          "name": "stdout",
          "text": [
            "ItemKNNCFRecommender: URM Detected 230 ( 1.8%) users with no interactions.\n",
            "ItemKNNCFRecommender: URM Detected 93 ( 0.4%) items with no interactions.\n",
            "Similarity column 22222 (100.0%), 4249.25 column/sec. Elapsed time 5.23 sec\n",
            "RP3betaRecommender: URM Detected 230 ( 1.8%) users with no interactions.\n",
            "RP3betaRecommender: URM Detected 93 ( 0.4%) items with no interactions.\n",
            "RP3betaRecommender: Similarity column 22222 (100.0%), 2288.58 column/sec. Elapsed time 9.71 sec\n",
            "ItemKNNSimilarityHybridRecommender: URM Detected 230 ( 1.8%) users with no interactions.\n",
            "ItemKNNSimilarityHybridRecommender: URM Detected 93 ( 0.4%) items with no interactions.\n",
            "EvaluatorHoldout: Processed 10486 (100.0%) in 6.68 sec. Users per second: 1570\n"
          ]
        },
        {
          "output_type": "execute_result",
          "data": {
            "text/plain": [
              "       PRECISION PRECISION_RECALL_MIN_DEN    RECALL       MAP MAP_MIN_DEN  \\\n",
              "cutoff                                                                      \n",
              "10      0.095861                 0.163302  0.136037  0.050169    0.085337   \n",
              "\n",
              "             MRR     NDCG        F1  HIT_RATE ARHR_ALL_HITS  ...  \\\n",
              "cutoff                                                       ...   \n",
              "10      0.273324  0.15162  0.112469  0.511921      0.364946  ...   \n",
              "\n",
              "       COVERAGE_USER COVERAGE_USER_HIT USERS_IN_GT DIVERSITY_GINI  \\\n",
              "cutoff                                                              \n",
              "10           0.82972          0.424751     0.82972       0.103121   \n",
              "\n",
              "       SHANNON_ENTROPY RATIO_DIVERSITY_HERFINDAHL RATIO_DIVERSITY_GINI  \\\n",
              "cutoff                                                                   \n",
              "10           10.956698                   0.998788             0.296058   \n",
              "\n",
              "       RATIO_SHANNON_ENTROPY RATIO_AVERAGE_POPULARITY RATIO_NOVELTY  \n",
              "cutoff                                                               \n",
              "10                  0.844088                  1.25308      0.303579  \n",
              "\n",
              "[1 rows x 27 columns]"
            ],
            "text/html": [
              "\n",
              "  <div id=\"df-ecdde6dc-d153-44bd-939c-f0d738f5900d\" class=\"colab-df-container\">\n",
              "    <div>\n",
              "<style scoped>\n",
              "    .dataframe tbody tr th:only-of-type {\n",
              "        vertical-align: middle;\n",
              "    }\n",
              "\n",
              "    .dataframe tbody tr th {\n",
              "        vertical-align: top;\n",
              "    }\n",
              "\n",
              "    .dataframe thead th {\n",
              "        text-align: right;\n",
              "    }\n",
              "</style>\n",
              "<table border=\"1\" class=\"dataframe\">\n",
              "  <thead>\n",
              "    <tr style=\"text-align: right;\">\n",
              "      <th></th>\n",
              "      <th>PRECISION</th>\n",
              "      <th>PRECISION_RECALL_MIN_DEN</th>\n",
              "      <th>RECALL</th>\n",
              "      <th>MAP</th>\n",
              "      <th>MAP_MIN_DEN</th>\n",
              "      <th>MRR</th>\n",
              "      <th>NDCG</th>\n",
              "      <th>F1</th>\n",
              "      <th>HIT_RATE</th>\n",
              "      <th>ARHR_ALL_HITS</th>\n",
              "      <th>...</th>\n",
              "      <th>COVERAGE_USER</th>\n",
              "      <th>COVERAGE_USER_HIT</th>\n",
              "      <th>USERS_IN_GT</th>\n",
              "      <th>DIVERSITY_GINI</th>\n",
              "      <th>SHANNON_ENTROPY</th>\n",
              "      <th>RATIO_DIVERSITY_HERFINDAHL</th>\n",
              "      <th>RATIO_DIVERSITY_GINI</th>\n",
              "      <th>RATIO_SHANNON_ENTROPY</th>\n",
              "      <th>RATIO_AVERAGE_POPULARITY</th>\n",
              "      <th>RATIO_NOVELTY</th>\n",
              "    </tr>\n",
              "    <tr>\n",
              "      <th>cutoff</th>\n",
              "      <th></th>\n",
              "      <th></th>\n",
              "      <th></th>\n",
              "      <th></th>\n",
              "      <th></th>\n",
              "      <th></th>\n",
              "      <th></th>\n",
              "      <th></th>\n",
              "      <th></th>\n",
              "      <th></th>\n",
              "      <th></th>\n",
              "      <th></th>\n",
              "      <th></th>\n",
              "      <th></th>\n",
              "      <th></th>\n",
              "      <th></th>\n",
              "      <th></th>\n",
              "      <th></th>\n",
              "      <th></th>\n",
              "      <th></th>\n",
              "      <th></th>\n",
              "    </tr>\n",
              "  </thead>\n",
              "  <tbody>\n",
              "    <tr>\n",
              "      <th>10</th>\n",
              "      <td>0.095861</td>\n",
              "      <td>0.163302</td>\n",
              "      <td>0.136037</td>\n",
              "      <td>0.050169</td>\n",
              "      <td>0.085337</td>\n",
              "      <td>0.273324</td>\n",
              "      <td>0.15162</td>\n",
              "      <td>0.112469</td>\n",
              "      <td>0.511921</td>\n",
              "      <td>0.364946</td>\n",
              "      <td>...</td>\n",
              "      <td>0.82972</td>\n",
              "      <td>0.424751</td>\n",
              "      <td>0.82972</td>\n",
              "      <td>0.103121</td>\n",
              "      <td>10.956698</td>\n",
              "      <td>0.998788</td>\n",
              "      <td>0.296058</td>\n",
              "      <td>0.844088</td>\n",
              "      <td>1.25308</td>\n",
              "      <td>0.303579</td>\n",
              "    </tr>\n",
              "  </tbody>\n",
              "</table>\n",
              "<p>1 rows × 27 columns</p>\n",
              "</div>\n",
              "    <div class=\"colab-df-buttons\">\n",
              "\n",
              "  <div class=\"colab-df-container\">\n",
              "    <button class=\"colab-df-convert\" onclick=\"convertToInteractive('df-ecdde6dc-d153-44bd-939c-f0d738f5900d')\"\n",
              "            title=\"Convert this dataframe to an interactive table.\"\n",
              "            style=\"display:none;\">\n",
              "\n",
              "  <svg xmlns=\"http://www.w3.org/2000/svg\" height=\"24px\" viewBox=\"0 -960 960 960\">\n",
              "    <path d=\"M120-120v-720h720v720H120Zm60-500h600v-160H180v160Zm220 220h160v-160H400v160Zm0 220h160v-160H400v160ZM180-400h160v-160H180v160Zm440 0h160v-160H620v160ZM180-180h160v-160H180v160Zm440 0h160v-160H620v160Z\"/>\n",
              "  </svg>\n",
              "    </button>\n",
              "\n",
              "  <style>\n",
              "    .colab-df-container {\n",
              "      display:flex;\n",
              "      gap: 12px;\n",
              "    }\n",
              "\n",
              "    .colab-df-convert {\n",
              "      background-color: #E8F0FE;\n",
              "      border: none;\n",
              "      border-radius: 50%;\n",
              "      cursor: pointer;\n",
              "      display: none;\n",
              "      fill: #1967D2;\n",
              "      height: 32px;\n",
              "      padding: 0 0 0 0;\n",
              "      width: 32px;\n",
              "    }\n",
              "\n",
              "    .colab-df-convert:hover {\n",
              "      background-color: #E2EBFA;\n",
              "      box-shadow: 0px 1px 2px rgba(60, 64, 67, 0.3), 0px 1px 3px 1px rgba(60, 64, 67, 0.15);\n",
              "      fill: #174EA6;\n",
              "    }\n",
              "\n",
              "    .colab-df-buttons div {\n",
              "      margin-bottom: 4px;\n",
              "    }\n",
              "\n",
              "    [theme=dark] .colab-df-convert {\n",
              "      background-color: #3B4455;\n",
              "      fill: #D2E3FC;\n",
              "    }\n",
              "\n",
              "    [theme=dark] .colab-df-convert:hover {\n",
              "      background-color: #434B5C;\n",
              "      box-shadow: 0px 1px 3px 1px rgba(0, 0, 0, 0.15);\n",
              "      filter: drop-shadow(0px 1px 2px rgba(0, 0, 0, 0.3));\n",
              "      fill: #FFFFFF;\n",
              "    }\n",
              "  </style>\n",
              "\n",
              "    <script>\n",
              "      const buttonEl =\n",
              "        document.querySelector('#df-ecdde6dc-d153-44bd-939c-f0d738f5900d button.colab-df-convert');\n",
              "      buttonEl.style.display =\n",
              "        google.colab.kernel.accessAllowed ? 'block' : 'none';\n",
              "\n",
              "      async function convertToInteractive(key) {\n",
              "        const element = document.querySelector('#df-ecdde6dc-d153-44bd-939c-f0d738f5900d');\n",
              "        const dataTable =\n",
              "          await google.colab.kernel.invokeFunction('convertToInteractive',\n",
              "                                                    [key], {});\n",
              "        if (!dataTable) return;\n",
              "\n",
              "        const docLinkHtml = 'Like what you see? Visit the ' +\n",
              "          '<a target=\"_blank\" href=https://colab.research.google.com/notebooks/data_table.ipynb>data table notebook</a>'\n",
              "          + ' to learn more about interactive tables.';\n",
              "        element.innerHTML = '';\n",
              "        dataTable['output_type'] = 'display_data';\n",
              "        await google.colab.output.renderOutput(dataTable, element);\n",
              "        const docLink = document.createElement('div');\n",
              "        docLink.innerHTML = docLinkHtml;\n",
              "        element.appendChild(docLink);\n",
              "      }\n",
              "    </script>\n",
              "  </div>\n",
              "\n",
              "    </div>\n",
              "  </div>\n"
            ]
          },
          "metadata": {},
          "execution_count": 23
        }
      ]
    },
    {
      "cell_type": "markdown",
      "metadata": {
        "id": "0YNKBGi69yjT"
      },
      "source": [
        "#Prepare Submission"
      ]
    },
    {
      "cell_type": "code",
      "execution_count": 27,
      "metadata": {
        "id": "XbsJMXyq-feb",
        "colab": {
          "base_uri": "https://localhost:8080/"
        },
        "outputId": "8cbc85a7-7c35-4d1c-cb1d-b5642cf2085d"
      },
      "outputs": [
        {
          "output_type": "execute_result",
          "data": {
            "text/plain": [
              "<12638x22222 sparse matrix of type '<class 'numpy.float64'>'\n",
              "\twith 478730 stored elements in Compressed Sparse Row format>"
            ]
          },
          "metadata": {},
          "execution_count": 27
        }
      ],
      "source": [
        "urm_train_validation_test = urm_train + urm_validation + urm_test\n",
        "urm_train_validation_test"
      ]
    },
    {
      "cell_type": "code",
      "execution_count": 25,
      "metadata": {
        "id": "Mxytchsc-gJV",
        "colab": {
          "base_uri": "https://localhost:8080/"
        },
        "outputId": "99fdbd59-06e2-40c2-9968-ef15e82f2ffc"
      },
      "outputs": [
        {
          "output_type": "stream",
          "name": "stdout",
          "text": [
            "Similarity column 22222 (100.0%), 2853.97 column/sec. Elapsed time 7.79 sec\n",
            "RP3betaRecommender: Similarity column 22222 (100.0%), 1178.10 column/sec. Elapsed time 18.86 sec\n"
          ]
        }
      ],
      "source": [
        "itemknn = ItemKNNCFRecommender(urm_train+urm_validation +urm_test)\n",
        "itemknn.fit(**item_bests)\n",
        "rp3 = RP3betaRecommender(urm_train + urm_validation +urm_test)\n",
        "rp3.fit(**rp3_bests)\n",
        "\n",
        "best_recommender = ItemKNNSimilarityHybridRecommender(urm_train_validation_test, itemknn.W_sparse, rp3.W_sparse)\n",
        "best_recommender.fit(**best_hybrid)"
      ]
    },
    {
      "cell_type": "markdown",
      "metadata": {
        "id": "hNLDmXo65XYT"
      },
      "source": [
        "##Top popular for those users without info"
      ]
    },
    {
      "cell_type": "code",
      "execution_count": 28,
      "metadata": {
        "id": "jwzA82CX5WsP"
      },
      "outputs": [],
      "source": [
        "toppop_recommender = TopPopRecommender()\n",
        "toppop_recommender.fit(urm_train_validation_test)"
      ]
    },
    {
      "cell_type": "code",
      "execution_count": 29,
      "metadata": {
        "id": "6CA4_0p9-mAz",
        "colab": {
          "base_uri": "https://localhost:8080/"
        },
        "outputId": "7239a541-83cf-4a1f-88da-3438f7e10dc9"
      },
      "outputs": [
        {
          "output_type": "execute_result",
          "data": {
            "text/plain": [
              "10882"
            ]
          },
          "metadata": {},
          "execution_count": 29
        }
      ],
      "source": [
        "users_to_recommend = np.array(data_target_users_test[\"user_id\"])\n",
        "len(users_to_recommend)"
      ]
    },
    {
      "cell_type": "code",
      "execution_count": 30,
      "metadata": {
        "id": "ULSRLU5i9x3x"
      },
      "outputs": [],
      "source": [
        "def prepare_submission(interactions: pd.DataFrame, users_to_recommend: np.array, urm_train: sp.csr_matrix, recommender: object, toppop_recommender: object):\n",
        "    users_ids_and_mappings = interactions[interactions.user_id.isin(users_to_recommend)][['user_id', 'mapped_user_id']].drop_duplicates()\n",
        "    items_ids_and_mappings = interactions[[\"item_id\", \"mapped_item_id\"]].drop_duplicates()\n",
        "\n",
        "    mapping_to_item_id = dict(zip(interactions.mapped_item_id, interactions.item_id))\n",
        "\n",
        "\n",
        "    recommendation_length = 10\n",
        "    submission = []\n",
        "    for idx, row in users_ids_and_mappings.iterrows():\n",
        "        user_id = row.user_id\n",
        "        mapped_user_id = row.mapped_user_id\n",
        "\n",
        "        recommendations = recommender.recommend(user_id_array=mapped_user_id, cutoff=10)\n",
        "\n",
        "        submission.append((user_id, [mapping_to_item_id[item_id] for item_id in recommendations]))\n",
        "\n",
        "    #assign top popular to the user without interactions\n",
        "    users_without_info = np.setdiff1d(users_to_recommend,np.array(interactions[interactions.user_id.isin(users_to_recommend)][['user_id', 'mapped_user_id']].drop_duplicates().user_id))\n",
        "    for user_id in users_without_info:\n",
        "      recommendations = toppop_recommender.recommend(user_id, at = 10)\n",
        "      submission.append((user_id, [mapping_to_item_id[item_id] for item_id in recommendations]))\n",
        "\n",
        "    return submission"
      ]
    },
    {
      "cell_type": "code",
      "execution_count": 31,
      "metadata": {
        "id": "SiJdrRHX99QI"
      },
      "outputs": [],
      "source": [
        "submission = prepare_submission(interactions, users_to_recommend, urm_train_validation_test, best_recommender, toppop_recommender)"
      ]
    },
    {
      "cell_type": "code",
      "execution_count": 32,
      "metadata": {
        "id": "KHShzKp7-C4D",
        "colab": {
          "base_uri": "https://localhost:8080/"
        },
        "outputId": "887df5c1-3641-4bf8-ccd6-c5fc8d14ca93"
      },
      "outputs": [
        {
          "output_type": "execute_result",
          "data": {
            "text/plain": [
              "[(1, [36, 101, 506, 123, 403, 694, 592, 515, 342, 618]),\n",
              " (2, [1095, 47, 28, 50, 1522, 102, 12, 656, 949, 380]),\n",
              " (26, [41, 254, 55, 1788, 139, 269, 252, 15, 34, 314]),\n",
              " (36, [181, 16, 2205, 1578, 4, 3870, 1825, 202, 2791, 1393]),\n",
              " (41, [31, 58, 55, 77, 66, 60, 618, 175, 605, 592]),\n",
              " (47, [96, 214, 38, 344, 211, 1635, 442, 85, 262, 154]),\n",
              " (54, [2, 19, 238, 8, 174, 278, 157, 6, 769, 112]),\n",
              " (73, [516, 125, 998, 21, 580, 1728, 2660, 10057, 1112, 701]),\n",
              " (88, [346, 99, 11531, 1222, 1089, 2725, 133, 139, 254, 77]),\n",
              " (89, [138, 324, 154, 344, 433, 186, 12673, 59, 12672, 15014]),\n",
              " (95, [482, 44, 2456, 2178, 1842, 18638, 8903, 12504, 2933, 10884]),\n",
              " (100, [313, 764, 99, 636, 1050, 11, 17, 851, 262, 50]),\n",
              " (101, [2314, 837, 82, 526, 1177, 754, 624, 1207, 137, 978]),\n",
              " (102, [7055, 5724, 2904, 2958, 2284, 67, 1795, 5725, 7030, 2843]),\n",
              " (104, [119, 299, 252, 23, 639, 75, 2, 89, 129, 71]),\n",
              " (114, [17, 5, 575, 50, 293, 5427, 186, 37, 27, 7236]),\n",
              " (124, [346, 9878, 3520, 1342, 715, 859, 1198, 3954, 94, 2543]),\n",
              " (127, [618, 828, 624, 40, 41, 39, 55, 42, 47, 50]),\n",
              " (138, [11, 117, 120, 28, 1670, 50, 4922, 3898, 413, 3789]),\n",
              " (145, [56, 16, 144, 149, 42, 28, 47, 122, 50, 8]),\n",
              " (152, [45, 85, 80, 389, 66, 2, 886, 159, 320, 906]),\n",
              " (178, [128, 23, 1232, 112, 1, 56, 248, 765, 71, 68]),\n",
              " (189, [4057, 94, 2582, 5332, 1198, 159, 5806, 38, 1315, 147]),\n",
              " (202, [96, 40, 2424, 39, 2423, 101, 1124, 59, 585, 3620]),\n",
              " (208, [41, 39, 837, 978, 22, 58, 662, 1124, 320, 17]),\n",
              " (226, [1555, 54, 98, 68, 19, 627, 84, 681, 13, 64]),\n",
              " (251, [33, 60, 4, 929, 14, 1020, 6025, 552, 224, 67]),\n",
              " (253, [80, 44, 1636, 2103, 701, 4840, 157, 979, 2, 740]),\n",
              " (256, [95, 220, 66, 60, 8, 537, 9, 191, 1428, 510]),\n",
              " (259, [45, 5, 621, 181, 328, 1067, 29, 1237, 1611, 537]),\n",
              " (279, [112, 1199, 16619, 26, 8865, 9395, 11138, 16566, 13024, 18407]),\n",
              " (290, [34, 449, 4057, 3597, 51, 4704, 1092, 1369, 147, 262]),\n",
              " (292, [146, 2401, 1883, 509, 678, 2389, 316, 761, 165, 171]),\n",
              " (301, [58, 31, 39, 3, 298, 1166, 81, 36, 22, 43]),\n",
              " (312, [4094, 8328, 12929, 1304, 6064, 1321, 470, 21554, 7647, 5044]),\n",
              " (323, [45, 7444, 792, 1146, 252, 4, 156, 1024, 102, 299]),\n",
              " (340, [3976, 4775, 4371, 5841, 1506, 2056, 327, 6948, 816, 124]),\n",
              " (343, [76, 182, 208, 324, 344, 3, 1451, 121, 498, 23]),\n",
              " (346, [17, 47, 16, 80, 44, 28, 1, 50, 54, 134]),\n",
              " (374, [1244, 90, 44, 2428, 229, 1563, 108, 16502, 4, 3962]),\n",
              " (386, [751, 104, 144, 56, 184, 23, 160, 7724, 1236, 196]),\n",
              " (407, [496, 9369, 367, 44, 1928, 583, 88, 257, 3453, 202]),\n",
              " (418, [36, 10, 101, 2514, 848, 4123, 804, 10047, 641, 201]),\n",
              " (421, [3440, 872, 981, 512, 2187, 759, 4890, 108, 6180, 1714]),\n",
              " (422, [208, 344, 596, 85, 813, 1, 29, 298, 38, 188]),\n",
              " (427, [49, 243, 102, 51, 298, 471, 93, 410, 300, 510]),\n",
              " (433, [32, 182, 8, 96, 138, 44, 1632, 324, 16, 229]),\n",
              " (443, [434, 179, 596, 177, 22, 395, 67, 897, 841, 135]),\n",
              " (444, [9, 572, 1434, 1931, 1897, 702, 913, 301, 939, 1377]),\n",
              " (458, [41, 34, 349, 596, 1116, 2518, 1637, 109, 571, 8100]),\n",
              " (459, [342, 1108, 1083, 1214, 160, 1288, 486, 104, 144, 56]),\n",
              " (463, [1125, 1124, 1535, 50, 4, 17, 2, 243, 47, 3058]),\n",
              " (467, [90, 1008, 933, 345, 469, 1633, 4036, 3155, 4344, 1760]),\n",
              " (477, [11, 17, 50, 47, 498, 37, 2649, 155, 4126, 63]),\n",
              " (499, [15, 27, 28, 42, 50, 11, 1165, 66, 101, 5]),\n",
              " (511, [40, 39, 299, 4363, 15, 3, 1858, 533, 3466, 96]),\n",
              " (512, [9, 22, 19, 917, 80, 631, 48, 174, 155, 260]),\n",
              " (529, [871, 1629, 535, 571, 1365, 1496, 95, 220, 100, 2922]),\n",
              " (553, [41, 39, 32, 96, 77, 182, 60, 344, 25, 175]),\n",
              " (554, [159, 533, 957, 120, 778, 510, 1050, 771, 1375, 633]),\n",
              " (565, [112, 1391, 939, 4592, 5284, 916, 218, 21398, 16231, 15325]),\n",
              " (579, [2875, 739, 571, 883, 447, 1917, 270, 297, 90, 164]),\n",
              " (598, [532, 1939, 298, 2503, 136, 4948, 2901, 2833, 710, 1050]),\n",
              " (615, [6526, 6825, 6051, 105, 365, 1616, 5455, 8803, 37, 23]),\n",
              " (617, [34, 467, 51, 573, 579, 430, 656, 3293, 396, 345]),\n",
              " (621, [117, 1195, 8097, 29, 51, 896, 21, 463, 509, 5329]),\n",
              " (627, [8, 25, 179, 52, 284, 33, 913, 596, 27, 131]),\n",
              " (632, [8, 238, 16, 278, 1, 93, 2, 214, 188, 1008]),\n",
              " (644, [8, 16, 17, 42, 5, 71, 28, 47, 88, 1244]),\n",
              " (656, [31, 39, 55, 58, 12, 97, 76, 1602, 36, 615]),\n",
              " (659, [31, 55, 186, 22, 702, 716, 293, 352, 281, 3145]),\n",
              " (660, [8, 94, 34, 401, 365, 2084, 81, 285, 51, 813]),\n",
              " (677, [1, 40, 41, 39, 1334, 3560, 449, 76, 85, 5]),\n",
              " (686, [1344, 70, 1205, 192, 338, 54, 567, 2351, 2643, 1987]),\n",
              " (695, [1286, 1897, 684, 2761, 558, 35, 2879, 635, 2309, 3721]),\n",
              " (701, [16, 596, 2, 25, 37, 61, 2599, 712, 19, 17]),\n",
              " (708, [1287, 9, 112, 56, 22, 21029, 3012, 33, 16, 23]),\n",
              " (712, [117, 929, 120, 401, 365, 596, 152, 29, 85, 1724]),\n",
              " (716, [291, 2411, 4, 48, 631, 361, 1050, 1510, 102, 300]),\n",
              " (725, [146, 509, 213, 33, 314, 80, 171, 316, 19, 45]),\n",
              " (735, [6053, 7484, 11231, 6334, 12772, 12769, 7482, 10477, 55, 9755]),\n",
              " (737, [156, 38, 203, 264, 102, 358, 1337, 603, 514, 205]),\n",
              " (763, [13938, 10305, 116, 66, 5715, 60, 133, 5014, 2760, 20876]),\n",
              " (787, [981, 872, 258, 35, 241, 56, 949, 490, 4, 112]),\n",
              " (789, [41, 58, 99, 182, 3, 66, 208, 148, 60, 101]),\n",
              " (829, [6709, 179, 401, 813, 1099, 107, 36, 583, 8096, 10549]),\n",
              " (831, [55, 76, 978, 624, 1578, 799, 27, 28, 780, 47]),\n",
              " (847, [636, 511, 375, 928, 451, 749, 1273, 760, 970, 832]),\n",
              " (894, [133, 146, 843, 269, 318, 165, 94, 171, 34, 1006]),\n",
              " (900, [31, 14688, 13447, 14687, 13449, 14686, 35, 9570, 9, 17711]),\n",
              " (901, [629, 49, 1611, 5793, 5188, 821, 5794, 61, 134, 279]),\n",
              " (902, [2027, 27, 28, 47, 42, 1663, 206, 136, 50, 363]),\n",
              " (920, [39, 55, 58, 76, 1775, 138, 182, 208, 1434, 324]),\n",
              " (921, [1488, 27, 85, 3810, 2453, 47, 28, 3162, 9, 520]),\n",
              " (940, [160, 2023, 231, 186, 433, 471, 938, 808, 582, 584]),\n",
              " (946, [1198, 62, 15990, 12670, 1342, 11599, 21263, 34, 94, 18115]),\n",
              " (947, [2051, 201, 253, 300, 5203, 452, 480, 29, 44, 2493]),\n",
              " (965, [1853, 1129, 1752, 192, 10849, 196, 2772, 2681, 509, 3750]),\n",
              " (969, [39, 58, 14692, 14691, 20142, 20148, 10377, 10818, 16091, 14696]),\n",
              " (971, [32, 9, 11, 3590, 705, 2563, 2027, 1017, 165, 17]),\n",
              " (978, [22, 73, 33, 65, 141, 427, 565, 521, 20, 83]),\n",
              " (988, [1316, 58, 1411, 55, 349, 35, 56, 841, 1537, 51]),\n",
              " (989, [40, 39, 58, 55, 612, 353, 994, 2026, 183, 4684]),\n",
              " (993, [188, 93, 203, 214, 6015, 2688, 4091, 5037, 1961, 3984]),\n",
              " (994, [55, 76, 792, 465, 326, 22, 537, 329, 998, 2353]),\n",
              " (1007, [681, 346, 8, 1, 3803, 93, 4, 38, 132, 9]),\n",
              " (1010, [44, 16, 25, 1369, 237, 155, 4447, 1035, 258, 766]),\n",
              " (1014, [848, 11267, 112, 20712, 19346, 12949, 9746, 7511, 6840, 9901]),\n",
              " (1017, [96, 138, 34, 262, 51, 664, 449, 365, 705, 627]),\n",
              " (1022, [144, 149, 435, 104, 404, 28, 27, 42, 168, 50]),\n",
              " (1024, [96, 182, 624, 208, 828, 978, 1051, 324, 181, 344]),\n",
              " (1026, [1440, 36, 978, 837, 1177, 1207, 706, 1051, 12, 1479]),\n",
              " (1032, [182, 32, 1253, 2420, 85, 19968, 17713, 15484, 325, 3938]),\n",
              " (1036, [41, 40, 39, 23, 98, 55, 2483, 57, 198, 43]),\n",
              " (1042, [34, 708, 35, 449, 1578, 705, 2830, 1960, 1722, 146]),\n",
              " (1050, [55, 76, 17, 612, 415, 47, 994, 133, 769, 771]),\n",
              " (1051, [94, 99, 36, 238, 278, 366, 157, 131, 174, 702]),\n",
              " (1057, [40, 55, 58, 76, 1079, 318, 254, 269, 1, 738]),\n",
              " (1059, [99, 990, 1897, 2248, 391, 12922, 11226, 496, 1377, 12036]),\n",
              " (1062, [936, 17, 42, 754, 1290, 28, 50, 48, 4, 1030]),\n",
              " (1069, [35, 9, 2150, 4133, 104, 122, 201, 1307, 67, 8]),\n",
              " (1070, [1866, 156, 287, 2765, 197, 321, 102, 286, 2906, 209]),\n",
              " (1082, [627, 681, 999, 1011, 664, 705, 859, 15, 3984, 3713]),\n",
              " (1083, [55, 35, 313, 76, 9, 59, 3356, 467, 66, 168]),\n",
              " (1100, [17, 50, 9, 37, 35, 5936, 168, 1179, 136, 8593]),\n",
              " (1107, [182, 208, 324, 344, 5396, 9, 35, 6854, 1209, 1]),\n",
              " (1108, [67, 22, 592, 342, 15, 1008, 48, 409, 933, 177]),\n",
              " (1110, [582, 488, 29, 23, 68, 2626, 949, 490, 35, 21804]),\n",
              " (1111, [1116, 3527, 1185, 479, 3, 3466, 986, 3152, 17, 2966]),\n",
              " (1116, [250, 278, 52, 8, 238, 22, 67, 33, 44, 135]),\n",
              " (1118, [1582, 13721, 1154, 735, 3795, 183, 900, 3190, 3628, 1671]),\n",
              " (1123, [95, 50, 681, 191, 860, 6950, 955, 465, 401, 179]),\n",
              " (1138, [1112, 938, 148, 998, 614, 1414, 133, 146, 1397, 4]),\n",
              " (1144, [29, 58, 175, 117, 9573, 120, 3000, 356, 1695, 605]),\n",
              " (1155, [48, 1049, 58, 4, 1475, 1116, 1946, 2, 114, 307]),\n",
              " (1175, [138, 182, 344, 12778, 20871, 1331, 148, 147, 60, 13146]),\n",
              " (1176, [44, 1334, 401, 334, 540, 2, 179, 48, 1382, 1286]),\n",
              " (1181, [320, 35, 1041, 168, 147, 708, 184, 149, 1722, 3058]),\n",
              " (1195, [841, 411, 291, 36, 257, 1497, 85, 1991, 366, 2276]),\n",
              " (1198, [124, 743, 546, 44, 199, 25, 638, 566, 132, 229]),\n",
              " (1200, [104, 144, 56, 184, 567, 4000, 6642, 3892, 61, 2]),\n",
              " (1203, [185, 143, 530, 724, 3, 15214, 4025, 30, 14074, 3191]),\n",
              " (1213, [662, 2442, 1, 1125, 1124, 116, 2290, 2198, 3944, 4284]),\n",
              " (1250, [441, 886, 292, 1722, 48, 147, 540, 1163, 1090, 2728]),\n",
              " (1259, [2636, 778, 1055, 210, 775, 722, 2800, 2583, 2898, 1339]),\n",
              " (1260, [1367, 298, 111, 44, 128, 253, 357, 29, 4, 248]),\n",
              " (1263, [635, 1017, 6, 1807, 49, 87, 181, 81, 5963, 886]),\n",
              " (1266, [465, 768, 326, 389, 1024, 220, 95, 917, 191, 537]),\n",
              " (1273, [32, 138, 324, 344, 1, 2661, 38, 51, 4047, 3]),\n",
              " (1288, [39, 32, 344, 76, 34, 1095, 77, 262, 1286, 116]),\n",
              " (1290, [94, 19, 99, 88, 80, 22, 157, 4090, 48, 13989]),\n",
              " (1299, [41, 40, 55, 76, 59, 291, 841, 905, 408, 904]),\n",
              " (1300, [41, 40, 186, 58, 94, 22, 99, 708, 244, 780]),\n",
              " (1305, [662, 1715, 45, 220, 326, 124, 28, 50, 11, 27]),\n",
              " (1307, [401, 596, 29, 556, 2071, 21, 455, 43, 64, 1687]),\n",
              " (1308, [41, 31, 58, 76, 12, 165, 5975, 20890, 441, 16558]),\n",
              " (1323, [145, 259, 160, 10, 28, 36, 136, 4682, 1049, 11]),\n",
              " (1327, [2813, 2565, 2423, 1488, 3590, 4125, 4267, 2829, 6190, 1401]),\n",
              " (1332, [139, 853, 133, 630, 532, 1338, 347, 10374, 350, 474]),\n",
              " (1334, [2215, 4676, 872, 5838, 6984, 154, 4714, 545, 1099, 36]),\n",
              " (1340, [540, 1041, 320, 12, 2013, 31, 41, 39, 55, 58]),\n",
              " (1348, [201, 122, 253, 989, 335, 927, 30, 1175, 2432, 2384]),\n",
              " (1360, [413, 207, 532, 105, 1104, 4464, 1312, 1463, 4103, 2344]),\n",
              " (1363, [27, 201, 57, 37, 43, 855, 297, 64, 694, 2]),\n",
              " (1364, [1897, 1931, 59, 1, 584, 2149, 236, 345, 521, 536]),\n",
              " (1379, [411, 10, 13110, 9944, 12243, 8417, 583, 613, 8402, 17237]),\n",
              " (1391, [39, 55, 8292, 808, 11180, 5032, 3984, 471, 689, 17]),\n",
              " (1418, [4, 112, 5357, 4778, 16677, 16983, 4269, 11724, 6022, 3594]),\n",
              " (1434, [34, 94, 19, 99, 2, 174, 157, 9871, 2530, 3126]),\n",
              " (1447, [103, 802, 132, 472, 141, 43, 1012, 64, 1037, 891]),\n",
              " (1454, [488, 2626, 9688, 37, 287, 407, 16339, 16274, 16351, 36]),\n",
              " (1464, [631, 60, 134, 1799, 7600, 934, 74, 175, 1331, 2048]),\n",
              " (1468, [442, 279, 401, 179, 596, 20, 627, 170, 681, 181]),\n",
              " (1486, [11, 68, 28, 155, 17, 30, 47, 50, 27, 112]),\n",
              " (1494, [31, 58, 76, 3, 27, 56, 28, 42, 9, 50]),\n",
              " (1496, [45, 395, 28, 11, 210, 1, 50, 37, 250, 682]),\n",
              " (1497, [66, 99, 20, 301, 1210, 278, 98, 15, 1768, 101]),\n",
              " (1505, [22, 385, 6, 33, 95, 77, 66, 60, 220, 24]),\n",
              " (1514, [179, 72, 1529, 339, 4085, 2830, 3310, 1019, 6912, 798]),\n",
              " (1516, [252, 313, 98, 467, 430, 573, 1146, 165, 852, 656]),\n",
              " (1517, [360, 2835, 6624, 20, 265, 407, 279, 102, 8349, 68]),\n",
              " (1518, [35, 433, 240, 582, 38, 203, 1082, 8808, 412, 1]),\n",
              " (1521, [1689, 7120, 1462, 8535, 680, 2497, 2501, 8547, 4021, 7091]),\n",
              " (1526, [59, 536, 259, 956, 648, 4979, 11695, 2522, 36, 2]),\n",
              " (1536, [31, 55, 76, 624, 978, 1051, 433, 186, 582, 117]),\n",
              " (1537, [555, 8417, 8423, 8885, 9405, 12243, 9023, 9413, 8442, 463]),\n",
              " (1546, [35, 1, 56, 168, 851, 144, 258, 122, 22, 88]),\n",
              " (1568, [39, 138, 182, 208, 5, 324, 344, 1, 4, 7867]),\n",
              " (1584, [31, 15, 76, 93, 358, 520, 645, 1269, 506, 188]),\n",
              " (1585, [573, 17, 399, 126, 1090, 28, 1069, 41, 39, 1480]),\n",
              " (1599, [178, 780, 1120, 808, 93, 3049, 27, 38, 585, 214]),\n",
              " (1603, [546, 743, 259, 16, 536, 2, 264, 238, 956, 278]),\n",
              " (1608, [186, 40, 55, 58, 17, 76, 47, 401, 179, 65]),\n",
              " (1610, [203, 93, 603, 358, 1855, 211, 188, 1296, 232, 1978]),\n",
              " (1614, [17, 55, 761, 2309, 253, 66, 2615, 60, 93, 214]),\n",
              " (1621, [933, 54, 385, 647, 490, 29, 1684, 666, 422, 105]),\n",
              " (1652, [17397, 2407, 380, 949, 1526, 2046, 10616, 1575, 466, 283]),\n",
              " (1671, [2516, 1032, 17944, 1425, 6749, 11522, 3968, 7395, 7898, 4332]),\n",
              " (1694, [42, 35, 9, 144, 37, 240, 136, 298, 22019, 258]),\n",
              " (1702, [1049, 442, 712, 1475, 1116, 10093, 11806, 1153, 3971, 10651]),\n",
              " (1709, [2257, 5, 1730, 376, 198, 64, 2057, 476, 5798, 71]),\n",
              " (1718, [44, 25, 3227, 29, 2551, 1487, 3992, 3038, 6322, 96]),\n",
              " (1724, [1031, 3, 584, 160, 298, 1670, 1359, 883, 956, 594]),\n",
              " (1735, [1108, 486, 2, 664, 705, 108, 11, 286, 47, 17]),\n",
              " (1740, [3, 2401, 1425, 2637, 697, 1165, 2030, 11, 1870, 2683]),\n",
              " (1741, [471, 938, 4767, 1191, 5224, 5622, 1422, 90, 207, 3269]),\n",
              " (1748, [596, 11, 302, 865, 36, 111, 50, 82, 1, 1505]),\n",
              " (1755, [5, 98, 133, 64, 9, 35, 139, 171, 57, 254]),\n",
              " (1786, [1186, 1990, 1279, 1429, 829, 558, 2295, 293, 803, 10537]),\n",
              " (1794, [379, 11, 228, 27, 28, 210, 47, 126, 559, 50]),\n",
              " (1816, [467, 430, 313, 418, 636, 1406, 321, 1177, 754, 293]),\n",
              " (1837, [7572, 39, 4596, 58, 4212, 1674, 12, 7897, 2844, 76]),\n",
              " (1840, [55, 76, 16, 94, 99, 25, 64, 262, 464, 57]),\n",
              " (1865, [119, 85, 36, 587, 42, 28, 47, 1058, 50, 94]),\n",
              " (1868, [122, 201, 244, 168, 68, 144, 2053, 239, 3527, 2596]),\n",
              " (1870, [1, 716, 281, 603, 1448, 1343, 851, 1376, 118, 1450]),\n",
              " (1879, [839, 2025, 173, 2085, 1449, 1963, 493, 1770, 902, 517]),\n",
              " (1894, [128, 1730, 903, 917, 732, 3280, 3947, 6, 2, 5586]),\n",
              " (1908, [292, 1866, 329, 3790, 18, 408, 2765, 149, 101, 441]),\n",
              " (1918, [19, 1511, 22, 44, 33, 174, 157, 6752, 3889, 193]),\n",
              " (1922, [55, 179, 1092, 596, 255, 351, 886, 813, 1099, 1]),\n",
              " (1925, [715, 2963, 3458, 9, 738, 93, 99, 1630, 258, 1]),\n",
              " (1930, [40, 31, 1358, 55, 2501, 2404, 592, 1, 154, 1334]),\n",
              " (1939, [1, 77, 33, 950, 9, 203, 1899, 654, 212, 587]),\n",
              " (1946, [351, 897, 2291, 4, 3617, 3875, 4468, 3532, 199, 339]),\n",
              " (1949, [6306, 7133, 41, 6056, 6578, 55, 8404, 533, 635, 13795]),\n",
              " (1950, [28, 50, 2, 39, 31, 40, 117, 157, 9, 44]),\n",
              " (1969, [12, 150, 615, 45, 35, 2, 1045, 29, 3982, 2093]),\n",
              " (1988, [5044, 12082, 67, 6287, 1633, 8328, 9751, 33, 2599, 72]),\n",
              " (1993, [4, 33, 321, 48, 11297, 222, 65, 3891, 11343, 5290]),\n",
              " (2001, [629, 298, 1032, 6, 1790, 821, 93, 440, 271, 7308]),\n",
              " (2005, [953, 3560, 2263, 555, 3402, 3029, 4644, 482, 155, 63]),\n",
              " (2031, [17, 50, 11, 42, 2, 36, 4, 22, 33, 37]),\n",
              " (2038, [109, 455, 4066, 21, 43, 131, 51, 713, 13319, 1783]),\n",
              " (2054, [41, 292, 58, 55, 2401, 1604, 2030, 697, 1425, 21]),\n",
              " (2106, [28, 27, 226, 47, 9, 1746, 775, 638, 35, 178]),\n",
              " (2117, [7618, 813, 4385, 255, 3726, 88, 8809, 4799, 10176, 1058]),\n",
              " (2138, [1628, 1, 1596, 122, 1962, 1851, 71, 201, 471, 808]),\n",
              " (2142, [133, 139, 34, 99, 314, 291, 171, 4, 92, 865]),\n",
              " (2144, [40, 39, 55, 1790, 821, 365, 401, 131, 596, 5]),\n",
              " (2155, [214, 211, 93, 203, 188, 1770, 4, 389, 112, 725]),\n",
              " (2157, [45, 138, 324, 344, 326, 85, 80, 4, 210, 133]),\n",
              " (2164, [40, 837, 186, 624, 58, 1239, 1149, 3, 76, 292]),\n",
              " (2178, [1546, 2808, 1935, 544, 12868, 1242, 699, 1586, 12575, 101]),\n",
              " (2182, [39, 15, 612, 133, 2366, 353, 254, 415, 2196, 1776]),\n",
              " (2221, [42, 35, 49, 144, 775, 810, 181, 823, 1237, 1611]),\n",
              " (2222, [243, 116, 445, 95, 44, 45, 27, 2661, 1057, 20]),\n",
              " (2226, [55, 58, 76, 133, 44, 258, 350, 382, 843, 899]),\n",
              " (2229, [270, 58, 808, 29, 938, 1225, 96, 40, 112, 7110]),\n",
              " (2234, [58, 55, 326, 621, 1007, 56, 465, 768, 1067, 571]),\n",
              " (2239, [1078, 60, 116, 1570, 4267, 4047, 1095, 255, 5138, 12485]),\n",
              " (2255, [281, 388, 716, 352, 755, 799, 2, 292, 761, 717]),\n",
              " (2270, [40, 583, 76, 120, 291, 905, 1537, 664, 449, 500]),\n",
              " (2272, [751, 1627, 17098, 21457, 18577, 231, 1021, 3949, 112, 10112]),\n",
              " (2274, [4352, 5821, 4900, 15, 36, 1695, 21836, 101, 4121, 1266]),\n",
              " (2276, [55, 5, 9, 3, 6430, 56, 2355, 23, 13460, 11349]),\n",
              " (2286, [613, 1, 164, 712, 44, 25, 93, 541, 583, 8]),\n",
              " (2300, [17, 1277, 2958, 2843, 2585, 533, 496, 3208, 2492, 1017]),\n",
              " (2313, [1191, 1422, 5508, 1682, 3, 31, 41, 120, 1828, 39]),\n",
              " (2320, [326, 792, 45, 465, 220, 906, 19, 860, 537, 22]),\n",
              " (2322, [39, 40, 55, 28, 47, 42, 50, 564, 58, 619]),\n",
              " (2323, [179, 4117, 2748, 1075, 1099, 1593, 1460, 3039, 255, 6363]),\n",
              " (2339, [2084, 26, 3033, 4, 2972, 1, 6424, 3954, 4064, 2802]),\n",
              " (2358, [22, 48, 330, 660, 73, 193, 141, 65, 194, 165]),\n",
              " (2363, [41, 40, 31, 1177, 39, 2641, 55, 627, 4871, 76]),\n",
              " (2368, [94, 34, 1940, 2771, 708, 865, 2042, 236, 282, 479]),\n",
              " (2419, [98, 134, 20, 198, 43, 13, 301, 57, 801, 97]),\n",
              " (2428, [2257, 99, 2505, 2689, 670, 179, 88, 596, 2747, 205]),\n",
              " (2434, [1363, 3991, 53, 492, 5, 209, 13, 222, 245, 307]),\n",
              " (2443, [4164, 11, 547, 865, 3636, 1290, 77, 71, 308, 2]),\n",
              " (2455, [23, 1324, 17, 2, 5721, 298, 2076, 11, 20091, 12459]),\n",
              " (2461, [252, 60, 133, 857, 139, 17, 612, 171, 1071, 47]),\n",
              " (2468, [433, 399, 186, 12, 390, 71, 615, 36, 884, 5]),\n",
              " (2469, [40, 39, 58, 1288, 36, 1481, 66, 60, 3, 22]),\n",
              " (2475, [90, 6, 36, 905, 1497, 904, 228, 632, 339, 472]),\n",
              " (2480, [561, 92, 2561, 4768, 28, 27, 47, 476, 1971, 42]),\n",
              " (2494, [121, 88, 2, 3916, 2024, 6, 5217, 78, 2316, 1040]),\n",
              " (2499, [5903, 7006, 56, 7337, 7002, 33, 146, 214, 103, 211]),\n",
              " (2513, [96, 138, 104, 20, 236, 168, 240, 754, 301, 5475]),\n",
              " (2525, [1019, 512, 2807, 371, 1321, 179, 4, 33, 19, 2004]),\n",
              " (2531, [66, 9, 116, 148, 175, 35, 786, 3004, 2942, 239]),\n",
              " (2532, [41, 31, 55, 58, 2264, 76, 6429, 6427, 7369, 6720]),\n",
              " (2539, [95, 45, 85, 389, 220, 177, 15, 1237, 143, 11]),\n",
              " (2540, [182, 583, 220, 389, 1155, 77, 56, 360, 2219, 578]),\n",
              " (2554, [583, 291, 257, 1066, 2604, 2, 38, 17690, 411, 623]),\n",
              " (2564, [49, 243, 13, 1688, 43, 410, 57, 64, 716, 103]),\n",
              " (2568, [15, 3440, 583, 8385, 1497, 904, 480, 145, 11, 1191]),\n",
              " (2582, [1, 21, 6, 5470, 958, 21029, 3012, 1273, 2992, 132]),\n",
              " (2586, [112, 4778, 11236, 16677, 16983, 5357, 3594, 22221, 4269, 11724]),\n",
              " (2590, [39, 31, 40, 4, 55, 58, 27, 28, 47, 42]),\n",
              " (2594, [18434, 108, 5344, 20752, 8186, 18433, 4196, 3342, 13711, 6938]),\n",
              " (2601, [313, 430, 573, 159, 5188, 4734, 22, 2638, 5793, 6309]),\n",
              " (2607, [5530, 5339, 7010, 5156, 14151, 11310, 15540, 12924, 11227, 12922]),\n",
              " (2609, [567, 3760, 5776, 3005, 112, 3602, 2029, 1613, 933, 20925]),\n",
              " (2624, [55, 76, 808, 4, 160, 15, 938, 259, 36, 375]),\n",
              " (2628, [2131, 107, 15, 120, 1220, 566, 132, 250, 891, 1390]),\n",
              " (2642, [208, 344, 85, 117, 107, 93, 16868, 367, 214, 1588]),\n",
              " (2659, [109, 1401, 112, 21, 43, 4528, 29, 120, 159, 1724]),\n",
              " (2663, [22, 33, 94, 298, 99, 702, 4, 1874, 1, 51]),\n",
              " (2673, [67, 59, 546, 238, 743, 36, 3058, 1401, 1058, 498]),\n",
              " (2674, [512, 22, 1899, 330, 193, 2097, 1197, 70, 2611, 341]),\n",
              " (2682, [559, 298, 29, 8996, 13379, 1129, 550, 13396, 14619, 9556]),\n",
              " (2683, [1367, 203, 94, 99, 214, 29, 93, 929, 124, 188]),\n",
              " (2685, [547, 84, 5810, 6820, 112, 11808, 2535, 82, 706, 8285]),\n",
              " (2689, [133, 165, 131, 1625, 51, 281, 318, 254, 598, 4]),\n",
              " (2700, [18477, 112, 8, 61, 16490, 981, 137, 528, 6562, 68]),\n",
              " (2717, [708, 433, 1041, 41, 31, 39, 58, 147, 689, 2109]),\n",
              " (2735, [1186, 41, 40, 39, 1990, 1429, 55, 45, 8, 4]),\n",
              " (2746, [31, 55, 58, 76, 35, 149, 56, 240, 15, 104]),\n",
              " (2759, [31, 41, 2, 22, 39, 154, 99, 94, 55, 58]),\n",
              " (2760, [249, 41, 31, 242, 376, 573, 627, 1481, 76, 2813]),\n",
              " (2784, [990, 1897, 261, 11520, 12363, 8361, 10398, 11522, 14537, 9677]),\n",
              " (2786, [239, 997, 267, 42, 750, 28, 47, 50, 220, 95]),\n",
              " (2792, [50, 22, 37, 2, 4, 1372, 277, 1227, 136, 1095]),\n",
              " (2797, [40, 3, 384, 135, 64, 16, 228, 541, 1058, 75]),\n",
              " (2798, [22, 8, 41, 40, 31, 39, 55, 76, 410, 181]),\n",
              " (2803, [14200, 14151, 15540, 1258, 14757, 2005, 9846, 12036, 3780, 2000]),\n",
              " (2816, [149, 122, 56, 451, 288, 1887, 9, 509, 1345, 1123]),\n",
              " (2859, [9, 9772, 19, 6534, 174, 22, 638, 435, 1147, 824]),\n",
              " (2869, [39, 45, 1231, 1281, 1525, 970, 2966, 476, 2058, 120]),\n",
              " (2876, [9, 35, 1, 102, 833, 718, 68, 156, 725, 300]),\n",
              " (2882, [1, 38, 85, 154, 514, 36, 603, 14, 211, 1635]),\n",
              " (2910, [363, 580, 774, 145, 22, 28, 33, 1492, 2644, 1549]),\n",
              " (2912, [31, 4999, 10211, 415, 9091, 9590, 9059, 34, 20014, 2962]),\n",
              " (2917, [2321, 1352, 182, 228, 208, 324, 297, 344, 1008, 4]),\n",
              " (2925, [376, 1382, 1816, 561, 430, 111, 117, 2517, 389, 5]),\n",
              " (2933, [2794, 738, 5789, 13815, 1198, 94, 1387, 99, 34, 5378]),\n",
              " (2942, [41, 47, 1688, 2513, 15, 1334, 11, 399, 154, 186]),\n",
              " (2958, [23, 903, 732, 9, 583, 257, 10, 355, 6976, 1030]),\n",
              " (2960, [703, 915, 1143, 1438, 413, 236, 2, 1700, 1608, 579]),\n",
              " (2966, [104, 9, 35, 144, 1772, 1460, 807, 1433, 373, 1887]),\n",
              " (2973, [1570, 14735, 9582, 571, 243, 10835, 14726, 5593, 739, 264]),\n",
              " (2977, [1177, 754, 41, 40, 196, 55, 58, 76, 848, 282]),\n",
              " (2992, [2570, 2505, 12048, 1650, 604, 1897, 1434, 476, 85, 1931]),\n",
              " (2994, [40, 39, 28, 50, 58, 42, 55, 618, 433, 399]),\n",
              " (3005, [138, 1203, 182, 438, 208, 90, 7014, 4036, 2205, 324]),\n",
              " (3010, [301, 164, 22, 631, 2, 260, 2332, 774, 614, 360]),\n",
              " (3015, [9404, 71, 1962, 4099, 41, 340, 879, 40, 489, 39]),\n",
              " (3016, [27, 28, 50, 11, 264, 1433, 20, 284, 2, 174]),\n",
              " (3018, [58, 77, 116, 1, 376, 845, 148, 430, 22, 214]),\n",
              " (3019, [2641, 80, 4601, 4238, 4, 2, 22, 6881, 5783, 6263]),\n",
              " (3054, [342, 41, 31, 39, 3414, 55, 4153, 486, 3243, 32]),\n",
              " (3058, [998, 1283, 580, 1112, 254, 314, 4605, 146, 11866, 13626]),\n",
              " (3063, [12, 22, 19, 446, 52, 132, 152, 1305, 48, 157]),\n",
              " (3075, [32, 3071, 36, 6425, 6725, 5706, 6427, 6428, 6426, 16091]),\n",
              " (3086, [41, 76, 3, 257, 4, 2243, 185, 103, 272, 897]),\n",
              " (3107, [3954, 25, 5336, 4834, 328, 39, 31, 40, 4162, 4544]),\n",
              " (3114, [702, 8, 631, 260, 73, 238, 401, 179, 16, 2332]),\n",
              " (3115, [40, 58, 76, 16, 708, 907, 1041, 44, 1722, 540]),\n",
              " (3141, [8, 484, 97, 23, 405, 22, 38, 52, 903, 458]),\n",
              " (3144, [44, 4, 80, 10923, 653, 139, 220, 951, 357, 1199]),\n",
              " (3151, [442, 15, 52, 22, 27, 25, 12, 97, 48, 42]),\n",
              " (3164, [17, 111, 47, 11, 390, 82, 253, 884, 511, 742]),\n",
              " (3165, [648, 1001, 2678, 3649, 498, 998, 580, 1728, 2718, 1112]),\n",
              " (3185, [15, 19, 49, 6056, 181, 43, 330, 80, 8, 174]),\n",
              " (3186, [510, 82, 707, 866, 3565, 44, 15, 913, 1120, 25]),\n",
              " (3196, [76, 59, 101, 259, 161, 584, 186, 2281, 6209, 1324]),\n",
              " (3199, [4047, 9039, 9582, 12485, 10150, 14734, 154, 97, 2486, 44]),\n",
              " (3209, [1227, 1095, 262, 656, 1354, 1522, 10, 196, 2240, 652]),\n",
              " (3211, [15, 101, 36, 327, 676, 3164, 354, 9256, 819, 586]),\n",
              " (3238, [35, 90, 1337, 264, 1476, 84, 216, 566, 56, 1028]),\n",
              " (3239, [32, 182, 344, 104, 35, 154, 9, 184, 5225, 4731]),\n",
              " (3258, [185, 143, 659, 131, 756, 68, 530, 7767, 3, 391]),\n",
              " (3269, [60, 116, 103, 1460, 141, 2, 33, 3076, 56, 19]),\n",
              " (3278, [624, 978, 399, 433, 1177, 186, 983, 328, 556, 707]),\n",
              " (3283, [2, 2483, 1, 263, 2155, 4, 579, 22, 179, 5344]),\n",
              " (3284, [841, 411, 291, 904, 1497, 3218, 80, 2291, 2669, 11493]),\n",
              " (3289, [39, 55, 34, 35, 291, 76, 627, 3, 583, 841]),\n",
              " (3292, [783, 830, 569, 124, 1055, 2800, 898, 3552, 619, 685]),\n",
              " (3304, [39, 22, 238, 4, 9, 77, 44, 174, 181, 157]),\n",
              " (3315, [746, 66, 72, 546, 60, 52, 13, 49, 688, 22]),\n",
              " (3320, [56, 59, 433, 399, 308, 983, 713, 144, 51, 15]),\n",
              " (3323, [36, 67, 740, 354, 177, 161, 922, 515, 429, 893]),\n",
              " (3330, [159, 205, 156, 558, 416, 361, 1550, 803, 286, 240]),\n",
              " (3332, [147, 1279, 1429, 15, 1, 428, 1682, 85, 1840, 101]),\n",
              " (3342, [66, 60, 938, 1738, 1932, 1, 1470, 6, 2255, 4893]),\n",
              " (3349, [179, 220, 792, 465, 326, 401, 95, 768, 813, 880]),\n",
              " (3368, [27, 1767, 42, 9, 144, 184, 104, 433, 375, 857]),\n",
              " (3369, [182, 32, 467, 324, 376, 313, 242, 636, 129, 692]),\n",
              " (3382, [154, 2230, 3, 1106, 202, 3823, 1789, 81, 1236, 3560]),\n",
              " (3388, [50, 17, 27, 42, 1040, 4, 2384, 29, 20, 301]),\n",
              " (3393, [94, 99, 135, 395, 5227, 3540, 19025, 7360, 19596, 11433]),\n",
              " (3398, [9, 184, 17, 11, 56, 144, 44, 224, 25, 47]),\n",
              " (3411, [22, 17, 4, 11, 28, 47, 50, 157, 154, 1179]),\n",
              " (3425, [5081, 49, 149, 2, 111, 181, 80, 410, 366, 9865]),\n",
              " (3426, [451, 4, 49, 243, 1, 830, 43, 155, 480, 159]),\n",
              " (3427, [41, 31, 39, 2281, 76, 45, 16, 237, 206, 191]),\n",
              " (3429, [160, 3645, 414, 956, 536, 648, 9641, 5513, 57, 2076]),\n",
              " (3463, [2281, 36, 1020, 101, 1223, 4, 32, 1936, 255, 386]),\n",
              " (3464, [101, 66, 15, 139, 133, 36, 17, 33, 254, 3903]),\n",
              " (3466, [950, 291, 66, 4, 1633, 36, 29, 88, 841, 44]),\n",
              " (3472, [298, 131, 284, 107, 21, 493, 69, 29, 89, 9]),\n",
              " (3488, [35, 104, 56, 144, 9, 45, 373, 184, 4094, 258]),\n",
              " (3510, [627, 206, 202, 4, 1663, 345, 955, 262, 84, 77]),\n",
              " (3524, [3616, 2563, 4941, 3810, 2813, 3188, 6190, 1488, 3751, 4978]),\n",
              " (3526, [56, 300, 94, 88, 8, 99, 202, 102, 635, 97]),\n",
              " (3592, [2, 4, 16, 19, 45, 65, 174, 132, 103, 2899]),\n",
              " (3596, [40, 58, 76, 3, 1703, 9, 2051, 666, 4964, 35]),\n",
              " (3604, [580, 17, 72, 42, 3704, 28, 47, 1112, 50, 1028]),\n",
              " (3608, [212, 433, 399, 141, 4, 550, 186, 48, 103, 237]),\n",
              " (3626, [39, 76, 11, 28, 3, 592, 50, 342, 17, 433]),\n",
              " (3662, [208, 3258, 324, 5709, 955, 344, 5699, 5307, 7019, 262]),\n",
              " (3667, [15, 95, 45, 107, 407, 4066, 86, 54, 284, 5702]),\n",
              " (3673, [9, 2534, 149, 168, 3552, 2520, 1440, 706, 144, 372]),\n",
              " (3674, [298, 84, 583, 44, 21, 143, 1218, 493, 4033, 241]),\n",
              " (3676, [154, 131, 771, 1, 778, 1583, 1155, 38, 173, 188]),\n",
              " (3683, [93, 211, 472, 132, 566, 763, 491, 19, 98, 2]),\n",
              " (3690, [181, 36, 87, 1172, 243, 29, 1920, 392, 879, 86]),\n",
              " (3693, [1, 52, 8, 29, 44, 25, 112, 93, 425, 1245]),\n",
              " (3699, [40, 76, 1510, 1092, 1377, 533, 291, 498, 2411, 85]),\n",
              " (3723, [5, 1009, 6, 1785, 1589, 4, 1787, 365, 80, 2792]),\n",
              " (3737, [99, 34, 715, 680, 57, 1387, 3977, 765, 21, 15]),\n",
              " (3753, [376, 242, 1286, 467, 3616, 340, 2438, 2145, 1499, 2761]),\n",
              " (3754, [22, 33, 48, 386, 2003, 1013, 2005, 3780, 9625, 83]),\n",
              " (3796, [884, 1029, 1672, 69, 691, 480, 760, 327, 2240, 749]),\n",
              " (3818, [1075, 35, 3804, 2264, 3090, 178, 693, 2202, 2408, 4623]),\n",
              " (3825, [85, 203, 38, 154, 263, 1494, 3493, 1950, 1489, 810]),\n",
              " (3826, [465, 326, 1024, 768, 15, 56, 537, 1028, 766, 160]),\n",
              " (3827, [138, 344, 48, 2, 41, 40, 220, 31, 39, 55]),\n",
              " (3832, [154, 447, 207, 9371, 21, 29, 1785, 285, 1304, 109]),\n",
              " (3835, [8, 44, 70, 77, 66, 4, 60, 49, 27, 42]),\n",
              " (3839, [34, 4543, 2617, 6585, 2423, 6305, 6052, 5699, 3059, 146]),\n",
              " (3846, [3616, 2563, 3590, 694, 1481, 1422, 15, 4941, 154, 1287]),\n",
              " (3851, [45, 496, 4, 903, 40, 148, 56, 41, 31, 39]),\n",
              " (3859, [44, 1975, 4120, 2980, 74, 4, 112, 301, 369, 2914]),\n",
              " (3868, [137, 112, 54, 2003, 1258, 653, 2111, 3979, 196, 6082]),\n",
              " (3883, [1593, 5044, 6064, 1751, 2531, 7647, 831, 10130, 7913, 7726]),\n",
              " (3885, [41, 40, 10669, 4782, 55, 146, 4057, 705, 254, 6604]),\n",
              " (3887, [385, 9, 35, 282, 106, 102, 258, 2, 90, 54]),\n",
              " (3900, [94, 108, 1, 124, 1675, 174, 44, 3360, 1691, 157]),\n",
              " (3903, [636, 3697, 5736, 10883, 4007, 467, 12158, 129, 430, 376]),\n",
              " (3905, [129, 573, 2283, 313, 2903, 3526, 1277, 34, 2366, 896]),\n",
              " (3906, [31, 430, 76, 4901, 2540, 2367, 636, 16, 126, 4630]),\n",
              " (3919, [1422, 239, 8312, 6597, 750, 10398, 4978, 1231, 986, 856]),\n",
              " (3923, [4, 610, 93, 14, 2, 156, 2523, 80, 5586, 680]),\n",
              " (3942, [40, 55, 618, 582, 76, 1686, 956, 1851, 354, 9318]),\n",
              " (3958, [40, 58, 76, 465, 792, 4, 326, 768, 389, 1024]),\n",
              " (3995, [89, 146, 598, 2883, 4, 389, 34, 33, 65, 99]),\n",
              " (4004, [11, 17, 47, 32, 96, 182, 27, 208, 49, 324]),\n",
              " (4026, [44, 51, 67, 89, 5233, 4, 4486, 1279, 249, 238]),\n",
              " (4038, [618, 35, 291, 175, 77, 48, 8, 1108, 66, 82]),\n",
              " (4044, [28, 27, 2, 3472, 22, 48, 136, 258, 4, 730]),\n",
              " (4045, [8, 25, 1, 52, 728, 2, 1220, 688, 494, 622]),\n",
              " (4061, [1818, 259, 1768, 505, 12531, 160, 117, 536, 159, 463]),\n",
              " (4062, [160, 259, 414, 956, 648, 536, 54, 2678, 2718, 1]),\n",
              " (4069, [376, 242, 408, 4839, 4596, 12034, 292, 4212, 9312, 12918]),\n",
              " (4078, [345, 1975, 131, 112, 4910, 13535, 4269, 3594, 19898, 5357]),\n",
              " (4079, [17, 77, 4, 27, 47, 28, 60, 116, 3493, 301]),\n",
              " (4087, [19, 80, 48, 8, 4, 6, 401, 66, 411, 1991]),\n",
              " (4096, [148, 34, 99, 48, 579, 116, 66, 77, 309, 378]),\n",
              " (4120, [3010, 1377, 789, 267, 6834, 3399, 1004, 197, 156, 2459]),\n",
              " (4125, [27, 3162, 40, 31, 39, 55, 2563, 126, 807, 3810]),\n",
              " (4127, [205, 2604, 1993, 112, 2214, 2329, 1957, 7286, 1811, 4406]),\n",
              " (4151, [31, 55, 58, 76, 22, 8775, 33, 18650, 21039, 8776]),\n",
              " (4175, [1475, 1116, 8535, 10, 164, 10093, 112, 2320, 3323, 6022]),\n",
              " (4181, [28, 11, 50, 136, 38, 730, 145, 1492, 19, 157]),\n",
              " (4194, [41, 39, 55, 299, 71, 23, 231, 179, 680, 596]),\n",
              " (4205, [55, 467, 573, 440, 178, 1032, 1253, 430, 299, 129]),\n",
              " (4216, [35, 224, 144, 149, 9, 170, 28, 2233, 17, 47]),\n",
              " (4229, [32, 99, 138, 208, 344, 579, 324, 1213, 770, 755]),\n",
              " (4233, [652, 1860, 633, 1769, 12682, 2604, 217, 1854, 9421, 1817]),\n",
              " (4236, [214, 93, 38, 216, 345, 106, 170, 84, 219, 78]),\n",
              " (4254, [11, 106, 525, 167, 3994, 70, 266, 369, 6622, 170]),\n",
              " (4299, [3, 367, 3613, 185, 6557, 229, 313, 2362, 242, 376]),\n",
              " (4310, [28, 17, 510, 1, 259, 47, 1209, 27, 723, 692]),\n",
              " (4351, [40, 10462, 12770, 12768, 12946, 11215, 897, 11073, 11231, 9292]),\n",
              " (4352, [832, 986, 1073, 546, 199, 1231, 4809, 541, 9277, 6043]),\n",
              " (4354, [55, 66, 76, 17, 11, 28, 47, 50, 170, 34]),\n",
              " (4355, [11, 94, 17, 50, 27, 42, 2, 63, 105, 6]),\n",
              " (4362, [40, 41, 39, 612, 353, 165, 318, 76, 350, 1005]),\n",
              " (4363, [9023, 1928, 10815, 396, 35, 1307, 1277, 6126, 36, 202]),\n",
              " (4399, [1816, 2517, 8, 112, 2145, 16, 283, 2761, 3905, 8346]),\n",
              " (4405, [95, 39, 45, 55, 160, 58, 414, 76, 584, 85]),\n",
              " (4407, [8, 144, 149, 1099, 848, 255, 168, 71, 343, 9]),\n",
              " (4421, [76, 66, 116, 60, 510, 52, 8, 693, 3813, 44]),\n",
              " (4425, [44, 116, 77, 680, 250, 395, 3000, 1174, 521, 404]),\n",
              " (4436, [32, 96, 208, 324, 344, 8, 15, 1209, 16, 37]),\n",
              " (4439, [42, 47, 28, 50, 750, 159, 9, 379, 857, 1237]),\n",
              " (4444, [1871, 1851, 4292, 1962, 3945, 122, 329, 91, 6, 12]),\n",
              " (4449, [342, 1214, 1288, 6, 486, 170, 718, 566, 825, 14]),\n",
              " (4451, [29, 1964, 325, 57, 1363, 563, 1384, 16007, 17764, 146]),\n",
              " (4461, [138, 41, 31, 40, 55, 19, 58, 54, 17, 112]),\n",
              " (4465, [52, 8, 33, 321, 21, 48, 44, 1377, 25, 4]),\n",
              " (4483, [239, 9, 17, 224, 750, 11, 186, 375, 1075, 47]),\n",
              " (4489, [36, 101, 16, 45, 389, 81, 354, 220, 326, 906]),\n",
              " (4494, [4630, 1031, 385, 117, 29, 298, 1, 120, 11345, 443]),\n",
              " (4514, [2, 319, 6, 388, 261, 35, 56, 347, 49, 18621]),\n",
              " (4529, [179, 1283, 94, 8, 220, 99, 4343, 22, 2561, 4]),\n",
              " (4531, [196, 4, 2, 10, 22, 159, 67, 48, 238, 345]),\n",
              " (4540, [27, 42, 17, 28, 11, 136, 50, 2, 427, 370]),\n",
              " (4547, [187, 357, 128, 15, 36, 101, 1234, 112, 1223, 22057]),\n",
              " (4554, [1367, 3954, 51, 471, 1619, 78, 270, 19, 108, 14]),\n",
              " (4572, [401, 596, 131, 813, 88, 480, 270, 98, 1031, 938]),\n",
              " (4585, [15, 186, 399, 582, 480, 1352, 830, 345, 161, 685]),\n",
              " (4589, [40, 39, 4, 58, 55, 89, 15, 101, 37, 451]),\n",
              " (4598, [3980, 1200, 3880, 4462, 4900, 261, 829, 4, 5216, 5821]),\n",
              " (4599, [936, 1207, 706, 116, 60, 66, 77, 1177, 44, 879]),\n",
              " (4604, [66, 8, 4, 60, 2308, 131, 29, 874, 80, 901]),\n",
              " (4608, [540, 1960, 3011, 99, 708, 10307, 11048, 2075, 138, 11178]),\n",
              " (4622, [342, 1108, 436, 5, 1475, 486, 33, 1116, 1689, 1579]),\n",
              " (4630, [1057, 54, 2481, 3674, 5, 4145, 2354, 246, 2379, 14351]),\n",
              " (4645, [31, 41, 39, 55, 58, 76, 117, 159, 44, 379]),\n",
              " (4653, [11, 17, 270, 47, 18, 7092, 27, 120, 938, 7430]),\n",
              " (4666, [45, 220, 465, 906, 880, 191, 1024, 613, 67, 4109]),\n",
              " (4673, [471, 19063, 256, 808, 9888, 7142, 938, 1569, 6903, 13694]),\n",
              " (4679, [733, 592, 4999, 2366, 2121, 2495, 1083, 6215, 1288, 6]),\n",
              " (4682, [40, 41, 764, 31, 39, 636, 1191, 15, 775, 1422]),\n",
              " (4691, [8, 154, 16, 51, 105, 1131, 23, 107, 25, 298]),\n",
              " (4693, [25, 44, 95, 8, 45, 160, 1, 1263, 213, 229]),\n",
              " (4696, [16, 4, 2, 153, 472, 132, 44, 566, 24, 25]),\n",
              " (4697, [5963, 1906, 263, 13318, 1301, 11557, 3573, 357, 10759, 3667]),\n",
              " (4711, [96, 12991, 182, 208, 963, 324, 344, 125, 111, 122]),\n",
              " (4712, [154, 298, 2247, 23, 4031, 196, 4343, 24, 8778, 3]),\n",
              " (4721, [1, 93, 36, 255, 179, 44, 471, 950, 256, 1008]),\n",
              " (4722, [1031, 384, 1227, 238, 45, 67, 95, 183, 1405, 249]),\n",
              " (4726, [433, 582, 264, 1, 1629, 1699, 287, 739, 321, 1723]),\n",
              " (4727, [2205, 9268, 54, 560, 112, 1730, 9809, 875, 1244, 9557]),\n",
              " (4729, [433, 399, 1828, 1682, 1367, 64, 122, 88, 117, 57]),\n",
              " (4752, [12677, 10993, 534, 3141, 16481, 16484, 994, 353, 1071, 36]),\n",
              " (4754, [96, 60, 58, 66, 15, 344, 76, 1542, 715, 449]),\n",
              " (4765, [181, 212, 436, 71, 903, 59, 445, 2020, 18, 301]),\n",
              " (4774, [186, 4042, 35, 4833, 2438, 320, 3022, 907, 969, 104]),\n",
              " (4782, [206, 908, 7308, 216, 162, 487, 2230, 111, 1106, 447]),\n",
              " (4815, [1374, 4277, 853, 5134, 2495, 630, 45, 2366, 2121, 16183]),\n",
              " (4843, [60, 94, 175, 20, 1092, 3, 165, 335, 19, 843]),\n",
              " (4849, [1535, 1715, 103, 3, 22, 371, 6, 41, 216, 40]),\n",
              " (4874, [252, 2404, 299, 2501, 2367, 4292, 1146, 928, 3945, 1273]),\n",
              " (4879, [492, 345, 68, 954, 2524, 1964, 75, 112, 1568, 115]),\n",
              " (4884, [2404, 911, 17, 4292, 28, 50, 1990, 16, 11, 11181]),\n",
              " (4896, [44, 75, 172, 5344, 1720, 3206, 3893, 4, 61, 2483]),\n",
              " (4902, [243, 49, 410, 6950, 237, 3300, 1699, 546, 743, 2218]),\n",
              " (4907, [207, 8, 1460, 90, 1692, 946, 3076, 2531, 1346, 2217]),\n",
              " (4916, [270, 534, 440, 1005, 3407, 214, 3318, 203, 211, 1670]),\n",
              " (4936, [47, 27, 42, 14, 15, 1050, 225, 451, 297, 267]),\n",
              " (4948, [449, 6, 566, 1037, 103, 763, 22, 67, 131, 170]),\n",
              " (4958, [196, 69, 229, 1372, 4982, 1354, 1227, 1095, 82, 390]),\n",
              " (4960, [41, 81, 3, 1234, 298, 2702, 2268, 2281, 3407, 87]),\n",
              " (4965, [1214, 1288, 486, 40, 41, 39, 2102, 76, 31, 692]),\n",
              " (4968, [112, 4778, 11236, 16677, 16983, 5357, 3594, 22221, 4269, 11724]),\n",
              " (4976, [231, 15, 808, 351, 886, 1479, 179, 22, 33, 75]),\n",
              " (4979, [28, 17, 11, 42, 16, 465, 44, 2, 131, 196]),\n",
              " (4984, [422, 359, 380, 744, 843, 1, 46, 2, 30, 350]),\n",
              " (4986, [76, 28, 42, 4, 11, 2, 243, 193, 442, 201]),\n",
              " (4990, [212, 424, 48, 83, 5516, 6242, 2112, 1, 6805, 2175]),\n",
              " (4997, [129, 764, 4676, 3440, 5912, 627, 3575, 2777, 872, 7370]),\n",
              " (5000, [1630, 4896, 292, 347, 6210, 1900, 799, 13557, 20529, 12893]),\n",
              " (5001, [547, 1237, 326, 343, 220, 11, 629, 390, 1790, 36]),\n",
              " (5010, [40, 55, 76, 496, 955, 146, 104, 314, 35, 56]),\n",
              " (5033, [764, 119, 1720, 249, 3348, 5344, 299, 139, 292, 316]),\n",
              " (5043, [82, 45, 257, 95, 4, 4066, 4164, 401, 2272, 161]),\n",
              " (5048, [3299, 94, 875, 99, 4910, 1490, 2981, 21582, 1012, 8250]),\n",
              " (5051, [59, 536, 259, 13, 43, 584, 56, 1233, 112, 999]),\n",
              " (5059, [2903, 3526, 2284, 4079, 1795, 4869, 5023, 896, 7847, 7108]),\n",
              " (5064, [3431, 7742, 4405, 6563, 4716, 9010, 2906, 112, 4573, 5242]),\n",
              " (5076, [28, 27, 42, 808, 471, 2803, 766, 1038, 1688, 524]),\n",
              " (5091, [85, 37, 17, 50, 47, 49, 93, 298, 243, 181]),\n",
              " (5103, [41, 40, 857, 1073, 970, 58, 76, 19, 1108, 1083]),\n",
              " (5107, [2, 132, 63, 891, 15090, 18606, 3472, 446, 7946, 566]),\n",
              " (5112, [17, 11, 27, 28, 33, 50, 44, 330, 2, 142]),\n",
              " (5129, [540, 17, 47, 16, 27, 1840, 689, 37, 50, 147]),\n",
              " (5133, [31, 104, 293, 558, 2694, 361, 5, 349, 375, 3]),\n",
              " (5162, [40, 154, 34, 80, 1, 94, 384, 1031, 15, 4]),\n",
              " (5167, [161, 544, 2949, 637, 2499, 5727, 1490, 840, 506, 63]),\n",
              " (5169, [33, 104, 160, 2215, 259, 144, 56, 59, 184, 4768]),\n",
              " (5187, [80, 203, 214, 66, 375, 60, 451, 934, 38, 4]),\n",
              " (5191, [39, 58, 76, 12778, 1470, 15228, 621, 3, 9760, 186]),\n",
              " (5200, [320, 97, 119, 2102, 405, 249, 12, 299, 708, 917]),\n",
              " (5204, [496, 5, 3644, 144, 168, 476, 184, 1182, 35, 258]),\n",
              " (5215, [2505, 5420, 54, 4676, 2416, 2689, 2913, 498, 2257, 4133]),\n",
              " (5235, [911, 2791, 6309, 2501, 2540, 13, 2638, 13831, 292, 18724]),\n",
              " (5242, [40, 31, 39, 1, 76, 329, 514, 203, 8711, 292]),\n",
              " (5268, [3012, 285, 797, 221, 284, 54, 1027, 1750, 283, 11550]),\n",
              " (5274, [138, 182, 324, 8, 238, 85, 116, 60, 16, 1008]),\n",
              " (5284, [4, 133, 598, 59, 2, 318, 254, 22, 171, 269]),\n",
              " (5330, [21231, 837, 583, 8279, 332, 291, 2, 828, 978, 236]),\n",
              " (5334, [208, 321, 1990, 2295, 308, 37, 298, 1186, 1662, 1828]),\n",
              " (5339, [67, 77, 278, 135, 631, 33, 702, 1928, 8, 48]),\n",
              " (5340, [94, 97, 401, 596, 464, 20, 33, 712, 67, 66]),\n",
              " (5348, [298, 21, 8315, 54, 7900, 368, 791, 1442, 1478, 711]),\n",
              " (5350, [1483, 17, 85, 201, 28, 253, 50, 71, 452, 1639]),\n",
              " (5366, [1124, 17, 32, 182, 138, 47, 96, 451, 344, 754]),\n",
              " (5374, [4095, 4079, 3977, 751, 99, 4869, 1031, 3458, 2963, 4440]),\n",
              " (5387, [39, 31, 76, 532, 224, 9, 1031, 143, 7258, 450]),\n",
              " (5390, [58, 911, 2367, 2501, 347, 2476, 3968, 94, 3945, 4597]),\n",
              " (5391, [40, 467, 58, 76, 347, 764, 636, 6750, 293, 2272]),\n",
              " (5397, [58, 1108, 3, 198, 64, 16, 1083, 1214, 464, 1288]),\n",
              " (5398, [702, 228, 212, 1, 2561, 5838, 2215, 4479, 44, 250]),\n",
              " (5399, [5, 17, 2257, 397, 3022, 12, 11833, 1100, 94, 1049]),\n",
              " (5405, [112, 54, 5357, 16677, 4778, 11236, 4269, 16983, 6022, 3594]),\n",
              " (5420, [117, 585, 15, 144, 1, 1041, 93, 214, 184, 56]),\n",
              " (5441, [22, 20, 165, 33, 265, 205, 279, 3000, 1697, 18356]),\n",
              " (5447, [76, 2505, 533, 2913, 2747, 1267, 3, 2208, 3533, 1169]),\n",
              " (5472, [160, 36, 956, 15, 154, 101, 414, 657, 291, 536]),\n",
              " (5490, [1950, 1499, 1055, 332, 2601, 1147, 564, 278, 36, 1868]),\n",
              " (5493, [252, 886, 1561, 77, 116, 2, 38, 579, 639, 148]),\n",
              " (5510, [411, 869, 15, 161, 101, 59, 18, 615, 63, 484]),\n",
              " (5520, [6026, 6836, 11090, 41, 11849, 11147, 39, 133, 1716, 1440]),\n",
              " (5536, [71, 5, 287, 185, 86, 1327, 126, 6469, 4227, 37]),\n",
              " (5552, [9, 494, 471, 56, 270, 3826, 10130, 938, 4664, 601]),\n",
              " (5558, [15, 1652, 36, 7909, 117, 159, 8809, 2714, 950, 2996]),\n",
              " (5559, [4435, 5044, 15587, 7647, 8328, 4441, 6064, 4094, 112, 709]),\n",
              " (5560, [96, 182, 467, 573, 8, 6641, 764, 52, 4248, 6916]),\n",
              " (5562, [15, 59, 160, 399, 126, 956, 1001, 536, 999, 582]),\n",
              " (5568, [327, 391, 112, 1641, 2830, 1939, 1616, 626, 1332, 2043]),\n",
              " (5586, [51, 674, 1130, 3023, 5429, 6410, 7141, 9838, 36, 88]),\n",
              " (5589, [5504, 2367, 7019, 2404, 7354, 1871, 4462, 1200, 3447, 5216]),\n",
              " (5590, [66, 6681, 94, 72, 133, 1338, 4153, 4238, 1619, 314]),\n",
              " (5599, [15340, 21861, 21955, 15489, 17159, 580, 90, 325, 474, 44]),\n",
              " (5602, [1780, 15376, 18934, 6311, 2510, 3247, 16394, 5833, 2247, 14803]),\n",
              " (5615, [467, 440, 534, 573, 3407, 2516, 430, 414, 160, 93]),\n",
              " (5620, [15, 90, 67, 438, 1688, 524, 177, 137, 1390, 68]),\n",
              " (5621, [68, 3397, 20291, 9407, 15339, 16879, 13870, 7378, 14060, 33]),\n",
              " (5622, [997, 103, 101, 537, 95, 9, 326, 220, 2211, 38]),\n",
              " (5630, [903, 4, 124, 375, 48, 2, 432, 986, 401, 750]),\n",
              " (5638, [17, 11, 28, 92, 775, 27, 865, 898, 42, 50]),\n",
              " (5643, [26, 1159, 339, 1652, 72, 52, 22, 4741, 88, 8]),\n",
              " (5657, [624, 236, 754, 1290, 32, 1382, 96, 8143, 2237, 805]),\n",
              " (5663, [41, 58, 841, 126, 257, 1092, 84, 14, 1497, 905]),\n",
              " (5685, [13, 17, 1499, 2438, 28, 64, 1950, 159, 50, 278]),\n",
              " (5686, [395, 2155, 135, 481, 5767, 96, 138, 7103, 7446, 182]),\n",
              " (5691, [898, 855, 564, 547, 619, 745, 1805, 939, 1536, 1391]),\n",
              " (5692, [5182, 5363, 6521, 1372, 3771, 7497, 8238, 11068, 7853, 8242]),\n",
              " (5693, [37, 50, 47, 17, 22, 33, 363, 36, 27, 136]),\n",
              " (5695, [15, 51, 4027, 3726, 3414, 3243, 88, 927, 221, 4385]),\n",
              " (5722, [8, 33, 950, 65, 1008, 193, 219, 472, 1037, 8344]),\n",
              " (5746, [111, 122, 2522, 541, 599, 253, 5435, 216, 452, 14397]),\n",
              " (5760, [742, 22, 33, 903, 5, 1, 732, 71, 3259, 44]),\n",
              " (5780, [1429, 1279, 1446, 2791, 8775, 22, 2558, 1674, 126, 104]),\n",
              " (5796, [23, 111, 122, 126, 293, 275, 2051, 244, 1017, 550]),\n",
              " (5808, [817, 219, 692, 886, 766, 14, 296, 946, 1692, 1463]),\n",
              " (5810, [702, 3169, 182, 96, 32, 716, 138, 369, 4, 260]),\n",
              " (5813, [813, 88, 255, 94, 34, 1099, 3021, 1293, 6, 498]),\n",
              " (5814, [851, 981, 167, 3496, 1568, 69, 1981, 5, 6247, 114]),\n",
              " (5819, [1220, 131, 1632, 107, 2029, 4177, 6465, 4486, 3602, 10346]),\n",
              " (5828, [399, 35, 582, 17, 47, 420, 496, 9, 27, 11]),\n",
              " (5852, [1434, 990, 662, 1125, 17, 2570, 1534, 462, 2459, 1532]),\n",
              " (5853, [31, 303, 55, 58, 249, 299, 76, 1146, 2775, 928]),\n",
              " (5887, [9, 186, 433, 1542, 149, 104, 974, 4348, 240, 938]),\n",
              " (5891, [2743, 285, 630, 3360, 580, 329, 3671, 1256, 1728, 139]),\n",
              " (5933, [31, 40, 353, 612, 55, 6856, 58, 994, 308, 415]),\n",
              " (5943, [8807, 22, 6307, 1283, 5365, 6263, 8332, 4731, 998, 12734]),\n",
              " (5947, [124, 239, 2377, 767, 2574, 51, 749, 2321, 1461, 660]),\n",
              " (5948, [76, 60, 220, 95, 147, 15, 579, 2771, 1883, 770]),\n",
              " (5959, [89, 2832, 390, 915, 4, 27, 28, 1438, 2, 47]),\n",
              " (5968, [1422, 346, 2777, 3575, 7315, 3013, 11479, 4552, 36, 3063]),\n",
              " (5977, [346, 15, 9262, 955, 11180, 9814, 101, 181, 6598, 161]),\n",
              " (5979, [1020, 1120, 23, 28, 17, 3751, 2, 11, 401, 4846]),\n",
              " (5982, [2517, 708, 3811, 147, 1443, 29, 689, 1840, 8, 19084]),\n",
              " (5984, [596, 629, 1611, 1790, 4, 67, 813, 51, 183, 1028]),\n",
              " (5992, [1092, 3803, 6854, 4121, 4363, 4, 407, 11325, 66, 1542]),\n",
              " (6007, [1461, 613, 2777, 4714, 548, 11479, 1828, 1058, 3121, 1990]),\n",
              " (6011, [1222, 262, 298, 1474, 14567, 5121, 2694, 44, 271, 11866]),\n",
              " (6037, [58, 3, 2450, 262, 998, 202, 1112, 59, 1283, 3826]),\n",
              " (6041, [3612, 102, 156, 1326, 1004, 398, 5348, 267, 197, 112]),\n",
              " (6060, [95, 89, 49, 243, 17, 101, 410, 792, 884, 47]),\n",
              " (6070, [16, 51, 25, 596, 94, 34, 871, 442, 571, 101]),\n",
              " (6071, [1008, 66, 2669, 1070, 238, 2025, 7306, 1932, 948, 1464]),\n",
              " (6074, [808, 938, 2376, 68, 1853, 1, 238, 1090, 8, 1363]),\n",
              " (6077, [182, 208, 324, 344, 801, 228, 4, 35, 1198, 72]),\n",
              " (6083, [32, 208, 324, 344, 5420, 4133, 278, 199, 238, 28]),\n",
              " (6093, [831, 34, 472, 1932, 2478, 446, 1019, 285, 1464, 548]),\n",
              " (6101, [56, 9, 224, 144, 104, 998, 361, 1728, 168, 803]),\n",
              " (6109, [28, 17, 11, 27, 47, 145, 4, 42, 451, 112]),\n",
              " (6121, [41, 39, 580, 64, 998, 1108, 28, 117, 11, 13]),\n",
              " (6123, [137, 135, 395, 724, 1478, 711, 608, 11587, 6858, 7739]),\n",
              " (6126, [25, 43, 13, 57, 1714, 16, 981, 108, 891, 2177]),\n",
              " (6129, [11, 47, 50, 27, 1790, 154, 128, 340, 86, 248]),\n",
              " (6147, [981, 3496, 851, 44, 1568, 991, 4, 9070, 6959, 52]),\n",
              " (6170, [808, 62, 146, 16, 938, 762, 241, 1573, 3300, 2687]),\n",
              " (6178, [573, 1382, 324, 376, 242, 2517, 17, 2034, 236, 3905]),\n",
              " (6190, [23, 17, 47, 37, 27, 56, 12, 111, 122, 44]),\n",
              " (6205, [244, 80, 201, 104, 452, 25, 229, 144, 310, 16]),\n",
              " (6211, [28, 42, 239, 80, 50, 511, 11, 857, 2, 970]),\n",
              " (6217, [2, 4, 407, 199, 395, 281, 75, 260, 135, 598]),\n",
              " (6222, [743, 1058, 14, 510, 21, 4665, 29, 875, 532, 297]),\n",
              " (6240, [697, 1604, 3128, 2401, 1729, 2823, 3592, 11179, 1870, 4183]),\n",
              " (6242, [884, 1438, 36, 43, 154, 82, 77, 198, 11, 64]),\n",
              " (6257, [321, 28, 17, 11, 27, 191, 47, 340, 121, 688]),\n",
              " (6269, [33, 35, 251, 56, 73, 17, 194, 24, 20, 42]),\n",
              " (6272, [2, 101, 1, 19, 17, 890, 11, 88, 28, 26]),\n",
              " (6289, [263, 112, 4778, 5357, 16677, 16983, 4269, 11724, 6022, 3594]),\n",
              " (6301, [40, 1411, 1674, 35, 15, 11, 96, 138, 43, 4]),\n",
              " (6328, [96, 936, 208, 955, 2582, 3082, 260, 324, 390, 344]),\n",
              " (6342, [583, 291, 4684, 101, 5718, 2243, 238, 116, 29, 5577]),\n",
              " (6346, [6052, 6875, 6585, 7132, 7486, 7134, 7133, 6054, 7482, 6334]),\n",
              " (6371, [17, 47, 95, 45, 28, 326, 220, 50, 792, 465]),\n",
              " (6376, [182, 324, 291, 49, 181, 841, 185, 410, 576, 411]),\n",
              " (6377, [2846, 220, 678, 546, 1213, 933, 226, 3379, 191, 120]),\n",
              " (6396, [11, 47, 50, 23, 45, 22, 3751, 35, 778, 722]),\n",
              " (6415, [476, 1331, 614, 3625, 63, 29, 1267, 472, 209, 464]),\n",
              " (6426, [117, 29, 264, 120, 1377, 131, 156, 3126, 3399, 871]),\n",
              " (6428, [32, 293, 138, 182, 19, 13472, 128, 208, 159, 1499]),\n",
              " (6461, [88, 178, 498, 1020, 1397, 1550, 286, 5116, 1423, 3049]),\n",
              " (6486, [55, 58, 449, 467, 376, 313, 76, 242, 1542, 1825]),\n",
              " (6509, [627, 346, 58, 105, 2493, 14004, 68, 9248, 9193, 3713]),\n",
              " (6517, [94, 41, 40, 28, 42, 2036, 55, 50, 2566, 11]),\n",
              " (6522, [2617, 1078, 1816, 1286, 16, 8, 3905, 3721, 25, 1122]),\n",
              " (6530, [346, 119, 252, 67, 278, 639, 22, 133, 212, 80]),\n",
              " (6534, [433, 582, 57, 98, 43, 335, 165, 348, 156, 609]),\n",
              " (6536, [2295, 119, 2558, 6423, 299, 252, 3351, 159, 23, 6111]),\n",
              " (6564, [85, 73, 33, 386, 4, 345, 48, 65, 3977, 2]),\n",
              " (6572, [8, 413, 814, 872, 635, 16, 21, 109, 29, 981]),\n",
              " (6588, [12, 399, 9, 433, 56, 17, 144, 582, 19, 509]),\n",
              " (6590, [467, 242, 636, 19, 181, 3380, 4, 157, 3154, 229]),\n",
              " (6595, [28, 27, 47, 49, 5, 42, 181, 1756, 1893, 38]),\n",
              " (6610, [15, 17839, 16235, 813, 107, 1631, 15878, 88, 54, 1099]),\n",
              " (6612, [41, 376, 242, 129, 3721, 764, 94, 103, 33, 99]),\n",
              " (6615, [31, 2958, 896, 44, 2766, 22, 618, 2618, 103, 1798]),\n",
              " (6640, [6277, 7883, 146, 11633, 8168, 6212, 263, 161, 171, 9043]),\n",
              " (6641, [332, 541, 2155, 1397, 56, 546, 135, 199, 1112, 973]),\n",
              " (6655, [3427, 3065, 6013, 5181, 9268, 15251, 19183, 6569, 15425, 58]),\n",
              " (6658, [47, 1028, 27, 21039, 15145, 788, 95, 998, 11190, 42]),\n",
              " (6668, [40, 55, 344, 76, 379, 1510, 117, 149, 56, 3107]),\n",
              " (6669, [54, 2152, 791, 96, 283, 17986, 138, 7119, 70, 18]),\n",
              " (6673, [89, 82, 915, 1438, 884, 54, 5866, 1029, 305, 283]),\n",
              " (6683, [126, 293, 275, 37, 550, 15812, 196, 379, 3642, 3908]),\n",
              " (6685, [1401, 35, 23, 1492, 1549, 29, 102, 363, 149, 3545]),\n",
              " (6738, [9, 149, 326, 2, 220, 104, 144, 2218, 174, 621]),\n",
              " (6742, [55, 186, 1165, 6185, 58, 697, 244, 2683, 5722, 2401]),\n",
              " (6759, [44, 66, 116, 77, 56, 929, 458, 1, 52, 590]),\n",
              " (6765, [592, 242, 573, 433, 1288, 186, 10809, 764, 486, 22]),\n",
              " (6796, [34, 182, 208, 324, 1342, 257, 583, 262, 4, 2963]),\n",
              " (6798, [3214, 6226, 2208, 11845, 2967, 1267, 476, 391, 2747, 5339]),\n",
              " (6807, [11, 4, 15, 47, 349, 36, 56, 27, 1475, 174]),\n",
              " (6810, [697, 2683, 34, 2516, 98, 2702, 384, 534, 1041, 1866]),\n",
              " (6818, [95, 389, 537, 1227, 880, 189, 326, 792, 220, 768]),\n",
              " (6851, [15, 161, 58, 1248, 403, 126, 101, 15932, 379, 977]),\n",
              " (6864, [44, 25, 17, 27, 8, 47, 75, 172, 277, 19441]),\n",
              " (6897, [108, 2202, 334, 3090, 2443, 555, 203, 1, 826, 1768]),\n",
              " (6906, [239, 226, 3527, 111, 857, 1858, 2925, 244, 511, 2966]),\n",
              " (6910, [22, 476, 472, 73, 1197, 132, 104, 144, 212, 27]),\n",
              " (6917, [1258, 133, 1013, 3, 3145, 139, 3356, 171, 314, 1]),\n",
              " (6927, [35, 9, 1481, 144, 184, 33, 213, 48, 262, 149]),\n",
              " (6929, [259, 28, 47, 42, 11, 1688, 287, 126, 1097, 2678]),\n",
              " (6978, [9, 782, 56, 1, 365, 67, 177, 756, 1027, 4915]),\n",
              " (6986, [182, 208, 13, 344, 3502, 303, 1818, 3918, 2, 598]),\n",
              " (6993, [1367, 4, 2, 15, 154, 94, 2268, 48, 99, 210]),\n",
              " (6998, [40, 55, 27, 58, 28, 76, 50, 4, 2, 5]),\n",
              " (7005, [3905, 133, 3188, 1481, 3811, 16, 171, 254, 146, 38]),\n",
              " (7011, [1330, 862, 940, 802, 170, 330, 194, 163, 1412, 251]),\n",
              " (7015, [16, 107, 1, 102, 549, 156, 1442, 698, 930, 623]),\n",
              " (7019, [9, 1460, 587, 1220, 179, 1593, 131, 712, 487, 5647]),\n",
              " (7024, [34, 99, 3565, 2, 52, 8, 6, 5378, 64, 13]),\n",
              " (7027, [2084, 5950, 3597, 179, 3059, 4544, 5332, 4839, 148, 955]),\n",
              " (7036, [208, 138, 32, 182, 96, 344, 2, 6, 2704, 598]),\n",
              " (7057, [34, 399, 598, 39, 43, 41, 40, 582, 123, 664]),\n",
              " (7058, [56, 9, 259, 375, 199, 832, 511, 986, 1648, 52]),\n",
              " (7059, [41, 55, 58, 3791, 76, 4, 2258, 3692, 104, 10425]),\n",
              " (7069, [28, 11, 4, 50, 37, 44, 80, 26, 2, 121]),\n",
              " (7075, [1, 17, 389, 42, 906, 36, 28, 220, 326, 47]),\n",
              " (7086, [1481, 22, 4223, 4, 64, 96, 1364, 138, 85, 5633]),\n",
              " (7092, [437, 309, 3618, 174, 1598, 9, 890, 5087, 1706, 80]),\n",
              " (7113, [242, 3905, 2056, 35, 252, 143, 299, 9, 11220, 310]),\n",
              " (7119, [1699, 3, 2258, 239, 238, 1573, 264, 2603, 3692, 278]),\n",
              " (7133, [1342, 302, 401, 596, 3458, 2963, 2807, 471, 3544, 8]),\n",
              " (7151, [182, 837, 324, 344, 978, 1051, 129, 20, 265, 242]),\n",
              " (7167, [27, 42, 47, 28, 50, 80, 6, 11, 112, 174]),\n",
              " (7173, [9, 14082, 149, 19220, 19112, 6264, 112, 193, 8822, 7739]),\n",
              " (7187, [208, 573, 612, 175, 353, 415, 770, 764, 441, 1480]),\n",
              " (7188, [1461, 1, 203, 680, 38, 2775, 22, 603, 520, 1232]),\n",
              " (7193, [366, 4627, 8418, 286, 3827, 29, 215, 1340, 112, 712]),\n",
              " (7201, [27, 47, 58, 28, 50, 408, 145, 277, 11, 136]),\n",
              " (7222, [207, 743, 766, 1058, 2036, 1222, 2, 481, 174, 22]),\n",
              " (7232, [22, 2, 1, 494, 9, 1372, 365, 1227, 10, 125]),\n",
              " (7235, [1682, 1186, 1828, 1279, 117, 120, 1196, 2532, 397, 403]),\n",
              " (7238, [349, 1049, 15, 401, 1116, 498, 192, 813, 1689, 227]),\n",
              " (7244, [1207, 236, 436, 126, 16, 355, 1030, 35, 23, 706]),\n",
              " (7270, [2538, 54, 632, 1771, 1750, 82, 2604, 283, 4645, 18]),\n",
              " (7275, [119, 249, 639, 117, 627, 536, 346, 681, 956, 3431]),\n",
              " (7284, [39, 55, 1, 58, 76, 301, 214, 298, 1106, 3]),\n",
              " (7285, [702, 631, 934, 781, 801, 250, 28, 1053, 17, 135]),\n",
              " (7288, [7112, 5705, 14, 9023, 10815, 5127, 718, 12526, 7762, 1]),\n",
              " (7306, [116, 76, 705, 4076, 408, 4082, 733, 320, 3, 2027]),\n",
              " (7309, [313, 376, 636, 82, 94, 89, 3, 547, 915, 57]),\n",
              " (7323, [55, 291, 34, 36, 56, 15, 1537, 224, 144, 2166]),\n",
              " (7326, [40, 39, 55, 76, 13, 98, 293, 77, 2570, 298]),\n",
              " (7361, [540, 907, 154, 320, 5952, 38, 585, 347, 292, 12262]),\n",
              " (7369, [27, 28, 1227, 1095, 50, 1342, 94, 11, 99, 690]),\n",
              " (7373, [58, 3, 5, 45, 210, 3858, 22, 89, 443, 600]),\n",
              " (7380, [2084, 718, 6, 3990, 11313, 30, 3, 3954, 4064, 104]),\n",
              " (7388, [11, 47, 27, 103, 664, 449, 762, 135, 38, 2542]),\n",
              " (7406, [41, 435, 2964, 4, 236, 613, 4348, 149, 3791, 2]),\n",
              " (7426, [31, 2072, 5332, 1960, 12362, 147, 262, 1840, 12363, 1911]),\n",
              " (7445, [44, 5348, 1629, 25, 8565, 2436, 871, 610, 1220, 580]),\n",
              " (7446, [259, 956, 414, 80, 2, 781, 634, 748, 157, 296]),\n",
              " (7460, [67, 16, 2, 411, 598, 164, 634, 4, 4060, 1625]),\n",
              " (7461, [1438, 1029, 343, 122, 556, 244, 201, 5142, 6693, 2710]),\n",
              " (7463, [94, 254, 38, 269, 12, 314, 97, 1081, 146, 203]),\n",
              " (7469, [39, 76, 355, 732, 328, 3, 23, 1507, 11, 17]),\n",
              " (7471, [43, 1578, 521, 179, 57, 98, 401, 2027, 571, 29]),\n",
              " (7477, [138, 208, 324, 344, 532, 14, 11725, 15916, 13611, 11720]),\n",
              " (7485, [99, 540, 320, 39, 31, 689, 55, 2027, 58, 4336]),\n",
              " (7490, [2, 80, 4, 336, 3239, 812, 2141, 2431, 1, 3]),\n",
              " (7493, [824, 1868, 124, 569, 19, 52, 775, 155, 8, 128]),\n",
              " (7497, [76, 5216, 2121, 252, 5051, 5821, 261, 3537, 4900, 1776]),\n",
              " (7505, [401, 51, 94, 34, 813, 255, 25, 59, 1099, 16]),\n",
              " (7507, [40, 39, 76, 618, 77, 2085, 3, 1108, 2829, 2771]),\n",
              " (7510, [1191, 120, 49, 1422, 12, 21, 181, 109, 29, 1009]),\n",
              " (7522, [34, 1542, 36, 25, 1, 52, 2027, 3, 44, 154]),\n",
              " (7534, [35, 56, 15, 37, 326, 220, 149, 36, 215, 240]),\n",
              " (7538, [11178, 9712, 138, 10234, 9813, 3011, 4042, 6, 220, 324]),\n",
              " (7541, [186, 4030, 3177, 35, 351, 1206, 999, 56, 149, 4146]),\n",
              " (7542, [467, 242, 138, 182, 32, 94, 636, 45, 1372, 40]),\n",
              " (7548, [5, 301, 702, 23, 4, 20, 91, 801, 370, 4399]),\n",
              " (7550, [40, 31, 58, 76, 883, 13157, 164, 1529, 825, 3]),\n",
              " (7557, [1883, 2389, 2823, 41, 40, 39, 4612, 761, 717, 4474]),\n",
              " (7584, [1382, 1816, 279, 32, 2517, 1031, 113, 384, 138, 2761]),\n",
              " (7593, [324, 6723, 6426, 7028, 6725, 7369, 7027, 6720, 1966, 1840]),\n",
              " (7596, [27, 722, 1155, 28, 569, 443, 50, 11, 769, 685]),\n",
              " (7603, [16, 36, 44, 101, 9053, 2518, 583, 29, 5671, 904]),\n",
              " (7620, [2034, 5507, 3537, 1207, 1177, 2791, 375, 1030, 1094, 2638]),\n",
              " (7624, [44, 389, 298, 25, 243, 191, 271, 237, 87, 23]),\n",
              " (7635, [430, 242, 2423, 1078, 4267, 2403, 2442, 94, 1702, 99]),\n",
              " (7644, [126, 955, 293, 2150, 145, 4121, 117, 4133, 28, 559]),\n",
              " (7649, [1897, 3269, 8332, 6881, 72, 5106, 5995, 15232, 3949, 6308]),\n",
              " (7653, [29, 143, 101, 185, 605, 3, 843, 350, 146, 112]),\n",
              " (7660, [11, 249, 36, 3128, 252, 2389, 27, 1273, 6532, 6545]),\n",
              " (7664, [320, 4704, 1722, 585, 1041, 99, 4543, 35, 5307, 7354]),\n",
              " (7674, [6043, 196, 10, 712, 17, 27, 1266, 2730, 38, 9277]),\n",
              " (7696, [31, 55, 13509, 36, 129, 662, 242, 376, 1230, 1124]),\n",
              " (7702, [40, 55, 596, 58, 5, 8, 76, 16, 48, 25]),\n",
              " (7704, [18926, 471, 3789, 160, 1433, 938, 536, 414, 147, 51]),\n",
              " (7708, [228, 202, 3403, 2308, 801, 196, 72, 16460, 631, 301]),\n",
              " (7714, [1125, 138, 182, 1532, 1534, 208, 705, 1535, 60, 449]),\n",
              " (7717, [15, 101, 680, 1610, 895, 293, 1196, 433, 599, 2775]),\n",
              " (7740, [8, 4, 41, 40, 39, 33, 108, 107, 55, 52]),\n",
              " (7744, [1017, 198, 64, 1510, 639, 1084, 5, 1111, 1486, 28]),\n",
              " (7762, [17, 303, 42, 47, 28, 50, 231, 11, 2384, 1703]),\n",
              " (7765, [1, 112, 14499, 10670, 1647, 1403, 1031, 1077, 3851, 3420]),\n",
              " (7777, [31, 104, 56, 1858, 159, 168, 258, 4463, 2925, 2408]),\n",
              " (7781, [99, 159, 120, 510, 1310, 85, 41, 40, 31, 39]),\n",
              " (7785, [33, 4, 170, 2, 226, 291, 228, 43, 17, 663]),\n",
              " (7802, [1481, 1191, 694, 11, 101, 17, 50, 1422, 47, 4552]),\n",
              " (7803, [55, 480, 585, 905, 904, 578, 1055, 691, 907, 2829]),\n",
              " (7808, [2102, 1089, 16037, 910, 1132, 1338, 64, 13, 23, 1620]),\n",
              " (7818, [2321, 1461, 865, 9, 8, 35, 111, 1209, 44, 52]),\n",
              " (7828, [117, 120, 126, 500, 36, 4266, 3055, 131, 293, 275]),\n",
              " (7867, [3616, 3810, 4941, 64, 3590, 6052, 635, 57, 21, 257]),\n",
              " (7889, [98, 64, 15, 56, 12, 748, 356, 133, 104, 250]),\n",
              " (7893, [939, 32, 59, 138, 10, 182, 414, 208, 97, 999]),\n",
              " (7902, [45, 95, 220, 326, 465, 1756, 792, 2860, 3111, 2211]),\n",
              " (7916, [182, 6179, 6427, 6178, 6748, 6723, 11222, 6198, 7028, 376]),\n",
              " (7918, [17, 35, 47, 28, 168, 56, 2, 91, 9, 104]),\n",
              " (7934, [8, 25, 2607, 2986, 267, 1676, 1487, 2007, 266, 1803]),\n",
              " (7942, [96, 1481, 17909, 17901, 17903, 94, 320, 17910, 186, 17888]),\n",
              " (7957, [40, 55, 58, 76, 49, 270, 3816, 243, 4, 44]),\n",
              " (7965, [58, 66, 1028, 60, 1283, 68, 54, 3975, 2603, 1263]),\n",
              " (7968, [138, 182, 208, 324, 344, 660, 36, 117, 120, 325]),\n",
              " (7973, [9, 93, 56, 214, 80, 514, 4, 184, 210, 27]),\n",
              " (7977, [1190, 7912, 4597, 7935, 4332, 984, 415, 11830, 937, 2021]),\n",
              " (7982, [4348, 38, 3791, 3424, 188, 203, 1, 3140, 3178, 214]),\n",
              " (7993, [76, 17, 7867, 28, 8, 11, 7477, 138, 96, 208]),\n",
              " (8003, [39, 55, 76, 2, 441, 124, 56, 514, 1635, 22]),\n",
              " (8005, [2198, 171, 97, 165, 9, 56, 350, 12, 184, 43]),\n",
              " (8015, [103, 17, 65, 28, 42, 47, 50, 194, 6, 893]),\n",
              " (8040, [99, 3458, 705, 67, 51, 738, 10402, 262, 1092, 3226]),\n",
              " (8041, [208, 116, 344, 60, 304, 165, 15, 318, 1070, 278]),\n",
              " (8045, [291, 108, 257, 674, 112, 3274, 4346, 3023, 567, 68]),\n",
              " (8055, [55, 58, 76, 12920, 12917, 5, 12918, 12035, 11222, 12916]),\n",
              " (8066, [94, 34, 47, 27, 42, 37, 66, 16, 451, 12]),\n",
              " (8071, [3325, 3568, 9429, 367, 3613, 494, 8451, 16704, 11671, 6557]),\n",
              " (8082, [67, 12, 278, 1230, 2488, 65, 135, 1499, 193, 73]),\n",
              " (8086, [95, 170, 45, 78, 220, 1040, 389, 92, 212, 792]),\n",
              " (8092, [14189, 49, 1401, 210, 28, 124, 17, 596, 783, 6]),\n",
              " (8099, [3, 1225, 44, 23, 332, 786, 345, 605, 2063, 4]),\n",
              " (8103, [592, 342, 618, 1108, 1288, 751, 5585, 271, 10310, 486]),\n",
              " (8104, [117, 629, 164, 1747, 1611, 271, 2253, 120, 396, 72]),\n",
              " (8108, [96, 32, 376, 242, 573, 178, 764, 1120, 636, 181]),\n",
              " (8110, [2321, 1461, 9, 56, 144, 45, 8515, 1266, 168, 184]),\n",
              " (8151, [770, 210, 1398, 919, 625, 678, 67, 717, 761, 177]),\n",
              " (8176, [56, 361, 47, 149, 615, 2717, 71, 42, 126, 310]),\n",
              " (8192, [41, 40, 39, 55, 1993, 13759, 58, 6, 11416, 76]),\n",
              " (8198, [349, 1083, 684, 1688, 1288, 582, 43, 486, 2094, 154]),\n",
              " (8211, [67, 22, 883, 463, 6662, 1714, 5129, 44, 6967, 2555]),\n",
              " (8224, [64, 57, 43, 42, 36, 47, 28, 50, 532, 2]),\n",
              " (8230, [340, 2748, 398, 1075, 3804, 3039, 91, 3125, 550, 2041]),\n",
              " (8237, [43, 109, 1588, 221, 455, 3416, 460, 98, 7287, 198]),\n",
              " (8244, [55, 76, 5, 2051, 1610, 1847, 3959, 4324, 2, 2611]),\n",
              " (8275, [76, 718, 496, 1099, 255, 60, 664, 2025, 2085, 2]),\n",
              " (8276, [40, 76, 77, 60, 82, 3, 44, 380, 5, 170]),\n",
              " (8278, [9103, 8622, 10865, 4858, 1290, 1177, 11728, 6229, 4315, 10978]),\n",
              " (8282, [2072, 2702, 2495, 630, 2121, 29, 1032, 1253, 13, 15]),\n",
              " (8287, [131, 160, 629, 1611, 259, 414, 284, 821, 1790, 8]),\n",
              " (8302, [1422, 3188, 4978, 106, 84, 7442, 2087, 5018, 7923, 5227]),\n",
              " (8316, [1286, 561, 3905, 94, 34, 9943, 12243, 41, 31, 8417]),\n",
              " (8321, [9, 146, 144, 318, 184, 171, 21185, 13918, 329, 269]),\n",
              " (8329, [2290, 4284, 15, 342, 4042, 809, 1352, 1108, 3205, 1083]),\n",
              " (8342, [978, 1051, 119, 249, 129, 355, 313, 79, 21, 565]),\n",
              " (8348, [4559, 9455, 2198, 2290, 3205, 12395, 202, 3693, 10, 19816]),\n",
              " (8357, [813, 1652, 1331, 255, 135, 4, 566, 45, 891, 797]),\n",
              " (8364, [17, 159, 47, 848, 347, 11, 547, 28, 133, 50]),\n",
              " (8387, [170, 366, 75, 64, 13, 391, 14, 61, 834, 996]),\n",
              " (8403, [5647, 144, 168, 104, 258, 231, 895, 2281, 56, 751]),\n",
              " (8424, [41, 39, 31, 1083, 1288, 76, 486, 613, 1406, 627]),\n",
              " (8446, [138, 40, 58, 1816, 4870, 4869, 119, 36, 2761, 148]),\n",
              " (8447, [23, 590, 393, 601, 229, 18399, 19443, 22016, 19150, 19000]),\n",
              " (8450, [22, 48, 476, 2, 627, 1096, 161, 73, 681, 54]),\n",
              " (8451, [95, 220, 45, 118, 389, 8, 4, 61, 2, 546]),\n",
              " (8465, [77, 936, 35, 34, 9, 116, 17, 1481, 2841, 47]),\n",
              " (8470, [428, 625, 717, 678, 919, 761, 770, 210, 712, 215]),\n",
              " (8471, [88, 131, 107, 61, 189, 75, 29, 112, 208, 225]),\n",
              " (8474, [2599, 728, 4190, 177, 1672, 423, 250, 4567, 78, 395]),\n",
              " (8490, [1092, 366, 27, 28, 85, 42, 199, 50, 183, 11]),\n",
              " (8495, [1481, 199, 238, 278, 67, 546, 12362, 3080, 10734, 111]),\n",
              " (8496, [809, 1411, 1767, 320, 249, 252, 708, 907, 43, 1041]),\n",
              " (8503, [435, 39, 40, 41, 58, 31, 55, 592, 5822, 7886]),\n",
              " (8536, [906, 537, 768, 2740, 3095, 332, 191, 137, 54, 860]),\n",
              " (8538, [109, 267, 580, 1368, 21, 329, 1511, 3704, 29, 1283]),\n",
              " (8542, [40, 31, 39, 55, 160, 76, 414, 259, 85, 10]),\n",
              " (8546, [5, 36, 4, 2258, 2603, 75, 61, 1230, 101, 189]),\n",
              " (8548, [39, 76, 23, 3, 22, 14, 17, 27, 1, 47]),\n",
              " (8551, [55, 58, 42, 47, 50, 389, 48, 11, 240, 3]),\n",
              " (8554, [42, 28, 47, 50, 909, 3655, 641, 459, 105, 851]),\n",
              " (8561, [160, 1253, 1032, 59, 259, 3407, 15, 2781, 8560, 2516]),\n",
              " (8575, [40, 55, 76, 3, 25, 16, 95, 389, 12, 4]),\n",
              " (8589, [12959, 12062, 8, 21558, 9730, 4892, 546, 68, 743, 380]),\n",
              " (8599, [66, 1, 16, 2155, 90, 2240, 20, 38, 4060, 422]),\n",
              " (8600, [652, 122, 21912, 17311, 1860, 7143, 244, 322, 452, 1854]),\n",
              " (8604, [95, 133, 45, 139, 160, 259, 3010, 314, 165, 14]),\n",
              " (8609, [66, 9, 2446, 7033, 1539, 144, 9039, 93, 5197, 4604]),\n",
              " (8617, [40, 31, 28, 809, 1446, 238, 1674, 1618, 116, 66]),\n",
              " (8621, [299, 129, 2, 4, 242, 313, 430, 467, 80, 1337]),\n",
              " (8628, [4082, 2121, 7771, 7824, 7811, 9091, 1776, 82, 66, 2728]),\n",
              " (8663, [59, 160, 956, 2481, 536, 82, 915, 203, 584, 23]),\n",
              " (8676, [4861, 59, 160, 1641, 2773, 51, 584, 1775, 815, 1311]),\n",
              " (8682, [44, 226, 52, 901, 4, 279, 80, 1737, 2326, 2901]),\n",
              " (8699, [1522, 1354, 94, 690, 10, 99, 5, 1764, 13, 742]),\n",
              " (8716, [17, 47, 124, 50, 122, 1730, 405, 56, 60, 244]),\n",
              " (8718, [242, 430, 41, 31, 39, 639, 764, 55, 299, 76]),\n",
              " (8722, [326, 45, 537, 906, 99, 59, 19, 5, 1007, 82]),\n",
              " (8737, [259, 956, 115, 1001, 414, 2191, 54, 942, 461, 536]),\n",
              " (8745, [1, 64, 43, 4, 2732, 7975, 348, 38, 551, 97]),\n",
              " (8749, [1, 37, 28, 17, 2, 47, 50, 27, 93, 112]),\n",
              " (8750, [1029, 595, 2972, 293, 3033, 23, 102, 196, 915, 641]),\n",
              " (8759, [31, 39, 58, 45, 76, 880, 389, 792, 1024, 3]),\n",
              " (8761, [41, 31, 47, 76, 2, 1, 64, 240, 258, 170]),\n",
              " (8774, [58, 540, 77, 612, 907, 389, 585, 133, 708, 353]),\n",
              " (8779, [664, 449, 780, 121, 420, 2111, 221, 36, 48, 22]),\n",
              " (8782, [35, 9, 207, 7508, 416, 184, 15, 3384, 102, 1089]),\n",
              " (8786, [606, 5, 5108, 347, 696, 292, 554, 49, 509, 686]),\n",
              " (8796, [9442, 8044, 8473, 9982, 9455, 10660, 131, 2657, 3718, 588]),\n",
              " (8816, [1897, 2570, 604, 2879, 3129, 96, 182, 324, 138, 208]),\n",
              " (8817, [56, 35, 149, 144, 9, 16, 8, 25, 49, 168]),\n",
              " (8854, [117, 5179, 5378, 13822, 1578, 1542, 39, 41, 3122, 1825]),\n",
              " (8859, [50, 2, 85, 22, 212, 4, 37, 56, 73, 163]),\n",
              " (8861, [1796, 292, 329, 47, 201, 50, 57, 3592, 3750, 340]),\n",
              " (8867, [239, 857, 2, 43, 511, 375, 174, 4754, 29, 1098]),\n",
              " (8873, [41, 55, 705, 58, 963, 76, 57, 64, 3776, 43]),\n",
              " (8881, [22, 17, 27, 47, 33, 251, 2671, 5018, 724, 380]),\n",
              " (8885, [293, 23, 340, 5188, 275, 4734, 6003, 287, 1334, 1866]),\n",
              " (8888, [60, 3870, 2202, 555, 3878, 4321, 175, 1210, 48, 4582]),\n",
              " (8892, [275, 35, 2, 4, 143, 54, 321, 33, 684, 237]),\n",
              " (8906, [1669, 1493, 82, 1517, 1143, 11, 2274, 2234, 823, 2019]),\n",
              " (8915, [313, 2813, 764, 3616, 3590, 636, 6190, 5, 1931, 990]),\n",
              " (8919, [3246, 5288, 19, 8982, 1000, 32, 80, 344, 96, 174]),\n",
              " (8930, [40, 58, 1688, 433, 684, 2896, 399, 14427, 1092, 2615]),\n",
              " (8933, [1788, 1845, 612, 33, 994, 353, 660, 4669, 415, 937]),\n",
              " (8935, [467, 41, 55, 764, 1290, 624, 15, 1051, 828, 42]),\n",
              " (8957, [1993, 11416, 163, 112, 19312, 6935, 11279, 3060, 4481, 7982]),\n",
              " (8958, [4, 44, 108, 347, 52, 22, 316, 207, 474, 365]),\n",
              " (8966, [117, 23, 154, 12, 1391, 3, 1510, 27, 42, 47]),\n",
              " (9020, [31, 58, 170, 1083, 1214, 533, 48, 486, 141, 496]),\n",
              " (9023, [220, 880, 511, 750, 44, 9, 48, 1281, 621, 33]),\n",
              " (9051, [433, 379, 196, 105, 981, 202, 4, 5, 751, 88]),\n",
              " (9052, [11, 27, 19, 4, 28, 1, 47, 50, 42, 183]),\n",
              " (9053, [33, 48, 4, 54, 68, 112, 220, 3642, 40, 422]),\n",
              " (9054, [17, 28, 662, 27, 50, 1534, 1715, 42, 1535, 8]),\n",
              " (9057, [401, 22, 211, 813, 1581, 48, 93, 1099, 9952, 603]),\n",
              " (9071, [179, 596, 813, 1451, 63, 3704, 1049, 131, 255, 1116]),\n",
              " (9085, [375, 2150, 4133, 2, 4, 2007, 48, 7200, 291, 5]),\n",
              " (9088, [2444, 283, 112, 490, 359, 380, 321, 68, 54, 1621]),\n",
              " (9100, [160, 751, 12, 259, 59, 111, 956, 648, 536, 414]),\n",
              " (9105, [220, 4, 132, 2, 243, 465, 49, 326, 80, 891]),\n",
              " (9119, [117, 23, 205, 1107, 71, 236, 90, 4035, 250, 1363]),\n",
              " (9126, [41, 40, 31, 433, 399, 39, 55, 178, 94, 186]),\n",
              " (9148, [430, 129, 13, 9124, 20479, 109, 9678, 18293, 198, 10848]),\n",
              " (9177, [2565, 77, 66, 281, 8, 22, 378, 138, 437, 31]),\n",
              " (9195, [45, 2771, 537, 47, 50, 1893, 1067, 42, 2, 4247]),\n",
              " (9197, [76, 2121, 681, 28, 85, 249, 449, 636, 2120, 47]),\n",
              " (9208, [29, 112, 3982, 1008, 1415, 622, 3220, 3043, 5633, 84]),\n",
              " (9210, [129, 242, 573, 96, 182, 138, 324, 764, 636, 116]),\n",
              " (9214, [1794, 2482, 264, 571, 739, 651, 1629, 2413, 5737, 2]),\n",
              " (9230, [692, 28, 917, 50, 1359, 8, 263, 657, 37, 580]),\n",
              " (9265, [313, 430, 1382, 324, 1286, 344, 837, 2761, 907, 408]),\n",
              " (9278, [12978, 80, 66, 8, 36, 181, 301, 2094, 2406, 77]),\n",
              " (9287, [94, 13057, 5338, 11524, 7303, 4782, 3, 15305, 17067, 2640]),\n",
              " (9289, [434, 1511, 513, 10001, 3602, 1433, 289, 8994, 4288, 3289]),\n",
              " (9297, [1411, 1535, 1618, 1715, 9, 13, 1767, 29, 533, 16]),\n",
              " (9298, [264, 11, 17, 90, 97, 50, 263, 47, 1028, 739]),\n",
              " (9305, [34, 1090, 1776, 299, 733, 3609, 897, 262, 133, 653]),\n",
              " (9306, [39, 76, 764, 636, 29, 43, 2, 5, 2030, 66]),\n",
              " (9317, [662, 279, 80, 265, 88, 1534, 1715, 1535, 401, 36]),\n",
              " (9318, [342, 22, 486, 5154, 4, 2236, 48, 4706, 194, 11655]),\n",
              " (9335, [249, 299, 1273, 41, 40, 799, 55, 1239, 389, 388]),\n",
              " (9341, [214, 841, 203, 1537, 108, 358, 1369, 548, 301, 211]),\n",
              " (9343, [66, 1, 154, 38, 36, 90, 155, 298, 203, 116]),\n",
              " (9345, [66, 8, 60, 2, 465, 175, 792, 191, 22, 414]),\n",
              " (9363, [15, 101, 36, 1, 17, 42, 270, 52, 28, 47]),\n",
              " (9365, [138, 32, 8, 11419, 4, 2, 746, 17, 498, 77]),\n",
              " (9383, [39, 55, 1125, 1535, 624, 828, 8731, 7193, 7559, 8310]),\n",
              " ...]"
            ]
          },
          "metadata": {},
          "execution_count": 32
        }
      ],
      "source": [
        "submission"
      ]
    },
    {
      "cell_type": "code",
      "execution_count": 33,
      "metadata": {
        "id": "AuuEFD83-OVp"
      },
      "outputs": [],
      "source": [
        "def write_submission(submissions):\n",
        "    with open(\"./submission.csv\", \"w\") as f:\n",
        "        f.write(\"user_id,item_list\\n\")\n",
        "        for user_id, items in submissions:\n",
        "            f.write(f\"{user_id},{' '.join([str(item) for item in items])}\\n\")\n"
      ]
    },
    {
      "cell_type": "code",
      "execution_count": 34,
      "metadata": {
        "id": "tQdu0QIw-VSU",
        "colab": {
          "base_uri": "https://localhost:8080/"
        },
        "outputId": "8b7f6ae6-cbfc-4e49-8669-a370a1cb43b2"
      },
      "outputs": [
        {
          "output_type": "stream",
          "name": "stdout",
          "text": [
            "/gdrive/MyDrive/RECSYS\n"
          ]
        }
      ],
      "source": [
        "%cd /gdrive/MyDrive/RECSYS\n",
        "write_submission(submission)"
      ]
    },
    {
      "cell_type": "code",
      "execution_count": null,
      "metadata": {
        "id": "Zo6KGGEnLS1P"
      },
      "outputs": [],
      "source": []
    }
  ],
  "metadata": {
    "colab": {
      "provenance": [],
      "collapsed_sections": [
        "cSLGYEz0xKvB",
        "eCC3N4HIxjjH",
        "GnP3Qb-nzW3F",
        "1IB-Aujzz9OV",
        "GqvLoWjYOUXJ",
        "0YNKBGi69yjT"
      ]
    },
    "kernelspec": {
      "display_name": "Python 3",
      "name": "python3"
    },
    "language_info": {
      "name": "python"
    }
  },
  "nbformat": 4,
  "nbformat_minor": 0
}