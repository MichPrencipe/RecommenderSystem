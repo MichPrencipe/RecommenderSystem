{
  "cells": [
    {
      "cell_type": "markdown",
      "metadata": {
        "id": "cSLGYEz0xKvB"
      },
      "source": [
        "#Connect to drive"
      ]
    },
    {
      "cell_type": "code",
      "source": [
        "!git clone https://github.com/MaurizioFD/RecSys_Course_AT_PoliMi\n",
        "%cd RecSys_Course_AT_PoliMi\n",
        "!pip install -r requirements.txt\n",
        "!python run_compile_all_cython.py"
      ],
      "metadata": {
        "colab": {
          "base_uri": "https://localhost:8080/"
        },
        "id": "_8qb-w0XLoKs",
        "outputId": "41c378c6-c220-4404-d579-c04ffc356b72"
      },
      "execution_count": 1,
      "outputs": [
        {
          "output_type": "stream",
          "name": "stdout",
          "text": [
            "Cloning into 'RecSys_Course_AT_PoliMi'...\n",
            "remote: Enumerating objects: 1493, done.\u001b[K\n",
            "remote: Counting objects: 100% (238/238), done.\u001b[K\n",
            "remote: Compressing objects: 100% (139/139), done.\u001b[K\n",
            "remote: Total 1493 (delta 110), reused 225 (delta 97), pack-reused 1255\u001b[K\n",
            "Receiving objects: 100% (1493/1493), 50.31 MiB | 25.63 MiB/s, done.\n",
            "Resolving deltas: 100% (841/841), done.\n",
            "/content/RecSys_Course_AT_PoliMi\n",
            "Collecting Cython==0.29.23 (from -r requirements.txt (line 1))\n",
            "  Downloading Cython-0.29.23-py2.py3-none-any.whl (978 kB)\n",
            "\u001b[2K     \u001b[90m━━━━━━━━━━━━━━━━━━━━━━━━━━━━━━━━━━━━━━━━\u001b[0m \u001b[32m978.0/978.0 kB\u001b[0m \u001b[31m3.3 MB/s\u001b[0m eta \u001b[36m0:00:00\u001b[0m\n",
            "\u001b[?25hCollecting h5py==3.1.0 (from -r requirements.txt (line 2))\n",
            "  Downloading h5py-3.1.0.tar.gz (371 kB)\n",
            "\u001b[2K     \u001b[90m━━━━━━━━━━━━━━━━━━━━━━━━━━━━━━━━━━━━━━━━\u001b[0m \u001b[32m371.4/371.4 kB\u001b[0m \u001b[31m28.6 MB/s\u001b[0m eta \u001b[36m0:00:00\u001b[0m\n",
            "\u001b[?25h  Installing build dependencies ... \u001b[?25l\u001b[?25hdone\n",
            "  Getting requirements to build wheel ... \u001b[?25l\u001b[?25hdone\n",
            "  \u001b[1;31merror\u001b[0m: \u001b[1msubprocess-exited-with-error\u001b[0m\n",
            "  \n",
            "  \u001b[31m×\u001b[0m \u001b[32mpip subprocess to install backend dependencies\u001b[0m did not run successfully.\n",
            "  \u001b[31m│\u001b[0m exit code: \u001b[1;36m1\u001b[0m\n",
            "  \u001b[31m╰─>\u001b[0m See above for output.\n",
            "  \n",
            "  \u001b[1;35mnote\u001b[0m: This error originates from a subprocess, and is likely not a problem with pip.\n",
            "  Installing backend dependencies ... \u001b[?25l\u001b[?25herror\n",
            "\u001b[1;31merror\u001b[0m: \u001b[1msubprocess-exited-with-error\u001b[0m\n",
            "\n",
            "\u001b[31m×\u001b[0m \u001b[32mpip subprocess to install backend dependencies\u001b[0m did not run successfully.\n",
            "\u001b[31m│\u001b[0m exit code: \u001b[1;36m1\u001b[0m\n",
            "\u001b[31m╰─>\u001b[0m See above for output.\n",
            "\n",
            "\u001b[1;35mnote\u001b[0m: This error originates from a subprocess, and is likely not a problem with pip.\n",
            "run_compile_all_cython: Found 10 Cython files in 4 folders...\n",
            "run_compile_all_cython: All files will be compiled using your current python environment: '/usr/bin/python3'\n",
            "Compiling [1/10]: MatrixFactorizationImpressions_Cython_Epoch.pyx... \n",
            "In file included from \u001b[01m\u001b[K/usr/local/lib/python3.10/dist-packages/numpy/core/include/numpy/ndarraytypes.h:1948\u001b[m\u001b[K,\n",
            "                 from \u001b[01m\u001b[K/usr/local/lib/python3.10/dist-packages/numpy/core/include/numpy/ndarrayobject.h:12\u001b[m\u001b[K,\n",
            "                 from \u001b[01m\u001b[K/usr/local/lib/python3.10/dist-packages/numpy/core/include/numpy/arrayobject.h:5\u001b[m\u001b[K,\n",
            "                 from \u001b[01m\u001b[KMatrixFactorizationImpressions_Cython_Epoch.c:1217\u001b[m\u001b[K:\n",
            "\u001b[01m\u001b[K/usr/local/lib/python3.10/dist-packages/numpy/core/include/numpy/npy_1_7_deprecated_api.h:17:2:\u001b[m\u001b[K \u001b[01;35m\u001b[Kwarning: \u001b[m\u001b[K#warning \"Using deprecated NumPy API, disable it with \" \"#define NPY_NO_DEPRECATED_API NPY_1_7_API_VERSION\" [\u001b[01;35m\u001b[K\u001b]8;;https://gcc.gnu.org/onlinedocs/gcc/Warning-Options.html#index-Wcpp\u0007-Wcpp\u001b]8;;\u0007\u001b[m\u001b[K]\n",
            "   17 | #\u001b[01;35m\u001b[Kwarning\u001b[m\u001b[K \"Using deprecated NumPy API, disable it with \" \\\n",
            "      |  \u001b[01;35m\u001b[K^~~~~~~\u001b[m\u001b[K\n",
            "\u001b[01m\u001b[KMatrixFactorizationImpressions_Cython_Epoch.c:\u001b[m\u001b[K In function ‘\u001b[01m\u001b[K__pyx_f_43MatrixFactorizationImpressions_Cython_Epoch_32MatrixFactorization_Cython_Epoch_sampleBPR_Cython\u001b[m\u001b[K’:\n",
            "\u001b[01m\u001b[KMatrixFactorizationImpressions_Cython_Epoch.c:30373:17:\u001b[m\u001b[K \u001b[01;35m\u001b[Kwarning: \u001b[m\u001b[K‘\u001b[01m\u001b[K__pyx_v_start_pos_impression_items\u001b[m\u001b[K’ may be used uninitialized in this function [\u001b[01;35m\u001b[K\u001b]8;;https://gcc.gnu.org/onlinedocs/gcc/Warning-Options.html#index-Wmaybe-uninitialized\u0007-Wmaybe-uninitialized\u001b]8;;\u0007\u001b[m\u001b[K]\n",
            "30373 |       \u001b[01;35m\u001b[K__pyx_t_4 = (__pyx_v_start_pos_impression_items + __pyx_v_index)\u001b[m\u001b[K;\n",
            "      |       \u001b[01;35m\u001b[K~~~~~~~~~~^~~~~~~~~~~~~~~~~~~~~~~~~~~~~~~~~~~~~~~~~~~~~~~~~~~~~~\u001b[m\u001b[K\n",
            "\u001b[01m\u001b[KMatrixFactorizationImpressions_Cython_Epoch.c:\u001b[m\u001b[K In function ‘\u001b[01m\u001b[K__pyx_pf_43MatrixFactorizationImpressions_Cython_Epoch_32MatrixFactorization_Cython_Epoch_10epochIteration_Cython_ASY_SVD_SGD\u001b[m\u001b[K’:\n",
            "\u001b[01m\u001b[KMatrixFactorizationImpressions_Cython_Epoch.c:26107:66:\u001b[m\u001b[K \u001b[01;35m\u001b[Kwarning: \u001b[m\u001b[K‘\u001b[01m\u001b[K__pyx_v_end_pos_seen_items\u001b[m\u001b[K’ may be used uninitialized in this function [\u001b[01;35m\u001b[K\u001b]8;;https://gcc.gnu.org/onlinedocs/gcc/Warning-Options.html#index-Wmaybe-uninitialized\u0007-Wmaybe-uninitialized\u001b]8;;\u0007\u001b[m\u001b[K]\n",
            "26107 |       for (__pyx_t_21 = __pyx_v_start_pos_seen_items; \u001b[01;35m\u001b[K__pyx_t_21 < __pyx_t_20\u001b[m\u001b[K; __pyx_t_21+=1) {\n",
            "      |                                                       \u001b[01;35m\u001b[K~~~~~~~~~~~^~~~~~~~~~~~\u001b[m\u001b[K\n",
            "\u001b[01m\u001b[KMatrixFactorizationImpressions_Cython_Epoch.c:26107:66:\u001b[m\u001b[K \u001b[01;35m\u001b[Kwarning: \u001b[m\u001b[K‘\u001b[01m\u001b[K__pyx_v_start_pos_seen_items\u001b[m\u001b[K’ may be used uninitialized in this function [\u001b[01;35m\u001b[K\u001b]8;;https://gcc.gnu.org/onlinedocs/gcc/Warning-Options.html#index-Wmaybe-uninitialized\u0007-Wmaybe-uninitialized\u001b]8;;\u0007\u001b[m\u001b[K]\n",
            "/usr/local/lib/python3.10/dist-packages/Cython/Compiler/Main.py:381: FutureWarning: Cython directive 'language_level' not set, using '3str' for now (Py3). This has changed from earlier releases! File: /content/RecSys_Course_AT_PoliMi/Recommenders/MatrixFactorization/Cython/MatrixFactorizationImpressions_Cython_Epoch.pyx\n",
            "  tree = Parsing.p_module(s, pxd, full_module_name)\n",
            "Compiling [1/10]: MatrixFactorizationImpressions_Cython_Epoch.pyx... PASS\n",
            "\n",
            "Compiling [2/10]: MatrixFactorization_Cython_Epoch.pyx... \n",
            "In file included from \u001b[01m\u001b[K/usr/local/lib/python3.10/dist-packages/numpy/core/include/numpy/ndarraytypes.h:1948\u001b[m\u001b[K,\n",
            "                 from \u001b[01m\u001b[K/usr/local/lib/python3.10/dist-packages/numpy/core/include/numpy/ndarrayobject.h:12\u001b[m\u001b[K,\n",
            "                 from \u001b[01m\u001b[K/usr/local/lib/python3.10/dist-packages/numpy/core/include/numpy/arrayobject.h:5\u001b[m\u001b[K,\n",
            "                 from \u001b[01m\u001b[KMatrixFactorization_Cython_Epoch.c:1217\u001b[m\u001b[K:\n",
            "\u001b[01m\u001b[K/usr/local/lib/python3.10/dist-packages/numpy/core/include/numpy/npy_1_7_deprecated_api.h:17:2:\u001b[m\u001b[K \u001b[01;35m\u001b[Kwarning: \u001b[m\u001b[K#warning \"Using deprecated NumPy API, disable it with \" \"#define NPY_NO_DEPRECATED_API NPY_1_7_API_VERSION\" [\u001b[01;35m\u001b[K\u001b]8;;https://gcc.gnu.org/onlinedocs/gcc/Warning-Options.html#index-Wcpp\u0007-Wcpp\u001b]8;;\u0007\u001b[m\u001b[K]\n",
            "   17 | #\u001b[01;35m\u001b[Kwarning\u001b[m\u001b[K \"Using deprecated NumPy API, disable it with \" \\\n",
            "      |  \u001b[01;35m\u001b[K^~~~~~~\u001b[m\u001b[K\n",
            "\u001b[01m\u001b[KMatrixFactorization_Cython_Epoch.c:\u001b[m\u001b[K In function ‘\u001b[01m\u001b[K__pyx_pf_32MatrixFactorization_Cython_Epoch_32MatrixFactorization_Cython_Epoch_10epochIteration_Cython_ASY_SVD_SGD\u001b[m\u001b[K’:\n",
            "\u001b[01m\u001b[KMatrixFactorization_Cython_Epoch.c:26251:68:\u001b[m\u001b[K \u001b[01;35m\u001b[Kwarning: \u001b[m\u001b[K‘\u001b[01m\u001b[K__pyx_v_end_pos_seen_items\u001b[m\u001b[K’ may be used uninitialized in this function [\u001b[01;35m\u001b[K\u001b]8;;https://gcc.gnu.org/onlinedocs/gcc/Warning-Options.html#index-Wmaybe-uninitialized\u0007-Wmaybe-uninitialized\u001b]8;;\u0007\u001b[m\u001b[K]\n",
            "26251 |         for (__pyx_t_21 = __pyx_v_start_pos_seen_items; \u001b[01;35m\u001b[K__pyx_t_21 < __pyx_t_20\u001b[m\u001b[K; __pyx_t_21+=1) {\n",
            "      |                                                         \u001b[01;35m\u001b[K~~~~~~~~~~~^~~~~~~~~~~~\u001b[m\u001b[K\n",
            "\u001b[01m\u001b[KMatrixFactorization_Cython_Epoch.c:26251:68:\u001b[m\u001b[K \u001b[01;35m\u001b[Kwarning: \u001b[m\u001b[K‘\u001b[01m\u001b[K__pyx_v_start_pos_seen_items\u001b[m\u001b[K’ may be used uninitialized in this function [\u001b[01;35m\u001b[K\u001b]8;;https://gcc.gnu.org/onlinedocs/gcc/Warning-Options.html#index-Wmaybe-uninitialized\u0007-Wmaybe-uninitialized\u001b]8;;\u0007\u001b[m\u001b[K]\n",
            "/usr/local/lib/python3.10/dist-packages/Cython/Compiler/Main.py:381: FutureWarning: Cython directive 'language_level' not set, using '3str' for now (Py3). This has changed from earlier releases! File: /content/RecSys_Course_AT_PoliMi/Recommenders/MatrixFactorization/Cython/MatrixFactorization_Cython_Epoch.pyx\n",
            "  tree = Parsing.p_module(s, pxd, full_module_name)\n",
            "Compiling [2/10]: MatrixFactorization_Cython_Epoch.pyx... PASS\n",
            "\n",
            "Compiling [3/10]: Compute_Similarity_Cython.pyx... \n",
            "warning: Compute_Similarity_Cython.pyx:21:0: The 'IF' statement is deprecated and will be removed in a future Cython version. Consider using runtime conditions or C macros instead. See https://github.com/cython/cython/issues/4310\n",
            "In file included from \u001b[01m\u001b[K/usr/local/lib/python3.10/dist-packages/numpy/core/include/numpy/ndarraytypes.h:1948\u001b[m\u001b[K,\n",
            "                 from \u001b[01m\u001b[K/usr/local/lib/python3.10/dist-packages/numpy/core/include/numpy/ndarrayobject.h:12\u001b[m\u001b[K,\n",
            "                 from \u001b[01m\u001b[K/usr/local/lib/python3.10/dist-packages/numpy/core/include/numpy/arrayobject.h:5\u001b[m\u001b[K,\n",
            "                 from \u001b[01m\u001b[KCompute_Similarity_Cython.c:1217\u001b[m\u001b[K:\n",
            "\u001b[01m\u001b[K/usr/local/lib/python3.10/dist-packages/numpy/core/include/numpy/npy_1_7_deprecated_api.h:17:2:\u001b[m\u001b[K \u001b[01;35m\u001b[Kwarning: \u001b[m\u001b[K#warning \"Using deprecated NumPy API, disable it with \" \"#define NPY_NO_DEPRECATED_API NPY_1_7_API_VERSION\" [\u001b[01;35m\u001b[K\u001b]8;;https://gcc.gnu.org/onlinedocs/gcc/Warning-Options.html#index-Wcpp\u0007-Wcpp\u001b]8;;\u0007\u001b[m\u001b[K]\n",
            "   17 | #\u001b[01;35m\u001b[Kwarning\u001b[m\u001b[K \"Using deprecated NumPy API, disable it with \" \\\n",
            "      |  \u001b[01;35m\u001b[K^~~~~~~\u001b[m\u001b[K\n",
            "/usr/local/lib/python3.10/dist-packages/Cython/Compiler/Main.py:381: FutureWarning: Cython directive 'language_level' not set, using '3str' for now (Py3). This has changed from earlier releases! File: /content/RecSys_Course_AT_PoliMi/Recommenders/Similarity/Cython/Compute_Similarity_Cython.pyx\n",
            "  tree = Parsing.p_module(s, pxd, full_module_name)\n",
            "warning: Compute_Similarity_Cython.pyx:21:0: The 'IF' statement is deprecated and will be removed in a future Cython version. Consider using runtime conditions or C macros instead. See https://github.com/cython/cython/issues/4310\n",
            "Compiling [3/10]: Compute_Similarity_Cython.pyx... PASS\n",
            "\n",
            "Compiling [4/10]: SLIM_BPR_Cython_Epoch.pyx... \n",
            "warning: SLIM_BPR_Cython_Epoch.pyx:24:0: The 'IF' statement is deprecated and will be removed in a future Cython version. Consider using runtime conditions or C macros instead. See https://github.com/cython/cython/issues/4310\n",
            "warning: SLIM_BPR_Cython_Epoch.pyx:632:34: Non-trivial type declarators in shared declaration (e.g. mix of pointers and values). Each pointer declaration should be on its own line.\n",
            "warning: SLIM_BPR_Cython_Epoch.pyx:632:66: Non-trivial type declarators in shared declaration (e.g. mix of pointers and values). Each pointer declaration should be on its own line.\n",
            "warning: SLIM_BPR_Cython_Epoch.pyx:817:35: Non-trivial type declarators in shared declaration (e.g. mix of pointers and values). Each pointer declaration should be on its own line.\n",
            "warning: SLIM_BPR_Cython_Epoch.pyx:817:52: Non-trivial type declarators in shared declaration (e.g. mix of pointers and values). Each pointer declaration should be on its own line.\n",
            "warning: SLIM_BPR_Cython_Epoch.pyx:916:35: Non-trivial type declarators in shared declaration (e.g. mix of pointers and values). Each pointer declaration should be on its own line.\n",
            "warning: SLIM_BPR_Cython_Epoch.pyx:916:53: Non-trivial type declarators in shared declaration (e.g. mix of pointers and values). Each pointer declaration should be on its own line.\n",
            "warning: SLIM_BPR_Cython_Epoch.pyx:916:69: Non-trivial type declarators in shared declaration (e.g. mix of pointers and values). Each pointer declaration should be on its own line.\n",
            "warning: SLIM_BPR_Cython_Epoch.pyx:1051:35: Non-trivial type declarators in shared declaration (e.g. mix of pointers and values). Each pointer declaration should be on its own line.\n",
            "warning: SLIM_BPR_Cython_Epoch.pyx:1051:42: Non-trivial type declarators in shared declaration (e.g. mix of pointers and values). Each pointer declaration should be on its own line.\n",
            "warning: SLIM_BPR_Cython_Epoch.pyx:1052:35: Non-trivial type declarators in shared declaration (e.g. mix of pointers and values). Each pointer declaration should be on its own line.\n",
            "warning: SLIM_BPR_Cython_Epoch.pyx:1052:53: Non-trivial type declarators in shared declaration (e.g. mix of pointers and values). Each pointer declaration should be on its own line.\n",
            "\n",
            "Error compiling Cython file:\n",
            "------------------------------------------------------------\n",
            "...\n",
            "            vector_pointer_to_list_elements[index].head = current_element\n",
            "            current_element = current_element.higher\n",
            "\n",
            "\n",
            "        # Sort array elements on their data field\n",
            "        qsort(vector_pointer_to_list_elements, list_length, sizeof(head_pointer_tree_s), compare_struct_on_data)\n",
            "                                                                                         ^\n",
            "------------------------------------------------------------\n",
            "\n",
            "SLIM_BPR_Cython_Epoch.pyx:990:89: Cannot assign type 'int (const void *, const void *) except? -1' to 'int (*)(const_void *, const_void *) noexcept'. Exception values are incompatible. Suggest adding 'noexcept' to type 'int (const void *, const void *) except? -1'.\n",
            "\n",
            "Error compiling Cython file:\n",
            "------------------------------------------------------------\n",
            "...\n",
            "        # Sort array elements on their data field\n",
            "        qsort(vector_pointer_to_list_elements, list_length, sizeof(head_pointer_tree_s), compare_struct_on_data)\n",
            "\n",
            "        # Sort only the TopK according to their column field\n",
            "        # Sort is from lower to higher, therefore the elements to be considered are from len-topK to len\n",
            "        qsort(&vector_pointer_to_list_elements[list_length-TopK], TopK, sizeof(head_pointer_tree_s), compare_struct_on_column)\n",
            "                                                                                                     ^\n",
            "------------------------------------------------------------\n",
            "\n",
            "SLIM_BPR_Cython_Epoch.pyx:994:101: Cannot assign type 'int (const void *, const void *) except? -1' to 'int (*)(const_void *, const_void *) noexcept'. Exception values are incompatible. Suggest adding 'noexcept' to type 'int (const void *, const void *) except? -1'.\n",
            "Traceback (most recent call last):\n",
            "  File \"/content/RecSys_Course_AT_PoliMi/CythonCompiler/compile_script.py\", line 48, in <module>\n",
            "    setup(\n",
            "  File \"/usr/local/lib/python3.10/dist-packages/setuptools/__init__.py\", line 107, in setup\n",
            "    return distutils.core.setup(**attrs)\n",
            "  File \"/usr/local/lib/python3.10/dist-packages/setuptools/_distutils/core.py\", line 185, in setup\n",
            "    return run_commands(dist)\n",
            "  File \"/usr/local/lib/python3.10/dist-packages/setuptools/_distutils/core.py\", line 201, in run_commands\n",
            "    dist.run_commands()\n",
            "  File \"/usr/local/lib/python3.10/dist-packages/setuptools/_distutils/dist.py\", line 969, in run_commands\n",
            "    self.run_command(cmd)\n",
            "  File \"/usr/local/lib/python3.10/dist-packages/setuptools/dist.py\", line 1244, in run_command\n",
            "    super().run_command(command)\n",
            "  File \"/usr/local/lib/python3.10/dist-packages/setuptools/_distutils/dist.py\", line 988, in run_command\n",
            "    cmd_obj.run()\n",
            "  File \"/usr/local/lib/python3.10/dist-packages/setuptools/_distutils/command/build_ext.py\", line 345, in run\n",
            "    self.build_extensions()\n",
            "  File \"/usr/local/lib/python3.10/dist-packages/setuptools/_distutils/command/build_ext.py\", line 467, in build_extensions\n",
            "    self._build_extensions_serial()\n",
            "  File \"/usr/local/lib/python3.10/dist-packages/setuptools/_distutils/command/build_ext.py\", line 493, in _build_extensions_serial\n",
            "    self.build_extension(ext)\n",
            "  File \"/usr/local/lib/python3.10/dist-packages/Cython/Distutils/build_ext.py\", line 130, in build_extension\n",
            "    new_ext = cythonize(\n",
            "  File \"/usr/local/lib/python3.10/dist-packages/Cython/Build/Dependencies.py\", line 1154, in cythonize\n",
            "    cythonize_one(*args)\n",
            "  File \"/usr/local/lib/python3.10/dist-packages/Cython/Build/Dependencies.py\", line 1321, in cythonize_one\n",
            "    raise CompileError(None, pyx_file)\n",
            "Cython.Compiler.Errors.CompileError: SLIM_BPR_Cython_Epoch.pyx\n",
            "Traceback (most recent call last):\n",
            "  File \"/content/RecSys_Course_AT_PoliMi/run_compile_all_cython.py\", line 59, in <module>\n",
            "    run_compile_subprocess(file_path, [file_name])\n",
            "  File \"/content/RecSys_Course_AT_PoliMi/CythonCompiler/run_compile_subprocess.py\", line 51, in run_compile_subprocess\n",
            "    raise exc\n",
            "  File \"/content/RecSys_Course_AT_PoliMi/CythonCompiler/run_compile_subprocess.py\", line 32, in run_compile_subprocess\n",
            "    output = subprocess.check_output(' '.join(command),\n",
            "  File \"/usr/lib/python3.10/subprocess.py\", line 421, in check_output\n",
            "    return run(*popenargs, stdout=PIPE, timeout=timeout, check=True,\n",
            "  File \"/usr/lib/python3.10/subprocess.py\", line 526, in run\n",
            "    raise CalledProcessError(retcode, process.args,\n",
            "subprocess.CalledProcessError: Command '/usr/bin/python3 /content/RecSys_Course_AT_PoliMi/CythonCompiler/compile_script.py SLIM_BPR_Cython_Epoch.pyx build_ext --inplace' returned non-zero exit status 1.\n",
            "Compiling [4/10]: SLIM_BPR_Cython_Epoch.pyx... FAIL: Command '/usr/bin/python3 /content/RecSys_Course_AT_PoliMi/CythonCompiler/compile_script.py SLIM_BPR_Cython_Epoch.pyx build_ext --inplace' returned non-zero exit status 1.\n",
            "\n",
            "Compiling [5/10]: Sparse_Matrix_Tree_CSR.pyx... \n",
            "warning: Sparse_Matrix_Tree_CSR.pyx:132:34: Non-trivial type declarators in shared declaration (e.g. mix of pointers and values). Each pointer declaration should be on its own line.\n",
            "warning: Sparse_Matrix_Tree_CSR.pyx:132:66: Non-trivial type declarators in shared declaration (e.g. mix of pointers and values). Each pointer declaration should be on its own line.\n",
            "warning: Sparse_Matrix_Tree_CSR.pyx:343:35: Non-trivial type declarators in shared declaration (e.g. mix of pointers and values). Each pointer declaration should be on its own line.\n",
            "warning: Sparse_Matrix_Tree_CSR.pyx:343:52: Non-trivial type declarators in shared declaration (e.g. mix of pointers and values). Each pointer declaration should be on its own line.\n",
            "warning: Sparse_Matrix_Tree_CSR.pyx:442:35: Non-trivial type declarators in shared declaration (e.g. mix of pointers and values). Each pointer declaration should be on its own line.\n",
            "warning: Sparse_Matrix_Tree_CSR.pyx:442:53: Non-trivial type declarators in shared declaration (e.g. mix of pointers and values). Each pointer declaration should be on its own line.\n",
            "warning: Sparse_Matrix_Tree_CSR.pyx:442:69: Non-trivial type declarators in shared declaration (e.g. mix of pointers and values). Each pointer declaration should be on its own line.\n",
            "warning: Sparse_Matrix_Tree_CSR.pyx:577:35: Non-trivial type declarators in shared declaration (e.g. mix of pointers and values). Each pointer declaration should be on its own line.\n",
            "warning: Sparse_Matrix_Tree_CSR.pyx:577:42: Non-trivial type declarators in shared declaration (e.g. mix of pointers and values). Each pointer declaration should be on its own line.\n",
            "warning: Sparse_Matrix_Tree_CSR.pyx:578:35: Non-trivial type declarators in shared declaration (e.g. mix of pointers and values). Each pointer declaration should be on its own line.\n",
            "warning: Sparse_Matrix_Tree_CSR.pyx:578:53: Non-trivial type declarators in shared declaration (e.g. mix of pointers and values). Each pointer declaration should be on its own line.\n",
            "\n",
            "Error compiling Cython file:\n",
            "------------------------------------------------------------\n",
            "...\n",
            "            vector_pointer_to_list_elements[index].head = current_element\n",
            "            current_element = current_element.higher\n",
            "\n",
            "\n",
            "        # Sort array elements on their data field\n",
            "        qsort(vector_pointer_to_list_elements, list_length, sizeof(head_pointer_tree_s), compare_struct_on_data)\n",
            "                                                                                         ^\n",
            "------------------------------------------------------------\n",
            "\n",
            "Sparse_Matrix_Tree_CSR.pyx:516:89: Cannot assign type 'int (const void *, const void *) except? -1' to 'int (*)(const_void *, const_void *) noexcept'. Exception values are incompatible. Suggest adding 'noexcept' to type 'int (const void *, const void *) except? -1'.\n",
            "\n",
            "Error compiling Cython file:\n",
            "------------------------------------------------------------\n",
            "...\n",
            "        # Sort array elements on their data field\n",
            "        qsort(vector_pointer_to_list_elements, list_length, sizeof(head_pointer_tree_s), compare_struct_on_data)\n",
            "\n",
            "        # Sort only the TopK according to their column field\n",
            "        # Sort is from lower to higher, therefore the elements to be considered are from len-topK to len\n",
            "        qsort(&vector_pointer_to_list_elements[list_length-TopK], TopK, sizeof(head_pointer_tree_s), compare_struct_on_column)\n",
            "                                                                                                     ^\n",
            "------------------------------------------------------------\n",
            "\n",
            "Sparse_Matrix_Tree_CSR.pyx:520:101: Cannot assign type 'int (const void *, const void *) except? -1' to 'int (*)(const_void *, const_void *) noexcept'. Exception values are incompatible. Suggest adding 'noexcept' to type 'int (const void *, const void *) except? -1'.\n",
            "Traceback (most recent call last):\n",
            "  File \"/content/RecSys_Course_AT_PoliMi/CythonCompiler/compile_script.py\", line 48, in <module>\n",
            "    setup(\n",
            "  File \"/usr/local/lib/python3.10/dist-packages/setuptools/__init__.py\", line 107, in setup\n",
            "    return distutils.core.setup(**attrs)\n",
            "  File \"/usr/local/lib/python3.10/dist-packages/setuptools/_distutils/core.py\", line 185, in setup\n",
            "    return run_commands(dist)\n",
            "  File \"/usr/local/lib/python3.10/dist-packages/setuptools/_distutils/core.py\", line 201, in run_commands\n",
            "    dist.run_commands()\n",
            "  File \"/usr/local/lib/python3.10/dist-packages/setuptools/_distutils/dist.py\", line 969, in run_commands\n",
            "    self.run_command(cmd)\n",
            "  File \"/usr/local/lib/python3.10/dist-packages/setuptools/dist.py\", line 1244, in run_command\n",
            "    super().run_command(command)\n",
            "  File \"/usr/local/lib/python3.10/dist-packages/setuptools/_distutils/dist.py\", line 988, in run_command\n",
            "    cmd_obj.run()\n",
            "  File \"/usr/local/lib/python3.10/dist-packages/setuptools/_distutils/command/build_ext.py\", line 345, in run\n",
            "    self.build_extensions()\n",
            "  File \"/usr/local/lib/python3.10/dist-packages/setuptools/_distutils/command/build_ext.py\", line 467, in build_extensions\n",
            "    self._build_extensions_serial()\n",
            "  File \"/usr/local/lib/python3.10/dist-packages/setuptools/_distutils/command/build_ext.py\", line 493, in _build_extensions_serial\n",
            "    self.build_extension(ext)\n",
            "  File \"/usr/local/lib/python3.10/dist-packages/Cython/Distutils/build_ext.py\", line 130, in build_extension\n",
            "    new_ext = cythonize(\n",
            "  File \"/usr/local/lib/python3.10/dist-packages/Cython/Build/Dependencies.py\", line 1154, in cythonize\n",
            "    cythonize_one(*args)\n",
            "  File \"/usr/local/lib/python3.10/dist-packages/Cython/Build/Dependencies.py\", line 1321, in cythonize_one\n",
            "    raise CompileError(None, pyx_file)\n",
            "Cython.Compiler.Errors.CompileError: Sparse_Matrix_Tree_CSR.pyx\n",
            "Traceback (most recent call last):\n",
            "  File \"/content/RecSys_Course_AT_PoliMi/run_compile_all_cython.py\", line 59, in <module>\n",
            "    run_compile_subprocess(file_path, [file_name])\n",
            "  File \"/content/RecSys_Course_AT_PoliMi/CythonCompiler/run_compile_subprocess.py\", line 51, in run_compile_subprocess\n",
            "    raise exc\n",
            "  File \"/content/RecSys_Course_AT_PoliMi/CythonCompiler/run_compile_subprocess.py\", line 32, in run_compile_subprocess\n",
            "    output = subprocess.check_output(' '.join(command),\n",
            "  File \"/usr/lib/python3.10/subprocess.py\", line 421, in check_output\n",
            "    return run(*popenargs, stdout=PIPE, timeout=timeout, check=True,\n",
            "  File \"/usr/lib/python3.10/subprocess.py\", line 526, in run\n",
            "    raise CalledProcessError(retcode, process.args,\n",
            "subprocess.CalledProcessError: Command '/usr/bin/python3 /content/RecSys_Course_AT_PoliMi/CythonCompiler/compile_script.py Sparse_Matrix_Tree_CSR.pyx build_ext --inplace' returned non-zero exit status 1.\n",
            "Compiling [5/10]: Sparse_Matrix_Tree_CSR.pyx... FAIL: Command '/usr/bin/python3 /content/RecSys_Course_AT_PoliMi/CythonCompiler/compile_script.py Sparse_Matrix_Tree_CSR.pyx build_ext --inplace' returned non-zero exit status 1.\n",
            "\n",
            "Compiling [6/10]: Triangular_Matrix.pyx... \n",
            "warning: Triangular_Matrix.pyx:22:0: The 'IF' statement is deprecated and will be removed in a future Cython version. Consider using runtime conditions or C macros instead. See https://github.com/cython/cython/issues/4310\n",
            "In file included from \u001b[01m\u001b[K/usr/local/lib/python3.10/dist-packages/numpy/core/include/numpy/ndarraytypes.h:1948\u001b[m\u001b[K,\n",
            "                 from \u001b[01m\u001b[K/usr/local/lib/python3.10/dist-packages/numpy/core/include/numpy/ndarrayobject.h:12\u001b[m\u001b[K,\n",
            "                 from \u001b[01m\u001b[K/usr/local/lib/python3.10/dist-packages/numpy/core/include/numpy/arrayobject.h:5\u001b[m\u001b[K,\n",
            "                 from \u001b[01m\u001b[KTriangular_Matrix.c:1217\u001b[m\u001b[K:\n",
            "\u001b[01m\u001b[K/usr/local/lib/python3.10/dist-packages/numpy/core/include/numpy/npy_1_7_deprecated_api.h:17:2:\u001b[m\u001b[K \u001b[01;35m\u001b[Kwarning: \u001b[m\u001b[K#warning \"Using deprecated NumPy API, disable it with \" \"#define NPY_NO_DEPRECATED_API NPY_1_7_API_VERSION\" [\u001b[01;35m\u001b[K\u001b]8;;https://gcc.gnu.org/onlinedocs/gcc/Warning-Options.html#index-Wcpp\u0007-Wcpp\u001b]8;;\u0007\u001b[m\u001b[K]\n",
            "   17 | #\u001b[01;35m\u001b[Kwarning\u001b[m\u001b[K \"Using deprecated NumPy API, disable it with \" \\\n",
            "      |  \u001b[01;35m\u001b[K^~~~~~~\u001b[m\u001b[K\n",
            "In function ‘\u001b[01m\u001b[K__pyx_pf_17Triangular_Matrix_17Triangular_Matrix___init__\u001b[m\u001b[K’,\n",
            "    inlined from ‘\u001b[01m\u001b[K__pyx_pw_17Triangular_Matrix_17Triangular_Matrix_1__init__\u001b[m\u001b[K’ at \u001b[01m\u001b[KTriangular_Matrix.c:5532:13\u001b[m\u001b[K:\n",
            "\u001b[01m\u001b[KTriangular_Matrix.c:5590:43:\u001b[m\u001b[K \u001b[01;35m\u001b[Kwarning: \u001b[m\u001b[Kargument 1 value ‘\u001b[01m\u001b[K18446744073709551608\u001b[m\u001b[K’ exceeds maximum object size 9223372036854775807 [\u001b[01;35m\u001b[K\u001b]8;;https://gcc.gnu.org/onlinedocs/gcc/Warning-Options.html#index-Walloc-size-larger-than=\u0007-Walloc-size-larger-than=\u001b]8;;\u0007\u001b[m\u001b[K]\n",
            " 5590 |   __pyx_v_self->row_pointer = ((double **)\u001b[01;35m\u001b[Kmalloc((__pyx_v_self->num_rows * (sizeof(double *))))\u001b[m\u001b[K);\n",
            "      |                                           \u001b[01;35m\u001b[K^~~~~~~~~~~~~~~~~~~~~~~~~~~~~~~~~~~~~~~~~~~~~~~~~~~~~\u001b[m\u001b[K\n",
            "In file included from \u001b[01m\u001b[K/usr/include/python3.10/Python.h:34\u001b[m\u001b[K,\n",
            "                 from \u001b[01m\u001b[KTriangular_Matrix.c:41\u001b[m\u001b[K:\n",
            "\u001b[01m\u001b[KTriangular_Matrix.c:\u001b[m\u001b[K In function ‘\u001b[01m\u001b[K__pyx_pw_17Triangular_Matrix_17Triangular_Matrix_1__init__\u001b[m\u001b[K’:\n",
            "\u001b[01m\u001b[K/usr/include/stdlib.h:540:14:\u001b[m\u001b[K \u001b[01;36m\u001b[Knote: \u001b[m\u001b[Kin a call to allocation function ‘\u001b[01m\u001b[Kmalloc\u001b[m\u001b[K’ declared here\n",
            "  540 | extern void *\u001b[01;36m\u001b[Kmalloc\u001b[m\u001b[K (size_t __size) __THROW __attribute_malloc__\n",
            "      |              \u001b[01;36m\u001b[K^~~~~~\u001b[m\u001b[K\n",
            "/usr/local/lib/python3.10/dist-packages/Cython/Compiler/Main.py:381: FutureWarning: Cython directive 'language_level' not set, using '3str' for now (Py3). This has changed from earlier releases! File: /content/RecSys_Course_AT_PoliMi/Recommenders/SLIM/Cython/Triangular_Matrix.pyx\n",
            "  tree = Parsing.p_module(s, pxd, full_module_name)\n",
            "warning: Triangular_Matrix.pyx:22:0: The 'IF' statement is deprecated and will be removed in a future Cython version. Consider using runtime conditions or C macros instead. See https://github.com/cython/cython/issues/4310\n",
            "Compiling [6/10]: Triangular_Matrix.pyx... PASS\n",
            "\n",
            "Compiling [7/10]: CFW_DVV_Similarity_Cython_SGD.pyx... \n",
            "In file included from \u001b[01m\u001b[K/usr/local/lib/python3.10/dist-packages/numpy/core/include/numpy/ndarraytypes.h:1948\u001b[m\u001b[K,\n",
            "                 from \u001b[01m\u001b[K/usr/local/lib/python3.10/dist-packages/numpy/core/include/numpy/ndarrayobject.h:12\u001b[m\u001b[K,\n",
            "                 from \u001b[01m\u001b[K/usr/local/lib/python3.10/dist-packages/numpy/core/include/numpy/arrayobject.h:5\u001b[m\u001b[K,\n",
            "                 from \u001b[01m\u001b[KCFW_DVV_Similarity_Cython_SGD.c:1217\u001b[m\u001b[K:\n",
            "\u001b[01m\u001b[K/usr/local/lib/python3.10/dist-packages/numpy/core/include/numpy/npy_1_7_deprecated_api.h:17:2:\u001b[m\u001b[K \u001b[01;35m\u001b[Kwarning: \u001b[m\u001b[K#warning \"Using deprecated NumPy API, disable it with \" \"#define NPY_NO_DEPRECATED_API NPY_1_7_API_VERSION\" [\u001b[01;35m\u001b[K\u001b]8;;https://gcc.gnu.org/onlinedocs/gcc/Warning-Options.html#index-Wcpp\u0007-Wcpp\u001b]8;;\u0007\u001b[m\u001b[K]\n",
            "   17 | #\u001b[01;35m\u001b[Kwarning\u001b[m\u001b[K \"Using deprecated NumPy API, disable it with \" \\\n",
            "      |  \u001b[01;35m\u001b[K^~~~~~~\u001b[m\u001b[K\n",
            "/usr/local/lib/python3.10/dist-packages/Cython/Compiler/Main.py:381: FutureWarning: Cython directive 'language_level' not set, using '3str' for now (Py3). This has changed from earlier releases! File: /content/RecSys_Course_AT_PoliMi/Recommenders/FeatureWeighting/Cython/CFW_DVV_Similarity_Cython_SGD.pyx\n",
            "  tree = Parsing.p_module(s, pxd, full_module_name)\n",
            "Compiling [7/10]: CFW_DVV_Similarity_Cython_SGD.pyx... PASS\n",
            "\n",
            "Compiling [8/10]: HP3_Similarity_Cython_SGD.pyx... \n",
            "performance hint: HP3_Similarity_Cython_SGD.pyx:113:40: Index should be typed for more efficient access\n",
            "performance hint: HP3_Similarity_Cython_SGD.pyx:114:40: Index should be typed for more efficient access\n",
            "In file included from \u001b[01m\u001b[K/usr/local/lib/python3.10/dist-packages/numpy/core/include/numpy/ndarraytypes.h:1948\u001b[m\u001b[K,\n",
            "                 from \u001b[01m\u001b[K/usr/local/lib/python3.10/dist-packages/numpy/core/include/numpy/ndarrayobject.h:12\u001b[m\u001b[K,\n",
            "                 from \u001b[01m\u001b[K/usr/local/lib/python3.10/dist-packages/numpy/core/include/numpy/arrayobject.h:5\u001b[m\u001b[K,\n",
            "                 from \u001b[01m\u001b[KHP3_Similarity_Cython_SGD.c:1217\u001b[m\u001b[K:\n",
            "\u001b[01m\u001b[K/usr/local/lib/python3.10/dist-packages/numpy/core/include/numpy/npy_1_7_deprecated_api.h:17:2:\u001b[m\u001b[K \u001b[01;35m\u001b[Kwarning: \u001b[m\u001b[K#warning \"Using deprecated NumPy API, disable it with \" \"#define NPY_NO_DEPRECATED_API NPY_1_7_API_VERSION\" [\u001b[01;35m\u001b[K\u001b]8;;https://gcc.gnu.org/onlinedocs/gcc/Warning-Options.html#index-Wcpp\u0007-Wcpp\u001b]8;;\u0007\u001b[m\u001b[K]\n",
            "   17 | #\u001b[01;35m\u001b[Kwarning\u001b[m\u001b[K \"Using deprecated NumPy API, disable it with \" \\\n",
            "      |  \u001b[01;35m\u001b[K^~~~~~~\u001b[m\u001b[K\n",
            "\u001b[01m\u001b[KHP3_Similarity_Cython_SGD.c:\u001b[m\u001b[K In function ‘\u001b[01m\u001b[K__pyx_pf_25HP3_Similarity_Cython_SGD_25HP3_Similarity_Cython_SGD_4fit\u001b[m\u001b[K’:\n",
            "\u001b[01m\u001b[KHP3_Similarity_Cython_SGD.c:23633:55:\u001b[m\u001b[K \u001b[01;35m\u001b[Kwarning: \u001b[m\u001b[K‘\u001b[01m\u001b[K__pyx_v_sample_num\u001b[m\u001b[K’ may be used uninitialized in this function [\u001b[01;35m\u001b[K\u001b]8;;https://gcc.gnu.org/onlinedocs/gcc/Warning-Options.html#index-Wmaybe-uninitialized\u0007-Wmaybe-uninitialized\u001b]8;;\u0007\u001b[m\u001b[K]\n",
            "23633 |   __pyx_t_1 = PyFloat_FromDouble((__pyx_v_cum_loss / \u001b[01;35m\u001b[K((double)__pyx_v_sample_num)\u001b[m\u001b[K)); if (unlikely(!__pyx_t_1)) __PYX_ERR(0, 291, __pyx_L1_error)\n",
            "      |                                                      \u001b[01;35m\u001b[K~^~~~~~~~~~~~~~~~~~~~~~~~~~~\u001b[m\u001b[K\n",
            "/usr/local/lib/python3.10/dist-packages/Cython/Compiler/Main.py:381: FutureWarning: Cython directive 'language_level' not set, using '3str' for now (Py3). This has changed from earlier releases! File: /content/RecSys_Course_AT_PoliMi/Recommenders/FeatureWeighting/Cython/HP3_Similarity_Cython_SGD.pyx\n",
            "  tree = Parsing.p_module(s, pxd, full_module_name)\n",
            "performance hint: HP3_Similarity_Cython_SGD.pyx:113:40: Index should be typed for more efficient access\n",
            "performance hint: HP3_Similarity_Cython_SGD.pyx:114:40: Index should be typed for more efficient access\n",
            "Compiling [8/10]: HP3_Similarity_Cython_SGD.pyx... PASS\n",
            "\n",
            "Compiling [9/10]: CFW_D_Similarity_Cython_SGD.pyx... \n",
            "In file included from \u001b[01m\u001b[K/usr/local/lib/python3.10/dist-packages/numpy/core/include/numpy/ndarraytypes.h:1948\u001b[m\u001b[K,\n",
            "                 from \u001b[01m\u001b[K/usr/local/lib/python3.10/dist-packages/numpy/core/include/numpy/ndarrayobject.h:12\u001b[m\u001b[K,\n",
            "                 from \u001b[01m\u001b[K/usr/local/lib/python3.10/dist-packages/numpy/core/include/numpy/arrayobject.h:5\u001b[m\u001b[K,\n",
            "                 from \u001b[01m\u001b[KCFW_D_Similarity_Cython_SGD.c:1217\u001b[m\u001b[K:\n",
            "\u001b[01m\u001b[K/usr/local/lib/python3.10/dist-packages/numpy/core/include/numpy/npy_1_7_deprecated_api.h:17:2:\u001b[m\u001b[K \u001b[01;35m\u001b[Kwarning: \u001b[m\u001b[K#warning \"Using deprecated NumPy API, disable it with \" \"#define NPY_NO_DEPRECATED_API NPY_1_7_API_VERSION\" [\u001b[01;35m\u001b[K\u001b]8;;https://gcc.gnu.org/onlinedocs/gcc/Warning-Options.html#index-Wcpp\u0007-Wcpp\u001b]8;;\u0007\u001b[m\u001b[K]\n",
            "   17 | #\u001b[01;35m\u001b[Kwarning\u001b[m\u001b[K \"Using deprecated NumPy API, disable it with \" \\\n",
            "      |  \u001b[01;35m\u001b[K^~~~~~~\u001b[m\u001b[K\n",
            "\u001b[01m\u001b[KCFW_D_Similarity_Cython_SGD.c:\u001b[m\u001b[K In function ‘\u001b[01m\u001b[K__pyx_pf_27CFW_D_Similarity_Cython_SGD_27CFW_D_Similarity_Cython_SGD_6fit\u001b[m\u001b[K’:\n",
            "\u001b[01m\u001b[KCFW_D_Similarity_Cython_SGD.c:23364:55:\u001b[m\u001b[K \u001b[01;35m\u001b[Kwarning: \u001b[m\u001b[K‘\u001b[01m\u001b[K__pyx_v_sample_num\u001b[m\u001b[K’ may be used uninitialized in this function [\u001b[01;35m\u001b[K\u001b]8;;https://gcc.gnu.org/onlinedocs/gcc/Warning-Options.html#index-Wmaybe-uninitialized\u0007-Wmaybe-uninitialized\u001b]8;;\u0007\u001b[m\u001b[K]\n",
            "23364 |   __pyx_t_3 = PyFloat_FromDouble((__pyx_v_cum_loss / \u001b[01;35m\u001b[K((double)__pyx_v_sample_num)\u001b[m\u001b[K)); if (unlikely(!__pyx_t_3)) __PYX_ERR(0, 290, __pyx_L1_error)\n",
            "      |                                                      \u001b[01;35m\u001b[K~^~~~~~~~~~~~~~~~~~~~~~~~~~~\u001b[m\u001b[K\n",
            "/usr/local/lib/python3.10/dist-packages/Cython/Compiler/Main.py:381: FutureWarning: Cython directive 'language_level' not set, using '3str' for now (Py3). This has changed from earlier releases! File: /content/RecSys_Course_AT_PoliMi/Recommenders/FeatureWeighting/Cython/CFW_D_Similarity_Cython_SGD.pyx\n",
            "  tree = Parsing.p_module(s, pxd, full_module_name)\n",
            "Compiling [9/10]: CFW_D_Similarity_Cython_SGD.pyx... PASS\n",
            "\n",
            "Compiling [10/10]: FBSM_Rating_Cython_SGD.pyx... \n",
            "In file included from \u001b[01m\u001b[K/usr/local/lib/python3.10/dist-packages/numpy/core/include/numpy/ndarraytypes.h:1948\u001b[m\u001b[K,\n",
            "                 from \u001b[01m\u001b[K/usr/local/lib/python3.10/dist-packages/numpy/core/include/numpy/ndarrayobject.h:12\u001b[m\u001b[K,\n",
            "                 from \u001b[01m\u001b[K/usr/local/lib/python3.10/dist-packages/numpy/core/include/numpy/arrayobject.h:5\u001b[m\u001b[K,\n",
            "                 from \u001b[01m\u001b[KFBSM_Rating_Cython_SGD.c:1217\u001b[m\u001b[K:\n",
            "\u001b[01m\u001b[K/usr/local/lib/python3.10/dist-packages/numpy/core/include/numpy/npy_1_7_deprecated_api.h:17:2:\u001b[m\u001b[K \u001b[01;35m\u001b[Kwarning: \u001b[m\u001b[K#warning \"Using deprecated NumPy API, disable it with \" \"#define NPY_NO_DEPRECATED_API NPY_1_7_API_VERSION\" [\u001b[01;35m\u001b[K\u001b]8;;https://gcc.gnu.org/onlinedocs/gcc/Warning-Options.html#index-Wcpp\u0007-Wcpp\u001b]8;;\u0007\u001b[m\u001b[K]\n",
            "   17 | #\u001b[01;35m\u001b[Kwarning\u001b[m\u001b[K \"Using deprecated NumPy API, disable it with \" \\\n",
            "      |  \u001b[01;35m\u001b[K^~~~~~~\u001b[m\u001b[K\n",
            "\u001b[01m\u001b[KFBSM_Rating_Cython_SGD.c:\u001b[m\u001b[K In function ‘\u001b[01m\u001b[K__pyx_pf_22FBSM_Rating_Cython_SGD_22FBSM_Rating_Cython_SGD_2fit\u001b[m\u001b[K’:\n",
            "\u001b[01m\u001b[KFBSM_Rating_Cython_SGD.c:26598:55:\u001b[m\u001b[K \u001b[01;35m\u001b[Kwarning: \u001b[m\u001b[K‘\u001b[01m\u001b[K__pyx_v_num_sample\u001b[m\u001b[K’ may be used uninitialized in this function [\u001b[01;35m\u001b[K\u001b]8;;https://gcc.gnu.org/onlinedocs/gcc/Warning-Options.html#index-Wmaybe-uninitialized\u0007-Wmaybe-uninitialized\u001b]8;;\u0007\u001b[m\u001b[K]\n",
            "26598 |   __pyx_t_5 = PyFloat_FromDouble((__pyx_v_cum_loss / \u001b[01;35m\u001b[K((double)__pyx_v_num_sample)\u001b[m\u001b[K)); if (unlikely(!__pyx_t_5)) __PYX_ERR(0, 551, __pyx_L1_error)\n",
            "      |                                                      \u001b[01;35m\u001b[K~^~~~~~~~~~~~~~~~~~~~~~~~~~~\u001b[m\u001b[K\n",
            "/usr/local/lib/python3.10/dist-packages/Cython/Compiler/Main.py:381: FutureWarning: Cython directive 'language_level' not set, using '3str' for now (Py3). This has changed from earlier releases! File: /content/RecSys_Course_AT_PoliMi/Recommenders/FeatureWeighting/Cython/FBSM_Rating_Cython_SGD.pyx\n",
            "  tree = Parsing.p_module(s, pxd, full_module_name)\n",
            "Compiling [10/10]: FBSM_Rating_Cython_SGD.pyx... PASS\n",
            "\n",
            "run_compile_all_cython: Compilation finished. FAILS 2/10.\n",
            "Compilation log can be found here: './result_experiments/run_compile_all_cython.txt'\n"
          ]
        }
      ]
    },
    {
      "cell_type": "code",
      "execution_count": 2,
      "metadata": {
        "colab": {
          "base_uri": "https://localhost:8080/"
        },
        "id": "dRiWEqrkxI-A",
        "outputId": "ab830fe1-3e49-4a1c-d365-a2de85fe67d1"
      },
      "outputs": [
        {
          "output_type": "stream",
          "name": "stdout",
          "text": [
            "Mounted at /gdrive\n"
          ]
        }
      ],
      "source": [
        "from google.colab import drive\n",
        "drive.mount('/gdrive')"
      ]
    },
    {
      "cell_type": "markdown",
      "metadata": {
        "id": "eCC3N4HIxjjH"
      },
      "source": [
        "#Import Library"
      ]
    },
    {
      "cell_type": "code",
      "execution_count": 3,
      "metadata": {
        "colab": {
          "base_uri": "https://localhost:8080/"
        },
        "id": "_Cc4espPxNMj",
        "outputId": "3890be33-0233-485a-a8a2-48a972d07146"
      },
      "outputs": [
        {
          "output_type": "stream",
          "name": "stdout",
          "text": [
            "Collecting optuna\n",
            "  Downloading optuna-3.4.0-py3-none-any.whl (409 kB)\n",
            "\u001b[2K     \u001b[90m━━━━━━━━━━━━━━━━━━━━━━━━━━━━━━━━━━━━━━━━\u001b[0m \u001b[32m409.6/409.6 kB\u001b[0m \u001b[31m6.6 MB/s\u001b[0m eta \u001b[36m0:00:00\u001b[0m\n",
            "\u001b[?25hCollecting alembic>=1.5.0 (from optuna)\n",
            "  Downloading alembic-1.12.1-py3-none-any.whl (226 kB)\n",
            "\u001b[2K     \u001b[90m━━━━━━━━━━━━━━━━━━━━━━━━━━━━━━━━━━━━━━━━\u001b[0m \u001b[32m226.8/226.8 kB\u001b[0m \u001b[31m23.8 MB/s\u001b[0m eta \u001b[36m0:00:00\u001b[0m\n",
            "\u001b[?25hCollecting colorlog (from optuna)\n",
            "  Downloading colorlog-6.7.0-py2.py3-none-any.whl (11 kB)\n",
            "Requirement already satisfied: numpy in /usr/local/lib/python3.10/dist-packages (from optuna) (1.23.5)\n",
            "Requirement already satisfied: packaging>=20.0 in /usr/local/lib/python3.10/dist-packages (from optuna) (23.2)\n",
            "Requirement already satisfied: sqlalchemy>=1.3.0 in /usr/local/lib/python3.10/dist-packages (from optuna) (2.0.23)\n",
            "Requirement already satisfied: tqdm in /usr/local/lib/python3.10/dist-packages (from optuna) (4.66.1)\n",
            "Requirement already satisfied: PyYAML in /usr/local/lib/python3.10/dist-packages (from optuna) (6.0.1)\n",
            "Collecting Mako (from alembic>=1.5.0->optuna)\n",
            "  Downloading Mako-1.3.0-py3-none-any.whl (78 kB)\n",
            "\u001b[2K     \u001b[90m━━━━━━━━━━━━━━━━━━━━━━━━━━━━━━━━━━━━━━━━\u001b[0m \u001b[32m78.6/78.6 kB\u001b[0m \u001b[31m8.0 MB/s\u001b[0m eta \u001b[36m0:00:00\u001b[0m\n",
            "\u001b[?25hRequirement already satisfied: typing-extensions>=4 in /usr/local/lib/python3.10/dist-packages (from alembic>=1.5.0->optuna) (4.5.0)\n",
            "Requirement already satisfied: greenlet!=0.4.17 in /usr/local/lib/python3.10/dist-packages (from sqlalchemy>=1.3.0->optuna) (3.0.1)\n",
            "Requirement already satisfied: MarkupSafe>=0.9.2 in /usr/local/lib/python3.10/dist-packages (from Mako->alembic>=1.5.0->optuna) (2.1.3)\n",
            "Installing collected packages: Mako, colorlog, alembic, optuna\n",
            "Successfully installed Mako-1.3.0 alembic-1.12.1 colorlog-6.7.0 optuna-3.4.0\n"
          ]
        }
      ],
      "source": [
        "import pandas as pd\n",
        "import numpy as np\n",
        "import matplotlib.pyplot as plt\n",
        "from sklearn.model_selection import train_test_split\n",
        "import scipy.sparse as sp\n",
        "from typing import Tuple, Callable, Dict, Optional, List\n",
        "from Recommenders.KNN.ItemKNNCFRecommender import ItemKNNCFRecommender\n",
        "from Recommenders.Similarity.Compute_Similarity_Python import Compute_Similarity_Python\n",
        "from scipy.stats import loguniform\n",
        "!pip install optuna\n",
        "import optuna"
      ]
    },
    {
      "cell_type": "markdown",
      "metadata": {
        "id": "GnP3Qb-nzW3F"
      },
      "source": [
        "#Load Data"
      ]
    },
    {
      "cell_type": "code",
      "execution_count": 4,
      "metadata": {
        "id": "EmCzZHO8xnHS",
        "colab": {
          "base_uri": "https://localhost:8080/"
        },
        "outputId": "5fee1630-59ce-4d3e-cac4-49d47805d3c0"
      },
      "outputs": [
        {
          "output_type": "stream",
          "name": "stdout",
          "text": [
            "/gdrive/MyDrive/RECSYS\n"
          ]
        }
      ],
      "source": [
        "%cd /gdrive/MyDrive/RECSYS\n",
        "data_train = pd.read_csv('data_train.csv')\n",
        "data_target_users_test = pd.read_csv('data_target_users_test.csv')\n",
        "%cd RecSys_Course_AT_PoliMi"
      ]
    },
    {
      "cell_type": "code",
      "execution_count": 5,
      "metadata": {
        "id": "Vh_4xGA8xzyV"
      },
      "outputs": [],
      "source": [
        "data_train.columns = [\"user_id\", \"item_id\", \"Interaction\"]"
      ]
    },
    {
      "cell_type": "code",
      "execution_count": 6,
      "metadata": {
        "id": "dtUrQBPlzSEc",
        "colab": {
          "base_uri": "https://localhost:8080/"
        },
        "outputId": "273eebf3-5998-451f-db84-45e1049fe71b"
      },
      "outputs": [
        {
          "output_type": "stream",
          "name": "stdout",
          "text": [
            "The number of interactions is 478730\n"
          ]
        }
      ],
      "source": [
        "print (\"The number of interactions is {}\".format(len(data_train)))"
      ]
    },
    {
      "cell_type": "code",
      "execution_count": 7,
      "metadata": {
        "id": "aiHSbCzyzUk7"
      },
      "outputs": [],
      "source": [
        "userID_unique = data_train[\"user_id\"].unique()\n",
        "itemID_unique = data_train[\"item_id\"].unique()"
      ]
    },
    {
      "cell_type": "code",
      "execution_count": 8,
      "metadata": {
        "id": "VoJy1s8Tzamf",
        "colab": {
          "base_uri": "https://localhost:8080/"
        },
        "outputId": "749f496f-e21f-410b-ac1e-d5849f8e01a6"
      },
      "outputs": [
        {
          "output_type": "stream",
          "name": "stdout",
          "text": [
            "Number of items\t 22222, Number of users\t 12638\n",
            "Max ID items\t 22347, Max Id users\t 13024\n",
            "\n"
          ]
        }
      ],
      "source": [
        "n_users = len(userID_unique)\n",
        "n_items = len(itemID_unique)\n",
        "n_interactions = len(data_train)\n",
        "\n",
        "print (\"Number of items\\t {}, Number of users\\t {}\".format(n_items, n_users))\n",
        "print (\"Max ID items\\t {}, Max Id users\\t {}\\n\".format(max(itemID_unique), max(userID_unique)))"
      ]
    },
    {
      "cell_type": "markdown",
      "metadata": {
        "id": "1IB-Aujzz9OV"
      },
      "source": [
        "#Splitting Data"
      ]
    },
    {
      "cell_type": "code",
      "execution_count": 9,
      "metadata": {
        "id": "rv9buSlx5F_U"
      },
      "outputs": [],
      "source": [
        "def preprocess_data(interactions: pd.DataFrame):\n",
        "    unique_users = interactions.user_id.unique()\n",
        "    unique_items = interactions.item_id.unique()\n",
        "\n",
        "    num_users, min_user_id, max_user_id = unique_users.size, unique_users.min(), unique_users.max()\n",
        "    num_items, min_item_id, max_item_id = unique_items.size, unique_items.min(), unique_items.max()\n",
        "\n",
        "    print(num_users, min_user_id, max_user_id)\n",
        "    print(num_items, min_item_id, max_item_id)\n",
        "\n",
        "    mapping_user_id = pd.DataFrame({\"mapped_user_id\": np.arange(num_users), \"user_id\": unique_users})\n",
        "    mapping_item_id = pd.DataFrame({\"mapped_item_id\": np.arange(num_items), \"item_id\": unique_items})\n",
        "\n",
        "    interactions = pd.merge(left=interactions,\n",
        "                       right=mapping_user_id,\n",
        "                       how=\"inner\",\n",
        "                       on=\"user_id\")\n",
        "\n",
        "    interactions = pd.merge(left=interactions,\n",
        "                       right=mapping_item_id,\n",
        "                       how=\"inner\",\n",
        "                       on=\"item_id\")\n",
        "\n",
        "    return interactions\n"
      ]
    },
    {
      "cell_type": "code",
      "execution_count": 17,
      "metadata": {
        "id": "P7n04nV95Mc-",
        "colab": {
          "base_uri": "https://localhost:8080/"
        },
        "outputId": "e43b5a99-9526-4b81-8aeb-b215e87577ce"
      },
      "outputs": [
        {
          "output_type": "stream",
          "name": "stdout",
          "text": [
            "12638 1 13024\n",
            "22222 1 22347\n"
          ]
        }
      ],
      "source": [
        "interactions = preprocess_data(data_train)"
      ]
    },
    {
      "cell_type": "code",
      "execution_count": 11,
      "metadata": {
        "id": "B41fKtAp5wIO",
        "colab": {
          "base_uri": "https://localhost:8080/",
          "height": 424
        },
        "outputId": "d61dbc8f-711f-4d1e-d6fb-53f9e65b8639"
      },
      "outputs": [
        {
          "output_type": "execute_result",
          "data": {
            "text/plain": [
              "        user_id  item_id  Interaction  mapped_user_id  mapped_item_id\n",
              "0             1        7          1.0               0               0\n",
              "1             2        7          1.0               1               0\n",
              "2            26        7          1.0              24               0\n",
              "3            36        7          1.0              34               0\n",
              "4            41        7          1.0              39               0\n",
              "...         ...      ...          ...             ...             ...\n",
              "478725    12962    20368          1.0           12579           22217\n",
              "478726    12985    21058          1.0           12601           22218\n",
              "478727    12989    22317          1.0           12605           22219\n",
              "478728    13009    22339          1.0           12624           22220\n",
              "478729    13021    21466          1.0           12634           22221\n",
              "\n",
              "[478730 rows x 5 columns]"
            ],
            "text/html": [
              "\n",
              "  <div id=\"df-1e0781da-dcae-47d7-84f4-3cfb2e554aa5\" class=\"colab-df-container\">\n",
              "    <div>\n",
              "<style scoped>\n",
              "    .dataframe tbody tr th:only-of-type {\n",
              "        vertical-align: middle;\n",
              "    }\n",
              "\n",
              "    .dataframe tbody tr th {\n",
              "        vertical-align: top;\n",
              "    }\n",
              "\n",
              "    .dataframe thead th {\n",
              "        text-align: right;\n",
              "    }\n",
              "</style>\n",
              "<table border=\"1\" class=\"dataframe\">\n",
              "  <thead>\n",
              "    <tr style=\"text-align: right;\">\n",
              "      <th></th>\n",
              "      <th>user_id</th>\n",
              "      <th>item_id</th>\n",
              "      <th>Interaction</th>\n",
              "      <th>mapped_user_id</th>\n",
              "      <th>mapped_item_id</th>\n",
              "    </tr>\n",
              "  </thead>\n",
              "  <tbody>\n",
              "    <tr>\n",
              "      <th>0</th>\n",
              "      <td>1</td>\n",
              "      <td>7</td>\n",
              "      <td>1.0</td>\n",
              "      <td>0</td>\n",
              "      <td>0</td>\n",
              "    </tr>\n",
              "    <tr>\n",
              "      <th>1</th>\n",
              "      <td>2</td>\n",
              "      <td>7</td>\n",
              "      <td>1.0</td>\n",
              "      <td>1</td>\n",
              "      <td>0</td>\n",
              "    </tr>\n",
              "    <tr>\n",
              "      <th>2</th>\n",
              "      <td>26</td>\n",
              "      <td>7</td>\n",
              "      <td>1.0</td>\n",
              "      <td>24</td>\n",
              "      <td>0</td>\n",
              "    </tr>\n",
              "    <tr>\n",
              "      <th>3</th>\n",
              "      <td>36</td>\n",
              "      <td>7</td>\n",
              "      <td>1.0</td>\n",
              "      <td>34</td>\n",
              "      <td>0</td>\n",
              "    </tr>\n",
              "    <tr>\n",
              "      <th>4</th>\n",
              "      <td>41</td>\n",
              "      <td>7</td>\n",
              "      <td>1.0</td>\n",
              "      <td>39</td>\n",
              "      <td>0</td>\n",
              "    </tr>\n",
              "    <tr>\n",
              "      <th>...</th>\n",
              "      <td>...</td>\n",
              "      <td>...</td>\n",
              "      <td>...</td>\n",
              "      <td>...</td>\n",
              "      <td>...</td>\n",
              "    </tr>\n",
              "    <tr>\n",
              "      <th>478725</th>\n",
              "      <td>12962</td>\n",
              "      <td>20368</td>\n",
              "      <td>1.0</td>\n",
              "      <td>12579</td>\n",
              "      <td>22217</td>\n",
              "    </tr>\n",
              "    <tr>\n",
              "      <th>478726</th>\n",
              "      <td>12985</td>\n",
              "      <td>21058</td>\n",
              "      <td>1.0</td>\n",
              "      <td>12601</td>\n",
              "      <td>22218</td>\n",
              "    </tr>\n",
              "    <tr>\n",
              "      <th>478727</th>\n",
              "      <td>12989</td>\n",
              "      <td>22317</td>\n",
              "      <td>1.0</td>\n",
              "      <td>12605</td>\n",
              "      <td>22219</td>\n",
              "    </tr>\n",
              "    <tr>\n",
              "      <th>478728</th>\n",
              "      <td>13009</td>\n",
              "      <td>22339</td>\n",
              "      <td>1.0</td>\n",
              "      <td>12624</td>\n",
              "      <td>22220</td>\n",
              "    </tr>\n",
              "    <tr>\n",
              "      <th>478729</th>\n",
              "      <td>13021</td>\n",
              "      <td>21466</td>\n",
              "      <td>1.0</td>\n",
              "      <td>12634</td>\n",
              "      <td>22221</td>\n",
              "    </tr>\n",
              "  </tbody>\n",
              "</table>\n",
              "<p>478730 rows × 5 columns</p>\n",
              "</div>\n",
              "    <div class=\"colab-df-buttons\">\n",
              "\n",
              "  <div class=\"colab-df-container\">\n",
              "    <button class=\"colab-df-convert\" onclick=\"convertToInteractive('df-1e0781da-dcae-47d7-84f4-3cfb2e554aa5')\"\n",
              "            title=\"Convert this dataframe to an interactive table.\"\n",
              "            style=\"display:none;\">\n",
              "\n",
              "  <svg xmlns=\"http://www.w3.org/2000/svg\" height=\"24px\" viewBox=\"0 -960 960 960\">\n",
              "    <path d=\"M120-120v-720h720v720H120Zm60-500h600v-160H180v160Zm220 220h160v-160H400v160Zm0 220h160v-160H400v160ZM180-400h160v-160H180v160Zm440 0h160v-160H620v160ZM180-180h160v-160H180v160Zm440 0h160v-160H620v160Z\"/>\n",
              "  </svg>\n",
              "    </button>\n",
              "\n",
              "  <style>\n",
              "    .colab-df-container {\n",
              "      display:flex;\n",
              "      gap: 12px;\n",
              "    }\n",
              "\n",
              "    .colab-df-convert {\n",
              "      background-color: #E8F0FE;\n",
              "      border: none;\n",
              "      border-radius: 50%;\n",
              "      cursor: pointer;\n",
              "      display: none;\n",
              "      fill: #1967D2;\n",
              "      height: 32px;\n",
              "      padding: 0 0 0 0;\n",
              "      width: 32px;\n",
              "    }\n",
              "\n",
              "    .colab-df-convert:hover {\n",
              "      background-color: #E2EBFA;\n",
              "      box-shadow: 0px 1px 2px rgba(60, 64, 67, 0.3), 0px 1px 3px 1px rgba(60, 64, 67, 0.15);\n",
              "      fill: #174EA6;\n",
              "    }\n",
              "\n",
              "    .colab-df-buttons div {\n",
              "      margin-bottom: 4px;\n",
              "    }\n",
              "\n",
              "    [theme=dark] .colab-df-convert {\n",
              "      background-color: #3B4455;\n",
              "      fill: #D2E3FC;\n",
              "    }\n",
              "\n",
              "    [theme=dark] .colab-df-convert:hover {\n",
              "      background-color: #434B5C;\n",
              "      box-shadow: 0px 1px 3px 1px rgba(0, 0, 0, 0.15);\n",
              "      filter: drop-shadow(0px 1px 2px rgba(0, 0, 0, 0.3));\n",
              "      fill: #FFFFFF;\n",
              "    }\n",
              "  </style>\n",
              "\n",
              "    <script>\n",
              "      const buttonEl =\n",
              "        document.querySelector('#df-1e0781da-dcae-47d7-84f4-3cfb2e554aa5 button.colab-df-convert');\n",
              "      buttonEl.style.display =\n",
              "        google.colab.kernel.accessAllowed ? 'block' : 'none';\n",
              "\n",
              "      async function convertToInteractive(key) {\n",
              "        const element = document.querySelector('#df-1e0781da-dcae-47d7-84f4-3cfb2e554aa5');\n",
              "        const dataTable =\n",
              "          await google.colab.kernel.invokeFunction('convertToInteractive',\n",
              "                                                    [key], {});\n",
              "        if (!dataTable) return;\n",
              "\n",
              "        const docLinkHtml = 'Like what you see? Visit the ' +\n",
              "          '<a target=\"_blank\" href=https://colab.research.google.com/notebooks/data_table.ipynb>data table notebook</a>'\n",
              "          + ' to learn more about interactive tables.';\n",
              "        element.innerHTML = '';\n",
              "        dataTable['output_type'] = 'display_data';\n",
              "        await google.colab.output.renderOutput(dataTable, element);\n",
              "        const docLink = document.createElement('div');\n",
              "        docLink.innerHTML = docLinkHtml;\n",
              "        element.appendChild(docLink);\n",
              "      }\n",
              "    </script>\n",
              "  </div>\n",
              "\n",
              "\n",
              "<div id=\"df-b15a56c5-666d-41f3-b930-0270bf978be6\">\n",
              "  <button class=\"colab-df-quickchart\" onclick=\"quickchart('df-b15a56c5-666d-41f3-b930-0270bf978be6')\"\n",
              "            title=\"Suggest charts\"\n",
              "            style=\"display:none;\">\n",
              "\n",
              "<svg xmlns=\"http://www.w3.org/2000/svg\" height=\"24px\"viewBox=\"0 0 24 24\"\n",
              "     width=\"24px\">\n",
              "    <g>\n",
              "        <path d=\"M19 3H5c-1.1 0-2 .9-2 2v14c0 1.1.9 2 2 2h14c1.1 0 2-.9 2-2V5c0-1.1-.9-2-2-2zM9 17H7v-7h2v7zm4 0h-2V7h2v10zm4 0h-2v-4h2v4z\"/>\n",
              "    </g>\n",
              "</svg>\n",
              "  </button>\n",
              "\n",
              "<style>\n",
              "  .colab-df-quickchart {\n",
              "      --bg-color: #E8F0FE;\n",
              "      --fill-color: #1967D2;\n",
              "      --hover-bg-color: #E2EBFA;\n",
              "      --hover-fill-color: #174EA6;\n",
              "      --disabled-fill-color: #AAA;\n",
              "      --disabled-bg-color: #DDD;\n",
              "  }\n",
              "\n",
              "  [theme=dark] .colab-df-quickchart {\n",
              "      --bg-color: #3B4455;\n",
              "      --fill-color: #D2E3FC;\n",
              "      --hover-bg-color: #434B5C;\n",
              "      --hover-fill-color: #FFFFFF;\n",
              "      --disabled-bg-color: #3B4455;\n",
              "      --disabled-fill-color: #666;\n",
              "  }\n",
              "\n",
              "  .colab-df-quickchart {\n",
              "    background-color: var(--bg-color);\n",
              "    border: none;\n",
              "    border-radius: 50%;\n",
              "    cursor: pointer;\n",
              "    display: none;\n",
              "    fill: var(--fill-color);\n",
              "    height: 32px;\n",
              "    padding: 0;\n",
              "    width: 32px;\n",
              "  }\n",
              "\n",
              "  .colab-df-quickchart:hover {\n",
              "    background-color: var(--hover-bg-color);\n",
              "    box-shadow: 0 1px 2px rgba(60, 64, 67, 0.3), 0 1px 3px 1px rgba(60, 64, 67, 0.15);\n",
              "    fill: var(--button-hover-fill-color);\n",
              "  }\n",
              "\n",
              "  .colab-df-quickchart-complete:disabled,\n",
              "  .colab-df-quickchart-complete:disabled:hover {\n",
              "    background-color: var(--disabled-bg-color);\n",
              "    fill: var(--disabled-fill-color);\n",
              "    box-shadow: none;\n",
              "  }\n",
              "\n",
              "  .colab-df-spinner {\n",
              "    border: 2px solid var(--fill-color);\n",
              "    border-color: transparent;\n",
              "    border-bottom-color: var(--fill-color);\n",
              "    animation:\n",
              "      spin 1s steps(1) infinite;\n",
              "  }\n",
              "\n",
              "  @keyframes spin {\n",
              "    0% {\n",
              "      border-color: transparent;\n",
              "      border-bottom-color: var(--fill-color);\n",
              "      border-left-color: var(--fill-color);\n",
              "    }\n",
              "    20% {\n",
              "      border-color: transparent;\n",
              "      border-left-color: var(--fill-color);\n",
              "      border-top-color: var(--fill-color);\n",
              "    }\n",
              "    30% {\n",
              "      border-color: transparent;\n",
              "      border-left-color: var(--fill-color);\n",
              "      border-top-color: var(--fill-color);\n",
              "      border-right-color: var(--fill-color);\n",
              "    }\n",
              "    40% {\n",
              "      border-color: transparent;\n",
              "      border-right-color: var(--fill-color);\n",
              "      border-top-color: var(--fill-color);\n",
              "    }\n",
              "    60% {\n",
              "      border-color: transparent;\n",
              "      border-right-color: var(--fill-color);\n",
              "    }\n",
              "    80% {\n",
              "      border-color: transparent;\n",
              "      border-right-color: var(--fill-color);\n",
              "      border-bottom-color: var(--fill-color);\n",
              "    }\n",
              "    90% {\n",
              "      border-color: transparent;\n",
              "      border-bottom-color: var(--fill-color);\n",
              "    }\n",
              "  }\n",
              "</style>\n",
              "\n",
              "  <script>\n",
              "    async function quickchart(key) {\n",
              "      const quickchartButtonEl =\n",
              "        document.querySelector('#' + key + ' button');\n",
              "      quickchartButtonEl.disabled = true;  // To prevent multiple clicks.\n",
              "      quickchartButtonEl.classList.add('colab-df-spinner');\n",
              "      try {\n",
              "        const charts = await google.colab.kernel.invokeFunction(\n",
              "            'suggestCharts', [key], {});\n",
              "      } catch (error) {\n",
              "        console.error('Error during call to suggestCharts:', error);\n",
              "      }\n",
              "      quickchartButtonEl.classList.remove('colab-df-spinner');\n",
              "      quickchartButtonEl.classList.add('colab-df-quickchart-complete');\n",
              "    }\n",
              "    (() => {\n",
              "      let quickchartButtonEl =\n",
              "        document.querySelector('#df-b15a56c5-666d-41f3-b930-0270bf978be6 button');\n",
              "      quickchartButtonEl.style.display =\n",
              "        google.colab.kernel.accessAllowed ? 'block' : 'none';\n",
              "    })();\n",
              "  </script>\n",
              "</div>\n",
              "    </div>\n",
              "  </div>\n"
            ]
          },
          "metadata": {},
          "execution_count": 11
        }
      ],
      "source": [
        "interactions"
      ]
    },
    {
      "cell_type": "code",
      "execution_count": 18,
      "metadata": {
        "id": "BeQy3iIM3NWS"
      },
      "outputs": [],
      "source": [
        "def dataset_splits(interactions, num_users, num_items, validation_percentage: float, testing_percentage: float):\n",
        "    seed = 1234\n",
        "\n",
        "    (user_ids_training, user_ids_test,\n",
        "     item_ids_training, item_ids_test,\n",
        "     interactions_training, interactions_test) = train_test_split(interactions.mapped_user_id,\n",
        "                                                        interactions.mapped_item_id,\n",
        "                                                        interactions.Interaction,\n",
        "                                                        test_size=testing_percentage,\n",
        "                                                        shuffle=True,\n",
        "                                                        random_state=seed)\n",
        "\n",
        "    (user_ids_training, user_ids_validation,\n",
        "     item_ids_training, item_ids_validation,\n",
        "     interactions_training, interactions_validation) = train_test_split(user_ids_training,\n",
        "                                                              item_ids_training,\n",
        "                                                              interactions_training,\n",
        "                                                              test_size=validation_percentage,\n",
        "                                                             )\n",
        "\n",
        "    urm_train = sp.csr_matrix((interactions_training, (user_ids_training, item_ids_training)),\n",
        "                              shape=(num_users, num_items))\n",
        "\n",
        "    urm_validation = sp.csr_matrix((interactions_validation, (user_ids_validation, item_ids_validation)),\n",
        "                              shape=(num_users, num_items))\n",
        "\n",
        "    urm_test = sp.csr_matrix((interactions_test, (user_ids_test, item_ids_test)),\n",
        "                              shape=(num_users, num_items))\n",
        "\n",
        "\n",
        "\n",
        "    return urm_train, urm_validation, urm_test\n",
        "\n"
      ]
    },
    {
      "cell_type": "code",
      "execution_count": 13,
      "metadata": {
        "id": "_haTw9z74REP"
      },
      "outputs": [],
      "source": [
        "urm_train, urm_validation, urm_test = dataset_splits(interactions,\n",
        "                                                     num_users=12638,\n",
        "                                                     num_items=22222,\n",
        "                                                     validation_percentage=0.15,\n",
        "                                                     testing_percentage=0.15)"
      ]
    },
    {
      "cell_type": "code",
      "execution_count": 14,
      "metadata": {
        "id": "XZm4RgMl6_o4",
        "colab": {
          "base_uri": "https://localhost:8080/"
        },
        "outputId": "d2a44572-238b-4dee-c0cf-4aef36418f24"
      },
      "outputs": [
        {
          "output_type": "execute_result",
          "data": {
            "text/plain": [
              "<12638x22222 sparse matrix of type '<class 'numpy.float64'>'\n",
              "\twith 345882 stored elements in Compressed Sparse Row format>"
            ]
          },
          "metadata": {},
          "execution_count": 14
        }
      ],
      "source": [
        "urm_train"
      ]
    },
    {
      "cell_type": "code",
      "execution_count": 15,
      "metadata": {
        "id": "Z22fMerd7DDD",
        "colab": {
          "base_uri": "https://localhost:8080/"
        },
        "outputId": "fb26637b-9867-43ad-82d2-91a3592337bf"
      },
      "outputs": [
        {
          "output_type": "execute_result",
          "data": {
            "text/plain": [
              "<12638x22222 sparse matrix of type '<class 'numpy.float64'>'\n",
              "\twith 61038 stored elements in Compressed Sparse Row format>"
            ]
          },
          "metadata": {},
          "execution_count": 15
        }
      ],
      "source": [
        "urm_validation"
      ]
    },
    {
      "cell_type": "code",
      "execution_count": 16,
      "metadata": {
        "id": "NXb7krZq7E07",
        "colab": {
          "base_uri": "https://localhost:8080/"
        },
        "outputId": "3c205461-a357-4df0-8223-549396f92930"
      },
      "outputs": [
        {
          "output_type": "execute_result",
          "data": {
            "text/plain": [
              "<12638x22222 sparse matrix of type '<class 'numpy.float64'>'\n",
              "\twith 71810 stored elements in Compressed Sparse Row format>"
            ]
          },
          "metadata": {},
          "execution_count": 16
        }
      ],
      "source": [
        "urm_test"
      ]
    },
    {
      "cell_type": "markdown",
      "metadata": {
        "id": "H9nAar4i78dQ"
      },
      "source": [
        "#Build the Recommendation System"
      ]
    },
    {
      "cell_type": "code",
      "execution_count": null,
      "metadata": {
        "id": "hb7DlmAP1exj"
      },
      "outputs": [],
      "source": [
        "from Recommenders.KNN.ItemKNNCFRecommender import ItemKNNCFRecommender"
      ]
    },
    {
      "cell_type": "code",
      "source": [
        "itemKNNCF = ItemKNNCFRecommender(urm_train)\n",
        "itemKNNCF.fit(topK = optuna_trial.suggest_int(\"topK\", 5, 1000),\n",
        "              shrink = optuna_trial.suggest_int(\"shrink\", 0, 1000),\n",
        "              similarity =  optuna_trial.suggest_categorical(\"similarity\", [\"cosine\", \"jaccard\", \"adjusted\", \"asymmetric\",\"pearson\",  \"dice\" , \"tversky\",  \"tanimoto\"]),\n",
        "              normalize = optuna_trial.suggest_categorical(\"normalize\", [True, False]))\n",
        "\n",
        "result_df, _ = evaluator_validation.evaluateRecommender(itemKNNCF)\n",
        "'topK': 73, 'shrink': 36, 'similarity': 'tversky', 'normalize': True"
      ],
      "metadata": {
        "id": "tNuGErVSOa-_"
      },
      "execution_count": null,
      "outputs": []
    },
    {
      "cell_type": "code",
      "source": [],
      "metadata": {
        "id": "NH64CWbHOdis"
      },
      "execution_count": null,
      "outputs": []
    },
    {
      "cell_type": "code",
      "source": [],
      "metadata": {
        "id": "ZC_ebyrAOfyC"
      },
      "execution_count": null,
      "outputs": []
    },
    {
      "cell_type": "markdown",
      "source": [
        "## Top popular for the users without info"
      ],
      "metadata": {
        "id": "GqvLoWjYOUXJ"
      }
    },
    {
      "cell_type": "code",
      "execution_count": 19,
      "metadata": {
        "id": "pXwcRW6e5tt4"
      },
      "outputs": [],
      "source": [
        "class TopPopRecommender(object):\n",
        "\n",
        "    def fit(self, URM_train):\n",
        "\n",
        "        item_popularity = np.ediff1d(URM_train.tocsc().indptr)\n",
        "\n",
        "        # We are not interested in sorting the popularity value,\n",
        "        # but to order the items according to it\n",
        "        self.popular_items = np.argsort(item_popularity)\n",
        "        self.popular_items = np.flip(self.popular_items, axis = 0)\n",
        "\n",
        "\n",
        "    def recommend(self, user_id, at=5):\n",
        "\n",
        "        recommended_items = self.popular_items[0:at]\n",
        "\n",
        "        return recommended_items"
      ]
    },
    {
      "cell_type": "markdown",
      "metadata": {
        "id": "--6CuvMqQrIf"
      },
      "source": [
        "#Hyperparameter Tuning\n",
        "\n",
        "\n",
        "*   Number of neighbors\n",
        "\n",
        "*   Shrinking\n",
        "\n",
        "*   Similarity Type\n",
        "\n"
      ]
    },
    {
      "cell_type": "code",
      "source": [
        "%cd RecSys_Course_AT_PoliMi_\n",
        "from Evaluation.Evaluator import EvaluatorHoldout\n",
        "\n",
        "\n",
        "evaluator_validation = EvaluatorHoldout(urm_validation, cutoff_list=[10])\n",
        "evaluator_test = EvaluatorHoldout(urm_test, cutoff_list=[10])"
      ],
      "metadata": {
        "colab": {
          "base_uri": "https://localhost:8080/"
        },
        "id": "rWLSE4-aZxOf",
        "outputId": "074249fc-e96d-4fbd-8eab-13cea962eb09"
      },
      "execution_count": 25,
      "outputs": [
        {
          "output_type": "stream",
          "name": "stdout",
          "text": [
            "[Errno 2] No such file or directory: 'RecSys_Course_AT_PoliMi_'\n",
            "/gdrive/MyDrive/RECSYS/RecSys_Course_AT_PoliMi\n",
            "EvaluatorHoldout: Ignoring 3066 (24.3%) Users that have less than 1 test interactions\n",
            "EvaluatorHoldout: Ignoring 2716 (21.5%) Users that have less than 1 test interactions\n"
          ]
        }
      ]
    },
    {
      "cell_type": "code",
      "execution_count": 26,
      "metadata": {
        "id": "xCLT9Q2bhcNv"
      },
      "outputs": [],
      "source": [
        "def objective_function_ItemKNN_similarities(optuna_trial):\n",
        "\n",
        "    recommender_instance = ItemKNNCFRecommender(urm_train)\n",
        "    similarity = optuna_trial.suggest_categorical(\"similarity\", ['cosine', 'dice', 'jaccard', 'asymmetric', 'tversky', 'euclidean'])\n",
        "\n",
        "    full_hyperp = {\"similarity\": similarity,\n",
        "                   \"topK\": optuna_trial.suggest_int(\"topK\", 5, 1000),\n",
        "                   \"shrink\": optuna_trial.suggest_int(\"shrink\", 0, 1000),\n",
        "                  }\n",
        "\n",
        "    if similarity == \"asymmetric\":\n",
        "        full_hyperp[\"asymmetric_alpha\"] = optuna_trial.suggest_float(\"asymmetric_alpha\", 0, 2, log=False)\n",
        "        full_hyperp[\"normalize\"] = True\n",
        "\n",
        "    elif similarity == \"tversky\":\n",
        "        full_hyperp[\"tversky_alpha\"] = optuna_trial.suggest_float(\"tversky_alpha\", 0, 2, log=False)\n",
        "        full_hyperp[\"tversky_beta\"] = optuna_trial.suggest_float(\"tversky_beta\", 0, 2, log=False)\n",
        "        full_hyperp[\"normalize\"] = True\n",
        "\n",
        "    elif similarity == \"euclidean\":\n",
        "        full_hyperp[\"normalize_avg_row\"] = optuna_trial.suggest_categorical(\"normalize_avg_row\", [True, False])\n",
        "        full_hyperp[\"similarity_from_distance_mode\"] = optuna_trial.suggest_categorical(\"similarity_from_distance_mode\", [\"lin\", \"log\", \"exp\"])\n",
        "        full_hyperp[\"normalize\"] = optuna_trial.suggest_categorical(\"normalize\", [True, False])\n",
        "\n",
        "\n",
        "    recommender_instance.fit(**full_hyperp)\n",
        "\n",
        "    result_df, _ = evaluator_validation.evaluateRecommender(recommender_instance)\n",
        "\n",
        "    return result_df.loc[10][\"MAP\"]"
      ]
    },
    {
      "cell_type": "code",
      "source": [
        "from Recommenders.KNN.UserKNNCFRecommender import UserKNNCFRecommender\n",
        "\n",
        "def objective_function_UserKNN_similarities(optuna_trial):\n",
        "\n",
        "    recommender_instance = UserKNNCFRecommender(urm_train)\n",
        "    similarity = optuna_trial.suggest_categorical(\"similarity\", ['cosine', 'dice', 'jaccard', 'asymmetric', 'tversky', 'euclidean', 'pearson'])\n",
        "\n",
        "    full_hyperp = {\"similarity\": similarity,\n",
        "                   \"topK\": optuna_trial.suggest_int(\"topK\", 5, 1000),\n",
        "                   \"shrink\": optuna_trial.suggest_int(\"shrink\", 0, 1000),\n",
        "                  }\n",
        "\n",
        "    if similarity == \"asymmetric\":\n",
        "        full_hyperp[\"asymmetric_alpha\"] = optuna_trial.suggest_float(\"asymmetric_alpha\", 0, 2, log=False)\n",
        "        full_hyperp[\"normalize\"] = True\n",
        "\n",
        "    elif similarity == \"tversky\":\n",
        "        full_hyperp[\"tversky_alpha\"] = optuna_trial.suggest_float(\"tversky_alpha\", 0, 2, log=False)\n",
        "        full_hyperp[\"tversky_beta\"] = optuna_trial.suggest_float(\"tversky_beta\", 0, 2, log=False)\n",
        "        full_hyperp[\"normalize\"] = True\n",
        "\n",
        "    elif similarity == \"euclidean\":\n",
        "        full_hyperp[\"normalize_avg_row\"] = optuna_trial.suggest_categorical(\"normalize_avg_row\", [True, False])\n",
        "        full_hyperp[\"similarity_from_distance_mode\"] = optuna_trial.suggest_categorical(\"similarity_from_distance_mode\", [\"lin\", \"log\", \"exp\"])\n",
        "        full_hyperp[\"normalize\"] = optuna_trial.suggest_categorical(\"normalize\", [True, False])\n",
        "\n",
        "\n",
        "    recommender_instance.fit(**full_hyperp)\n",
        "\n",
        "    result_df, _ = evaluator_validation.evaluateRecommender(recommender_instance)\n",
        "\n",
        "    return result_df.loc[10][\"MAP\"]"
      ],
      "metadata": {
        "id": "ksR0iIK_YFNS"
      },
      "execution_count": 27,
      "outputs": []
    },
    {
      "cell_type": "code",
      "source": [
        "class SaveResults(object):\n",
        "\n",
        "    def __init__(self):\n",
        "        self.results_df = pd.DataFrame()\n",
        "\n",
        "    def __call__(self, optuna_study, optuna_trial):\n",
        "        hyperparam_dict = optuna_trial.params.copy()\n",
        "        hyperparam_dict[\"result\"] = optuna_trial.values[0]\n",
        "\n",
        "        self.results_df = self.results_df.append(hyperparam_dict, ignore_index=True)"
      ],
      "metadata": {
        "id": "EltFJ03Ay2Kg"
      },
      "execution_count": 28,
      "outputs": []
    },
    {
      "cell_type": "code",
      "source": [
        "item_optuna_study = optuna.create_study(direction=\"maximize\")\n",
        "\n",
        "item_save_results = SaveResults()\n",
        "\n",
        "item_optuna_study.optimize(objective_function_ItemKNN_similarities,\n",
        "                      callbacks=[item_save_results],\n",
        "                      n_trials = 50)"
      ],
      "metadata": {
        "colab": {
          "base_uri": "https://localhost:8080/"
        },
        "id": "V-cQk8tdaM73",
        "outputId": "2d3c7c30-d465-40a4-9694-fffab11e080f"
      },
      "execution_count": 29,
      "outputs": [
        {
          "output_type": "stream",
          "name": "stderr",
          "text": [
            "[I 2023-11-24 17:53:37,718] A new study created in memory with name: no-name-4bca15dc-f8a7-4103-b316-49eb9d1ff7ed\n"
          ]
        },
        {
          "output_type": "stream",
          "name": "stdout",
          "text": [
            "ItemKNNCFRecommender: URM Detected 336 ( 2.7%) users with no interactions.\n",
            "ItemKNNCFRecommender: URM Detected 172 ( 0.8%) items with no interactions.\n",
            "Similarity column 22222 (100.0%), 4188.67 column/sec. Elapsed time 5.31 sec\n",
            "EvaluatorHoldout: Processed 9572 (100.0%) in 13.02 sec. Users per second: 735\n"
          ]
        },
        {
          "output_type": "stream",
          "name": "stderr",
          "text": [
            "[I 2023-11-24 17:53:56,388] Trial 0 finished with value: 0.01576983795328964 and parameters: {'similarity': 'cosine', 'topK': 345, 'shrink': 843}. Best is trial 0 with value: 0.01576983795328964.\n"
          ]
        },
        {
          "output_type": "stream",
          "name": "stdout",
          "text": [
            "ItemKNNCFRecommender: URM Detected 336 ( 2.7%) users with no interactions.\n",
            "ItemKNNCFRecommender: URM Detected 172 ( 0.8%) items with no interactions.\n"
          ]
        },
        {
          "output_type": "stream",
          "name": "stderr",
          "text": [
            "<ipython-input-28-14c86811ef81>:10: FutureWarning: The frame.append method is deprecated and will be removed from pandas in a future version. Use pandas.concat instead.\n",
            "  self.results_df = self.results_df.append(hyperparam_dict, ignore_index=True)\n"
          ]
        },
        {
          "output_type": "stream",
          "name": "stdout",
          "text": [
            "Similarity column 22222 (100.0%), 3255.00 column/sec. Elapsed time 6.83 sec\n",
            "EvaluatorHoldout: Processed 9572 (100.0%) in 13.04 sec. Users per second: 734\n"
          ]
        },
        {
          "output_type": "stream",
          "name": "stderr",
          "text": [
            "[I 2023-11-24 17:54:16,907] Trial 1 finished with value: 0.023191028396314605 and parameters: {'similarity': 'tversky', 'topK': 975, 'shrink': 1, 'tversky_alpha': 0.7546586407572788, 'tversky_beta': 1.4969936039218474}. Best is trial 1 with value: 0.023191028396314605.\n"
          ]
        },
        {
          "output_type": "stream",
          "name": "stdout",
          "text": [
            "ItemKNNCFRecommender: URM Detected 336 ( 2.7%) users with no interactions.\n",
            "ItemKNNCFRecommender: URM Detected 172 ( 0.8%) items with no interactions.\n"
          ]
        },
        {
          "output_type": "stream",
          "name": "stderr",
          "text": [
            "<ipython-input-28-14c86811ef81>:10: FutureWarning: The frame.append method is deprecated and will be removed from pandas in a future version. Use pandas.concat instead.\n",
            "  self.results_df = self.results_df.append(hyperparam_dict, ignore_index=True)\n"
          ]
        },
        {
          "output_type": "stream",
          "name": "stdout",
          "text": [
            "Similarity column 22222 (100.0%), 2884.48 column/sec. Elapsed time 7.70 sec\n",
            "EvaluatorHoldout: Processed 9572 (100.0%) in 12.50 sec. Users per second: 766\n"
          ]
        },
        {
          "output_type": "stream",
          "name": "stderr",
          "text": [
            "[I 2023-11-24 17:54:37,480] Trial 2 finished with value: 0.016069608613747715 and parameters: {'similarity': 'tversky', 'topK': 346, 'shrink': 878, 'tversky_alpha': 0.46134859511564774, 'tversky_beta': 0.27403412929575155}. Best is trial 1 with value: 0.023191028396314605.\n"
          ]
        },
        {
          "output_type": "stream",
          "name": "stdout",
          "text": [
            "ItemKNNCFRecommender: URM Detected 336 ( 2.7%) users with no interactions.\n",
            "ItemKNNCFRecommender: URM Detected 172 ( 0.8%) items with no interactions.\n"
          ]
        },
        {
          "output_type": "stream",
          "name": "stderr",
          "text": [
            "<ipython-input-28-14c86811ef81>:10: FutureWarning: The frame.append method is deprecated and will be removed from pandas in a future version. Use pandas.concat instead.\n",
            "  self.results_df = self.results_df.append(hyperparam_dict, ignore_index=True)\n"
          ]
        },
        {
          "output_type": "stream",
          "name": "stdout",
          "text": [
            "Similarity column 22222 (100.0%), 3660.89 column/sec. Elapsed time 6.07 sec\n",
            "EvaluatorHoldout: Processed 9572 (100.0%) in 17.58 sec. Users per second: 545\n"
          ]
        },
        {
          "output_type": "stream",
          "name": "stderr",
          "text": [
            "[I 2023-11-24 17:55:01,444] Trial 3 finished with value: 0.01557277260395724 and parameters: {'similarity': 'cosine', 'topK': 440, 'shrink': 697}. Best is trial 1 with value: 0.023191028396314605.\n"
          ]
        },
        {
          "output_type": "stream",
          "name": "stdout",
          "text": [
            "ItemKNNCFRecommender: URM Detected 336 ( 2.7%) users with no interactions.\n",
            "ItemKNNCFRecommender: URM Detected 172 ( 0.8%) items with no interactions.\n"
          ]
        },
        {
          "output_type": "stream",
          "name": "stderr",
          "text": [
            "<ipython-input-28-14c86811ef81>:10: FutureWarning: The frame.append method is deprecated and will be removed from pandas in a future version. Use pandas.concat instead.\n",
            "  self.results_df = self.results_df.append(hyperparam_dict, ignore_index=True)\n"
          ]
        },
        {
          "output_type": "stream",
          "name": "stdout",
          "text": [
            "Similarity column 22222 (100.0%), 4958.79 column/sec. Elapsed time 4.48 sec\n",
            "EvaluatorHoldout: Processed 9572 (100.0%) in 13.01 sec. Users per second: 736\n"
          ]
        },
        {
          "output_type": "stream",
          "name": "stderr",
          "text": [
            "[I 2023-11-24 17:55:19,154] Trial 4 finished with value: 0.016475139958476746 and parameters: {'similarity': 'asymmetric', 'topK': 269, 'shrink': 746, 'asymmetric_alpha': 0.4664346537924493}. Best is trial 1 with value: 0.023191028396314605.\n"
          ]
        },
        {
          "output_type": "stream",
          "name": "stdout",
          "text": [
            "ItemKNNCFRecommender: URM Detected 336 ( 2.7%) users with no interactions.\n",
            "ItemKNNCFRecommender: URM Detected 172 ( 0.8%) items with no interactions.\n"
          ]
        },
        {
          "output_type": "stream",
          "name": "stderr",
          "text": [
            "<ipython-input-28-14c86811ef81>:10: FutureWarning: The frame.append method is deprecated and will be removed from pandas in a future version. Use pandas.concat instead.\n",
            "  self.results_df = self.results_df.append(hyperparam_dict, ignore_index=True)\n"
          ]
        },
        {
          "output_type": "stream",
          "name": "stdout",
          "text": [
            "Similarity column 22222 (100.0%), 5132.67 column/sec. Elapsed time 4.33 sec\n",
            "EvaluatorHoldout: Processed 9572 (100.0%) in 13.60 sec. Users per second: 704\n"
          ]
        },
        {
          "output_type": "stream",
          "name": "stderr",
          "text": [
            "[I 2023-11-24 17:55:37,420] Trial 5 finished with value: 0.019956474406171425 and parameters: {'similarity': 'jaccard', 'topK': 392, 'shrink': 415}. Best is trial 1 with value: 0.023191028396314605.\n"
          ]
        },
        {
          "output_type": "stream",
          "name": "stdout",
          "text": [
            "ItemKNNCFRecommender: URM Detected 336 ( 2.7%) users with no interactions.\n",
            "ItemKNNCFRecommender: URM Detected 172 ( 0.8%) items with no interactions.\n"
          ]
        },
        {
          "output_type": "stream",
          "name": "stderr",
          "text": [
            "<ipython-input-28-14c86811ef81>:10: FutureWarning: The frame.append method is deprecated and will be removed from pandas in a future version. Use pandas.concat instead.\n",
            "  self.results_df = self.results_df.append(hyperparam_dict, ignore_index=True)\n"
          ]
        },
        {
          "output_type": "stream",
          "name": "stdout",
          "text": [
            "Similarity column 22222 (100.0%), 4916.99 column/sec. Elapsed time 4.52 sec\n",
            "EvaluatorHoldout: Processed 9572 (100.0%) in 13.58 sec. Users per second: 705\n"
          ]
        },
        {
          "output_type": "stream",
          "name": "stderr",
          "text": [
            "[I 2023-11-24 17:55:55,781] Trial 6 finished with value: 0.017234700747550687 and parameters: {'similarity': 'asymmetric', 'topK': 326, 'shrink': 665, 'asymmetric_alpha': 0.6577418864745768}. Best is trial 1 with value: 0.023191028396314605.\n"
          ]
        },
        {
          "output_type": "stream",
          "name": "stdout",
          "text": [
            "ItemKNNCFRecommender: URM Detected 336 ( 2.7%) users with no interactions.\n",
            "ItemKNNCFRecommender: URM Detected 172 ( 0.8%) items with no interactions.\n"
          ]
        },
        {
          "output_type": "stream",
          "name": "stderr",
          "text": [
            "<ipython-input-28-14c86811ef81>:10: FutureWarning: The frame.append method is deprecated and will be removed from pandas in a future version. Use pandas.concat instead.\n",
            "  self.results_df = self.results_df.append(hyperparam_dict, ignore_index=True)\n"
          ]
        },
        {
          "output_type": "stream",
          "name": "stdout",
          "text": [
            "Similarity column 22222 (100.0%), 605.31 column/sec. Elapsed time 36.71 sec\n",
            "EvaluatorHoldout: Processed 9572 (100.0%) in 8.94 sec. Users per second: 1071\n"
          ]
        },
        {
          "output_type": "stream",
          "name": "stderr",
          "text": [
            "[I 2023-11-24 17:56:41,672] Trial 7 finished with value: 0.01191628277582095 and parameters: {'similarity': 'euclidean', 'topK': 293, 'shrink': 300, 'normalize_avg_row': True, 'similarity_from_distance_mode': 'log', 'normalize': True}. Best is trial 1 with value: 0.023191028396314605.\n"
          ]
        },
        {
          "output_type": "stream",
          "name": "stdout",
          "text": [
            "ItemKNNCFRecommender: URM Detected 336 ( 2.7%) users with no interactions.\n",
            "ItemKNNCFRecommender: URM Detected 172 ( 0.8%) items with no interactions.\n"
          ]
        },
        {
          "output_type": "stream",
          "name": "stderr",
          "text": [
            "<ipython-input-28-14c86811ef81>:10: FutureWarning: The frame.append method is deprecated and will be removed from pandas in a future version. Use pandas.concat instead.\n",
            "  self.results_df = self.results_df.append(hyperparam_dict, ignore_index=True)\n"
          ]
        },
        {
          "output_type": "stream",
          "name": "stdout",
          "text": [
            "Similarity column 22222 (100.0%), 3799.39 column/sec. Elapsed time 5.85 sec\n",
            "EvaluatorHoldout: Processed 9572 (100.0%) in 14.74 sec. Users per second: 649\n"
          ]
        },
        {
          "output_type": "stream",
          "name": "stderr",
          "text": [
            "[I 2023-11-24 17:57:02,492] Trial 8 finished with value: 0.006861489197991509 and parameters: {'similarity': 'asymmetric', 'topK': 280, 'shrink': 18, 'asymmetric_alpha': 1.932533212558121}. Best is trial 1 with value: 0.023191028396314605.\n"
          ]
        },
        {
          "output_type": "stream",
          "name": "stdout",
          "text": [
            "ItemKNNCFRecommender: URM Detected 336 ( 2.7%) users with no interactions.\n",
            "ItemKNNCFRecommender: URM Detected 172 ( 0.8%) items with no interactions.\n"
          ]
        },
        {
          "output_type": "stream",
          "name": "stderr",
          "text": [
            "<ipython-input-28-14c86811ef81>:10: FutureWarning: The frame.append method is deprecated and will be removed from pandas in a future version. Use pandas.concat instead.\n",
            "  self.results_df = self.results_df.append(hyperparam_dict, ignore_index=True)\n"
          ]
        },
        {
          "output_type": "stream",
          "name": "stdout",
          "text": [
            "Similarity column 22222 (100.0%), 5193.00 column/sec. Elapsed time 4.28 sec\n",
            "EvaluatorHoldout: Processed 9572 (100.0%) in 14.36 sec. Users per second: 667\n"
          ]
        },
        {
          "output_type": "stream",
          "name": "stderr",
          "text": [
            "[I 2023-11-24 17:57:21,623] Trial 9 finished with value: 0.018854284818816704 and parameters: {'similarity': 'dice', 'topK': 768, 'shrink': 448}. Best is trial 1 with value: 0.023191028396314605.\n"
          ]
        },
        {
          "output_type": "stream",
          "name": "stdout",
          "text": [
            "ItemKNNCFRecommender: URM Detected 336 ( 2.7%) users with no interactions.\n",
            "ItemKNNCFRecommender: URM Detected 172 ( 0.8%) items with no interactions.\n"
          ]
        },
        {
          "output_type": "stream",
          "name": "stderr",
          "text": [
            "<ipython-input-28-14c86811ef81>:10: FutureWarning: The frame.append method is deprecated and will be removed from pandas in a future version. Use pandas.concat instead.\n",
            "  self.results_df = self.results_df.append(hyperparam_dict, ignore_index=True)\n"
          ]
        },
        {
          "output_type": "stream",
          "name": "stdout",
          "text": [
            "Similarity column 22222 (100.0%), 4665.17 column/sec. Elapsed time 4.76 sec\n",
            "EvaluatorHoldout: Processed 9572 (100.0%) in 14.25 sec. Users per second: 672\n"
          ]
        },
        {
          "output_type": "stream",
          "name": "stderr",
          "text": [
            "[I 2023-11-24 17:57:41,188] Trial 10 finished with value: 0.02346201553472761 and parameters: {'similarity': 'tversky', 'topK': 955, 'shrink': 51, 'tversky_alpha': 1.493029521547096, 'tversky_beta': 1.8239402317833546}. Best is trial 10 with value: 0.02346201553472761.\n"
          ]
        },
        {
          "output_type": "stream",
          "name": "stdout",
          "text": [
            "ItemKNNCFRecommender: URM Detected 336 ( 2.7%) users with no interactions.\n",
            "ItemKNNCFRecommender: URM Detected 172 ( 0.8%) items with no interactions.\n"
          ]
        },
        {
          "output_type": "stream",
          "name": "stderr",
          "text": [
            "<ipython-input-28-14c86811ef81>:10: FutureWarning: The frame.append method is deprecated and will be removed from pandas in a future version. Use pandas.concat instead.\n",
            "  self.results_df = self.results_df.append(hyperparam_dict, ignore_index=True)\n"
          ]
        },
        {
          "output_type": "stream",
          "name": "stdout",
          "text": [
            "Similarity column 22222 (100.0%), 4694.31 column/sec. Elapsed time 4.73 sec\n",
            "EvaluatorHoldout: Processed 9572 (100.0%) in 14.21 sec. Users per second: 674\n"
          ]
        },
        {
          "output_type": "stream",
          "name": "stderr",
          "text": [
            "[I 2023-11-24 17:58:00,707] Trial 11 finished with value: 0.023890290131932453 and parameters: {'similarity': 'tversky', 'topK': 983, 'shrink': 20, 'tversky_alpha': 1.5344656115688724, 'tversky_beta': 1.7951015208464165}. Best is trial 11 with value: 0.023890290131932453.\n"
          ]
        },
        {
          "output_type": "stream",
          "name": "stdout",
          "text": [
            "ItemKNNCFRecommender: URM Detected 336 ( 2.7%) users with no interactions.\n",
            "ItemKNNCFRecommender: URM Detected 172 ( 0.8%) items with no interactions.\n"
          ]
        },
        {
          "output_type": "stream",
          "name": "stderr",
          "text": [
            "<ipython-input-28-14c86811ef81>:10: FutureWarning: The frame.append method is deprecated and will be removed from pandas in a future version. Use pandas.concat instead.\n",
            "  self.results_df = self.results_df.append(hyperparam_dict, ignore_index=True)\n"
          ]
        },
        {
          "output_type": "stream",
          "name": "stdout",
          "text": [
            "Similarity column 22222 (100.0%), 3956.93 column/sec. Elapsed time 5.62 sec\n",
            "EvaluatorHoldout: Processed 9572 (100.0%) in 13.93 sec. Users per second: 687\n"
          ]
        },
        {
          "output_type": "stream",
          "name": "stderr",
          "text": [
            "[I 2023-11-24 17:58:20,871] Trial 12 finished with value: 0.02212338898506889 and parameters: {'similarity': 'tversky', 'topK': 994, 'shrink': 184, 'tversky_alpha': 1.7963179032775884, 'tversky_beta': 1.8671736219501285}. Best is trial 11 with value: 0.023890290131932453.\n"
          ]
        },
        {
          "output_type": "stream",
          "name": "stdout",
          "text": [
            "ItemKNNCFRecommender: URM Detected 336 ( 2.7%) users with no interactions.\n",
            "ItemKNNCFRecommender: URM Detected 172 ( 0.8%) items with no interactions.\n"
          ]
        },
        {
          "output_type": "stream",
          "name": "stderr",
          "text": [
            "<ipython-input-28-14c86811ef81>:10: FutureWarning: The frame.append method is deprecated and will be removed from pandas in a future version. Use pandas.concat instead.\n",
            "  self.results_df = self.results_df.append(hyperparam_dict, ignore_index=True)\n"
          ]
        },
        {
          "output_type": "stream",
          "name": "stdout",
          "text": [
            "Similarity column 22222 (100.0%), 2759.75 column/sec. Elapsed time 8.05 sec\n",
            "EvaluatorHoldout: Processed 9572 (100.0%) in 12.83 sec. Users per second: 746\n"
          ]
        },
        {
          "output_type": "stream",
          "name": "stderr",
          "text": [
            "[I 2023-11-24 17:58:42,437] Trial 13 finished with value: 0.022148565757268163 and parameters: {'similarity': 'tversky', 'topK': 721, 'shrink': 197, 'tversky_alpha': 1.527833893629412, 'tversky_beta': 1.996822622394968}. Best is trial 11 with value: 0.023890290131932453.\n"
          ]
        },
        {
          "output_type": "stream",
          "name": "stdout",
          "text": [
            "ItemKNNCFRecommender: URM Detected 336 ( 2.7%) users with no interactions.\n",
            "ItemKNNCFRecommender: URM Detected 172 ( 0.8%) items with no interactions.\n"
          ]
        },
        {
          "output_type": "stream",
          "name": "stderr",
          "text": [
            "<ipython-input-28-14c86811ef81>:10: FutureWarning: The frame.append method is deprecated and will be removed from pandas in a future version. Use pandas.concat instead.\n",
            "  self.results_df = self.results_df.append(hyperparam_dict, ignore_index=True)\n"
          ]
        },
        {
          "output_type": "stream",
          "name": "stdout",
          "text": [
            "Similarity column 22222 (100.0%), 3421.89 column/sec. Elapsed time 6.49 sec\n",
            "EvaluatorHoldout: Processed 9572 (100.0%) in 7.16 sec. Users per second: 1336\n"
          ]
        },
        {
          "output_type": "stream",
          "name": "stderr",
          "text": [
            "[I 2023-11-24 17:58:56,324] Trial 14 finished with value: 0.023795569418741187 and parameters: {'similarity': 'tversky', 'topK': 55, 'shrink': 132, 'tversky_alpha': 1.3914097390745264, 'tversky_beta': 1.2420206912878187}. Best is trial 11 with value: 0.023890290131932453.\n"
          ]
        },
        {
          "output_type": "stream",
          "name": "stdout",
          "text": [
            "ItemKNNCFRecommender: URM Detected 336 ( 2.7%) users with no interactions.\n",
            "ItemKNNCFRecommender: URM Detected 172 ( 0.8%) items with no interactions.\n"
          ]
        },
        {
          "output_type": "stream",
          "name": "stderr",
          "text": [
            "<ipython-input-28-14c86811ef81>:10: FutureWarning: The frame.append method is deprecated and will be removed from pandas in a future version. Use pandas.concat instead.\n",
            "  self.results_df = self.results_df.append(hyperparam_dict, ignore_index=True)\n"
          ]
        },
        {
          "output_type": "stream",
          "name": "stdout",
          "text": [
            "Similarity column 22222 (100.0%), 3021.07 column/sec. Elapsed time 7.36 sec\n",
            "EvaluatorHoldout: Processed 9572 (100.0%) in 7.75 sec. Users per second: 1235\n"
          ]
        },
        {
          "output_type": "stream",
          "name": "stderr",
          "text": [
            "[I 2023-11-24 17:59:11,593] Trial 15 finished with value: 0.02280997320226319 and parameters: {'similarity': 'dice', 'topK': 57, 'shrink': 177}. Best is trial 11 with value: 0.023890290131932453.\n"
          ]
        },
        {
          "output_type": "stream",
          "name": "stdout",
          "text": [
            "ItemKNNCFRecommender: URM Detected 336 ( 2.7%) users with no interactions.\n",
            "ItemKNNCFRecommender: URM Detected 172 ( 0.8%) items with no interactions.\n"
          ]
        },
        {
          "output_type": "stream",
          "name": "stderr",
          "text": [
            "<ipython-input-28-14c86811ef81>:10: FutureWarning: The frame.append method is deprecated and will be removed from pandas in a future version. Use pandas.concat instead.\n",
            "  self.results_df = self.results_df.append(hyperparam_dict, ignore_index=True)\n"
          ]
        },
        {
          "output_type": "stream",
          "name": "stdout",
          "text": [
            "Similarity column 22222 (100.0%), 4089.76 column/sec. Elapsed time 5.43 sec\n",
            "EvaluatorHoldout: Processed 9572 (100.0%) in 8.41 sec. Users per second: 1139\n"
          ]
        },
        {
          "output_type": "stream",
          "name": "stderr",
          "text": [
            "[I 2023-11-24 17:59:25,555] Trial 16 finished with value: 0.022671042856479574 and parameters: {'similarity': 'jaccard', 'topK': 20, 'shrink': 312}. Best is trial 11 with value: 0.023890290131932453.\n"
          ]
        },
        {
          "output_type": "stream",
          "name": "stdout",
          "text": [
            "ItemKNNCFRecommender: URM Detected 336 ( 2.7%) users with no interactions.\n",
            "ItemKNNCFRecommender: URM Detected 172 ( 0.8%) items with no interactions.\n"
          ]
        },
        {
          "output_type": "stream",
          "name": "stderr",
          "text": [
            "<ipython-input-28-14c86811ef81>:10: FutureWarning: The frame.append method is deprecated and will be removed from pandas in a future version. Use pandas.concat instead.\n",
            "  self.results_df = self.results_df.append(hyperparam_dict, ignore_index=True)\n"
          ]
        },
        {
          "output_type": "stream",
          "name": "stdout",
          "text": [
            "Similarity column 22222 (100.0%), 552.23 column/sec. Elapsed time 40.24 sec\n",
            "EvaluatorHoldout: Processed 9572 (100.0%) in 7.85 sec. Users per second: 1220\n"
          ]
        },
        {
          "output_type": "stream",
          "name": "stderr",
          "text": [
            "[I 2023-11-24 18:00:14,054] Trial 17 finished with value: 0.005830717403272778 and parameters: {'similarity': 'euclidean', 'topK': 595, 'shrink': 117, 'normalize_avg_row': False, 'similarity_from_distance_mode': 'exp', 'normalize': False}. Best is trial 11 with value: 0.023890290131932453.\n"
          ]
        },
        {
          "output_type": "stream",
          "name": "stdout",
          "text": [
            "ItemKNNCFRecommender: URM Detected 336 ( 2.7%) users with no interactions.\n",
            "ItemKNNCFRecommender: URM Detected 172 ( 0.8%) items with no interactions.\n"
          ]
        },
        {
          "output_type": "stream",
          "name": "stderr",
          "text": [
            "<ipython-input-28-14c86811ef81>:10: FutureWarning: The frame.append method is deprecated and will be removed from pandas in a future version. Use pandas.concat instead.\n",
            "  self.results_df = self.results_df.append(hyperparam_dict, ignore_index=True)\n"
          ]
        },
        {
          "output_type": "stream",
          "name": "stdout",
          "text": [
            "Similarity column 22222 (100.0%), 4496.87 column/sec. Elapsed time 4.94 sec\n",
            "EvaluatorHoldout: Processed 9572 (100.0%) in 11.19 sec. Users per second: 855\n"
          ]
        },
        {
          "output_type": "stream",
          "name": "stderr",
          "text": [
            "[I 2023-11-24 18:00:30,474] Trial 18 finished with value: 0.02048895090840351 and parameters: {'similarity': 'tversky', 'topK': 131, 'shrink': 553, 'tversky_alpha': 1.1453087094701715, 'tversky_beta': 1.1078290041942056}. Best is trial 11 with value: 0.023890290131932453.\n"
          ]
        },
        {
          "output_type": "stream",
          "name": "stdout",
          "text": [
            "ItemKNNCFRecommender: URM Detected 336 ( 2.7%) users with no interactions.\n",
            "ItemKNNCFRecommender: URM Detected 172 ( 0.8%) items with no interactions.\n"
          ]
        },
        {
          "output_type": "stream",
          "name": "stderr",
          "text": [
            "<ipython-input-28-14c86811ef81>:10: FutureWarning: The frame.append method is deprecated and will be removed from pandas in a future version. Use pandas.concat instead.\n",
            "  self.results_df = self.results_df.append(hyperparam_dict, ignore_index=True)\n"
          ]
        },
        {
          "output_type": "stream",
          "name": "stdout",
          "text": [
            "Similarity column 22222 (100.0%), 4077.57 column/sec. Elapsed time 5.45 sec\n",
            "EvaluatorHoldout: Processed 9572 (100.0%) in 14.10 sec. Users per second: 679\n"
          ]
        },
        {
          "output_type": "stream",
          "name": "stderr",
          "text": [
            "[I 2023-11-24 18:00:50,532] Trial 19 finished with value: 0.02188768166411291 and parameters: {'similarity': 'tversky', 'topK': 547, 'shrink': 317, 'tversky_alpha': 1.991403462987969, 'tversky_beta': 1.2030447364738288}. Best is trial 11 with value: 0.023890290131932453.\n"
          ]
        },
        {
          "output_type": "stream",
          "name": "stdout",
          "text": [
            "ItemKNNCFRecommender: URM Detected 336 ( 2.7%) users with no interactions.\n",
            "ItemKNNCFRecommender: URM Detected 172 ( 0.8%) items with no interactions.\n"
          ]
        },
        {
          "output_type": "stream",
          "name": "stderr",
          "text": [
            "<ipython-input-28-14c86811ef81>:10: FutureWarning: The frame.append method is deprecated and will be removed from pandas in a future version. Use pandas.concat instead.\n",
            "  self.results_df = self.results_df.append(hyperparam_dict, ignore_index=True)\n"
          ]
        },
        {
          "output_type": "stream",
          "name": "stdout",
          "text": [
            "Similarity column 22222 (100.0%), 4689.44 column/sec. Elapsed time 4.74 sec\n",
            "EvaluatorHoldout: Processed 9572 (100.0%) in 14.11 sec. Users per second: 678\n"
          ]
        },
        {
          "output_type": "stream",
          "name": "stderr",
          "text": [
            "[I 2023-11-24 18:01:09,895] Trial 20 finished with value: 0.022105695182377167 and parameters: {'similarity': 'tversky', 'topK': 825, 'shrink': 134, 'tversky_alpha': 1.1580140848893423, 'tversky_beta': 1.4514922479579266}. Best is trial 11 with value: 0.023890290131932453.\n"
          ]
        },
        {
          "output_type": "stream",
          "name": "stdout",
          "text": [
            "ItemKNNCFRecommender: URM Detected 336 ( 2.7%) users with no interactions.\n",
            "ItemKNNCFRecommender: URM Detected 172 ( 0.8%) items with no interactions.\n"
          ]
        },
        {
          "output_type": "stream",
          "name": "stderr",
          "text": [
            "<ipython-input-28-14c86811ef81>:10: FutureWarning: The frame.append method is deprecated and will be removed from pandas in a future version. Use pandas.concat instead.\n",
            "  self.results_df = self.results_df.append(hyperparam_dict, ignore_index=True)\n"
          ]
        },
        {
          "output_type": "stream",
          "name": "stdout",
          "text": [
            "Similarity column 22222 (100.0%), 4693.29 column/sec. Elapsed time 4.73 sec\n",
            "EvaluatorHoldout: Processed 9572 (100.0%) in 14.06 sec. Users per second: 681\n"
          ]
        },
        {
          "output_type": "stream",
          "name": "stderr",
          "text": [
            "[I 2023-11-24 18:01:29,234] Trial 21 finished with value: 0.023137063956380755 and parameters: {'similarity': 'tversky', 'topK': 891, 'shrink': 75, 'tversky_alpha': 1.4542944191634584, 'tversky_beta': 1.6665123887759608}. Best is trial 11 with value: 0.023890290131932453.\n"
          ]
        },
        {
          "output_type": "stream",
          "name": "stdout",
          "text": [
            "ItemKNNCFRecommender: URM Detected 336 ( 2.7%) users with no interactions.\n",
            "ItemKNNCFRecommender: URM Detected 172 ( 0.8%) items with no interactions.\n"
          ]
        },
        {
          "output_type": "stream",
          "name": "stderr",
          "text": [
            "<ipython-input-28-14c86811ef81>:10: FutureWarning: The frame.append method is deprecated and will be removed from pandas in a future version. Use pandas.concat instead.\n",
            "  self.results_df = self.results_df.append(hyperparam_dict, ignore_index=True)\n"
          ]
        },
        {
          "output_type": "stream",
          "name": "stdout",
          "text": [
            "Similarity column 22222 (100.0%), 4674.90 column/sec. Elapsed time 4.75 sec\n",
            "EvaluatorHoldout: Processed 9572 (100.0%) in 14.03 sec. Users per second: 682\n"
          ]
        },
        {
          "output_type": "stream",
          "name": "stderr",
          "text": [
            "[I 2023-11-24 18:01:48,485] Trial 22 finished with value: 0.02173554315165256 and parameters: {'similarity': 'tversky', 'topK': 678, 'shrink': 248, 'tversky_alpha': 1.482898778873252, 'tversky_beta': 1.9927633556107356}. Best is trial 11 with value: 0.023890290131932453.\n"
          ]
        },
        {
          "output_type": "stream",
          "name": "stdout",
          "text": [
            "ItemKNNCFRecommender: URM Detected 336 ( 2.7%) users with no interactions.\n",
            "ItemKNNCFRecommender: URM Detected 172 ( 0.8%) items with no interactions.\n"
          ]
        },
        {
          "output_type": "stream",
          "name": "stderr",
          "text": [
            "<ipython-input-28-14c86811ef81>:10: FutureWarning: The frame.append method is deprecated and will be removed from pandas in a future version. Use pandas.concat instead.\n",
            "  self.results_df = self.results_df.append(hyperparam_dict, ignore_index=True)\n"
          ]
        },
        {
          "output_type": "stream",
          "name": "stdout",
          "text": [
            "Similarity column 22222 (100.0%), 3746.74 column/sec. Elapsed time 5.93 sec\n",
            "EvaluatorHoldout: Processed 9572 (100.0%) in 13.40 sec. Users per second: 714\n"
          ]
        },
        {
          "output_type": "stream",
          "name": "stderr",
          "text": [
            "[I 2023-11-24 18:02:08,469] Trial 23 finished with value: 0.023406608394855387 and parameters: {'similarity': 'tversky', 'topK': 853, 'shrink': 68, 'tversky_alpha': 1.5294762267301885, 'tversky_beta': 1.6079207767216512}. Best is trial 11 with value: 0.023890290131932453.\n"
          ]
        },
        {
          "output_type": "stream",
          "name": "stdout",
          "text": [
            "ItemKNNCFRecommender: URM Detected 336 ( 2.7%) users with no interactions.\n",
            "ItemKNNCFRecommender: URM Detected 172 ( 0.8%) items with no interactions.\n"
          ]
        },
        {
          "output_type": "stream",
          "name": "stderr",
          "text": [
            "<ipython-input-28-14c86811ef81>:10: FutureWarning: The frame.append method is deprecated and will be removed from pandas in a future version. Use pandas.concat instead.\n",
            "  self.results_df = self.results_df.append(hyperparam_dict, ignore_index=True)\n"
          ]
        },
        {
          "output_type": "stream",
          "name": "stdout",
          "text": [
            "Similarity column 22222 (100.0%), 2786.84 column/sec. Elapsed time 7.97 sec\n",
            "EvaluatorHoldout: Processed 9572 (100.0%) in 13.54 sec. Users per second: 707\n"
          ]
        },
        {
          "output_type": "stream",
          "name": "stderr",
          "text": [
            "[I 2023-11-24 18:02:30,628] Trial 24 finished with value: 0.023089504606690184 and parameters: {'similarity': 'tversky', 'topK': 918, 'shrink': 23, 'tversky_alpha': 1.2273990336437635, 'tversky_beta': 0.8027899465849351}. Best is trial 11 with value: 0.023890290131932453.\n"
          ]
        },
        {
          "output_type": "stream",
          "name": "stdout",
          "text": [
            "ItemKNNCFRecommender: URM Detected 336 ( 2.7%) users with no interactions.\n",
            "ItemKNNCFRecommender: URM Detected 172 ( 0.8%) items with no interactions.\n"
          ]
        },
        {
          "output_type": "stream",
          "name": "stderr",
          "text": [
            "<ipython-input-28-14c86811ef81>:10: FutureWarning: The frame.append method is deprecated and will be removed from pandas in a future version. Use pandas.concat instead.\n",
            "  self.results_df = self.results_df.append(hyperparam_dict, ignore_index=True)\n"
          ]
        },
        {
          "output_type": "stream",
          "name": "stdout",
          "text": [
            "Similarity column 22222 (100.0%), 3695.15 column/sec. Elapsed time 6.01 sec\n",
            "EvaluatorHoldout: Processed 9572 (100.0%) in 11.89 sec. Users per second: 805\n"
          ]
        },
        {
          "output_type": "stream",
          "name": "stderr",
          "text": [
            "[I 2023-11-24 18:02:48,753] Trial 25 finished with value: 0.018568199079325293 and parameters: {'similarity': 'cosine', 'topK': 200, 'shrink': 378}. Best is trial 11 with value: 0.023890290131932453.\n"
          ]
        },
        {
          "output_type": "stream",
          "name": "stdout",
          "text": [
            "ItemKNNCFRecommender: URM Detected 336 ( 2.7%) users with no interactions.\n",
            "ItemKNNCFRecommender: URM Detected 172 ( 0.8%) items with no interactions.\n"
          ]
        },
        {
          "output_type": "stream",
          "name": "stderr",
          "text": [
            "<ipython-input-28-14c86811ef81>:10: FutureWarning: The frame.append method is deprecated and will be removed from pandas in a future version. Use pandas.concat instead.\n",
            "  self.results_df = self.results_df.append(hyperparam_dict, ignore_index=True)\n"
          ]
        },
        {
          "output_type": "stream",
          "name": "stdout",
          "text": [
            "Similarity column 22222 (100.0%), 502.49 column/sec. Elapsed time 44.22 sec\n",
            "EvaluatorHoldout: Processed 9572 (100.0%) in 10.23 sec. Users per second: 936\n"
          ]
        },
        {
          "output_type": "stream",
          "name": "stderr",
          "text": [
            "[I 2023-11-24 18:03:43,697] Trial 26 finished with value: 0.01102334686486372 and parameters: {'similarity': 'euclidean', 'topK': 606, 'shrink': 517, 'normalize_avg_row': True, 'similarity_from_distance_mode': 'lin', 'normalize': True}. Best is trial 11 with value: 0.023890290131932453.\n"
          ]
        },
        {
          "output_type": "stream",
          "name": "stdout",
          "text": [
            "ItemKNNCFRecommender: URM Detected 336 ( 2.7%) users with no interactions.\n",
            "ItemKNNCFRecommender: URM Detected 172 ( 0.8%) items with no interactions.\n"
          ]
        },
        {
          "output_type": "stream",
          "name": "stderr",
          "text": [
            "<ipython-input-28-14c86811ef81>:10: FutureWarning: The frame.append method is deprecated and will be removed from pandas in a future version. Use pandas.concat instead.\n",
            "  self.results_df = self.results_df.append(hyperparam_dict, ignore_index=True)\n"
          ]
        },
        {
          "output_type": "stream",
          "name": "stdout",
          "text": [
            "Similarity column 22222 (100.0%), 4625.35 column/sec. Elapsed time 4.80 sec\n",
            "EvaluatorHoldout: Processed 9572 (100.0%) in 13.52 sec. Users per second: 708\n"
          ]
        },
        {
          "output_type": "stream",
          "name": "stderr",
          "text": [
            "[I 2023-11-24 18:04:02,479] Trial 27 finished with value: 0.022789315231594758 and parameters: {'similarity': 'jaccard', 'topK': 472, 'shrink': 106}. Best is trial 11 with value: 0.023890290131932453.\n"
          ]
        },
        {
          "output_type": "stream",
          "name": "stdout",
          "text": [
            "ItemKNNCFRecommender: URM Detected 336 ( 2.7%) users with no interactions.\n",
            "ItemKNNCFRecommender: URM Detected 172 ( 0.8%) items with no interactions.\n"
          ]
        },
        {
          "output_type": "stream",
          "name": "stderr",
          "text": [
            "<ipython-input-28-14c86811ef81>:10: FutureWarning: The frame.append method is deprecated and will be removed from pandas in a future version. Use pandas.concat instead.\n",
            "  self.results_df = self.results_df.append(hyperparam_dict, ignore_index=True)\n"
          ]
        },
        {
          "output_type": "stream",
          "name": "stdout",
          "text": [
            "Similarity column 22222 (100.0%), 5261.72 column/sec. Elapsed time 4.22 sec\n",
            "EvaluatorHoldout: Processed 9572 (100.0%) in 14.32 sec. Users per second: 668\n"
          ]
        },
        {
          "output_type": "stream",
          "name": "stderr",
          "text": [
            "[I 2023-11-24 18:04:21,533] Trial 28 finished with value: 0.02041336255215276 and parameters: {'similarity': 'dice', 'topK': 784, 'shrink': 234}. Best is trial 11 with value: 0.023890290131932453.\n"
          ]
        },
        {
          "output_type": "stream",
          "name": "stdout",
          "text": [
            "ItemKNNCFRecommender: URM Detected 336 ( 2.7%) users with no interactions.\n",
            "ItemKNNCFRecommender: URM Detected 172 ( 0.8%) items with no interactions.\n"
          ]
        },
        {
          "output_type": "stream",
          "name": "stderr",
          "text": [
            "<ipython-input-28-14c86811ef81>:10: FutureWarning: The frame.append method is deprecated and will be removed from pandas in a future version. Use pandas.concat instead.\n",
            "  self.results_df = self.results_df.append(hyperparam_dict, ignore_index=True)\n"
          ]
        },
        {
          "output_type": "stream",
          "name": "stdout",
          "text": [
            "Similarity column 22222 (100.0%), 4989.90 column/sec. Elapsed time 4.45 sec\n",
            "EvaluatorHoldout: Processed 9572 (100.0%) in 14.60 sec. Users per second: 656\n"
          ]
        },
        {
          "output_type": "stream",
          "name": "stderr",
          "text": [
            "[I 2023-11-24 18:04:41,084] Trial 29 finished with value: 0.01663209576211033 and parameters: {'similarity': 'cosine', 'topK': 941, 'shrink': 139}. Best is trial 11 with value: 0.023890290131932453.\n"
          ]
        },
        {
          "output_type": "stream",
          "name": "stdout",
          "text": [
            "ItemKNNCFRecommender: URM Detected 336 ( 2.7%) users with no interactions.\n",
            "ItemKNNCFRecommender: URM Detected 172 ( 0.8%) items with no interactions.\n"
          ]
        },
        {
          "output_type": "stream",
          "name": "stderr",
          "text": [
            "<ipython-input-28-14c86811ef81>:10: FutureWarning: The frame.append method is deprecated and will be removed from pandas in a future version. Use pandas.concat instead.\n",
            "  self.results_df = self.results_df.append(hyperparam_dict, ignore_index=True)\n"
          ]
        },
        {
          "output_type": "stream",
          "name": "stdout",
          "text": [
            "Similarity column 22222 (100.0%), 4708.67 column/sec. Elapsed time 4.72 sec\n",
            "EvaluatorHoldout: Processed 9572 (100.0%) in 13.52 sec. Users per second: 708\n"
          ]
        },
        {
          "output_type": "stream",
          "name": "stderr",
          "text": [
            "[I 2023-11-24 18:04:59,812] Trial 30 finished with value: 0.022992449870322767 and parameters: {'similarity': 'tversky', 'topK': 671, 'shrink': 48, 'tversky_alpha': 0.8870417930537241, 'tversky_beta': 1.6960570805256707}. Best is trial 11 with value: 0.023890290131932453.\n"
          ]
        },
        {
          "output_type": "stream",
          "name": "stdout",
          "text": [
            "ItemKNNCFRecommender: URM Detected 336 ( 2.7%) users with no interactions.\n",
            "ItemKNNCFRecommender: URM Detected 172 ( 0.8%) items with no interactions.\n"
          ]
        },
        {
          "output_type": "stream",
          "name": "stderr",
          "text": [
            "<ipython-input-28-14c86811ef81>:10: FutureWarning: The frame.append method is deprecated and will be removed from pandas in a future version. Use pandas.concat instead.\n",
            "  self.results_df = self.results_df.append(hyperparam_dict, ignore_index=True)\n"
          ]
        },
        {
          "output_type": "stream",
          "name": "stdout",
          "text": [
            "Similarity column 22222 (100.0%), 4664.68 column/sec. Elapsed time 4.76 sec\n",
            "EvaluatorHoldout: Processed 9572 (100.0%) in 13.96 sec. Users per second: 685\n"
          ]
        },
        {
          "output_type": "stream",
          "name": "stderr",
          "text": [
            "[I 2023-11-24 18:05:19,189] Trial 31 finished with value: 0.023162738211317393 and parameters: {'similarity': 'tversky', 'topK': 846, 'shrink': 94, 'tversky_alpha': 1.6218413198298989, 'tversky_beta': 1.6064362415667053}. Best is trial 11 with value: 0.023890290131932453.\n"
          ]
        },
        {
          "output_type": "stream",
          "name": "stdout",
          "text": [
            "ItemKNNCFRecommender: URM Detected 336 ( 2.7%) users with no interactions.\n",
            "ItemKNNCFRecommender: URM Detected 172 ( 0.8%) items with no interactions.\n"
          ]
        },
        {
          "output_type": "stream",
          "name": "stderr",
          "text": [
            "<ipython-input-28-14c86811ef81>:10: FutureWarning: The frame.append method is deprecated and will be removed from pandas in a future version. Use pandas.concat instead.\n",
            "  self.results_df = self.results_df.append(hyperparam_dict, ignore_index=True)\n"
          ]
        },
        {
          "output_type": "stream",
          "name": "stdout",
          "text": [
            "Similarity column 22222 (100.0%), 3443.64 column/sec. Elapsed time 6.45 sec\n",
            "EvaluatorHoldout: Processed 9572 (100.0%) in 13.75 sec. Users per second: 696\n"
          ]
        },
        {
          "output_type": "stream",
          "name": "stderr",
          "text": [
            "[I 2023-11-24 18:05:40,042] Trial 32 finished with value: 0.01747554457776975 and parameters: {'similarity': 'tversky', 'topK': 996, 'shrink': 961, 'tversky_alpha': 1.3836201702094075, 'tversky_beta': 1.3725945859524504}. Best is trial 11 with value: 0.023890290131932453.\n"
          ]
        },
        {
          "output_type": "stream",
          "name": "stdout",
          "text": [
            "ItemKNNCFRecommender: URM Detected 336 ( 2.7%) users with no interactions.\n",
            "ItemKNNCFRecommender: URM Detected 172 ( 0.8%) items with no interactions.\n"
          ]
        },
        {
          "output_type": "stream",
          "name": "stderr",
          "text": [
            "<ipython-input-28-14c86811ef81>:10: FutureWarning: The frame.append method is deprecated and will be removed from pandas in a future version. Use pandas.concat instead.\n",
            "  self.results_df = self.results_df.append(hyperparam_dict, ignore_index=True)\n"
          ]
        },
        {
          "output_type": "stream",
          "name": "stdout",
          "text": [
            "Similarity column 22222 (100.0%), 2879.39 column/sec. Elapsed time 7.72 sec\n",
            "EvaluatorHoldout: Processed 9572 (100.0%) in 13.32 sec. Users per second: 718\n"
          ]
        },
        {
          "output_type": "stream",
          "name": "stderr",
          "text": [
            "[I 2023-11-24 18:06:01,737] Trial 33 finished with value: 0.023935100889499107 and parameters: {'similarity': 'tversky', 'topK': 853, 'shrink': 8, 'tversky_alpha': 1.69312711410414, 'tversky_beta': 1.7665078397787433}. Best is trial 33 with value: 0.023935100889499107.\n"
          ]
        },
        {
          "output_type": "stream",
          "name": "stdout",
          "text": [
            "ItemKNNCFRecommender: URM Detected 336 ( 2.7%) users with no interactions.\n",
            "ItemKNNCFRecommender: URM Detected 172 ( 0.8%) items with no interactions.\n"
          ]
        },
        {
          "output_type": "stream",
          "name": "stderr",
          "text": [
            "<ipython-input-28-14c86811ef81>:10: FutureWarning: The frame.append method is deprecated and will be removed from pandas in a future version. Use pandas.concat instead.\n",
            "  self.results_df = self.results_df.append(hyperparam_dict, ignore_index=True)\n"
          ]
        },
        {
          "output_type": "stream",
          "name": "stdout",
          "text": [
            "Similarity column 22222 (100.0%), 3863.23 column/sec. Elapsed time 5.75 sec\n",
            "EvaluatorHoldout: Processed 9572 (100.0%) in 14.33 sec. Users per second: 668\n"
          ]
        },
        {
          "output_type": "stream",
          "name": "stderr",
          "text": [
            "[I 2023-11-24 18:06:22,486] Trial 34 finished with value: 0.023862750316730668 and parameters: {'similarity': 'tversky', 'topK': 925, 'shrink': 36, 'tversky_alpha': 1.758026837600633, 'tversky_beta': 1.8002139621948714}. Best is trial 33 with value: 0.023935100889499107.\n"
          ]
        },
        {
          "output_type": "stream",
          "name": "stdout",
          "text": [
            "ItemKNNCFRecommender: URM Detected 336 ( 2.7%) users with no interactions.\n",
            "ItemKNNCFRecommender: URM Detected 172 ( 0.8%) items with no interactions.\n"
          ]
        },
        {
          "output_type": "stream",
          "name": "stderr",
          "text": [
            "<ipython-input-28-14c86811ef81>:10: FutureWarning: The frame.append method is deprecated and will be removed from pandas in a future version. Use pandas.concat instead.\n",
            "  self.results_df = self.results_df.append(hyperparam_dict, ignore_index=True)\n"
          ]
        },
        {
          "output_type": "stream",
          "name": "stdout",
          "text": [
            "Similarity column 22222 (100.0%), 4670.84 column/sec. Elapsed time 4.76 sec\n",
            "EvaluatorHoldout: Processed 9572 (100.0%) in 14.05 sec. Users per second: 681\n"
          ]
        },
        {
          "output_type": "stream",
          "name": "stderr",
          "text": [
            "[I 2023-11-24 18:06:41,848] Trial 35 finished with value: 0.023701723446029725 and parameters: {'similarity': 'tversky', 'topK': 904, 'shrink': 6, 'tversky_alpha': 1.806817698712824, 'tversky_beta': 1.7775227201972088}. Best is trial 33 with value: 0.023935100889499107.\n"
          ]
        },
        {
          "output_type": "stream",
          "name": "stdout",
          "text": [
            "ItemKNNCFRecommender: URM Detected 336 ( 2.7%) users with no interactions.\n",
            "ItemKNNCFRecommender: URM Detected 172 ( 0.8%) items with no interactions.\n"
          ]
        },
        {
          "output_type": "stream",
          "name": "stderr",
          "text": [
            "<ipython-input-28-14c86811ef81>:10: FutureWarning: The frame.append method is deprecated and will be removed from pandas in a future version. Use pandas.concat instead.\n",
            "  self.results_df = self.results_df.append(hyperparam_dict, ignore_index=True)\n"
          ]
        },
        {
          "output_type": "stream",
          "name": "stdout",
          "text": [
            "Similarity column 22222 (100.0%), 4680.39 column/sec. Elapsed time 4.75 sec\n",
            "EvaluatorHoldout: Processed 9572 (100.0%) in 14.18 sec. Users per second: 675\n"
          ]
        },
        {
          "output_type": "stream",
          "name": "stderr",
          "text": [
            "[I 2023-11-24 18:07:01,301] Trial 36 finished with value: 0.021803756326322064 and parameters: {'similarity': 'tversky', 'topK': 790, 'shrink': 245, 'tversky_alpha': 1.7288122678115565, 'tversky_beta': 1.3658963826446398}. Best is trial 33 with value: 0.023935100889499107.\n"
          ]
        },
        {
          "output_type": "stream",
          "name": "stdout",
          "text": [
            "ItemKNNCFRecommender: URM Detected 336 ( 2.7%) users with no interactions.\n",
            "ItemKNNCFRecommender: URM Detected 172 ( 0.8%) items with no interactions.\n"
          ]
        },
        {
          "output_type": "stream",
          "name": "stderr",
          "text": [
            "<ipython-input-28-14c86811ef81>:10: FutureWarning: The frame.append method is deprecated and will be removed from pandas in a future version. Use pandas.concat instead.\n",
            "  self.results_df = self.results_df.append(hyperparam_dict, ignore_index=True)\n"
          ]
        },
        {
          "output_type": "stream",
          "name": "stdout",
          "text": [
            "Similarity column 22222 (100.0%), 4907.93 column/sec. Elapsed time 4.53 sec\n",
            "EvaluatorHoldout: Processed 9572 (100.0%) in 13.25 sec. Users per second: 722\n"
          ]
        },
        {
          "output_type": "stream",
          "name": "stderr",
          "text": [
            "[I 2023-11-24 18:07:19,550] Trial 37 finished with value: 0.022576906685504706 and parameters: {'similarity': 'asymmetric', 'topK': 730, 'shrink': 7, 'asymmetric_alpha': 0.009994950071275044}. Best is trial 33 with value: 0.023935100889499107.\n"
          ]
        },
        {
          "output_type": "stream",
          "name": "stdout",
          "text": [
            "ItemKNNCFRecommender: URM Detected 336 ( 2.7%) users with no interactions.\n",
            "ItemKNNCFRecommender: URM Detected 172 ( 0.8%) items with no interactions.\n"
          ]
        },
        {
          "output_type": "stream",
          "name": "stderr",
          "text": [
            "<ipython-input-28-14c86811ef81>:10: FutureWarning: The frame.append method is deprecated and will be removed from pandas in a future version. Use pandas.concat instead.\n",
            "  self.results_df = self.results_df.append(hyperparam_dict, ignore_index=True)\n"
          ]
        },
        {
          "output_type": "stream",
          "name": "stdout",
          "text": [
            "Similarity column 22222 (100.0%), 4833.27 column/sec. Elapsed time 4.60 sec\n",
            "EvaluatorHoldout: Processed 9572 (100.0%) in 13.54 sec. Users per second: 707\n"
          ]
        },
        {
          "output_type": "stream",
          "name": "stderr",
          "text": [
            "[I 2023-11-24 18:07:38,058] Trial 38 finished with value: 0.016154416983397264 and parameters: {'similarity': 'cosine', 'topK': 390, 'shrink': 627}. Best is trial 33 with value: 0.023935100889499107.\n"
          ]
        },
        {
          "output_type": "stream",
          "name": "stdout",
          "text": [
            "ItemKNNCFRecommender: URM Detected 336 ( 2.7%) users with no interactions.\n",
            "ItemKNNCFRecommender: URM Detected 172 ( 0.8%) items with no interactions.\n"
          ]
        },
        {
          "output_type": "stream",
          "name": "stderr",
          "text": [
            "<ipython-input-28-14c86811ef81>:10: FutureWarning: The frame.append method is deprecated and will be removed from pandas in a future version. Use pandas.concat instead.\n",
            "  self.results_df = self.results_df.append(hyperparam_dict, ignore_index=True)\n"
          ]
        },
        {
          "output_type": "stream",
          "name": "stdout",
          "text": [
            "Similarity column 22222 (100.0%), 4094.21 column/sec. Elapsed time 5.43 sec\n",
            "EvaluatorHoldout: Processed 9572 (100.0%) in 13.79 sec. Users per second: 694\n"
          ]
        },
        {
          "output_type": "stream",
          "name": "stderr",
          "text": [
            "[I 2023-11-24 18:07:57,904] Trial 39 finished with value: 0.017100828142930055 and parameters: {'similarity': 'jaccard', 'topK': 869, 'shrink': 834}. Best is trial 33 with value: 0.023935100889499107.\n"
          ]
        },
        {
          "output_type": "stream",
          "name": "stdout",
          "text": [
            "ItemKNNCFRecommender: URM Detected 336 ( 2.7%) users with no interactions.\n",
            "ItemKNNCFRecommender: URM Detected 172 ( 0.8%) items with no interactions.\n"
          ]
        },
        {
          "output_type": "stream",
          "name": "stderr",
          "text": [
            "<ipython-input-28-14c86811ef81>:10: FutureWarning: The frame.append method is deprecated and will be removed from pandas in a future version. Use pandas.concat instead.\n",
            "  self.results_df = self.results_df.append(hyperparam_dict, ignore_index=True)\n"
          ]
        },
        {
          "output_type": "stream",
          "name": "stdout",
          "text": [
            "Similarity column 22222 (100.0%), 2749.58 column/sec. Elapsed time 8.08 sec\n",
            "EvaluatorHoldout: Processed 9572 (100.0%) in 9.06 sec. Users per second: 1057\n"
          ]
        },
        {
          "output_type": "stream",
          "name": "stderr",
          "text": [
            "[I 2023-11-24 18:08:15,327] Trial 40 finished with value: 0.02347793083663328 and parameters: {'similarity': 'tversky', 'topK': 194, 'shrink': 167, 'tversky_alpha': 1.9372391059128167, 'tversky_beta': 1.8023960335018065}. Best is trial 33 with value: 0.023935100889499107.\n"
          ]
        },
        {
          "output_type": "stream",
          "name": "stdout",
          "text": [
            "ItemKNNCFRecommender: URM Detected 336 ( 2.7%) users with no interactions.\n",
            "ItemKNNCFRecommender: URM Detected 172 ( 0.8%) items with no interactions.\n"
          ]
        },
        {
          "output_type": "stream",
          "name": "stderr",
          "text": [
            "<ipython-input-28-14c86811ef81>:10: FutureWarning: The frame.append method is deprecated and will be removed from pandas in a future version. Use pandas.concat instead.\n",
            "  self.results_df = self.results_df.append(hyperparam_dict, ignore_index=True)\n"
          ]
        },
        {
          "output_type": "stream",
          "name": "stdout",
          "text": [
            "Similarity column 22222 (100.0%), 2726.96 column/sec. Elapsed time 8.15 sec\n",
            "EvaluatorHoldout: Processed 9572 (100.0%) in 13.06 sec. Users per second: 733\n"
          ]
        },
        {
          "output_type": "stream",
          "name": "stderr",
          "text": [
            "[I 2023-11-24 18:08:37,156] Trial 41 finished with value: 0.02367346642654834 and parameters: {'similarity': 'tversky', 'topK': 915, 'shrink': 6, 'tversky_alpha': 1.7203781078193536, 'tversky_beta': 1.7650967873972905}. Best is trial 33 with value: 0.023935100889499107.\n"
          ]
        },
        {
          "output_type": "stream",
          "name": "stdout",
          "text": [
            "ItemKNNCFRecommender: URM Detected 336 ( 2.7%) users with no interactions.\n",
            "ItemKNNCFRecommender: URM Detected 172 ( 0.8%) items with no interactions.\n"
          ]
        },
        {
          "output_type": "stream",
          "name": "stderr",
          "text": [
            "<ipython-input-28-14c86811ef81>:10: FutureWarning: The frame.append method is deprecated and will be removed from pandas in a future version. Use pandas.concat instead.\n",
            "  self.results_df = self.results_df.append(hyperparam_dict, ignore_index=True)\n"
          ]
        },
        {
          "output_type": "stream",
          "name": "stdout",
          "text": [
            "Similarity column 22222 (100.0%), 3453.78 column/sec. Elapsed time 6.43 sec\n",
            "EvaluatorHoldout: Processed 9572 (100.0%) in 14.35 sec. Users per second: 667\n"
          ]
        },
        {
          "output_type": "stream",
          "name": "stderr",
          "text": [
            "[I 2023-11-24 18:08:58,603] Trial 42 finished with value: 0.023376825761646087 and parameters: {'similarity': 'tversky', 'topK': 944, 'shrink': 72, 'tversky_alpha': 1.7522113979315193, 'tversky_beta': 1.8991906122698092}. Best is trial 33 with value: 0.023935100889499107.\n"
          ]
        },
        {
          "output_type": "stream",
          "name": "stdout",
          "text": [
            "ItemKNNCFRecommender: URM Detected 336 ( 2.7%) users with no interactions.\n",
            "ItemKNNCFRecommender: URM Detected 172 ( 0.8%) items with no interactions.\n"
          ]
        },
        {
          "output_type": "stream",
          "name": "stderr",
          "text": [
            "<ipython-input-28-14c86811ef81>:10: FutureWarning: The frame.append method is deprecated and will be removed from pandas in a future version. Use pandas.concat instead.\n",
            "  self.results_df = self.results_df.append(hyperparam_dict, ignore_index=True)\n"
          ]
        },
        {
          "output_type": "stream",
          "name": "stdout",
          "text": [
            "Similarity column 22222 (100.0%), 4671.34 column/sec. Elapsed time 4.76 sec\n",
            "EvaluatorHoldout: Processed 9572 (100.0%) in 14.11 sec. Users per second: 679\n"
          ]
        },
        {
          "output_type": "stream",
          "name": "stderr",
          "text": [
            "[I 2023-11-24 18:09:18,016] Trial 43 finished with value: 0.023990255142313194 and parameters: {'similarity': 'tversky', 'topK': 880, 'shrink': 13, 'tversky_alpha': 1.8693471627142506, 'tversky_beta': 1.7242666389109231}. Best is trial 43 with value: 0.023990255142313194.\n"
          ]
        },
        {
          "output_type": "stream",
          "name": "stdout",
          "text": [
            "ItemKNNCFRecommender: URM Detected 336 ( 2.7%) users with no interactions.\n",
            "ItemKNNCFRecommender: URM Detected 172 ( 0.8%) items with no interactions.\n"
          ]
        },
        {
          "output_type": "stream",
          "name": "stderr",
          "text": [
            "<ipython-input-28-14c86811ef81>:10: FutureWarning: The frame.append method is deprecated and will be removed from pandas in a future version. Use pandas.concat instead.\n",
            "  self.results_df = self.results_df.append(hyperparam_dict, ignore_index=True)\n"
          ]
        },
        {
          "output_type": "stream",
          "name": "stdout",
          "text": [
            "Similarity column 22222 (100.0%), 455.92 column/sec. Elapsed time 48.74 sec\n",
            "EvaluatorHoldout: Processed 9572 (100.0%) in 6.39 sec. Users per second: 1498\n"
          ]
        },
        {
          "output_type": "stream",
          "name": "stderr",
          "text": [
            "[I 2023-11-24 18:10:13,771] Trial 44 finished with value: 0.0075448397773930365 and parameters: {'similarity': 'euclidean', 'topK': 833, 'shrink': 129, 'normalize_avg_row': False, 'similarity_from_distance_mode': 'log', 'normalize': False}. Best is trial 43 with value: 0.023990255142313194.\n"
          ]
        },
        {
          "output_type": "stream",
          "name": "stdout",
          "text": [
            "ItemKNNCFRecommender: URM Detected 336 ( 2.7%) users with no interactions.\n",
            "ItemKNNCFRecommender: URM Detected 172 ( 0.8%) items with no interactions.\n"
          ]
        },
        {
          "output_type": "stream",
          "name": "stderr",
          "text": [
            "<ipython-input-28-14c86811ef81>:10: FutureWarning: The frame.append method is deprecated and will be removed from pandas in a future version. Use pandas.concat instead.\n",
            "  self.results_df = self.results_df.append(hyperparam_dict, ignore_index=True)\n"
          ]
        },
        {
          "output_type": "stream",
          "name": "stdout",
          "text": [
            "Similarity column 22222 (100.0%), 4920.80 column/sec. Elapsed time 4.52 sec\n",
            "EvaluatorHoldout: Processed 9572 (100.0%) in 15.44 sec. Users per second: 620\n"
          ]
        },
        {
          "output_type": "stream",
          "name": "stderr",
          "text": [
            "[I 2023-11-24 18:10:34,242] Trial 45 finished with value: 0.012635675979543447 and parameters: {'similarity': 'asymmetric', 'topK': 975, 'shrink': 80, 'asymmetric_alpha': 1.499414870255505}. Best is trial 43 with value: 0.023990255142313194.\n"
          ]
        },
        {
          "output_type": "stream",
          "name": "stdout",
          "text": [
            "ItemKNNCFRecommender: URM Detected 336 ( 2.7%) users with no interactions.\n",
            "ItemKNNCFRecommender: URM Detected 172 ( 0.8%) items with no interactions.\n"
          ]
        },
        {
          "output_type": "stream",
          "name": "stderr",
          "text": [
            "<ipython-input-28-14c86811ef81>:10: FutureWarning: The frame.append method is deprecated and will be removed from pandas in a future version. Use pandas.concat instead.\n",
            "  self.results_df = self.results_df.append(hyperparam_dict, ignore_index=True)\n"
          ]
        },
        {
          "output_type": "stream",
          "name": "stdout",
          "text": [
            "Similarity column 22222 (100.0%), 3661.78 column/sec. Elapsed time 6.07 sec\n",
            "EvaluatorHoldout: Processed 9572 (100.0%) in 13.05 sec. Users per second: 734\n"
          ]
        },
        {
          "output_type": "stream",
          "name": "stderr",
          "text": [
            "[I 2023-11-24 18:10:53,925] Trial 46 finished with value: 0.020844311119070823 and parameters: {'similarity': 'dice', 'topK': 742, 'shrink': 206}. Best is trial 43 with value: 0.023990255142313194.\n"
          ]
        },
        {
          "output_type": "stream",
          "name": "stdout",
          "text": [
            "ItemKNNCFRecommender: URM Detected 336 ( 2.7%) users with no interactions.\n",
            "ItemKNNCFRecommender: URM Detected 172 ( 0.8%) items with no interactions.\n"
          ]
        },
        {
          "output_type": "stream",
          "name": "stderr",
          "text": [
            "<ipython-input-28-14c86811ef81>:10: FutureWarning: The frame.append method is deprecated and will be removed from pandas in a future version. Use pandas.concat instead.\n",
            "  self.results_df = self.results_df.append(hyperparam_dict, ignore_index=True)\n"
          ]
        },
        {
          "output_type": "stream",
          "name": "stdout",
          "text": [
            "Similarity column 22222 (100.0%), 2759.85 column/sec. Elapsed time 8.05 sec\n",
            "EvaluatorHoldout: Processed 9572 (100.0%) in 13.01 sec. Users per second: 736\n"
          ]
        },
        {
          "output_type": "stream",
          "name": "stderr",
          "text": [
            "[I 2023-11-24 18:11:15,578] Trial 47 finished with value: 0.023877401183345595 and parameters: {'similarity': 'tversky', 'topK': 807, 'shrink': 39, 'tversky_alpha': 1.8908860474670708, 'tversky_beta': 1.5860974037306228}. Best is trial 43 with value: 0.023990255142313194.\n"
          ]
        },
        {
          "output_type": "stream",
          "name": "stdout",
          "text": [
            "ItemKNNCFRecommender: URM Detected 336 ( 2.7%) users with no interactions.\n",
            "ItemKNNCFRecommender: URM Detected 172 ( 0.8%) items with no interactions.\n"
          ]
        },
        {
          "output_type": "stream",
          "name": "stderr",
          "text": [
            "<ipython-input-28-14c86811ef81>:10: FutureWarning: The frame.append method is deprecated and will be removed from pandas in a future version. Use pandas.concat instead.\n",
            "  self.results_df = self.results_df.append(hyperparam_dict, ignore_index=True)\n"
          ]
        },
        {
          "output_type": "stream",
          "name": "stdout",
          "text": [
            "Similarity column 22222 (100.0%), 3659.82 column/sec. Elapsed time 6.07 sec\n",
            "EvaluatorHoldout: Processed 9572 (100.0%) in 13.42 sec. Users per second: 713\n"
          ]
        },
        {
          "output_type": "stream",
          "name": "stderr",
          "text": [
            "[I 2023-11-24 18:11:35,642] Trial 48 finished with value: 0.02393404373868229 and parameters: {'similarity': 'tversky', 'topK': 662, 'shrink': 51, 'tversky_alpha': 1.9684121165858137, 'tversky_beta': 1.5728505343748114}. Best is trial 43 with value: 0.023990255142313194.\n"
          ]
        },
        {
          "output_type": "stream",
          "name": "stdout",
          "text": [
            "ItemKNNCFRecommender: URM Detected 336 ( 2.7%) users with no interactions.\n",
            "ItemKNNCFRecommender: URM Detected 172 ( 0.8%) items with no interactions.\n"
          ]
        },
        {
          "output_type": "stream",
          "name": "stderr",
          "text": [
            "<ipython-input-28-14c86811ef81>:10: FutureWarning: The frame.append method is deprecated and will be removed from pandas in a future version. Use pandas.concat instead.\n",
            "  self.results_df = self.results_df.append(hyperparam_dict, ignore_index=True)\n"
          ]
        },
        {
          "output_type": "stream",
          "name": "stdout",
          "text": [
            "Similarity column 22222 (100.0%), 4520.19 column/sec. Elapsed time 4.92 sec\n",
            "EvaluatorHoldout: Processed 9572 (100.0%) in 14.21 sec. Users per second: 674\n"
          ]
        },
        {
          "output_type": "stream",
          "name": "stderr",
          "text": [
            "[I 2023-11-24 18:11:55,342] Trial 49 finished with value: 0.021969049111495758 and parameters: {'similarity': 'tversky', 'topK': 692, 'shrink': 283, 'tversky_alpha': 1.9704040453112468, 'tversky_beta': 1.5502522844180822}. Best is trial 43 with value: 0.023990255142313194.\n",
            "<ipython-input-28-14c86811ef81>:10: FutureWarning: The frame.append method is deprecated and will be removed from pandas in a future version. Use pandas.concat instead.\n",
            "  self.results_df = self.results_df.append(hyperparam_dict, ignore_index=True)\n"
          ]
        }
      ]
    },
    {
      "cell_type": "code",
      "source": [
        "user_optuna_study = optuna.create_study(direction=\"maximize\")\n",
        "\n",
        "user_save_results = SaveResults()\n",
        "\n",
        "user_optuna_study.optimize(objective_function_UserKNN_similarities,\n",
        "                      callbacks=[user_save_results],\n",
        "                      n_trials = 50)"
      ],
      "metadata": {
        "colab": {
          "base_uri": "https://localhost:8080/"
        },
        "id": "yrbk9COxzmS0",
        "outputId": "8ad7caa7-5d1d-4500-d342-b70336ff6c90"
      },
      "execution_count": 30,
      "outputs": [
        {
          "output_type": "stream",
          "name": "stderr",
          "text": [
            "[I 2023-11-24 18:12:11,901] A new study created in memory with name: no-name-0d65c4c4-b00d-4608-8e8f-7393471d36af\n"
          ]
        },
        {
          "output_type": "stream",
          "name": "stdout",
          "text": [
            "UserKNNCFRecommender: URM Detected 336 ( 2.7%) users with no interactions.\n",
            "UserKNNCFRecommender: URM Detected 172 ( 0.8%) items with no interactions.\n",
            "Similarity column 12638 (100.0%), 5728.65 column/sec. Elapsed time 2.21 sec\n",
            "EvaluatorHoldout: Processed 9572 (100.0%) in 11.23 sec. Users per second: 852\n"
          ]
        },
        {
          "output_type": "stream",
          "name": "stderr",
          "text": [
            "[I 2023-11-24 18:12:25,591] Trial 0 finished with value: 0.018399801172732627 and parameters: {'similarity': 'asymmetric', 'topK': 605, 'shrink': 938, 'asymmetric_alpha': 0.25101267692936013}. Best is trial 0 with value: 0.018399801172732627.\n"
          ]
        },
        {
          "output_type": "stream",
          "name": "stdout",
          "text": [
            "UserKNNCFRecommender: URM Detected 336 ( 2.7%) users with no interactions.\n",
            "UserKNNCFRecommender: URM Detected 172 ( 0.8%) items with no interactions.\n"
          ]
        },
        {
          "output_type": "stream",
          "name": "stderr",
          "text": [
            "<ipython-input-28-14c86811ef81>:10: FutureWarning: The frame.append method is deprecated and will be removed from pandas in a future version. Use pandas.concat instead.\n",
            "  self.results_df = self.results_df.append(hyperparam_dict, ignore_index=True)\n"
          ]
        },
        {
          "output_type": "stream",
          "name": "stdout",
          "text": [
            "Similarity column 12638 (100.0%), 6026.51 column/sec. Elapsed time 2.10 sec\n",
            "EvaluatorHoldout: Processed 9572 (100.0%) in 7.04 sec. Users per second: 1359\n"
          ]
        },
        {
          "output_type": "stream",
          "name": "stderr",
          "text": [
            "[I 2023-11-24 18:12:34,835] Trial 1 finished with value: 0.016590589119057524 and parameters: {'similarity': 'cosine', 'topK': 148, 'shrink': 971}. Best is trial 0 with value: 0.018399801172732627.\n"
          ]
        },
        {
          "output_type": "stream",
          "name": "stdout",
          "text": [
            "UserKNNCFRecommender: URM Detected 336 ( 2.7%) users with no interactions.\n",
            "UserKNNCFRecommender: URM Detected 172 ( 0.8%) items with no interactions.\n"
          ]
        },
        {
          "output_type": "stream",
          "name": "stderr",
          "text": [
            "<ipython-input-28-14c86811ef81>:10: FutureWarning: The frame.append method is deprecated and will be removed from pandas in a future version. Use pandas.concat instead.\n",
            "  self.results_df = self.results_df.append(hyperparam_dict, ignore_index=True)\n"
          ]
        },
        {
          "output_type": "stream",
          "name": "stdout",
          "text": [
            "Similarity column 12638 (100.0%), 867.02 column/sec. Elapsed time 14.58 sec\n",
            "EvaluatorHoldout: Processed 9572 (100.0%) in 9.00 sec. Users per second: 1063\n"
          ]
        },
        {
          "output_type": "stream",
          "name": "stderr",
          "text": [
            "[I 2023-11-24 18:12:58,522] Trial 2 finished with value: 0.016380667986654142 and parameters: {'similarity': 'euclidean', 'topK': 178, 'shrink': 724, 'normalize_avg_row': False, 'similarity_from_distance_mode': 'exp', 'normalize': True}. Best is trial 0 with value: 0.018399801172732627.\n"
          ]
        },
        {
          "output_type": "stream",
          "name": "stdout",
          "text": [
            "UserKNNCFRecommender: URM Detected 336 ( 2.7%) users with no interactions.\n",
            "UserKNNCFRecommender: URM Detected 172 ( 0.8%) items with no interactions.\n"
          ]
        },
        {
          "output_type": "stream",
          "name": "stderr",
          "text": [
            "<ipython-input-28-14c86811ef81>:10: FutureWarning: The frame.append method is deprecated and will be removed from pandas in a future version. Use pandas.concat instead.\n",
            "  self.results_df = self.results_df.append(hyperparam_dict, ignore_index=True)\n"
          ]
        },
        {
          "output_type": "stream",
          "name": "stdout",
          "text": [
            "Similarity column 12638 (100.0%), 4312.95 column/sec. Elapsed time 2.93 sec\n",
            "EvaluatorHoldout: Processed 9572 (100.0%) in 11.02 sec. Users per second: 869\n"
          ]
        },
        {
          "output_type": "stream",
          "name": "stderr",
          "text": [
            "[I 2023-11-24 18:13:12,918] Trial 3 finished with value: 0.01780139991642291 and parameters: {'similarity': 'dice', 'topK': 976, 'shrink': 55}. Best is trial 0 with value: 0.018399801172732627.\n"
          ]
        },
        {
          "output_type": "stream",
          "name": "stdout",
          "text": [
            "UserKNNCFRecommender: URM Detected 336 ( 2.7%) users with no interactions.\n",
            "UserKNNCFRecommender: URM Detected 172 ( 0.8%) items with no interactions.\n"
          ]
        },
        {
          "output_type": "stream",
          "name": "stderr",
          "text": [
            "<ipython-input-28-14c86811ef81>:10: FutureWarning: The frame.append method is deprecated and will be removed from pandas in a future version. Use pandas.concat instead.\n",
            "  self.results_df = self.results_df.append(hyperparam_dict, ignore_index=True)\n"
          ]
        },
        {
          "output_type": "stream",
          "name": "stdout",
          "text": [
            "Similarity column 12638 (100.0%), 3536.79 column/sec. Elapsed time 3.57 sec\n",
            "EvaluatorHoldout: Processed 9572 (100.0%) in 8.85 sec. Users per second: 1081\n"
          ]
        },
        {
          "output_type": "stream",
          "name": "stderr",
          "text": [
            "[I 2023-11-24 18:13:25,558] Trial 4 finished with value: 0.018653708070496627 and parameters: {'similarity': 'cosine', 'topK': 419, 'shrink': 252}. Best is trial 4 with value: 0.018653708070496627.\n"
          ]
        },
        {
          "output_type": "stream",
          "name": "stdout",
          "text": [
            "UserKNNCFRecommender: URM Detected 336 ( 2.7%) users with no interactions.\n",
            "UserKNNCFRecommender: URM Detected 172 ( 0.8%) items with no interactions.\n"
          ]
        },
        {
          "output_type": "stream",
          "name": "stderr",
          "text": [
            "<ipython-input-28-14c86811ef81>:10: FutureWarning: The frame.append method is deprecated and will be removed from pandas in a future version. Use pandas.concat instead.\n",
            "  self.results_df = self.results_df.append(hyperparam_dict, ignore_index=True)\n"
          ]
        },
        {
          "output_type": "stream",
          "name": "stdout",
          "text": [
            "Similarity column 12638 (100.0%), 7570.77 column/sec. Elapsed time 1.67 sec\n",
            "EvaluatorHoldout: Processed 9572 (100.0%) in 7.81 sec. Users per second: 1226\n"
          ]
        },
        {
          "output_type": "stream",
          "name": "stderr",
          "text": [
            "[I 2023-11-24 18:13:35,786] Trial 5 finished with value: 1.5148349352277475e-05 and parameters: {'similarity': 'pearson', 'topK': 262, 'shrink': 863}. Best is trial 4 with value: 0.018653708070496627.\n"
          ]
        },
        {
          "output_type": "stream",
          "name": "stdout",
          "text": [
            "UserKNNCFRecommender: URM Detected 336 ( 2.7%) users with no interactions.\n",
            "UserKNNCFRecommender: URM Detected 172 ( 0.8%) items with no interactions.\n"
          ]
        },
        {
          "output_type": "stream",
          "name": "stderr",
          "text": [
            "<ipython-input-28-14c86811ef81>:10: FutureWarning: The frame.append method is deprecated and will be removed from pandas in a future version. Use pandas.concat instead.\n",
            "  self.results_df = self.results_df.append(hyperparam_dict, ignore_index=True)\n"
          ]
        },
        {
          "output_type": "stream",
          "name": "stdout",
          "text": [
            "Similarity column 12638 (100.0%), 5953.67 column/sec. Elapsed time 2.12 sec\n",
            "EvaluatorHoldout: Processed 9572 (100.0%) in 9.47 sec. Users per second: 1010\n"
          ]
        },
        {
          "output_type": "stream",
          "name": "stderr",
          "text": [
            "[I 2023-11-24 18:13:47,682] Trial 6 finished with value: 0.018443119482087256 and parameters: {'similarity': 'jaccard', 'topK': 546, 'shrink': 975}. Best is trial 4 with value: 0.018653708070496627.\n"
          ]
        },
        {
          "output_type": "stream",
          "name": "stdout",
          "text": [
            "UserKNNCFRecommender: URM Detected 336 ( 2.7%) users with no interactions.\n",
            "UserKNNCFRecommender: URM Detected 172 ( 0.8%) items with no interactions.\n"
          ]
        },
        {
          "output_type": "stream",
          "name": "stderr",
          "text": [
            "<ipython-input-28-14c86811ef81>:10: FutureWarning: The frame.append method is deprecated and will be removed from pandas in a future version. Use pandas.concat instead.\n",
            "  self.results_df = self.results_df.append(hyperparam_dict, ignore_index=True)\n"
          ]
        },
        {
          "output_type": "stream",
          "name": "stdout",
          "text": [
            "Similarity column 12638 (100.0%), 4081.25 column/sec. Elapsed time 3.10 sec\n",
            "EvaluatorHoldout: Processed 9572 (100.0%) in 5.33 sec. Users per second: 1796\n"
          ]
        },
        {
          "output_type": "stream",
          "name": "stderr",
          "text": [
            "[I 2023-11-24 18:13:57,553] Trial 7 finished with value: 1.5148349352277475e-05 and parameters: {'similarity': 'pearson', 'topK': 871, 'shrink': 168}. Best is trial 4 with value: 0.018653708070496627.\n"
          ]
        },
        {
          "output_type": "stream",
          "name": "stdout",
          "text": [
            "UserKNNCFRecommender: URM Detected 336 ( 2.7%) users with no interactions.\n",
            "UserKNNCFRecommender: URM Detected 172 ( 0.8%) items with no interactions.\n"
          ]
        },
        {
          "output_type": "stream",
          "name": "stderr",
          "text": [
            "<ipython-input-28-14c86811ef81>:10: FutureWarning: The frame.append method is deprecated and will be removed from pandas in a future version. Use pandas.concat instead.\n",
            "  self.results_df = self.results_df.append(hyperparam_dict, ignore_index=True)\n"
          ]
        },
        {
          "output_type": "stream",
          "name": "stdout",
          "text": [
            "Similarity column 12638 (100.0%), 5918.47 column/sec. Elapsed time 2.14 sec\n",
            "EvaluatorHoldout: Processed 9572 (100.0%) in 7.09 sec. Users per second: 1349\n"
          ]
        },
        {
          "output_type": "stream",
          "name": "stderr",
          "text": [
            "[I 2023-11-24 18:14:06,897] Trial 8 finished with value: 0.00814735355766487 and parameters: {'similarity': 'tversky', 'topK': 17, 'shrink': 920, 'tversky_alpha': 1.291695672460427, 'tversky_beta': 0.6982630997209056}. Best is trial 4 with value: 0.018653708070496627.\n"
          ]
        },
        {
          "output_type": "stream",
          "name": "stdout",
          "text": [
            "UserKNNCFRecommender: URM Detected 336 ( 2.7%) users with no interactions.\n",
            "UserKNNCFRecommender: URM Detected 172 ( 0.8%) items with no interactions.\n"
          ]
        },
        {
          "output_type": "stream",
          "name": "stderr",
          "text": [
            "<ipython-input-28-14c86811ef81>:10: FutureWarning: The frame.append method is deprecated and will be removed from pandas in a future version. Use pandas.concat instead.\n",
            "  self.results_df = self.results_df.append(hyperparam_dict, ignore_index=True)\n"
          ]
        },
        {
          "output_type": "stream",
          "name": "stdout",
          "text": [
            "Similarity column 12638 (100.0%), 4786.50 column/sec. Elapsed time 2.64 sec\n",
            "EvaluatorHoldout: Processed 9572 (100.0%) in 5.03 sec. Users per second: 1903\n"
          ]
        },
        {
          "output_type": "stream",
          "name": "stderr",
          "text": [
            "[I 2023-11-24 18:14:16,053] Trial 9 finished with value: 1.5148349352277475e-05 and parameters: {'similarity': 'pearson', 'topK': 362, 'shrink': 43}. Best is trial 4 with value: 0.018653708070496627.\n"
          ]
        },
        {
          "output_type": "stream",
          "name": "stdout",
          "text": [
            "UserKNNCFRecommender: URM Detected 336 ( 2.7%) users with no interactions.\n",
            "UserKNNCFRecommender: URM Detected 172 ( 0.8%) items with no interactions.\n"
          ]
        },
        {
          "output_type": "stream",
          "name": "stderr",
          "text": [
            "<ipython-input-28-14c86811ef81>:10: FutureWarning: The frame.append method is deprecated and will be removed from pandas in a future version. Use pandas.concat instead.\n",
            "  self.results_df = self.results_df.append(hyperparam_dict, ignore_index=True)\n"
          ]
        },
        {
          "output_type": "stream",
          "name": "stdout",
          "text": [
            "Similarity column 12638 (100.0%), 5769.16 column/sec. Elapsed time 2.19 sec\n",
            "EvaluatorHoldout: Processed 9572 (100.0%) in 11.69 sec. Users per second: 819\n"
          ]
        },
        {
          "output_type": "stream",
          "name": "stderr",
          "text": [
            "[I 2023-11-24 18:14:30,241] Trial 10 finished with value: 0.018237849813278095 and parameters: {'similarity': 'cosine', 'topK': 735, 'shrink': 375}. Best is trial 4 with value: 0.018653708070496627.\n"
          ]
        },
        {
          "output_type": "stream",
          "name": "stdout",
          "text": [
            "UserKNNCFRecommender: URM Detected 336 ( 2.7%) users with no interactions.\n",
            "UserKNNCFRecommender: URM Detected 172 ( 0.8%) items with no interactions.\n"
          ]
        },
        {
          "output_type": "stream",
          "name": "stderr",
          "text": [
            "<ipython-input-28-14c86811ef81>:10: FutureWarning: The frame.append method is deprecated and will be removed from pandas in a future version. Use pandas.concat instead.\n",
            "  self.results_df = self.results_df.append(hyperparam_dict, ignore_index=True)\n"
          ]
        },
        {
          "output_type": "stream",
          "name": "stdout",
          "text": [
            "Similarity column 12638 (100.0%), 5942.31 column/sec. Elapsed time 2.13 sec\n",
            "EvaluatorHoldout: Processed 9572 (100.0%) in 10.01 sec. Users per second: 956\n"
          ]
        },
        {
          "output_type": "stream",
          "name": "stderr",
          "text": [
            "[I 2023-11-24 18:14:42,648] Trial 11 finished with value: 0.01862929410516122 and parameters: {'similarity': 'jaccard', 'topK': 475, 'shrink': 449}. Best is trial 4 with value: 0.018653708070496627.\n"
          ]
        },
        {
          "output_type": "stream",
          "name": "stdout",
          "text": [
            "UserKNNCFRecommender: URM Detected 336 ( 2.7%) users with no interactions.\n",
            "UserKNNCFRecommender: URM Detected 172 ( 0.8%) items with no interactions.\n"
          ]
        },
        {
          "output_type": "stream",
          "name": "stderr",
          "text": [
            "<ipython-input-28-14c86811ef81>:10: FutureWarning: The frame.append method is deprecated and will be removed from pandas in a future version. Use pandas.concat instead.\n",
            "  self.results_df = self.results_df.append(hyperparam_dict, ignore_index=True)\n"
          ]
        },
        {
          "output_type": "stream",
          "name": "stdout",
          "text": [
            "Similarity column 12638 (100.0%), 4074.80 column/sec. Elapsed time 3.10 sec\n",
            "EvaluatorHoldout: Processed 9572 (100.0%) in 8.44 sec. Users per second: 1134\n"
          ]
        },
        {
          "output_type": "stream",
          "name": "stderr",
          "text": [
            "[I 2023-11-24 18:14:54,511] Trial 12 finished with value: 0.018600921006374418 and parameters: {'similarity': 'jaccard', 'topK': 421, 'shrink': 456}. Best is trial 4 with value: 0.018653708070496627.\n"
          ]
        },
        {
          "output_type": "stream",
          "name": "stdout",
          "text": [
            "UserKNNCFRecommender: URM Detected 336 ( 2.7%) users with no interactions.\n",
            "UserKNNCFRecommender: URM Detected 172 ( 0.8%) items with no interactions.\n"
          ]
        },
        {
          "output_type": "stream",
          "name": "stderr",
          "text": [
            "<ipython-input-28-14c86811ef81>:10: FutureWarning: The frame.append method is deprecated and will be removed from pandas in a future version. Use pandas.concat instead.\n",
            "  self.results_df = self.results_df.append(hyperparam_dict, ignore_index=True)\n"
          ]
        },
        {
          "output_type": "stream",
          "name": "stdout",
          "text": [
            "Similarity column 12638 (100.0%), 4028.60 column/sec. Elapsed time 3.14 sec\n",
            "EvaluatorHoldout: Processed 9572 (100.0%) in 10.67 sec. Users per second: 897\n"
          ]
        },
        {
          "output_type": "stream",
          "name": "stderr",
          "text": [
            "[I 2023-11-24 18:15:08,628] Trial 13 finished with value: 0.018333030698001424 and parameters: {'similarity': 'cosine', 'topK': 656, 'shrink': 290}. Best is trial 4 with value: 0.018653708070496627.\n"
          ]
        },
        {
          "output_type": "stream",
          "name": "stdout",
          "text": [
            "UserKNNCFRecommender: URM Detected 336 ( 2.7%) users with no interactions.\n",
            "UserKNNCFRecommender: URM Detected 172 ( 0.8%) items with no interactions.\n"
          ]
        },
        {
          "output_type": "stream",
          "name": "stderr",
          "text": [
            "<ipython-input-28-14c86811ef81>:10: FutureWarning: The frame.append method is deprecated and will be removed from pandas in a future version. Use pandas.concat instead.\n",
            "  self.results_df = self.results_df.append(hyperparam_dict, ignore_index=True)\n"
          ]
        },
        {
          "output_type": "stream",
          "name": "stdout",
          "text": [
            "Similarity column 12638 (100.0%), 5990.36 column/sec. Elapsed time 2.11 sec\n",
            "EvaluatorHoldout: Processed 9572 (100.0%) in 10.62 sec. Users per second: 901\n"
          ]
        },
        {
          "output_type": "stream",
          "name": "stderr",
          "text": [
            "[I 2023-11-24 18:15:21,613] Trial 14 finished with value: 0.01852125743736693 and parameters: {'similarity': 'jaccard', 'topK': 435, 'shrink': 628}. Best is trial 4 with value: 0.018653708070496627.\n"
          ]
        },
        {
          "output_type": "stream",
          "name": "stdout",
          "text": [
            "UserKNNCFRecommender: URM Detected 336 ( 2.7%) users with no interactions.\n",
            "UserKNNCFRecommender: URM Detected 172 ( 0.8%) items with no interactions.\n"
          ]
        },
        {
          "output_type": "stream",
          "name": "stderr",
          "text": [
            "<ipython-input-28-14c86811ef81>:10: FutureWarning: The frame.append method is deprecated and will be removed from pandas in a future version. Use pandas.concat instead.\n",
            "  self.results_df = self.results_df.append(hyperparam_dict, ignore_index=True)\n"
          ]
        },
        {
          "output_type": "stream",
          "name": "stdout",
          "text": [
            "Similarity column 12638 (100.0%), 5647.47 column/sec. Elapsed time 2.24 sec\n",
            "EvaluatorHoldout: Processed 9572 (100.0%) in 9.13 sec. Users per second: 1049\n"
          ]
        },
        {
          "output_type": "stream",
          "name": "stderr",
          "text": [
            "[I 2023-11-24 18:15:33,207] Trial 15 finished with value: 0.01861940249006695 and parameters: {'similarity': 'tversky', 'topK': 322, 'shrink': 264, 'tversky_alpha': 0.01836742509573397, 'tversky_beta': 1.9740473269270074}. Best is trial 4 with value: 0.018653708070496627.\n"
          ]
        },
        {
          "output_type": "stream",
          "name": "stdout",
          "text": [
            "UserKNNCFRecommender: URM Detected 336 ( 2.7%) users with no interactions.\n",
            "UserKNNCFRecommender: URM Detected 172 ( 0.8%) items with no interactions.\n"
          ]
        },
        {
          "output_type": "stream",
          "name": "stderr",
          "text": [
            "<ipython-input-28-14c86811ef81>:10: FutureWarning: The frame.append method is deprecated and will be removed from pandas in a future version. Use pandas.concat instead.\n",
            "  self.results_df = self.results_df.append(hyperparam_dict, ignore_index=True)\n"
          ]
        },
        {
          "output_type": "stream",
          "name": "stdout",
          "text": [
            "Similarity column 12638 (100.0%), 607.45 column/sec. Elapsed time 20.81 sec\n",
            "EvaluatorHoldout: Processed 9572 (100.0%) in 6.30 sec. Users per second: 1520\n"
          ]
        },
        {
          "output_type": "stream",
          "name": "stderr",
          "text": [
            "[I 2023-11-24 18:16:00,601] Trial 16 finished with value: 0.0015172187066775458 and parameters: {'similarity': 'euclidean', 'topK': 511, 'shrink': 573, 'normalize_avg_row': True, 'similarity_from_distance_mode': 'log', 'normalize': False}. Best is trial 4 with value: 0.018653708070496627.\n"
          ]
        },
        {
          "output_type": "stream",
          "name": "stdout",
          "text": [
            "UserKNNCFRecommender: URM Detected 336 ( 2.7%) users with no interactions.\n",
            "UserKNNCFRecommender: URM Detected 172 ( 0.8%) items with no interactions.\n"
          ]
        },
        {
          "output_type": "stream",
          "name": "stderr",
          "text": [
            "<ipython-input-28-14c86811ef81>:10: FutureWarning: The frame.append method is deprecated and will be removed from pandas in a future version. Use pandas.concat instead.\n",
            "  self.results_df = self.results_df.append(hyperparam_dict, ignore_index=True)\n"
          ]
        },
        {
          "output_type": "stream",
          "name": "stdout",
          "text": [
            "Similarity column 12638 (100.0%), 5671.88 column/sec. Elapsed time 2.23 sec\n",
            "EvaluatorHoldout: Processed 9572 (100.0%) in 10.95 sec. Users per second: 874\n"
          ]
        },
        {
          "output_type": "stream",
          "name": "stderr",
          "text": [
            "[I 2023-11-24 18:16:14,087] Trial 17 finished with value: 0.016925175279751077 and parameters: {'similarity': 'asymmetric', 'topK': 749, 'shrink': 444, 'asymmetric_alpha': 1.889832770503749}. Best is trial 4 with value: 0.018653708070496627.\n"
          ]
        },
        {
          "output_type": "stream",
          "name": "stdout",
          "text": [
            "UserKNNCFRecommender: URM Detected 336 ( 2.7%) users with no interactions.\n",
            "UserKNNCFRecommender: URM Detected 172 ( 0.8%) items with no interactions.\n"
          ]
        },
        {
          "output_type": "stream",
          "name": "stderr",
          "text": [
            "<ipython-input-28-14c86811ef81>:10: FutureWarning: The frame.append method is deprecated and will be removed from pandas in a future version. Use pandas.concat instead.\n",
            "  self.results_df = self.results_df.append(hyperparam_dict, ignore_index=True)\n"
          ]
        },
        {
          "output_type": "stream",
          "name": "stdout",
          "text": [
            "Similarity column 12638 (100.0%), 6062.19 column/sec. Elapsed time 2.08 sec\n",
            "EvaluatorHoldout: Processed 9572 (100.0%) in 8.28 sec. Users per second: 1157\n"
          ]
        },
        {
          "output_type": "stream",
          "name": "stderr",
          "text": [
            "[I 2023-11-24 18:16:24,644] Trial 18 finished with value: 0.018224641646601515 and parameters: {'similarity': 'jaccard', 'topK': 235, 'shrink': 188}. Best is trial 4 with value: 0.018653708070496627.\n"
          ]
        },
        {
          "output_type": "stream",
          "name": "stdout",
          "text": [
            "UserKNNCFRecommender: URM Detected 336 ( 2.7%) users with no interactions.\n",
            "UserKNNCFRecommender: URM Detected 172 ( 0.8%) items with no interactions.\n"
          ]
        },
        {
          "output_type": "stream",
          "name": "stderr",
          "text": [
            "<ipython-input-28-14c86811ef81>:10: FutureWarning: The frame.append method is deprecated and will be removed from pandas in a future version. Use pandas.concat instead.\n",
            "  self.results_df = self.results_df.append(hyperparam_dict, ignore_index=True)\n"
          ]
        },
        {
          "output_type": "stream",
          "name": "stdout",
          "text": [
            "Similarity column 12638 (100.0%), 3732.14 column/sec. Elapsed time 3.39 sec\n",
            "EvaluatorHoldout: Processed 9572 (100.0%) in 9.07 sec. Users per second: 1055\n"
          ]
        },
        {
          "output_type": "stream",
          "name": "stderr",
          "text": [
            "[I 2023-11-24 18:16:37,463] Trial 19 finished with value: 0.018632768192943718 and parameters: {'similarity': 'dice', 'topK': 440, 'shrink': 353}. Best is trial 4 with value: 0.018653708070496627.\n"
          ]
        },
        {
          "output_type": "stream",
          "name": "stdout",
          "text": [
            "UserKNNCFRecommender: URM Detected 336 ( 2.7%) users with no interactions.\n",
            "UserKNNCFRecommender: URM Detected 172 ( 0.8%) items with no interactions.\n"
          ]
        },
        {
          "output_type": "stream",
          "name": "stderr",
          "text": [
            "<ipython-input-28-14c86811ef81>:10: FutureWarning: The frame.append method is deprecated and will be removed from pandas in a future version. Use pandas.concat instead.\n",
            "  self.results_df = self.results_df.append(hyperparam_dict, ignore_index=True)\n"
          ]
        },
        {
          "output_type": "stream",
          "name": "stdout",
          "text": [
            "Similarity column 12638 (100.0%), 6362.83 column/sec. Elapsed time 1.99 sec\n",
            "EvaluatorHoldout: Processed 9572 (100.0%) in 8.45 sec. Users per second: 1133\n"
          ]
        },
        {
          "output_type": "stream",
          "name": "stderr",
          "text": [
            "[I 2023-11-24 18:16:48,015] Trial 20 finished with value: 0.009455243965534375 and parameters: {'similarity': 'dice', 'topK': 20, 'shrink': 365}. Best is trial 4 with value: 0.018653708070496627.\n"
          ]
        },
        {
          "output_type": "stream",
          "name": "stdout",
          "text": [
            "UserKNNCFRecommender: URM Detected 336 ( 2.7%) users with no interactions.\n",
            "UserKNNCFRecommender: URM Detected 172 ( 0.8%) items with no interactions.\n"
          ]
        },
        {
          "output_type": "stream",
          "name": "stderr",
          "text": [
            "<ipython-input-28-14c86811ef81>:10: FutureWarning: The frame.append method is deprecated and will be removed from pandas in a future version. Use pandas.concat instead.\n",
            "  self.results_df = self.results_df.append(hyperparam_dict, ignore_index=True)\n"
          ]
        },
        {
          "output_type": "stream",
          "name": "stdout",
          "text": [
            "Similarity column 12638 (100.0%), 6050.38 column/sec. Elapsed time 2.09 sec\n",
            "EvaluatorHoldout: Processed 9572 (100.0%) in 9.35 sec. Users per second: 1024\n"
          ]
        },
        {
          "output_type": "stream",
          "name": "stderr",
          "text": [
            "[I 2023-11-24 18:16:59,719] Trial 21 finished with value: 0.018506030319914577 and parameters: {'similarity': 'dice', 'topK': 449, 'shrink': 331}. Best is trial 4 with value: 0.018653708070496627.\n"
          ]
        },
        {
          "output_type": "stream",
          "name": "stdout",
          "text": [
            "UserKNNCFRecommender: URM Detected 336 ( 2.7%) users with no interactions.\n",
            "UserKNNCFRecommender: URM Detected 172 ( 0.8%) items with no interactions.\n"
          ]
        },
        {
          "output_type": "stream",
          "name": "stderr",
          "text": [
            "<ipython-input-28-14c86811ef81>:10: FutureWarning: The frame.append method is deprecated and will be removed from pandas in a future version. Use pandas.concat instead.\n",
            "  self.results_df = self.results_df.append(hyperparam_dict, ignore_index=True)\n"
          ]
        },
        {
          "output_type": "stream",
          "name": "stdout",
          "text": [
            "Similarity column 12638 (100.0%), 3488.92 column/sec. Elapsed time 3.62 sec\n",
            "EvaluatorHoldout: Processed 9572 (100.0%) in 8.54 sec. Users per second: 1121\n"
          ]
        },
        {
          "output_type": "stream",
          "name": "stderr",
          "text": [
            "[I 2023-11-24 18:17:12,097] Trial 22 finished with value: 0.018352859530774267 and parameters: {'similarity': 'cosine', 'topK': 340, 'shrink': 546}. Best is trial 4 with value: 0.018653708070496627.\n"
          ]
        },
        {
          "output_type": "stream",
          "name": "stdout",
          "text": [
            "UserKNNCFRecommender: URM Detected 336 ( 2.7%) users with no interactions.\n",
            "UserKNNCFRecommender: URM Detected 172 ( 0.8%) items with no interactions.\n"
          ]
        },
        {
          "output_type": "stream",
          "name": "stderr",
          "text": [
            "<ipython-input-28-14c86811ef81>:10: FutureWarning: The frame.append method is deprecated and will be removed from pandas in a future version. Use pandas.concat instead.\n",
            "  self.results_df = self.results_df.append(hyperparam_dict, ignore_index=True)\n"
          ]
        },
        {
          "output_type": "stream",
          "name": "stdout",
          "text": [
            "Similarity column 12638 (100.0%), 6035.78 column/sec. Elapsed time 2.09 sec\n",
            "EvaluatorHoldout: Processed 9572 (100.0%) in 11.21 sec. Users per second: 854\n"
          ]
        },
        {
          "output_type": "stream",
          "name": "stderr",
          "text": [
            "[I 2023-11-24 18:17:25,714] Trial 23 finished with value: 0.01855563764020725 and parameters: {'similarity': 'dice', 'topK': 591, 'shrink': 180}. Best is trial 4 with value: 0.018653708070496627.\n"
          ]
        },
        {
          "output_type": "stream",
          "name": "stdout",
          "text": [
            "UserKNNCFRecommender: URM Detected 336 ( 2.7%) users with no interactions.\n",
            "UserKNNCFRecommender: URM Detected 172 ( 0.8%) items with no interactions.\n"
          ]
        },
        {
          "output_type": "stream",
          "name": "stderr",
          "text": [
            "<ipython-input-28-14c86811ef81>:10: FutureWarning: The frame.append method is deprecated and will be removed from pandas in a future version. Use pandas.concat instead.\n",
            "  self.results_df = self.results_df.append(hyperparam_dict, ignore_index=True)\n"
          ]
        },
        {
          "output_type": "stream",
          "name": "stdout",
          "text": [
            "Similarity column 12638 (100.0%), 5790.62 column/sec. Elapsed time 2.18 sec\n",
            "EvaluatorHoldout: Processed 9572 (100.0%) in 10.55 sec. Users per second: 907\n"
          ]
        },
        {
          "output_type": "stream",
          "name": "stderr",
          "text": [
            "[I 2023-11-24 18:17:38,676] Trial 24 finished with value: 0.0185358585557081 and parameters: {'similarity': 'cosine', 'topK': 486, 'shrink': 672}. Best is trial 4 with value: 0.018653708070496627.\n"
          ]
        },
        {
          "output_type": "stream",
          "name": "stdout",
          "text": [
            "UserKNNCFRecommender: URM Detected 336 ( 2.7%) users with no interactions.\n",
            "UserKNNCFRecommender: URM Detected 172 ( 0.8%) items with no interactions.\n"
          ]
        },
        {
          "output_type": "stream",
          "name": "stderr",
          "text": [
            "<ipython-input-28-14c86811ef81>:10: FutureWarning: The frame.append method is deprecated and will be removed from pandas in a future version. Use pandas.concat instead.\n",
            "  self.results_df = self.results_df.append(hyperparam_dict, ignore_index=True)\n"
          ]
        },
        {
          "output_type": "stream",
          "name": "stdout",
          "text": [
            "Similarity column 12638 (100.0%), 5196.00 column/sec. Elapsed time 2.43 sec\n",
            "EvaluatorHoldout: Processed 9572 (100.0%) in 9.94 sec. Users per second: 963\n"
          ]
        },
        {
          "output_type": "stream",
          "name": "stderr",
          "text": [
            "[I 2023-11-24 18:17:51,459] Trial 25 finished with value: 0.01846671674659552 and parameters: {'similarity': 'dice', 'topK': 668, 'shrink': 491}. Best is trial 4 with value: 0.018653708070496627.\n"
          ]
        },
        {
          "output_type": "stream",
          "name": "stdout",
          "text": [
            "UserKNNCFRecommender: URM Detected 336 ( 2.7%) users with no interactions.\n",
            "UserKNNCFRecommender: URM Detected 172 ( 0.8%) items with no interactions.\n"
          ]
        },
        {
          "output_type": "stream",
          "name": "stderr",
          "text": [
            "<ipython-input-28-14c86811ef81>:10: FutureWarning: The frame.append method is deprecated and will be removed from pandas in a future version. Use pandas.concat instead.\n",
            "  self.results_df = self.results_df.append(hyperparam_dict, ignore_index=True)\n"
          ]
        },
        {
          "output_type": "stream",
          "name": "stdout",
          "text": [
            "Similarity column 12638 (100.0%), 3653.09 column/sec. Elapsed time 3.46 sec\n",
            "EvaluatorHoldout: Processed 9572 (100.0%) in 8.86 sec. Users per second: 1080\n"
          ]
        },
        {
          "output_type": "stream",
          "name": "stderr",
          "text": [
            "[I 2023-11-24 18:18:04,118] Trial 26 finished with value: 0.01859791123581344 and parameters: {'similarity': 'jaccard', 'topK': 367, 'shrink': 249}. Best is trial 4 with value: 0.018653708070496627.\n"
          ]
        },
        {
          "output_type": "stream",
          "name": "stdout",
          "text": [
            "UserKNNCFRecommender: URM Detected 336 ( 2.7%) users with no interactions.\n",
            "UserKNNCFRecommender: URM Detected 172 ( 0.8%) items with no interactions.\n"
          ]
        },
        {
          "output_type": "stream",
          "name": "stderr",
          "text": [
            "<ipython-input-28-14c86811ef81>:10: FutureWarning: The frame.append method is deprecated and will be removed from pandas in a future version. Use pandas.concat instead.\n",
            "  self.results_df = self.results_df.append(hyperparam_dict, ignore_index=True)\n"
          ]
        },
        {
          "output_type": "stream",
          "name": "stdout",
          "text": [
            "Similarity column 12638 (100.0%), 834.55 column/sec. Elapsed time 15.14 sec\n",
            "EvaluatorHoldout: Processed 9572 (100.0%) in 5.81 sec. Users per second: 1648\n"
          ]
        },
        {
          "output_type": "stream",
          "name": "stderr",
          "text": [
            "[I 2023-11-24 18:18:25,216] Trial 27 finished with value: 0.0013493721767854651 and parameters: {'similarity': 'euclidean', 'topK': 271, 'shrink': 422, 'normalize_avg_row': False, 'similarity_from_distance_mode': 'lin', 'normalize': False}. Best is trial 4 with value: 0.018653708070496627.\n"
          ]
        },
        {
          "output_type": "stream",
          "name": "stdout",
          "text": [
            "UserKNNCFRecommender: URM Detected 336 ( 2.7%) users with no interactions.\n",
            "UserKNNCFRecommender: URM Detected 172 ( 0.8%) items with no interactions.\n"
          ]
        },
        {
          "output_type": "stream",
          "name": "stderr",
          "text": [
            "<ipython-input-28-14c86811ef81>:10: FutureWarning: The frame.append method is deprecated and will be removed from pandas in a future version. Use pandas.concat instead.\n",
            "  self.results_df = self.results_df.append(hyperparam_dict, ignore_index=True)\n"
          ]
        },
        {
          "output_type": "stream",
          "name": "stdout",
          "text": [
            "Similarity column 12638 (100.0%), 3388.27 column/sec. Elapsed time 3.73 sec\n",
            "EvaluatorHoldout: Processed 9572 (100.0%) in 9.80 sec. Users per second: 977\n"
          ]
        },
        {
          "output_type": "stream",
          "name": "stderr",
          "text": [
            "[I 2023-11-24 18:18:39,147] Trial 28 finished with value: 0.018563551761420532 and parameters: {'similarity': 'tversky', 'topK': 540, 'shrink': 115, 'tversky_alpha': 1.9070995653251934, 'tversky_beta': 0.04445923348688896}. Best is trial 4 with value: 0.018653708070496627.\n"
          ]
        },
        {
          "output_type": "stream",
          "name": "stdout",
          "text": [
            "UserKNNCFRecommender: URM Detected 336 ( 2.7%) users with no interactions.\n",
            "UserKNNCFRecommender: URM Detected 172 ( 0.8%) items with no interactions.\n"
          ]
        },
        {
          "output_type": "stream",
          "name": "stderr",
          "text": [
            "<ipython-input-28-14c86811ef81>:10: FutureWarning: The frame.append method is deprecated and will be removed from pandas in a future version. Use pandas.concat instead.\n",
            "  self.results_df = self.results_df.append(hyperparam_dict, ignore_index=True)\n"
          ]
        },
        {
          "output_type": "stream",
          "name": "stdout",
          "text": [
            "Similarity column 12638 (100.0%), 5740.66 column/sec. Elapsed time 2.20 sec\n",
            "EvaluatorHoldout: Processed 9572 (100.0%) in 11.10 sec. Users per second: 862\n"
          ]
        },
        {
          "output_type": "stream",
          "name": "stderr",
          "text": [
            "[I 2023-11-24 18:18:52,716] Trial 29 finished with value: 0.018402043990740163 and parameters: {'similarity': 'asymmetric', 'topK': 597, 'shrink': 741, 'asymmetric_alpha': 0.16946068368717082}. Best is trial 4 with value: 0.018653708070496627.\n"
          ]
        },
        {
          "output_type": "stream",
          "name": "stdout",
          "text": [
            "UserKNNCFRecommender: URM Detected 336 ( 2.7%) users with no interactions.\n",
            "UserKNNCFRecommender: URM Detected 172 ( 0.8%) items with no interactions.\n"
          ]
        },
        {
          "output_type": "stream",
          "name": "stderr",
          "text": [
            "<ipython-input-28-14c86811ef81>:10: FutureWarning: The frame.append method is deprecated and will be removed from pandas in a future version. Use pandas.concat instead.\n",
            "  self.results_df = self.results_df.append(hyperparam_dict, ignore_index=True)\n"
          ]
        },
        {
          "output_type": "stream",
          "name": "stdout",
          "text": [
            "Similarity column 12638 (100.0%), 5926.81 column/sec. Elapsed time 2.13 sec\n",
            "EvaluatorHoldout: Processed 9572 (100.0%) in 7.09 sec. Users per second: 1350\n"
          ]
        },
        {
          "output_type": "stream",
          "name": "stderr",
          "text": [
            "[I 2023-11-24 18:19:02,063] Trial 30 finished with value: 0.01294349342327816 and parameters: {'similarity': 'asymmetric', 'topK': 120, 'shrink': 529, 'asymmetric_alpha': 1.3871952586673406}. Best is trial 4 with value: 0.018653708070496627.\n"
          ]
        },
        {
          "output_type": "stream",
          "name": "stdout",
          "text": [
            "UserKNNCFRecommender: URM Detected 336 ( 2.7%) users with no interactions.\n",
            "UserKNNCFRecommender: URM Detected 172 ( 0.8%) items with no interactions.\n"
          ]
        },
        {
          "output_type": "stream",
          "name": "stderr",
          "text": [
            "<ipython-input-28-14c86811ef81>:10: FutureWarning: The frame.append method is deprecated and will be removed from pandas in a future version. Use pandas.concat instead.\n",
            "  self.results_df = self.results_df.append(hyperparam_dict, ignore_index=True)\n"
          ]
        },
        {
          "output_type": "stream",
          "name": "stdout",
          "text": [
            "Similarity column 12638 (100.0%), 3435.66 column/sec. Elapsed time 3.68 sec\n",
            "EvaluatorHoldout: Processed 9572 (100.0%) in 8.72 sec. Users per second: 1097\n"
          ]
        },
        {
          "output_type": "stream",
          "name": "stderr",
          "text": [
            "[I 2023-11-24 18:19:14,828] Trial 31 finished with value: 0.018632001240390345 and parameters: {'similarity': 'tversky', 'topK': 354, 'shrink': 262, 'tversky_alpha': 0.046445180502457495, 'tversky_beta': 1.9920357338895498}. Best is trial 4 with value: 0.018653708070496627.\n"
          ]
        },
        {
          "output_type": "stream",
          "name": "stdout",
          "text": [
            "UserKNNCFRecommender: URM Detected 336 ( 2.7%) users with no interactions.\n",
            "UserKNNCFRecommender: URM Detected 172 ( 0.8%) items with no interactions.\n"
          ]
        },
        {
          "output_type": "stream",
          "name": "stderr",
          "text": [
            "<ipython-input-28-14c86811ef81>:10: FutureWarning: The frame.append method is deprecated and will be removed from pandas in a future version. Use pandas.concat instead.\n",
            "  self.results_df = self.results_df.append(hyperparam_dict, ignore_index=True)\n"
          ]
        },
        {
          "output_type": "stream",
          "name": "stdout",
          "text": [
            "Similarity column 12638 (100.0%), 5753.33 column/sec. Elapsed time 2.20 sec\n",
            "EvaluatorHoldout: Processed 9572 (100.0%) in 10.66 sec. Users per second: 898\n"
          ]
        },
        {
          "output_type": "stream",
          "name": "stderr",
          "text": [
            "[I 2023-11-24 18:19:27,934] Trial 32 finished with value: 0.018583165018340536 and parameters: {'similarity': 'tversky', 'topK': 405, 'shrink': 309, 'tversky_alpha': 0.07018249139014625, 'tversky_beta': 1.8330857644843845}. Best is trial 4 with value: 0.018653708070496627.\n"
          ]
        },
        {
          "output_type": "stream",
          "name": "stdout",
          "text": [
            "UserKNNCFRecommender: URM Detected 336 ( 2.7%) users with no interactions.\n",
            "UserKNNCFRecommender: URM Detected 172 ( 0.8%) items with no interactions.\n"
          ]
        },
        {
          "output_type": "stream",
          "name": "stderr",
          "text": [
            "<ipython-input-28-14c86811ef81>:10: FutureWarning: The frame.append method is deprecated and will be removed from pandas in a future version. Use pandas.concat instead.\n",
            "  self.results_df = self.results_df.append(hyperparam_dict, ignore_index=True)\n"
          ]
        },
        {
          "output_type": "stream",
          "name": "stdout",
          "text": [
            "Similarity column 12638 (100.0%), 5731.69 column/sec. Elapsed time 2.20 sec\n",
            "EvaluatorHoldout: Processed 9572 (100.0%) in 9.51 sec. Users per second: 1007\n"
          ]
        },
        {
          "output_type": "stream",
          "name": "stderr",
          "text": [
            "[I 2023-11-24 18:19:39,883] Trial 33 finished with value: 0.018594714909225988 and parameters: {'similarity': 'tversky', 'topK': 310, 'shrink': 228, 'tversky_alpha': 0.5846040615391339, 'tversky_beta': 1.4268342777264333}. Best is trial 4 with value: 0.018653708070496627.\n"
          ]
        },
        {
          "output_type": "stream",
          "name": "stdout",
          "text": [
            "UserKNNCFRecommender: URM Detected 336 ( 2.7%) users with no interactions.\n",
            "UserKNNCFRecommender: URM Detected 172 ( 0.8%) items with no interactions.\n"
          ]
        },
        {
          "output_type": "stream",
          "name": "stderr",
          "text": [
            "<ipython-input-28-14c86811ef81>:10: FutureWarning: The frame.append method is deprecated and will be removed from pandas in a future version. Use pandas.concat instead.\n",
            "  self.results_df = self.results_df.append(hyperparam_dict, ignore_index=True)\n"
          ]
        },
        {
          "output_type": "stream",
          "name": "stdout",
          "text": [
            "Similarity column 12638 (100.0%), 4365.58 column/sec. Elapsed time 2.89 sec\n",
            "EvaluatorHoldout: Processed 9572 (100.0%) in 7.40 sec. Users per second: 1294\n"
          ]
        },
        {
          "output_type": "stream",
          "name": "stderr",
          "text": [
            "[I 2023-11-24 18:19:50,340] Trial 34 finished with value: 0.017542331635258847 and parameters: {'similarity': 'cosine', 'topK': 203, 'shrink': 402}. Best is trial 4 with value: 0.018653708070496627.\n"
          ]
        },
        {
          "output_type": "stream",
          "name": "stdout",
          "text": [
            "UserKNNCFRecommender: URM Detected 336 ( 2.7%) users with no interactions.\n",
            "UserKNNCFRecommender: URM Detected 172 ( 0.8%) items with no interactions.\n"
          ]
        },
        {
          "output_type": "stream",
          "name": "stderr",
          "text": [
            "<ipython-input-28-14c86811ef81>:10: FutureWarning: The frame.append method is deprecated and will be removed from pandas in a future version. Use pandas.concat instead.\n",
            "  self.results_df = self.results_df.append(hyperparam_dict, ignore_index=True)\n"
          ]
        },
        {
          "output_type": "stream",
          "name": "stdout",
          "text": [
            "Similarity column 12638 (100.0%), 5098.88 column/sec. Elapsed time 2.48 sec\n",
            "EvaluatorHoldout: Processed 9572 (100.0%) in 10.48 sec. Users per second: 913\n"
          ]
        },
        {
          "output_type": "stream",
          "name": "stderr",
          "text": [
            "[I 2023-11-24 18:20:03,601] Trial 35 finished with value: 0.018517526316836806 and parameters: {'similarity': 'dice', 'topK': 481, 'shrink': 310}. Best is trial 4 with value: 0.018653708070496627.\n"
          ]
        },
        {
          "output_type": "stream",
          "name": "stdout",
          "text": [
            "UserKNNCFRecommender: URM Detected 336 ( 2.7%) users with no interactions.\n",
            "UserKNNCFRecommender: URM Detected 172 ( 0.8%) items with no interactions.\n"
          ]
        },
        {
          "output_type": "stream",
          "name": "stderr",
          "text": [
            "<ipython-input-28-14c86811ef81>:10: FutureWarning: The frame.append method is deprecated and will be removed from pandas in a future version. Use pandas.concat instead.\n",
            "  self.results_df = self.results_df.append(hyperparam_dict, ignore_index=True)\n"
          ]
        },
        {
          "output_type": "stream",
          "name": "stdout",
          "text": [
            "Similarity column 12638 (100.0%), 6123.45 column/sec. Elapsed time 2.06 sec\n",
            "EvaluatorHoldout: Processed 9572 (100.0%) in 8.84 sec. Users per second: 1083\n"
          ]
        },
        {
          "output_type": "stream",
          "name": "stderr",
          "text": [
            "[I 2023-11-24 18:20:14,670] Trial 36 finished with value: 0.017413545791627665 and parameters: {'similarity': 'jaccard', 'topK': 144, 'shrink': 135}. Best is trial 4 with value: 0.018653708070496627.\n"
          ]
        },
        {
          "output_type": "stream",
          "name": "stdout",
          "text": [
            "UserKNNCFRecommender: URM Detected 336 ( 2.7%) users with no interactions.\n",
            "UserKNNCFRecommender: URM Detected 172 ( 0.8%) items with no interactions.\n"
          ]
        },
        {
          "output_type": "stream",
          "name": "stderr",
          "text": [
            "<ipython-input-28-14c86811ef81>:10: FutureWarning: The frame.append method is deprecated and will be removed from pandas in a future version. Use pandas.concat instead.\n",
            "  self.results_df = self.results_df.append(hyperparam_dict, ignore_index=True)\n"
          ]
        },
        {
          "output_type": "stream",
          "name": "stdout",
          "text": [
            "Similarity column 12638 (100.0%), 4337.73 column/sec. Elapsed time 2.91 sec\n",
            "EvaluatorHoldout: Processed 9572 (100.0%) in 8.60 sec. Users per second: 1114\n"
          ]
        },
        {
          "output_type": "stream",
          "name": "stderr",
          "text": [
            "[I 2023-11-24 18:20:26,512] Trial 37 finished with value: 0.01894828832772838 and parameters: {'similarity': 'tversky', 'topK': 388, 'shrink': 98, 'tversky_alpha': 0.6859980417798827, 'tversky_beta': 1.3189931160949577}. Best is trial 37 with value: 0.01894828832772838.\n"
          ]
        },
        {
          "output_type": "stream",
          "name": "stdout",
          "text": [
            "UserKNNCFRecommender: URM Detected 336 ( 2.7%) users with no interactions.\n",
            "UserKNNCFRecommender: URM Detected 172 ( 0.8%) items with no interactions.\n"
          ]
        },
        {
          "output_type": "stream",
          "name": "stderr",
          "text": [
            "<ipython-input-28-14c86811ef81>:10: FutureWarning: The frame.append method is deprecated and will be removed from pandas in a future version. Use pandas.concat instead.\n",
            "  self.results_df = self.results_df.append(hyperparam_dict, ignore_index=True)\n"
          ]
        },
        {
          "output_type": "stream",
          "name": "stdout",
          "text": [
            "Similarity column 12638 (100.0%), 3440.06 column/sec. Elapsed time 3.67 sec\n",
            "EvaluatorHoldout: Processed 9572 (100.0%) in 9.69 sec. Users per second: 988\n"
          ]
        },
        {
          "output_type": "stream",
          "name": "stderr",
          "text": [
            "[I 2023-11-24 18:20:40,161] Trial 38 finished with value: 0.019160406675555013 and parameters: {'similarity': 'tversky', 'topK': 390, 'shrink': 14, 'tversky_alpha': 0.5782992451915521, 'tversky_beta': 1.3307035476581426}. Best is trial 38 with value: 0.019160406675555013.\n"
          ]
        },
        {
          "output_type": "stream",
          "name": "stdout",
          "text": [
            "UserKNNCFRecommender: URM Detected 336 ( 2.7%) users with no interactions.\n",
            "UserKNNCFRecommender: URM Detected 172 ( 0.8%) items with no interactions.\n"
          ]
        },
        {
          "output_type": "stream",
          "name": "stderr",
          "text": [
            "<ipython-input-28-14c86811ef81>:10: FutureWarning: The frame.append method is deprecated and will be removed from pandas in a future version. Use pandas.concat instead.\n",
            "  self.results_df = self.results_df.append(hyperparam_dict, ignore_index=True)\n"
          ]
        },
        {
          "output_type": "stream",
          "name": "stdout",
          "text": [
            "Similarity column 12638 (100.0%), 5634.88 column/sec. Elapsed time 2.24 sec\n",
            "EvaluatorHoldout: Processed 9572 (100.0%) in 10.83 sec. Users per second: 884\n"
          ]
        },
        {
          "output_type": "stream",
          "name": "stderr",
          "text": [
            "[I 2023-11-24 18:20:53,486] Trial 39 finished with value: 0.019333136827652083 and parameters: {'similarity': 'tversky', 'topK': 396, 'shrink': 4, 'tversky_alpha': 0.7388438050803168, 'tversky_beta': 1.2350036548269472}. Best is trial 39 with value: 0.019333136827652083.\n"
          ]
        },
        {
          "output_type": "stream",
          "name": "stdout",
          "text": [
            "UserKNNCFRecommender: URM Detected 336 ( 2.7%) users with no interactions.\n",
            "UserKNNCFRecommender: URM Detected 172 ( 0.8%) items with no interactions.\n"
          ]
        },
        {
          "output_type": "stream",
          "name": "stderr",
          "text": [
            "<ipython-input-28-14c86811ef81>:10: FutureWarning: The frame.append method is deprecated and will be removed from pandas in a future version. Use pandas.concat instead.\n",
            "  self.results_df = self.results_df.append(hyperparam_dict, ignore_index=True)\n"
          ]
        },
        {
          "output_type": "stream",
          "name": "stdout",
          "text": [
            "Similarity column 12638 (100.0%), 5624.01 column/sec. Elapsed time 2.25 sec\n",
            "EvaluatorHoldout: Processed 9572 (100.0%) in 9.23 sec. Users per second: 1037\n"
          ]
        },
        {
          "output_type": "stream",
          "name": "stderr",
          "text": [
            "[I 2023-11-24 18:21:05,196] Trial 40 finished with value: 0.019166343302887367 and parameters: {'similarity': 'tversky', 'topK': 285, 'shrink': 1, 'tversky_alpha': 0.7663917566806608, 'tversky_beta': 1.2122613584858477}. Best is trial 39 with value: 0.019333136827652083.\n"
          ]
        },
        {
          "output_type": "stream",
          "name": "stdout",
          "text": [
            "UserKNNCFRecommender: URM Detected 336 ( 2.7%) users with no interactions.\n",
            "UserKNNCFRecommender: URM Detected 172 ( 0.8%) items with no interactions.\n"
          ]
        },
        {
          "output_type": "stream",
          "name": "stderr",
          "text": [
            "<ipython-input-28-14c86811ef81>:10: FutureWarning: The frame.append method is deprecated and will be removed from pandas in a future version. Use pandas.concat instead.\n",
            "  self.results_df = self.results_df.append(hyperparam_dict, ignore_index=True)\n"
          ]
        },
        {
          "output_type": "stream",
          "name": "stdout",
          "text": [
            "Similarity column 12638 (100.0%), 3582.27 column/sec. Elapsed time 3.53 sec\n",
            "EvaluatorHoldout: Processed 9572 (100.0%) in 8.06 sec. Users per second: 1188\n"
          ]
        },
        {
          "output_type": "stream",
          "name": "stderr",
          "text": [
            "[I 2023-11-24 18:21:17,087] Trial 41 finished with value: 0.01912431015727086 and parameters: {'similarity': 'tversky', 'topK': 282, 'shrink': 1, 'tversky_alpha': 0.7745170158505894, 'tversky_beta': 1.1962795461763152}. Best is trial 39 with value: 0.019333136827652083.\n"
          ]
        },
        {
          "output_type": "stream",
          "name": "stdout",
          "text": [
            "UserKNNCFRecommender: URM Detected 336 ( 2.7%) users with no interactions.\n",
            "UserKNNCFRecommender: URM Detected 172 ( 0.8%) items with no interactions.\n"
          ]
        },
        {
          "output_type": "stream",
          "name": "stderr",
          "text": [
            "<ipython-input-28-14c86811ef81>:10: FutureWarning: The frame.append method is deprecated and will be removed from pandas in a future version. Use pandas.concat instead.\n",
            "  self.results_df = self.results_df.append(hyperparam_dict, ignore_index=True)\n"
          ]
        },
        {
          "output_type": "stream",
          "name": "stdout",
          "text": [
            "Similarity column 12638 (100.0%), 4653.06 column/sec. Elapsed time 2.72 sec\n",
            "EvaluatorHoldout: Processed 9572 (100.0%) in 9.69 sec. Users per second: 988\n"
          ]
        },
        {
          "output_type": "stream",
          "name": "stderr",
          "text": [
            "[I 2023-11-24 18:21:29,732] Trial 42 finished with value: 0.01901325128184719 and parameters: {'similarity': 'tversky', 'topK': 259, 'shrink': 86, 'tversky_alpha': 0.7500150498322112, 'tversky_beta': 1.2121546281315134}. Best is trial 39 with value: 0.019333136827652083.\n"
          ]
        },
        {
          "output_type": "stream",
          "name": "stdout",
          "text": [
            "UserKNNCFRecommender: URM Detected 336 ( 2.7%) users with no interactions.\n",
            "UserKNNCFRecommender: URM Detected 172 ( 0.8%) items with no interactions.\n"
          ]
        },
        {
          "output_type": "stream",
          "name": "stderr",
          "text": [
            "<ipython-input-28-14c86811ef81>:10: FutureWarning: The frame.append method is deprecated and will be removed from pandas in a future version. Use pandas.concat instead.\n",
            "  self.results_df = self.results_df.append(hyperparam_dict, ignore_index=True)\n"
          ]
        },
        {
          "output_type": "stream",
          "name": "stdout",
          "text": [
            "Similarity column 12638 (100.0%), 5861.70 column/sec. Elapsed time 2.16 sec\n",
            "EvaluatorHoldout: Processed 9572 (100.0%) in 8.22 sec. Users per second: 1164\n"
          ]
        },
        {
          "output_type": "stream",
          "name": "stderr",
          "text": [
            "[I 2023-11-24 18:21:40,276] Trial 43 finished with value: 0.016769318083829098 and parameters: {'similarity': 'tversky', 'topK': 87, 'shrink': 2, 'tversky_alpha': 0.7904705213251269, 'tversky_beta': 1.1994343067067208}. Best is trial 39 with value: 0.019333136827652083.\n"
          ]
        },
        {
          "output_type": "stream",
          "name": "stdout",
          "text": [
            "UserKNNCFRecommender: URM Detected 336 ( 2.7%) users with no interactions.\n",
            "UserKNNCFRecommender: URM Detected 172 ( 0.8%) items with no interactions.\n"
          ]
        },
        {
          "output_type": "stream",
          "name": "stderr",
          "text": [
            "<ipython-input-28-14c86811ef81>:10: FutureWarning: The frame.append method is deprecated and will be removed from pandas in a future version. Use pandas.concat instead.\n",
            "  self.results_df = self.results_df.append(hyperparam_dict, ignore_index=True)\n"
          ]
        },
        {
          "output_type": "stream",
          "name": "stdout",
          "text": [
            "Similarity column 12638 (100.0%), 3766.67 column/sec. Elapsed time 3.36 sec\n",
            "EvaluatorHoldout: Processed 9572 (100.0%) in 8.15 sec. Users per second: 1174\n"
          ]
        },
        {
          "output_type": "stream",
          "name": "stderr",
          "text": [
            "[I 2023-11-24 18:21:52,085] Trial 44 finished with value: 0.019036317898102277 and parameters: {'similarity': 'tversky', 'topK': 279, 'shrink': 9, 'tversky_alpha': 0.7369632093930004, 'tversky_beta': 1.1475893212650563}. Best is trial 39 with value: 0.019333136827652083.\n"
          ]
        },
        {
          "output_type": "stream",
          "name": "stdout",
          "text": [
            "UserKNNCFRecommender: URM Detected 336 ( 2.7%) users with no interactions.\n",
            "UserKNNCFRecommender: URM Detected 172 ( 0.8%) items with no interactions.\n"
          ]
        },
        {
          "output_type": "stream",
          "name": "stderr",
          "text": [
            "<ipython-input-28-14c86811ef81>:10: FutureWarning: The frame.append method is deprecated and will be removed from pandas in a future version. Use pandas.concat instead.\n",
            "  self.results_df = self.results_df.append(hyperparam_dict, ignore_index=True)\n"
          ]
        },
        {
          "output_type": "stream",
          "name": "stdout",
          "text": [
            "Similarity column 12638 (100.0%), 4411.46 column/sec. Elapsed time 2.86 sec\n",
            "EvaluatorHoldout: Processed 9572 (100.0%) in 9.29 sec. Users per second: 1031\n"
          ]
        },
        {
          "output_type": "stream",
          "name": "stderr",
          "text": [
            "[I 2023-11-24 18:22:04,437] Trial 45 finished with value: 0.018620322833130965 and parameters: {'similarity': 'tversky', 'topK': 190, 'shrink': 2, 'tversky_alpha': 0.5729631952816674, 'tversky_beta': 1.0532252127319777}. Best is trial 39 with value: 0.019333136827652083.\n"
          ]
        },
        {
          "output_type": "stream",
          "name": "stdout",
          "text": [
            "UserKNNCFRecommender: URM Detected 336 ( 2.7%) users with no interactions.\n",
            "UserKNNCFRecommender: URM Detected 172 ( 0.8%) items with no interactions.\n"
          ]
        },
        {
          "output_type": "stream",
          "name": "stderr",
          "text": [
            "<ipython-input-28-14c86811ef81>:10: FutureWarning: The frame.append method is deprecated and will be removed from pandas in a future version. Use pandas.concat instead.\n",
            "  self.results_df = self.results_df.append(hyperparam_dict, ignore_index=True)\n"
          ]
        },
        {
          "output_type": "stream",
          "name": "stdout",
          "text": [
            "Similarity column 12638 (100.0%), 5774.18 column/sec. Elapsed time 2.19 sec\n",
            "EvaluatorHoldout: Processed 9572 (100.0%) in 9.91 sec. Users per second: 965\n"
          ]
        },
        {
          "output_type": "stream",
          "name": "stderr",
          "text": [
            "[I 2023-11-24 18:22:16,768] Trial 46 finished with value: 0.019144391877101864 and parameters: {'similarity': 'tversky', 'topK': 296, 'shrink': 49, 'tversky_alpha': 0.9450676138575738, 'tversky_beta': 1.4168159282618042}. Best is trial 39 with value: 0.019333136827652083.\n"
          ]
        },
        {
          "output_type": "stream",
          "name": "stdout",
          "text": [
            "UserKNNCFRecommender: URM Detected 336 ( 2.7%) users with no interactions.\n",
            "UserKNNCFRecommender: URM Detected 172 ( 0.8%) items with no interactions.\n"
          ]
        },
        {
          "output_type": "stream",
          "name": "stderr",
          "text": [
            "<ipython-input-28-14c86811ef81>:10: FutureWarning: The frame.append method is deprecated and will be removed from pandas in a future version. Use pandas.concat instead.\n",
            "  self.results_df = self.results_df.append(hyperparam_dict, ignore_index=True)\n"
          ]
        },
        {
          "output_type": "stream",
          "name": "stdout",
          "text": [
            "Similarity column 12638 (100.0%), 4816.88 column/sec. Elapsed time 2.62 sec\n",
            "EvaluatorHoldout: Processed 9572 (100.0%) in 7.79 sec. Users per second: 1229\n"
          ]
        },
        {
          "output_type": "stream",
          "name": "stderr",
          "text": [
            "[I 2023-11-24 18:22:27,467] Trial 47 finished with value: 0.019072207131912506 and parameters: {'similarity': 'tversky', 'topK': 226, 'shrink': 56, 'tversky_alpha': 1.0535184441105905, 'tversky_beta': 1.518159066335865}. Best is trial 39 with value: 0.019333136827652083.\n"
          ]
        },
        {
          "output_type": "stream",
          "name": "stdout",
          "text": [
            "UserKNNCFRecommender: URM Detected 336 ( 2.7%) users with no interactions.\n",
            "UserKNNCFRecommender: URM Detected 172 ( 0.8%) items with no interactions.\n"
          ]
        },
        {
          "output_type": "stream",
          "name": "stderr",
          "text": [
            "<ipython-input-28-14c86811ef81>:10: FutureWarning: The frame.append method is deprecated and will be removed from pandas in a future version. Use pandas.concat instead.\n",
            "  self.results_df = self.results_df.append(hyperparam_dict, ignore_index=True)\n"
          ]
        },
        {
          "output_type": "stream",
          "name": "stdout",
          "text": [
            "Similarity column 12638 (100.0%), 3800.09 column/sec. Elapsed time 3.33 sec\n",
            "EvaluatorHoldout: Processed 9572 (100.0%) in 9.46 sec. Users per second: 1012\n"
          ]
        },
        {
          "output_type": "stream",
          "name": "stderr",
          "text": [
            "[I 2023-11-24 18:22:40,499] Trial 48 finished with value: 0.01925273947160702 and parameters: {'similarity': 'tversky', 'topK': 303, 'shrink': 66, 'tversky_alpha': 0.9780514107618918, 'tversky_beta': 1.557706914474722}. Best is trial 39 with value: 0.019333136827652083.\n"
          ]
        },
        {
          "output_type": "stream",
          "name": "stdout",
          "text": [
            "UserKNNCFRecommender: URM Detected 336 ( 2.7%) users with no interactions.\n",
            "UserKNNCFRecommender: URM Detected 172 ( 0.8%) items with no interactions.\n"
          ]
        },
        {
          "output_type": "stream",
          "name": "stderr",
          "text": [
            "<ipython-input-28-14c86811ef81>:10: FutureWarning: The frame.append method is deprecated and will be removed from pandas in a future version. Use pandas.concat instead.\n",
            "  self.results_df = self.results_df.append(hyperparam_dict, ignore_index=True)\n"
          ]
        },
        {
          "output_type": "stream",
          "name": "stdout",
          "text": [
            "Similarity column 12638 (100.0%), 7520.81 column/sec. Elapsed time 1.68 sec\n",
            "EvaluatorHoldout: Processed 9572 (100.0%) in 6.60 sec. Users per second: 1451\n"
          ]
        },
        {
          "output_type": "stream",
          "name": "stderr",
          "text": [
            "[I 2023-11-24 18:22:49,578] Trial 49 finished with value: 1.5148349352277475e-05 and parameters: {'similarity': 'pearson', 'topK': 332, 'shrink': 70}. Best is trial 39 with value: 0.019333136827652083.\n",
            "<ipython-input-28-14c86811ef81>:10: FutureWarning: The frame.append method is deprecated and will be removed from pandas in a future version. Use pandas.concat instead.\n",
            "  self.results_df = self.results_df.append(hyperparam_dict, ignore_index=True)\n"
          ]
        }
      ]
    },
    {
      "cell_type": "code",
      "source": [
        "user_bests = user_optuna_study.best_trial.params"
      ],
      "metadata": {
        "id": "XBtL5f0AakvJ"
      },
      "execution_count": 31,
      "outputs": []
    },
    {
      "cell_type": "code",
      "source": [
        "item_bests = {'topK': 73, 'shrink': 36, 'similarity': 'tversky', 'normalize': True}"
      ],
      "metadata": {
        "id": "IYtZY_sO88nf"
      },
      "execution_count": 32,
      "outputs": []
    },
    {
      "cell_type": "code",
      "source": [
        "recommender_instance_item = ItemKNNCFRecommender(urm_train + urm_validation)\n",
        "recommender_instance_item.fit(**item_bests)\n",
        "\n",
        "result_df_item, _ = evaluator_test.evaluateRecommender(recommender_instance_item)\n",
        "result_df_item"
      ],
      "metadata": {
        "colab": {
          "base_uri": "https://localhost:8080/",
          "height": 231
        },
        "id": "R-hl3tAj9FbE",
        "outputId": "03fa8480-f7e5-4d6f-a18c-cb82110fbf17"
      },
      "execution_count": 33,
      "outputs": [
        {
          "output_type": "stream",
          "name": "stdout",
          "text": [
            "ItemKNNCFRecommender: URM Detected 156 ( 1.2%) users with no interactions.\n",
            "ItemKNNCFRecommender: URM Detected 65 ( 0.3%) items with no interactions.\n",
            "Similarity column 22222 (100.0%), 3688.07 column/sec. Elapsed time 6.03 sec\n",
            "EvaluatorHoldout: Processed 9922 (100.0%) in 7.66 sec. Users per second: 1296\n"
          ]
        },
        {
          "output_type": "execute_result",
          "data": {
            "text/plain": [
              "       PRECISION PRECISION_RECALL_MIN_DEN    RECALL       MAP MAP_MIN_DEN  \\\n",
              "cutoff                                                                      \n",
              "10      0.068807                  0.14179  0.127972  0.033332     0.06822   \n",
              "\n",
              "             MRR     NDCG        F1  HIT_RATE ARHR_ALL_HITS  ...  \\\n",
              "cutoff                                                       ...   \n",
              "10      0.214166  0.12179  0.089495  0.439428      0.265079  ...   \n",
              "\n",
              "       COVERAGE_USER COVERAGE_USER_HIT USERS_IN_GT DIVERSITY_GINI  \\\n",
              "cutoff                                                              \n",
              "10          0.785093          0.344991    0.785093        0.04494   \n",
              "\n",
              "       SHANNON_ENTROPY RATIO_DIVERSITY_HERFINDAHL RATIO_DIVERSITY_GINI  \\\n",
              "cutoff                                                                   \n",
              "10            9.641491                   0.996131             0.128607   \n",
              "\n",
              "       RATIO_SHANNON_ENTROPY RATIO_AVERAGE_POPULARITY RATIO_NOVELTY  \n",
              "cutoff                                                               \n",
              "10                  0.742568                 2.120294       0.26183  \n",
              "\n",
              "[1 rows x 27 columns]"
            ],
            "text/html": [
              "\n",
              "  <div id=\"df-8cd2eeea-7db0-453f-9c66-23b3b5b8eaf4\" class=\"colab-df-container\">\n",
              "    <div>\n",
              "<style scoped>\n",
              "    .dataframe tbody tr th:only-of-type {\n",
              "        vertical-align: middle;\n",
              "    }\n",
              "\n",
              "    .dataframe tbody tr th {\n",
              "        vertical-align: top;\n",
              "    }\n",
              "\n",
              "    .dataframe thead th {\n",
              "        text-align: right;\n",
              "    }\n",
              "</style>\n",
              "<table border=\"1\" class=\"dataframe\">\n",
              "  <thead>\n",
              "    <tr style=\"text-align: right;\">\n",
              "      <th></th>\n",
              "      <th>PRECISION</th>\n",
              "      <th>PRECISION_RECALL_MIN_DEN</th>\n",
              "      <th>RECALL</th>\n",
              "      <th>MAP</th>\n",
              "      <th>MAP_MIN_DEN</th>\n",
              "      <th>MRR</th>\n",
              "      <th>NDCG</th>\n",
              "      <th>F1</th>\n",
              "      <th>HIT_RATE</th>\n",
              "      <th>ARHR_ALL_HITS</th>\n",
              "      <th>...</th>\n",
              "      <th>COVERAGE_USER</th>\n",
              "      <th>COVERAGE_USER_HIT</th>\n",
              "      <th>USERS_IN_GT</th>\n",
              "      <th>DIVERSITY_GINI</th>\n",
              "      <th>SHANNON_ENTROPY</th>\n",
              "      <th>RATIO_DIVERSITY_HERFINDAHL</th>\n",
              "      <th>RATIO_DIVERSITY_GINI</th>\n",
              "      <th>RATIO_SHANNON_ENTROPY</th>\n",
              "      <th>RATIO_AVERAGE_POPULARITY</th>\n",
              "      <th>RATIO_NOVELTY</th>\n",
              "    </tr>\n",
              "    <tr>\n",
              "      <th>cutoff</th>\n",
              "      <th></th>\n",
              "      <th></th>\n",
              "      <th></th>\n",
              "      <th></th>\n",
              "      <th></th>\n",
              "      <th></th>\n",
              "      <th></th>\n",
              "      <th></th>\n",
              "      <th></th>\n",
              "      <th></th>\n",
              "      <th></th>\n",
              "      <th></th>\n",
              "      <th></th>\n",
              "      <th></th>\n",
              "      <th></th>\n",
              "      <th></th>\n",
              "      <th></th>\n",
              "      <th></th>\n",
              "      <th></th>\n",
              "      <th></th>\n",
              "      <th></th>\n",
              "    </tr>\n",
              "  </thead>\n",
              "  <tbody>\n",
              "    <tr>\n",
              "      <th>10</th>\n",
              "      <td>0.068807</td>\n",
              "      <td>0.14179</td>\n",
              "      <td>0.127972</td>\n",
              "      <td>0.033332</td>\n",
              "      <td>0.06822</td>\n",
              "      <td>0.214166</td>\n",
              "      <td>0.12179</td>\n",
              "      <td>0.089495</td>\n",
              "      <td>0.439428</td>\n",
              "      <td>0.265079</td>\n",
              "      <td>...</td>\n",
              "      <td>0.785093</td>\n",
              "      <td>0.344991</td>\n",
              "      <td>0.785093</td>\n",
              "      <td>0.04494</td>\n",
              "      <td>9.641491</td>\n",
              "      <td>0.996131</td>\n",
              "      <td>0.128607</td>\n",
              "      <td>0.742568</td>\n",
              "      <td>2.120294</td>\n",
              "      <td>0.26183</td>\n",
              "    </tr>\n",
              "  </tbody>\n",
              "</table>\n",
              "<p>1 rows × 27 columns</p>\n",
              "</div>\n",
              "    <div class=\"colab-df-buttons\">\n",
              "\n",
              "  <div class=\"colab-df-container\">\n",
              "    <button class=\"colab-df-convert\" onclick=\"convertToInteractive('df-8cd2eeea-7db0-453f-9c66-23b3b5b8eaf4')\"\n",
              "            title=\"Convert this dataframe to an interactive table.\"\n",
              "            style=\"display:none;\">\n",
              "\n",
              "  <svg xmlns=\"http://www.w3.org/2000/svg\" height=\"24px\" viewBox=\"0 -960 960 960\">\n",
              "    <path d=\"M120-120v-720h720v720H120Zm60-500h600v-160H180v160Zm220 220h160v-160H400v160Zm0 220h160v-160H400v160ZM180-400h160v-160H180v160Zm440 0h160v-160H620v160ZM180-180h160v-160H180v160Zm440 0h160v-160H620v160Z\"/>\n",
              "  </svg>\n",
              "    </button>\n",
              "\n",
              "  <style>\n",
              "    .colab-df-container {\n",
              "      display:flex;\n",
              "      gap: 12px;\n",
              "    }\n",
              "\n",
              "    .colab-df-convert {\n",
              "      background-color: #E8F0FE;\n",
              "      border: none;\n",
              "      border-radius: 50%;\n",
              "      cursor: pointer;\n",
              "      display: none;\n",
              "      fill: #1967D2;\n",
              "      height: 32px;\n",
              "      padding: 0 0 0 0;\n",
              "      width: 32px;\n",
              "    }\n",
              "\n",
              "    .colab-df-convert:hover {\n",
              "      background-color: #E2EBFA;\n",
              "      box-shadow: 0px 1px 2px rgba(60, 64, 67, 0.3), 0px 1px 3px 1px rgba(60, 64, 67, 0.15);\n",
              "      fill: #174EA6;\n",
              "    }\n",
              "\n",
              "    .colab-df-buttons div {\n",
              "      margin-bottom: 4px;\n",
              "    }\n",
              "\n",
              "    [theme=dark] .colab-df-convert {\n",
              "      background-color: #3B4455;\n",
              "      fill: #D2E3FC;\n",
              "    }\n",
              "\n",
              "    [theme=dark] .colab-df-convert:hover {\n",
              "      background-color: #434B5C;\n",
              "      box-shadow: 0px 1px 3px 1px rgba(0, 0, 0, 0.15);\n",
              "      filter: drop-shadow(0px 1px 2px rgba(0, 0, 0, 0.3));\n",
              "      fill: #FFFFFF;\n",
              "    }\n",
              "  </style>\n",
              "\n",
              "    <script>\n",
              "      const buttonEl =\n",
              "        document.querySelector('#df-8cd2eeea-7db0-453f-9c66-23b3b5b8eaf4 button.colab-df-convert');\n",
              "      buttonEl.style.display =\n",
              "        google.colab.kernel.accessAllowed ? 'block' : 'none';\n",
              "\n",
              "      async function convertToInteractive(key) {\n",
              "        const element = document.querySelector('#df-8cd2eeea-7db0-453f-9c66-23b3b5b8eaf4');\n",
              "        const dataTable =\n",
              "          await google.colab.kernel.invokeFunction('convertToInteractive',\n",
              "                                                    [key], {});\n",
              "        if (!dataTable) return;\n",
              "\n",
              "        const docLinkHtml = 'Like what you see? Visit the ' +\n",
              "          '<a target=\"_blank\" href=https://colab.research.google.com/notebooks/data_table.ipynb>data table notebook</a>'\n",
              "          + ' to learn more about interactive tables.';\n",
              "        element.innerHTML = '';\n",
              "        dataTable['output_type'] = 'display_data';\n",
              "        await google.colab.output.renderOutput(dataTable, element);\n",
              "        const docLink = document.createElement('div');\n",
              "        docLink.innerHTML = docLinkHtml;\n",
              "        element.appendChild(docLink);\n",
              "      }\n",
              "    </script>\n",
              "  </div>\n",
              "\n",
              "    </div>\n",
              "  </div>\n"
            ]
          },
          "metadata": {},
          "execution_count": 33
        }
      ]
    },
    {
      "cell_type": "code",
      "source": [
        "recommender_instance_user = UserKNNCFRecommender(urm_train + urm_validation)\n",
        "recommender_instance_user.fit(**user_optuna_study.best_trial.params)\n",
        "\n",
        "result_df_user, _ = evaluator_test.evaluateRecommender(recommender_instance_user)\n",
        "result_df_user"
      ],
      "metadata": {
        "colab": {
          "base_uri": "https://localhost:8080/",
          "height": 231
        },
        "id": "fXngKcaxbS76",
        "outputId": "6e498046-ae4e-450a-8131-282483d3a3ca"
      },
      "execution_count": 35,
      "outputs": [
        {
          "output_type": "stream",
          "name": "stdout",
          "text": [
            "UserKNNCFRecommender: URM Detected 156 ( 1.2%) users with no interactions.\n",
            "UserKNNCFRecommender: URM Detected 65 ( 0.3%) items with no interactions.\n",
            "Similarity column 12638 (100.0%), 1790.04 column/sec. Elapsed time 7.06 sec\n",
            "EvaluatorHoldout: Processed 9922 (100.0%) in 9.77 sec. Users per second: 1016\n"
          ]
        },
        {
          "output_type": "execute_result",
          "data": {
            "text/plain": [
              "       PRECISION PRECISION_RECALL_MIN_DEN    RECALL       MAP MAP_MIN_DEN  \\\n",
              "cutoff                                                                      \n",
              "10      0.055614                 0.119083  0.108848  0.026084    0.056232   \n",
              "\n",
              "             MRR      NDCG        F1  HIT_RATE ARHR_ALL_HITS  ...  \\\n",
              "cutoff                                                        ...   \n",
              "10      0.185723  0.101881  0.073615  0.388228      0.219411  ...   \n",
              "\n",
              "       COVERAGE_USER COVERAGE_USER_HIT USERS_IN_GT DIVERSITY_GINI  \\\n",
              "cutoff                                                              \n",
              "10          0.785093          0.304795    0.785093       0.012461   \n",
              "\n",
              "       SHANNON_ENTROPY RATIO_DIVERSITY_HERFINDAHL RATIO_DIVERSITY_GINI  \\\n",
              "cutoff                                                                   \n",
              "10            7.632904                   0.983943             0.035661   \n",
              "\n",
              "       RATIO_SHANNON_ENTROPY RATIO_AVERAGE_POPULARITY RATIO_NOVELTY  \n",
              "cutoff                                                               \n",
              "10                  0.587871                 3.616883       0.23348  \n",
              "\n",
              "[1 rows x 27 columns]"
            ],
            "text/html": [
              "\n",
              "  <div id=\"df-330a45ce-407c-405a-9361-b1256ffb89e7\" class=\"colab-df-container\">\n",
              "    <div>\n",
              "<style scoped>\n",
              "    .dataframe tbody tr th:only-of-type {\n",
              "        vertical-align: middle;\n",
              "    }\n",
              "\n",
              "    .dataframe tbody tr th {\n",
              "        vertical-align: top;\n",
              "    }\n",
              "\n",
              "    .dataframe thead th {\n",
              "        text-align: right;\n",
              "    }\n",
              "</style>\n",
              "<table border=\"1\" class=\"dataframe\">\n",
              "  <thead>\n",
              "    <tr style=\"text-align: right;\">\n",
              "      <th></th>\n",
              "      <th>PRECISION</th>\n",
              "      <th>PRECISION_RECALL_MIN_DEN</th>\n",
              "      <th>RECALL</th>\n",
              "      <th>MAP</th>\n",
              "      <th>MAP_MIN_DEN</th>\n",
              "      <th>MRR</th>\n",
              "      <th>NDCG</th>\n",
              "      <th>F1</th>\n",
              "      <th>HIT_RATE</th>\n",
              "      <th>ARHR_ALL_HITS</th>\n",
              "      <th>...</th>\n",
              "      <th>COVERAGE_USER</th>\n",
              "      <th>COVERAGE_USER_HIT</th>\n",
              "      <th>USERS_IN_GT</th>\n",
              "      <th>DIVERSITY_GINI</th>\n",
              "      <th>SHANNON_ENTROPY</th>\n",
              "      <th>RATIO_DIVERSITY_HERFINDAHL</th>\n",
              "      <th>RATIO_DIVERSITY_GINI</th>\n",
              "      <th>RATIO_SHANNON_ENTROPY</th>\n",
              "      <th>RATIO_AVERAGE_POPULARITY</th>\n",
              "      <th>RATIO_NOVELTY</th>\n",
              "    </tr>\n",
              "    <tr>\n",
              "      <th>cutoff</th>\n",
              "      <th></th>\n",
              "      <th></th>\n",
              "      <th></th>\n",
              "      <th></th>\n",
              "      <th></th>\n",
              "      <th></th>\n",
              "      <th></th>\n",
              "      <th></th>\n",
              "      <th></th>\n",
              "      <th></th>\n",
              "      <th></th>\n",
              "      <th></th>\n",
              "      <th></th>\n",
              "      <th></th>\n",
              "      <th></th>\n",
              "      <th></th>\n",
              "      <th></th>\n",
              "      <th></th>\n",
              "      <th></th>\n",
              "      <th></th>\n",
              "      <th></th>\n",
              "    </tr>\n",
              "  </thead>\n",
              "  <tbody>\n",
              "    <tr>\n",
              "      <th>10</th>\n",
              "      <td>0.055614</td>\n",
              "      <td>0.119083</td>\n",
              "      <td>0.108848</td>\n",
              "      <td>0.026084</td>\n",
              "      <td>0.056232</td>\n",
              "      <td>0.185723</td>\n",
              "      <td>0.101881</td>\n",
              "      <td>0.073615</td>\n",
              "      <td>0.388228</td>\n",
              "      <td>0.219411</td>\n",
              "      <td>...</td>\n",
              "      <td>0.785093</td>\n",
              "      <td>0.304795</td>\n",
              "      <td>0.785093</td>\n",
              "      <td>0.012461</td>\n",
              "      <td>7.632904</td>\n",
              "      <td>0.983943</td>\n",
              "      <td>0.035661</td>\n",
              "      <td>0.587871</td>\n",
              "      <td>3.616883</td>\n",
              "      <td>0.23348</td>\n",
              "    </tr>\n",
              "  </tbody>\n",
              "</table>\n",
              "<p>1 rows × 27 columns</p>\n",
              "</div>\n",
              "    <div class=\"colab-df-buttons\">\n",
              "\n",
              "  <div class=\"colab-df-container\">\n",
              "    <button class=\"colab-df-convert\" onclick=\"convertToInteractive('df-330a45ce-407c-405a-9361-b1256ffb89e7')\"\n",
              "            title=\"Convert this dataframe to an interactive table.\"\n",
              "            style=\"display:none;\">\n",
              "\n",
              "  <svg xmlns=\"http://www.w3.org/2000/svg\" height=\"24px\" viewBox=\"0 -960 960 960\">\n",
              "    <path d=\"M120-120v-720h720v720H120Zm60-500h600v-160H180v160Zm220 220h160v-160H400v160Zm0 220h160v-160H400v160ZM180-400h160v-160H180v160Zm440 0h160v-160H620v160ZM180-180h160v-160H180v160Zm440 0h160v-160H620v160Z\"/>\n",
              "  </svg>\n",
              "    </button>\n",
              "\n",
              "  <style>\n",
              "    .colab-df-container {\n",
              "      display:flex;\n",
              "      gap: 12px;\n",
              "    }\n",
              "\n",
              "    .colab-df-convert {\n",
              "      background-color: #E8F0FE;\n",
              "      border: none;\n",
              "      border-radius: 50%;\n",
              "      cursor: pointer;\n",
              "      display: none;\n",
              "      fill: #1967D2;\n",
              "      height: 32px;\n",
              "      padding: 0 0 0 0;\n",
              "      width: 32px;\n",
              "    }\n",
              "\n",
              "    .colab-df-convert:hover {\n",
              "      background-color: #E2EBFA;\n",
              "      box-shadow: 0px 1px 2px rgba(60, 64, 67, 0.3), 0px 1px 3px 1px rgba(60, 64, 67, 0.15);\n",
              "      fill: #174EA6;\n",
              "    }\n",
              "\n",
              "    .colab-df-buttons div {\n",
              "      margin-bottom: 4px;\n",
              "    }\n",
              "\n",
              "    [theme=dark] .colab-df-convert {\n",
              "      background-color: #3B4455;\n",
              "      fill: #D2E3FC;\n",
              "    }\n",
              "\n",
              "    [theme=dark] .colab-df-convert:hover {\n",
              "      background-color: #434B5C;\n",
              "      box-shadow: 0px 1px 3px 1px rgba(0, 0, 0, 0.15);\n",
              "      filter: drop-shadow(0px 1px 2px rgba(0, 0, 0, 0.3));\n",
              "      fill: #FFFFFF;\n",
              "    }\n",
              "  </style>\n",
              "\n",
              "    <script>\n",
              "      const buttonEl =\n",
              "        document.querySelector('#df-330a45ce-407c-405a-9361-b1256ffb89e7 button.colab-df-convert');\n",
              "      buttonEl.style.display =\n",
              "        google.colab.kernel.accessAllowed ? 'block' : 'none';\n",
              "\n",
              "      async function convertToInteractive(key) {\n",
              "        const element = document.querySelector('#df-330a45ce-407c-405a-9361-b1256ffb89e7');\n",
              "        const dataTable =\n",
              "          await google.colab.kernel.invokeFunction('convertToInteractive',\n",
              "                                                    [key], {});\n",
              "        if (!dataTable) return;\n",
              "\n",
              "        const docLinkHtml = 'Like what you see? Visit the ' +\n",
              "          '<a target=\"_blank\" href=https://colab.research.google.com/notebooks/data_table.ipynb>data table notebook</a>'\n",
              "          + ' to learn more about interactive tables.';\n",
              "        element.innerHTML = '';\n",
              "        dataTable['output_type'] = 'display_data';\n",
              "        await google.colab.output.renderOutput(dataTable, element);\n",
              "        const docLink = document.createElement('div');\n",
              "        docLink.innerHTML = docLinkHtml;\n",
              "        element.appendChild(docLink);\n",
              "      }\n",
              "    </script>\n",
              "  </div>\n",
              "\n",
              "    </div>\n",
              "  </div>\n"
            ]
          },
          "metadata": {},
          "execution_count": 35
        }
      ]
    },
    {
      "cell_type": "code",
      "source": [
        "from Recommenders.BaseRecommender import BaseRecommender\n",
        "\n",
        "class ScoresHybridRecommender(BaseRecommender):\n",
        "    \"\"\" ScoresHybridRecommender\n",
        "    Hybrid of two prediction scores R = R1*alpha + R2*(1-alpha)\n",
        "\n",
        "    \"\"\"\n",
        "\n",
        "    RECOMMENDER_NAME = \"ScoresHybridRecommender\"\n",
        "\n",
        "    def __init__(self, URM_train, recommender_1, recommender_2):\n",
        "        super(ScoresHybridRecommender, self).__init__(URM_train)\n",
        "\n",
        "        self.URM_train = sp.csr_matrix(URM_train)\n",
        "        self.recommender_1 = recommender_1\n",
        "        self.recommender_2 = recommender_2\n",
        "\n",
        "\n",
        "    def fit(self, alpha = 0.5):\n",
        "        self.alpha = alpha\n",
        "\n",
        "\n",
        "    def _compute_item_score(self, user_id_array, items_to_compute):\n",
        "\n",
        "        # In a simple extension this could be a loop over a list of pretrained recommender objects\n",
        "        item_weights_1 = self.recommender_1._compute_item_score(user_id_array)\n",
        "        item_weights_2 = self.recommender_2._compute_item_score(user_id_array)\n",
        "\n",
        "        item_weights = item_weights_1*self.alpha + item_weights_2*(1-self.alpha)\n",
        "\n",
        "        return item_weights"
      ],
      "metadata": {
        "id": "3CydGxGzbqEn"
      },
      "execution_count": 36,
      "outputs": []
    },
    {
      "cell_type": "code",
      "source": [
        "scoreshybridrecommender = ScoresHybridRecommender(urm_train, recommender_instance_item, recommender_instance_user)\n",
        "scoreshybridrecommender.fit(alpha = 0.3)\n",
        "\n",
        "result_df, _ = evaluator_validation.evaluateRecommender(scoreshybridrecommender)\n",
        "result_df"
      ],
      "metadata": {
        "colab": {
          "base_uri": "https://localhost:8080/",
          "height": 214
        },
        "id": "UvquCs_ebrWv",
        "outputId": "be56b46a-5a77-445a-d19e-04a3730df040"
      },
      "execution_count": 55,
      "outputs": [
        {
          "output_type": "stream",
          "name": "stdout",
          "text": [
            "ScoresHybridRecommender: URM Detected 336 ( 2.7%) users with no interactions.\n",
            "ScoresHybridRecommender: URM Detected 172 ( 0.8%) items with no interactions.\n",
            "EvaluatorHoldout: Processed 9572 (100.0%) in 13.23 sec. Users per second: 723\n"
          ]
        },
        {
          "output_type": "execute_result",
          "data": {
            "text/plain": [
              "       PRECISION PRECISION_RECALL_MIN_DEN    RECALL       MAP MAP_MIN_DEN  \\\n",
              "cutoff                                                                      \n",
              "10      0.156644                 0.445505  0.430197  0.118654    0.356519   \n",
              "\n",
              "            MRR      NDCG        F1  HIT_RATE ARHR_ALL_HITS  ...  \\\n",
              "cutoff                                                       ...   \n",
              "10      0.68971  0.456927  0.229663  0.835144      0.901088  ...   \n",
              "\n",
              "       COVERAGE_USER COVERAGE_USER_HIT USERS_IN_GT DIVERSITY_GINI  \\\n",
              "cutoff                                                              \n",
              "10          0.757398          0.632537    0.757398       0.015053   \n",
              "\n",
              "       SHANNON_ENTROPY RATIO_DIVERSITY_HERFINDAHL RATIO_DIVERSITY_GINI  \\\n",
              "cutoff                                                                   \n",
              "10            7.884771                   0.985486             0.043457   \n",
              "\n",
              "       RATIO_SHANNON_ENTROPY RATIO_AVERAGE_POPULARITY RATIO_NOVELTY  \n",
              "cutoff                                                               \n",
              "10                  0.607636                 3.555524      0.276227  \n",
              "\n",
              "[1 rows x 27 columns]"
            ],
            "text/html": [
              "\n",
              "  <div id=\"df-de912ce1-2b9f-4218-857b-d37ccbf4d197\" class=\"colab-df-container\">\n",
              "    <div>\n",
              "<style scoped>\n",
              "    .dataframe tbody tr th:only-of-type {\n",
              "        vertical-align: middle;\n",
              "    }\n",
              "\n",
              "    .dataframe tbody tr th {\n",
              "        vertical-align: top;\n",
              "    }\n",
              "\n",
              "    .dataframe thead th {\n",
              "        text-align: right;\n",
              "    }\n",
              "</style>\n",
              "<table border=\"1\" class=\"dataframe\">\n",
              "  <thead>\n",
              "    <tr style=\"text-align: right;\">\n",
              "      <th></th>\n",
              "      <th>PRECISION</th>\n",
              "      <th>PRECISION_RECALL_MIN_DEN</th>\n",
              "      <th>RECALL</th>\n",
              "      <th>MAP</th>\n",
              "      <th>MAP_MIN_DEN</th>\n",
              "      <th>MRR</th>\n",
              "      <th>NDCG</th>\n",
              "      <th>F1</th>\n",
              "      <th>HIT_RATE</th>\n",
              "      <th>ARHR_ALL_HITS</th>\n",
              "      <th>...</th>\n",
              "      <th>COVERAGE_USER</th>\n",
              "      <th>COVERAGE_USER_HIT</th>\n",
              "      <th>USERS_IN_GT</th>\n",
              "      <th>DIVERSITY_GINI</th>\n",
              "      <th>SHANNON_ENTROPY</th>\n",
              "      <th>RATIO_DIVERSITY_HERFINDAHL</th>\n",
              "      <th>RATIO_DIVERSITY_GINI</th>\n",
              "      <th>RATIO_SHANNON_ENTROPY</th>\n",
              "      <th>RATIO_AVERAGE_POPULARITY</th>\n",
              "      <th>RATIO_NOVELTY</th>\n",
              "    </tr>\n",
              "    <tr>\n",
              "      <th>cutoff</th>\n",
              "      <th></th>\n",
              "      <th></th>\n",
              "      <th></th>\n",
              "      <th></th>\n",
              "      <th></th>\n",
              "      <th></th>\n",
              "      <th></th>\n",
              "      <th></th>\n",
              "      <th></th>\n",
              "      <th></th>\n",
              "      <th></th>\n",
              "      <th></th>\n",
              "      <th></th>\n",
              "      <th></th>\n",
              "      <th></th>\n",
              "      <th></th>\n",
              "      <th></th>\n",
              "      <th></th>\n",
              "      <th></th>\n",
              "      <th></th>\n",
              "      <th></th>\n",
              "    </tr>\n",
              "  </thead>\n",
              "  <tbody>\n",
              "    <tr>\n",
              "      <th>10</th>\n",
              "      <td>0.156644</td>\n",
              "      <td>0.445505</td>\n",
              "      <td>0.430197</td>\n",
              "      <td>0.118654</td>\n",
              "      <td>0.356519</td>\n",
              "      <td>0.68971</td>\n",
              "      <td>0.456927</td>\n",
              "      <td>0.229663</td>\n",
              "      <td>0.835144</td>\n",
              "      <td>0.901088</td>\n",
              "      <td>...</td>\n",
              "      <td>0.757398</td>\n",
              "      <td>0.632537</td>\n",
              "      <td>0.757398</td>\n",
              "      <td>0.015053</td>\n",
              "      <td>7.884771</td>\n",
              "      <td>0.985486</td>\n",
              "      <td>0.043457</td>\n",
              "      <td>0.607636</td>\n",
              "      <td>3.555524</td>\n",
              "      <td>0.276227</td>\n",
              "    </tr>\n",
              "  </tbody>\n",
              "</table>\n",
              "<p>1 rows × 27 columns</p>\n",
              "</div>\n",
              "    <div class=\"colab-df-buttons\">\n",
              "\n",
              "  <div class=\"colab-df-container\">\n",
              "    <button class=\"colab-df-convert\" onclick=\"convertToInteractive('df-de912ce1-2b9f-4218-857b-d37ccbf4d197')\"\n",
              "            title=\"Convert this dataframe to an interactive table.\"\n",
              "            style=\"display:none;\">\n",
              "\n",
              "  <svg xmlns=\"http://www.w3.org/2000/svg\" height=\"24px\" viewBox=\"0 -960 960 960\">\n",
              "    <path d=\"M120-120v-720h720v720H120Zm60-500h600v-160H180v160Zm220 220h160v-160H400v160Zm0 220h160v-160H400v160ZM180-400h160v-160H180v160Zm440 0h160v-160H620v160ZM180-180h160v-160H180v160Zm440 0h160v-160H620v160Z\"/>\n",
              "  </svg>\n",
              "    </button>\n",
              "\n",
              "  <style>\n",
              "    .colab-df-container {\n",
              "      display:flex;\n",
              "      gap: 12px;\n",
              "    }\n",
              "\n",
              "    .colab-df-convert {\n",
              "      background-color: #E8F0FE;\n",
              "      border: none;\n",
              "      border-radius: 50%;\n",
              "      cursor: pointer;\n",
              "      display: none;\n",
              "      fill: #1967D2;\n",
              "      height: 32px;\n",
              "      padding: 0 0 0 0;\n",
              "      width: 32px;\n",
              "    }\n",
              "\n",
              "    .colab-df-convert:hover {\n",
              "      background-color: #E2EBFA;\n",
              "      box-shadow: 0px 1px 2px rgba(60, 64, 67, 0.3), 0px 1px 3px 1px rgba(60, 64, 67, 0.15);\n",
              "      fill: #174EA6;\n",
              "    }\n",
              "\n",
              "    .colab-df-buttons div {\n",
              "      margin-bottom: 4px;\n",
              "    }\n",
              "\n",
              "    [theme=dark] .colab-df-convert {\n",
              "      background-color: #3B4455;\n",
              "      fill: #D2E3FC;\n",
              "    }\n",
              "\n",
              "    [theme=dark] .colab-df-convert:hover {\n",
              "      background-color: #434B5C;\n",
              "      box-shadow: 0px 1px 3px 1px rgba(0, 0, 0, 0.15);\n",
              "      filter: drop-shadow(0px 1px 2px rgba(0, 0, 0, 0.3));\n",
              "      fill: #FFFFFF;\n",
              "    }\n",
              "  </style>\n",
              "\n",
              "    <script>\n",
              "      const buttonEl =\n",
              "        document.querySelector('#df-de912ce1-2b9f-4218-857b-d37ccbf4d197 button.colab-df-convert');\n",
              "      buttonEl.style.display =\n",
              "        google.colab.kernel.accessAllowed ? 'block' : 'none';\n",
              "\n",
              "      async function convertToInteractive(key) {\n",
              "        const element = document.querySelector('#df-de912ce1-2b9f-4218-857b-d37ccbf4d197');\n",
              "        const dataTable =\n",
              "          await google.colab.kernel.invokeFunction('convertToInteractive',\n",
              "                                                    [key], {});\n",
              "        if (!dataTable) return;\n",
              "\n",
              "        const docLinkHtml = 'Like what you see? Visit the ' +\n",
              "          '<a target=\"_blank\" href=https://colab.research.google.com/notebooks/data_table.ipynb>data table notebook</a>'\n",
              "          + ' to learn more about interactive tables.';\n",
              "        element.innerHTML = '';\n",
              "        dataTable['output_type'] = 'display_data';\n",
              "        await google.colab.output.renderOutput(dataTable, element);\n",
              "        const docLink = document.createElement('div');\n",
              "        docLink.innerHTML = docLinkHtml;\n",
              "        element.appendChild(docLink);\n",
              "      }\n",
              "    </script>\n",
              "  </div>\n",
              "\n",
              "    </div>\n",
              "  </div>\n"
            ]
          },
          "metadata": {},
          "execution_count": 55
        }
      ]
    },
    {
      "cell_type": "markdown",
      "metadata": {
        "id": "kf7c8Jck8MD7"
      },
      "source": [
        "#Evaluate the Recommendation System"
      ]
    },
    {
      "cell_type": "code",
      "execution_count": null,
      "metadata": {
        "id": "0AEJQ18RBDNh"
      },
      "outputs": [],
      "source": [
        "def recall(recommendations: np.array, relevant_items: np.array) -> float:\n",
        "    is_relevant = np.in1d(recommendations, relevant_items, assume_unique=True)\n",
        "\n",
        "    recall_score = np.sum(is_relevant) / relevant_items.shape[0]\n",
        "\n",
        "    return recall_score\n",
        "\n",
        "\n",
        "def precision(recommendations: np.array, relevant_items: np.array) -> float:\n",
        "    is_relevant = np.in1d(recommendations, relevant_items, assume_unique=True)\n",
        "\n",
        "    precision_score = np.sum(is_relevant) / recommendations.shape[0]\n",
        "\n",
        "    return precision_score\n",
        "\n",
        "def mean_average_precision(recommendations: np.array, relevant_items: np.array) -> float:\n",
        "    is_relevant = np.in1d(recommendations, relevant_items, assume_unique=True)\n",
        "\n",
        "    precision_at_k = is_relevant * np.cumsum(is_relevant, dtype=np.float32) / (1 + np.arange(is_relevant.shape[0]))\n",
        "\n",
        "    map_score = np.sum(precision_at_k) / np.min([relevant_items.shape[0], is_relevant.shape[0]])\n",
        "\n",
        "    return map_score\n",
        "\n",
        "def AP(recommended_items, relevant_items):\n",
        "\n",
        "    is_relevant = np.in1d(recommended_items, relevant_items, assume_unique=True)\n",
        "\n",
        "    # Cumulative sum: precision at 1, at 2, at 3 ...\n",
        "    p_at_k = is_relevant * np.cumsum(is_relevant, dtype=np.float32) / (1 + np.arange(is_relevant.shape[0]))\n",
        "\n",
        "    ap_score = np.sum(p_at_k) / np.min([relevant_items.shape[0], is_relevant.shape[0]])\n",
        "\n",
        "    return ap_score"
      ]
    },
    {
      "cell_type": "code",
      "execution_count": null,
      "metadata": {
        "id": "rpnDKdXF77OP"
      },
      "outputs": [],
      "source": [
        "def evaluator(recommender: object, urm_train: sp.csr_matrix, urm_test: sp.csr_matrix):\n",
        "    recommendation_length = 10\n",
        "    accum_precision = 0\n",
        "    accum_recall = 0\n",
        "    accum_map = 0\n",
        "\n",
        "    num_users = urm_train.shape[0]\n",
        "\n",
        "    num_users_evaluated = 0\n",
        "    num_users_skipped = 0\n",
        "    for user_id in range(num_users):\n",
        "        user_profile_start = urm_test.indptr[user_id]\n",
        "        user_profile_end = urm_test.indptr[user_id+1]\n",
        "\n",
        "        relevant_items = urm_test.indices[user_profile_start:user_profile_end]\n",
        "\n",
        "        if relevant_items.size == 0:\n",
        "            num_users_skipped += 1\n",
        "            continue\n",
        "\n",
        "        recommendations = recommender.recommend(user_id=user_id,\n",
        "                                               at=recommendation_length,\n",
        "                                               urm_train=urm_train,\n",
        "                                               remove_seen=True)\n",
        "\n",
        "        accum_precision += precision(recommendations, relevant_items)\n",
        "        accum_recall += recall(recommendations, relevant_items)\n",
        "        accum_map += mean_average_precision(recommendations, relevant_items)\n",
        "\n",
        "        num_users_evaluated += 1\n",
        "\n",
        "\n",
        "    accum_precision /= max(num_users_evaluated, 1)\n",
        "    accum_recall /= max(num_users_evaluated, 1)\n",
        "    accum_map /=  max(num_users_evaluated, 1)\n",
        "\n",
        "    return accum_precision, accum_recall, accum_map, num_users_evaluated, num_users_skipped"
      ]
    },
    {
      "cell_type": "code",
      "execution_count": null,
      "metadata": {
        "id": "E5jBxiwnPcPM",
        "colab": {
          "base_uri": "https://localhost:8080/",
          "height": 210
        },
        "outputId": "a9d69dd9-820f-487a-b435-62d1321e9218"
      },
      "outputs": [
        {
          "output_type": "error",
          "ename": "NameError",
          "evalue": "ignored",
          "traceback": [
            "\u001b[0;31m---------------------------------------------------------------------------\u001b[0m",
            "\u001b[0;31mNameError\u001b[0m                                 Traceback (most recent call last)",
            "\u001b[0;32m<ipython-input-75-7a51a8096436>\u001b[0m in \u001b[0;36m<cell line: 1>\u001b[0;34m()\u001b[0m\n\u001b[0;32m----> 1\u001b[0;31m accum_precision, accum_recall, accum_map, num_user_evaluated, num_users_skipped = evaluator(itemknn_recommender,\n\u001b[0m\u001b[1;32m      2\u001b[0m                                                                                             \u001b[0murm_train\u001b[0m\u001b[0;34m,\u001b[0m\u001b[0;34m\u001b[0m\u001b[0;34m\u001b[0m\u001b[0m\n\u001b[1;32m      3\u001b[0m                                                                                             urm_test)\n",
            "\u001b[0;31mNameError\u001b[0m: name 'itemknn_recommender' is not defined"
          ]
        }
      ],
      "source": [
        "accum_precision, accum_recall, accum_map, num_user_evaluated, num_users_skipped = evaluator(itemknn_recommender,\n",
        "                                                                                            urm_train,\n",
        "                                                                                            urm_test)"
      ]
    },
    {
      "cell_type": "code",
      "execution_count": null,
      "metadata": {
        "id": "EMtabpn8Ph3N"
      },
      "outputs": [],
      "source": [
        "accum_precision, accum_recall, accum_map, num_user_evaluated, num_users_skipped"
      ]
    },
    {
      "cell_type": "code",
      "execution_count": null,
      "metadata": {
        "id": "XppxpbmC0BJ1"
      },
      "outputs": [],
      "source": []
    },
    {
      "cell_type": "markdown",
      "metadata": {
        "id": "0YNKBGi69yjT"
      },
      "source": [
        "#Prepare Submission"
      ]
    },
    {
      "cell_type": "code",
      "execution_count": 39,
      "metadata": {
        "id": "XbsJMXyq-feb",
        "colab": {
          "base_uri": "https://localhost:8080/"
        },
        "outputId": "15179692-64bc-4e1d-c56d-db7ba8278845"
      },
      "outputs": [
        {
          "output_type": "execute_result",
          "data": {
            "text/plain": [
              "<12638x22222 sparse matrix of type '<class 'numpy.float64'>'\n",
              "\twith 478730 stored elements in Compressed Sparse Row format>"
            ]
          },
          "metadata": {},
          "execution_count": 39
        }
      ],
      "source": [
        "#forse ho sbagliato ad agggiungere anche il test set qui\n",
        "best_shrink = 5\n",
        "urm_train_validation = urm_train + urm_validation + urm_test\n",
        "urm_train_validation"
      ]
    },
    {
      "cell_type": "code",
      "execution_count": 45,
      "metadata": {
        "id": "Mxytchsc-gJV"
      },
      "outputs": [],
      "source": [
        "best_recommender = ScoresHybridRecommender(urm_train_validation, recommender_instance_item, recommender_instance_user)\n",
        "best_recommender.fit(alpha = 0.5)"
      ]
    },
    {
      "cell_type": "markdown",
      "metadata": {
        "id": "hNLDmXo65XYT"
      },
      "source": [
        "##Top popular for those users without info"
      ]
    },
    {
      "cell_type": "code",
      "execution_count": 41,
      "metadata": {
        "id": "jwzA82CX5WsP"
      },
      "outputs": [],
      "source": [
        "toppop_recommender = TopPopRecommender()\n",
        "toppop_recommender.fit(urm_train_validation)"
      ]
    },
    {
      "cell_type": "code",
      "execution_count": 42,
      "metadata": {
        "id": "6CA4_0p9-mAz",
        "colab": {
          "base_uri": "https://localhost:8080/"
        },
        "outputId": "737e6a24-2e82-4931-cbaa-699351c06ef5"
      },
      "outputs": [
        {
          "output_type": "execute_result",
          "data": {
            "text/plain": [
              "10882"
            ]
          },
          "metadata": {},
          "execution_count": 42
        }
      ],
      "source": [
        "users_to_recommend = np.array(data_target_users_test[\"user_id\"])\n",
        "len(users_to_recommend)"
      ]
    },
    {
      "cell_type": "code",
      "execution_count": 47,
      "metadata": {
        "id": "ULSRLU5i9x3x"
      },
      "outputs": [],
      "source": [
        "def prepare_submission(interactions: pd.DataFrame, users_to_recommend: np.array, urm_train: sp.csr_matrix, recommender: object, toppop_recommender: object):\n",
        "    users_ids_and_mappings = interactions[interactions.user_id.isin(users_to_recommend)][['user_id', 'mapped_user_id']].drop_duplicates()\n",
        "    items_ids_and_mappings = interactions[[\"item_id\", \"mapped_item_id\"]].drop_duplicates()\n",
        "\n",
        "    mapping_to_item_id = dict(zip(interactions.mapped_item_id, interactions.item_id))\n",
        "\n",
        "\n",
        "    recommendation_length = 10\n",
        "    submission = []\n",
        "    for idx, row in users_ids_and_mappings.iterrows():\n",
        "        user_id = row.user_id\n",
        "        mapped_user_id = row.mapped_user_id\n",
        "\n",
        "        recommendations = recommender.recommend(user_id_array=mapped_user_id, cutoff=10)\n",
        "\n",
        "        submission.append((user_id, [mapping_to_item_id[item_id] for item_id in recommendations]))\n",
        "\n",
        "    #assign top popular to the user without interactions\n",
        "    users_without_info = np.setdiff1d(users_to_recommend,np.array(interactions[interactions.user_id.isin(users_to_recommend)][['user_id', 'mapped_user_id']].drop_duplicates().user_id))\n",
        "    for user_id in users_without_info:\n",
        "      recommendations = toppop_recommender.recommend(user_id, at = 10)\n",
        "      submission.append((user_id, [mapping_to_item_id[item_id] for item_id in recommendations]))\n",
        "\n",
        "    return submission"
      ]
    },
    {
      "cell_type": "code",
      "execution_count": 48,
      "metadata": {
        "id": "SiJdrRHX99QI"
      },
      "outputs": [],
      "source": [
        "submission = prepare_submission(interactions, users_to_recommend, urm_train_validation, best_recommender, toppop_recommender)"
      ]
    },
    {
      "cell_type": "code",
      "execution_count": 49,
      "metadata": {
        "id": "KHShzKp7-C4D",
        "colab": {
          "base_uri": "https://localhost:8080/"
        },
        "outputId": "ad8e48ba-8c71-47fd-87bc-2e3189dc5e84"
      },
      "outputs": [
        {
          "output_type": "execute_result",
          "data": {
            "text/plain": [
              "[(1, [12943, 1671, 876, 13590, 2226, 1013, 3991, 776, 14708, 1676]),\n",
              " (2, [2, 6, 3, 4, 15, 5, 9, 18, 8, 19]),\n",
              " (26, [139, 254, 474, 165, 314, 1005, 269, 1089, 41, 350]),\n",
              " (36, [4, 6, 3, 14, 15, 19, 22, 44, 20, 74]),\n",
              " (41, [31, 55, 58, 4, 6, 1, 20, 9, 5, 8]),\n",
              " (47, [96, 38, 4, 15, 3, 2, 214, 85, 344, 72]),\n",
              " (54, [2, 4, 6, 8, 19, 1, 3, 30, 48, 11]),\n",
              " (73, [21, 3, 109, 112, 69, 81, 2, 158, 36, 247]),\n",
              " (88, [99, 133, 6, 4, 139, 346, 3, 318, 2, 1]),\n",
              " (89, [138, 324, 344, 10, 2, 59, 35, 1, 3, 186]),\n",
              " (95, [26, 6, 25, 112, 2, 14, 15, 339, 1, 44]),\n",
              " (100, [313, 99, 3, 764, 636, 15, 11, 10, 119, 6]),\n",
              " (101, [82, 837, 754, 343, 624, 282, 1207, 2314, 1177, 89]),\n",
              " (102, [2843, 2958, 2284, 2904, 2585, 2283, 3208, 2288, 1795, 2147]),\n",
              " (104, [2, 1, 4, 3, 10, 9, 6, 8, 11, 12]),\n",
              " (114, [5, 17, 27, 42, 50, 37, 2, 145, 23, 1]),\n",
              " (124, [34, 94, 346, 715, 1198, 3, 4, 8, 262, 1]),\n",
              " (127, [11, 42, 50, 47, 35, 2, 37, 41, 40, 14]),\n",
              " (138, [3, 117, 137, 120, 15, 2, 30, 10, 18, 54]),\n",
              " (145, [1, 56, 3, 6, 144, 28, 42, 8, 14, 19]),\n",
              " (152, [4, 6, 1, 2, 8, 15, 80, 87, 26, 22]),\n",
              " (178, [1, 4, 3, 2, 44, 25, 38, 26, 16, 18]),\n",
              " (189, [94, 4, 88, 1198, 6, 44, 346, 32, 51, 147]),\n",
              " (202, [96, 39, 40, 76, 2, 101, 6, 1, 77, 540]),\n",
              " (208, [4, 2, 22, 20, 41, 6, 39, 58, 45, 14]),\n",
              " (226, [4, 1, 19, 84, 9, 24, 48, 33, 70, 127]),\n",
              " (251, [4, 2, 3, 33, 19, 8, 20, 60, 14, 116]),\n",
              " (253, [2, 10, 44, 20, 48, 14, 26, 3, 22, 33]),\n",
              " (256, [8, 4, 20, 95, 220, 1, 19, 66, 6, 14]),\n",
              " (259, [4, 2, 6, 3, 8, 45, 36, 17, 29, 51]),\n",
              " (279, [112, 68, 15, 137, 107, 26, 30, 6, 90, 8]),\n",
              " (290, [34, 262, 51, 179, 36, 4, 72, 365, 392, 738]),\n",
              " (292, [3, 48, 8, 14, 35, 20, 80, 17, 65, 27]),\n",
              " (301, [39, 31, 58, 3, 4, 2, 6, 87, 36, 81]),\n",
              " (312, [14, 3, 6, 2, 74, 15, 112, 26, 1, 10]),\n",
              " (323, [45, 4, 906, 22, 6, 792, 19, 768, 3, 8]),\n",
              " (340, [2, 4, 5, 3, 32, 10, 1, 8, 36, 9]),\n",
              " (343, [76, 3, 4, 9, 6, 20, 8, 10, 26, 182]),\n",
              " (346, [1, 17, 2, 16, 28, 44, 47, 20, 80, 25]),\n",
              " (374, [16, 44, 2, 4, 6, 1, 112, 3, 90, 10]),\n",
              " (386, [3, 9, 8, 6, 18, 19, 24, 14, 11, 35]),\n",
              " (407, [6, 4, 44, 202, 496, 26, 88, 15, 81, 14]),\n",
              " (418, [36, 10, 101, 1, 112, 51, 3, 4, 6, 30]),\n",
              " (421, [6, 981, 4, 872, 108, 84, 46, 127, 106, 1]),\n",
              " (422, [208, 344, 8, 4, 34, 1, 85, 2, 6, 3]),\n",
              " (427, [51, 6, 18, 15, 14, 131, 1, 4, 26, 90]),\n",
              " (433, [16, 32, 8, 52, 44, 229, 25, 3, 15, 138]),\n",
              " (443, [4, 132, 241, 26, 20, 177, 118, 72, 200, 114]),\n",
              " (444, [9, 6, 2, 3, 45, 104, 1, 168, 4, 90]),\n",
              " (458, [41, 34, 88, 4, 2, 62, 21, 1, 51, 36]),\n",
              " (459, [3, 1, 4, 6, 112, 18, 342, 9, 1108, 14]),\n",
              " (463, [2, 3, 4, 1, 20, 8, 17, 26, 6, 48]),\n",
              " (467, [6, 24, 38, 4, 14, 8, 345, 84, 46, 132]),\n",
              " (477, [1, 4, 155, 2, 15, 29, 6, 20, 112, 203]),\n",
              " (499, [1, 11, 27, 6, 42, 3, 5, 14, 20, 28]),\n",
              " (511, [40, 39, 3, 1, 20, 8, 15, 6, 25, 33]),\n",
              " (512, [9, 2, 4, 168, 6, 22, 19, 1, 3, 8]),\n",
              " (529, [2, 6, 112, 3, 8, 14, 30, 1, 68, 4]),\n",
              " (553, [41, 39, 3, 32, 77, 1, 60, 20, 4, 96]),\n",
              " (554, [4, 159, 87, 1, 18, 120, 6, 161, 345, 63]),\n",
              " (565, [112, 54, 3, 137, 68, 4, 6, 2, 26, 8]),\n",
              " (579, [270, 87, 512, 256, 447, 1, 6, 167, 2, 107]),\n",
              " (598, [1, 2, 6, 14, 18, 3, 19, 122, 90, 4]),\n",
              " (615, [10, 15, 3, 1, 9, 81, 131, 6, 29, 4]),\n",
              " (617, [34, 1, 6, 14, 51, 8, 30, 15, 345, 81]),\n",
              " (621, [51, 117, 1818, 105, 3090, 2202, 896, 18, 87, 131]),\n",
              " (627, [8, 20, 3, 74, 33, 14, 45, 77, 65, 9]),\n",
              " (632, [8, 1, 2, 20, 19, 25, 16, 238, 3, 278]),\n",
              " (644, [8, 2, 1, 4, 6, 17, 16, 5, 26, 96]),\n",
              " (656, [6, 3, 19, 14, 44, 36, 9, 20, 12, 16]),\n",
              " (659, [31, 55, 3, 1, 20, 6, 22, 19, 48, 103]),\n",
              " (660, [8, 94, 34, 1, 72, 401, 6, 51, 105, 255]),\n",
              " (677, [1, 39, 41, 40, 3, 85, 11, 6, 9, 56]),\n",
              " (686, [54, 107, 88, 131, 81, 21, 15, 179, 51, 68]),\n",
              " (695, [9, 1, 35, 18, 131, 4, 3, 15, 6, 26]),\n",
              " (701, [6, 1, 2, 3, 16, 19, 25, 51, 67, 74]),\n",
              " (708, [9, 16, 2, 1, 6, 3, 10, 19, 25, 33]),\n",
              " (712, [88, 365, 51, 596, 117, 401, 34, 81, 15, 120]),\n",
              " (716, [2, 3, 35, 4, 26, 8, 19, 56, 14, 20]),\n",
              " (725, [171, 146, 316, 347, 318, 329, 474, 314, 843, 292]),\n",
              " (735, [6053, 6334, 7482, 7484, 10490, 7903, 228, 55, 1, 58]),\n",
              " (737, [38, 211, 6, 203, 106, 358, 162, 264, 14, 514]),\n",
              " (763, [60, 2, 6, 3, 1, 51, 26, 8, 19, 74]),\n",
              " (787, [35, 3, 6, 2, 56, 4, 5, 8, 24, 22]),\n",
              " (789, [41, 3, 58, 4, 2, 99, 66, 20, 182, 6]),\n",
              " (829, [179, 4, 36, 6, 81, 105, 8, 401, 1, 107]),\n",
              " (831, [55, 2, 76, 1, 4, 19, 15, 9, 20, 116]),\n",
              " (847, [636, 3, 4, 928, 17, 1273, 32, 10, 578, 1]),\n",
              " (894, [133, 171, 318, 316, 146, 554, 261, 165, 388, 269]),\n",
              " (900, [31, 35, 56, 3, 9, 149, 15, 224, 373, 4]),\n",
              " (901, [4, 20, 19, 61, 22, 172, 6, 49, 33, 26]),\n",
              " (902, [2, 6, 40, 664, 1, 76, 267, 705, 41, 156]),\n",
              " (920, [39, 58, 55, 76, 138, 2, 4, 20, 182, 1]),\n",
              " (921, [19, 85, 9, 15, 28, 24, 30, 20, 51, 18]),\n",
              " (940, [2, 35, 186, 471, 10, 9, 37, 3, 319, 373]),\n",
              " (946, [112, 14, 2, 30, 20, 6, 4, 3, 68, 26]),\n",
              " (947, [1, 5, 300, 29, 4, 3, 17, 10, 6, 15]),\n",
              " (965, [196, 18, 59, 32, 1853, 1752, 81, 36, 186, 51]),\n",
              " (969, [39, 58, 14687, 14691, 16091, 15931, 17711, 20148, 20142, 13449]),\n",
              " (971, [32, 9, 5, 11, 6, 17, 50, 42, 1, 10]),\n",
              " (978, [4, 22, 33, 65, 2, 20, 73, 141, 3, 1]),\n",
              " (988, [55, 58, 3, 2, 15, 35, 4, 1, 56, 20]),\n",
              " (989, [39, 58, 40, 55, 6, 2, 20, 14, 30, 36]),\n",
              " (993, [38, 8, 93, 24, 20, 214, 3, 203, 19, 188]),\n",
              " (994, [55, 76, 3, 22, 20, 48, 1, 6, 26, 19]),\n",
              " (1007, [1, 4, 38, 93, 8, 19, 84, 15, 26, 33]),\n",
              " (1010, [44, 16, 1, 4, 6, 25, 14, 33, 20, 15]),\n",
              " (1014, [2, 112, 1, 4, 32, 18, 6, 54, 5, 3]),\n",
              " (1017, [96, 138, 34, 51, 262, 4, 72, 3, 81, 15]),\n",
              " (1022, [1, 20, 104, 56, 44, 3, 168, 149, 26, 25]),\n",
              " (1024, [96, 10, 3, 4, 2, 8, 112, 1, 15, 6]),\n",
              " (1026, [2, 3, 36, 837, 89, 25, 1, 9, 706, 96]),\n",
              " (1032, [32, 182, 4, 85, 1, 2, 6, 34, 25, 66]),\n",
              " (1036, [1, 23, 3, 4, 9, 6, 8, 11, 10, 19]),\n",
              " (1042, [34, 1, 2, 41, 4, 31, 146, 39, 35, 15]),\n",
              " (1050, [4, 1, 347, 3, 171, 17, 254, 9, 146, 133]),\n",
              " (1051, [6, 20, 33, 14, 48, 26, 36, 44, 74, 9]),\n",
              " (1057, [40, 55, 58, 76, 3, 4, 2, 8, 20, 1]),\n",
              " (1059, [99, 2, 8, 83, 53, 1897, 990, 9, 31, 279]),\n",
              " (1062, [17, 4, 936, 42, 2, 28, 65, 1, 48, 80]),\n",
              " (1069, [35, 9, 104, 168, 6, 14, 8, 2, 144, 11]),\n",
              " (1070, [2, 1, 15, 4, 14, 3, 156, 8, 137, 102]),\n",
              " (1082, [6, 681, 8, 127, 4, 664, 334, 627, 84, 2]),\n",
              " (1083, [35, 9, 4, 2, 1, 6, 168, 326, 220, 149]),\n",
              " (1100, [17, 37, 9, 50, 2, 35, 6, 1, 5, 168]),\n",
              " (1107, [2, 20, 9, 4, 1, 182, 208, 6, 33, 36]),\n",
              " (1108, [1, 20, 14, 3, 67, 24, 19, 22, 15, 25]),\n",
              " (1110, [2, 582, 3, 1, 35, 10, 71, 4, 30, 56]),\n",
              " (1111, [3, 2, 4, 1, 6, 22, 9, 33, 5, 48]),\n",
              " (1116, [8, 2, 4, 1, 3, 44, 52, 14, 25, 19]),\n",
              " (1118, [10, 51, 130, 30, 17, 32, 68, 87, 4, 494]),\n",
              " (1123, [2, 1, 8, 20, 25, 95, 6, 19, 5, 10]),\n",
              " (1138, [148, 4, 134, 6, 2, 304, 74, 279, 19, 3]),\n",
              " (1144, [40, 41, 2, 31, 29, 39, 1, 58, 55, 15]),\n",
              " (1155, [2, 39, 41, 31, 58, 48, 20, 1049, 115, 11]),\n",
              " (1175, [138, 182, 60, 20, 8, 344, 116, 3, 148, 134]),\n",
              " (1176, [1, 44, 20, 2, 15, 179, 19, 16, 34, 24]),\n",
              " (1181, [35, 168, 184, 320, 149, 310, 1041, 2106, 708, 240]),\n",
              " (1195, [36, 101, 291, 68, 112, 106, 3, 6, 107, 18]),\n",
              " (1198, [4, 1, 2, 6, 16, 30, 44, 3, 54, 14]),\n",
              " (1200, [112, 68, 9, 30, 56, 26, 137, 35, 104, 8]),\n",
              " (1203, [3, 14, 6, 1, 30, 2, 38, 4, 84, 54]),\n",
              " (1213, [1, 116, 4, 17, 11, 19, 2, 27, 20, 28]),\n",
              " (1250, [1, 48, 2, 20, 65, 6, 19, 388, 103, 9]),\n",
              " (1259, [775, 451, 722, 564, 830, 2801, 760, 2800, 2219, 443]),\n",
              " (1260, [1, 15, 6, 16, 2, 4, 36, 11, 29, 44]),\n",
              " (1263, [4, 6, 15, 87, 1, 51, 112, 81, 88, 2]),\n",
              " (1266, [95, 2, 14, 3, 56, 38, 326, 389, 54, 465]),\n",
              " (1273, [32, 324, 138, 1, 51, 15, 344, 4, 81, 179]),\n",
              " (1288, [32, 34, 39, 344, 15, 76, 2, 88, 6, 1]),\n",
              " (1290, [94, 4, 88, 6, 99, 22, 19, 15, 8, 1]),\n",
              " (1299, [59, 41, 388, 408, 76, 261, 292, 411, 54, 964]),\n",
              " (1300, [41, 4, 40, 20, 58, 22, 9, 14, 83, 74]),\n",
              " (1305, [45, 2, 28, 1, 3, 11, 19, 4, 9, 42]),\n",
              " (1307, [29, 2, 15, 3, 8, 21, 18, 4, 36, 10]),\n",
              " (1308, [41, 31, 58, 139, 76, 2, 165, 3, 9, 1]),\n",
              " (1323, [90, 54, 87, 85, 30, 114, 1, 68, 160, 11]),\n",
              " (1327, [2813, 3590, 2565, 1488, 6190, 2423, 202, 105, 4267, 393]),\n",
              " (1332, [347, 139, 350, 853, 630, 441, 474, 1794, 408, 843]),\n",
              " (1334, [4, 6, 154, 36, 202, 34, 3, 72, 2, 26]),\n",
              " (1340, [2, 4, 3, 12, 8, 5, 9, 6, 53, 320]),\n",
              " (1348, [2, 201, 253, 54, 122, 3, 11, 1, 9, 5]),\n",
              " (1360, [105, 81, 131, 15, 26, 4, 107, 217, 96, 202]),\n",
              " (1363, [1, 2, 27, 124, 14, 824, 37, 210, 20, 4]),\n",
              " (1364, [88, 1, 26, 2, 15, 14, 6, 365, 4, 81]),\n",
              " (1379, [8417, 9944, 411, 8376, 1500, 12216, 1693, 841, 583, 9405]),\n",
              " (1391, [39, 55, 3, 34, 2, 94, 99, 585, 689, 1]),\n",
              " (1418, [4, 1, 8, 6, 5, 10, 9, 19, 20, 14]),\n",
              " (1434, [2, 1, 6, 3, 14, 112, 4, 34, 8, 19]),\n",
              " (1447, [103, 802, 141, 193, 142, 22, 1091, 1426, 20, 170]),\n",
              " (1454, [2, 320, 488, 3, 287, 9, 1, 1984, 126, 509]),\n",
              " (1464, [74, 2, 60, 1, 33, 19, 14, 44, 134, 22]),\n",
              " (1468, [6, 3, 2, 8, 19, 20, 34, 24, 32, 25]),\n",
              " (1486, [2, 1, 11, 4, 6, 68, 8, 112, 10, 30]),\n",
              " (1494, [31, 58, 3, 76, 9, 2, 4, 5, 56, 6]),\n",
              " (1496, [45, 2, 4, 6, 1, 389, 326, 8, 19, 48]),\n",
              " (1497, [1, 66, 20, 3, 15, 116, 44, 99, 25, 36]),\n",
              " (1505, [6, 20, 22, 3, 8, 1, 95, 19, 33, 84]),\n",
              " (1514, [179, 72, 99, 6, 107, 302, 131, 394, 1284, 94]),\n",
              " (1516, [2, 4, 98, 25, 16, 15, 313, 34, 5, 9]),\n",
              " (1517, [10, 68, 69, 3, 15, 6, 63, 30, 18, 1]),\n",
              " (1518, [35, 240, 361, 319, 558, 4, 412, 807, 1, 1082]),\n",
              " (1521, [1689, 10, 2, 3, 41, 39, 8535, 78, 40, 121]),\n",
              " (1526, [59, 536, 259, 2, 648, 6, 956, 3, 8, 18]),\n",
              " (1536, [31, 76, 55, 3, 4, 2, 6, 18, 9, 20]),\n",
              " (1537, [8417, 8885, 6010, 9189, 8423, 1938, 7814, 555, 15298, 9270]),\n",
              " (1546, [1, 2, 4, 14, 15, 8, 3, 9, 19, 88]),\n",
              " (1568, [39, 4, 1, 9, 5, 6, 33, 8, 22, 10]),\n",
              " (1584, [15, 31, 76, 18, 4, 303, 2, 337, 93, 6]),\n",
              " (1585, [261, 1069, 126, 1480, 41, 2, 17, 28, 733, 39]),\n",
              " (1599, [38, 6, 3, 26, 14, 18, 4, 85, 51, 8]),\n",
              " (1603, [16, 4, 6, 1, 2, 135, 72, 24, 84, 75]),\n",
              " (1608, [2, 4, 40, 6, 58, 20, 55, 186, 5, 17]),\n",
              " (1610, [4, 6, 2, 93, 203, 188, 211, 44, 16, 14]),\n",
              " (1614, [17, 3, 14, 55, 9, 93, 46, 20, 154, 19]),\n",
              " (1621, [54, 3, 15, 4, 6, 30, 14, 8, 10, 1]),\n",
              " (1652, [68, 112, 2, 1, 18, 283, 31, 30, 20, 137]),\n",
              " (1671, [11622, 7395, 10398, 15991, 7394, 1032, 9019, 8560, 7362, 12350]),\n",
              " (1694, [1, 2, 42, 4, 9, 37, 35, 6, 19, 5]),\n",
              " (1702, [1049, 3, 10, 442, 8, 1116, 16, 1475, 712, 54]),\n",
              " (1709, [376, 2257, 467, 430, 2967, 3460, 2057, 573, 120, 496]),\n",
              " (1718, [44, 4, 25, 3, 1, 2, 6, 96, 10, 15]),\n",
              " (1724, [3, 2, 4, 1, 20, 8, 9, 10, 30, 5]),\n",
              " (1735, [1108, 2, 4, 11, 108, 19, 183, 17, 15, 20]),\n",
              " (1740, [3, 112, 2, 28, 30, 54, 11, 1, 137, 5]),\n",
              " (1741, [87, 59, 114, 131, 90, 51, 106, 54, 70, 471]),\n",
              " (1748, [1, 2, 11, 4, 38, 128, 36, 105, 19, 88]),\n",
              " (1755, [5, 9, 64, 57, 35, 98, 3, 1, 12, 27]),\n",
              " (1786, [168, 558, 231, 240, 144, 319, 327, 258, 310, 11]),\n",
              " (1794, [101, 63, 1, 88, 4, 2, 161, 11, 14, 6]),\n",
              " (1816, [85, 29, 313, 51, 467, 107, 430, 158, 89, 1406]),\n",
              " (1837, [39, 58, 2, 4, 17, 12, 329, 76, 388, 6]),\n",
              " (1840, [55, 76, 2, 4, 29, 25, 94, 99, 1, 64]),\n",
              " (1865, [36, 85, 2, 1, 6, 4, 11, 8, 51, 18]),\n",
              " (1868, [2, 3, 5, 144, 11, 4, 168, 68, 18, 112]),\n",
              " (1870, [1, 514, 323, 603, 232, 4, 230, 645, 8, 2]),\n",
              " (1879, [10, 1, 4, 32, 2, 6, 54, 9, 68, 8]),\n",
              " (1894, [2, 18, 6, 30, 1, 36, 46, 17, 15, 28]),\n",
              " (1908, [101, 2, 1, 3, 18, 6, 35, 10, 161, 4]),\n",
              " (1918, [19, 1, 6, 33, 22, 14, 3, 44, 45, 9]),\n",
              " (1922, [55, 4, 2, 20, 1, 6, 9, 5, 33, 48]),\n",
              " (1925, [9, 104, 168, 3, 1, 240, 144, 184, 6, 715]),\n",
              " (1930, [1, 40, 154, 3, 55, 31, 36, 15, 14, 4]),\n",
              " (1939, [1, 8, 84, 77, 33, 74, 44, 26, 15, 9]),\n",
              " (1946, [4, 897, 6, 1, 6297, 8, 3218, 6065, 2, 2291]),\n",
              " (1949, [6306, 7133, 6056, 6578, 4321, 8404, 7847, 4869, 41, 5023]),\n",
              " (1950, [1, 2, 9, 3, 6, 14, 20, 44, 28, 157]),\n",
              " (1969, [2, 4, 6, 30, 45, 1, 8, 26, 24, 11]),\n",
              " (1988, [6, 1, 84, 24, 241, 72, 67, 20, 22, 8]),\n",
              " (1993, [2, 1, 81, 25, 4, 10, 6, 3, 14, 217]),\n",
              " (2001, [6, 2, 108, 36, 38, 8, 21, 3, 88, 93]),\n",
              " (2005, [51, 10, 131, 15, 121, 264, 2, 113, 130, 85]),\n",
              " (2031, [2, 4, 1, 6, 19, 11, 8, 3, 33, 17]),\n",
              " (2038, [131, 112, 15, 51, 81, 88, 36, 106, 6, 21]),\n",
              " (2054, [41, 58, 55, 2, 3, 1, 4, 292, 43, 94]),\n",
              " (2106, [1, 28, 14, 35, 131, 30, 2, 20, 6, 9]),\n",
              " (2117, [88, 813, 81, 26, 1, 99, 255, 8, 105, 393]),\n",
              " (2138, [1, 2, 3, 36, 90, 85, 26, 230, 9, 93]),\n",
              " (2142, [4, 3, 6, 1, 44, 68, 14, 133, 19, 112]),\n",
              " (2144, [40, 39, 55, 3, 88, 4, 15, 81, 6, 8]),\n",
              " (2155, [3, 6, 4, 2, 38, 8, 14, 112, 211, 93]),\n",
              " (2157, [4, 3, 138, 1, 45, 6, 10, 8, 324, 85]),\n",
              " (2164, [40, 58, 3, 347, 76, 146, 329, 1, 56, 186]),\n",
              " (2178, [112, 68, 137, 2, 15, 26, 30, 54, 14, 36]),\n",
              " (2182, [39, 133, 316, 563, 254, 292, 269, 3, 15, 554]),\n",
              " (2221, [42, 35, 2, 1, 145, 3, 14, 19, 144, 149]),\n",
              " (2222, [4, 1, 44, 116, 20, 2, 19, 175, 15, 75]),\n",
              " (2226, [55, 58, 76, 2, 4, 1, 6, 9, 20, 5]),\n",
              " (2229, [29, 112, 41, 31, 58, 15, 40, 3, 68, 270]),\n",
              " (2234, [58, 55, 3, 1, 6, 56, 26, 20, 51, 19]),\n",
              " (2239, [60, 8, 118, 2, 3, 134, 116, 84, 26, 67]),\n",
              " (2255, [112, 68, 2, 137, 15, 3, 78, 1, 25, 8]),\n",
              " (2270, [40, 583, 76, 905, 1537, 1693, 3, 2, 291, 257]),\n",
              " (2272, [751, 2, 1627, 4, 10, 551, 68, 3, 1, 110]),\n",
              " (2274, [5821, 4900, 4352, 101, 15, 10241, 403, 13333, 36, 2]),\n",
              " (2276, [55, 3, 2, 4, 9, 20, 5, 1, 486, 10]),\n",
              " (2286, [1, 8, 6, 44, 25, 93, 14, 20, 15, 21]),\n",
              " (2300, [139, 2843, 254, 2958, 1277, 2585, 4, 318, 2283, 1]),\n",
              " (2313, [1191, 1422, 41, 101, 3, 39, 1, 31, 58, 2]),\n",
              " (2320, [26, 2, 1, 45, 14, 8, 3, 220, 20, 19]),\n",
              " (2322, [28, 47, 2, 42, 40, 50, 1, 39, 9, 55]),\n",
              " (2323, [179, 1099, 4117, 2748, 88, 255, 4, 8, 72, 766]),\n",
              " (2339, [1, 4, 14, 8, 24, 30, 19, 84, 16, 11]),\n",
              " (2358, [22, 4, 48, 141, 20, 2, 14, 73, 19, 1]),\n",
              " (2363, [4, 2, 1, 33, 44, 20, 16, 14, 3, 6]),\n",
              " (2368, [94, 34, 907, 1041, 708, 1443, 1163, 2771, 2106, 53]),\n",
              " (2419, [1, 20, 2, 3, 22, 6, 8, 33, 17, 9]),\n",
              " (2428, [179, 88, 99, 596, 51, 81, 813, 72, 3, 2505]),\n",
              " (2434, [53, 10, 320, 3, 15, 54, 143, 30, 137, 2]),\n",
              " (2443, [1, 2, 6, 20, 9, 8, 15, 80, 26, 45]),\n",
              " (2455, [2, 3, 11, 1, 18, 4, 54, 112, 14, 42]),\n",
              " (2461, [4, 60, 139, 20, 6, 22, 133, 9, 48, 8]),\n",
              " (2468, [1, 36, 3, 30, 69, 6, 14, 5, 10, 379]),\n",
              " (2469, [39, 40, 58, 3, 20, 1, 22, 48, 83, 73]),\n",
              " (2475, [6, 4, 1, 14, 472, 20, 566, 512, 75, 647]),\n",
              " (2480, [3, 1, 28, 4, 26, 33, 70, 10, 22, 561]),\n",
              " (2494, [2, 6, 4, 87, 88, 18, 11, 90, 36, 10]),\n",
              " (2499, [2, 56, 3, 8, 14, 19, 20, 48, 33, 38]),\n",
              " (2513, [96, 4, 138, 20, 1, 6, 66, 8, 104, 60]),\n",
              " (2525, [4, 22, 33, 48, 14, 19, 84, 46, 103, 15]),\n",
              " (2531, [4, 9, 3, 2, 14, 51, 1, 8, 202, 66]),\n",
              " (2532, [2, 41, 8, 6, 31, 58, 55, 20, 22, 15]),\n",
              " (2539, [2, 4, 8, 15, 11, 14, 85, 19, 38, 18]),\n",
              " (2540, [6, 2, 3, 14, 182, 8, 77, 19, 80, 9]),\n",
              " (2554, [2, 1, 6, 90, 54, 15, 18, 11, 3, 59]),\n",
              " (2564, [15, 51, 26, 2, 81, 88, 6, 131, 1, 18]),\n",
              " (2568, [583, 15, 1497, 895, 1127, 904, 1693, 51, 161, 4]),\n",
              " (2582, [21, 15, 2, 36, 54, 8, 81, 180, 34, 4]),\n",
              " (2586, [2, 112, 8, 3, 6, 4, 30, 1, 68, 54]),\n",
              " (2590, [2, 4, 1, 8, 6, 19, 14, 9, 42, 33]),\n",
              " (2594, [18434, 5344, 14, 108, 4196, 70, 88, 1, 13711, 797]),\n",
              " (2601, [1, 20, 84, 177, 26, 19, 15, 3, 45, 238]),\n",
              " (2607, [7010, 1, 2, 5530, 5339, 87, 131, 154, 3, 5156]),\n",
              " (2609, [2, 3, 112, 54, 10, 1, 30, 14, 8, 6]),\n",
              " (2624, [55, 4, 3, 76, 20, 22, 15, 35, 18, 45]),\n",
              " (2628, [120, 107, 87, 4, 30, 6, 51, 11, 19, 2]),\n",
              " (2642, [85, 107, 3, 4, 26, 208, 179, 99, 94, 14]),\n",
              " (2659, [112, 29, 137, 3, 54, 21, 109, 18, 30, 276]),\n",
              " (2663, [4, 94, 1, 6, 44, 99, 48, 14, 2, 33]),\n",
              " (2673, [8, 67, 2, 3, 19, 24, 14, 135, 20, 238]),\n",
              " (2674, [1, 8, 48, 20, 15, 22, 70, 282, 19, 30]),\n",
              " (2682, [29, 15, 298, 51, 1, 2, 18, 6, 4, 36]),\n",
              " (2683, [99, 94, 29, 15, 36, 21, 87, 81, 4, 2]),\n",
              " (2685, [112, 2, 3, 10, 8, 6, 26, 82, 68, 30]),\n",
              " (2689, [133, 4, 1, 10, 3, 44, 6, 254, 2, 112]),\n",
              " (2700, [137, 112, 30, 872, 3, 490, 68, 54, 1116, 1049]),\n",
              " (2717, [41, 316, 474, 39, 31, 350, 133, 146, 165, 1]),\n",
              " (2735, [4, 19, 8, 22, 14, 48, 9, 41, 45, 16]),\n",
              " (2746, [31, 55, 58, 35, 4, 3, 56, 76, 6, 5]),\n",
              " (2759, [4, 2, 1, 20, 19, 14, 44, 94, 99, 31]),\n",
              " (2760, [41, 242, 249, 376, 31, 76, 573, 3, 99, 94]),\n",
              " (2784, [4596, 261, 10398, 1897, 3682, 990, 4597, 11520, 7897, 8361]),\n",
              " (2786, [220, 389, 95, 326, 1, 47, 42, 239, 997, 768]),\n",
              " (2792, [2, 4, 50, 6, 37, 3, 19, 5, 22, 8]),\n",
              " (2797, [1, 228, 103, 19, 22, 135, 279, 3, 33, 24]),\n",
              " (2798, [8, 1, 20, 14, 22, 45, 9, 26, 24, 31]),\n",
              " (2803, [4, 6, 11226, 9846, 95, 14200, 2, 1, 20, 33]),\n",
              " (2816, [168, 56, 50, 9, 2, 149, 28, 144, 42, 184]),\n",
              " (2859, [4, 9, 1, 19, 20, 3, 22, 149, 14, 46]),\n",
              " (2869, [39, 20, 45, 9, 26, 8, 80, 14, 35, 83]),\n",
              " (2876, [4, 1, 2, 6, 9, 8, 20, 14, 22, 19]),\n",
              " (2882, [1, 38, 85, 154, 6, 603, 211, 188, 90, 14]),\n",
              " (2910, [6, 1, 11, 4, 2, 17, 22, 112, 27, 47]),\n",
              " (2912, [31, 3, 34, 6, 1, 9, 22, 60, 51, 36]),\n",
              " (2917, [6, 4, 84, 596, 51, 87, 20, 14, 8, 15]),\n",
              " (2925, [11, 28, 5, 376, 4, 9, 2, 1, 430, 159]),\n",
              " (2933, [34, 94, 99, 738, 171, 320, 1198, 1, 139, 2]),\n",
              " (2942, [41, 2, 1, 15, 35, 6, 4, 30, 11, 9]),\n",
              " (2958, [2, 10, 9, 23, 3, 1, 4, 82, 35, 86]),\n",
              " (2960, [343, 236, 1143, 713, 703, 556, 915, 282, 707, 1700]),\n",
              " (2966, [9, 35, 2, 104, 6, 4, 1, 11, 184, 8]),\n",
              " (2973, [1570, 243, 6, 4, 2, 542, 3, 8, 26, 38]),\n",
              " (2977, [41, 40, 58, 55, 3, 76, 4, 5, 20, 754]),\n",
              " (2992, [18661, 14005, 15120, 15172, 15430, 15377, 15173, 18684, 1650, 18981]),\n",
              " (2994, [28, 42, 50, 2, 5, 37, 1, 6, 4, 14]),\n",
              " (3005, [138, 208, 182, 3, 88, 324, 344, 15, 72, 34]),\n",
              " (3010, [2, 20, 6, 19, 22, 74, 103, 48, 84, 301]),\n",
              " (3015, [39, 287, 321, 1, 3, 71, 40, 340, 41, 11]),\n",
              " (3016, [2, 6, 27, 3, 15, 14, 22, 20, 33, 8]),\n",
              " (3018, [58, 4, 2, 77, 116, 1, 20, 148, 6, 22]),\n",
              " (3019, [4, 2, 22, 9, 1, 6, 80, 26, 14, 56]),\n",
              " (3054, [342, 31, 41, 39, 3, 55, 15, 88, 4, 2]),\n",
              " (3058, [146, 254, 318, 171, 139, 314, 332, 165, 1482, 11]),\n",
              " (3063, [19, 3, 20, 14, 24, 22, 45, 48, 74, 26]),\n",
              " (3075, [2, 6425, 6426, 36, 6428, 32, 19, 3, 9, 85]),\n",
              " (3086, [41, 76, 4, 3, 103, 65, 19, 6, 115, 8]),\n",
              " (3107, [4, 1, 2, 8, 25, 14, 26, 15, 20, 9]),\n",
              " (3114, [20, 19, 8, 3, 80, 73, 45, 66, 134, 115]),\n",
              " (3115, [40, 4, 58, 6, 16, 9, 1, 19, 20, 76]),\n",
              " (3141, [4, 8, 6, 3, 19, 11, 22, 9, 17, 25]),\n",
              " (3144, [1, 4, 3, 6, 20, 48, 5, 14, 80, 22]),\n",
              " (3151, [4, 1, 2, 6, 3, 15, 25, 19, 22, 52]),\n",
              " (3164, [17, 47, 11, 71, 37, 111, 1, 2, 9, 19]),\n",
              " (3165, [2, 18, 648, 10, 3, 30, 8, 4, 54, 1]),\n",
              " (3185, [4, 1, 8, 6, 3, 15, 20, 19, 14, 44]),\n",
              " (3186, [15, 510, 82, 89, 25, 10, 707, 2, 3, 29]),\n",
              " (3196, [76, 101, 59, 2, 154, 161, 6, 30, 1, 51]),\n",
              " (3199, [1, 2, 3, 44, 6, 20, 61, 25, 16, 9]),\n",
              " (3209, [262, 4, 88, 6, 3, 15, 10, 81, 72, 715]),\n",
              " (3211, [112, 2, 15, 101, 137, 6, 36, 68, 4, 161]),\n",
              " (3238, [90, 566, 2, 1, 84, 512, 70, 35, 9, 206]),\n",
              " (3239, [6, 14, 32, 154, 8, 72, 20, 132, 93, 211]),\n",
              " (3258, [30, 68, 112, 3, 8, 6, 137, 59, 18, 69]),\n",
              " (3269, [1, 2, 60, 19, 6, 116, 8, 33, 22, 56]),\n",
              " (3278, [624, 983, 707, 978, 556, 547, 1177, 1179, 1440, 1118]),\n",
              " (3283, [2, 1, 4, 14, 8, 15, 108, 127, 3, 72]),\n",
              " (3284, [3, 4, 2, 411, 291, 8, 22, 14, 841, 38]),\n",
              " (3289, [39, 55, 3, 76, 34, 15, 583, 291, 262, 1]),\n",
              " (3292, [830, 1444, 745, 124, 210, 638, 569, 810, 619, 1055]),\n",
              " (3304, [4, 39, 6, 22, 9, 24, 60, 44, 25, 26]),\n",
              " (3315, [4, 66, 72, 20, 60, 2, 14, 134, 67, 22]),\n",
              " (3320, [2, 4, 56, 5, 1, 15, 6, 18, 8, 11]),\n",
              " (3323, [36, 2, 112, 161, 3, 6, 8, 18, 14, 30]),\n",
              " (3330, [1, 2, 15, 156, 416, 14, 205, 6, 59, 18]),\n",
              " (3332, [19, 15, 1, 14, 8, 4, 45, 101, 20, 48]),\n",
              " (3342, [6, 74, 1, 60, 19, 228, 134, 115, 170, 8]),\n",
              " (3349, [95, 326, 465, 220, 792, 880, 1024, 4, 8, 768]),\n",
              " (3368, [9, 1, 104, 27, 42, 37, 19, 144, 6, 3]),\n",
              " (3369, [32, 182, 324, 467, 313, 129, 3, 10, 376, 2]),\n",
              " (3382, [3, 2, 1, 4, 18, 6, 486, 154, 20, 68]),\n",
              " (3388, [17, 27, 50, 1, 42, 4, 19, 5, 9, 3]),\n",
              " (3393, [2, 3, 8, 6, 68, 1, 137, 4, 30, 54]),\n",
              " (3398, [2, 11, 9, 1, 17, 4, 224, 56, 149, 10]),\n",
              " (3411, [4, 6, 1, 14, 22, 3, 45, 44, 65, 74]),\n",
              " (3425, [2, 1, 3, 8, 15, 4, 80, 18, 9, 174]),\n",
              " (3426, [4, 6, 2, 1, 3, 19, 168, 8, 14, 104]),\n",
              " (3427, [41, 39, 31, 76, 2, 8, 6, 3, 15, 20]),\n",
              " (3429, [1, 2, 5, 4, 9, 6, 8, 68, 11, 160]),\n",
              " (3463, [4, 101, 36, 8, 87, 32, 14, 44, 9, 81]),\n",
              " (3464, [1, 6, 66, 116, 14, 15, 20, 33, 139, 24]),\n",
              " (3466, [88, 4, 6, 81, 36, 107, 14, 72, 34, 21]),\n",
              " (3472, [10, 2, 29, 15, 68, 36, 1, 137, 54, 18]),\n",
              " (3488, [104, 35, 9, 56, 144, 288, 373, 224, 184, 382]),\n",
              " (3510, [6, 3, 15, 4, 14, 36, 19, 41, 33, 60]),\n",
              " (3524, [3616, 3, 68, 2563, 137, 30, 18, 4, 112, 36]),\n",
              " (3526, [88, 56, 4, 81, 18, 2, 3, 107, 15, 94]),\n",
              " (3592, [4, 2, 19, 20, 45, 16, 3, 25, 65, 24]),\n",
              " (3596, [40, 58, 76, 3, 4, 9, 6, 1, 20, 5]),\n",
              " (3604, [72, 580, 10, 4, 1, 6, 1028, 78, 8, 3704]),\n",
              " (3608, [212, 6, 33, 4, 2, 51, 14, 19, 115, 103]),\n",
              " (3626, [39, 76, 3, 2, 13, 11, 28, 6, 9, 15]),\n",
              " (3662, [94, 4, 3, 99, 6, 208, 324, 44, 85, 161]),\n",
              " (3667, [15, 51, 107, 2, 88, 4, 34, 29, 26, 3]),\n",
              " (3673, [9, 168, 149, 1, 184, 144, 5, 20, 22, 6]),\n",
              " (3674, [15, 1, 14, 3, 44, 87, 51, 88, 34, 106]),\n",
              " (3676, [131, 88, 87, 15, 8, 10, 72, 25, 51, 217]),\n",
              " (3683, [8, 19, 93, 2, 3, 15, 211, 22, 16, 24]),\n",
              " (3690, [51, 87, 4, 29, 88, 36, 2, 72, 6, 3]),\n",
              " (3693, [8, 52, 2, 4, 6, 3, 44, 25, 1, 112]),\n",
              " (3699, [40, 6, 76, 51, 15, 88, 9, 14, 20, 18]),\n",
              " (3723, [5, 6, 4, 1, 9, 3, 25, 51, 8, 48]),\n",
              " (3737, [34, 99, 4, 15, 2, 6, 21, 8, 715, 57]),\n",
              " (3753, [388, 1239, 242, 799, 376, 1090, 467, 139, 350, 171]),\n",
              " (3754, [22, 33, 48, 4, 1, 103, 19, 5, 194, 24]),\n",
              " (3796, [343, 1029, 236, 308, 69, 936, 282, 884, 1207, 3]),\n",
              " (3818, [1, 35, 8, 3, 6, 81, 26, 20, 33, 10]),\n",
              " (3825, [203, 38, 85, 154, 514, 520, 358, 6, 645, 1296]),\n",
              " (3826, [56, 326, 20, 26, 19, 15, 465, 3, 168, 537]),\n",
              " (3827, [2, 1, 48, 8, 3, 6, 138, 9, 80, 14]),\n",
              " (3832, [88, 154, 15, 4, 51, 81, 6, 179, 36, 21]),\n",
              " (3835, [6, 4, 1, 8, 88, 52, 15, 29, 44, 25]),\n",
              " (3839, [34, 20, 6052, 1, 6367, 83, 6305, 6525, 32, 7133]),\n",
              " (3846, [87, 15, 6, 1, 8, 131, 26, 81, 108, 154]),\n",
              " (3851, [4, 148, 3, 2, 6, 31, 22, 39, 41, 40]),\n",
              " (3859, [4, 2, 6, 44, 16, 1, 3, 25, 112, 14]),\n",
              " (3868, [1, 2, 3, 54, 112, 30, 4, 8, 15, 14]),\n",
              " (3883, [4, 1, 8, 132, 2, 1593, 825, 25, 72, 3]),\n",
              " (3885, [41, 40, 55, 34, 2, 318, 254, 9, 146, 474]),\n",
              " (3887, [2, 54, 9, 6, 1, 4, 15, 14, 18, 106]),\n",
              " (3900, [1, 6, 33, 48, 22, 3, 15, 74, 24, 44]),\n",
              " (3903, [112, 3, 8, 2, 6, 10, 68, 30, 26, 1]),\n",
              " (3905, [2903, 2283, 3526, 1277, 313, 129, 896, 573, 2766, 3437]),\n",
              " (3906, [3, 31, 36, 1, 4, 430, 76, 6, 8, 18]),\n",
              " (3919, [14, 101, 1, 2, 36, 6, 239, 11, 9, 35]),\n",
              " (3923, [4, 38, 14, 17, 30, 24, 28, 2, 8, 70]),\n",
              " (3942, [40, 55, 76, 1, 6, 303, 5, 582, 85, 35]),\n",
              " (3958, [40, 4, 2, 3, 58, 48, 33, 76, 220, 1]),\n",
              " (3995, [4, 33, 1, 6, 3, 14, 9, 65, 66, 141]),\n",
              " (4004, [11, 17, 47, 27, 2, 42, 1, 5, 145, 3]),\n",
              " (4026, [44, 4, 6, 3, 51, 25, 15, 52, 19, 2]),\n",
              " (4038, [35, 4, 3, 2, 1, 8, 144, 20, 6, 33]),\n",
              " (4044, [28, 27, 1, 2, 4, 9, 14, 5, 8, 19]),\n",
              " (4045, [1, 8, 2, 25, 19, 20, 52, 84, 95, 61]),\n",
              " (4061, [18, 259, 160, 159, 2, 9, 15, 54, 3, 4]),\n",
              " (4062, [2, 3, 1, 8, 4, 54, 18, 30, 112, 14]),\n",
              " (4069, [292, 408, 4596, 964, 653, 696, 1480, 4212, 2728, 2120]),\n",
              " (4078, [14, 1, 130, 2, 8, 25, 6, 512, 69, 45]),\n",
              " (4079, [17, 4, 2, 6, 3, 19, 14, 8, 27, 28]),\n",
              " (4087, [4, 19, 6, 20, 8, 48, 1, 2, 3, 80]),\n",
              " (4096, [6, 8, 20, 3, 19, 48, 14, 44, 60, 65]),\n",
              " (4120, [3, 1, 2, 8, 4, 137, 30, 18, 10, 54]),\n",
              " (4125, [27, 2, 9, 1, 35, 3, 71, 122, 4, 136]),\n",
              " (4127, [112, 2, 8, 3, 4, 6, 68, 30, 1, 54]),\n",
              " (4151, [31, 58, 55, 1, 76, 14, 22, 15, 33, 20]),\n",
              " (4175, [3, 2, 112, 10, 6, 8, 30, 18, 68, 54]),\n",
              " (4181, [11, 50, 4, 5, 19, 6, 3, 28, 136, 38]),\n",
              " (4194, [41, 39, 55, 36, 4, 1, 2, 53, 179, 32]),\n",
              " (4205, [55, 2, 6, 36, 33, 19, 18, 48, 26, 38]),\n",
              " (4216, [35, 224, 149, 144, 373, 9, 803, 974, 372, 170]),\n",
              " (4229, [99, 32, 2, 4, 3, 138, 6, 208, 15, 66]),\n",
              " (4233, [15, 51, 87, 154, 10, 217, 109, 34, 85, 202]),\n",
              " (4236, [4, 6, 14, 30, 2, 15, 38, 93, 24, 214]),\n",
              " (4254, [70, 112, 106, 1, 15, 14, 90, 132, 4, 263]),\n",
              " (4299, [3, 242, 313, 16, 8, 6, 119, 185, 4, 52]),\n",
              " (4310, [1, 6, 30, 20, 15, 5, 8, 14, 18, 26]),\n",
              " (4351, [4, 40, 20, 12768, 10462, 12946, 6, 19, 33, 10476]),\n",
              " (4352, [4, 2, 8, 6, 3, 26, 1, 25, 15, 10]),\n",
              " (4354, [20, 3, 66, 55, 19, 22, 14, 76, 9, 11]),\n",
              " (4355, [94, 11, 6, 17, 4, 2, 262, 15, 51, 1]),\n",
              " (4362, [318, 165, 316, 350, 292, 388, 269, 9, 1005, 1]),\n",
              " (4363, [4, 19, 1, 26, 34, 20, 88, 33, 202, 48]),\n",
              " (4399, [112, 54, 1, 2, 68, 10, 15, 6, 18, 8]),\n",
              " (4405, [39, 2, 55, 58, 9, 4, 1, 20, 6, 45]),\n",
              " (4407, [8, 3, 1, 2, 9, 35, 20, 15, 11, 88]),\n",
              " (4421, [76, 4, 6, 20, 8, 9, 5, 15, 10, 22]),\n",
              " (4425, [1, 36, 6, 3, 44, 15, 26, 2, 34, 14]),\n",
              " (4436, [32, 8, 3, 1, 96, 15, 16, 25, 14, 9]),\n",
              " (4439, [28, 50, 9, 35, 11, 56, 42, 47, 37, 1]),\n",
              " (4444, [56, 35, 17, 2, 126, 91, 11, 321, 275, 3]),\n",
              " (4449, [342, 6, 1288, 1214, 4, 3, 1, 14, 8, 24]),\n",
              " (4451, [2, 1, 3, 8, 5, 6, 25, 19, 10, 20]),\n",
              " (4461, [138, 20, 19, 15, 14, 9, 26, 10, 31, 22]),\n",
              " (4465, [4, 2, 1, 112, 6, 15, 9, 8, 20, 26]),\n",
              " (4483, [9, 168, 224, 149, 11, 17, 184, 144, 186, 361]),\n",
              " (4489, [36, 101, 2, 1, 8, 16, 4, 3, 14, 18]),\n",
              " (4494, [29, 1, 4, 11, 10, 2, 21, 19, 36, 3]),\n",
              " (4514, [2, 6, 4, 3, 30, 1, 8, 11, 112, 18]),\n",
              " (4529, [179, 4, 393, 8, 6, 590, 202, 20, 207, 75]),\n",
              " (4531, [4, 2, 14, 8, 3, 26, 22, 48, 18, 46]),\n",
              " (4540, [2, 11, 6, 17, 28, 1, 50, 4, 3, 27]),\n",
              " (4547, [112, 2, 3, 54, 8, 15, 30, 6, 4, 68]),\n",
              " (4554, [51, 206, 15, 108, 14, 137, 63, 36, 131, 217]),\n",
              " (4572, [88, 6, 2, 15, 26, 87, 14, 131, 81, 36]),\n",
              " (4585, [15, 2, 101, 1, 54, 51, 6, 11, 3, 14]),\n",
              " (4589, [4, 3, 39, 6, 40, 1, 58, 15, 80, 55]),\n",
              " (4598, [2, 6, 4, 3, 8, 112, 30, 14, 24, 38]),\n",
              " (4599, [936, 4, 1207, 1177, 44, 5, 3, 2, 1, 20]),\n",
              " (4604, [20, 4, 8, 6, 33, 74, 48, 157, 95, 80]),\n",
              " (4608, [2075, 540, 1960, 1163, 99, 708, 689, 15, 5289, 3582]),\n",
              " (4622, [342, 5, 1108, 1, 3, 33, 40, 20, 4, 39]),\n",
              " (4630, [112, 2, 8, 3, 1, 6, 4, 10, 68, 14]),\n",
              " (4645, [5, 3, 4, 2, 6, 15, 18, 112, 54, 1]),\n",
              " (4653, [11, 2, 17, 4, 26, 18, 120, 6, 1, 30]),\n",
              " (4666, [45, 4, 6, 2, 220, 1, 191, 8, 465, 20]),\n",
              " (4673, [2, 4, 8, 3, 1, 112, 10, 30, 25, 72]),\n",
              " (4679, [2495, 2366, 6215, 4999, 733, 2121, 6, 592, 630, 7811]),\n",
              " (4682, [40, 41, 39, 31, 764, 15, 3, 4, 636, 2]),\n",
              " (4691, [51, 154, 35, 9, 107, 8, 10, 105, 4, 26]),\n",
              " (4693, [8, 6, 44, 1, 2, 25, 3, 14, 45, 4]),\n",
              " (4696, [4, 16, 2, 1, 19, 8, 75, 74, 25, 38]),\n",
              " (4697, [36, 3, 263, 18, 357, 51, 14, 30, 232, 120]),\n",
              " (4711, [3, 2, 96, 6, 14, 8, 30, 182, 15, 20]),\n",
              " (4712, [2, 1, 8, 3, 6, 9, 154, 25, 19, 15]),\n",
              " (4721, [214, 1, 6, 93, 44, 4, 603, 471, 203, 38]),\n",
              " (4722, [85, 10, 36, 34, 81, 21, 202, 87, 2, 25]),\n",
              " (4726, [1, 4, 19, 8, 20, 433, 9, 22, 582, 30]),\n",
              " (4727, [2, 112, 3, 54, 4, 8, 1, 6, 30, 18]),\n",
              " (4729, [15, 1828, 1, 88, 433, 3, 2, 87, 1682, 1367]),\n",
              " (4752, [12677, 36, 3, 10993, 30, 1, 16484, 18, 3141, 107]),\n",
              " (4754, [4, 20, 60, 2, 66, 15, 58, 33, 96, 48]),\n",
              " (4765, [1, 71, 4, 3, 8, 13, 48, 19, 22, 35]),\n",
              " (4774, [35, 186, 104, 144, 6, 31, 41, 40, 126, 8]),\n",
              " (4782, [15, 34, 202, 106, 88, 162, 206, 131, 29, 18]),\n",
              " (4815, [36, 101, 8, 1374, 4, 3, 6, 68, 1, 30]),\n",
              " (4843, [3, 2, 20, 60, 6, 19, 175, 22, 33, 53]),\n",
              " (4849, [22, 1535, 1715, 103, 33, 6, 4, 19, 73, 3]),\n",
              " (4874, [252, 299, 3, 129, 1, 32, 242, 928, 2, 1146]),\n",
              " (4879, [1, 8, 2, 3, 14, 6, 19, 20, 22, 30]),\n",
              " (4884, [17, 28, 11, 50, 5, 4, 37, 19, 3, 8]),\n",
              " (4896, [4, 6, 1, 3, 44, 16, 14, 20, 10, 25]),\n",
              " (4902, [107, 72, 87, 15, 237, 14, 410, 179, 88, 30]),\n",
              " (4907, [6, 8, 1, 2, 19, 25, 207, 16, 72, 118]),\n",
              " (4916, [214, 6, 14, 211, 203, 3, 230, 4, 270, 3318]),\n",
              " (4936, [47, 27, 42, 6, 14, 4, 5, 19, 9, 8]),\n",
              " (4948, [6, 14, 2, 20, 44, 24, 74, 22, 103, 106]),\n",
              " (4958, [3, 2, 8, 5, 4, 69, 15, 6, 1, 18]),\n",
              " (4960, [41, 6, 3, 87, 4, 81, 1, 179, 127, 262]),\n",
              " (4965, [2, 1214, 1288, 41, 39, 76, 31, 35, 40, 5]),\n",
              " (4968, [2, 112, 8, 3, 6, 4, 30, 1, 68, 54]),\n",
              " (4976, [2, 1, 15, 8, 26, 19, 3, 18, 14, 35]),\n",
              " (4979, [2, 11, 6, 3, 17, 22, 28, 42, 15, 20]),\n",
              " (4984, [1, 2, 3, 14, 4, 8, 30, 15, 19, 10]),\n",
              " (4986, [2, 76, 4, 6, 11, 42, 5, 8, 28, 35]),\n",
              " (4990, [1, 8, 3, 14, 19, 48, 9, 10, 11, 5]),\n",
              " (4997, [129, 15, 764, 51, 3, 1, 2, 34, 26, 36]),\n",
              " (5000, [4, 3, 1, 14, 2, 112, 8, 26, 30, 6]),\n",
              " (5001, [89, 343, 390, 236, 983, 547, 10, 1143, 3, 5]),\n",
              " (5010, [40, 55, 2, 3, 76, 35, 146, 34, 15, 20]),\n",
              " (5033, [764, 119, 3, 4, 249, 2, 10, 1, 15, 34]),\n",
              " (5043, [4, 88, 1, 6, 20, 3, 51, 26, 44, 257]),\n",
              " (5048, [94, 99, 15, 3299, 36, 2, 4, 154, 8, 21]),\n",
              " (5051, [59, 259, 584, 18, 536, 9, 3, 648, 1233, 1]),\n",
              " (5059, [2903, 2284, 3526, 896, 2566, 1795, 2767, 4079, 5023, 2766]),\n",
              " (5064, [112, 2, 8, 3, 6, 4, 30, 68, 1, 10]),\n",
              " (5076, [87, 1, 14, 3, 88, 8, 162, 18, 30, 21]),\n",
              " (5091, [17, 1, 47, 85, 37, 50, 2, 6, 14, 27]),\n",
              " (5103, [40, 41, 4, 2, 19, 22, 20, 58, 857, 17]),\n",
              " (5107, [2, 1, 4, 132, 3, 19, 11, 30, 18, 8]),\n",
              " (5112, [2, 19, 33, 48, 9, 14, 11, 17, 24, 44]),\n",
              " (5129, [17, 37, 27, 50, 2, 1, 47, 3, 6, 5]),\n",
              " (5133, [31, 3, 104, 1, 4, 5, 224, 20, 310, 17]),\n",
              " (5162, [40, 4, 1, 2, 6, 34, 15, 20, 8, 94]),\n",
              " (5167, [6, 1, 161, 403, 4, 8, 84, 637, 72, 14]),\n",
              " (5169, [9, 4, 33, 104, 144, 56, 160, 1, 65, 2]),\n",
              " (5187, [4, 6, 8, 60, 22, 74, 66, 33, 44, 48]),\n",
              " (5191, [39, 58, 76, 3, 20, 1, 6, 14, 19, 9]),\n",
              " (5200, [2, 320, 6, 54, 3, 1, 9, 14, 379, 126]),\n",
              " (5204, [2, 35, 3, 1, 5, 10, 56, 4, 6, 144]),\n",
              " (5215, [18, 403, 2, 68, 54, 3, 8, 1, 51, 34]),\n",
              " (5235, [3, 15, 41, 262, 31, 40, 53, 39, 4, 36]),\n",
              " (5242, [1, 40, 31, 39, 6, 76, 211, 203, 188, 18]),\n",
              " (5268, [2, 112, 15, 34, 3, 54, 6, 8, 107, 68]),\n",
              " (5274, [8, 2, 15, 60, 14, 138, 34, 116, 16, 19]),\n",
              " (5284, [8, 1, 254, 22, 59, 598, 1448, 30, 133, 572]),\n",
              " (5330, [291, 583, 30, 2, 411, 15, 6, 837, 137, 4]),\n",
              " (5334, [208, 2, 15, 321, 5, 10, 3, 37, 1, 71]),\n",
              " (5339, [8, 20, 67, 1, 2, 33, 19, 3, 6, 135]),\n",
              " (5340, [94, 401, 596, 8, 81, 20, 44, 32, 66, 3]),\n",
              " (5348, [15, 21, 2, 298, 4, 54, 1, 8, 36, 68]),\n",
              " (5350, [17, 11, 28, 5, 50, 71, 1483, 37, 2, 201]),\n",
              " (5366, [451, 564, 1124, 1055, 1749, 824, 771, 17, 210, 2636]),\n",
              " (5374, [3, 2, 18, 15, 112, 4, 137, 30, 751, 1]),\n",
              " (5387, [39, 31, 9, 6, 76, 15, 4, 30, 34, 149]),\n",
              " (5390, [60, 2, 1, 8, 58, 48, 347, 9, 1560, 116]),\n",
              " (5391, [40, 58, 467, 76, 2, 9, 4, 11, 1, 30]),\n",
              " (5397, [58, 3, 2, 4, 1, 23, 20, 64, 35, 22]),\n",
              " (5398, [6, 1, 2, 4, 44, 19, 20, 3, 22, 67]),\n",
              " (5399, [17, 1, 5, 2, 42, 145, 126, 30, 149, 38]),\n",
              " (5405, [2, 112, 3, 54, 4, 6, 30, 8, 1, 15]),\n",
              " (5420, [15, 1, 34, 2, 6, 87, 4, 51, 14, 18]),\n",
              " (5441, [4, 3, 1, 8, 9, 6, 10, 5, 20, 133]),\n",
              " (5447, [76, 2, 4, 3, 20, 26, 1, 9, 6, 8]),\n",
              " (5472, [160, 30, 15, 414, 36, 536, 2, 1, 101, 3]),\n",
              " (5490, [8, 1, 20, 830, 2, 6, 14, 451, 36, 564]),\n",
              " (5493, [6, 2, 3, 22, 19, 44, 48, 60, 77, 14]),\n",
              " (5510, [15, 101, 10, 3, 161, 2, 25, 411, 59, 51]),\n",
              " (5520, [41, 39, 9, 133, 55, 58, 35, 6026, 4, 76]),\n",
              " (5536, [185, 5, 126, 71, 287, 15, 379, 86, 293, 31]),\n",
              " (5552, [9, 3, 56, 2, 96, 1, 168, 8, 10, 6]),\n",
              " (5558, [15, 51, 29, 162, 202, 475, 36, 131, 161, 107]),\n",
              " (5559, [112, 2, 8, 3, 6, 68, 4, 30, 14, 1]),\n",
              " (5560, [96, 182, 8, 467, 573, 3, 15, 10, 2, 52]),\n",
              " (5562, [15, 59, 2, 3, 160, 161, 4, 5, 536, 9]),\n",
              " (5568, [112, 2, 8, 6, 3, 4, 30, 68, 54, 10]),\n",
              " (5586, [112, 8, 2, 3, 6, 25, 4, 15, 68, 10]),\n",
              " (5589, [329, 3218, 15, 994, 388, 171, 292, 643, 408, 2404]),\n",
              " (5590, [94, 401, 596, 179, 72, 66, 133, 813, 44, 1619]),\n",
              " (5599, [2, 3, 1, 15, 4, 75, 25, 11, 137, 16]),\n",
              " (5602, [112, 68, 106, 30, 137, 26, 18, 72, 295, 15]),\n",
              " (5615, [18, 38, 15, 440, 36, 1, 188, 93, 414, 298]),\n",
              " (5620, [15, 6, 18, 2, 101, 14, 51, 1, 112, 106]),\n",
              " (5621, [68, 30, 137, 3, 6, 18, 69, 9, 59, 15]),\n",
              " (5622, [220, 95, 326, 19, 103, 33, 73, 3, 40, 537]),\n",
              " (5630, [5, 343, 308, 1, 17, 10, 3, 48, 375, 9]),\n",
              " (5638, [6, 14, 4, 17, 19, 1, 11, 5, 27, 80]),\n",
              " (5643, [88, 107, 26, 6, 2, 4, 1, 72, 14, 131]),\n",
              " (5657, [624, 236, 754, 343, 1290, 82, 308, 805, 89, 1107]),\n",
              " (5663, [41, 58, 4, 1, 2, 15, 20, 9, 25, 36]),\n",
              " (5685, [13, 64, 17, 28, 11, 1, 2, 9, 3, 29]),\n",
              " (5686, [96, 138, 2, 182, 6, 208, 8, 10, 3, 4]),\n",
              " (5691, [898, 855, 82, 619, 26, 824, 112, 11, 569, 49]),\n",
              " (5692, [5182, 5363, 6521, 8238, 7497, 3771, 11068, 4053, 7138, 11919]),\n",
              " (5693, [17, 47, 37, 50, 6, 2, 27, 4, 42, 14]),\n",
              " (5695, [1, 15, 51, 6, 8, 14, 88, 81, 34, 3]),\n",
              " (5722, [4, 8, 2, 14, 20, 19, 48, 24, 33, 65]),\n",
              " (5746, [4, 1, 29, 35, 32, 24, 44, 94, 2, 8]),\n",
              " (5760, [1, 4, 6, 2, 22, 3, 44, 16, 48, 33]),\n",
              " (5780, [6, 15, 11, 4, 17, 36, 8, 41, 126, 90]),\n",
              " (5796, [2, 4, 3, 23, 6, 17, 9, 8, 11, 28]),\n",
              " (5808, [14, 46, 8, 78, 54, 3, 30, 26, 1, 36]),\n",
              " (5810, [4, 20, 702, 260, 66, 14, 2, 16, 369, 33]),\n",
              " (5813, [88, 813, 255, 1099, 202, 94, 34, 393, 72, 483]),\n",
              " (5814, [10, 112, 54, 15, 1, 68, 137, 3, 69, 18]),\n",
              " (5819, [4, 2, 51, 112, 1, 30, 8, 22, 68, 25]),\n",
              " (5828, [2, 9, 1, 35, 3, 399, 582, 4, 11, 17]),\n",
              " (5852, [4, 2, 3, 14, 17, 36, 9, 25, 20, 22]),\n",
              " (5853, [31, 55, 76, 58, 249, 299, 242, 15, 2, 313]),\n",
              " (5887, [9, 2, 149, 55, 104, 186, 39, 319, 184, 382]),\n",
              " (5891, [6, 285, 20, 24, 364, 8, 1, 26, 2743, 67]),\n",
              " (5933, [31, 40, 1, 9, 76, 55, 15, 6, 58, 59]),\n",
              " (5943, [4, 22, 48, 33, 1, 2, 20, 194, 73, 251]),\n",
              " (5947, [824, 6, 745, 1749, 569, 564, 749, 760, 124, 4]),\n",
              " (5948, [147, 76, 60, 4, 907, 3, 20, 95, 220, 1163]),\n",
              " (5959, [28, 19, 2, 1, 27, 42, 95, 3, 4, 37]),\n",
              " (5968, [4, 3, 20, 94, 6, 60, 2777, 36, 346, 291]),\n",
              " (5977, [15, 1, 2, 87, 3, 34, 51, 94, 25, 44]),\n",
              " (5979, [2, 10, 8, 1, 131, 6, 107, 9, 11, 25]),\n",
              " (5982, [4, 3, 147, 8, 14, 44, 11, 34, 22, 25]),\n",
              " (5984, [4, 6, 2, 14, 51, 8, 3, 131, 72, 34]),\n",
              " (5992, [4, 1, 6, 33, 68, 8, 35, 5, 30, 48]),\n",
              " (6007, [2777, 1, 3, 34, 548, 51, 26, 3494, 85, 3575]),\n",
              " (6011, [262, 15, 298, 29, 88, 36, 76, 21, 4, 162]),\n",
              " (6037, [58, 3, 262, 2, 15, 4, 6, 26, 9, 85]),\n",
              " (6041, [3, 2, 112, 10, 26, 6, 8, 68, 15, 54]),\n",
              " (6060, [95, 19, 6, 20, 33, 89, 8, 26, 14, 11]),\n",
              " (6070, [51, 8, 3, 19, 81, 26, 202, 114, 34, 105]),\n",
              " (6071, [66, 1464, 20, 1932, 470, 4, 8, 1, 14, 2255]),\n",
              " (6074, [1, 4, 112, 18, 6, 3, 8, 9, 15, 68]),\n",
              " (6077, [182, 208, 2, 4, 1, 8, 324, 10, 344, 6]),\n",
              " (6083, [32, 2, 8, 208, 324, 20, 56, 14, 25, 11]),\n",
              " (6093, [459, 87, 263, 2, 34, 183, 106, 285, 647, 8]),\n",
              " (6101, [104, 56, 168, 224, 361, 184, 9, 807, 382, 144]),\n",
              " (6109, [2, 1, 4, 8, 11, 6, 17, 28, 112, 9]),\n",
              " (6121, [41, 39, 3, 2, 4, 486, 1108, 17, 5, 9]),\n",
              " (6123, [112, 6, 54, 137, 68, 1, 30, 90, 15, 3]),\n",
              " (6126, [88, 6, 4, 26, 401, 179, 393, 99, 34, 25]),\n",
              " (6129, [11, 27, 47, 1, 50, 2, 5, 154, 71, 3]),\n",
              " (6147, [2, 3, 68, 6, 4, 30, 137, 18, 1, 10]),\n",
              " (6170, [4, 1, 6, 16, 2, 25, 26, 14, 20, 75]),\n",
              " (6178, [1, 11, 324, 17, 242, 20, 9, 28, 6, 573]),\n",
              " (6190, [17, 4, 3, 27, 47, 42, 19, 37, 23, 14]),\n",
              " (6205, [1, 3, 14, 8, 5, 25, 11, 20, 30, 22]),\n",
              " (6211, [2, 4, 11, 8, 28, 42, 9, 80, 37, 14]),\n",
              " (6217, [4, 2, 6, 19, 8, 3, 22, 9, 33, 48]),\n",
              " (6222, [14, 6, 8, 1, 36, 15, 4, 30, 2, 88]),\n",
              " (6240, [347, 388, 139, 1, 20, 4, 1604, 116, 2, 316]),\n",
              " (6242, [36, 2, 3, 6, 154, 10, 16, 19, 44, 51]),\n",
              " (6257, [2, 37, 28, 3, 17, 4, 321, 14, 30, 69]),\n",
              " (6269, [4, 2, 1, 33, 6, 35, 20, 73, 19, 56]),\n",
              " (6272, [1, 2, 8, 26, 88, 3, 19, 81, 101, 108]),\n",
              " (6289, [2, 8, 6, 112, 30, 3, 4, 1, 14, 54]),\n",
              " (6301, [4, 6, 15, 40, 20, 14, 11, 22, 35, 10]),\n",
              " (6328, [51, 81, 96, 72, 179, 324, 131, 393, 107, 217]),\n",
              " (6342, [4, 1, 20, 14, 44, 101, 19, 51, 116, 34]),\n",
              " (6346, [6052, 7134, 7133, 7486, 6875, 6053, 6585, 6051, 6334, 7482]),\n",
              " (6371, [17, 1, 2, 47, 5, 8, 3, 28, 11, 6]),\n",
              " (6376, [182, 324, 10, 4, 15, 20, 1, 2, 8, 6]),\n",
              " (6377, [2, 4, 14, 8, 20, 19, 80, 46, 26, 44]),\n",
              " (6396, [1, 4, 19, 6, 35, 11, 47, 45, 22, 3]),\n",
              " (6415, [29, 6, 15, 36, 2, 43, 16, 51, 4, 3]),\n",
              " (6426, [15, 112, 10, 21, 78, 87, 68, 69, 29, 51]),\n",
              " (6428, [2, 6, 32, 101, 9, 85, 51, 4, 21, 81]),\n",
              " (6461, [88, 81, 10, 217, 36, 15, 8, 108, 19, 29]),\n",
              " (6486, [58, 55, 3, 76, 2, 449, 1, 6, 20, 15]),\n",
              " (6509, [346, 627, 18, 108, 105, 2, 3, 112, 30, 58]),\n",
              " (6517, [2, 1, 6, 33, 41, 48, 40, 14, 94, 58]),\n",
              " (6522, [4, 8, 6, 14, 25, 19, 164, 177, 16, 60]),\n",
              " (6530, [20, 83, 48, 8, 22, 15, 33, 60, 65, 134]),\n",
              " (6534, [433, 133, 2, 582, 3, 43, 98, 5, 4, 1]),\n",
              " (6536, [1, 4, 9, 15, 31, 16, 40, 96, 8, 41]),\n",
              " (6564, [4, 65, 2, 48, 6, 1, 33, 193, 14, 170]),\n",
              " (6572, [8, 68, 36, 283, 25, 69, 85, 15, 820, 2]),\n",
              " (6588, [9, 17, 28, 56, 42, 2, 12, 11, 144, 71]),\n",
              " (6590, [4, 467, 242, 3, 6, 2, 19, 75, 229, 74]),\n",
              " (6595, [28, 27, 42, 47, 5, 2, 145, 6, 136, 19]),\n",
              " (6610, [88, 51, 15, 813, 107, 1099, 18, 87, 255, 81]),\n",
              " (6612, [41, 2, 33, 6, 19, 8, 66, 60, 9, 103]),\n",
              " (6615, [31, 2958, 896, 6, 14, 2766, 44, 24, 19, 25]),\n",
              " (6640, [2, 1, 4, 24, 212, 171, 22, 141, 193, 65]),\n",
              " (6641, [6, 15, 14, 4, 35, 9, 81, 3, 38, 8]),\n",
              " (6655, [112, 3, 1, 8, 15, 2, 4, 6, 68, 32]),\n",
              " (6658, [47, 27, 42, 1, 37, 14, 95, 3, 9, 145]),\n",
              " (6668, [40, 3, 55, 2, 76, 1, 4, 6, 344, 35]),\n",
              " (6669, [96, 112, 138, 3, 10, 54, 208, 4, 25, 2]),\n",
              " (6673, [112, 89, 3, 2, 10, 82, 305, 6, 15, 54]),\n",
              " (6683, [2, 3, 1, 28, 5, 6, 18, 37, 4, 17]),\n",
              " (6685, [35, 2, 1, 29, 3, 104, 102, 37, 17, 6]),\n",
              " (6738, [2, 1, 6, 20, 9, 8, 3, 22, 104, 11]),\n",
              " (6742, [55, 58, 11, 76, 186, 1, 50, 18, 15, 6]),\n",
              " (6759, [1, 6, 20, 44, 3, 2, 66, 77, 134, 96]),\n",
              " (6765, [242, 3, 573, 41, 40, 433, 55, 186, 39, 22]),\n",
              " (6796, [34, 3, 4, 1, 15, 33, 127, 41, 44, 182]),\n",
              " (6798, [3214, 3460, 7010, 5531, 6226, 5157, 2505, 1650, 2967, 1267]),\n",
              " (6807, [4, 3, 11, 56, 14, 6, 27, 47, 37, 42]),\n",
              " (6810, [1883, 2516, 697, 2683, 34, 337, 15, 2702, 907, 585]),\n",
              " (6818, [1, 14, 45, 19, 95, 8, 44, 75, 74, 135]),\n",
              " (6851, [15, 101, 161, 403, 68, 41, 55, 10, 3, 40]),\n",
              " (6864, [8, 1, 4, 44, 25, 3, 6, 2, 5, 17]),\n",
              " (6897, [4, 108, 34, 202, 8, 15, 179, 99, 87, 81]),\n",
              " (6906, [511, 1231, 986, 857, 239, 1858, 1073, 17, 2748, 2172]),\n",
              " (6910, [4, 6, 22, 14, 20, 19, 3, 8, 46, 11]),\n",
              " (6917, [133, 1, 314, 171, 165, 139, 214, 93, 34, 203]),\n",
              " (6927, [9, 1, 2, 35, 6, 3, 33, 8, 20, 14]),\n",
              " (6929, [2, 11, 42, 47, 28, 1, 3, 37, 4, 9]),\n",
              " (6978, [1, 4, 8, 6, 3, 2, 109, 34, 85, 15]),\n",
              " (6986, [29, 13, 2, 36, 15, 4, 112, 3, 41, 356]),\n",
              " (6993, [15, 2, 6, 4, 3, 8, 14, 26, 90, 51]),\n",
              " (6998, [4, 2, 27, 28, 5, 22, 8, 50, 9, 14]),\n",
              " (7005, [6, 15, 14, 3, 16, 25, 19, 38, 85, 26]),\n",
              " (7011, [103, 2, 272, 251, 663, 330, 194, 73, 802, 20]),\n",
              " (7015, [4, 1, 6, 16, 3, 25, 14, 19, 10, 26]),\n",
              " (7019, [202, 179, 131, 6, 596, 114, 4, 365, 255, 217]),\n",
              " (7024, [34, 99, 2, 1, 6, 3, 70, 15, 29, 52]),\n",
              " (7027, [99, 179, 77, 813, 8, 88, 66, 6, 26, 1]),\n",
              " (7036, [2, 1, 6, 8, 19, 20, 3, 32, 26, 61]),\n",
              " (7057, [34, 29, 8, 15, 2, 3, 6, 39, 41, 88]),\n",
              " (7058, [9, 6, 56, 1, 2, 8, 30, 3, 104, 15]),\n",
              " (7059, [41, 4, 1, 2, 55, 58, 20, 6, 19, 76]),\n",
              " (7069, [4, 95, 2, 22, 1, 6, 16, 20, 33, 44]),\n",
              " (7075, [1, 2, 6, 3, 11, 4, 36, 17, 5, 42]),\n",
              " (7086, [4, 6, 14, 1, 85, 15, 3, 26, 84, 38]),\n",
              " (7092, [1, 2, 3, 6, 9, 48, 22, 80, 33, 84]),\n",
              " (7113, [242, 252, 299, 3, 2, 3905, 1, 4, 138, 10]),\n",
              " (7119, [2, 3, 6, 22, 44, 15, 14, 25, 33, 20]),\n",
              " (7133, [34, 1342, 99, 94, 262, 2543, 1011, 8, 3458, 4]),\n",
              " (7151, [182, 324, 20, 4, 22, 344, 10, 2, 3, 1]),\n",
              " (7167, [1, 6, 8, 3, 11, 20, 22, 80, 33, 27]),\n",
              " (7173, [9, 3, 104, 1, 168, 4, 184, 149, 6, 144]),\n",
              " (7187, [175, 208, 2, 1, 20, 133, 441, 6, 171, 9]),\n",
              " (7188, [1, 4, 2, 3, 14, 19, 20, 38, 15, 22]),\n",
              " (7193, [112, 8, 3, 6, 68, 137, 25, 1, 30, 81]),\n",
              " (7201, [11, 27, 28, 1, 47, 3, 50, 2, 4, 37]),\n",
              " (7222, [1, 4, 14, 6, 2, 11, 22, 33, 8, 15]),\n",
              " (7232, [2, 1, 14, 8, 3, 22, 19, 15, 26, 44]),\n",
              " (7235, [161, 337, 1186, 1, 1828, 1682, 4, 6, 403, 257]),\n",
              " (7238, [96, 138, 15, 4, 1, 208, 182, 51, 10, 88]),\n",
              " (7244, [2, 1, 6, 35, 33, 16, 20, 126, 14, 41]),\n",
              " (7270, [2, 112, 8, 18, 10, 1, 54, 6, 15, 3]),\n",
              " (7275, [119, 249, 117, 242, 536, 313, 2, 584, 639, 1001]),\n",
              " (7284, [1, 39, 3, 8, 58, 14, 55, 33, 19, 36]),\n",
              " (7285, [6, 14, 2, 702, 8, 1, 33, 74, 135, 801]),\n",
              " (7288, [2, 112, 14, 8, 3, 1, 4, 30, 54, 68]),\n",
              " (7306, [3, 9, 76, 4, 1, 116, 6, 388, 329, 35]),\n",
              " (7309, [3, 4, 1, 20, 94, 5, 6, 10, 15, 33]),\n",
              " (7323, [55, 56, 6, 184, 15, 20, 224, 168, 36, 144]),\n",
              " (7326, [39, 40, 55, 76, 4, 15, 29, 262, 1, 9]),\n",
              " (7361, [154, 38, 15, 188, 93, 603, 6, 2, 36, 3]),\n",
              " (7369, [94, 11, 27, 2, 3, 99, 8, 15, 1, 10]),\n",
              " (7373, [58, 3, 2, 4, 5, 20, 33, 1, 9, 22]),\n",
              " (7380, [6, 3, 112, 2, 14, 8, 30, 68, 4, 25]),\n",
              " (7388, [2, 20, 22, 19, 3, 103, 74, 33, 48, 11]),\n",
              " (7406, [41, 9, 2, 6, 4, 35, 22, 68, 486, 56]),\n",
              " (7426, [1960, 1840, 31, 147, 6207, 262, 5289, 1911, 3722, 715]),\n",
              " (7445, [4, 44, 3, 11, 30, 93, 9, 112, 106, 26]),\n",
              " (7446, [2, 4, 259, 8, 6, 1, 80, 3, 95, 20]),\n",
              " (7460, [4, 6, 2, 67, 19, 20, 3, 15, 22, 16]),\n",
              " (7461, [1, 5, 2, 343, 69, 6, 15, 9, 54, 68]),\n",
              " (7463, [4, 94, 38, 254, 146, 3, 12, 8, 203, 9]),\n",
              " (7469, [39, 76, 3, 2, 4, 9, 33, 1, 22, 20]),\n",
              " (7471, [88, 202, 179, 401, 51, 813, 6, 4, 255, 393]),\n",
              " (7477, [138, 208, 324, 10, 8, 344, 1, 2, 3, 6]),\n",
              " (7485, [99, 540, 320, 3, 392, 31, 1443, 39, 708, 689]),\n",
              " (7490, [2, 1, 4, 8, 3, 14, 80, 11, 48, 15]),\n",
              " (7493, [15, 3, 112, 36, 1, 89, 137, 8, 25, 131]),\n",
              " (7497, [6, 3, 76, 33, 22, 9, 103, 228, 83, 8]),\n",
              " (7505, [6, 8, 1, 51, 34, 14, 15, 94, 3, 26]),\n",
              " (7507, [40, 39, 3, 76, 1, 6, 9, 19, 22, 48]),\n",
              " (7510, [120, 21, 59, 87, 29, 510, 85, 800, 1481, 105]),\n",
              " (7522, [36, 1, 3, 6, 25, 34, 44, 154, 20, 14]),\n",
              " (7534, [15, 4, 2, 9, 37, 35, 28, 6, 87, 1]),\n",
              " (7538, [11178, 10234, 9813, 9712, 4, 324, 138, 6, 1, 15]),\n",
              " (7541, [35, 186, 361, 56, 2, 144, 18, 3, 372, 149]),\n",
              " (7542, [32, 467, 138, 242, 182, 3, 4, 2, 94, 15]),\n",
              " (7548, [2, 5, 6, 4, 3, 1, 14, 8, 112, 26]),\n",
              " (7550, [40, 31, 6, 58, 4, 76, 30, 14, 22, 20]),\n",
              " (7557, [87, 4, 51, 34, 36, 26, 8, 41, 18, 108]),\n",
              " (7584, [15, 4, 1, 2, 32, 6, 20, 138, 29, 19]),\n",
              " (7593, [324, 6720, 99, 7027, 6426, 6723, 7369, 7028, 88, 6725]),\n",
              " (7596, [19, 5, 3, 6, 9, 14, 11, 50, 210, 120]),\n",
              " (7603, [4, 16, 36, 1, 3, 6, 29, 44, 53, 101]),\n",
              " (7620, [10, 2034, 15, 18, 30, 8, 3, 1, 2, 511]),\n",
              " (7624, [2, 1, 25, 6, 20, 15, 44, 22, 19, 10]),\n",
              " (7635, [430, 242, 99, 94, 179, 87, 4, 15, 10, 162]),\n",
              " (7644, [1, 11, 4, 17, 6, 5, 37, 28, 9, 15]),\n",
              " (7649, [72, 1897, 401, 51, 202, 596, 813, 32, 81, 6]),\n",
              " (7653, [2, 3, 112, 8, 101, 1, 6, 4, 68, 18]),\n",
              " (7660, [11, 6, 27, 42, 14, 36, 90, 3, 4, 51]),\n",
              " (7664, [585, 2075, 1722, 320, 1041, 4154, 2829, 4704, 3653, 2013]),\n",
              " (7674, [4, 1, 88, 202, 114, 192, 6, 2, 44, 167]),\n",
              " (7696, [31, 55, 3, 2, 1, 33, 20, 5, 48, 35]),\n",
              " (7702, [40, 58, 55, 76, 6, 1, 8, 20, 596, 2]),\n",
              " (7704, [160, 114, 26, 87, 30, 414, 18, 105, 4, 284]),\n",
              " (7708, [196, 112, 32, 4, 18, 5, 2, 1, 6, 8]),\n",
              " (7714, [3, 32, 2, 1, 540, 77, 66, 6, 138, 60]),\n",
              " (7717, [101, 15, 680, 403, 337, 895, 54, 1, 85, 440]),\n",
              " (7740, [4, 8, 3, 20, 33, 15, 9, 24, 25, 48]),\n",
              " (7744, [3, 2, 5, 4, 15, 29, 20, 16, 9, 39]),\n",
              " (7762, [17, 2, 5, 42, 3, 6, 4, 11, 35, 47]),\n",
              " (7765, [2, 112, 8, 3, 6, 4, 30, 54, 68, 10]),\n",
              " (7777, [31, 104, 56, 168, 2, 184, 3, 258, 361, 159]),\n",
              " (7781, [99, 159, 85, 36, 262, 15, 120, 29, 1785, 88]),\n",
              " (7785, [2, 33, 4, 6, 14, 170, 103, 73, 65, 3]),\n",
              " (7802, [47, 11, 50, 37, 17, 10, 15, 27, 101, 5]),\n",
              " (7803, [55, 3, 540, 2, 20, 8, 6, 1, 19, 15]),\n",
              " (7808, [2, 3, 4, 13, 23, 71, 9, 12, 6, 10]),\n",
              " (7818, [28, 17, 1, 2, 6, 3, 50, 4, 8, 30]),\n",
              " (7828, [36, 120, 117, 2, 379, 10, 1, 18, 3, 101]),\n",
              " (7867, [39, 41, 31, 40, 64, 6, 21, 55, 8, 57]),\n",
              " (7889, [1, 4, 3, 15, 6, 29, 5, 98, 64, 88]),\n",
              " (7893, [59, 10, 2, 9, 35, 3, 30, 4, 15, 939]),\n",
              " (7902, [45, 2, 95, 112, 4, 8, 3, 1, 220, 26]),\n",
              " (7916, [6198, 6748, 6723, 6179, 182, 6452, 7028, 6178, 6427, 29]),\n",
              " (7918, [9, 35, 56, 104, 2, 1, 168, 4, 17, 5]),\n",
              " (7934, [8, 6, 4, 3, 2, 14, 25, 61, 45, 20]),\n",
              " (7942, [17910, 17901, 17903, 20, 96, 17909, 94, 3, 134, 44]),\n",
              " (7957, [40, 58, 55, 3, 76, 4, 2, 6, 1, 20]),\n",
              " (7965, [2, 54, 6, 1, 4, 40, 14, 68, 31, 90]),\n",
              " (7968, [138, 4, 6, 10, 1, 182, 208, 8, 112, 36]),\n",
              " (7973, [4, 2, 6, 14, 93, 42, 28, 3, 27, 214]),\n",
              " (7977, [4332, 4597, 415, 1190, 1313, 7912, 984, 2021, 7935, 937]),\n",
              " (7982, [203, 38, 323, 188, 214, 358, 603, 211, 230, 645]),\n",
              " (7993, [6, 8, 1, 20, 3, 60, 14, 11, 26, 19]),\n",
              " (8003, [2, 1, 39, 55, 56, 76, 25, 22, 8, 18]),\n",
              " (8005, [171, 165, 9, 316, 350, 56, 148, 12, 4, 325]),\n",
              " (8015, [6, 2, 8, 19, 87, 34, 33, 88, 20, 81]),\n",
              " (8040, [99, 262, 4, 15, 392, 3458, 51, 72, 738, 6]),\n",
              " (8041, [60, 1, 116, 6, 19, 208, 9, 22, 15, 33]),\n",
              " (8045, [112, 54, 3, 1, 10, 18, 8, 137, 106, 2]),\n",
              " (8055, [58, 55, 76, 4, 5, 9, 6, 20, 22, 48]),\n",
              " (8066, [2, 1, 47, 27, 6, 42, 8, 9, 19, 16]),\n",
              " (8071, [4, 3, 66, 715, 88, 179, 346, 8, 32, 202]),\n",
              " (8082, [1, 6, 33, 22, 80, 3, 48, 35, 67, 25]),\n",
              " (8086, [1, 4, 22, 45, 95, 6, 19, 48, 26, 103]),\n",
              " (8092, [15, 2, 20, 1, 14, 36, 6, 10, 81, 124]),\n",
              " (8099, [3, 44, 1, 2, 4, 10, 16, 112, 15, 25]),\n",
              " (8103, [2, 54, 592, 618, 1108, 1288, 10, 342, 81, 751]),\n",
              " (8104, [14, 8, 290, 4, 1, 26, 72, 15, 20, 2]),\n",
              " (8108, [32, 96, 4, 2, 34, 8, 242, 1, 81, 376]),\n",
              " (8110, [9, 56, 104, 144, 168, 184, 240, 382, 361, 310]),\n",
              " (8151, [112, 6, 3, 14, 15, 8, 68, 67, 30, 137]),\n",
              " (8176, [56, 149, 2, 361, 310, 3, 42, 258, 47, 6]),\n",
              " (8192, [41, 40, 39, 2, 58, 55, 1, 4, 6, 76]),\n",
              " (8198, [154, 15, 18, 88, 2, 14, 1083, 1288, 38, 108]),\n",
              " (8211, [6, 8, 1, 67, 2, 14, 84, 44, 106, 20]),\n",
              " (8224, [2, 4, 3, 6, 20, 48, 36, 22, 16, 14]),\n",
              " (8230, [3, 1, 9, 10, 11, 4, 27, 91, 17, 13]),\n",
              " (8237, [43, 98, 29, 21, 109, 13, 204, 198, 5, 71]),\n",
              " (8244, [55, 2, 76, 1, 38, 4, 15, 293, 18, 20]),\n",
              " (8275, [4, 1, 2, 60, 26, 76, 8, 255, 202, 88]),\n",
              " (8276, [40, 76, 3, 2, 4, 20, 8, 5, 9, 6]),\n",
              " (8278, [9103, 10865, 4858, 11728, 8622, 3512, 6229, 5006, 6784, 4050]),\n",
              " (8282, [1, 29, 15, 3, 2, 6, 18, 8, 93, 17]),\n",
              " (8287, [131, 8, 10, 96, 15, 26, 6, 82, 78, 5]),\n",
              " (8302, [1422, 15, 3188, 3162, 36, 3, 26, 81, 18, 2453]),\n",
              " (8316, [94, 31, 34, 41, 2, 15, 58, 96, 26, 77]),\n",
              " (8321, [1, 9, 4, 6, 19, 22, 145, 14, 8, 23]),\n",
              " (8329, [15, 51, 596, 85, 77, 26, 44, 2, 81, 183]),\n",
              " (8342, [978, 5, 3, 1051, 89, 82, 22, 936, 4, 754]),\n",
              " (8348, [2198, 2290, 4559, 3205, 32, 3, 147, 9455, 66, 2]),\n",
              " (8357, [4, 183, 84, 87, 135, 1, 8, 20, 24, 459]),\n",
              " (8364, [2, 17, 18, 11, 1, 28, 347, 47, 35, 4]),\n",
              " (8387, [19, 22, 6, 8, 2, 1, 48, 14, 20, 33]),\n",
              " (8403, [2, 6, 1, 30, 87, 90, 131, 26, 183, 4]),\n",
              " (8424, [31, 41, 39, 76, 1288, 1083, 486, 2, 4, 1]),\n",
              " (8446, [40, 138, 58, 60, 36, 4869, 4, 148, 4870, 5]),\n",
              " (8447, [2, 8, 3, 4, 1, 10, 23, 6, 16, 71]),\n",
              " (8450, [1, 6, 2, 20, 48, 22, 8, 19, 24, 73]),\n",
              " (8451, [95, 389, 45, 465, 768, 860, 220, 906, 2, 14]),\n",
              " (8465, [4, 77, 2, 9, 20, 14, 35, 15, 34, 116]),\n",
              " (8470, [761, 428, 770, 717, 625, 210, 1, 678, 919, 32]),\n",
              " (8471, [8, 2, 4, 88, 112, 3, 26, 1, 25, 15]),\n",
              " (8474, [2, 1, 121, 8, 9, 51, 3, 25, 20, 131]),\n",
              " (8490, [6, 4, 20, 33, 22, 8, 25, 74, 15, 48]),\n",
              " (8495, [4, 2, 1, 1481, 15, 6, 5, 9, 87, 18]),\n",
              " (8496, [4, 3, 34, 8, 1, 6, 72, 99, 94, 179]),\n",
              " (8503, [6, 2, 4, 3, 8, 30, 1, 14, 68, 10]),\n",
              " (8536, [537, 906, 768, 191, 4, 2, 3, 8, 20, 1]),\n",
              " (8538, [6, 267, 30, 3, 10, 14, 4, 580, 25, 1]),\n",
              " (8542, [3, 2, 31, 87, 40, 88, 85, 39, 8, 6]),\n",
              " (8546, [4, 2, 3, 6, 8, 9, 5, 19, 22, 25]),\n",
              " (8548, [39, 76, 3, 2, 1, 9, 20, 22, 8, 48]),\n",
              " (8551, [6, 3, 58, 55, 48, 11, 8, 26, 15, 50]),\n",
              " (8554, [42, 47, 11, 1, 28, 50, 136, 2, 37, 6]),\n",
              " (8561, [6, 1, 36, 3, 15, 4, 5, 17, 28, 8]),\n",
              " (8575, [40, 55, 3, 76, 4, 2, 1, 16, 20, 6]),\n",
              " (8589, [8, 1, 6, 3, 4, 14, 32, 20, 25, 18]),\n",
              " (8599, [1, 6, 2, 8, 16, 20, 44, 32, 77, 10]),\n",
              " (8600, [2, 15, 6, 4, 112, 30, 106, 14, 90, 68]),\n",
              " (8604, [2, 1, 8, 14, 3, 45, 15, 95, 90, 4]),\n",
              " (8609, [9, 66, 4, 3, 6, 144, 20, 149, 8, 19]),\n",
              " (8617, [40, 31, 2, 28, 5, 6, 37, 35, 20, 14]),\n",
              " (8621, [6, 4, 1, 2, 48, 20, 80, 8, 3, 26]),\n",
              " (8628, [4082, 7811, 7824, 7771, 9091, 2121, 2728, 1776, 3609, 653]),\n",
              " (8663, [59, 160, 82, 2, 3, 9, 71, 536, 8, 584]),\n",
              " (8676, [18, 54, 2, 59, 160, 584, 15, 68, 133, 112]),\n",
              " (8682, [44, 25, 52, 4, 14, 6, 1, 266, 2, 3]),\n",
              " (8699, [94, 99, 10, 96, 4, 182, 208, 51, 72, 138]),\n",
              " (8716, [17, 50, 47, 5, 1, 124, 19, 9, 6, 3]),\n",
              " (8718, [242, 430, 31, 41, 39, 55, 76, 3, 119, 764]),\n",
              " (8722, [45, 19, 3, 326, 9, 6, 42, 35, 17, 5]),\n",
              " (8737, [3, 2, 4, 6, 18, 54, 14, 112, 24, 11]),\n",
              " (8745, [1, 38, 4, 6, 2, 14, 3, 44, 33, 19]),\n",
              " (8749, [1, 28, 17, 47, 50, 37, 2, 27, 42, 4]),\n",
              " (8750, [4, 3, 6, 9, 8, 25, 23, 71, 32, 19]),\n",
              " (8759, [31, 39, 58, 2, 3, 76, 45, 20, 22, 33]),\n",
              " (8761, [4, 2, 1, 8, 22, 31, 41, 44, 33, 24]),\n",
              " (8774, [139, 146, 77, 58, 408, 1, 318, 563, 133, 353]),\n",
              " (8779, [3, 1, 4, 2, 8, 30, 14, 68, 36, 90]),\n",
              " (8782, [35, 9, 4, 1, 6, 70, 373, 149, 184, 11]),\n",
              " (8786, [347, 388, 292, 325, 441, 563, 408, 696, 139, 350]),\n",
              " (8796, [8, 15, 131, 26, 112, 88, 45, 2, 30, 3]),\n",
              " (8816, [1897, 313, 376, 242, 467, 430, 32, 2, 573, 96]),\n",
              " (8817, [35, 9, 168, 2, 149, 56, 144, 8, 4, 373]),\n",
              " (8854, [31, 41, 3, 1542, 40, 39, 76, 1011, 1578, 55]),\n",
              " (8859, [2, 4, 22, 50, 3, 8, 20, 5, 37, 30]),\n",
              " (8861, [1, 2, 11, 42, 27, 23, 47, 50, 292, 41]),\n",
              " (8867, [29, 4, 3, 43, 2, 1, 26, 11, 20, 16]),\n",
              " (8873, [41, 55, 58, 3, 76, 2, 4, 5, 1, 56]),\n",
              " (8881, [6, 2, 3, 4, 24, 22, 17, 19, 14, 8]),\n",
              " (8885, [2, 3, 287, 293, 1, 18, 340, 78, 4, 275]),\n",
              " (8888, [19, 60, 14, 103, 48, 73, 74, 134, 3, 15]),\n",
              " (8892, [2, 4, 33, 19, 20, 48, 8, 15, 35, 11]),\n",
              " (8906, [82, 11, 1143, 6, 713, 4, 236, 343, 282, 2]),\n",
              " (8915, [313, 764, 3, 15, 1, 636, 77, 2, 6, 19]),\n",
              " (8919, [2, 3, 112, 15, 54, 18, 32, 36, 8, 20]),\n",
              " (8930, [40, 58, 3, 2, 4, 30, 85, 16, 36, 29]),\n",
              " (8933, [20, 33, 19, 3, 8, 65, 24, 74, 80, 9]),\n",
              " (8935, [41, 467, 55, 15, 4, 764, 20, 5, 119, 8]),\n",
              " (8957, [2, 3, 10, 112, 1, 8, 54, 6, 4, 30]),\n",
              " (8958, [1, 4, 30, 15, 20, 87, 48, 26, 25, 44]),\n",
              " (8966, [117, 2, 3, 107, 18, 87, 51, 154, 29, 9]),\n",
              " (9020, [31, 58, 4, 20, 1, 9, 48, 6, 103, 8]),\n",
              " (9023, [220, 4, 2, 19, 20, 9, 6, 48, 3, 33]),\n",
              " (9051, [15, 433, 2, 90, 88, 87, 30, 6, 14, 68]),\n",
              " (9052, [1, 4, 19, 2, 6, 16, 3, 33, 14, 22]),\n",
              " (9053, [4, 33, 2, 1, 3, 48, 8, 19, 20, 220]),\n",
              " (9054, [8, 1, 14, 2, 20, 6, 25, 3, 44, 16]),\n",
              " (9057, [14, 19, 20, 84, 22, 44, 3, 25, 93, 46]),\n",
              " (9071, [15, 131, 1, 51, 10, 36, 4, 6, 88, 18]),\n",
              " (9085, [1, 19, 4, 20, 3, 95, 2, 26, 36, 6]),\n",
              " (9088, [54, 10, 112, 2, 283, 15, 18, 3, 68, 1]),\n",
              " (9100, [1, 11, 3, 5, 10, 54, 2, 112, 6, 68]),\n",
              " (9105, [4, 8, 2, 44, 1, 14, 16, 95, 48, 80]),\n",
              " (9119, [2, 117, 3, 59, 8, 131, 15, 51, 9, 1]),\n",
              " (9126, [51, 87, 6, 2, 88, 36, 81, 4, 3, 8]),\n",
              " (9148, [129, 430, 3, 119, 2, 29, 198, 109, 13, 21]),\n",
              " (9177, [66, 77, 39, 2, 31, 138, 22, 41, 8, 12]),\n",
              " (9195, [1, 2, 6, 45, 48, 80, 40, 41, 42, 9]),\n",
              " (9197, [4, 85, 76, 262, 9, 20, 53, 14, 35, 44]),\n",
              " (9208, [26, 112, 2, 4, 90, 14, 68, 6, 8, 106]),\n",
              " (9210, [129, 3, 96, 16, 242, 138, 573, 66, 6, 19]),\n",
              " (9214, [2, 1, 6, 112, 14, 3, 54, 8, 68, 90]),\n",
              " (9230, [50, 9, 28, 14, 27, 1, 42, 37, 3, 47]),\n",
              " (9265, [313, 430, 4, 116, 2, 20, 324, 147, 1, 344]),\n",
              " (9278, [8, 1, 74, 77, 22, 48, 66, 14, 3, 103]),\n",
              " (9287, [94, 5338, 6720, 262, 11524, 6179, 6425, 179, 15, 13057]),\n",
              " (9289, [15, 289, 29, 434, 1511, 1040, 40, 130, 2, 10]),\n",
              " (9297, [9, 1, 13, 14, 4, 111, 20, 41, 19, 71]),\n",
              " (9298, [4, 11, 14, 6, 3, 18, 177, 1, 70, 106]),\n",
              " (9305, [34, 262, 3, 299, 4, 15, 1, 129, 1776, 733]),\n",
              " (9306, [39, 2, 76, 20, 1, 6, 5, 19, 8, 65]),\n",
              " (9317, [88, 4, 8, 96, 1, 87, 81, 34, 29, 108]),\n",
              " (9318, [342, 22, 251, 48, 663, 4, 2, 194, 163, 212]),\n",
              " (9335, [40, 3, 4, 261, 41, 55, 171, 48, 22, 58]),\n",
              " (9341, [14, 8, 203, 15, 211, 214, 24, 3, 358, 85]),\n",
              " (9343, [1, 38, 154, 36, 6, 211, 8, 4, 2, 203]),\n",
              " (9345, [8, 1, 2, 6, 19, 22, 48, 33, 9, 75]),\n",
              " (9363, [1, 8, 15, 4, 3, 30, 14, 90, 19, 17]),\n",
              " (9365, [32, 138, 4, 2, 8, 6, 60, 25, 1, 72]),\n",
              " (9383, [7559, 3691, 6049, 8731, 39, 7557, 6871, 8310, 2542, 55]),\n",
              " ...]"
            ]
          },
          "metadata": {},
          "execution_count": 49
        }
      ],
      "source": [
        "submission"
      ]
    },
    {
      "cell_type": "code",
      "execution_count": 50,
      "metadata": {
        "id": "AuuEFD83-OVp"
      },
      "outputs": [],
      "source": [
        "def write_submission(submissions):\n",
        "    with open(\"./submission.csv\", \"w\") as f:\n",
        "        f.write(\"user_id,item_list\\n\")\n",
        "        for user_id, items in submissions:\n",
        "            f.write(f\"{user_id},{' '.join([str(item) for item in items])}\\n\")\n"
      ]
    },
    {
      "cell_type": "code",
      "execution_count": 51,
      "metadata": {
        "id": "tQdu0QIw-VSU",
        "colab": {
          "base_uri": "https://localhost:8080/"
        },
        "outputId": "07d15623-0c29-4f42-d1b0-53808399e6e8"
      },
      "outputs": [
        {
          "output_type": "stream",
          "name": "stdout",
          "text": [
            "/gdrive/MyDrive/RECSYS\n"
          ]
        }
      ],
      "source": [
        "%cd /gdrive/MyDrive/RECSYS\n",
        "write_submission(submission)"
      ]
    },
    {
      "cell_type": "code",
      "execution_count": null,
      "metadata": {
        "id": "Zo6KGGEnLS1P"
      },
      "outputs": [],
      "source": []
    }
  ],
  "metadata": {
    "colab": {
      "provenance": [],
      "collapsed_sections": [
        "cSLGYEz0xKvB",
        "GnP3Qb-nzW3F",
        "1IB-Aujzz9OV",
        "GqvLoWjYOUXJ",
        "kf7c8Jck8MD7"
      ]
    },
    "kernelspec": {
      "display_name": "Python 3",
      "name": "python3"
    },
    "language_info": {
      "name": "python"
    }
  },
  "nbformat": 4,
  "nbformat_minor": 0
}