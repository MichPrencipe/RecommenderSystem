{
  "cells": [
    {
      "cell_type": "markdown",
      "metadata": {
        "id": "cSLGYEz0xKvB"
      },
      "source": [
        "#Connect to drive"
      ]
    },
    {
      "cell_type": "code",
      "source": [
        "!git clone https://github.com/MaurizioFD/RecSys_Course_AT_PoliMi\n",
        "%cd RecSys_Course_AT_PoliMi\n",
        "!pip install -r requirements.txt\n",
        "!python run_compile_all_cython.py"
      ],
      "metadata": {
        "colab": {
          "base_uri": "https://localhost:8080/"
        },
        "id": "_8qb-w0XLoKs",
        "outputId": "37429051-4166-4aba-836a-1364bbe44837"
      },
      "execution_count": 1,
      "outputs": [
        {
          "output_type": "stream",
          "name": "stdout",
          "text": [
            "Cloning into 'RecSys_Course_AT_PoliMi'...\n",
            "remote: Enumerating objects: 1493, done.\u001b[K\n",
            "remote: Counting objects: 100% (238/238), done.\u001b[K\n",
            "remote: Compressing objects: 100% (139/139), done.\u001b[K\n",
            "remote: Total 1493 (delta 110), reused 225 (delta 97), pack-reused 1255\u001b[K\n",
            "Receiving objects: 100% (1493/1493), 50.31 MiB | 25.30 MiB/s, done.\n",
            "Resolving deltas: 100% (841/841), done.\n",
            "/content/RecSys_Course_AT_PoliMi\n",
            "Collecting Cython==0.29.23 (from -r requirements.txt (line 1))\n",
            "  Downloading Cython-0.29.23-py2.py3-none-any.whl (978 kB)\n",
            "\u001b[2K     \u001b[90m━━━━━━━━━━━━━━━━━━━━━━━━━━━━━━━━━━━━━━━━\u001b[0m \u001b[32m978.0/978.0 kB\u001b[0m \u001b[31m3.6 MB/s\u001b[0m eta \u001b[36m0:00:00\u001b[0m\n",
            "\u001b[?25hCollecting h5py==3.1.0 (from -r requirements.txt (line 2))\n",
            "  Downloading h5py-3.1.0.tar.gz (371 kB)\n",
            "\u001b[2K     \u001b[90m━━━━━━━━━━━━━━━━━━━━━━━━━━━━━━━━━━━━━━━━\u001b[0m \u001b[32m371.4/371.4 kB\u001b[0m \u001b[31m29.9 MB/s\u001b[0m eta \u001b[36m0:00:00\u001b[0m\n",
            "\u001b[?25h  Installing build dependencies ... \u001b[?25l\u001b[?25hdone\n",
            "  Getting requirements to build wheel ... \u001b[?25l\u001b[?25hdone\n",
            "  \u001b[1;31merror\u001b[0m: \u001b[1msubprocess-exited-with-error\u001b[0m\n",
            "  \n",
            "  \u001b[31m×\u001b[0m \u001b[32mpip subprocess to install backend dependencies\u001b[0m did not run successfully.\n",
            "  \u001b[31m│\u001b[0m exit code: \u001b[1;36m1\u001b[0m\n",
            "  \u001b[31m╰─>\u001b[0m See above for output.\n",
            "  \n",
            "  \u001b[1;35mnote\u001b[0m: This error originates from a subprocess, and is likely not a problem with pip.\n",
            "  Installing backend dependencies ... \u001b[?25l\u001b[?25herror\n",
            "\u001b[1;31merror\u001b[0m: \u001b[1msubprocess-exited-with-error\u001b[0m\n",
            "\n",
            "\u001b[31m×\u001b[0m \u001b[32mpip subprocess to install backend dependencies\u001b[0m did not run successfully.\n",
            "\u001b[31m│\u001b[0m exit code: \u001b[1;36m1\u001b[0m\n",
            "\u001b[31m╰─>\u001b[0m See above for output.\n",
            "\n",
            "\u001b[1;35mnote\u001b[0m: This error originates from a subprocess, and is likely not a problem with pip.\n",
            "run_compile_all_cython: Found 10 Cython files in 4 folders...\n",
            "run_compile_all_cython: All files will be compiled using your current python environment: '/usr/bin/python3'\n",
            "Compiling [1/10]: MatrixFactorizationImpressions_Cython_Epoch.pyx... \n",
            "In file included from \u001b[01m\u001b[K/usr/local/lib/python3.10/dist-packages/numpy/core/include/numpy/ndarraytypes.h:1948\u001b[m\u001b[K,\n",
            "                 from \u001b[01m\u001b[K/usr/local/lib/python3.10/dist-packages/numpy/core/include/numpy/ndarrayobject.h:12\u001b[m\u001b[K,\n",
            "                 from \u001b[01m\u001b[K/usr/local/lib/python3.10/dist-packages/numpy/core/include/numpy/arrayobject.h:5\u001b[m\u001b[K,\n",
            "                 from \u001b[01m\u001b[KMatrixFactorizationImpressions_Cython_Epoch.c:1217\u001b[m\u001b[K:\n",
            "\u001b[01m\u001b[K/usr/local/lib/python3.10/dist-packages/numpy/core/include/numpy/npy_1_7_deprecated_api.h:17:2:\u001b[m\u001b[K \u001b[01;35m\u001b[Kwarning: \u001b[m\u001b[K#warning \"Using deprecated NumPy API, disable it with \" \"#define NPY_NO_DEPRECATED_API NPY_1_7_API_VERSION\" [\u001b[01;35m\u001b[K\u001b]8;;https://gcc.gnu.org/onlinedocs/gcc/Warning-Options.html#index-Wcpp\u0007-Wcpp\u001b]8;;\u0007\u001b[m\u001b[K]\n",
            "   17 | #\u001b[01;35m\u001b[Kwarning\u001b[m\u001b[K \"Using deprecated NumPy API, disable it with \" \\\n",
            "      |  \u001b[01;35m\u001b[K^~~~~~~\u001b[m\u001b[K\n",
            "\u001b[01m\u001b[KMatrixFactorizationImpressions_Cython_Epoch.c:\u001b[m\u001b[K In function ‘\u001b[01m\u001b[K__pyx_f_43MatrixFactorizationImpressions_Cython_Epoch_32MatrixFactorization_Cython_Epoch_sampleBPR_Cython\u001b[m\u001b[K’:\n",
            "\u001b[01m\u001b[KMatrixFactorizationImpressions_Cython_Epoch.c:30373:17:\u001b[m\u001b[K \u001b[01;35m\u001b[Kwarning: \u001b[m\u001b[K‘\u001b[01m\u001b[K__pyx_v_start_pos_impression_items\u001b[m\u001b[K’ may be used uninitialized in this function [\u001b[01;35m\u001b[K\u001b]8;;https://gcc.gnu.org/onlinedocs/gcc/Warning-Options.html#index-Wmaybe-uninitialized\u0007-Wmaybe-uninitialized\u001b]8;;\u0007\u001b[m\u001b[K]\n",
            "30373 |       \u001b[01;35m\u001b[K__pyx_t_4 = (__pyx_v_start_pos_impression_items + __pyx_v_index)\u001b[m\u001b[K;\n",
            "      |       \u001b[01;35m\u001b[K~~~~~~~~~~^~~~~~~~~~~~~~~~~~~~~~~~~~~~~~~~~~~~~~~~~~~~~~~~~~~~~~\u001b[m\u001b[K\n",
            "\u001b[01m\u001b[KMatrixFactorizationImpressions_Cython_Epoch.c:\u001b[m\u001b[K In function ‘\u001b[01m\u001b[K__pyx_pf_43MatrixFactorizationImpressions_Cython_Epoch_32MatrixFactorization_Cython_Epoch_10epochIteration_Cython_ASY_SVD_SGD\u001b[m\u001b[K’:\n",
            "\u001b[01m\u001b[KMatrixFactorizationImpressions_Cython_Epoch.c:26107:66:\u001b[m\u001b[K \u001b[01;35m\u001b[Kwarning: \u001b[m\u001b[K‘\u001b[01m\u001b[K__pyx_v_end_pos_seen_items\u001b[m\u001b[K’ may be used uninitialized in this function [\u001b[01;35m\u001b[K\u001b]8;;https://gcc.gnu.org/onlinedocs/gcc/Warning-Options.html#index-Wmaybe-uninitialized\u0007-Wmaybe-uninitialized\u001b]8;;\u0007\u001b[m\u001b[K]\n",
            "26107 |       for (__pyx_t_21 = __pyx_v_start_pos_seen_items; \u001b[01;35m\u001b[K__pyx_t_21 < __pyx_t_20\u001b[m\u001b[K; __pyx_t_21+=1) {\n",
            "      |                                                       \u001b[01;35m\u001b[K~~~~~~~~~~~^~~~~~~~~~~~\u001b[m\u001b[K\n",
            "\u001b[01m\u001b[KMatrixFactorizationImpressions_Cython_Epoch.c:26107:66:\u001b[m\u001b[K \u001b[01;35m\u001b[Kwarning: \u001b[m\u001b[K‘\u001b[01m\u001b[K__pyx_v_start_pos_seen_items\u001b[m\u001b[K’ may be used uninitialized in this function [\u001b[01;35m\u001b[K\u001b]8;;https://gcc.gnu.org/onlinedocs/gcc/Warning-Options.html#index-Wmaybe-uninitialized\u0007-Wmaybe-uninitialized\u001b]8;;\u0007\u001b[m\u001b[K]\n",
            "/usr/local/lib/python3.10/dist-packages/Cython/Compiler/Main.py:381: FutureWarning: Cython directive 'language_level' not set, using '3str' for now (Py3). This has changed from earlier releases! File: /content/RecSys_Course_AT_PoliMi/Recommenders/MatrixFactorization/Cython/MatrixFactorizationImpressions_Cython_Epoch.pyx\n",
            "  tree = Parsing.p_module(s, pxd, full_module_name)\n",
            "Compiling [1/10]: MatrixFactorizationImpressions_Cython_Epoch.pyx... PASS\n",
            "\n",
            "Compiling [2/10]: MatrixFactorization_Cython_Epoch.pyx... \n",
            "In file included from \u001b[01m\u001b[K/usr/local/lib/python3.10/dist-packages/numpy/core/include/numpy/ndarraytypes.h:1948\u001b[m\u001b[K,\n",
            "                 from \u001b[01m\u001b[K/usr/local/lib/python3.10/dist-packages/numpy/core/include/numpy/ndarrayobject.h:12\u001b[m\u001b[K,\n",
            "                 from \u001b[01m\u001b[K/usr/local/lib/python3.10/dist-packages/numpy/core/include/numpy/arrayobject.h:5\u001b[m\u001b[K,\n",
            "                 from \u001b[01m\u001b[KMatrixFactorization_Cython_Epoch.c:1217\u001b[m\u001b[K:\n",
            "\u001b[01m\u001b[K/usr/local/lib/python3.10/dist-packages/numpy/core/include/numpy/npy_1_7_deprecated_api.h:17:2:\u001b[m\u001b[K \u001b[01;35m\u001b[Kwarning: \u001b[m\u001b[K#warning \"Using deprecated NumPy API, disable it with \" \"#define NPY_NO_DEPRECATED_API NPY_1_7_API_VERSION\" [\u001b[01;35m\u001b[K\u001b]8;;https://gcc.gnu.org/onlinedocs/gcc/Warning-Options.html#index-Wcpp\u0007-Wcpp\u001b]8;;\u0007\u001b[m\u001b[K]\n",
            "   17 | #\u001b[01;35m\u001b[Kwarning\u001b[m\u001b[K \"Using deprecated NumPy API, disable it with \" \\\n",
            "      |  \u001b[01;35m\u001b[K^~~~~~~\u001b[m\u001b[K\n",
            "\u001b[01m\u001b[KMatrixFactorization_Cython_Epoch.c:\u001b[m\u001b[K In function ‘\u001b[01m\u001b[K__pyx_pf_32MatrixFactorization_Cython_Epoch_32MatrixFactorization_Cython_Epoch_10epochIteration_Cython_ASY_SVD_SGD\u001b[m\u001b[K’:\n",
            "\u001b[01m\u001b[KMatrixFactorization_Cython_Epoch.c:26251:68:\u001b[m\u001b[K \u001b[01;35m\u001b[Kwarning: \u001b[m\u001b[K‘\u001b[01m\u001b[K__pyx_v_end_pos_seen_items\u001b[m\u001b[K’ may be used uninitialized in this function [\u001b[01;35m\u001b[K\u001b]8;;https://gcc.gnu.org/onlinedocs/gcc/Warning-Options.html#index-Wmaybe-uninitialized\u0007-Wmaybe-uninitialized\u001b]8;;\u0007\u001b[m\u001b[K]\n",
            "26251 |         for (__pyx_t_21 = __pyx_v_start_pos_seen_items; \u001b[01;35m\u001b[K__pyx_t_21 < __pyx_t_20\u001b[m\u001b[K; __pyx_t_21+=1) {\n",
            "      |                                                         \u001b[01;35m\u001b[K~~~~~~~~~~~^~~~~~~~~~~~\u001b[m\u001b[K\n",
            "\u001b[01m\u001b[KMatrixFactorization_Cython_Epoch.c:26251:68:\u001b[m\u001b[K \u001b[01;35m\u001b[Kwarning: \u001b[m\u001b[K‘\u001b[01m\u001b[K__pyx_v_start_pos_seen_items\u001b[m\u001b[K’ may be used uninitialized in this function [\u001b[01;35m\u001b[K\u001b]8;;https://gcc.gnu.org/onlinedocs/gcc/Warning-Options.html#index-Wmaybe-uninitialized\u0007-Wmaybe-uninitialized\u001b]8;;\u0007\u001b[m\u001b[K]\n",
            "/usr/local/lib/python3.10/dist-packages/Cython/Compiler/Main.py:381: FutureWarning: Cython directive 'language_level' not set, using '3str' for now (Py3). This has changed from earlier releases! File: /content/RecSys_Course_AT_PoliMi/Recommenders/MatrixFactorization/Cython/MatrixFactorization_Cython_Epoch.pyx\n",
            "  tree = Parsing.p_module(s, pxd, full_module_name)\n",
            "Compiling [2/10]: MatrixFactorization_Cython_Epoch.pyx... PASS\n",
            "\n",
            "Compiling [3/10]: Compute_Similarity_Cython.pyx... \n",
            "warning: Compute_Similarity_Cython.pyx:21:0: The 'IF' statement is deprecated and will be removed in a future Cython version. Consider using runtime conditions or C macros instead. See https://github.com/cython/cython/issues/4310\n",
            "In file included from \u001b[01m\u001b[K/usr/local/lib/python3.10/dist-packages/numpy/core/include/numpy/ndarraytypes.h:1948\u001b[m\u001b[K,\n",
            "                 from \u001b[01m\u001b[K/usr/local/lib/python3.10/dist-packages/numpy/core/include/numpy/ndarrayobject.h:12\u001b[m\u001b[K,\n",
            "                 from \u001b[01m\u001b[K/usr/local/lib/python3.10/dist-packages/numpy/core/include/numpy/arrayobject.h:5\u001b[m\u001b[K,\n",
            "                 from \u001b[01m\u001b[KCompute_Similarity_Cython.c:1217\u001b[m\u001b[K:\n",
            "\u001b[01m\u001b[K/usr/local/lib/python3.10/dist-packages/numpy/core/include/numpy/npy_1_7_deprecated_api.h:17:2:\u001b[m\u001b[K \u001b[01;35m\u001b[Kwarning: \u001b[m\u001b[K#warning \"Using deprecated NumPy API, disable it with \" \"#define NPY_NO_DEPRECATED_API NPY_1_7_API_VERSION\" [\u001b[01;35m\u001b[K\u001b]8;;https://gcc.gnu.org/onlinedocs/gcc/Warning-Options.html#index-Wcpp\u0007-Wcpp\u001b]8;;\u0007\u001b[m\u001b[K]\n",
            "   17 | #\u001b[01;35m\u001b[Kwarning\u001b[m\u001b[K \"Using deprecated NumPy API, disable it with \" \\\n",
            "      |  \u001b[01;35m\u001b[K^~~~~~~\u001b[m\u001b[K\n",
            "/usr/local/lib/python3.10/dist-packages/Cython/Compiler/Main.py:381: FutureWarning: Cython directive 'language_level' not set, using '3str' for now (Py3). This has changed from earlier releases! File: /content/RecSys_Course_AT_PoliMi/Recommenders/Similarity/Cython/Compute_Similarity_Cython.pyx\n",
            "  tree = Parsing.p_module(s, pxd, full_module_name)\n",
            "warning: Compute_Similarity_Cython.pyx:21:0: The 'IF' statement is deprecated and will be removed in a future Cython version. Consider using runtime conditions or C macros instead. See https://github.com/cython/cython/issues/4310\n",
            "Compiling [3/10]: Compute_Similarity_Cython.pyx... PASS\n",
            "\n",
            "Compiling [4/10]: SLIM_BPR_Cython_Epoch.pyx... \n",
            "warning: SLIM_BPR_Cython_Epoch.pyx:24:0: The 'IF' statement is deprecated and will be removed in a future Cython version. Consider using runtime conditions or C macros instead. See https://github.com/cython/cython/issues/4310\n",
            "warning: SLIM_BPR_Cython_Epoch.pyx:632:34: Non-trivial type declarators in shared declaration (e.g. mix of pointers and values). Each pointer declaration should be on its own line.\n",
            "warning: SLIM_BPR_Cython_Epoch.pyx:632:66: Non-trivial type declarators in shared declaration (e.g. mix of pointers and values). Each pointer declaration should be on its own line.\n",
            "warning: SLIM_BPR_Cython_Epoch.pyx:817:35: Non-trivial type declarators in shared declaration (e.g. mix of pointers and values). Each pointer declaration should be on its own line.\n",
            "warning: SLIM_BPR_Cython_Epoch.pyx:817:52: Non-trivial type declarators in shared declaration (e.g. mix of pointers and values). Each pointer declaration should be on its own line.\n",
            "warning: SLIM_BPR_Cython_Epoch.pyx:916:35: Non-trivial type declarators in shared declaration (e.g. mix of pointers and values). Each pointer declaration should be on its own line.\n",
            "warning: SLIM_BPR_Cython_Epoch.pyx:916:53: Non-trivial type declarators in shared declaration (e.g. mix of pointers and values). Each pointer declaration should be on its own line.\n",
            "warning: SLIM_BPR_Cython_Epoch.pyx:916:69: Non-trivial type declarators in shared declaration (e.g. mix of pointers and values). Each pointer declaration should be on its own line.\n",
            "warning: SLIM_BPR_Cython_Epoch.pyx:1051:35: Non-trivial type declarators in shared declaration (e.g. mix of pointers and values). Each pointer declaration should be on its own line.\n",
            "warning: SLIM_BPR_Cython_Epoch.pyx:1051:42: Non-trivial type declarators in shared declaration (e.g. mix of pointers and values). Each pointer declaration should be on its own line.\n",
            "warning: SLIM_BPR_Cython_Epoch.pyx:1052:35: Non-trivial type declarators in shared declaration (e.g. mix of pointers and values). Each pointer declaration should be on its own line.\n",
            "warning: SLIM_BPR_Cython_Epoch.pyx:1052:53: Non-trivial type declarators in shared declaration (e.g. mix of pointers and values). Each pointer declaration should be on its own line.\n",
            "\n",
            "Error compiling Cython file:\n",
            "------------------------------------------------------------\n",
            "...\n",
            "            vector_pointer_to_list_elements[index].head = current_element\n",
            "            current_element = current_element.higher\n",
            "\n",
            "\n",
            "        # Sort array elements on their data field\n",
            "        qsort(vector_pointer_to_list_elements, list_length, sizeof(head_pointer_tree_s), compare_struct_on_data)\n",
            "                                                                                         ^\n",
            "------------------------------------------------------------\n",
            "\n",
            "SLIM_BPR_Cython_Epoch.pyx:990:89: Cannot assign type 'int (const void *, const void *) except? -1' to 'int (*)(const_void *, const_void *) noexcept'. Exception values are incompatible. Suggest adding 'noexcept' to type 'int (const void *, const void *) except? -1'.\n",
            "\n",
            "Error compiling Cython file:\n",
            "------------------------------------------------------------\n",
            "...\n",
            "        # Sort array elements on their data field\n",
            "        qsort(vector_pointer_to_list_elements, list_length, sizeof(head_pointer_tree_s), compare_struct_on_data)\n",
            "\n",
            "        # Sort only the TopK according to their column field\n",
            "        # Sort is from lower to higher, therefore the elements to be considered are from len-topK to len\n",
            "        qsort(&vector_pointer_to_list_elements[list_length-TopK], TopK, sizeof(head_pointer_tree_s), compare_struct_on_column)\n",
            "                                                                                                     ^\n",
            "------------------------------------------------------------\n",
            "\n",
            "SLIM_BPR_Cython_Epoch.pyx:994:101: Cannot assign type 'int (const void *, const void *) except? -1' to 'int (*)(const_void *, const_void *) noexcept'. Exception values are incompatible. Suggest adding 'noexcept' to type 'int (const void *, const void *) except? -1'.\n",
            "Traceback (most recent call last):\n",
            "  File \"/content/RecSys_Course_AT_PoliMi/CythonCompiler/compile_script.py\", line 48, in <module>\n",
            "    setup(\n",
            "  File \"/usr/local/lib/python3.10/dist-packages/setuptools/__init__.py\", line 107, in setup\n",
            "    return distutils.core.setup(**attrs)\n",
            "  File \"/usr/local/lib/python3.10/dist-packages/setuptools/_distutils/core.py\", line 185, in setup\n",
            "    return run_commands(dist)\n",
            "  File \"/usr/local/lib/python3.10/dist-packages/setuptools/_distutils/core.py\", line 201, in run_commands\n",
            "    dist.run_commands()\n",
            "  File \"/usr/local/lib/python3.10/dist-packages/setuptools/_distutils/dist.py\", line 969, in run_commands\n",
            "    self.run_command(cmd)\n",
            "  File \"/usr/local/lib/python3.10/dist-packages/setuptools/dist.py\", line 1244, in run_command\n",
            "    super().run_command(command)\n",
            "  File \"/usr/local/lib/python3.10/dist-packages/setuptools/_distutils/dist.py\", line 988, in run_command\n",
            "    cmd_obj.run()\n",
            "  File \"/usr/local/lib/python3.10/dist-packages/setuptools/_distutils/command/build_ext.py\", line 345, in run\n",
            "    self.build_extensions()\n",
            "  File \"/usr/local/lib/python3.10/dist-packages/setuptools/_distutils/command/build_ext.py\", line 467, in build_extensions\n",
            "    self._build_extensions_serial()\n",
            "  File \"/usr/local/lib/python3.10/dist-packages/setuptools/_distutils/command/build_ext.py\", line 493, in _build_extensions_serial\n",
            "    self.build_extension(ext)\n",
            "  File \"/usr/local/lib/python3.10/dist-packages/Cython/Distutils/build_ext.py\", line 130, in build_extension\n",
            "    new_ext = cythonize(\n",
            "  File \"/usr/local/lib/python3.10/dist-packages/Cython/Build/Dependencies.py\", line 1154, in cythonize\n",
            "    cythonize_one(*args)\n",
            "  File \"/usr/local/lib/python3.10/dist-packages/Cython/Build/Dependencies.py\", line 1321, in cythonize_one\n",
            "    raise CompileError(None, pyx_file)\n",
            "Cython.Compiler.Errors.CompileError: SLIM_BPR_Cython_Epoch.pyx\n",
            "Traceback (most recent call last):\n",
            "  File \"/content/RecSys_Course_AT_PoliMi/run_compile_all_cython.py\", line 59, in <module>\n",
            "    run_compile_subprocess(file_path, [file_name])\n",
            "  File \"/content/RecSys_Course_AT_PoliMi/CythonCompiler/run_compile_subprocess.py\", line 51, in run_compile_subprocess\n",
            "    raise exc\n",
            "  File \"/content/RecSys_Course_AT_PoliMi/CythonCompiler/run_compile_subprocess.py\", line 32, in run_compile_subprocess\n",
            "    output = subprocess.check_output(' '.join(command),\n",
            "  File \"/usr/lib/python3.10/subprocess.py\", line 421, in check_output\n",
            "    return run(*popenargs, stdout=PIPE, timeout=timeout, check=True,\n",
            "  File \"/usr/lib/python3.10/subprocess.py\", line 526, in run\n",
            "    raise CalledProcessError(retcode, process.args,\n",
            "subprocess.CalledProcessError: Command '/usr/bin/python3 /content/RecSys_Course_AT_PoliMi/CythonCompiler/compile_script.py SLIM_BPR_Cython_Epoch.pyx build_ext --inplace' returned non-zero exit status 1.\n",
            "Compiling [4/10]: SLIM_BPR_Cython_Epoch.pyx... FAIL: Command '/usr/bin/python3 /content/RecSys_Course_AT_PoliMi/CythonCompiler/compile_script.py SLIM_BPR_Cython_Epoch.pyx build_ext --inplace' returned non-zero exit status 1.\n",
            "\n",
            "Compiling [5/10]: Sparse_Matrix_Tree_CSR.pyx... \n",
            "warning: Sparse_Matrix_Tree_CSR.pyx:132:34: Non-trivial type declarators in shared declaration (e.g. mix of pointers and values). Each pointer declaration should be on its own line.\n",
            "warning: Sparse_Matrix_Tree_CSR.pyx:132:66: Non-trivial type declarators in shared declaration (e.g. mix of pointers and values). Each pointer declaration should be on its own line.\n",
            "warning: Sparse_Matrix_Tree_CSR.pyx:343:35: Non-trivial type declarators in shared declaration (e.g. mix of pointers and values). Each pointer declaration should be on its own line.\n",
            "warning: Sparse_Matrix_Tree_CSR.pyx:343:52: Non-trivial type declarators in shared declaration (e.g. mix of pointers and values). Each pointer declaration should be on its own line.\n",
            "warning: Sparse_Matrix_Tree_CSR.pyx:442:35: Non-trivial type declarators in shared declaration (e.g. mix of pointers and values). Each pointer declaration should be on its own line.\n",
            "warning: Sparse_Matrix_Tree_CSR.pyx:442:53: Non-trivial type declarators in shared declaration (e.g. mix of pointers and values). Each pointer declaration should be on its own line.\n",
            "warning: Sparse_Matrix_Tree_CSR.pyx:442:69: Non-trivial type declarators in shared declaration (e.g. mix of pointers and values). Each pointer declaration should be on its own line.\n",
            "warning: Sparse_Matrix_Tree_CSR.pyx:577:35: Non-trivial type declarators in shared declaration (e.g. mix of pointers and values). Each pointer declaration should be on its own line.\n",
            "warning: Sparse_Matrix_Tree_CSR.pyx:577:42: Non-trivial type declarators in shared declaration (e.g. mix of pointers and values). Each pointer declaration should be on its own line.\n",
            "warning: Sparse_Matrix_Tree_CSR.pyx:578:35: Non-trivial type declarators in shared declaration (e.g. mix of pointers and values). Each pointer declaration should be on its own line.\n",
            "warning: Sparse_Matrix_Tree_CSR.pyx:578:53: Non-trivial type declarators in shared declaration (e.g. mix of pointers and values). Each pointer declaration should be on its own line.\n",
            "\n",
            "Error compiling Cython file:\n",
            "------------------------------------------------------------\n",
            "...\n",
            "            vector_pointer_to_list_elements[index].head = current_element\n",
            "            current_element = current_element.higher\n",
            "\n",
            "\n",
            "        # Sort array elements on their data field\n",
            "        qsort(vector_pointer_to_list_elements, list_length, sizeof(head_pointer_tree_s), compare_struct_on_data)\n",
            "                                                                                         ^\n",
            "------------------------------------------------------------\n",
            "\n",
            "Sparse_Matrix_Tree_CSR.pyx:516:89: Cannot assign type 'int (const void *, const void *) except? -1' to 'int (*)(const_void *, const_void *) noexcept'. Exception values are incompatible. Suggest adding 'noexcept' to type 'int (const void *, const void *) except? -1'.\n",
            "\n",
            "Error compiling Cython file:\n",
            "------------------------------------------------------------\n",
            "...\n",
            "        # Sort array elements on their data field\n",
            "        qsort(vector_pointer_to_list_elements, list_length, sizeof(head_pointer_tree_s), compare_struct_on_data)\n",
            "\n",
            "        # Sort only the TopK according to their column field\n",
            "        # Sort is from lower to higher, therefore the elements to be considered are from len-topK to len\n",
            "        qsort(&vector_pointer_to_list_elements[list_length-TopK], TopK, sizeof(head_pointer_tree_s), compare_struct_on_column)\n",
            "                                                                                                     ^\n",
            "------------------------------------------------------------\n",
            "\n",
            "Sparse_Matrix_Tree_CSR.pyx:520:101: Cannot assign type 'int (const void *, const void *) except? -1' to 'int (*)(const_void *, const_void *) noexcept'. Exception values are incompatible. Suggest adding 'noexcept' to type 'int (const void *, const void *) except? -1'.\n",
            "Traceback (most recent call last):\n",
            "  File \"/content/RecSys_Course_AT_PoliMi/CythonCompiler/compile_script.py\", line 48, in <module>\n",
            "    setup(\n",
            "  File \"/usr/local/lib/python3.10/dist-packages/setuptools/__init__.py\", line 107, in setup\n",
            "    return distutils.core.setup(**attrs)\n",
            "  File \"/usr/local/lib/python3.10/dist-packages/setuptools/_distutils/core.py\", line 185, in setup\n",
            "    return run_commands(dist)\n",
            "  File \"/usr/local/lib/python3.10/dist-packages/setuptools/_distutils/core.py\", line 201, in run_commands\n",
            "    dist.run_commands()\n",
            "  File \"/usr/local/lib/python3.10/dist-packages/setuptools/_distutils/dist.py\", line 969, in run_commands\n",
            "    self.run_command(cmd)\n",
            "  File \"/usr/local/lib/python3.10/dist-packages/setuptools/dist.py\", line 1244, in run_command\n",
            "    super().run_command(command)\n",
            "  File \"/usr/local/lib/python3.10/dist-packages/setuptools/_distutils/dist.py\", line 988, in run_command\n",
            "    cmd_obj.run()\n",
            "  File \"/usr/local/lib/python3.10/dist-packages/setuptools/_distutils/command/build_ext.py\", line 345, in run\n",
            "    self.build_extensions()\n",
            "  File \"/usr/local/lib/python3.10/dist-packages/setuptools/_distutils/command/build_ext.py\", line 467, in build_extensions\n",
            "    self._build_extensions_serial()\n",
            "  File \"/usr/local/lib/python3.10/dist-packages/setuptools/_distutils/command/build_ext.py\", line 493, in _build_extensions_serial\n",
            "    self.build_extension(ext)\n",
            "  File \"/usr/local/lib/python3.10/dist-packages/Cython/Distutils/build_ext.py\", line 130, in build_extension\n",
            "    new_ext = cythonize(\n",
            "  File \"/usr/local/lib/python3.10/dist-packages/Cython/Build/Dependencies.py\", line 1154, in cythonize\n",
            "    cythonize_one(*args)\n",
            "  File \"/usr/local/lib/python3.10/dist-packages/Cython/Build/Dependencies.py\", line 1321, in cythonize_one\n",
            "    raise CompileError(None, pyx_file)\n",
            "Cython.Compiler.Errors.CompileError: Sparse_Matrix_Tree_CSR.pyx\n",
            "Traceback (most recent call last):\n",
            "  File \"/content/RecSys_Course_AT_PoliMi/run_compile_all_cython.py\", line 59, in <module>\n",
            "    run_compile_subprocess(file_path, [file_name])\n",
            "  File \"/content/RecSys_Course_AT_PoliMi/CythonCompiler/run_compile_subprocess.py\", line 51, in run_compile_subprocess\n",
            "    raise exc\n",
            "  File \"/content/RecSys_Course_AT_PoliMi/CythonCompiler/run_compile_subprocess.py\", line 32, in run_compile_subprocess\n",
            "    output = subprocess.check_output(' '.join(command),\n",
            "  File \"/usr/lib/python3.10/subprocess.py\", line 421, in check_output\n",
            "    return run(*popenargs, stdout=PIPE, timeout=timeout, check=True,\n",
            "  File \"/usr/lib/python3.10/subprocess.py\", line 526, in run\n",
            "    raise CalledProcessError(retcode, process.args,\n",
            "subprocess.CalledProcessError: Command '/usr/bin/python3 /content/RecSys_Course_AT_PoliMi/CythonCompiler/compile_script.py Sparse_Matrix_Tree_CSR.pyx build_ext --inplace' returned non-zero exit status 1.\n",
            "Compiling [5/10]: Sparse_Matrix_Tree_CSR.pyx... FAIL: Command '/usr/bin/python3 /content/RecSys_Course_AT_PoliMi/CythonCompiler/compile_script.py Sparse_Matrix_Tree_CSR.pyx build_ext --inplace' returned non-zero exit status 1.\n",
            "\n",
            "Compiling [6/10]: Triangular_Matrix.pyx... \n",
            "warning: Triangular_Matrix.pyx:22:0: The 'IF' statement is deprecated and will be removed in a future Cython version. Consider using runtime conditions or C macros instead. See https://github.com/cython/cython/issues/4310\n",
            "In file included from \u001b[01m\u001b[K/usr/local/lib/python3.10/dist-packages/numpy/core/include/numpy/ndarraytypes.h:1948\u001b[m\u001b[K,\n",
            "                 from \u001b[01m\u001b[K/usr/local/lib/python3.10/dist-packages/numpy/core/include/numpy/ndarrayobject.h:12\u001b[m\u001b[K,\n",
            "                 from \u001b[01m\u001b[K/usr/local/lib/python3.10/dist-packages/numpy/core/include/numpy/arrayobject.h:5\u001b[m\u001b[K,\n",
            "                 from \u001b[01m\u001b[KTriangular_Matrix.c:1217\u001b[m\u001b[K:\n",
            "\u001b[01m\u001b[K/usr/local/lib/python3.10/dist-packages/numpy/core/include/numpy/npy_1_7_deprecated_api.h:17:2:\u001b[m\u001b[K \u001b[01;35m\u001b[Kwarning: \u001b[m\u001b[K#warning \"Using deprecated NumPy API, disable it with \" \"#define NPY_NO_DEPRECATED_API NPY_1_7_API_VERSION\" [\u001b[01;35m\u001b[K\u001b]8;;https://gcc.gnu.org/onlinedocs/gcc/Warning-Options.html#index-Wcpp\u0007-Wcpp\u001b]8;;\u0007\u001b[m\u001b[K]\n",
            "   17 | #\u001b[01;35m\u001b[Kwarning\u001b[m\u001b[K \"Using deprecated NumPy API, disable it with \" \\\n",
            "      |  \u001b[01;35m\u001b[K^~~~~~~\u001b[m\u001b[K\n",
            "In function ‘\u001b[01m\u001b[K__pyx_pf_17Triangular_Matrix_17Triangular_Matrix___init__\u001b[m\u001b[K’,\n",
            "    inlined from ‘\u001b[01m\u001b[K__pyx_pw_17Triangular_Matrix_17Triangular_Matrix_1__init__\u001b[m\u001b[K’ at \u001b[01m\u001b[KTriangular_Matrix.c:5532:13\u001b[m\u001b[K:\n",
            "\u001b[01m\u001b[KTriangular_Matrix.c:5590:43:\u001b[m\u001b[K \u001b[01;35m\u001b[Kwarning: \u001b[m\u001b[Kargument 1 value ‘\u001b[01m\u001b[K18446744073709551608\u001b[m\u001b[K’ exceeds maximum object size 9223372036854775807 [\u001b[01;35m\u001b[K\u001b]8;;https://gcc.gnu.org/onlinedocs/gcc/Warning-Options.html#index-Walloc-size-larger-than=\u0007-Walloc-size-larger-than=\u001b]8;;\u0007\u001b[m\u001b[K]\n",
            " 5590 |   __pyx_v_self->row_pointer = ((double **)\u001b[01;35m\u001b[Kmalloc((__pyx_v_self->num_rows * (sizeof(double *))))\u001b[m\u001b[K);\n",
            "      |                                           \u001b[01;35m\u001b[K^~~~~~~~~~~~~~~~~~~~~~~~~~~~~~~~~~~~~~~~~~~~~~~~~~~~~\u001b[m\u001b[K\n",
            "In file included from \u001b[01m\u001b[K/usr/include/python3.10/Python.h:34\u001b[m\u001b[K,\n",
            "                 from \u001b[01m\u001b[KTriangular_Matrix.c:41\u001b[m\u001b[K:\n",
            "\u001b[01m\u001b[KTriangular_Matrix.c:\u001b[m\u001b[K In function ‘\u001b[01m\u001b[K__pyx_pw_17Triangular_Matrix_17Triangular_Matrix_1__init__\u001b[m\u001b[K’:\n",
            "\u001b[01m\u001b[K/usr/include/stdlib.h:540:14:\u001b[m\u001b[K \u001b[01;36m\u001b[Knote: \u001b[m\u001b[Kin a call to allocation function ‘\u001b[01m\u001b[Kmalloc\u001b[m\u001b[K’ declared here\n",
            "  540 | extern void *\u001b[01;36m\u001b[Kmalloc\u001b[m\u001b[K (size_t __size) __THROW __attribute_malloc__\n",
            "      |              \u001b[01;36m\u001b[K^~~~~~\u001b[m\u001b[K\n",
            "/usr/local/lib/python3.10/dist-packages/Cython/Compiler/Main.py:381: FutureWarning: Cython directive 'language_level' not set, using '3str' for now (Py3). This has changed from earlier releases! File: /content/RecSys_Course_AT_PoliMi/Recommenders/SLIM/Cython/Triangular_Matrix.pyx\n",
            "  tree = Parsing.p_module(s, pxd, full_module_name)\n",
            "warning: Triangular_Matrix.pyx:22:0: The 'IF' statement is deprecated and will be removed in a future Cython version. Consider using runtime conditions or C macros instead. See https://github.com/cython/cython/issues/4310\n",
            "Compiling [6/10]: Triangular_Matrix.pyx... PASS\n",
            "\n",
            "Compiling [7/10]: CFW_DVV_Similarity_Cython_SGD.pyx... \n",
            "In file included from \u001b[01m\u001b[K/usr/local/lib/python3.10/dist-packages/numpy/core/include/numpy/ndarraytypes.h:1948\u001b[m\u001b[K,\n",
            "                 from \u001b[01m\u001b[K/usr/local/lib/python3.10/dist-packages/numpy/core/include/numpy/ndarrayobject.h:12\u001b[m\u001b[K,\n",
            "                 from \u001b[01m\u001b[K/usr/local/lib/python3.10/dist-packages/numpy/core/include/numpy/arrayobject.h:5\u001b[m\u001b[K,\n",
            "                 from \u001b[01m\u001b[KCFW_DVV_Similarity_Cython_SGD.c:1217\u001b[m\u001b[K:\n",
            "\u001b[01m\u001b[K/usr/local/lib/python3.10/dist-packages/numpy/core/include/numpy/npy_1_7_deprecated_api.h:17:2:\u001b[m\u001b[K \u001b[01;35m\u001b[Kwarning: \u001b[m\u001b[K#warning \"Using deprecated NumPy API, disable it with \" \"#define NPY_NO_DEPRECATED_API NPY_1_7_API_VERSION\" [\u001b[01;35m\u001b[K\u001b]8;;https://gcc.gnu.org/onlinedocs/gcc/Warning-Options.html#index-Wcpp\u0007-Wcpp\u001b]8;;\u0007\u001b[m\u001b[K]\n",
            "   17 | #\u001b[01;35m\u001b[Kwarning\u001b[m\u001b[K \"Using deprecated NumPy API, disable it with \" \\\n",
            "      |  \u001b[01;35m\u001b[K^~~~~~~\u001b[m\u001b[K\n",
            "/usr/local/lib/python3.10/dist-packages/Cython/Compiler/Main.py:381: FutureWarning: Cython directive 'language_level' not set, using '3str' for now (Py3). This has changed from earlier releases! File: /content/RecSys_Course_AT_PoliMi/Recommenders/FeatureWeighting/Cython/CFW_DVV_Similarity_Cython_SGD.pyx\n",
            "  tree = Parsing.p_module(s, pxd, full_module_name)\n",
            "Compiling [7/10]: CFW_DVV_Similarity_Cython_SGD.pyx... PASS\n",
            "\n",
            "Compiling [8/10]: HP3_Similarity_Cython_SGD.pyx... \n",
            "performance hint: HP3_Similarity_Cython_SGD.pyx:113:40: Index should be typed for more efficient access\n",
            "performance hint: HP3_Similarity_Cython_SGD.pyx:114:40: Index should be typed for more efficient access\n",
            "In file included from \u001b[01m\u001b[K/usr/local/lib/python3.10/dist-packages/numpy/core/include/numpy/ndarraytypes.h:1948\u001b[m\u001b[K,\n",
            "                 from \u001b[01m\u001b[K/usr/local/lib/python3.10/dist-packages/numpy/core/include/numpy/ndarrayobject.h:12\u001b[m\u001b[K,\n",
            "                 from \u001b[01m\u001b[K/usr/local/lib/python3.10/dist-packages/numpy/core/include/numpy/arrayobject.h:5\u001b[m\u001b[K,\n",
            "                 from \u001b[01m\u001b[KHP3_Similarity_Cython_SGD.c:1217\u001b[m\u001b[K:\n",
            "\u001b[01m\u001b[K/usr/local/lib/python3.10/dist-packages/numpy/core/include/numpy/npy_1_7_deprecated_api.h:17:2:\u001b[m\u001b[K \u001b[01;35m\u001b[Kwarning: \u001b[m\u001b[K#warning \"Using deprecated NumPy API, disable it with \" \"#define NPY_NO_DEPRECATED_API NPY_1_7_API_VERSION\" [\u001b[01;35m\u001b[K\u001b]8;;https://gcc.gnu.org/onlinedocs/gcc/Warning-Options.html#index-Wcpp\u0007-Wcpp\u001b]8;;\u0007\u001b[m\u001b[K]\n",
            "   17 | #\u001b[01;35m\u001b[Kwarning\u001b[m\u001b[K \"Using deprecated NumPy API, disable it with \" \\\n",
            "      |  \u001b[01;35m\u001b[K^~~~~~~\u001b[m\u001b[K\n",
            "\u001b[01m\u001b[KHP3_Similarity_Cython_SGD.c:\u001b[m\u001b[K In function ‘\u001b[01m\u001b[K__pyx_pf_25HP3_Similarity_Cython_SGD_25HP3_Similarity_Cython_SGD_4fit\u001b[m\u001b[K’:\n",
            "\u001b[01m\u001b[KHP3_Similarity_Cython_SGD.c:23633:55:\u001b[m\u001b[K \u001b[01;35m\u001b[Kwarning: \u001b[m\u001b[K‘\u001b[01m\u001b[K__pyx_v_sample_num\u001b[m\u001b[K’ may be used uninitialized in this function [\u001b[01;35m\u001b[K\u001b]8;;https://gcc.gnu.org/onlinedocs/gcc/Warning-Options.html#index-Wmaybe-uninitialized\u0007-Wmaybe-uninitialized\u001b]8;;\u0007\u001b[m\u001b[K]\n",
            "23633 |   __pyx_t_1 = PyFloat_FromDouble((__pyx_v_cum_loss / \u001b[01;35m\u001b[K((double)__pyx_v_sample_num)\u001b[m\u001b[K)); if (unlikely(!__pyx_t_1)) __PYX_ERR(0, 291, __pyx_L1_error)\n",
            "      |                                                      \u001b[01;35m\u001b[K~^~~~~~~~~~~~~~~~~~~~~~~~~~~\u001b[m\u001b[K\n",
            "/usr/local/lib/python3.10/dist-packages/Cython/Compiler/Main.py:381: FutureWarning: Cython directive 'language_level' not set, using '3str' for now (Py3). This has changed from earlier releases! File: /content/RecSys_Course_AT_PoliMi/Recommenders/FeatureWeighting/Cython/HP3_Similarity_Cython_SGD.pyx\n",
            "  tree = Parsing.p_module(s, pxd, full_module_name)\n",
            "performance hint: HP3_Similarity_Cython_SGD.pyx:113:40: Index should be typed for more efficient access\n",
            "performance hint: HP3_Similarity_Cython_SGD.pyx:114:40: Index should be typed for more efficient access\n",
            "Compiling [8/10]: HP3_Similarity_Cython_SGD.pyx... PASS\n",
            "\n",
            "Compiling [9/10]: CFW_D_Similarity_Cython_SGD.pyx... \n",
            "In file included from \u001b[01m\u001b[K/usr/local/lib/python3.10/dist-packages/numpy/core/include/numpy/ndarraytypes.h:1948\u001b[m\u001b[K,\n",
            "                 from \u001b[01m\u001b[K/usr/local/lib/python3.10/dist-packages/numpy/core/include/numpy/ndarrayobject.h:12\u001b[m\u001b[K,\n",
            "                 from \u001b[01m\u001b[K/usr/local/lib/python3.10/dist-packages/numpy/core/include/numpy/arrayobject.h:5\u001b[m\u001b[K,\n",
            "                 from \u001b[01m\u001b[KCFW_D_Similarity_Cython_SGD.c:1217\u001b[m\u001b[K:\n",
            "\u001b[01m\u001b[K/usr/local/lib/python3.10/dist-packages/numpy/core/include/numpy/npy_1_7_deprecated_api.h:17:2:\u001b[m\u001b[K \u001b[01;35m\u001b[Kwarning: \u001b[m\u001b[K#warning \"Using deprecated NumPy API, disable it with \" \"#define NPY_NO_DEPRECATED_API NPY_1_7_API_VERSION\" [\u001b[01;35m\u001b[K\u001b]8;;https://gcc.gnu.org/onlinedocs/gcc/Warning-Options.html#index-Wcpp\u0007-Wcpp\u001b]8;;\u0007\u001b[m\u001b[K]\n",
            "   17 | #\u001b[01;35m\u001b[Kwarning\u001b[m\u001b[K \"Using deprecated NumPy API, disable it with \" \\\n",
            "      |  \u001b[01;35m\u001b[K^~~~~~~\u001b[m\u001b[K\n",
            "\u001b[01m\u001b[KCFW_D_Similarity_Cython_SGD.c:\u001b[m\u001b[K In function ‘\u001b[01m\u001b[K__pyx_pf_27CFW_D_Similarity_Cython_SGD_27CFW_D_Similarity_Cython_SGD_6fit\u001b[m\u001b[K’:\n",
            "\u001b[01m\u001b[KCFW_D_Similarity_Cython_SGD.c:23364:55:\u001b[m\u001b[K \u001b[01;35m\u001b[Kwarning: \u001b[m\u001b[K‘\u001b[01m\u001b[K__pyx_v_sample_num\u001b[m\u001b[K’ may be used uninitialized in this function [\u001b[01;35m\u001b[K\u001b]8;;https://gcc.gnu.org/onlinedocs/gcc/Warning-Options.html#index-Wmaybe-uninitialized\u0007-Wmaybe-uninitialized\u001b]8;;\u0007\u001b[m\u001b[K]\n",
            "23364 |   __pyx_t_3 = PyFloat_FromDouble((__pyx_v_cum_loss / \u001b[01;35m\u001b[K((double)__pyx_v_sample_num)\u001b[m\u001b[K)); if (unlikely(!__pyx_t_3)) __PYX_ERR(0, 290, __pyx_L1_error)\n",
            "      |                                                      \u001b[01;35m\u001b[K~^~~~~~~~~~~~~~~~~~~~~~~~~~~\u001b[m\u001b[K\n",
            "/usr/local/lib/python3.10/dist-packages/Cython/Compiler/Main.py:381: FutureWarning: Cython directive 'language_level' not set, using '3str' for now (Py3). This has changed from earlier releases! File: /content/RecSys_Course_AT_PoliMi/Recommenders/FeatureWeighting/Cython/CFW_D_Similarity_Cython_SGD.pyx\n",
            "  tree = Parsing.p_module(s, pxd, full_module_name)\n",
            "Compiling [9/10]: CFW_D_Similarity_Cython_SGD.pyx... PASS\n",
            "\n",
            "Compiling [10/10]: FBSM_Rating_Cython_SGD.pyx... \n",
            "In file included from \u001b[01m\u001b[K/usr/local/lib/python3.10/dist-packages/numpy/core/include/numpy/ndarraytypes.h:1948\u001b[m\u001b[K,\n",
            "                 from \u001b[01m\u001b[K/usr/local/lib/python3.10/dist-packages/numpy/core/include/numpy/ndarrayobject.h:12\u001b[m\u001b[K,\n",
            "                 from \u001b[01m\u001b[K/usr/local/lib/python3.10/dist-packages/numpy/core/include/numpy/arrayobject.h:5\u001b[m\u001b[K,\n",
            "                 from \u001b[01m\u001b[KFBSM_Rating_Cython_SGD.c:1217\u001b[m\u001b[K:\n",
            "\u001b[01m\u001b[K/usr/local/lib/python3.10/dist-packages/numpy/core/include/numpy/npy_1_7_deprecated_api.h:17:2:\u001b[m\u001b[K \u001b[01;35m\u001b[Kwarning: \u001b[m\u001b[K#warning \"Using deprecated NumPy API, disable it with \" \"#define NPY_NO_DEPRECATED_API NPY_1_7_API_VERSION\" [\u001b[01;35m\u001b[K\u001b]8;;https://gcc.gnu.org/onlinedocs/gcc/Warning-Options.html#index-Wcpp\u0007-Wcpp\u001b]8;;\u0007\u001b[m\u001b[K]\n",
            "   17 | #\u001b[01;35m\u001b[Kwarning\u001b[m\u001b[K \"Using deprecated NumPy API, disable it with \" \\\n",
            "      |  \u001b[01;35m\u001b[K^~~~~~~\u001b[m\u001b[K\n",
            "\u001b[01m\u001b[KFBSM_Rating_Cython_SGD.c:\u001b[m\u001b[K In function ‘\u001b[01m\u001b[K__pyx_pf_22FBSM_Rating_Cython_SGD_22FBSM_Rating_Cython_SGD_2fit\u001b[m\u001b[K’:\n",
            "\u001b[01m\u001b[KFBSM_Rating_Cython_SGD.c:26598:55:\u001b[m\u001b[K \u001b[01;35m\u001b[Kwarning: \u001b[m\u001b[K‘\u001b[01m\u001b[K__pyx_v_num_sample\u001b[m\u001b[K’ may be used uninitialized in this function [\u001b[01;35m\u001b[K\u001b]8;;https://gcc.gnu.org/onlinedocs/gcc/Warning-Options.html#index-Wmaybe-uninitialized\u0007-Wmaybe-uninitialized\u001b]8;;\u0007\u001b[m\u001b[K]\n",
            "26598 |   __pyx_t_5 = PyFloat_FromDouble((__pyx_v_cum_loss / \u001b[01;35m\u001b[K((double)__pyx_v_num_sample)\u001b[m\u001b[K)); if (unlikely(!__pyx_t_5)) __PYX_ERR(0, 551, __pyx_L1_error)\n",
            "      |                                                      \u001b[01;35m\u001b[K~^~~~~~~~~~~~~~~~~~~~~~~~~~~\u001b[m\u001b[K\n",
            "/usr/local/lib/python3.10/dist-packages/Cython/Compiler/Main.py:381: FutureWarning: Cython directive 'language_level' not set, using '3str' for now (Py3). This has changed from earlier releases! File: /content/RecSys_Course_AT_PoliMi/Recommenders/FeatureWeighting/Cython/FBSM_Rating_Cython_SGD.pyx\n",
            "  tree = Parsing.p_module(s, pxd, full_module_name)\n",
            "Compiling [10/10]: FBSM_Rating_Cython_SGD.pyx... PASS\n",
            "\n",
            "run_compile_all_cython: Compilation finished. FAILS 2/10.\n",
            "Compilation log can be found here: './result_experiments/run_compile_all_cython.txt'\n"
          ]
        }
      ]
    },
    {
      "cell_type": "code",
      "execution_count": 2,
      "metadata": {
        "colab": {
          "base_uri": "https://localhost:8080/"
        },
        "id": "dRiWEqrkxI-A",
        "outputId": "4da9600b-23fb-45d5-8367-763e563cafa0"
      },
      "outputs": [
        {
          "output_type": "stream",
          "name": "stdout",
          "text": [
            "Mounted at /gdrive\n"
          ]
        }
      ],
      "source": [
        "from google.colab import drive\n",
        "drive.mount('/gdrive')"
      ]
    },
    {
      "cell_type": "markdown",
      "metadata": {
        "id": "eCC3N4HIxjjH"
      },
      "source": [
        "#Import Library"
      ]
    },
    {
      "cell_type": "code",
      "execution_count": 89,
      "metadata": {
        "colab": {
          "base_uri": "https://localhost:8080/"
        },
        "id": "_Cc4espPxNMj",
        "outputId": "7e50abac-ad58-4ea8-f29a-4a8e2ceb94fa"
      },
      "outputs": [
        {
          "output_type": "stream",
          "name": "stdout",
          "text": [
            "Requirement already satisfied: optuna in /usr/local/lib/python3.10/dist-packages (3.4.0)\n",
            "Requirement already satisfied: alembic>=1.5.0 in /usr/local/lib/python3.10/dist-packages (from optuna) (1.12.1)\n",
            "Requirement already satisfied: colorlog in /usr/local/lib/python3.10/dist-packages (from optuna) (6.7.0)\n",
            "Requirement already satisfied: numpy in /usr/local/lib/python3.10/dist-packages (from optuna) (1.23.5)\n",
            "Requirement already satisfied: packaging>=20.0 in /usr/local/lib/python3.10/dist-packages (from optuna) (23.2)\n",
            "Requirement already satisfied: sqlalchemy>=1.3.0 in /usr/local/lib/python3.10/dist-packages (from optuna) (2.0.23)\n",
            "Requirement already satisfied: tqdm in /usr/local/lib/python3.10/dist-packages (from optuna) (4.66.1)\n",
            "Requirement already satisfied: PyYAML in /usr/local/lib/python3.10/dist-packages (from optuna) (6.0.1)\n",
            "Requirement already satisfied: Mako in /usr/local/lib/python3.10/dist-packages (from alembic>=1.5.0->optuna) (1.3.0)\n",
            "Requirement already satisfied: typing-extensions>=4 in /usr/local/lib/python3.10/dist-packages (from alembic>=1.5.0->optuna) (4.5.0)\n",
            "Requirement already satisfied: greenlet!=0.4.17 in /usr/local/lib/python3.10/dist-packages (from sqlalchemy>=1.3.0->optuna) (3.0.1)\n",
            "Requirement already satisfied: MarkupSafe>=0.9.2 in /usr/local/lib/python3.10/dist-packages (from Mako->alembic>=1.5.0->optuna) (2.1.3)\n"
          ]
        }
      ],
      "source": [
        "import pandas as pd\n",
        "import numpy as np\n",
        "import matplotlib.pyplot as plt\n",
        "from sklearn.model_selection import train_test_split\n",
        "import scipy.sparse as sp\n",
        "from typing import Tuple, Callable, Dict, Optional, List\n",
        "from Recommenders.KNN.ItemKNNCFRecommender import ItemKNNCFRecommender\n",
        "from Recommenders.Similarity.Compute_Similarity_Python import Compute_Similarity_Python\n",
        "from scipy.stats import loguniform\n",
        "!pip install optuna\n",
        "import optuna"
      ]
    },
    {
      "cell_type": "markdown",
      "metadata": {
        "id": "GnP3Qb-nzW3F"
      },
      "source": [
        "#Load Data"
      ]
    },
    {
      "cell_type": "code",
      "execution_count": 9,
      "metadata": {
        "id": "EmCzZHO8xnHS",
        "colab": {
          "base_uri": "https://localhost:8080/"
        },
        "outputId": "e6b914d5-804c-4ff9-8148-ed96471105cd"
      },
      "outputs": [
        {
          "output_type": "stream",
          "name": "stdout",
          "text": [
            "/gdrive/MyDrive/RECSYS\n"
          ]
        }
      ],
      "source": [
        "%cd /gdrive/MyDrive/RECSYS\n",
        "data_train = pd.read_csv('data_train.csv')\n",
        "data_target_users_test = pd.read_csv('data_target_users_test.csv')"
      ]
    },
    {
      "cell_type": "code",
      "execution_count": 10,
      "metadata": {
        "id": "Vh_4xGA8xzyV"
      },
      "outputs": [],
      "source": [
        "data_train.columns = [\"user_id\", \"item_id\", \"Interaction\"]"
      ]
    },
    {
      "cell_type": "code",
      "execution_count": 11,
      "metadata": {
        "id": "dtUrQBPlzSEc",
        "colab": {
          "base_uri": "https://localhost:8080/"
        },
        "outputId": "880b9400-8032-456f-cf5e-98dfdb92862c"
      },
      "outputs": [
        {
          "output_type": "stream",
          "name": "stdout",
          "text": [
            "The number of interactions is 478730\n"
          ]
        }
      ],
      "source": [
        "print (\"The number of interactions is {}\".format(len(data_train)))"
      ]
    },
    {
      "cell_type": "code",
      "execution_count": 12,
      "metadata": {
        "id": "aiHSbCzyzUk7"
      },
      "outputs": [],
      "source": [
        "userID_unique = data_train[\"user_id\"].unique()\n",
        "itemID_unique = data_train[\"item_id\"].unique()"
      ]
    },
    {
      "cell_type": "code",
      "execution_count": 13,
      "metadata": {
        "id": "VoJy1s8Tzamf",
        "colab": {
          "base_uri": "https://localhost:8080/"
        },
        "outputId": "67dc93a0-9f55-49c0-fe8b-c7a6daff3a33"
      },
      "outputs": [
        {
          "output_type": "stream",
          "name": "stdout",
          "text": [
            "Number of items\t 22222, Number of users\t 12638\n",
            "Max ID items\t 22347, Max Id users\t 13024\n",
            "\n"
          ]
        }
      ],
      "source": [
        "n_users = len(userID_unique)\n",
        "n_items = len(itemID_unique)\n",
        "n_interactions = len(data_train)\n",
        "\n",
        "print (\"Number of items\\t {}, Number of users\\t {}\".format(n_items, n_users))\n",
        "print (\"Max ID items\\t {}, Max Id users\\t {}\\n\".format(max(itemID_unique), max(userID_unique)))"
      ]
    },
    {
      "cell_type": "markdown",
      "metadata": {
        "id": "1IB-Aujzz9OV"
      },
      "source": [
        "#Splitting Data"
      ]
    },
    {
      "cell_type": "code",
      "execution_count": 14,
      "metadata": {
        "id": "rv9buSlx5F_U"
      },
      "outputs": [],
      "source": [
        "def preprocess_data(interactions: pd.DataFrame):\n",
        "    unique_users = interactions.user_id.unique()\n",
        "    unique_items = interactions.item_id.unique()\n",
        "\n",
        "    num_users, min_user_id, max_user_id = unique_users.size, unique_users.min(), unique_users.max()\n",
        "    num_items, min_item_id, max_item_id = unique_items.size, unique_items.min(), unique_items.max()\n",
        "\n",
        "    print(num_users, min_user_id, max_user_id)\n",
        "    print(num_items, min_item_id, max_item_id)\n",
        "\n",
        "    mapping_user_id = pd.DataFrame({\"mapped_user_id\": np.arange(num_users), \"user_id\": unique_users})\n",
        "    mapping_item_id = pd.DataFrame({\"mapped_item_id\": np.arange(num_items), \"item_id\": unique_items})\n",
        "\n",
        "    interactions = pd.merge(left=interactions,\n",
        "                       right=mapping_user_id,\n",
        "                       how=\"inner\",\n",
        "                       on=\"user_id\")\n",
        "\n",
        "    interactions = pd.merge(left=interactions,\n",
        "                       right=mapping_item_id,\n",
        "                       how=\"inner\",\n",
        "                       on=\"item_id\")\n",
        "\n",
        "    return interactions\n"
      ]
    },
    {
      "cell_type": "code",
      "execution_count": 15,
      "metadata": {
        "id": "P7n04nV95Mc-",
        "colab": {
          "base_uri": "https://localhost:8080/"
        },
        "outputId": "991ba905-8ce6-45b6-9a18-c7de04e968ec"
      },
      "outputs": [
        {
          "output_type": "stream",
          "name": "stdout",
          "text": [
            "12638 1 13024\n",
            "22222 1 22347\n"
          ]
        }
      ],
      "source": [
        "interactions = preprocess_data(data_train)"
      ]
    },
    {
      "cell_type": "code",
      "execution_count": 16,
      "metadata": {
        "id": "B41fKtAp5wIO",
        "colab": {
          "base_uri": "https://localhost:8080/",
          "height": 424
        },
        "outputId": "badcc123-d6fb-48bb-bef2-c3547476de2b"
      },
      "outputs": [
        {
          "output_type": "execute_result",
          "data": {
            "text/plain": [
              "        user_id  item_id  Interaction  mapped_user_id  mapped_item_id\n",
              "0             1        7          1.0               0               0\n",
              "1             2        7          1.0               1               0\n",
              "2            26        7          1.0              24               0\n",
              "3            36        7          1.0              34               0\n",
              "4            41        7          1.0              39               0\n",
              "...         ...      ...          ...             ...             ...\n",
              "478725    12962    20368          1.0           12579           22217\n",
              "478726    12985    21058          1.0           12601           22218\n",
              "478727    12989    22317          1.0           12605           22219\n",
              "478728    13009    22339          1.0           12624           22220\n",
              "478729    13021    21466          1.0           12634           22221\n",
              "\n",
              "[478730 rows x 5 columns]"
            ],
            "text/html": [
              "\n",
              "  <div id=\"df-b16f4458-68bf-4f78-832a-96978beebd6f\" class=\"colab-df-container\">\n",
              "    <div>\n",
              "<style scoped>\n",
              "    .dataframe tbody tr th:only-of-type {\n",
              "        vertical-align: middle;\n",
              "    }\n",
              "\n",
              "    .dataframe tbody tr th {\n",
              "        vertical-align: top;\n",
              "    }\n",
              "\n",
              "    .dataframe thead th {\n",
              "        text-align: right;\n",
              "    }\n",
              "</style>\n",
              "<table border=\"1\" class=\"dataframe\">\n",
              "  <thead>\n",
              "    <tr style=\"text-align: right;\">\n",
              "      <th></th>\n",
              "      <th>user_id</th>\n",
              "      <th>item_id</th>\n",
              "      <th>Interaction</th>\n",
              "      <th>mapped_user_id</th>\n",
              "      <th>mapped_item_id</th>\n",
              "    </tr>\n",
              "  </thead>\n",
              "  <tbody>\n",
              "    <tr>\n",
              "      <th>0</th>\n",
              "      <td>1</td>\n",
              "      <td>7</td>\n",
              "      <td>1.0</td>\n",
              "      <td>0</td>\n",
              "      <td>0</td>\n",
              "    </tr>\n",
              "    <tr>\n",
              "      <th>1</th>\n",
              "      <td>2</td>\n",
              "      <td>7</td>\n",
              "      <td>1.0</td>\n",
              "      <td>1</td>\n",
              "      <td>0</td>\n",
              "    </tr>\n",
              "    <tr>\n",
              "      <th>2</th>\n",
              "      <td>26</td>\n",
              "      <td>7</td>\n",
              "      <td>1.0</td>\n",
              "      <td>24</td>\n",
              "      <td>0</td>\n",
              "    </tr>\n",
              "    <tr>\n",
              "      <th>3</th>\n",
              "      <td>36</td>\n",
              "      <td>7</td>\n",
              "      <td>1.0</td>\n",
              "      <td>34</td>\n",
              "      <td>0</td>\n",
              "    </tr>\n",
              "    <tr>\n",
              "      <th>4</th>\n",
              "      <td>41</td>\n",
              "      <td>7</td>\n",
              "      <td>1.0</td>\n",
              "      <td>39</td>\n",
              "      <td>0</td>\n",
              "    </tr>\n",
              "    <tr>\n",
              "      <th>...</th>\n",
              "      <td>...</td>\n",
              "      <td>...</td>\n",
              "      <td>...</td>\n",
              "      <td>...</td>\n",
              "      <td>...</td>\n",
              "    </tr>\n",
              "    <tr>\n",
              "      <th>478725</th>\n",
              "      <td>12962</td>\n",
              "      <td>20368</td>\n",
              "      <td>1.0</td>\n",
              "      <td>12579</td>\n",
              "      <td>22217</td>\n",
              "    </tr>\n",
              "    <tr>\n",
              "      <th>478726</th>\n",
              "      <td>12985</td>\n",
              "      <td>21058</td>\n",
              "      <td>1.0</td>\n",
              "      <td>12601</td>\n",
              "      <td>22218</td>\n",
              "    </tr>\n",
              "    <tr>\n",
              "      <th>478727</th>\n",
              "      <td>12989</td>\n",
              "      <td>22317</td>\n",
              "      <td>1.0</td>\n",
              "      <td>12605</td>\n",
              "      <td>22219</td>\n",
              "    </tr>\n",
              "    <tr>\n",
              "      <th>478728</th>\n",
              "      <td>13009</td>\n",
              "      <td>22339</td>\n",
              "      <td>1.0</td>\n",
              "      <td>12624</td>\n",
              "      <td>22220</td>\n",
              "    </tr>\n",
              "    <tr>\n",
              "      <th>478729</th>\n",
              "      <td>13021</td>\n",
              "      <td>21466</td>\n",
              "      <td>1.0</td>\n",
              "      <td>12634</td>\n",
              "      <td>22221</td>\n",
              "    </tr>\n",
              "  </tbody>\n",
              "</table>\n",
              "<p>478730 rows × 5 columns</p>\n",
              "</div>\n",
              "    <div class=\"colab-df-buttons\">\n",
              "\n",
              "  <div class=\"colab-df-container\">\n",
              "    <button class=\"colab-df-convert\" onclick=\"convertToInteractive('df-b16f4458-68bf-4f78-832a-96978beebd6f')\"\n",
              "            title=\"Convert this dataframe to an interactive table.\"\n",
              "            style=\"display:none;\">\n",
              "\n",
              "  <svg xmlns=\"http://www.w3.org/2000/svg\" height=\"24px\" viewBox=\"0 -960 960 960\">\n",
              "    <path d=\"M120-120v-720h720v720H120Zm60-500h600v-160H180v160Zm220 220h160v-160H400v160Zm0 220h160v-160H400v160ZM180-400h160v-160H180v160Zm440 0h160v-160H620v160ZM180-180h160v-160H180v160Zm440 0h160v-160H620v160Z\"/>\n",
              "  </svg>\n",
              "    </button>\n",
              "\n",
              "  <style>\n",
              "    .colab-df-container {\n",
              "      display:flex;\n",
              "      gap: 12px;\n",
              "    }\n",
              "\n",
              "    .colab-df-convert {\n",
              "      background-color: #E8F0FE;\n",
              "      border: none;\n",
              "      border-radius: 50%;\n",
              "      cursor: pointer;\n",
              "      display: none;\n",
              "      fill: #1967D2;\n",
              "      height: 32px;\n",
              "      padding: 0 0 0 0;\n",
              "      width: 32px;\n",
              "    }\n",
              "\n",
              "    .colab-df-convert:hover {\n",
              "      background-color: #E2EBFA;\n",
              "      box-shadow: 0px 1px 2px rgba(60, 64, 67, 0.3), 0px 1px 3px 1px rgba(60, 64, 67, 0.15);\n",
              "      fill: #174EA6;\n",
              "    }\n",
              "\n",
              "    .colab-df-buttons div {\n",
              "      margin-bottom: 4px;\n",
              "    }\n",
              "\n",
              "    [theme=dark] .colab-df-convert {\n",
              "      background-color: #3B4455;\n",
              "      fill: #D2E3FC;\n",
              "    }\n",
              "\n",
              "    [theme=dark] .colab-df-convert:hover {\n",
              "      background-color: #434B5C;\n",
              "      box-shadow: 0px 1px 3px 1px rgba(0, 0, 0, 0.15);\n",
              "      filter: drop-shadow(0px 1px 2px rgba(0, 0, 0, 0.3));\n",
              "      fill: #FFFFFF;\n",
              "    }\n",
              "  </style>\n",
              "\n",
              "    <script>\n",
              "      const buttonEl =\n",
              "        document.querySelector('#df-b16f4458-68bf-4f78-832a-96978beebd6f button.colab-df-convert');\n",
              "      buttonEl.style.display =\n",
              "        google.colab.kernel.accessAllowed ? 'block' : 'none';\n",
              "\n",
              "      async function convertToInteractive(key) {\n",
              "        const element = document.querySelector('#df-b16f4458-68bf-4f78-832a-96978beebd6f');\n",
              "        const dataTable =\n",
              "          await google.colab.kernel.invokeFunction('convertToInteractive',\n",
              "                                                    [key], {});\n",
              "        if (!dataTable) return;\n",
              "\n",
              "        const docLinkHtml = 'Like what you see? Visit the ' +\n",
              "          '<a target=\"_blank\" href=https://colab.research.google.com/notebooks/data_table.ipynb>data table notebook</a>'\n",
              "          + ' to learn more about interactive tables.';\n",
              "        element.innerHTML = '';\n",
              "        dataTable['output_type'] = 'display_data';\n",
              "        await google.colab.output.renderOutput(dataTable, element);\n",
              "        const docLink = document.createElement('div');\n",
              "        docLink.innerHTML = docLinkHtml;\n",
              "        element.appendChild(docLink);\n",
              "      }\n",
              "    </script>\n",
              "  </div>\n",
              "\n",
              "\n",
              "<div id=\"df-f4df1853-973b-46b8-9e44-c0dc5e238f4e\">\n",
              "  <button class=\"colab-df-quickchart\" onclick=\"quickchart('df-f4df1853-973b-46b8-9e44-c0dc5e238f4e')\"\n",
              "            title=\"Suggest charts\"\n",
              "            style=\"display:none;\">\n",
              "\n",
              "<svg xmlns=\"http://www.w3.org/2000/svg\" height=\"24px\"viewBox=\"0 0 24 24\"\n",
              "     width=\"24px\">\n",
              "    <g>\n",
              "        <path d=\"M19 3H5c-1.1 0-2 .9-2 2v14c0 1.1.9 2 2 2h14c1.1 0 2-.9 2-2V5c0-1.1-.9-2-2-2zM9 17H7v-7h2v7zm4 0h-2V7h2v10zm4 0h-2v-4h2v4z\"/>\n",
              "    </g>\n",
              "</svg>\n",
              "  </button>\n",
              "\n",
              "<style>\n",
              "  .colab-df-quickchart {\n",
              "      --bg-color: #E8F0FE;\n",
              "      --fill-color: #1967D2;\n",
              "      --hover-bg-color: #E2EBFA;\n",
              "      --hover-fill-color: #174EA6;\n",
              "      --disabled-fill-color: #AAA;\n",
              "      --disabled-bg-color: #DDD;\n",
              "  }\n",
              "\n",
              "  [theme=dark] .colab-df-quickchart {\n",
              "      --bg-color: #3B4455;\n",
              "      --fill-color: #D2E3FC;\n",
              "      --hover-bg-color: #434B5C;\n",
              "      --hover-fill-color: #FFFFFF;\n",
              "      --disabled-bg-color: #3B4455;\n",
              "      --disabled-fill-color: #666;\n",
              "  }\n",
              "\n",
              "  .colab-df-quickchart {\n",
              "    background-color: var(--bg-color);\n",
              "    border: none;\n",
              "    border-radius: 50%;\n",
              "    cursor: pointer;\n",
              "    display: none;\n",
              "    fill: var(--fill-color);\n",
              "    height: 32px;\n",
              "    padding: 0;\n",
              "    width: 32px;\n",
              "  }\n",
              "\n",
              "  .colab-df-quickchart:hover {\n",
              "    background-color: var(--hover-bg-color);\n",
              "    box-shadow: 0 1px 2px rgba(60, 64, 67, 0.3), 0 1px 3px 1px rgba(60, 64, 67, 0.15);\n",
              "    fill: var(--button-hover-fill-color);\n",
              "  }\n",
              "\n",
              "  .colab-df-quickchart-complete:disabled,\n",
              "  .colab-df-quickchart-complete:disabled:hover {\n",
              "    background-color: var(--disabled-bg-color);\n",
              "    fill: var(--disabled-fill-color);\n",
              "    box-shadow: none;\n",
              "  }\n",
              "\n",
              "  .colab-df-spinner {\n",
              "    border: 2px solid var(--fill-color);\n",
              "    border-color: transparent;\n",
              "    border-bottom-color: var(--fill-color);\n",
              "    animation:\n",
              "      spin 1s steps(1) infinite;\n",
              "  }\n",
              "\n",
              "  @keyframes spin {\n",
              "    0% {\n",
              "      border-color: transparent;\n",
              "      border-bottom-color: var(--fill-color);\n",
              "      border-left-color: var(--fill-color);\n",
              "    }\n",
              "    20% {\n",
              "      border-color: transparent;\n",
              "      border-left-color: var(--fill-color);\n",
              "      border-top-color: var(--fill-color);\n",
              "    }\n",
              "    30% {\n",
              "      border-color: transparent;\n",
              "      border-left-color: var(--fill-color);\n",
              "      border-top-color: var(--fill-color);\n",
              "      border-right-color: var(--fill-color);\n",
              "    }\n",
              "    40% {\n",
              "      border-color: transparent;\n",
              "      border-right-color: var(--fill-color);\n",
              "      border-top-color: var(--fill-color);\n",
              "    }\n",
              "    60% {\n",
              "      border-color: transparent;\n",
              "      border-right-color: var(--fill-color);\n",
              "    }\n",
              "    80% {\n",
              "      border-color: transparent;\n",
              "      border-right-color: var(--fill-color);\n",
              "      border-bottom-color: var(--fill-color);\n",
              "    }\n",
              "    90% {\n",
              "      border-color: transparent;\n",
              "      border-bottom-color: var(--fill-color);\n",
              "    }\n",
              "  }\n",
              "</style>\n",
              "\n",
              "  <script>\n",
              "    async function quickchart(key) {\n",
              "      const quickchartButtonEl =\n",
              "        document.querySelector('#' + key + ' button');\n",
              "      quickchartButtonEl.disabled = true;  // To prevent multiple clicks.\n",
              "      quickchartButtonEl.classList.add('colab-df-spinner');\n",
              "      try {\n",
              "        const charts = await google.colab.kernel.invokeFunction(\n",
              "            'suggestCharts', [key], {});\n",
              "      } catch (error) {\n",
              "        console.error('Error during call to suggestCharts:', error);\n",
              "      }\n",
              "      quickchartButtonEl.classList.remove('colab-df-spinner');\n",
              "      quickchartButtonEl.classList.add('colab-df-quickchart-complete');\n",
              "    }\n",
              "    (() => {\n",
              "      let quickchartButtonEl =\n",
              "        document.querySelector('#df-f4df1853-973b-46b8-9e44-c0dc5e238f4e button');\n",
              "      quickchartButtonEl.style.display =\n",
              "        google.colab.kernel.accessAllowed ? 'block' : 'none';\n",
              "    })();\n",
              "  </script>\n",
              "</div>\n",
              "    </div>\n",
              "  </div>\n"
            ]
          },
          "metadata": {},
          "execution_count": 16
        }
      ],
      "source": [
        "interactions"
      ]
    },
    {
      "cell_type": "code",
      "execution_count": 17,
      "metadata": {
        "id": "BeQy3iIM3NWS"
      },
      "outputs": [],
      "source": [
        "def dataset_splits(interactions, num_users, num_items, validation_percentage: float, testing_percentage: float):\n",
        "    seed = 1234\n",
        "\n",
        "    (user_ids_training, user_ids_test,\n",
        "     item_ids_training, item_ids_test,\n",
        "     interactions_training, interactions_test) = train_test_split(interactions.mapped_user_id,\n",
        "                                                        interactions.mapped_item_id,\n",
        "                                                        interactions.Interaction,\n",
        "                                                        test_size=testing_percentage,\n",
        "                                                        shuffle=True,\n",
        "                                                        random_state=seed)\n",
        "\n",
        "    (user_ids_training, user_ids_validation,\n",
        "     item_ids_training, item_ids_validation,\n",
        "     interactions_training, interactions_validation) = train_test_split(user_ids_training,\n",
        "                                                              item_ids_training,\n",
        "                                                              interactions_training,\n",
        "                                                              test_size=validation_percentage,\n",
        "                                                             )\n",
        "\n",
        "    urm_train = sp.csr_matrix((interactions_training, (user_ids_training, item_ids_training)),\n",
        "                              shape=(num_users, num_items))\n",
        "\n",
        "    urm_validation = sp.csr_matrix((interactions_validation, (user_ids_validation, item_ids_validation)),\n",
        "                              shape=(num_users, num_items))\n",
        "\n",
        "    urm_test = sp.csr_matrix((interactions_test, (user_ids_test, item_ids_test)),\n",
        "                              shape=(num_users, num_items))\n",
        "\n",
        "\n",
        "\n",
        "    return urm_train, urm_validation, urm_test\n",
        "\n"
      ]
    },
    {
      "cell_type": "code",
      "execution_count": 30,
      "metadata": {
        "id": "_haTw9z74REP"
      },
      "outputs": [],
      "source": [
        "urm_train, urm_validation, urm_test = dataset_splits(interactions,\n",
        "                                                     num_users=12638,\n",
        "                                                     num_items=22222,\n",
        "                                                     validation_percentage=0.15,\n",
        "                                                     testing_percentage=0.15)"
      ]
    },
    {
      "cell_type": "code",
      "execution_count": 19,
      "metadata": {
        "id": "XZm4RgMl6_o4",
        "colab": {
          "base_uri": "https://localhost:8080/"
        },
        "outputId": "3aecd160-fd7c-434d-c076-05c0e2040150"
      },
      "outputs": [
        {
          "output_type": "execute_result",
          "data": {
            "text/plain": [
              "<12638x22222 sparse matrix of type '<class 'numpy.float64'>'\n",
              "\twith 344685 stored elements in Compressed Sparse Row format>"
            ]
          },
          "metadata": {},
          "execution_count": 19
        }
      ],
      "source": [
        "urm_train"
      ]
    },
    {
      "cell_type": "code",
      "execution_count": 20,
      "metadata": {
        "id": "Z22fMerd7DDD",
        "colab": {
          "base_uri": "https://localhost:8080/"
        },
        "outputId": "bf85f19f-1078-4c97-8052-77cb3c4ca8b0"
      },
      "outputs": [
        {
          "output_type": "execute_result",
          "data": {
            "text/plain": [
              "<12638x22222 sparse matrix of type '<class 'numpy.float64'>'\n",
              "\twith 38299 stored elements in Compressed Sparse Row format>"
            ]
          },
          "metadata": {},
          "execution_count": 20
        }
      ],
      "source": [
        "urm_validation"
      ]
    },
    {
      "cell_type": "code",
      "execution_count": 21,
      "metadata": {
        "id": "NXb7krZq7E07",
        "colab": {
          "base_uri": "https://localhost:8080/"
        },
        "outputId": "c128172d-27a5-45a6-cacb-eef7d8f7a898"
      },
      "outputs": [
        {
          "output_type": "execute_result",
          "data": {
            "text/plain": [
              "<12638x22222 sparse matrix of type '<class 'numpy.float64'>'\n",
              "\twith 95746 stored elements in Compressed Sparse Row format>"
            ]
          },
          "metadata": {},
          "execution_count": 21
        }
      ],
      "source": [
        "urm_test"
      ]
    },
    {
      "cell_type": "markdown",
      "metadata": {
        "id": "pBsa9FBgB04S"
      },
      "source": [
        " # Collaborative Filtering\n"
      ]
    },
    {
      "cell_type": "markdown",
      "metadata": {
        "id": "7kxSySlQCCp_"
      },
      "source": [
        "##Item Item Similarity"
      ]
    },
    {
      "cell_type": "code",
      "execution_count": null,
      "metadata": {
        "id": "ed4InxkqBz98"
      },
      "outputs": [],
      "source": [
        "def vector_similarity(urm: sp.csc_matrix, shrink: int):\n",
        "    item_weights = np.sqrt(\n",
        "        np.sum(urm.power(2), axis=0)\n",
        "    ).A.flatten()\n",
        "\n",
        "    num_items = urm.shape[1]\n",
        "    urm_t = urm.T\n",
        "    weights = np.empty(shape=(num_items, num_items))\n",
        "    for item_id in range(num_items):\n",
        "        numerator = urm_t.dot(urm[:, item_id]).A.flatten()\n",
        "        denominator = item_weights[item_id] * item_weights + shrink + 1e-6\n",
        "\n",
        "        weights[item_id] = numerator / denominator\n",
        "    np.fill_diagonal(weights, 0.0)\n",
        "    return weights"
      ]
    },
    {
      "cell_type": "code",
      "execution_count": null,
      "metadata": {
        "id": "PyUUMEfLD74g"
      },
      "outputs": [],
      "source": [
        "urm_csc = urm_train.tocsc()\n",
        "shrink = 5\n",
        "slice_size = 100"
      ]
    },
    {
      "cell_type": "code",
      "execution_count": null,
      "metadata": {
        "id": "JkX4IkX4D0Ev"
      },
      "outputs": [],
      "source": [
        "vector_weights = vector_similarity(urm_csc[:slice_size,:slice_size], shrink)\n",
        "vector_weights"
      ]
    },
    {
      "cell_type": "markdown",
      "metadata": {
        "id": "T2a5fH6yO4jj"
      },
      "source": [
        "#"
      ]
    },
    {
      "cell_type": "markdown",
      "metadata": {
        "id": "H9nAar4i78dQ"
      },
      "source": [
        "#Build the Recommendation System"
      ]
    },
    {
      "cell_type": "code",
      "execution_count": 66,
      "metadata": {
        "id": "hb7DlmAP1exj"
      },
      "outputs": [],
      "source": [
        "class CFItemKNN(object):\n",
        "    def __init__(self, urm: int):\n",
        "        self.urm = urm\n",
        "        self.weights = None\n",
        "\n",
        "\n",
        "    def fit(self, urm_train: sp.csc_matrix, topK, shrink, normalize, similarity):\n",
        "        if not sp.isspmatrix_csc(urm_train):\n",
        "            raise TypeError(f\"We expected a CSC matrix, we got {type(urm_train)}\")\n",
        "\n",
        "        similarity_object = Compute_Similarity_Python(self.urm, shrink=shrink,\n",
        "                                                  topK=topK, normalize=normalize,\n",
        "                                                  similarity = similarity)\n",
        "\n",
        "        self.weights = similarity_object.compute_similarity()\n",
        "\n",
        "    def recommend(self, user_id: int, urm_train: sp.csr_matrix, at: Optional[int] = None, remove_seen: bool = True):\n",
        "        user_profile = urm_train[user_id]\n",
        "\n",
        "        ranking = user_profile.dot(self.weights).flatten()\n",
        "\n",
        "        if remove_seen:\n",
        "            user_profile_start = urm_train.indptr[user_id]\n",
        "            user_profile_end = urm_train.indptr[user_id+1]\n",
        "\n",
        "            seen_items = urm_train.indices[user_profile_start:user_profile_end]\n",
        "\n",
        "            ranking[seen_items] = -np.inf\n",
        "\n",
        "        ranking = np.flip(np.argsort(ranking))\n",
        "        return ranking[:at]"
      ]
    },
    {
      "cell_type": "code",
      "source": [
        "itemknn_recommender = CFItemKNN(shrink=50)\n",
        "itemknn_recommender"
      ],
      "metadata": {
        "id": "tNuGErVSOa-_"
      },
      "execution_count": null,
      "outputs": []
    },
    {
      "cell_type": "code",
      "source": [
        "itemknn_recommender.fit(urm_train.tocsc(), vector_similarity)"
      ],
      "metadata": {
        "id": "NH64CWbHOdis"
      },
      "execution_count": null,
      "outputs": []
    },
    {
      "cell_type": "code",
      "source": [
        "for user_id in range(10):\n",
        "    print(itemknn_recommender.recommend(user_id=user_id, urm_train=urm_train, at=10, remove_seen=True))"
      ],
      "metadata": {
        "id": "ZC_ebyrAOfyC"
      },
      "execution_count": null,
      "outputs": []
    },
    {
      "cell_type": "markdown",
      "source": [
        "## Top popular for the users without info"
      ],
      "metadata": {
        "id": "GqvLoWjYOUXJ"
      }
    },
    {
      "cell_type": "code",
      "execution_count": 47,
      "metadata": {
        "id": "pXwcRW6e5tt4"
      },
      "outputs": [],
      "source": [
        "class TopPopRecommender(object):\n",
        "\n",
        "    def fit(self, URM_train):\n",
        "\n",
        "        item_popularity = np.ediff1d(URM_train.tocsc().indptr)\n",
        "\n",
        "        # We are not interested in sorting the popularity value,\n",
        "        # but to order the items according to it\n",
        "        self.popular_items = np.argsort(item_popularity)\n",
        "        self.popular_items = np.flip(self.popular_items, axis = 0)\n",
        "\n",
        "\n",
        "    def recommend(self, user_id, at=5):\n",
        "\n",
        "        recommended_items = self.popular_items[0:at]\n",
        "\n",
        "        return recommended_items"
      ]
    },
    {
      "cell_type": "markdown",
      "metadata": {
        "id": "--6CuvMqQrIf"
      },
      "source": [
        "#Hyperparameter Tuning\n",
        "\n",
        "\n",
        "*   Number of neighbors\n",
        "\n",
        "*   Shrinking\n",
        "\n",
        "*   Similarity Type\n",
        "\n"
      ]
    },
    {
      "cell_type": "code",
      "source": [],
      "metadata": {
        "colab": {
          "base_uri": "https://localhost:8080/"
        },
        "id": "3FXByZKwwTek",
        "outputId": "e9fb61e8-2720-4625-81ce-cf80b72b3483"
      },
      "execution_count": 57,
      "outputs": [
        {
          "output_type": "stream",
          "name": "stdout",
          "text": [
            "EvaluatorHoldout: Ignoring 2697 (21.3%) Users that have less than 1 test interactions\n",
            "EvaluatorHoldout: Ignoring 2152 (17.0%) Users that have less than 1 test interactions\n"
          ]
        }
      ]
    },
    {
      "cell_type": "code",
      "execution_count": 70,
      "metadata": {
        "id": "xCLT9Q2bhcNv"
      },
      "outputs": [],
      "source": [
        "from Recommenders.KNN.ItemKNNCFRecommender import ItemKNNCFRecommender\n",
        "def objective_function(optuna_trial):\n",
        "\n",
        "    recommender_instance = ItemKNNCFRecommender(urm_train)\n",
        "    recommender_instance.fit(topK = optuna_trial.suggest_int(\"topK\", 5, 1000),\n",
        "                             shrink = optuna_trial.suggest_int(\"shrink\", 0, 1000),\n",
        "                             similarity =  optuna_trial.suggest_categorical(\"similarity\", [\"cosine\", \"jaccard\", \"adjusted\", \"asymmetric\",\"pearson\",  \"dice\" , \"tversky\",  \"tanimoto\"]),\n",
        "                             normalize = optuna_trial.suggest_categorical(\"normalize\", [True, False])\n",
        "                            )\n",
        "\n",
        "    result_df, _ = evaluator_validation.evaluateRecommender(recommender_instance)\n",
        "\n",
        "    return result_df.loc[10][\"MAP\"]"
      ]
    },
    {
      "cell_type": "code",
      "source": [
        "class SaveResults(object):\n",
        "\n",
        "    def __init__(self):\n",
        "        self.results_df = pd.DataFrame()\n",
        "\n",
        "    def __call__(self, optuna_study, optuna_trial):\n",
        "        hyperparam_dict = optuna_trial.params.copy()\n",
        "        hyperparam_dict[\"result\"] = optuna_trial.values[0]\n",
        "\n",
        "        self.results_df = self.results_df.append(hyperparam_dict, ignore_index=True)"
      ],
      "metadata": {
        "id": "EltFJ03Ay2Kg"
      },
      "execution_count": 62,
      "outputs": []
    },
    {
      "cell_type": "code",
      "source": [
        "optuna_study = optuna.create_study(direction=\"maximize\")\n",
        "\n",
        "save_results = SaveResults()\n",
        "\n",
        "optuna_study.optimize(objective_function,\n",
        "                      callbacks=[save_results],\n",
        "                      n_trials = 50)"
      ],
      "metadata": {
        "colab": {
          "base_uri": "https://localhost:8080/"
        },
        "id": "yrbk9COxzmS0",
        "outputId": "58210aee-3ef1-49ab-9d96-19daa5ca0f41"
      },
      "execution_count": 71,
      "outputs": [
        {
          "output_type": "stream",
          "name": "stderr",
          "text": [
            "[I 2023-11-24 15:15:31,893] A new study created in memory with name: no-name-02eef95d-7ab6-4ffa-8887-01dc35f65f2f\n"
          ]
        },
        {
          "output_type": "stream",
          "name": "stdout",
          "text": [
            "ItemKNNCFRecommender: URM Detected 454 ( 3.6%) users with no interactions.\n",
            "ItemKNNCFRecommender: URM Detected 348 ( 1.6%) items with no interactions.\n",
            "Similarity column 22222 (100.0%), 2876.32 column/sec. Elapsed time 7.73 sec\n",
            "EvaluatorHoldout: Processed 9941 (100.0%) in 12.96 sec. Users per second: 767\n"
          ]
        },
        {
          "output_type": "stream",
          "name": "stderr",
          "text": [
            "[I 2023-11-24 15:15:53,131] Trial 0 finished with value: 0.017172029258338415 and parameters: {'topK': 569, 'shrink': 528, 'similarity': 'asymmetric', 'normalize': True}. Best is trial 0 with value: 0.017172029258338415.\n"
          ]
        },
        {
          "output_type": "stream",
          "name": "stdout",
          "text": [
            "ItemKNNCFRecommender: URM Detected 454 ( 3.6%) users with no interactions.\n",
            "ItemKNNCFRecommender: URM Detected 348 ( 1.6%) items with no interactions.\n"
          ]
        },
        {
          "output_type": "stream",
          "name": "stderr",
          "text": [
            "<ipython-input-62-280dc6e6b0e1>:10: FutureWarning: The frame.append method is deprecated and will be removed from pandas in a future version. Use pandas.concat instead.\n",
            "  self.results_df = self.results_df.append(hyperparam_dict, ignore_index=True)\n"
          ]
        },
        {
          "output_type": "stream",
          "name": "stdout",
          "text": [
            "Similarity column 22222 (100.0%), 3996.72 column/sec. Elapsed time 5.56 sec\n",
            "EvaluatorHoldout: Processed 9941 (100.0%) in 5.12 sec. Users per second: 1943\n"
          ]
        },
        {
          "output_type": "stream",
          "name": "stderr",
          "text": [
            "[I 2023-11-24 15:16:05,660] Trial 1 finished with value: 4.8783856499378085e-05 and parameters: {'topK': 158, 'shrink': 507, 'similarity': 'pearson', 'normalize': False}. Best is trial 0 with value: 0.017172029258338415.\n"
          ]
        },
        {
          "output_type": "stream",
          "name": "stdout",
          "text": [
            "ItemKNNCFRecommender: URM Detected 454 ( 3.6%) users with no interactions.\n",
            "ItemKNNCFRecommender: URM Detected 348 ( 1.6%) items with no interactions.\n"
          ]
        },
        {
          "output_type": "stream",
          "name": "stderr",
          "text": [
            "<ipython-input-62-280dc6e6b0e1>:10: FutureWarning: The frame.append method is deprecated and will be removed from pandas in a future version. Use pandas.concat instead.\n",
            "  self.results_df = self.results_df.append(hyperparam_dict, ignore_index=True)\n"
          ]
        },
        {
          "output_type": "stream",
          "name": "stdout",
          "text": [
            "Similarity column 22222 (100.0%), 2972.59 column/sec. Elapsed time 7.48 sec\n",
            "EvaluatorHoldout: Processed 9941 (100.0%) in 13.39 sec. Users per second: 742\n"
          ]
        },
        {
          "output_type": "stream",
          "name": "stderr",
          "text": [
            "[I 2023-11-24 15:16:27,127] Trial 2 finished with value: 0.020821074498269972 and parameters: {'topK': 799, 'shrink': 314, 'similarity': 'dice', 'normalize': False}. Best is trial 2 with value: 0.020821074498269972.\n"
          ]
        },
        {
          "output_type": "stream",
          "name": "stdout",
          "text": [
            "ItemKNNCFRecommender: URM Detected 454 ( 3.6%) users with no interactions.\n",
            "ItemKNNCFRecommender: URM Detected 348 ( 1.6%) items with no interactions.\n"
          ]
        },
        {
          "output_type": "stream",
          "name": "stderr",
          "text": [
            "<ipython-input-62-280dc6e6b0e1>:10: FutureWarning: The frame.append method is deprecated and will be removed from pandas in a future version. Use pandas.concat instead.\n",
            "  self.results_df = self.results_df.append(hyperparam_dict, ignore_index=True)\n"
          ]
        },
        {
          "output_type": "stream",
          "name": "stdout",
          "text": [
            "Similarity column 22222 (100.0%), 3589.02 column/sec. Elapsed time 6.19 sec\n",
            "EvaluatorHoldout: Processed 9941 (100.0%) in 10.27 sec. Users per second: 968\n"
          ]
        },
        {
          "output_type": "stream",
          "name": "stderr",
          "text": [
            "[I 2023-11-24 15:16:43,825] Trial 3 finished with value: 0.02307785378175687 and parameters: {'topK': 125, 'shrink': 711, 'similarity': 'dice', 'normalize': False}. Best is trial 3 with value: 0.02307785378175687.\n"
          ]
        },
        {
          "output_type": "stream",
          "name": "stdout",
          "text": [
            "ItemKNNCFRecommender: URM Detected 454 ( 3.6%) users with no interactions.\n",
            "ItemKNNCFRecommender: URM Detected 348 ( 1.6%) items with no interactions.\n"
          ]
        },
        {
          "output_type": "stream",
          "name": "stderr",
          "text": [
            "<ipython-input-62-280dc6e6b0e1>:10: FutureWarning: The frame.append method is deprecated and will be removed from pandas in a future version. Use pandas.concat instead.\n",
            "  self.results_df = self.results_df.append(hyperparam_dict, ignore_index=True)\n"
          ]
        },
        {
          "output_type": "stream",
          "name": "stdout",
          "text": [
            "Similarity column 22222 (100.0%), 3652.08 column/sec. Elapsed time 6.08 sec\n",
            "EvaluatorHoldout: Processed 9941 (100.0%) in 5.22 sec. Users per second: 1906\n"
          ]
        },
        {
          "output_type": "stream",
          "name": "stderr",
          "text": [
            "[I 2023-11-24 15:16:56,454] Trial 4 finished with value: 4.8783856499378085e-05 and parameters: {'topK': 989, 'shrink': 670, 'similarity': 'pearson', 'normalize': True}. Best is trial 3 with value: 0.02307785378175687.\n"
          ]
        },
        {
          "output_type": "stream",
          "name": "stdout",
          "text": [
            "ItemKNNCFRecommender: URM Detected 454 ( 3.6%) users with no interactions.\n",
            "ItemKNNCFRecommender: URM Detected 348 ( 1.6%) items with no interactions.\n"
          ]
        },
        {
          "output_type": "stream",
          "name": "stderr",
          "text": [
            "<ipython-input-62-280dc6e6b0e1>:10: FutureWarning: The frame.append method is deprecated and will be removed from pandas in a future version. Use pandas.concat instead.\n",
            "  self.results_df = self.results_df.append(hyperparam_dict, ignore_index=True)\n"
          ]
        },
        {
          "output_type": "stream",
          "name": "stdout",
          "text": [
            "Similarity column 22222 (100.0%), 4290.21 column/sec. Elapsed time 5.18 sec\n",
            "EvaluatorHoldout: Processed 9941 (100.0%) in 10.94 sec. Users per second: 909\n"
          ]
        },
        {
          "output_type": "stream",
          "name": "stderr",
          "text": [
            "[I 2023-11-24 15:17:12,864] Trial 5 finished with value: 0.025600195917819854 and parameters: {'topK': 217, 'shrink': 108, 'similarity': 'dice', 'normalize': True}. Best is trial 5 with value: 0.025600195917819854.\n"
          ]
        },
        {
          "output_type": "stream",
          "name": "stdout",
          "text": [
            "ItemKNNCFRecommender: URM Detected 454 ( 3.6%) users with no interactions.\n",
            "ItemKNNCFRecommender: URM Detected 348 ( 1.6%) items with no interactions.\n"
          ]
        },
        {
          "output_type": "stream",
          "name": "stderr",
          "text": [
            "<ipython-input-62-280dc6e6b0e1>:10: FutureWarning: The frame.append method is deprecated and will be removed from pandas in a future version. Use pandas.concat instead.\n",
            "  self.results_df = self.results_df.append(hyperparam_dict, ignore_index=True)\n"
          ]
        },
        {
          "output_type": "stream",
          "name": "stdout",
          "text": [
            "Similarity column 22222 (100.0%), 5060.01 column/sec. Elapsed time 4.39 sec\n",
            "EvaluatorHoldout: Processed 9941 (100.0%) in 14.70 sec. Users per second: 676\n"
          ]
        },
        {
          "output_type": "stream",
          "name": "stderr",
          "text": [
            "[I 2023-11-24 15:17:32,590] Trial 6 finished with value: 0.014091013966529481 and parameters: {'topK': 812, 'shrink': 26, 'similarity': 'cosine', 'normalize': False}. Best is trial 5 with value: 0.025600195917819854.\n"
          ]
        },
        {
          "output_type": "stream",
          "name": "stdout",
          "text": [
            "ItemKNNCFRecommender: URM Detected 454 ( 3.6%) users with no interactions.\n",
            "ItemKNNCFRecommender: URM Detected 348 ( 1.6%) items with no interactions.\n"
          ]
        },
        {
          "output_type": "stream",
          "name": "stderr",
          "text": [
            "<ipython-input-62-280dc6e6b0e1>:10: FutureWarning: The frame.append method is deprecated and will be removed from pandas in a future version. Use pandas.concat instead.\n",
            "  self.results_df = self.results_df.append(hyperparam_dict, ignore_index=True)\n"
          ]
        },
        {
          "output_type": "stream",
          "name": "stdout",
          "text": [
            "Similarity column 22222 (100.0%), 3173.16 column/sec. Elapsed time 7.00 sec\n",
            "EvaluatorHoldout: Processed 9941 (100.0%) in 13.40 sec. Users per second: 742\n"
          ]
        },
        {
          "output_type": "stream",
          "name": "stderr",
          "text": [
            "[I 2023-11-24 15:17:53,689] Trial 7 finished with value: 0.016018042163047627 and parameters: {'topK': 749, 'shrink': 775, 'similarity': 'cosine', 'normalize': True}. Best is trial 5 with value: 0.025600195917819854.\n"
          ]
        },
        {
          "output_type": "stream",
          "name": "stdout",
          "text": [
            "ItemKNNCFRecommender: URM Detected 454 ( 3.6%) users with no interactions.\n",
            "ItemKNNCFRecommender: URM Detected 348 ( 1.6%) items with no interactions.\n"
          ]
        },
        {
          "output_type": "stream",
          "name": "stderr",
          "text": [
            "<ipython-input-62-280dc6e6b0e1>:10: FutureWarning: The frame.append method is deprecated and will be removed from pandas in a future version. Use pandas.concat instead.\n",
            "  self.results_df = self.results_df.append(hyperparam_dict, ignore_index=True)\n"
          ]
        },
        {
          "output_type": "stream",
          "name": "stdout",
          "text": [
            "Similarity column 22222 (100.0%), 3332.98 column/sec. Elapsed time 6.67 sec\n",
            "EvaluatorHoldout: Processed 9941 (100.0%) in 12.03 sec. Users per second: 826\n"
          ]
        },
        {
          "output_type": "stream",
          "name": "stderr",
          "text": [
            "[I 2023-11-24 15:18:12,699] Trial 8 finished with value: 0.02380722053768032 and parameters: {'topK': 240, 'shrink': 300, 'similarity': 'jaccard', 'normalize': False}. Best is trial 5 with value: 0.025600195917819854.\n"
          ]
        },
        {
          "output_type": "stream",
          "name": "stdout",
          "text": [
            "ItemKNNCFRecommender: URM Detected 454 ( 3.6%) users with no interactions.\n",
            "ItemKNNCFRecommender: URM Detected 348 ( 1.6%) items with no interactions.\n"
          ]
        },
        {
          "output_type": "stream",
          "name": "stderr",
          "text": [
            "<ipython-input-62-280dc6e6b0e1>:10: FutureWarning: The frame.append method is deprecated and will be removed from pandas in a future version. Use pandas.concat instead.\n",
            "  self.results_df = self.results_df.append(hyperparam_dict, ignore_index=True)\n"
          ]
        },
        {
          "output_type": "stream",
          "name": "stdout",
          "text": [
            "Similarity column 22222 (100.0%), 3548.60 column/sec. Elapsed time 6.26 sec\n",
            "EvaluatorHoldout: Processed 9941 (100.0%) in 14.55 sec. Users per second: 683\n"
          ]
        },
        {
          "output_type": "stream",
          "name": "stderr",
          "text": [
            "[I 2023-11-24 15:18:34,031] Trial 9 finished with value: 0.016005040852138656 and parameters: {'topK': 855, 'shrink': 743, 'similarity': 'cosine', 'normalize': True}. Best is trial 5 with value: 0.025600195917819854.\n"
          ]
        },
        {
          "output_type": "stream",
          "name": "stdout",
          "text": [
            "ItemKNNCFRecommender: URM Detected 454 ( 3.6%) users with no interactions.\n",
            "ItemKNNCFRecommender: URM Detected 348 ( 1.6%) items with no interactions.\n"
          ]
        },
        {
          "output_type": "stream",
          "name": "stderr",
          "text": [
            "<ipython-input-62-280dc6e6b0e1>:10: FutureWarning: The frame.append method is deprecated and will be removed from pandas in a future version. Use pandas.concat instead.\n",
            "  self.results_df = self.results_df.append(hyperparam_dict, ignore_index=True)\n"
          ]
        },
        {
          "output_type": "stream",
          "name": "stdout",
          "text": [
            "Similarity column 22222 (100.0%), 4711.51 column/sec. Elapsed time 4.72 sec\n",
            "EvaluatorHoldout: Processed 9941 (100.0%) in 12.12 sec. Users per second: 820\n"
          ]
        },
        {
          "output_type": "stream",
          "name": "stderr",
          "text": [
            "[I 2023-11-24 15:18:51,288] Trial 10 finished with value: 0.02593304065414522 and parameters: {'topK': 394, 'shrink': 6, 'similarity': 'tversky', 'normalize': True}. Best is trial 10 with value: 0.02593304065414522.\n"
          ]
        },
        {
          "output_type": "stream",
          "name": "stdout",
          "text": [
            "ItemKNNCFRecommender: URM Detected 454 ( 3.6%) users with no interactions.\n",
            "ItemKNNCFRecommender: URM Detected 348 ( 1.6%) items with no interactions.\n"
          ]
        },
        {
          "output_type": "stream",
          "name": "stderr",
          "text": [
            "<ipython-input-62-280dc6e6b0e1>:10: FutureWarning: The frame.append method is deprecated and will be removed from pandas in a future version. Use pandas.concat instead.\n",
            "  self.results_df = self.results_df.append(hyperparam_dict, ignore_index=True)\n"
          ]
        },
        {
          "output_type": "stream",
          "name": "stdout",
          "text": [
            "Similarity column 22222 (100.0%), 4667.22 column/sec. Elapsed time 4.76 sec\n",
            "EvaluatorHoldout: Processed 9941 (100.0%) in 11.71 sec. Users per second: 849\n"
          ]
        },
        {
          "output_type": "stream",
          "name": "stderr",
          "text": [
            "[I 2023-11-24 15:19:08,166] Trial 11 finished with value: 0.024231896762326382 and parameters: {'topK': 368, 'shrink': 0, 'similarity': 'tversky', 'normalize': True}. Best is trial 10 with value: 0.02593304065414522.\n"
          ]
        },
        {
          "output_type": "stream",
          "name": "stdout",
          "text": [
            "ItemKNNCFRecommender: URM Detected 454 ( 3.6%) users with no interactions.\n",
            "ItemKNNCFRecommender: URM Detected 348 ( 1.6%) items with no interactions.\n"
          ]
        },
        {
          "output_type": "stream",
          "name": "stderr",
          "text": [
            "<ipython-input-62-280dc6e6b0e1>:10: FutureWarning: The frame.append method is deprecated and will be removed from pandas in a future version. Use pandas.concat instead.\n",
            "  self.results_df = self.results_df.append(hyperparam_dict, ignore_index=True)\n"
          ]
        },
        {
          "output_type": "stream",
          "name": "stdout",
          "text": [
            "Similarity column 22222 (100.0%), 5615.35 column/sec. Elapsed time 3.96 sec\n",
            "EvaluatorHoldout: Processed 9941 (100.0%) in 5.27 sec. Users per second: 1886\n"
          ]
        },
        {
          "output_type": "stream",
          "name": "stderr",
          "text": [
            "[I 2023-11-24 15:19:18,515] Trial 12 finished with value: 4.8783856499378085e-05 and parameters: {'topK': 8, 'shrink': 182, 'similarity': 'adjusted', 'normalize': True}. Best is trial 10 with value: 0.02593304065414522.\n"
          ]
        },
        {
          "output_type": "stream",
          "name": "stdout",
          "text": [
            "ItemKNNCFRecommender: URM Detected 454 ( 3.6%) users with no interactions.\n",
            "ItemKNNCFRecommender: URM Detected 348 ( 1.6%) items with no interactions.\n"
          ]
        },
        {
          "output_type": "stream",
          "name": "stderr",
          "text": [
            "<ipython-input-62-280dc6e6b0e1>:10: FutureWarning: The frame.append method is deprecated and will be removed from pandas in a future version. Use pandas.concat instead.\n",
            "  self.results_df = self.results_df.append(hyperparam_dict, ignore_index=True)\n"
          ]
        },
        {
          "output_type": "stream",
          "name": "stdout",
          "text": [
            "Similarity column 22222 (100.0%), 2719.02 column/sec. Elapsed time 8.17 sec\n",
            "EvaluatorHoldout: Processed 9941 (100.0%) in 12.44 sec. Users per second: 799\n"
          ]
        },
        {
          "output_type": "stream",
          "name": "stderr",
          "text": [
            "[I 2023-11-24 15:19:39,530] Trial 13 finished with value: 0.019197184020642452 and parameters: {'topK': 480, 'shrink': 993, 'similarity': 'tversky', 'normalize': True}. Best is trial 10 with value: 0.02593304065414522.\n"
          ]
        },
        {
          "output_type": "stream",
          "name": "stdout",
          "text": [
            "ItemKNNCFRecommender: URM Detected 454 ( 3.6%) users with no interactions.\n",
            "ItemKNNCFRecommender: URM Detected 348 ( 1.6%) items with no interactions.\n"
          ]
        },
        {
          "output_type": "stream",
          "name": "stderr",
          "text": [
            "<ipython-input-62-280dc6e6b0e1>:10: FutureWarning: The frame.append method is deprecated and will be removed from pandas in a future version. Use pandas.concat instead.\n",
            "  self.results_df = self.results_df.append(hyperparam_dict, ignore_index=True)\n"
          ]
        },
        {
          "output_type": "stream",
          "name": "stdout",
          "text": [
            "Similarity column 22222 (100.0%), 3587.71 column/sec. Elapsed time 6.19 sec\n",
            "EvaluatorHoldout: Processed 9941 (100.0%) in 11.96 sec. Users per second: 831\n"
          ]
        },
        {
          "output_type": "stream",
          "name": "stderr",
          "text": [
            "[I 2023-11-24 15:19:58,080] Trial 14 finished with value: 0.024522228768783502 and parameters: {'topK': 342, 'shrink': 161, 'similarity': 'tanimoto', 'normalize': True}. Best is trial 10 with value: 0.02593304065414522.\n"
          ]
        },
        {
          "output_type": "stream",
          "name": "stdout",
          "text": [
            "ItemKNNCFRecommender: URM Detected 454 ( 3.6%) users with no interactions.\n",
            "ItemKNNCFRecommender: URM Detected 348 ( 1.6%) items with no interactions.\n"
          ]
        },
        {
          "output_type": "stream",
          "name": "stderr",
          "text": [
            "<ipython-input-62-280dc6e6b0e1>:10: FutureWarning: The frame.append method is deprecated and will be removed from pandas in a future version. Use pandas.concat instead.\n",
            "  self.results_df = self.results_df.append(hyperparam_dict, ignore_index=True)\n"
          ]
        },
        {
          "output_type": "stream",
          "name": "stdout",
          "text": [
            "Similarity column 22222 (100.0%), 3598.17 column/sec. Elapsed time 6.18 sec\n",
            "EvaluatorHoldout: Processed 9941 (100.0%) in 13.26 sec. Users per second: 750\n"
          ]
        },
        {
          "output_type": "stream",
          "name": "stderr",
          "text": [
            "[I 2023-11-24 15:20:17,999] Trial 15 finished with value: 0.023403209890736257 and parameters: {'topK': 509, 'shrink': 153, 'similarity': 'tversky', 'normalize': True}. Best is trial 10 with value: 0.02593304065414522.\n"
          ]
        },
        {
          "output_type": "stream",
          "name": "stdout",
          "text": [
            "ItemKNNCFRecommender: URM Detected 454 ( 3.6%) users with no interactions.\n",
            "ItemKNNCFRecommender: URM Detected 348 ( 1.6%) items with no interactions.\n"
          ]
        },
        {
          "output_type": "stream",
          "name": "stderr",
          "text": [
            "<ipython-input-62-280dc6e6b0e1>:10: FutureWarning: The frame.append method is deprecated and will be removed from pandas in a future version. Use pandas.concat instead.\n",
            "  self.results_df = self.results_df.append(hyperparam_dict, ignore_index=True)\n"
          ]
        },
        {
          "output_type": "stream",
          "name": "stdout",
          "text": [
            "Similarity column 22222 (100.0%), 4821.06 column/sec. Elapsed time 4.61 sec\n",
            "EvaluatorHoldout: Processed 9941 (100.0%) in 13.42 sec. Users per second: 741\n"
          ]
        },
        {
          "output_type": "stream",
          "name": "stderr",
          "text": [
            "[I 2023-11-24 15:20:36,422] Trial 16 finished with value: 0.02260270117502792 and parameters: {'topK': 357, 'shrink': 344, 'similarity': 'dice', 'normalize': True}. Best is trial 10 with value: 0.02593304065414522.\n"
          ]
        },
        {
          "output_type": "stream",
          "name": "stdout",
          "text": [
            "ItemKNNCFRecommender: URM Detected 454 ( 3.6%) users with no interactions.\n",
            "ItemKNNCFRecommender: URM Detected 348 ( 1.6%) items with no interactions.\n"
          ]
        },
        {
          "output_type": "stream",
          "name": "stderr",
          "text": [
            "<ipython-input-62-280dc6e6b0e1>:10: FutureWarning: The frame.append method is deprecated and will be removed from pandas in a future version. Use pandas.concat instead.\n",
            "  self.results_df = self.results_df.append(hyperparam_dict, ignore_index=True)\n"
          ]
        },
        {
          "output_type": "stream",
          "name": "stdout",
          "text": [
            "Similarity column 22222 (100.0%), 5136.49 column/sec. Elapsed time 4.33 sec\n",
            "EvaluatorHoldout: Processed 9941 (100.0%) in 14.12 sec. Users per second: 704\n"
          ]
        },
        {
          "output_type": "stream",
          "name": "stderr",
          "text": [
            "[I 2023-11-24 15:20:55,381] Trial 17 finished with value: 0.02345636876619678 and parameters: {'topK': 625, 'shrink': 98, 'similarity': 'jaccard', 'normalize': True}. Best is trial 10 with value: 0.02593304065414522.\n"
          ]
        },
        {
          "output_type": "stream",
          "name": "stdout",
          "text": [
            "ItemKNNCFRecommender: URM Detected 454 ( 3.6%) users with no interactions.\n",
            "ItemKNNCFRecommender: URM Detected 348 ( 1.6%) items with no interactions.\n"
          ]
        },
        {
          "output_type": "stream",
          "name": "stderr",
          "text": [
            "<ipython-input-62-280dc6e6b0e1>:10: FutureWarning: The frame.append method is deprecated and will be removed from pandas in a future version. Use pandas.concat instead.\n",
            "  self.results_df = self.results_df.append(hyperparam_dict, ignore_index=True)\n"
          ]
        },
        {
          "output_type": "stream",
          "name": "stdout",
          "text": [
            "Similarity column 22222 (100.0%), 4977.45 column/sec. Elapsed time 4.46 sec\n",
            "EvaluatorHoldout: Processed 9941 (100.0%) in 12.97 sec. Users per second: 766\n"
          ]
        },
        {
          "output_type": "stream",
          "name": "stderr",
          "text": [
            "[I 2023-11-24 15:21:13,079] Trial 18 finished with value: 0.020600076163651233 and parameters: {'topK': 241, 'shrink': 261, 'similarity': 'asymmetric', 'normalize': True}. Best is trial 10 with value: 0.02593304065414522.\n"
          ]
        },
        {
          "output_type": "stream",
          "name": "stdout",
          "text": [
            "ItemKNNCFRecommender: URM Detected 454 ( 3.6%) users with no interactions.\n",
            "ItemKNNCFRecommender: URM Detected 348 ( 1.6%) items with no interactions.\n"
          ]
        },
        {
          "output_type": "stream",
          "name": "stderr",
          "text": [
            "<ipython-input-62-280dc6e6b0e1>:10: FutureWarning: The frame.append method is deprecated and will be removed from pandas in a future version. Use pandas.concat instead.\n",
            "  self.results_df = self.results_df.append(hyperparam_dict, ignore_index=True)\n"
          ]
        },
        {
          "output_type": "stream",
          "name": "stdout",
          "text": [
            "Similarity column 22222 (100.0%), 5495.47 column/sec. Elapsed time 4.04 sec\n",
            "EvaluatorHoldout: Processed 9941 (100.0%) in 6.06 sec. Users per second: 1641\n"
          ]
        },
        {
          "output_type": "stream",
          "name": "stderr",
          "text": [
            "[I 2023-11-24 15:21:23,904] Trial 19 finished with value: 4.8783856499378085e-05 and parameters: {'topK': 13, 'shrink': 392, 'similarity': 'adjusted', 'normalize': True}. Best is trial 10 with value: 0.02593304065414522.\n"
          ]
        },
        {
          "output_type": "stream",
          "name": "stdout",
          "text": [
            "ItemKNNCFRecommender: URM Detected 454 ( 3.6%) users with no interactions.\n",
            "ItemKNNCFRecommender: URM Detected 348 ( 1.6%) items with no interactions.\n"
          ]
        },
        {
          "output_type": "stream",
          "name": "stderr",
          "text": [
            "<ipython-input-62-280dc6e6b0e1>:10: FutureWarning: The frame.append method is deprecated and will be removed from pandas in a future version. Use pandas.concat instead.\n",
            "  self.results_df = self.results_df.append(hyperparam_dict, ignore_index=True)\n"
          ]
        },
        {
          "output_type": "stream",
          "name": "stdout",
          "text": [
            "Similarity column 22222 (100.0%), 3346.48 column/sec. Elapsed time 6.64 sec\n",
            "EvaluatorHoldout: Processed 9941 (100.0%) in 11.74 sec. Users per second: 847\n"
          ]
        },
        {
          "output_type": "stream",
          "name": "stderr",
          "text": [
            "[I 2023-11-24 15:21:42,724] Trial 20 finished with value: 0.02526876827249019 and parameters: {'topK': 417, 'shrink': 69, 'similarity': 'tanimoto', 'normalize': True}. Best is trial 10 with value: 0.02593304065414522.\n"
          ]
        },
        {
          "output_type": "stream",
          "name": "stdout",
          "text": [
            "ItemKNNCFRecommender: URM Detected 454 ( 3.6%) users with no interactions.\n",
            "ItemKNNCFRecommender: URM Detected 348 ( 1.6%) items with no interactions.\n"
          ]
        },
        {
          "output_type": "stream",
          "name": "stderr",
          "text": [
            "<ipython-input-62-280dc6e6b0e1>:10: FutureWarning: The frame.append method is deprecated and will be removed from pandas in a future version. Use pandas.concat instead.\n",
            "  self.results_df = self.results_df.append(hyperparam_dict, ignore_index=True)\n"
          ]
        },
        {
          "output_type": "stream",
          "name": "stdout",
          "text": [
            "Similarity column 22222 (100.0%), 3674.44 column/sec. Elapsed time 6.05 sec\n",
            "EvaluatorHoldout: Processed 9941 (100.0%) in 12.11 sec. Users per second: 821\n"
          ]
        },
        {
          "output_type": "stream",
          "name": "stderr",
          "text": [
            "[I 2023-11-24 15:22:01,327] Trial 21 finished with value: 0.025061214339204472 and parameters: {'topK': 428, 'shrink': 76, 'similarity': 'tanimoto', 'normalize': True}. Best is trial 10 with value: 0.02593304065414522.\n"
          ]
        },
        {
          "output_type": "stream",
          "name": "stdout",
          "text": [
            "ItemKNNCFRecommender: URM Detected 454 ( 3.6%) users with no interactions.\n",
            "ItemKNNCFRecommender: URM Detected 348 ( 1.6%) items with no interactions.\n"
          ]
        },
        {
          "output_type": "stream",
          "name": "stderr",
          "text": [
            "<ipython-input-62-280dc6e6b0e1>:10: FutureWarning: The frame.append method is deprecated and will be removed from pandas in a future version. Use pandas.concat instead.\n",
            "  self.results_df = self.results_df.append(hyperparam_dict, ignore_index=True)\n"
          ]
        },
        {
          "output_type": "stream",
          "name": "stdout",
          "text": [
            "Similarity column 22222 (100.0%), 4109.22 column/sec. Elapsed time 5.41 sec\n",
            "EvaluatorHoldout: Processed 9941 (100.0%) in 11.90 sec. Users per second: 835\n"
          ]
        },
        {
          "output_type": "stream",
          "name": "stderr",
          "text": [
            "[I 2023-11-24 15:22:19,004] Trial 22 finished with value: 0.02464731598973626 and parameters: {'topK': 264, 'shrink': 195, 'similarity': 'tanimoto', 'normalize': True}. Best is trial 10 with value: 0.02593304065414522.\n"
          ]
        },
        {
          "output_type": "stream",
          "name": "stdout",
          "text": [
            "ItemKNNCFRecommender: URM Detected 454 ( 3.6%) users with no interactions.\n",
            "ItemKNNCFRecommender: URM Detected 348 ( 1.6%) items with no interactions.\n"
          ]
        },
        {
          "output_type": "stream",
          "name": "stderr",
          "text": [
            "<ipython-input-62-280dc6e6b0e1>:10: FutureWarning: The frame.append method is deprecated and will be removed from pandas in a future version. Use pandas.concat instead.\n",
            "  self.results_df = self.results_df.append(hyperparam_dict, ignore_index=True)\n"
          ]
        },
        {
          "output_type": "stream",
          "name": "stdout",
          "text": [
            "Similarity column 22222 (100.0%), 4102.33 column/sec. Elapsed time 5.42 sec\n",
            "EvaluatorHoldout: Processed 9941 (100.0%) in 13.90 sec. Users per second: 715\n"
          ]
        },
        {
          "output_type": "stream",
          "name": "stderr",
          "text": [
            "[I 2023-11-24 15:22:38,887] Trial 23 finished with value: 0.02337209775772299 and parameters: {'topK': 659, 'shrink': 70, 'similarity': 'dice', 'normalize': True}. Best is trial 10 with value: 0.02593304065414522.\n"
          ]
        },
        {
          "output_type": "stream",
          "name": "stdout",
          "text": [
            "ItemKNNCFRecommender: URM Detected 454 ( 3.6%) users with no interactions.\n",
            "ItemKNNCFRecommender: URM Detected 348 ( 1.6%) items with no interactions.\n"
          ]
        },
        {
          "output_type": "stream",
          "name": "stderr",
          "text": [
            "<ipython-input-62-280dc6e6b0e1>:10: FutureWarning: The frame.append method is deprecated and will be removed from pandas in a future version. Use pandas.concat instead.\n",
            "  self.results_df = self.results_df.append(hyperparam_dict, ignore_index=True)\n"
          ]
        },
        {
          "output_type": "stream",
          "name": "stdout",
          "text": [
            "Similarity column 22222 (100.0%), 5050.57 column/sec. Elapsed time 4.40 sec\n",
            "EvaluatorHoldout: Processed 9941 (100.0%) in 8.67 sec. Users per second: 1147\n"
          ]
        },
        {
          "output_type": "stream",
          "name": "stderr",
          "text": [
            "[I 2023-11-24 15:22:52,240] Trial 24 finished with value: 0.02761583421552252 and parameters: {'topK': 139, 'shrink': 14, 'similarity': 'tanimoto', 'normalize': True}. Best is trial 24 with value: 0.02761583421552252.\n"
          ]
        },
        {
          "output_type": "stream",
          "name": "stdout",
          "text": [
            "ItemKNNCFRecommender: URM Detected 454 ( 3.6%) users with no interactions.\n",
            "ItemKNNCFRecommender: URM Detected 348 ( 1.6%) items with no interactions.\n"
          ]
        },
        {
          "output_type": "stream",
          "name": "stderr",
          "text": [
            "<ipython-input-62-280dc6e6b0e1>:10: FutureWarning: The frame.append method is deprecated and will be removed from pandas in a future version. Use pandas.concat instead.\n",
            "  self.results_df = self.results_df.append(hyperparam_dict, ignore_index=True)\n"
          ]
        },
        {
          "output_type": "stream",
          "name": "stdout",
          "text": [
            "Similarity column 22222 (100.0%), 3353.44 column/sec. Elapsed time 6.63 sec\n",
            "EvaluatorHoldout: Processed 9941 (100.0%) in 9.67 sec. Users per second: 1028\n"
          ]
        },
        {
          "output_type": "stream",
          "name": "stderr",
          "text": [
            "[I 2023-11-24 15:23:08,805] Trial 25 finished with value: 0.02530825521369738 and parameters: {'topK': 125, 'shrink': 242, 'similarity': 'tversky', 'normalize': True}. Best is trial 24 with value: 0.02761583421552252.\n"
          ]
        },
        {
          "output_type": "stream",
          "name": "stdout",
          "text": [
            "ItemKNNCFRecommender: URM Detected 454 ( 3.6%) users with no interactions.\n",
            "ItemKNNCFRecommender: URM Detected 348 ( 1.6%) items with no interactions.\n"
          ]
        },
        {
          "output_type": "stream",
          "name": "stderr",
          "text": [
            "<ipython-input-62-280dc6e6b0e1>:10: FutureWarning: The frame.append method is deprecated and will be removed from pandas in a future version. Use pandas.concat instead.\n",
            "  self.results_df = self.results_df.append(hyperparam_dict, ignore_index=True)\n"
          ]
        },
        {
          "output_type": "stream",
          "name": "stdout",
          "text": [
            "Similarity column 22222 (100.0%), 3255.72 column/sec. Elapsed time 6.83 sec\n",
            "EvaluatorHoldout: Processed 9941 (100.0%) in 10.87 sec. Users per second: 915\n"
          ]
        },
        {
          "output_type": "stream",
          "name": "stderr",
          "text": [
            "[I 2023-11-24 15:23:26,829] Trial 26 finished with value: 0.023744940386374844 and parameters: {'topK': 186, 'shrink': 402, 'similarity': 'tanimoto', 'normalize': False}. Best is trial 24 with value: 0.02761583421552252.\n"
          ]
        },
        {
          "output_type": "stream",
          "name": "stdout",
          "text": [
            "ItemKNNCFRecommender: URM Detected 454 ( 3.6%) users with no interactions.\n",
            "ItemKNNCFRecommender: URM Detected 348 ( 1.6%) items with no interactions.\n"
          ]
        },
        {
          "output_type": "stream",
          "name": "stderr",
          "text": [
            "<ipython-input-62-280dc6e6b0e1>:10: FutureWarning: The frame.append method is deprecated and will be removed from pandas in a future version. Use pandas.concat instead.\n",
            "  self.results_df = self.results_df.append(hyperparam_dict, ignore_index=True)\n"
          ]
        },
        {
          "output_type": "stream",
          "name": "stdout",
          "text": [
            "Similarity column 22222 (100.0%), 3196.31 column/sec. Elapsed time 6.95 sec\n",
            "EvaluatorHoldout: Processed 9941 (100.0%) in 7.54 sec. Users per second: 1319\n"
          ]
        },
        {
          "output_type": "stream",
          "name": "stderr",
          "text": [
            "[I 2023-11-24 15:23:41,569] Trial 27 finished with value: 0.0278971447412753 and parameters: {'topK': 104, 'shrink': 8, 'similarity': 'tversky', 'normalize': True}. Best is trial 27 with value: 0.0278971447412753.\n"
          ]
        },
        {
          "output_type": "stream",
          "name": "stdout",
          "text": [
            "ItemKNNCFRecommender: URM Detected 454 ( 3.6%) users with no interactions.\n",
            "ItemKNNCFRecommender: URM Detected 348 ( 1.6%) items with no interactions.\n"
          ]
        },
        {
          "output_type": "stream",
          "name": "stderr",
          "text": [
            "<ipython-input-62-280dc6e6b0e1>:10: FutureWarning: The frame.append method is deprecated and will be removed from pandas in a future version. Use pandas.concat instead.\n",
            "  self.results_df = self.results_df.append(hyperparam_dict, ignore_index=True)\n"
          ]
        },
        {
          "output_type": "stream",
          "name": "stdout",
          "text": [
            "Similarity column 22222 (100.0%), 2749.53 column/sec. Elapsed time 8.08 sec\n",
            "EvaluatorHoldout: Processed 9941 (100.0%) in 7.44 sec. Users per second: 1337\n"
          ]
        },
        {
          "output_type": "stream",
          "name": "stderr",
          "text": [
            "[I 2023-11-24 15:23:57,263] Trial 28 finished with value: 0.028057196187666136 and parameters: {'topK': 73, 'shrink': 36, 'similarity': 'tversky', 'normalize': True}. Best is trial 28 with value: 0.028057196187666136.\n"
          ]
        },
        {
          "output_type": "stream",
          "name": "stdout",
          "text": [
            "ItemKNNCFRecommender: URM Detected 454 ( 3.6%) users with no interactions.\n",
            "ItemKNNCFRecommender: URM Detected 348 ( 1.6%) items with no interactions.\n"
          ]
        },
        {
          "output_type": "stream",
          "name": "stderr",
          "text": [
            "<ipython-input-62-280dc6e6b0e1>:10: FutureWarning: The frame.append method is deprecated and will be removed from pandas in a future version. Use pandas.concat instead.\n",
            "  self.results_df = self.results_df.append(hyperparam_dict, ignore_index=True)\n"
          ]
        },
        {
          "output_type": "stream",
          "name": "stdout",
          "text": [
            "Similarity column 22222 (100.0%), 3614.18 column/sec. Elapsed time 6.15 sec\n",
            "EvaluatorHoldout: Processed 9941 (100.0%) in 10.24 sec. Users per second: 971\n"
          ]
        },
        {
          "output_type": "stream",
          "name": "stderr",
          "text": [
            "[I 2023-11-24 15:24:13,800] Trial 29 finished with value: 0.022801046012745036 and parameters: {'topK': 64, 'shrink': 578, 'similarity': 'asymmetric', 'normalize': True}. Best is trial 28 with value: 0.028057196187666136.\n"
          ]
        },
        {
          "output_type": "stream",
          "name": "stdout",
          "text": [
            "ItemKNNCFRecommender: URM Detected 454 ( 3.6%) users with no interactions.\n",
            "ItemKNNCFRecommender: URM Detected 348 ( 1.6%) items with no interactions.\n"
          ]
        },
        {
          "output_type": "stream",
          "name": "stderr",
          "text": [
            "<ipython-input-62-280dc6e6b0e1>:10: FutureWarning: The frame.append method is deprecated and will be removed from pandas in a future version. Use pandas.concat instead.\n",
            "  self.results_df = self.results_df.append(hyperparam_dict, ignore_index=True)\n"
          ]
        },
        {
          "output_type": "stream",
          "name": "stdout",
          "text": [
            "Similarity column 22222 (100.0%), 3681.20 column/sec. Elapsed time 6.04 sec\n",
            "EvaluatorHoldout: Processed 9941 (100.0%) in 10.65 sec. Users per second: 934\n"
          ]
        },
        {
          "output_type": "stream",
          "name": "stderr",
          "text": [
            "[I 2023-11-24 15:24:30,680] Trial 30 finished with value: 0.02314109196641132 and parameters: {'topK': 81, 'shrink': 866, 'similarity': 'tversky', 'normalize': True}. Best is trial 28 with value: 0.028057196187666136.\n"
          ]
        },
        {
          "output_type": "stream",
          "name": "stdout",
          "text": [
            "ItemKNNCFRecommender: URM Detected 454 ( 3.6%) users with no interactions.\n",
            "ItemKNNCFRecommender: URM Detected 348 ( 1.6%) items with no interactions.\n"
          ]
        },
        {
          "output_type": "stream",
          "name": "stderr",
          "text": [
            "<ipython-input-62-280dc6e6b0e1>:10: FutureWarning: The frame.append method is deprecated and will be removed from pandas in a future version. Use pandas.concat instead.\n",
            "  self.results_df = self.results_df.append(hyperparam_dict, ignore_index=True)\n"
          ]
        },
        {
          "output_type": "stream",
          "name": "stdout",
          "text": [
            "Similarity column 22222 (100.0%), 4177.58 column/sec. Elapsed time 5.32 sec\n",
            "EvaluatorHoldout: Processed 9941 (100.0%) in 9.54 sec. Users per second: 1042\n"
          ]
        },
        {
          "output_type": "stream",
          "name": "stderr",
          "text": [
            "[I 2023-11-24 15:24:45,744] Trial 31 finished with value: 0.02803506960910655 and parameters: {'topK': 93, 'shrink': 13, 'similarity': 'tversky', 'normalize': True}. Best is trial 28 with value: 0.028057196187666136.\n"
          ]
        },
        {
          "output_type": "stream",
          "name": "stdout",
          "text": [
            "ItemKNNCFRecommender: URM Detected 454 ( 3.6%) users with no interactions.\n",
            "ItemKNNCFRecommender: URM Detected 348 ( 1.6%) items with no interactions.\n"
          ]
        },
        {
          "output_type": "stream",
          "name": "stderr",
          "text": [
            "<ipython-input-62-280dc6e6b0e1>:10: FutureWarning: The frame.append method is deprecated and will be removed from pandas in a future version. Use pandas.concat instead.\n",
            "  self.results_df = self.results_df.append(hyperparam_dict, ignore_index=True)\n"
          ]
        },
        {
          "output_type": "stream",
          "name": "stdout",
          "text": [
            "Similarity column 22222 (100.0%), 4824.11 column/sec. Elapsed time 4.61 sec\n",
            "EvaluatorHoldout: Processed 9941 (100.0%) in 12.44 sec. Users per second: 799\n"
          ]
        },
        {
          "output_type": "stream",
          "name": "stderr",
          "text": [
            "[I 2023-11-24 15:25:03,123] Trial 32 finished with value: 0.02508362433596315 and parameters: {'topK': 298, 'shrink': 135, 'similarity': 'tversky', 'normalize': True}. Best is trial 28 with value: 0.028057196187666136.\n"
          ]
        },
        {
          "output_type": "stream",
          "name": "stdout",
          "text": [
            "ItemKNNCFRecommender: URM Detected 454 ( 3.6%) users with no interactions.\n",
            "ItemKNNCFRecommender: URM Detected 348 ( 1.6%) items with no interactions.\n"
          ]
        },
        {
          "output_type": "stream",
          "name": "stderr",
          "text": [
            "<ipython-input-62-280dc6e6b0e1>:10: FutureWarning: The frame.append method is deprecated and will be removed from pandas in a future version. Use pandas.concat instead.\n",
            "  self.results_df = self.results_df.append(hyperparam_dict, ignore_index=True)\n"
          ]
        },
        {
          "output_type": "stream",
          "name": "stdout",
          "text": [
            "Similarity column 22222 (100.0%), 4879.29 column/sec. Elapsed time 4.55 sec\n",
            "EvaluatorHoldout: Processed 9941 (100.0%) in 9.67 sec. Users per second: 1028\n"
          ]
        },
        {
          "output_type": "stream",
          "name": "stderr",
          "text": [
            "[I 2023-11-24 15:25:17,514] Trial 33 finished with value: 0.025299644888972028 and parameters: {'topK': 80, 'shrink': 0, 'similarity': 'tversky', 'normalize': True}. Best is trial 28 with value: 0.028057196187666136.\n"
          ]
        },
        {
          "output_type": "stream",
          "name": "stdout",
          "text": [
            "ItemKNNCFRecommender: URM Detected 454 ( 3.6%) users with no interactions.\n",
            "ItemKNNCFRecommender: URM Detected 348 ( 1.6%) items with no interactions.\n"
          ]
        },
        {
          "output_type": "stream",
          "name": "stderr",
          "text": [
            "<ipython-input-62-280dc6e6b0e1>:10: FutureWarning: The frame.append method is deprecated and will be removed from pandas in a future version. Use pandas.concat instead.\n",
            "  self.results_df = self.results_df.append(hyperparam_dict, ignore_index=True)\n"
          ]
        },
        {
          "output_type": "stream",
          "name": "stdout",
          "text": [
            "Similarity column 22222 (100.0%), 5995.97 column/sec. Elapsed time 3.71 sec\n",
            "EvaluatorHoldout: Processed 9941 (100.0%) in 5.25 sec. Users per second: 1892\n"
          ]
        },
        {
          "output_type": "stream",
          "name": "stderr",
          "text": [
            "[I 2023-11-24 15:25:27,212] Trial 34 finished with value: 4.8783856499378085e-05 and parameters: {'topK': 158, 'shrink': 224, 'similarity': 'pearson', 'normalize': False}. Best is trial 28 with value: 0.028057196187666136.\n"
          ]
        },
        {
          "output_type": "stream",
          "name": "stdout",
          "text": [
            "ItemKNNCFRecommender: URM Detected 454 ( 3.6%) users with no interactions.\n",
            "ItemKNNCFRecommender: URM Detected 348 ( 1.6%) items with no interactions.\n"
          ]
        },
        {
          "output_type": "stream",
          "name": "stderr",
          "text": [
            "<ipython-input-62-280dc6e6b0e1>:10: FutureWarning: The frame.append method is deprecated and will be removed from pandas in a future version. Use pandas.concat instead.\n",
            "  self.results_df = self.results_df.append(hyperparam_dict, ignore_index=True)\n"
          ]
        },
        {
          "output_type": "stream",
          "name": "stdout",
          "text": [
            "Similarity column 22222 (100.0%), 2842.35 column/sec. Elapsed time 7.82 sec\n",
            "EvaluatorHoldout: Processed 9941 (100.0%) in 8.07 sec. Users per second: 1231\n"
          ]
        },
        {
          "output_type": "stream",
          "name": "stderr",
          "text": [
            "[I 2023-11-24 15:25:43,375] Trial 35 finished with value: 0.027102939086642984 and parameters: {'topK': 128, 'shrink': 54, 'similarity': 'tversky', 'normalize': True}. Best is trial 28 with value: 0.028057196187666136.\n"
          ]
        },
        {
          "output_type": "stream",
          "name": "stdout",
          "text": [
            "ItemKNNCFRecommender: URM Detected 454 ( 3.6%) users with no interactions.\n",
            "ItemKNNCFRecommender: URM Detected 348 ( 1.6%) items with no interactions.\n"
          ]
        },
        {
          "output_type": "stream",
          "name": "stderr",
          "text": [
            "<ipython-input-62-280dc6e6b0e1>:10: FutureWarning: The frame.append method is deprecated and will be removed from pandas in a future version. Use pandas.concat instead.\n",
            "  self.results_df = self.results_df.append(hyperparam_dict, ignore_index=True)\n"
          ]
        },
        {
          "output_type": "stream",
          "name": "stdout",
          "text": [
            "Similarity column 22222 (100.0%), 2883.57 column/sec. Elapsed time 7.71 sec\n",
            "EvaluatorHoldout: Processed 9941 (100.0%) in 8.00 sec. Users per second: 1243\n"
          ]
        },
        {
          "output_type": "stream",
          "name": "stderr",
          "text": [
            "[I 2023-11-24 15:25:59,247] Trial 36 finished with value: 0.026816095918298956 and parameters: {'topK': 55, 'shrink': 122, 'similarity': 'tversky', 'normalize': False}. Best is trial 28 with value: 0.028057196187666136.\n"
          ]
        },
        {
          "output_type": "stream",
          "name": "stdout",
          "text": [
            "ItemKNNCFRecommender: URM Detected 454 ( 3.6%) users with no interactions.\n",
            "ItemKNNCFRecommender: URM Detected 348 ( 1.6%) items with no interactions.\n"
          ]
        },
        {
          "output_type": "stream",
          "name": "stderr",
          "text": [
            "<ipython-input-62-280dc6e6b0e1>:10: FutureWarning: The frame.append method is deprecated and will be removed from pandas in a future version. Use pandas.concat instead.\n",
            "  self.results_df = self.results_df.append(hyperparam_dict, ignore_index=True)\n"
          ]
        },
        {
          "output_type": "stream",
          "name": "stdout",
          "text": [
            "Similarity column 22222 (100.0%), 3970.14 column/sec. Elapsed time 5.60 sec\n",
            "EvaluatorHoldout: Processed 9941 (100.0%) in 6.78 sec. Users per second: 1467\n"
          ]
        },
        {
          "output_type": "stream",
          "name": "stderr",
          "text": [
            "[I 2023-11-24 15:26:12,362] Trial 37 finished with value: 4.8783856499378085e-05 and parameters: {'topK': 191, 'shrink': 609, 'similarity': 'pearson', 'normalize': True}. Best is trial 28 with value: 0.028057196187666136.\n"
          ]
        },
        {
          "output_type": "stream",
          "name": "stdout",
          "text": [
            "ItemKNNCFRecommender: URM Detected 454 ( 3.6%) users with no interactions.\n",
            "ItemKNNCFRecommender: URM Detected 348 ( 1.6%) items with no interactions.\n"
          ]
        },
        {
          "output_type": "stream",
          "name": "stderr",
          "text": [
            "<ipython-input-62-280dc6e6b0e1>:10: FutureWarning: The frame.append method is deprecated and will be removed from pandas in a future version. Use pandas.concat instead.\n",
            "  self.results_df = self.results_df.append(hyperparam_dict, ignore_index=True)\n"
          ]
        },
        {
          "output_type": "stream",
          "name": "stdout",
          "text": [
            "Similarity column 22222 (100.0%), 4732.53 column/sec. Elapsed time 4.70 sec\n",
            "EvaluatorHoldout: Processed 9941 (100.0%) in 11.99 sec. Users per second: 829\n"
          ]
        },
        {
          "output_type": "stream",
          "name": "stderr",
          "text": [
            "[I 2023-11-24 15:26:29,356] Trial 38 finished with value: 0.026148047288526148 and parameters: {'topK': 297, 'shrink': 51, 'similarity': 'tversky', 'normalize': True}. Best is trial 28 with value: 0.028057196187666136.\n"
          ]
        },
        {
          "output_type": "stream",
          "name": "stdout",
          "text": [
            "ItemKNNCFRecommender: URM Detected 454 ( 3.6%) users with no interactions.\n",
            "ItemKNNCFRecommender: URM Detected 348 ( 1.6%) items with no interactions.\n"
          ]
        },
        {
          "output_type": "stream",
          "name": "stderr",
          "text": [
            "<ipython-input-62-280dc6e6b0e1>:10: FutureWarning: The frame.append method is deprecated and will be removed from pandas in a future version. Use pandas.concat instead.\n",
            "  self.results_df = self.results_df.append(hyperparam_dict, ignore_index=True)\n"
          ]
        },
        {
          "output_type": "stream",
          "name": "stdout",
          "text": [
            "Similarity column 22222 (100.0%), 5403.49 column/sec. Elapsed time 4.11 sec\n",
            "EvaluatorHoldout: Processed 9941 (100.0%) in 10.51 sec. Users per second: 945\n"
          ]
        },
        {
          "output_type": "stream",
          "name": "stderr",
          "text": [
            "[I 2023-11-24 15:26:44,198] Trial 39 finished with value: 0.02622623877703848 and parameters: {'topK': 129, 'shrink': 116, 'similarity': 'jaccard', 'normalize': False}. Best is trial 28 with value: 0.028057196187666136.\n"
          ]
        },
        {
          "output_type": "stream",
          "name": "stdout",
          "text": [
            "ItemKNNCFRecommender: URM Detected 454 ( 3.6%) users with no interactions.\n",
            "ItemKNNCFRecommender: URM Detected 348 ( 1.6%) items with no interactions.\n"
          ]
        },
        {
          "output_type": "stream",
          "name": "stderr",
          "text": [
            "<ipython-input-62-280dc6e6b0e1>:10: FutureWarning: The frame.append method is deprecated and will be removed from pandas in a future version. Use pandas.concat instead.\n",
            "  self.results_df = self.results_df.append(hyperparam_dict, ignore_index=True)\n"
          ]
        },
        {
          "output_type": "stream",
          "name": "stdout",
          "text": [
            "Similarity column 22222 (100.0%), 5647.18 column/sec. Elapsed time 3.94 sec\n",
            "EvaluatorHoldout: Processed 9941 (100.0%) in 5.25 sec. Users per second: 1893\n"
          ]
        },
        {
          "output_type": "stream",
          "name": "stderr",
          "text": [
            "[I 2023-11-24 15:26:54,240] Trial 40 finished with value: 4.8783856499378085e-05 and parameters: {'topK': 43, 'shrink': 504, 'similarity': 'adjusted', 'normalize': True}. Best is trial 28 with value: 0.028057196187666136.\n"
          ]
        },
        {
          "output_type": "stream",
          "name": "stdout",
          "text": [
            "ItemKNNCFRecommender: URM Detected 454 ( 3.6%) users with no interactions.\n",
            "ItemKNNCFRecommender: URM Detected 348 ( 1.6%) items with no interactions.\n"
          ]
        },
        {
          "output_type": "stream",
          "name": "stderr",
          "text": [
            "<ipython-input-62-280dc6e6b0e1>:10: FutureWarning: The frame.append method is deprecated and will be removed from pandas in a future version. Use pandas.concat instead.\n",
            "  self.results_df = self.results_df.append(hyperparam_dict, ignore_index=True)\n"
          ]
        },
        {
          "output_type": "stream",
          "name": "stdout",
          "text": [
            "Similarity column 22222 (100.0%), 2744.64 column/sec. Elapsed time 8.10 sec\n",
            "EvaluatorHoldout: Processed 9941 (100.0%) in 8.14 sec. Users per second: 1221\n"
          ]
        },
        {
          "output_type": "stream",
          "name": "stderr",
          "text": [
            "[I 2023-11-24 15:27:10,697] Trial 41 finished with value: 0.026903728027106024 and parameters: {'topK': 139, 'shrink': 60, 'similarity': 'tversky', 'normalize': True}. Best is trial 28 with value: 0.028057196187666136.\n"
          ]
        },
        {
          "output_type": "stream",
          "name": "stdout",
          "text": [
            "ItemKNNCFRecommender: URM Detected 454 ( 3.6%) users with no interactions.\n",
            "ItemKNNCFRecommender: URM Detected 348 ( 1.6%) items with no interactions.\n"
          ]
        },
        {
          "output_type": "stream",
          "name": "stderr",
          "text": [
            "<ipython-input-62-280dc6e6b0e1>:10: FutureWarning: The frame.append method is deprecated and will be removed from pandas in a future version. Use pandas.concat instead.\n",
            "  self.results_df = self.results_df.append(hyperparam_dict, ignore_index=True)\n"
          ]
        },
        {
          "output_type": "stream",
          "name": "stdout",
          "text": [
            "Similarity column 22222 (100.0%), 3006.98 column/sec. Elapsed time 7.39 sec\n",
            "EvaluatorHoldout: Processed 9941 (100.0%) in 8.28 sec. Users per second: 1200\n"
          ]
        },
        {
          "output_type": "stream",
          "name": "stderr",
          "text": [
            "[I 2023-11-24 15:27:26,579] Trial 42 finished with value: 0.02745561910510113 and parameters: {'topK': 109, 'shrink': 40, 'similarity': 'tversky', 'normalize': True}. Best is trial 28 with value: 0.028057196187666136.\n"
          ]
        },
        {
          "output_type": "stream",
          "name": "stdout",
          "text": [
            "ItemKNNCFRecommender: URM Detected 454 ( 3.6%) users with no interactions.\n",
            "ItemKNNCFRecommender: URM Detected 348 ( 1.6%) items with no interactions.\n"
          ]
        },
        {
          "output_type": "stream",
          "name": "stderr",
          "text": [
            "<ipython-input-62-280dc6e6b0e1>:10: FutureWarning: The frame.append method is deprecated and will be removed from pandas in a future version. Use pandas.concat instead.\n",
            "  self.results_df = self.results_df.append(hyperparam_dict, ignore_index=True)\n"
          ]
        },
        {
          "output_type": "stream",
          "name": "stdout",
          "text": [
            "Similarity column 22222 (100.0%), 3836.59 column/sec. Elapsed time 5.79 sec\n",
            "EvaluatorHoldout: Processed 9941 (100.0%) in 9.64 sec. Users per second: 1031\n"
          ]
        },
        {
          "output_type": "stream",
          "name": "stderr",
          "text": [
            "[I 2023-11-24 15:27:42,294] Trial 43 finished with value: 0.026697858635792503 and parameters: {'topK': 181, 'shrink': 2, 'similarity': 'tversky', 'normalize': True}. Best is trial 28 with value: 0.028057196187666136.\n"
          ]
        },
        {
          "output_type": "stream",
          "name": "stdout",
          "text": [
            "ItemKNNCFRecommender: URM Detected 454 ( 3.6%) users with no interactions.\n",
            "ItemKNNCFRecommender: URM Detected 348 ( 1.6%) items with no interactions.\n"
          ]
        },
        {
          "output_type": "stream",
          "name": "stderr",
          "text": [
            "<ipython-input-62-280dc6e6b0e1>:10: FutureWarning: The frame.append method is deprecated and will be removed from pandas in a future version. Use pandas.concat instead.\n",
            "  self.results_df = self.results_df.append(hyperparam_dict, ignore_index=True)\n"
          ]
        },
        {
          "output_type": "stream",
          "name": "stdout",
          "text": [
            "Similarity column 22222 (100.0%), 5218.03 column/sec. Elapsed time 4.26 sec\n",
            "EvaluatorHoldout: Processed 9941 (100.0%) in 11.47 sec. Users per second: 867\n"
          ]
        },
        {
          "output_type": "stream",
          "name": "stderr",
          "text": [
            "[I 2023-11-24 15:27:58,160] Trial 44 finished with value: 0.024479676120859075 and parameters: {'topK': 85, 'shrink': 202, 'similarity': 'cosine', 'normalize': True}. Best is trial 28 with value: 0.028057196187666136.\n"
          ]
        },
        {
          "output_type": "stream",
          "name": "stdout",
          "text": [
            "ItemKNNCFRecommender: URM Detected 454 ( 3.6%) users with no interactions.\n",
            "ItemKNNCFRecommender: URM Detected 348 ( 1.6%) items with no interactions.\n"
          ]
        },
        {
          "output_type": "stream",
          "name": "stderr",
          "text": [
            "<ipython-input-62-280dc6e6b0e1>:10: FutureWarning: The frame.append method is deprecated and will be removed from pandas in a future version. Use pandas.concat instead.\n",
            "  self.results_df = self.results_df.append(hyperparam_dict, ignore_index=True)\n"
          ]
        },
        {
          "output_type": "stream",
          "name": "stdout",
          "text": [
            "Similarity column 22222 (100.0%), 4838.77 column/sec. Elapsed time 4.59 sec\n",
            "EvaluatorHoldout: Processed 9941 (100.0%) in 11.28 sec. Users per second: 881\n"
          ]
        },
        {
          "output_type": "stream",
          "name": "stderr",
          "text": [
            "[I 2023-11-24 15:28:14,297] Trial 45 finished with value: 0.026886990386135408 and parameters: {'topK': 216, 'shrink': 38, 'similarity': 'tversky', 'normalize': True}. Best is trial 28 with value: 0.028057196187666136.\n"
          ]
        },
        {
          "output_type": "stream",
          "name": "stdout",
          "text": [
            "ItemKNNCFRecommender: URM Detected 454 ( 3.6%) users with no interactions.\n",
            "ItemKNNCFRecommender: URM Detected 348 ( 1.6%) items with no interactions.\n"
          ]
        },
        {
          "output_type": "stream",
          "name": "stderr",
          "text": [
            "<ipython-input-62-280dc6e6b0e1>:10: FutureWarning: The frame.append method is deprecated and will be removed from pandas in a future version. Use pandas.concat instead.\n",
            "  self.results_df = self.results_df.append(hyperparam_dict, ignore_index=True)\n"
          ]
        },
        {
          "output_type": "stream",
          "name": "stdout",
          "text": [
            "Similarity column 22222 (100.0%), 5080.77 column/sec. Elapsed time 4.37 sec\n",
            "EvaluatorHoldout: Processed 9941 (100.0%) in 11.78 sec. Users per second: 844\n"
          ]
        },
        {
          "output_type": "stream",
          "name": "stderr",
          "text": [
            "[I 2023-11-24 15:28:30,605] Trial 46 finished with value: 0.024709129099784 and parameters: {'topK': 107, 'shrink': 113, 'similarity': 'asymmetric', 'normalize': True}. Best is trial 28 with value: 0.028057196187666136.\n"
          ]
        },
        {
          "output_type": "stream",
          "name": "stdout",
          "text": [
            "ItemKNNCFRecommender: URM Detected 454 ( 3.6%) users with no interactions.\n",
            "ItemKNNCFRecommender: URM Detected 348 ( 1.6%) items with no interactions.\n"
          ]
        },
        {
          "output_type": "stream",
          "name": "stderr",
          "text": [
            "<ipython-input-62-280dc6e6b0e1>:10: FutureWarning: The frame.append method is deprecated and will be removed from pandas in a future version. Use pandas.concat instead.\n",
            "  self.results_df = self.results_df.append(hyperparam_dict, ignore_index=True)\n"
          ]
        },
        {
          "output_type": "stream",
          "name": "stdout",
          "text": [
            "Similarity column 22222 (100.0%), 5463.76 column/sec. Elapsed time 4.07 sec\n",
            "EvaluatorHoldout: Processed 9941 (100.0%) in 7.06 sec. Users per second: 1407\n"
          ]
        },
        {
          "output_type": "stream",
          "name": "stderr",
          "text": [
            "[I 2023-11-24 15:28:41,862] Trial 47 finished with value: 0.025427226988438145 and parameters: {'topK': 5, 'shrink': 152, 'similarity': 'tanimoto', 'normalize': False}. Best is trial 28 with value: 0.028057196187666136.\n"
          ]
        },
        {
          "output_type": "stream",
          "name": "stdout",
          "text": [
            "ItemKNNCFRecommender: URM Detected 454 ( 3.6%) users with no interactions.\n",
            "ItemKNNCFRecommender: URM Detected 348 ( 1.6%) items with no interactions.\n"
          ]
        },
        {
          "output_type": "stream",
          "name": "stderr",
          "text": [
            "<ipython-input-62-280dc6e6b0e1>:10: FutureWarning: The frame.append method is deprecated and will be removed from pandas in a future version. Use pandas.concat instead.\n",
            "  self.results_df = self.results_df.append(hyperparam_dict, ignore_index=True)\n"
          ]
        },
        {
          "output_type": "stream",
          "name": "stdout",
          "text": [
            "Similarity column 22222 (100.0%), 3273.25 column/sec. Elapsed time 6.79 sec\n",
            "EvaluatorHoldout: Processed 9941 (100.0%) in 12.24 sec. Users per second: 812\n"
          ]
        },
        {
          "output_type": "stream",
          "name": "stderr",
          "text": [
            "[I 2023-11-24 15:29:01,251] Trial 48 finished with value: 0.02263621637502538 and parameters: {'topK': 281, 'shrink': 450, 'similarity': 'tversky', 'normalize': True}. Best is trial 28 with value: 0.028057196187666136.\n"
          ]
        },
        {
          "output_type": "stream",
          "name": "stdout",
          "text": [
            "ItemKNNCFRecommender: URM Detected 454 ( 3.6%) users with no interactions.\n",
            "ItemKNNCFRecommender: URM Detected 348 ( 1.6%) items with no interactions.\n"
          ]
        },
        {
          "output_type": "stream",
          "name": "stderr",
          "text": [
            "<ipython-input-62-280dc6e6b0e1>:10: FutureWarning: The frame.append method is deprecated and will be removed from pandas in a future version. Use pandas.concat instead.\n",
            "  self.results_df = self.results_df.append(hyperparam_dict, ignore_index=True)\n"
          ]
        },
        {
          "output_type": "stream",
          "name": "stdout",
          "text": [
            "Similarity column 22222 (100.0%), 3948.49 column/sec. Elapsed time 5.63 sec\n",
            "EvaluatorHoldout: Processed 9941 (100.0%) in 12.14 sec. Users per second: 819\n"
          ]
        },
        {
          "output_type": "stream",
          "name": "stderr",
          "text": [
            "[I 2023-11-24 15:29:19,319] Trial 49 finished with value: 0.021037490240035272 and parameters: {'topK': 220, 'shrink': 297, 'similarity': 'cosine', 'normalize': True}. Best is trial 28 with value: 0.028057196187666136.\n",
            "<ipython-input-62-280dc6e6b0e1>:10: FutureWarning: The frame.append method is deprecated and will be removed from pandas in a future version. Use pandas.concat instead.\n",
            "  self.results_df = self.results_df.append(hyperparam_dict, ignore_index=True)\n"
          ]
        }
      ]
    },
    {
      "cell_type": "code",
      "source": [
        "optuna_study.best_trial.params"
      ],
      "metadata": {
        "colab": {
          "base_uri": "https://localhost:8080/"
        },
        "id": "IYtZY_sO88nf",
        "outputId": "ac2ce237-d9a5-44ad-b917-cc64fd5996e3"
      },
      "execution_count": 72,
      "outputs": [
        {
          "output_type": "execute_result",
          "data": {
            "text/plain": [
              "{'topK': 73, 'shrink': 36, 'similarity': 'tversky', 'normalize': True}"
            ]
          },
          "metadata": {},
          "execution_count": 72
        }
      ]
    },
    {
      "cell_type": "code",
      "source": [
        "recommender_instance = ItemKNNCFRecommender(urm_train + urm_validation)\n",
        "recommender_instance.fit(**optuna_study.best_trial.params)\n",
        "\n",
        "result_df, _ = evaluator_test.evaluateRecommender(recommender_instance)\n",
        "result_df"
      ],
      "metadata": {
        "colab": {
          "base_uri": "https://localhost:8080/",
          "height": 202
        },
        "id": "R-hl3tAj9FbE",
        "outputId": "24d04c33-ab99-4609-ec61-2b22eafa7479"
      },
      "execution_count": 73,
      "outputs": [
        {
          "output_type": "stream",
          "name": "stdout",
          "text": [
            "ItemKNNCFRecommender: URM Detected 230 ( 1.8%) users with no interactions.\n",
            "ItemKNNCFRecommender: URM Detected 93 ( 0.4%) items with no interactions.\n",
            "Similarity column 22222 (100.0%), 3723.03 column/sec. Elapsed time 5.97 sec\n",
            "EvaluatorHoldout: Processed 10486 (100.0%) in 10.01 sec. Users per second: 1048\n"
          ]
        },
        {
          "output_type": "execute_result",
          "data": {
            "text/plain": [
              "       PRECISION PRECISION_RECALL_MIN_DEN  ... RATIO_AVERAGE_POPULARITY RATIO_NOVELTY\n",
              "cutoff                                     ...                                       \n",
              "10      0.082348                 0.146702  ...                 2.082066      0.279549\n",
              "\n",
              "[1 rows x 27 columns]"
            ],
            "text/html": [
              "\n",
              "  <div id=\"df-ba9d42cb-4648-4f72-bc8d-8e97a3cedadd\" class=\"colab-df-container\">\n",
              "    <div>\n",
              "<style scoped>\n",
              "    .dataframe tbody tr th:only-of-type {\n",
              "        vertical-align: middle;\n",
              "    }\n",
              "\n",
              "    .dataframe tbody tr th {\n",
              "        vertical-align: top;\n",
              "    }\n",
              "\n",
              "    .dataframe thead th {\n",
              "        text-align: right;\n",
              "    }\n",
              "</style>\n",
              "<table border=\"1\" class=\"dataframe\">\n",
              "  <thead>\n",
              "    <tr style=\"text-align: right;\">\n",
              "      <th></th>\n",
              "      <th>PRECISION</th>\n",
              "      <th>PRECISION_RECALL_MIN_DEN</th>\n",
              "      <th>RECALL</th>\n",
              "      <th>MAP</th>\n",
              "      <th>MAP_MIN_DEN</th>\n",
              "      <th>MRR</th>\n",
              "      <th>NDCG</th>\n",
              "      <th>F1</th>\n",
              "      <th>HIT_RATE</th>\n",
              "      <th>ARHR_ALL_HITS</th>\n",
              "      <th>NOVELTY</th>\n",
              "      <th>AVERAGE_POPULARITY</th>\n",
              "      <th>DIVERSITY_MEAN_INTER_LIST</th>\n",
              "      <th>DIVERSITY_HERFINDAHL</th>\n",
              "      <th>COVERAGE_ITEM</th>\n",
              "      <th>COVERAGE_ITEM_HIT</th>\n",
              "      <th>ITEMS_IN_GT</th>\n",
              "      <th>COVERAGE_USER</th>\n",
              "      <th>COVERAGE_USER_HIT</th>\n",
              "      <th>USERS_IN_GT</th>\n",
              "      <th>DIVERSITY_GINI</th>\n",
              "      <th>SHANNON_ENTROPY</th>\n",
              "      <th>RATIO_DIVERSITY_HERFINDAHL</th>\n",
              "      <th>RATIO_DIVERSITY_GINI</th>\n",
              "      <th>RATIO_SHANNON_ENTROPY</th>\n",
              "      <th>RATIO_AVERAGE_POPULARITY</th>\n",
              "      <th>RATIO_NOVELTY</th>\n",
              "    </tr>\n",
              "    <tr>\n",
              "      <th>cutoff</th>\n",
              "      <th></th>\n",
              "      <th></th>\n",
              "      <th></th>\n",
              "      <th></th>\n",
              "      <th></th>\n",
              "      <th></th>\n",
              "      <th></th>\n",
              "      <th></th>\n",
              "      <th></th>\n",
              "      <th></th>\n",
              "      <th></th>\n",
              "      <th></th>\n",
              "      <th></th>\n",
              "      <th></th>\n",
              "      <th></th>\n",
              "      <th></th>\n",
              "      <th></th>\n",
              "      <th></th>\n",
              "      <th></th>\n",
              "      <th></th>\n",
              "      <th></th>\n",
              "      <th></th>\n",
              "      <th></th>\n",
              "      <th></th>\n",
              "      <th></th>\n",
              "      <th></th>\n",
              "      <th></th>\n",
              "    </tr>\n",
              "  </thead>\n",
              "  <tbody>\n",
              "    <tr>\n",
              "      <th>10</th>\n",
              "      <td>0.082348</td>\n",
              "      <td>0.146702</td>\n",
              "      <td>0.123929</td>\n",
              "      <td>0.041817</td>\n",
              "      <td>0.07281</td>\n",
              "      <td>0.242712</td>\n",
              "      <td>0.132591</td>\n",
              "      <td>0.098947</td>\n",
              "      <td>0.475682</td>\n",
              "      <td>0.315258</td>\n",
              "      <td>0.004948</td>\n",
              "      <td>0.265236</td>\n",
              "      <td>0.960099</td>\n",
              "      <td>0.996001</td>\n",
              "      <td>0.307668</td>\n",
              "      <td>0.076636</td>\n",
              "      <td>0.801548</td>\n",
              "      <td>0.82972</td>\n",
              "      <td>0.394683</td>\n",
              "      <td>0.82972</td>\n",
              "      <td>0.047566</td>\n",
              "      <td>9.711469</td>\n",
              "      <td>0.996361</td>\n",
              "      <td>0.13656</td>\n",
              "      <td>0.748157</td>\n",
              "      <td>2.082066</td>\n",
              "      <td>0.279549</td>\n",
              "    </tr>\n",
              "  </tbody>\n",
              "</table>\n",
              "</div>\n",
              "    <div class=\"colab-df-buttons\">\n",
              "\n",
              "  <div class=\"colab-df-container\">\n",
              "    <button class=\"colab-df-convert\" onclick=\"convertToInteractive('df-ba9d42cb-4648-4f72-bc8d-8e97a3cedadd')\"\n",
              "            title=\"Convert this dataframe to an interactive table.\"\n",
              "            style=\"display:none;\">\n",
              "\n",
              "  <svg xmlns=\"http://www.w3.org/2000/svg\" height=\"24px\" viewBox=\"0 -960 960 960\">\n",
              "    <path d=\"M120-120v-720h720v720H120Zm60-500h600v-160H180v160Zm220 220h160v-160H400v160Zm0 220h160v-160H400v160ZM180-400h160v-160H180v160Zm440 0h160v-160H620v160ZM180-180h160v-160H180v160Zm440 0h160v-160H620v160Z\"/>\n",
              "  </svg>\n",
              "    </button>\n",
              "\n",
              "  <style>\n",
              "    .colab-df-container {\n",
              "      display:flex;\n",
              "      gap: 12px;\n",
              "    }\n",
              "\n",
              "    .colab-df-convert {\n",
              "      background-color: #E8F0FE;\n",
              "      border: none;\n",
              "      border-radius: 50%;\n",
              "      cursor: pointer;\n",
              "      display: none;\n",
              "      fill: #1967D2;\n",
              "      height: 32px;\n",
              "      padding: 0 0 0 0;\n",
              "      width: 32px;\n",
              "    }\n",
              "\n",
              "    .colab-df-convert:hover {\n",
              "      background-color: #E2EBFA;\n",
              "      box-shadow: 0px 1px 2px rgba(60, 64, 67, 0.3), 0px 1px 3px 1px rgba(60, 64, 67, 0.15);\n",
              "      fill: #174EA6;\n",
              "    }\n",
              "\n",
              "    .colab-df-buttons div {\n",
              "      margin-bottom: 4px;\n",
              "    }\n",
              "\n",
              "    [theme=dark] .colab-df-convert {\n",
              "      background-color: #3B4455;\n",
              "      fill: #D2E3FC;\n",
              "    }\n",
              "\n",
              "    [theme=dark] .colab-df-convert:hover {\n",
              "      background-color: #434B5C;\n",
              "      box-shadow: 0px 1px 3px 1px rgba(0, 0, 0, 0.15);\n",
              "      filter: drop-shadow(0px 1px 2px rgba(0, 0, 0, 0.3));\n",
              "      fill: #FFFFFF;\n",
              "    }\n",
              "  </style>\n",
              "\n",
              "    <script>\n",
              "      const buttonEl =\n",
              "        document.querySelector('#df-ba9d42cb-4648-4f72-bc8d-8e97a3cedadd button.colab-df-convert');\n",
              "      buttonEl.style.display =\n",
              "        google.colab.kernel.accessAllowed ? 'block' : 'none';\n",
              "\n",
              "      async function convertToInteractive(key) {\n",
              "        const element = document.querySelector('#df-ba9d42cb-4648-4f72-bc8d-8e97a3cedadd');\n",
              "        const dataTable =\n",
              "          await google.colab.kernel.invokeFunction('convertToInteractive',\n",
              "                                                    [key], {});\n",
              "        if (!dataTable) return;\n",
              "\n",
              "        const docLinkHtml = 'Like what you see? Visit the ' +\n",
              "          '<a target=\"_blank\" href=https://colab.research.google.com/notebooks/data_table.ipynb>data table notebook</a>'\n",
              "          + ' to learn more about interactive tables.';\n",
              "        element.innerHTML = '';\n",
              "        dataTable['output_type'] = 'display_data';\n",
              "        await google.colab.output.renderOutput(dataTable, element);\n",
              "        const docLink = document.createElement('div');\n",
              "        docLink.innerHTML = docLinkHtml;\n",
              "        element.appendChild(docLink);\n",
              "      }\n",
              "    </script>\n",
              "  </div>\n",
              "\n",
              "    </div>\n",
              "  </div>\n"
            ]
          },
          "metadata": {},
          "execution_count": 73
        }
      ]
    },
    {
      "cell_type": "markdown",
      "metadata": {
        "id": "kf7c8Jck8MD7"
      },
      "source": [
        "#Evaluate the Recommendation System"
      ]
    },
    {
      "cell_type": "code",
      "execution_count": null,
      "metadata": {
        "id": "0AEJQ18RBDNh"
      },
      "outputs": [],
      "source": [
        "def recall(recommendations: np.array, relevant_items: np.array) -> float:\n",
        "    is_relevant = np.in1d(recommendations, relevant_items, assume_unique=True)\n",
        "\n",
        "    recall_score = np.sum(is_relevant) / relevant_items.shape[0]\n",
        "\n",
        "    return recall_score\n",
        "\n",
        "\n",
        "def precision(recommendations: np.array, relevant_items: np.array) -> float:\n",
        "    is_relevant = np.in1d(recommendations, relevant_items, assume_unique=True)\n",
        "\n",
        "    precision_score = np.sum(is_relevant) / recommendations.shape[0]\n",
        "\n",
        "    return precision_score\n",
        "\n",
        "def mean_average_precision(recommendations: np.array, relevant_items: np.array) -> float:\n",
        "    is_relevant = np.in1d(recommendations, relevant_items, assume_unique=True)\n",
        "\n",
        "    precision_at_k = is_relevant * np.cumsum(is_relevant, dtype=np.float32) / (1 + np.arange(is_relevant.shape[0]))\n",
        "\n",
        "    map_score = np.sum(precision_at_k) / np.min([relevant_items.shape[0], is_relevant.shape[0]])\n",
        "\n",
        "    return map_score\n",
        "\n",
        "def AP(recommended_items, relevant_items):\n",
        "\n",
        "    is_relevant = np.in1d(recommended_items, relevant_items, assume_unique=True)\n",
        "\n",
        "    # Cumulative sum: precision at 1, at 2, at 3 ...\n",
        "    p_at_k = is_relevant * np.cumsum(is_relevant, dtype=np.float32) / (1 + np.arange(is_relevant.shape[0]))\n",
        "\n",
        "    ap_score = np.sum(p_at_k) / np.min([relevant_items.shape[0], is_relevant.shape[0]])\n",
        "\n",
        "    return ap_score"
      ]
    },
    {
      "cell_type": "code",
      "execution_count": 74,
      "metadata": {
        "id": "rpnDKdXF77OP"
      },
      "outputs": [],
      "source": [
        "def evaluator(recommender: object, urm_train: sp.csr_matrix, urm_test: sp.csr_matrix):\n",
        "    recommendation_length = 10\n",
        "    accum_precision = 0\n",
        "    accum_recall = 0\n",
        "    accum_map = 0\n",
        "\n",
        "    num_users = urm_train.shape[0]\n",
        "\n",
        "    num_users_evaluated = 0\n",
        "    num_users_skipped = 0\n",
        "    for user_id in range(num_users):\n",
        "        user_profile_start = urm_test.indptr[user_id]\n",
        "        user_profile_end = urm_test.indptr[user_id+1]\n",
        "\n",
        "        relevant_items = urm_test.indices[user_profile_start:user_profile_end]\n",
        "\n",
        "        if relevant_items.size == 0:\n",
        "            num_users_skipped += 1\n",
        "            continue\n",
        "\n",
        "        recommendations = recommender.recommend(user_id=user_id,\n",
        "                                               at=recommendation_length,\n",
        "                                               urm_train=urm_train,\n",
        "                                               remove_seen=True)\n",
        "\n",
        "        accum_precision += precision(recommendations, relevant_items)\n",
        "        accum_recall += recall(recommendations, relevant_items)\n",
        "        accum_map += mean_average_precision(recommendations, relevant_items)\n",
        "\n",
        "        num_users_evaluated += 1\n",
        "\n",
        "\n",
        "    accum_precision /= max(num_users_evaluated, 1)\n",
        "    accum_recall /= max(num_users_evaluated, 1)\n",
        "    accum_map /=  max(num_users_evaluated, 1)\n",
        "\n",
        "    return accum_precision, accum_recall, accum_map, num_users_evaluated, num_users_skipped"
      ]
    },
    {
      "cell_type": "code",
      "execution_count": 75,
      "metadata": {
        "id": "E5jBxiwnPcPM",
        "colab": {
          "base_uri": "https://localhost:8080/",
          "height": 210
        },
        "outputId": "a9d69dd9-820f-487a-b435-62d1321e9218"
      },
      "outputs": [
        {
          "output_type": "error",
          "ename": "NameError",
          "evalue": "ignored",
          "traceback": [
            "\u001b[0;31m---------------------------------------------------------------------------\u001b[0m",
            "\u001b[0;31mNameError\u001b[0m                                 Traceback (most recent call last)",
            "\u001b[0;32m<ipython-input-75-7a51a8096436>\u001b[0m in \u001b[0;36m<cell line: 1>\u001b[0;34m()\u001b[0m\n\u001b[0;32m----> 1\u001b[0;31m accum_precision, accum_recall, accum_map, num_user_evaluated, num_users_skipped = evaluator(itemknn_recommender,\n\u001b[0m\u001b[1;32m      2\u001b[0m                                                                                             \u001b[0murm_train\u001b[0m\u001b[0;34m,\u001b[0m\u001b[0;34m\u001b[0m\u001b[0;34m\u001b[0m\u001b[0m\n\u001b[1;32m      3\u001b[0m                                                                                             urm_test)\n",
            "\u001b[0;31mNameError\u001b[0m: name 'itemknn_recommender' is not defined"
          ]
        }
      ],
      "source": [
        "accum_precision, accum_recall, accum_map, num_user_evaluated, num_users_skipped = evaluator(itemknn_recommender,\n",
        "                                                                                            urm_train,\n",
        "                                                                                            urm_test)"
      ]
    },
    {
      "cell_type": "code",
      "execution_count": null,
      "metadata": {
        "id": "EMtabpn8Ph3N"
      },
      "outputs": [],
      "source": [
        "accum_precision, accum_recall, accum_map, num_user_evaluated, num_users_skipped"
      ]
    },
    {
      "cell_type": "code",
      "execution_count": null,
      "metadata": {
        "id": "XppxpbmC0BJ1"
      },
      "outputs": [],
      "source": []
    },
    {
      "cell_type": "markdown",
      "metadata": {
        "id": "0YNKBGi69yjT"
      },
      "source": [
        "#Prepare Submission"
      ]
    },
    {
      "cell_type": "code",
      "execution_count": 76,
      "metadata": {
        "id": "XbsJMXyq-feb",
        "colab": {
          "base_uri": "https://localhost:8080/"
        },
        "outputId": "0aa5eb95-0292-4ce3-fd6e-294dbce12b07"
      },
      "outputs": [
        {
          "output_type": "execute_result",
          "data": {
            "text/plain": [
              "<12638x22222 sparse matrix of type '<class 'numpy.float64'>'\n",
              "\twith 478730 stored elements in Compressed Sparse Row format>"
            ]
          },
          "metadata": {},
          "execution_count": 76
        }
      ],
      "source": [
        "#forse ho sbagliato ad agggiungere anche il test set qui\n",
        "best_shrink = 5\n",
        "urm_train_validation = urm_train + urm_validation + urm_test\n",
        "urm_train_validation"
      ]
    },
    {
      "cell_type": "code",
      "execution_count": 77,
      "metadata": {
        "id": "Mxytchsc-gJV",
        "colab": {
          "base_uri": "https://localhost:8080/"
        },
        "outputId": "670cbe66-b1fa-492c-d98e-f04102d104da"
      },
      "outputs": [
        {
          "output_type": "stream",
          "name": "stdout",
          "text": [
            "Similarity column 22222 (100.0%), 3139.52 column/sec. Elapsed time 7.08 sec\n"
          ]
        }
      ],
      "source": [
        "best_recommender = ItemKNNCFRecommender(urm_train_validation)\n",
        "best_recommender.fit(**optuna_study.best_trial.params)"
      ]
    },
    {
      "cell_type": "markdown",
      "metadata": {
        "id": "hNLDmXo65XYT"
      },
      "source": [
        "##Top popular for those users without info"
      ]
    },
    {
      "cell_type": "code",
      "execution_count": 78,
      "metadata": {
        "id": "jwzA82CX5WsP"
      },
      "outputs": [],
      "source": [
        "toppop_recommender = TopPopRecommender()\n",
        "toppop_recommender.fit(urm_train_validation)"
      ]
    },
    {
      "cell_type": "code",
      "execution_count": 79,
      "metadata": {
        "id": "6CA4_0p9-mAz",
        "colab": {
          "base_uri": "https://localhost:8080/"
        },
        "outputId": "a4743ccc-d62c-44ed-d82c-c666717b7f31"
      },
      "outputs": [
        {
          "output_type": "execute_result",
          "data": {
            "text/plain": [
              "10882"
            ]
          },
          "metadata": {},
          "execution_count": 79
        }
      ],
      "source": [
        "users_to_recommend = np.array(data_target_users_test[\"user_id\"])\n",
        "len(users_to_recommend)"
      ]
    },
    {
      "cell_type": "code",
      "execution_count": 80,
      "metadata": {
        "id": "SMnKnsiuAV3z"
      },
      "outputs": [],
      "source": [
        "mapping_to_item_id = dict(zip(interactions.mapped_item_id, interactions.item_id))"
      ]
    },
    {
      "cell_type": "code",
      "execution_count": 97,
      "metadata": {
        "id": "ULSRLU5i9x3x"
      },
      "outputs": [],
      "source": [
        "def prepare_submission(interactions: pd.DataFrame, users_to_recommend: np.array, urm_train: sp.csr_matrix, recommender: object, toppop_recommender: object):\n",
        "    users_ids_and_mappings = interactions[interactions.user_id.isin(users_to_recommend)][['user_id', 'mapped_user_id']].drop_duplicates()\n",
        "    items_ids_and_mappings = interactions[[\"item_id\", \"mapped_item_id\"]].drop_duplicates()\n",
        "\n",
        "    mapping_to_item_id = dict(zip(interactions.mapped_item_id, interactions.item_id))\n",
        "\n",
        "\n",
        "    recommendation_length = 10\n",
        "    submission = []\n",
        "    for idx, row in users_ids_and_mappings.iterrows():\n",
        "        user_id = row.user_id\n",
        "        mapped_user_id = row.mapped_user_id\n",
        "\n",
        "        recommendations = recommender.recommend(user_id_array=mapped_user_id, cutoff=10)\n",
        "\n",
        "        submission.append((user_id, [mapping_to_item_id[item_id] for item_id in recommendations]))\n",
        "\n",
        "    #assign top popular to the user without interactions\n",
        "    users_without_info = np.setdiff1d(users_to_recommend,np.array(interactions[interactions.user_id.isin(users_to_recommend)][['user_id', 'mapped_user_id']].drop_duplicates().user_id))\n",
        "    for user_id in users_without_info:\n",
        "      recommendations = toppop_recommender.recommend(user_id, at = 10)\n",
        "      submission.append((user_id, [mapping_to_item_id[item_id] for item_id in recommendations]))\n",
        "\n",
        "    return submission"
      ]
    },
    {
      "cell_type": "code",
      "execution_count": 98,
      "metadata": {
        "id": "SiJdrRHX99QI"
      },
      "outputs": [],
      "source": [
        "submission = prepare_submission(interactions, users_to_recommend, urm_train_validation, best_recommender, toppop_recommender)"
      ]
    },
    {
      "cell_type": "code",
      "execution_count": 99,
      "metadata": {
        "id": "KHShzKp7-C4D",
        "colab": {
          "base_uri": "https://localhost:8080/"
        },
        "outputId": "2bf55f3f-644c-470d-b349-6ad0e302bf68"
      },
      "outputs": [
        {
          "output_type": "execute_result",
          "data": {
            "text/plain": [
              "[(1, [101, 506, 403, 515, 36, 1546, 637, 977, 922, 869]),\n",
              " (2, [11, 47, 28, 50, 3, 2, 6, 4, 12, 5]),\n",
              " (26, [1089, 139, 254, 314, 1256, 1005, 474, 1620, 269, 41]),\n",
              " (36, [4, 3, 6, 15, 16, 131, 14, 20, 107, 48]),\n",
              " (41, [31, 55, 58, 486, 20, 4, 592, 1, 33, 9]),\n",
              " (47, [96, 214, 344, 211, 38, 154, 1635, 85, 15, 72]),\n",
              " (54, [19, 2, 6, 4, 1, 8, 20, 238, 24, 95]),\n",
              " (73, [21, 125, 85, 51, 154, 34, 109, 3, 32, 81]),\n",
              " (88, [99, 346, 1089, 139, 4, 3, 318, 563, 60, 2204]),\n",
              " (89, [138, 324, 344, 154, 10, 59, 433, 12673, 12672, 15014]),\n",
              " (95, [44, 4, 20, 26, 16, 6, 75, 88, 84, 15]),\n",
              " (100, [313, 764, 636, 99, 119, 11, 252, 3, 63, 108]),\n",
              " (101, [837, 2314, 754, 624, 1290, 828, 282, 1051, 1207, 1477]),\n",
              " (102, [2904, 2843, 2283, 2284, 3208, 2585, 2958, 7055, 1795, 5724]),\n",
              " (104, [3, 9, 4, 119, 2, 299, 1, 252, 8, 41]),\n",
              " (114, [17, 27, 50, 37, 5, 111, 42, 433, 102, 293]),\n",
              " (124, [346, 1342, 1198, 715, 34, 94, 2590, 1387, 2963, 1704]),\n",
              " (127, [41, 40, 618, 39, 55, 11, 42, 2, 47, 50]),\n",
              " (138, [11, 28, 50, 117, 120, 17, 27, 47, 54, 18]),\n",
              " (145, [56, 1, 42, 47, 28, 3, 144, 8, 50, 22]),\n",
              " (152, [45, 4, 80, 6, 326, 8, 66, 2, 157, 22]),\n",
              " (178, [1, 4, 2, 3, 16, 14, 54, 44, 25, 31]),\n",
              " (189, [94, 4057, 1198, 88, 2582, 5332, 483, 87, 2963, 3458]),\n",
              " (202, [40, 96, 39, 76, 66, 2, 540, 101, 320, 2424]),\n",
              " (208, [22, 41, 39, 4, 58, 20, 45, 2, 73, 6]),\n",
              " (226, [4, 19, 84, 1, 33, 90, 48, 24, 22, 127]),\n",
              " (251, [4, 60, 116, 33, 20, 3, 2, 19, 8, 24]),\n",
              " (253, [2, 80, 44, 22, 14, 20, 33, 48, 26, 65]),\n",
              " (256, [95, 220, 537, 191, 621, 60, 9, 175, 8, 66]),\n",
              " (259, [45, 3, 5, 6, 37, 10, 2, 30, 36, 120]),\n",
              " (279, [112, 30, 68, 26, 15, 127, 137, 108, 90, 167]),\n",
              " (290, [34, 262, 449, 36, 51, 365, 4057, 392, 179, 105]),\n",
              " (292, [3, 14, 48, 20, 146, 8, 35, 316, 80, 171]),\n",
              " (301, [39, 31, 58, 87, 34, 81, 107, 99, 94, 36]),\n",
              " (312, [4094, 6064, 5044, 8328, 12082, 1932, 2, 1304, 6102, 3]),\n",
              " (323, [45, 537, 792, 22, 1024, 880, 4, 768, 906, 621]),\n",
              " (340, [3976, 2, 4371, 3, 4775, 5841, 112, 14, 41, 6948]),\n",
              " (343, [76, 3, 4, 182, 208, 10, 9, 20, 26, 33]),\n",
              " (346, [1, 17, 47, 44, 2, 22, 16, 28, 20, 80]),\n",
              " (374, [44, 4, 16, 3, 1, 2, 6, 90, 112, 31]),\n",
              " (386, [9, 3, 6, 35, 19, 8, 11, 20, 56, 18]),\n",
              " (407, [496, 4, 44, 3, 15, 88, 6, 2, 51, 14]),\n",
              " (418, [36, 101, 10, 3, 1, 4, 51, 2, 6, 257]),\n",
              " (421, [3440, 981, 872, 1906, 108, 1119, 345, 2669, 2187, 1031]),\n",
              " (422, [208, 344, 85, 81, 596, 99, 94, 34, 202, 105]),\n",
              " (427, [51, 131, 90, 18, 15, 81, 298, 21, 14, 1]),\n",
              " (433, [96, 32, 182, 16, 44, 138, 8, 52, 3, 229]),\n",
              " (443, [67, 841, 395, 596, 135, 411, 33, 177, 22, 238]),\n",
              " (444, [9, 4, 2, 104, 22, 14, 6, 20, 1, 164]),\n",
              " (458, [41, 34, 36, 2, 4, 112, 20, 85, 88, 68]),\n",
              " (459, [116, 342, 148, 1108, 175, 9, 3, 1, 6, 4]),\n",
              " (463, [17, 47, 27, 2, 1, 50, 42, 4, 3, 48]),\n",
              " (467, [90, 6, 4, 14, 2, 46, 106, 345, 34, 84]),\n",
              " (477, [11, 1, 50, 63, 37, 155, 2, 17, 3, 6]),\n",
              " (499, [1, 27, 11, 6, 20, 14, 28, 33, 42, 50]),\n",
              " (511, [40, 39, 3, 20, 8, 96, 15, 138, 66, 33]),\n",
              " (512, [9, 22, 19, 11, 20, 4, 144, 2, 6, 168]),\n",
              " (529, [95, 871, 571, 1365, 45, 1629, 1496, 220, 326, 22]),\n",
              " (553, [41, 39, 77, 60, 96, 32, 3, 175, 20, 182]),\n",
              " (554, [159, 120, 4, 6, 87, 1, 30, 18, 154, 14]),\n",
              " (565, [112, 1391, 939, 54, 137, 3, 2, 4592, 4, 1]),\n",
              " (579, [270, 512, 1321, 447, 1197, 2875, 70, 167, 105, 256]),\n",
              " (598, [136, 1, 18, 14, 19, 38, 6, 210, 5, 2]),\n",
              " (615, [1, 3, 4, 17, 28, 6, 19, 14, 10, 8]),\n",
              " (617, [34, 51, 1, 6, 15, 14, 8, 41, 16, 30]),\n",
              " (621, [896, 2492, 1818, 2283, 1195, 2288, 463, 751, 2200, 2585]),\n",
              " (627, [8, 20, 33, 80, 25, 3, 74, 14, 45, 24]),\n",
              " (632, [8, 238, 1, 278, 20, 2, 241, 16, 75, 19]),\n",
              " (644, [8, 1, 2, 42, 17, 96, 47, 4, 28, 3]),\n",
              " (656, [31, 39, 6, 3, 58, 55, 19, 85, 20, 76]),\n",
              " (659, [31, 55, 3, 20, 22, 186, 48, 1, 19, 6]),\n",
              " (660, [8, 34, 72, 94, 401, 51, 81, 365, 3, 1]),\n",
              " (677, [40, 41, 39, 1, 11, 27, 9, 76, 85, 56]),\n",
              " (686, [87, 88, 81, 131, 54, 567, 107, 68, 90, 202]),\n",
              " (695, [1897, 1286, 35, 107, 558, 104, 224, 168, 373, 807]),\n",
              " (701, [19, 16, 2, 67, 74, 25, 1, 33, 6, 22]),\n",
              " (708, [9, 1, 19, 3, 22, 2, 33, 20, 16, 45]),\n",
              " (712, [88, 365, 401, 596, 87, 81, 99, 94, 117, 51]),\n",
              " (716, [20, 3, 2, 4, 228, 141, 48, 65, 74, 103]),\n",
              " (725, [146, 474, 316, 171, 388, 292, 318, 314, 843, 269]),\n",
              " (735, [6053, 6334, 7484, 7903, 7482, 10490, 8404, 10477, 12769, 12772]),\n",
              " (737, [38, 203, 211, 6, 358, 514, 603, 2, 14, 520]),\n",
              " (763, [2, 3, 60, 66, 6, 1, 20, 16, 116, 44]),\n",
              " (787, [35, 2, 4, 56, 6, 8, 3, 39, 19, 31]),\n",
              " (789, [41, 58, 3, 66, 99, 4, 2, 60, 116, 182]),\n",
              " (829, [179, 401, 4, 26, 8, 2, 202, 81, 107, 36]),\n",
              " (831, [55, 76, 2, 1, 4, 116, 9, 11, 22, 148]),\n",
              " (847, [636, 928, 1273, 511, 375, 451, 775, 691, 749, 578]),\n",
              " (894, [318, 133, 171, 316, 554, 1006, 261, 269, 843, 146]),\n",
              " (900, [31, 14688, 14687, 13447, 17711, 13449, 35, 22204, 56, 149]),\n",
              " (901, [49, 4, 172, 61, 20, 22, 33, 6, 1, 3]),\n",
              " (902, [2027, 27, 28, 50, 11, 41, 42, 47, 76, 664]),\n",
              " (920, [39, 58, 55, 76, 138, 2, 182, 4, 1, 208]),\n",
              " (921, [19, 9, 28, 27, 22, 47, 33, 5, 24, 20]),\n",
              " (940, [938, 186, 144, 96, 2023, 35, 471, 433, 582, 56]),\n",
              " (946, [1198, 1342, 4, 2, 1, 20, 6, 8, 19, 14]),\n",
              " (947, [17, 11, 4, 42, 201, 28, 27, 1, 50, 47]),\n",
              " (965, [1853, 1054, 1129, 1752, 509, 3, 2, 51, 81, 26]),\n",
              " (969, [39, 58, 16091, 14696, 13444, 14687, 14692, 14691, 12443, 20148]),\n",
              " (971, [32, 9, 11, 17, 144, 27, 50, 168, 224, 564]),\n",
              " (978, [427, 141, 565, 529, 424, 193, 330, 1091, 660, 802]),\n",
              " (988, [58, 55, 1316, 1411, 35, 56, 3, 51, 32, 21]),\n",
              " (989, [39, 40, 58, 55, 33, 2, 6, 68, 14, 20]),\n",
              " (993, [93, 38, 20, 3, 24, 19, 8, 214, 203, 33]),\n",
              " (994, [55, 76, 22, 465, 48, 326, 20, 3, 792, 19]),\n",
              " (1007, [1, 4, 8, 93, 9, 33, 19, 38, 24, 15]),\n",
              " (1010, [44, 4, 16, 1, 9, 6, 25, 15, 35, 41]),\n",
              " (1014, [2, 1, 6, 3, 848, 11, 54, 4, 112, 16]),\n",
              " (1017, [138, 96, 34, 262, 51, 81, 365, 183, 179, 627]),\n",
              " (1022, [1, 56, 20, 33, 104, 48, 27, 3, 28, 144]),\n",
              " (1024, [96, 182, 208, 344, 324, 828, 181, 978, 624, 1051]),\n",
              " (1026, [837, 706, 1440, 1207, 828, 978, 754, 1479, 1051, 1177]),\n",
              " (1032, [182, 32, 1253, 85, 4, 1, 6, 5664, 2, 66]),\n",
              " (1036, [40, 39, 41, 11, 23, 58, 55, 3, 48, 22]),\n",
              " (1042, [39, 34, 540, 41, 58, 116, 31, 35, 56, 146]),\n",
              " (1050, [55, 171, 17, 771, 76, 146, 325, 612, 254, 994]),\n",
              " (1051, [20, 33, 44, 6, 14, 48, 26, 16, 74, 157]),\n",
              " (1057, [40, 55, 58, 76, 3, 2, 33, 22, 4, 1]),\n",
              " (1059, [99, 279, 1897, 304, 391, 170, 990, 83, 74, 39]),\n",
              " (1062, [936, 17, 2, 42, 11, 1, 48, 9, 50, 14]),\n",
              " (1069, [35, 104, 9, 11, 2, 168, 27, 5, 17, 144]),\n",
              " (1070, [2, 3, 4, 1, 15, 1866, 31, 14, 41, 8]),\n",
              " (1082, [627, 6, 14, 681, 114, 56, 26, 4, 24, 8]),\n",
              " (1083, [55, 76, 35, 326, 9, 3, 220, 4, 66, 77]),\n",
              " (1100, [50, 17, 37, 35, 9, 168, 5, 136, 224, 149]),\n",
              " (1107, [182, 20, 4, 2, 208, 33, 9, 22, 1, 36]),\n",
              " (1108, [19, 14, 22, 1, 80, 20, 48, 24, 74, 73]),\n",
              " (1110, [582, 3, 2, 35, 71, 30, 56, 126, 10, 37]),\n",
              " (1111, [3, 2, 33, 22, 4, 17, 6, 48, 9, 1]),\n",
              " (1116, [4, 1, 2, 8, 3, 33, 19, 20, 52, 14]),\n",
              " (1118, [10, 112, 3, 51, 2, 81, 121, 4, 1154, 1]),\n",
              " (1123, [50, 95, 5, 1, 2, 37, 19, 9, 14, 10]),\n",
              " (1138, [148, 304, 279, 428, 134, 4, 378, 33, 579, 22]),\n",
              " (1144, [58, 41, 40, 31, 39, 55, 29, 10, 64, 43]),\n",
              " (1155, [31, 41, 40, 58, 48, 39, 2, 55, 20, 4]),\n",
              " (1175, [182, 138, 344, 60, 8, 116, 20, 148, 25, 2]),\n",
              " (1176, [1, 44, 2, 20, 19, 24, 48, 15, 16, 41]),\n",
              " (1181, [1041, 320, 35, 168, 184, 1960, 1722, 149, 708, 2075]),\n",
              " (1195, [36, 1497, 841, 411, 257, 1537, 291, 1991, 85, 1127]),\n",
              " (1198, [2, 16, 30, 3, 41, 4, 14, 20, 1, 70]),\n",
              " (1200, [104, 56, 35, 144, 9, 184, 373, 567, 240, 30]),\n",
              " (1203, [6, 2, 1, 3, 4, 14, 30, 8, 24, 19]),\n",
              " (1213, [116, 1, 564, 17, 2442, 480, 28, 830, 304, 19]),\n",
              " (1250, [388, 441, 540, 292, 48, 1090, 1722, 20, 984, 696]),\n",
              " (1259, [2800, 2219, 775, 2801, 2898, 564, 2134, 2583, 1465, 451]),\n",
              " (1260, [1367, 298, 15, 1, 54, 4, 6, 36, 2, 44]),\n",
              " (1263, [6, 88, 34, 4, 2, 14, 1, 87, 31, 81]),\n",
              " (1266, [95, 326, 389, 465, 1024, 220, 2, 537, 768, 56]),\n",
              " (1273, [138, 324, 32, 344, 179, 51, 154, 81, 162, 401]),\n",
              " (1288, [39, 32, 76, 34, 344, 77, 116, 148, 2, 22]),\n",
              " (1290, [1, 4, 19, 6, 8, 14, 15, 94, 22, 48]),\n",
              " (1299, [41, 40, 55, 76, 905, 291, 841, 411, 904, 1991]),\n",
              " (1300, [41, 40, 58, 4, 22, 20, 9, 73, 83, 14]),\n",
              " (1305, [662, 1715, 45, 47, 28, 27, 3, 11, 42, 771]),\n",
              " (1307, [29, 64, 131, 401, 87, 51, 21, 596, 78, 36]),\n",
              " (1308, [41, 31, 58, 139, 441, 388, 292, 165, 316, 76]),\n",
              " (1323, [90, 14, 87, 36, 1, 68, 3, 85, 51, 107]),\n",
              " (1327, [2565, 2813, 2423, 3590, 1488, 202, 4267, 6190, 105, 365]),\n",
              " (1332, [347, 139, 350, 474, 853, 1794, 1328, 630, 1240, 408]),\n",
              " (1334, [154, 36, 6, 4676, 202, 4, 2, 34, 108, 131]),\n",
              " (1340, [1041, 540, 320, 31, 41, 39, 4, 58, 12, 3]),\n",
              " (1348, [201, 122, 253, 989, 11, 927, 1175, 126, 54, 37]),\n",
              " (1360, [138, 96, 131, 105, 81, 107, 202, 179, 182, 15]),\n",
              " (1363, [27, 37, 824, 210, 1, 2, 14, 201, 124, 4]),\n",
              " (1364, [88, 202, 106, 90, 26, 81, 18, 15, 365, 14]),\n",
              " (1379, [8417, 9944, 8376, 12243, 9405, 13110, 841, 411, 12216, 583]),\n",
              " (1391, [39, 55, 585, 3, 99, 94, 34, 708, 689, 1722]),\n",
              " (1418, [4, 1, 6, 9, 8, 31, 41, 20, 19, 40]),\n",
              " (1434, [2, 19, 6, 14, 1, 4, 20, 33, 11, 24]),\n",
              " (1447, [802, 103, 141, 193, 1091, 862, 1109, 170, 607, 424]),\n",
              " (1454, [28, 126, 37, 293, 488, 111, 540, 50, 1984, 287]),\n",
              " (1464, [74, 60, 134, 33, 44, 631, 19, 175, 148, 1799]),\n",
              " (1468, [8, 2, 3, 22, 20, 6, 442, 19, 279, 9]),\n",
              " (1486, [11, 2, 1, 30, 6, 68, 112, 14, 46, 28]),\n",
              " (1494, [31, 58, 76, 3, 9, 56, 2, 11, 28, 27]),\n",
              " (1496, [45, 326, 6, 4, 389, 2, 22, 26, 35, 11]),\n",
              " (1497, [66, 20, 116, 1, 3, 44, 25, 22, 24, 33]),\n",
              " (1505, [22, 20, 33, 1, 19, 95, 6, 24, 74, 65]),\n",
              " (1514, [179, 72, 107, 26, 15, 118, 99, 131, 32, 394]),\n",
              " (1516, [313, 252, 98, 467, 430, 4, 2, 573, 11, 9]),\n",
              " (1517, [112, 68, 137, 265, 360, 380, 4, 20, 3, 2835]),\n",
              " (1518, [35, 240, 319, 361, 412, 683, 558, 807, 1082, 803]),\n",
              " (1521, [1689, 7120, 8535, 1462, 112, 3, 2, 4, 7091, 1]),\n",
              " (1526, [59, 956, 536, 259, 648, 6, 106, 4, 2, 1]),\n",
              " (1536, [31, 55, 76, 18, 3, 4, 117, 30, 978, 1]),\n",
              " (1537, [8885, 8417, 6010, 7716, 8423, 12243, 555, 9189, 9405, 7105]),\n",
              " (1546, [14, 1, 4, 2, 35, 87, 88, 70, 84, 131]),\n",
              " (1568, [39, 4, 1, 33, 9, 6, 10, 138, 5, 78]),\n",
              " (1584, [31, 76, 15, 905, 337, 214, 1223, 403, 93, 506]),\n",
              " (1585, [28, 126, 573, 17, 399, 1480, 1069, 261, 3367, 1090]),\n",
              " (1599, [38, 6, 14, 4, 8, 93, 3, 85, 11, 51]),\n",
              " (1603, [4, 16, 6, 19, 238, 1, 177, 2, 278, 20]),\n",
              " (1608, [40, 58, 55, 17, 4, 19, 2, 65, 20, 76]),\n",
              " (1610, [93, 203, 603, 188, 4, 211, 358, 1296, 2, 1978]),\n",
              " (1614, [17, 55, 3, 14, 9, 253, 154, 5, 19, 761]),\n",
              " (1621, [54, 422, 490, 276, 15, 3, 131, 30, 222, 933]),\n",
              " (1652, [1, 4, 2, 8, 14, 41, 31, 40, 20, 9]),\n",
              " (1671, [6749, 7395, 7394, 10398, 7898, 11532, 11622, 1032, 2516, 11522]),\n",
              " (1694, [42, 37, 35, 144, 9, 1, 149, 136, 30, 224]),\n",
              " (1702, [1049, 1475, 1116, 712, 3, 442, 8, 31, 39, 40]),\n",
              " (1709, [2257, 64, 198, 430, 376, 2967, 467, 348, 5, 2057]),\n",
              " (1718, [44, 25, 96, 3, 2, 4, 138, 182, 1, 15]),\n",
              " (1724, [3, 2, 486, 15, 1, 20, 33, 36, 4, 78]),\n",
              " (1735, [1108, 2, 4, 11, 108, 20, 24, 55, 19, 486]),\n",
              " (1740, [2401, 2637, 1425, 2030, 1883, 1165, 1870, 697, 2683, 3592]),\n",
              " (1741, [471, 131, 87, 938, 90, 114, 85, 137, 15, 88]),\n",
              " (1748, [11, 1, 47, 2, 50, 17, 27, 19, 4, 131]),\n",
              " (1755, [5, 9, 64, 3, 35, 41, 39, 31, 57, 40]),\n",
              " (1786, [1990, 1186, 1429, 1279, 2295, 558, 76, 350, 186, 843]),\n",
              " (1794, [101, 1, 11, 63, 27, 28, 18, 4, 47, 2]),\n",
              " (1816, [467, 313, 430, 636, 85, 107, 51, 29, 1406, 1207]),\n",
              " (1837, [7572, 39, 58, 4596, 388, 329, 4332, 4212, 441, 76]),\n",
              " (1840, [55, 76, 16, 4, 2, 99, 25, 94, 64, 1]),\n",
              " (1865, [85, 36, 1, 51, 11, 119, 42, 3, 28, 2]),\n",
              " (1868, [144, 168, 149, 184, 224, 319, 240, 310, 288, 30]),\n",
              " (1870, [603, 514, 1, 230, 323, 645, 232, 1296, 154, 1450]),\n",
              " (1879, [54, 58, 517, 2, 4, 15, 137, 1, 31, 41]),\n",
              " (1894, [30, 6, 167, 2, 15, 18, 108, 90, 46, 72]),\n",
              " (1908, [292, 101, 329, 408, 799, 3, 2, 41, 441, 1]),\n",
              " (1918, [19, 22, 1, 33, 6, 3, 44, 74, 9, 26]),\n",
              " (1922, [55, 2, 4, 20, 1, 33, 143, 9, 6, 15]),\n",
              " (1925, [715, 2963, 3458, 9, 104, 144, 240, 168, 224, 184]),\n",
              " (1930, [40, 31, 55, 1, 50, 3, 27, 154, 14, 42]),\n",
              " (1939, [1, 33, 77, 84, 8, 9, 74, 67, 44, 141]),\n",
              " (1946, [3532, 5598, 4347, 2291, 6065, 897, 2542, 5211, 6074, 3218]),\n",
              " (1949, [6306, 6056, 7133, 6578, 8404, 4870, 4321, 4869, 7847, 5023]),\n",
              " (1950, [1, 2, 14, 28, 50, 6, 9, 3, 20, 157]),\n",
              " (1969, [35, 2, 56, 12, 3, 104, 4, 150, 6, 45]),\n",
              " (1988, [84, 24, 33, 241, 22, 278, 48, 20, 103, 8]),\n",
              " (1993, [108, 87, 2, 107, 105, 109, 4, 202, 16, 30]),\n",
              " (2001, [108, 36, 6, 298, 38, 93, 203, 88, 162, 345]),\n",
              " (2005, [107, 121, 222, 109, 10, 51, 81, 751, 2, 36]),\n",
              " (2031, [17, 11, 42, 6, 50, 2, 1, 19, 3, 4]),\n",
              " (2038, [51, 131, 81, 88, 15, 112, 21, 26, 29, 202]),\n",
              " (2054, [41, 55, 58, 3, 292, 2401, 1604, 1149, 540, 94]),\n",
              " (2106, [28, 27, 37, 47, 35, 30, 42, 9, 775, 56]),\n",
              " (2117, [813, 88, 255, 3726, 4385, 4027, 7618, 81, 26, 3243]),\n",
              " (2138, [1, 11, 3, 2, 90, 85, 17, 4, 36, 28]),\n",
              " (2142, [3, 4, 99, 6, 34, 1, 14, 19, 41, 68]),\n",
              " (2144, [39, 40, 55, 88, 81, 3, 15, 365, 401, 131]),\n",
              " (2155, [4, 2, 3, 6, 38, 8, 20, 22, 19, 33]),\n",
              " (2157, [138, 324, 45, 326, 344, 85, 4, 10, 1, 80]),\n",
              " (2164, [40, 58, 1149, 76, 347, 186, 292, 3, 146, 630]),\n",
              " (2178, [112, 6, 87, 15, 30, 8, 14, 108, 26, 162]),\n",
              " (2182, [39, 612, 554, 563, 316, 254, 133, 353, 557, 269]),\n",
              " (2221, [35, 42, 144, 145, 775, 1, 149, 2, 480, 136]),\n",
              " (2222, [116, 4, 20, 175, 44, 2, 1, 19, 22, 48]),\n",
              " (2226, [55, 58, 76, 2, 4, 9, 1, 20, 33, 6]),\n",
              " (2229, [58, 40, 41, 39, 31, 96, 3, 55, 138, 2]),\n",
              " (2234, [58, 55, 56, 326, 3, 465, 168, 144, 1024, 880]),\n",
              " (2239, [60, 116, 8, 175, 2, 67, 118, 25, 3, 33]),\n",
              " (2255, [112, 1448, 716, 137, 6, 2, 1625, 68, 4, 1994]),\n",
              " (2270, [40, 76, 583, 1537, 905, 1693, 291, 3184, 2276, 3]),\n",
              " (2272, [751, 1627, 112, 68, 3, 2, 4, 1, 6, 59]),\n",
              " (2274, [4352, 4900, 5821, 10241, 101, 403, 13333, 506, 11659, 17628]),\n",
              " (2276, [55, 3, 9, 2, 486, 56, 5, 342, 20, 33]),\n",
              " (2286, [1, 8, 25, 44, 6, 19, 20, 613, 93, 15]),\n",
              " (2300, [2843, 2283, 3208, 1277, 2585, 2958, 2492, 4810, 2288, 3265]),\n",
              " (2313, [1191, 1422, 39, 41, 5508, 31, 55, 58, 3, 76]),\n",
              " (2320, [220, 45, 792, 465, 326, 19, 906, 537, 22, 20]),\n",
              " (2322, [28, 39, 40, 47, 50, 58, 42, 55, 76, 2]),\n",
              " (2323, [179, 2748, 4117, 1075, 1099, 1895, 88, 6363, 255, 3152]),\n",
              " (2339, [1, 14, 4, 30, 8, 84, 24, 20, 16, 9]),\n",
              " (2358, [141, 330, 251, 424, 228, 301, 163, 194, 73, 660]),\n",
              " (2363, [41, 4, 39, 2, 3, 31, 1, 44, 40, 55]),\n",
              " (2368, [1041, 907, 708, 94, 34, 1163, 1722, 1940, 1443, 2075]),\n",
              " (2419, [20, 17, 134, 301, 1, 22, 27, 28, 50, 14]),\n",
              " (2428, [99, 2505, 2257, 2689, 88, 596, 179, 813, 2208, 51]),\n",
              " (2434, [3, 58, 76, 54, 68, 15, 137, 96, 41, 34]),\n",
              " (2443, [2, 1, 20, 41, 9, 31, 39, 6, 58, 40]),\n",
              " (2455, [17, 28, 11, 42, 23, 47, 50, 54, 2, 1]),\n",
              " (2461, [139, 133, 60, 316, 171, 318, 22, 350, 48, 175]),\n",
              " (2468, [3, 36, 30, 10, 137, 6, 433, 59, 69, 1]),\n",
              " (2469, [39, 40, 58, 20, 22, 83, 48, 3, 73, 116]),\n",
              " (2475, [6, 72, 44, 24, 1, 4, 14, 1008, 20, 90]),\n",
              " (2480, [28, 561, 1, 56, 27, 37, 47, 104, 3, 4]),\n",
              " (2494, [4, 2, 1, 8, 19, 6, 26, 88, 87, 20]),\n",
              " (2499, [2, 33, 48, 3, 56, 8, 20, 19, 14, 65]),\n",
              " (2513, [96, 138, 104, 168, 4, 66, 20, 22, 60, 1]),\n",
              " (2525, [4, 22, 19, 33, 48, 73, 103, 84, 80, 14]),\n",
              " (2531, [66, 116, 9, 4, 2, 1, 3, 148, 8, 22]),\n",
              " (2532, [31, 41, 2, 55, 8, 58, 22, 33, 20, 9]),\n",
              " (2539, [85, 38, 95, 4, 45, 14, 2, 15, 8, 11]),\n",
              " (2540, [182, 134, 8, 33, 77, 67, 2, 9, 19, 44]),\n",
              " (2554, [257, 583, 112, 18, 2, 291, 3, 90, 1, 6]),\n",
              " (2564, [88, 131, 81, 51, 105, 15, 26, 179, 475, 18]),\n",
              " (2568, [583, 1497, 1127, 15, 904, 1693, 3440, 830, 480, 161]),\n",
              " (2582, [3, 1, 6, 19, 15, 14, 34, 132, 85, 16]),\n",
              " (2586, [112, 3, 2, 4, 1, 6, 8, 15, 41, 30]),\n",
              " (2590, [31, 39, 40, 58, 4, 2, 8, 6, 1, 55]),\n",
              " (2594, [18434, 8186, 108, 5344, 20752, 13711, 18433, 6938, 11674, 3342]),\n",
              " (2601, [313, 430, 1, 573, 20, 19, 84, 22, 48, 3]),\n",
              " (2607, [5530, 7010, 5339, 11310, 5156, 14151, 11227, 12036, 12924, 15361]),\n",
              " (2609, [108, 85, 30, 6, 112, 87, 15, 14, 154, 54]),\n",
              " (2624, [55, 3, 4, 76, 20, 22, 15, 46, 45, 11]),\n",
              " (2628, [107, 2131, 15, 87, 63, 30, 14, 120, 192, 51]),\n",
              " (2642, [208, 85, 107, 344, 179, 112, 94, 99, 26, 10]),\n",
              " (2659, [109, 43, 21, 29, 198, 98, 1401, 112, 380, 137]),\n",
              " (2663, [4, 44, 94, 99, 6, 1, 24, 22, 33, 14]),\n",
              " (2673, [2, 3, 14, 8, 67, 19, 36, 238, 44, 20]),\n",
              " (2674, [22, 48, 20, 1, 141, 65, 73, 19, 251, 84]),\n",
              " (2682, [298, 29, 15, 162, 51, 81, 88, 36, 18, 130]),\n",
              " (2683, [94, 29, 99, 87, 1367, 81, 162, 217, 222, 21]),\n",
              " (2685, [547, 706, 343, 754, 308, 82, 936, 1290, 837, 89]),\n",
              " (2689, [133, 51, 131, 4, 87, 318, 254, 26, 165, 179]),\n",
              " (2700, [8, 137, 112, 172, 44, 61, 18477, 4, 3531, 1049]),\n",
              " (2717, [799, 316, 350, 1041, 708, 843, 474, 408, 146, 41]),\n",
              " (2735, [4, 40, 41, 39, 19, 8, 55, 22, 45, 48]),\n",
              " (2746, [31, 55, 58, 76, 35, 56, 3, 149, 104, 4]),\n",
              " (2759, [1, 41, 31, 4, 2, 20, 22, 3, 19, 39]),\n",
              " (2760, [242, 376, 573, 41, 249, 31, 1481, 76, 636, 3810]),\n",
              " (2784, [8361, 4596, 12363, 11520, 10398, 7898, 11522, 4597, 3682, 11519]),\n",
              " (2786, [1756, 326, 537, 997, 42, 880, 792, 389, 11, 220]),\n",
              " (2792, [50, 37, 6, 2, 19, 22, 145, 9, 136, 5]),\n",
              " (2797, [40, 3, 22, 33, 19, 103, 1, 170, 48, 228]),\n",
              " (2798, [8, 1, 20, 22, 14, 31, 26, 41, 45, 9]),\n",
              " (2803, [14200, 14151, 11226, 9846, 15540, 4, 12036, 11227, 6, 95]),\n",
              " (2816, [144, 168, 149, 288, 974, 382, 184, 310, 1887, 240]),\n",
              " (2859, [9, 149, 22, 19, 224, 240, 4, 373, 48, 310]),\n",
              " (2869, [39, 20, 45, 1281, 1231, 80, 9, 65, 389, 832]),\n",
              " (2876, [6, 1, 2, 4, 14, 9, 35, 95, 46, 19]),\n",
              " (2882, [603, 514, 188, 211, 154, 85, 1635, 358, 38, 1]),\n",
              " (2910, [363, 27, 145, 774, 1549, 47, 11, 17, 1492, 28]),\n",
              " (2912, [31, 3, 34, 66, 9091, 22, 4999, 9059, 60, 48]),\n",
              " (2917, [51, 87, 182, 4, 401, 107, 6, 34, 596, 108]),\n",
              " (2925, [376, 430, 467, 11, 573, 50, 389, 5, 145, 28]),\n",
              " (2933, [738, 1198, 1786, 1387, 2794, 1342, 94, 99, 2590, 320]),\n",
              " (2942, [41, 35, 11, 56, 9, 2, 104, 37, 15, 47]),\n",
              " (2958, [23, 144, 35, 56, 903, 168, 9, 28, 17, 86]),\n",
              " (2960, [343, 1143, 703, 915, 713, 282, 236, 556, 1290, 1438]),\n",
              " (2966, [104, 35, 184, 144, 9, 149, 319, 224, 373, 240]),\n",
              " (2973, [1570, 9582, 10835, 243, 14726, 14735, 12485, 10150, 4, 2]),\n",
              " (2977, [41, 40, 1177, 55, 754, 58, 76, 282, 3, 837]),\n",
              " (2992,\n",
              "  [14005, 15430, 16689, 12048, 18684, 15120, 18664, 18661, 16785, 18982]),\n",
              " (2994, [39, 40, 58, 55, 28, 5, 50, 42, 564, 2]),\n",
              " (3005, [138, 182, 4, 208, 2, 3, 8, 88, 6, 344]),\n",
              " (3010, [22, 301, 74, 260, 2, 19, 20, 48, 6, 631]),\n",
              " (3015, [40, 39, 55, 41, 3, 1, 1596, 58, 71, 340]),\n",
              " (3016, [27, 11, 2, 3, 28, 22, 6, 33, 50, 20]),\n",
              " (3018, [58, 116, 77, 148, 2, 376, 20, 4, 1, 467]),\n",
              " (3019, [22, 2, 4, 9, 1, 80, 6, 56, 220, 8]),\n",
              " (3054, [342, 41, 31, 39, 55, 88, 3, 138, 3414, 32]),\n",
              " (3058, [998, 254, 318, 1283, 314, 1112, 580, 4, 139, 2]),\n",
              " (3063, [19, 20, 22, 14, 3, 24, 48, 74, 45, 157]),\n",
              " (3075, [6425, 5706, 6426, 6725, 6427, 6428, 5725, 3071, 8112, 13620]),\n",
              " (3086, [41, 76, 103, 3, 115, 163, 65, 4, 73, 83]),\n",
              " (3107, [39, 31, 3954, 40, 4, 1, 2, 14, 8, 25]),\n",
              " (3114, [20, 73, 19, 80, 260, 8, 115, 134, 212, 702]),\n",
              " (3115, [40, 58, 76, 4, 16, 20, 540, 1, 33, 19]),\n",
              " (3141, [4, 22, 33, 19, 48, 8, 20, 3, 11, 24]),\n",
              " (3144, [4, 3, 20, 48, 6, 1, 14, 9, 80, 33]),\n",
              " (3151, [4, 3, 15, 6, 2, 1, 25, 96, 20, 14]),\n",
              " (3164, [17, 47, 11, 111, 511, 71, 37, 136, 375, 750]),\n",
              " (3165, [648, 1001, 999, 2678, 1097, 1233, 1350, 18, 54, 2191]),\n",
              " (3185, [4, 1, 19, 8, 6, 15, 20, 33, 49, 22]),\n",
              " (3186, [707, 713, 510, 1308, 1700, 63, 3053, 82, 1642, 390]),\n",
              " (3196, [76, 101, 154, 59, 112, 161, 117, 2, 30, 68]),\n",
              " (3199, [4047, 9039, 9582, 1, 12485, 154, 2, 10150, 3, 6]),\n",
              " (3209, [262, 1227, 88, 1095, 15, 182, 3, 202, 179, 138]),\n",
              " (3211, [15, 101, 36, 112, 44, 3, 2, 922, 3164, 4]),\n",
              " (3238, [90, 566, 35, 1, 19, 56, 891, 9, 2, 472]),\n",
              " (3239, [182, 32, 6, 35, 14, 344, 8, 154, 9, 104]),\n",
              " (3258, [112, 30, 3, 137, 10, 69, 18, 131, 68, 85]),\n",
              " (3269, [116, 60, 22, 33, 19, 65, 141, 2, 73, 1]),\n",
              " (3278, [624, 978, 1440, 983, 1177, 707, 2237, 556, 1479, 547]),\n",
              " (3283, [4, 14, 1, 3, 2, 8, 24, 15, 22, 20]),\n",
              " (3284, [841, 411, 1497, 4, 3218, 291, 14, 1537, 2, 904]),\n",
              " (3289, [39, 55, 76, 3, 34, 35, 627, 9, 2, 15]),\n",
              " (3292, [830, 1444, 1355, 1055, 569, 1746, 855, 619, 898, 3552]),\n",
              " (3304, [39, 4, 6, 22, 9, 24, 65, 44, 116, 26]),\n",
              " (3315, [4, 20, 2, 19, 33, 72, 14, 26, 60, 24]),\n",
              " (3320, [56, 144, 168, 59, 184, 149, 5, 2, 41, 1]),\n",
              " (3323, [36, 161, 354, 337, 544, 515, 922, 257, 429, 637]),\n",
              " (3330, [159, 156, 205, 2, 90, 3, 267, 59, 1, 6]),\n",
              " (3332, [19, 708, 20, 428, 1840, 1163, 1722, 4, 2075, 1]),\n",
              " (3342, [115, 74, 19, 170, 1, 6, 80, 163, 212, 228]),\n",
              " (3349, [95, 465, 326, 220, 792, 1024, 768, 880, 4, 2]),\n",
              " (3368, [27, 42, 104, 144, 9, 37, 1, 1767, 149, 19]),\n",
              " (3369, [182, 324, 32, 467, 376, 129, 313, 242, 60, 636]),\n",
              " (3382, [3, 154, 18, 2, 486, 78, 51, 10, 4, 34]),\n",
              " (3388, [17, 50, 27, 42, 1, 4, 9, 3, 5, 19]),\n",
              " (3393, [99, 94, 3, 15, 36, 88, 58, 68, 53, 108]),\n",
              " (3398, [224, 144, 149, 373, 184, 319, 56, 372, 240, 310]),\n",
              " (3411, [14, 22, 1, 4, 6, 17, 157, 11, 24, 47]),\n",
              " (3425, [3, 1, 2, 4, 8, 11, 9, 17, 35, 49]),\n",
              " (3426, [4, 2, 1, 22, 19, 104, 6, 3, 8, 33]),\n",
              " (3427, [41, 31, 39, 76, 3, 2281, 2, 45, 20, 6]),\n",
              " (3429, [160, 9, 1, 2, 4, 31, 41, 35, 40, 39]),\n",
              " (3463, [4, 19, 8, 101, 14, 36, 48, 32, 9, 41]),\n",
              " (3464, [1, 33, 116, 66, 139, 133, 48, 6, 20, 175]),\n",
              " (3466, [88, 4, 81, 6, 107, 36, 14, 34, 90, 19]),\n",
              " (3472, [298, 131, 29, 107, 15, 162, 87, 51, 38, 112]),\n",
              " (3488, [104, 35, 144, 373, 56, 224, 382, 184, 258, 288]),\n",
              " (3510, [4, 6, 3, 15, 14, 627, 51, 41, 8, 24]),\n",
              " (3524, [3616, 2563, 3188, 4552, 4941, 3810, 2813, 4978, 5508, 6190]),\n",
              " (3526, [88, 56, 202, 2, 107, 8, 1, 4, 81, 26]),\n",
              " (3592, [4, 19, 20, 2, 45, 65, 24, 3, 73, 74]),\n",
              " (3596, [40, 58, 76, 3, 9, 35, 56, 4, 20, 68]),\n",
              " (3604, [17, 1, 2, 3, 6, 72, 9, 11, 28, 19]),\n",
              " (3608, [212, 48, 141, 103, 330, 33, 4, 163, 279, 2]),\n",
              " (3626, [39, 76, 11, 3, 28, 2, 17, 9, 13, 6]),\n",
              " (3662, [208, 94, 324, 99, 344, 4, 3, 955, 44, 6]),\n",
              " (3667, [15, 51, 107, 88, 26, 34, 114, 85, 108, 162]),\n",
              " (3673, [9, 149, 168, 1, 144, 184, 22, 6, 20, 310]),\n",
              " (3674, [15, 1, 34, 87, 88, 3, 51, 44, 20, 14]),\n",
              " (3676, [154, 131, 162, 88, 298, 15, 87, 51, 105, 18]),\n",
              " (3683, [93, 19, 3, 2, 211, 8, 90, 85, 17, 28]),\n",
              " (3690, [88, 51, 87, 36, 179, 29, 715, 1172, 3, 130]),\n",
              " (3693, [2, 1, 8, 52, 6, 25, 4, 44, 3, 29]),\n",
              " (3699, [40, 76, 6, 20, 14, 9, 51, 33, 15, 19]),\n",
              " (3723, [5, 6, 1, 3, 4, 14, 2, 9, 45, 49]),\n",
              " (3737, [715, 99, 34, 15, 1387, 21, 57, 41, 392, 2963]),\n",
              " (3753, [388, 467, 242, 376, 1090, 799, 606, 1240, 853, 1239]),\n",
              " (3754, [4, 33, 1, 20, 22, 48, 14, 19, 31, 24]),\n",
              " (3796, [1029, 343, 884, 308, 282, 1207, 936, 547, 1177, 983]),\n",
              " (3818, [1, 35, 3, 20, 33, 22, 6, 8, 14, 17]),\n",
              " (3825, [203, 514, 38, 358, 520, 85, 154, 645, 1978, 1296]),\n",
              " (3826, [56, 326, 144, 168, 465, 19, 537, 3, 1024, 11]),\n",
              " (3827, [138, 48, 344, 220, 2, 31, 39, 3, 40, 1]),\n",
              " (3832, [154, 51, 88, 29, 21, 87, 81, 36, 15, 202]),\n",
              " (3835, [8, 4, 1, 44, 6, 19, 26, 25, 48, 52]),\n",
              " (3839, [6525, 6052, 6367, 6305, 6585, 6303, 6526, 6875, 6824, 7485]),\n",
              " (3846, [15, 87, 108, 154, 3616, 131, 1, 694, 1481, 29]),\n",
              " (3851, [41, 40, 148, 31, 39, 55, 4, 3, 2, 6]),\n",
              " (3859, [44, 4, 1, 2, 3, 6, 16, 19, 20, 15]),\n",
              " (3868, [2, 112, 54, 3, 1, 137, 15, 41, 4, 1258]),\n",
              " (3883, [2531, 3, 2, 617, 1593, 1, 4, 8, 825, 22]),\n",
              " (3885, [41, 40, 55, 2, 318, 8, 9, 19, 20, 1089]),\n",
              " (3887, [35, 9, 2, 41, 104, 39, 40, 55, 31, 385]),\n",
              " (3900, [1, 33, 22, 6, 48, 3, 44, 24, 94, 26]),\n",
              " (3903, [112, 5736, 3697, 3, 2, 4, 1, 6, 8, 15]),\n",
              " (3905, [3526, 2283, 2903, 1277, 896, 1795, 573, 3437, 3744, 2147]),\n",
              " (3906, [31, 430, 76, 3, 36, 4, 16, 96, 21, 8]),\n",
              " (3919, [8312, 750, 6597, 1231, 986, 239, 1422, 832, 10398, 3682]),\n",
              " (3923, [14, 4, 2, 30, 3, 24, 8, 38, 37, 93]),\n",
              " (3942, [40, 55, 76, 582, 354, 126, 699, 618, 637, 1]),\n",
              " (3958, [40, 58, 76, 220, 33, 4, 465, 389, 3, 2]),\n",
              " (3995, [4, 33, 1, 65, 14, 6, 3, 31, 141, 9]),\n",
              " (4004, [11, 47, 17, 27, 145, 42, 96, 182, 208, 122]),\n",
              " (4026, [44, 4, 2, 3, 51, 6, 96, 138, 182, 26]),\n",
              " (4038, [35, 618, 4, 33, 77, 144, 20, 1, 48, 175]),\n",
              " (4044, [27, 28, 1, 14, 2, 35, 9, 136, 56, 4]),\n",
              " (4045, [8, 1, 2, 19, 20, 25, 52, 33, 26, 84]),\n",
              " (4061, [1818, 1768, 259, 160, 536, 956, 159, 584, 117, 2832]),\n",
              " (4062, [30, 2, 160, 259, 3, 54, 112, 18, 1, 26]),\n",
              " (4069, [292, 408, 4596, 964, 4212, 653, 2120, 696, 2728, 9312]),\n",
              " (4078, [85, 4, 87, 345, 6, 15, 90, 202, 154, 14]),\n",
              " (4079, [4, 3, 17, 28, 2, 14, 19, 27, 22, 8]),\n",
              " (4087, [19, 4, 8, 20, 6, 48, 80, 1, 14, 2]),\n",
              " (4096, [6, 8, 20, 19, 14, 3, 65, 31, 48, 44]),\n",
              " (4120, [3, 4, 1, 1377, 2, 54, 14, 8, 15, 19]),\n",
              " (4125, [27, 40, 31, 39, 35, 2, 1, 55, 30, 136]),\n",
              " (4127, [205, 112, 3, 2, 55, 4, 1, 29, 6, 416]),\n",
              " (4151, [31, 58, 55, 1, 76, 20, 33, 8, 22, 19]),\n",
              " (4175, [1475, 1116, 10, 8535, 18, 51, 112, 3, 2, 76]),\n",
              " (4181, [28, 11, 50, 145, 5, 136, 19, 9, 23, 35]),\n",
              " (4194, [41, 39, 55, 36, 299, 129, 71, 143, 23, 2]),\n",
              " (4205, [55, 2, 36, 33, 19, 129, 6, 48, 26, 467]),\n",
              " (4216, [224, 144, 149, 803, 373, 974, 35, 1772, 372, 170]),\n",
              " (4229, [32, 99, 138, 3, 208, 1398, 4, 770, 1213, 2]),\n",
              " (4233, [51, 85, 15, 87, 10, 154, 217, 109, 107, 202]),\n",
              " (4236, [214, 93, 6, 38, 84, 167, 188, 106, 311, 15]),\n",
              " (4254, [11, 70, 6, 2, 106, 285, 167, 1, 14, 28]),\n",
              " (4299, [242, 313, 3, 376, 31, 112, 40, 467, 430, 76]),\n",
              " (4310, [1, 17, 6, 30, 22, 20, 8, 35, 31, 27]),\n",
              " (4351, [10462, 40, 12946, 12768, 12770, 11231, 6297, 8334, 6065, 6074]),\n",
              " (4352, [986, 832, 1073, 1231, 1075, 2408, 202, 1525, 26, 25]),\n",
              " (4354, [55, 66, 3, 76, 20, 22, 19, 170, 11, 9]),\n",
              " (4355, [94, 11, 17, 50, 27, 42, 2, 1, 145, 6]),\n",
              " (4362, [318, 1005, 350, 316, 292, 269, 388, 353, 612, 441]),\n",
              " (4363, [4, 33, 22, 19, 20, 31, 48, 35, 1, 39]),\n",
              " (4399, [1816, 2517, 2145, 2761, 3905, 8, 16, 3721, 4, 112]),\n",
              " (4405, [39, 55, 58, 95, 76, 45, 9, 2, 4, 1]),\n",
              " (4407, [8, 9, 35, 144, 168, 72, 3, 33, 88, 1099]),\n",
              " (4421, [76, 4, 20, 116, 33, 9, 66, 6, 22, 19]),\n",
              " (4425, [6, 44, 1, 2, 77, 3, 60, 20, 116, 66]),\n",
              " (4436, [32, 96, 208, 8, 3, 1, 324, 14, 15, 16]),\n",
              " (4439, [42, 28, 37, 47, 120, 35, 11, 50, 9, 56]),\n",
              " (4444, [1962, 1851, 1871, 91, 35, 27, 56, 2236, 122, 186]),\n",
              " (4449, [342, 1214, 1288, 6, 486, 170, 24, 566, 14, 55]),\n",
              " (4451, [2, 3, 1, 29, 8, 25, 43, 9, 19, 22]),\n",
              " (4461, [138, 41, 19, 20, 31, 40, 14, 11, 33, 10]),\n",
              " (4465, [112, 2, 10, 4, 52, 6, 32, 1, 41, 33]),\n",
              " (4483, [224, 144, 168, 149, 184, 373, 361, 17, 11, 47]),\n",
              " (4489, [101, 36, 4, 2, 45, 3, 16, 1, 81, 8]),\n",
              " (4494, [1, 29, 117, 159, 11, 19, 98, 120, 6, 1031]),\n",
              " (4514, [6, 2, 388, 4, 1, 35, 3, 56, 8, 11]),\n",
              " (4529, [179, 4, 8, 22, 20, 33, 48, 2, 75, 590]),\n",
              " (4531, [4, 2, 14, 3, 22, 15, 24, 20, 8, 46]),\n",
              " (4540, [17, 27, 28, 42, 11, 50, 145, 37, 6, 2]),\n",
              " (4547, [112, 15, 36, 101, 1234, 1223, 257, 303, 34, 54]),\n",
              " (4554, [51, 1367, 131, 217, 81, 108, 192, 106, 63, 162]),\n",
              " (4572, [88, 6, 131, 26, 2, 8, 14, 401, 15, 106]),\n",
              " (4585, [15, 101, 451, 638, 830, 582, 480, 564, 685, 399]),\n",
              " (4589, [40, 39, 58, 4, 1, 6, 55, 3, 80, 17]),\n",
              " (4598, [4, 3980, 3880, 2, 6, 3, 4462, 5216, 8, 5821]),\n",
              " (4599, [706, 936, 1207, 1177, 3, 282, 82, 116, 308, 805]),\n",
              " (4604, [4, 20, 80, 74, 33, 48, 8, 174, 157, 1]),\n",
              " (4608, [1960, 2075, 540, 1163, 708, 3582, 9586, 11048, 99, 5289]),\n",
              " (4622, [342, 1108, 5, 436, 33, 4, 39, 20, 55, 40]),\n",
              " (4630, [1057, 2481, 3674, 112, 2252, 3, 5, 4145, 2, 877]),\n",
              " (4645, [41, 31, 39, 58, 55, 3, 76, 4, 2, 6]),\n",
              " (4653, [11, 270, 120, 18, 27, 47, 17, 326, 191, 37]),\n",
              " (4666, [220, 465, 906, 45, 880, 1024, 537, 191, 621, 860]),\n",
              " (4673, [4, 3, 2, 471, 1, 114, 6, 8, 78, 59]),\n",
              " (4679, [4999, 592, 6215, 2366, 2121, 7811, 2495, 6789, 7824, 6]),\n",
              " (4682, [764, 40, 41, 636, 31, 39, 119, 15, 3, 252]),\n",
              " (4691, [154, 8, 51, 35, 9, 107, 105, 16, 10, 29]),\n",
              " (4693, [14, 8, 6, 44, 25, 1, 2, 90, 46, 167]),\n",
              " (4696, [16, 1, 4, 2, 8, 24, 3, 22, 44, 14]),\n",
              " (4697, [14, 2, 11, 30, 1, 4, 18, 36, 38, 46]),\n",
              " (4711, [96, 182, 208, 2, 3, 8, 324, 6, 20, 344]),\n",
              " (4712, [1, 154, 2, 6, 8, 3, 19, 9, 20, 31]),\n",
              " (4721, [93, 1, 214, 38, 203, 36, 85, 4, 106, 90]),\n",
              " (4722, [96, 36, 10, 3, 182, 138, 202, 154, 85, 81]),\n",
              " (4726, [1, 4, 20, 433, 8, 19, 41, 30, 11, 9]),\n",
              " (4727, [2205, 112, 54, 3, 2, 30, 41, 15, 137, 31]),\n",
              " (4729, [64, 433, 1828, 399, 1682, 198, 57, 1367, 111, 159]),\n",
              " (4752, [12677, 10993, 16484, 3141, 16481, 36, 994, 14, 1071, 353]),\n",
              " (4754, [58, 66, 96, 60, 20, 4, 76, 33, 48, 344]),\n",
              " (4765, [3, 31, 39, 4, 20, 71, 40, 13, 1, 33]),\n",
              " (4774, [35, 186, 104, 144, 4042, 41, 39, 907, 4833, 31]),\n",
              " (4782, [15, 88, 81, 162, 51, 112, 131, 18, 206, 34]),\n",
              " (4815, [1374, 1794, 4277, 853, 696, 4, 2781, 45, 36, 964]),\n",
              " (4843, [60, 3, 20, 175, 2, 33, 22, 19, 83, 48]),\n",
              " (4849, [22, 1535, 33, 4, 1715, 6, 41, 103, 3, 73]),\n",
              " (4874, [299, 252, 2404, 2367, 2501, 1146, 928, 4292, 1273, 3945]),\n",
              " (4879, [3, 1, 14, 6, 8, 20, 25, 19, 22, 2]),\n",
              " (4884, [17, 2404, 28, 11, 50, 37, 4292, 911, 14, 4]),\n",
              " (4896, [44, 4, 1, 6, 3, 19, 20, 75, 14, 9]),\n",
              " (4902, [90, 237, 243, 49, 15, 68, 106, 108, 137, 87]),\n",
              " (4907, [2531, 1460, 8, 207, 1, 3, 6, 2, 3076, 1346]),\n",
              " (4916, [214, 203, 211, 6, 520, 3, 270, 1005, 230, 14]),\n",
              " (4936, [27, 47, 42, 14, 6, 3, 5, 9, 4, 15]),\n",
              " (4948, [6, 44, 14, 22, 24, 67, 566, 20, 74, 2]),\n",
              " (4958, [3, 4, 2, 69, 5, 196, 1, 6, 82, 8]),\n",
              " (4960, [41, 3, 87, 21, 345, 81, 298, 4, 1, 217]),\n",
              " (4965, [1214, 76, 41, 1288, 55, 40, 31, 39, 35, 160]),\n",
              " (4968, [112, 3, 2, 4, 1, 6, 8, 15, 41, 30]),\n",
              " (4976, [1, 2, 3, 15, 35, 14, 20, 33, 8, 26]),\n",
              " (4979, [17, 11, 28, 2, 42, 22, 3, 35, 80, 6]),\n",
              " (4984, [1, 3, 24, 14, 15, 4, 2, 58, 36, 90]),\n",
              " (4986, [76, 2, 11, 4, 42, 28, 35, 6, 5, 56]),\n",
              " (4990, [20, 1, 8, 14, 19, 3, 22, 33, 24, 48]),\n",
              " (4997, [129, 764, 51, 3440, 81, 34, 119, 88, 252, 138]),\n",
              " (5000, [1630, 4, 3, 2, 2277, 1, 6, 799, 8, 41]),\n",
              " (5001, [343, 547, 89, 236, 983, 390, 703, 624, 1143, 706]),\n",
              " (5010, [40, 55, 76, 146, 496, 35, 3, 318, 56, 955]),\n",
              " (5033, [764, 249, 119, 299, 261, 639, 292, 316, 329, 2293]),\n",
              " (5043, [4, 44, 1, 51, 3, 6, 20, 161, 16, 26]),\n",
              " (5048, [94, 99, 15, 3299, 180, 3, 21, 109, 85, 36]),\n",
              " (5051, [584, 536, 259, 1233, 59, 999, 1097, 137, 43, 648]),\n",
              " (5059, [2903, 3526, 2284, 2566, 2767, 1795, 896, 5023, 4079, 3744]),\n",
              " (5064, [3431, 4405, 6563, 2906, 7742, 112, 5650, 4716, 3, 11174]),\n",
              " (5076, [1, 28, 27, 14, 42, 30, 8, 3, 19, 35]),\n",
              " (5091, [85, 17, 50, 37, 47, 27, 38, 93, 1, 298]),\n",
              " (5103, [41, 40, 58, 857, 1073, 76, 970, 2408, 2, 22]),\n",
              " (5107, [1, 2, 4, 132, 3, 566, 446, 8, 891, 63]),\n",
              " (5112, [2, 19, 11, 48, 33, 17, 14, 24, 27, 9]),\n",
              " (5129, [540, 17, 37, 27, 50, 47, 585, 1, 708, 1840]),\n",
              " (5133, [31, 104, 224, 3, 319, 258, 5, 310, 240, 361]),\n",
              " (5162, [40, 154, 2, 4, 20, 34, 1, 6, 15, 94]),\n",
              " (5167, [161, 506, 403, 515, 544, 922, 354, 34, 637, 337]),\n",
              " (5169, [33, 9, 104, 35, 4, 20, 2, 19, 144, 1]),\n",
              " (5187, [103, 60, 4, 74, 33, 170, 260, 279, 66, 22]),\n",
              " (5191, [39, 58, 76, 3, 1, 20, 9, 19, 33, 6]),\n",
              " (5200, [320, 907, 708, 1722, 1041, 35, 104, 56, 2, 1443]),\n",
              " (5204, [35, 5, 56, 95, 155, 11, 19, 4, 496, 2]),\n",
              " (5215, [54, 112, 68, 18, 51, 506, 403, 107, 85, 30]),\n",
              " (5235, [41, 3, 4, 58, 15, 262, 31, 39, 55, 40]),\n",
              " (5242, [39, 31, 40, 76, 1, 514, 203, 4, 188, 520]),\n",
              " (5268, [131, 90, 87, 155, 797, 334, 206, 54, 221, 112]),\n",
              " (5274, [138, 182, 60, 8, 324, 116, 2, 85, 33, 24]),\n",
              " (5284, [22, 4, 598, 2, 48, 3, 1448, 19, 1, 1625]),\n",
              " (5330, [837, 583, 828, 291, 978, 411, 1051, 905, 137, 107]),\n",
              " (5334, [208, 321, 71, 729, 86, 2236, 1596, 655, 433, 81]),\n",
              " (5339, [67, 74, 44, 278, 20, 33, 172, 134, 8, 260]),\n",
              " (5340, [401, 94, 596, 8, 20, 22, 87, 33, 75, 66]),\n",
              " (5348, [298, 21, 15, 54, 18, 36, 81, 87, 222, 90]),\n",
              " (5350, [1483, 17, 11, 50, 28, 37, 85, 201, 275, 71]),\n",
              " (5366, [1124, 17, 451, 824, 564, 42, 47, 2, 9, 771]),\n",
              " (5374, [3458, 2543, 2963, 3977, 2163, 1920, 392, 4079, 2590, 94]),\n",
              " (5387, [31, 39, 76, 4, 9, 6, 15, 104, 149, 19]),\n",
              " (5390, [58, 2476, 116, 2, 60, 8, 1, 48, 347, 1560]),\n",
              " (5391, [467, 40, 58, 76, 764, 2, 11, 293, 186, 636]),\n",
              " (5397, [58, 3, 2, 23, 4, 64, 16, 198, 1, 486]),\n",
              " (5398, [2, 1, 6, 14, 4, 212, 20, 19, 44, 74]),\n",
              " (5399, [17, 5, 42, 2, 30, 1, 145, 104, 149, 126]),\n",
              " (5405, [112, 137, 54, 3, 2, 30, 41, 15, 127, 31]),\n",
              " (5420, [15, 585, 907, 87, 51, 1443, 1041, 85, 105, 18]),\n",
              " (5441, [4, 20, 22, 33, 48, 9, 8, 1, 77, 116]),\n",
              " (5447, [76, 533, 3, 141, 33, 170, 22, 48, 212, 2505]),\n",
              " (5472, [160, 536, 414, 956, 154, 101, 230, 403, 15, 137]),\n",
              " (5490, [564, 1868, 1055, 451, 1147, 898, 691, 830, 1683, 771]),\n",
              " (5493, [60, 116, 77, 22, 48, 66, 2, 3, 19, 252]),\n",
              " (5510, [411, 905, 15, 161, 1127, 101, 1497, 69, 1537, 18]),\n",
              " (5520, [6026, 16571, 6836, 39, 11090, 11098, 41, 55, 11147, 9773]),\n",
              " (5536, [31, 40, 76, 58, 41, 185, 39, 137, 287, 126]),\n",
              " (5552, [9, 56, 1, 96, 2, 3, 144, 8, 168, 138]),\n",
              " (5558, [15, 131, 51, 107, 202, 192, 36, 159, 85, 117]),\n",
              " (5559, [112, 5044, 3, 2, 4, 1, 6, 8328, 7647, 8]),\n",
              " (5560, [96, 182, 467, 573, 764, 8, 119, 52, 636, 15]),\n",
              " (5562, [15, 536, 3, 59, 399, 160, 956, 2, 41, 999]),\n",
              " (5568, [112, 3, 2, 4, 1, 6, 2830, 1641, 327, 8]),\n",
              " (5586, [1130, 3023, 674, 15, 1968, 3379, 1908, 112, 3, 2016]),\n",
              " (5589, [5504, 7354, 7019, 2404, 2367, 3218, 329, 408, 643, 1200]),\n",
              " (5590, [6681, 66, 133, 94, 3737, 4162, 1619, 314, 6675, 4153]),\n",
              " (5599, [3, 4, 1, 2, 16, 31, 25, 40, 15, 32]),\n",
              " (5602, [112, 44, 3, 2, 4, 1, 62, 6, 241, 8]),\n",
              " (5615, [3407, 2516, 467, 440, 188, 414, 93, 430, 38, 573]),\n",
              " (5620, [15, 108, 101, 106, 90, 18, 137, 54, 180, 112]),\n",
              " (5621, [3, 137, 68, 10, 30, 18, 127, 167, 276, 69]),\n",
              " (5622, [326, 220, 537, 33, 389, 768, 792, 95, 880, 465]),\n",
              " (5630, [48, 903, 375, 4, 775, 2, 124, 19, 1, 3]),\n",
              " (5638, [28, 17, 27, 11, 42, 19, 1, 63, 50, 775]),\n",
              " (5643, [88, 131, 107, 72, 26, 18, 108, 14, 215, 475]),\n",
              " (5657, [624, 754, 1290, 236, 2237, 343, 308, 805, 1107, 2034]),\n",
              " (5663, [41, 58, 2, 4, 1, 15, 257, 841, 112, 9]),\n",
              " (5685, [17, 28, 64, 50, 13, 2438, 11, 1499, 37, 145]),\n",
              " (5686, [96, 138, 2, 182, 31, 4, 3, 208, 8, 75]),\n",
              " (5691, [898, 564, 824, 855, 619, 745, 1536, 569, 1355, 1147]),\n",
              " (5692, [5182, 5363, 6521, 3771, 7497, 8238, 11068, 7853, 4053, 138]),\n",
              " (5693, [47, 27, 17, 2, 42, 6, 50, 4, 37, 14]),\n",
              " (5695, [51, 15, 88, 179, 6, 34, 14, 81, 1, 90]),\n",
              " (5722, [4, 8, 33, 2, 24, 19, 20, 14, 48, 65]),\n",
              " (5746, [111, 122, 2, 4, 35, 41, 40, 56, 31, 6]),\n",
              " (5760, [4, 1, 2, 44, 3, 742, 20, 96, 6, 48]),\n",
              " (5780, [6, 11, 4, 15, 104, 26, 126, 90, 17, 19]),\n",
              " (5796, [2, 23, 17, 3, 27, 126, 293, 4, 11, 122]),\n",
              " (5808, [3, 817, 112, 26, 692, 4, 54, 886, 16, 2]),\n",
              " (5810, [702, 1799, 260, 369, 4, 1874, 456, 579, 66, 77]),\n",
              " (5813, [813, 94, 88, 255, 1099, 34, 202, 483, 345, 1193]),\n",
              " (5814, [851, 112, 167, 3, 402, 759, 89, 2, 114, 230]),\n",
              " (5819, [4, 3, 25, 2, 107, 1, 131, 6, 1220, 8]),\n",
              " (5828, [399, 9, 35, 582, 27, 17, 104, 2, 47, 11]),\n",
              " (5852, [17, 2, 50, 4, 47, 42, 3, 14, 37, 20]),\n",
              " (5853, [31, 55, 58, 249, 76, 299, 242, 313, 1146, 4]),\n",
              " (5887, [104, 149, 184, 319, 240, 433, 372, 382, 9, 361]),\n",
              " (5891, [261, 347, 329, 6, 1256, 8, 630, 1, 20, 2]),\n",
              " (5933, [31, 40, 55, 58, 6, 1, 4, 76, 17, 20]),\n",
              " (5943, [4, 33, 22, 48, 20, 251, 73, 163, 24, 193]),\n",
              " (5947, [564, 824, 569, 760, 1749, 745, 749, 685, 4, 1147]),\n",
              " (5948, [76, 60, 147, 1041, 907, 1163, 220, 20, 3, 95]),\n",
              " (5959, [27, 22, 19, 42, 4, 2, 47, 48, 1, 28]),\n",
              " (5968, [2777, 20, 4, 7315, 48, 3575, 19, 25, 116, 346]),\n",
              " (5977, [15, 1, 44, 2, 19, 26, 51, 34, 25, 16]),\n",
              " (5979, [11, 17, 28, 2, 1, 27, 51, 3, 37, 107]),\n",
              " (5982, [2517, 708, 2075, 1443, 1840, 4, 2106, 8, 2109, 44]),\n",
              " (5984, [4, 596, 8, 72, 51, 67, 183, 108, 3, 14]),\n",
              " (5992, [4, 33, 35, 30, 1, 48, 56, 78, 68, 116]),\n",
              " (6007, [2777, 31, 3, 39, 58, 1, 4676, 40, 6180, 55]),\n",
              " (6011, [262, 15, 36, 41, 88, 44, 29, 298, 81, 39]),\n",
              " (6037, [58, 3, 2, 262, 68, 15, 62, 4, 85, 20]),\n",
              " (6041, [197, 112, 3612, 267, 102, 1326, 10, 54, 32, 3]),\n",
              " (6060, [95, 8, 6, 19, 26, 17, 20, 14, 33, 89]),\n",
              " (6070, [8, 19, 3, 25, 16, 51, 48, 26, 17, 44]),\n",
              " (6071, [1008, 66, 1932, 647, 2255, 1464, 238, 116, 2910, 2669]),\n",
              " (6074, [1, 6, 4, 112, 9, 3, 68, 20, 19, 11]),\n",
              " (6077, [182, 208, 324, 344, 2, 4, 35, 10, 1, 31]),\n",
              " (6083, [32, 2, 208, 14, 8, 11, 19, 324, 20, 56]),\n",
              " (6093, [34, 1019, 831, 1464, 1932, 2807, 459, 285, 106, 2255]),\n",
              " (6101, [104, 224, 56, 144, 168, 807, 382, 361, 184, 803]),\n",
              " (6109, [28, 11, 2, 1, 4, 9, 17, 19, 27, 14]),\n",
              " (6121, [41, 39, 3, 64, 486, 1108, 11, 13, 2, 28]),\n",
              " (6123, [108, 112, 6, 15, 41, 14, 177, 58, 30, 68]),\n",
              " (6126, [401, 88, 179, 4, 596, 813, 114, 43, 108, 6]),\n",
              " (6129, [27, 50, 47, 11, 154, 126, 128, 71, 1790, 136]),\n",
              " (6147, [3, 44, 4, 981, 1, 15, 2, 6, 54, 16]),\n",
              " (6170, [4, 6, 1, 2, 20, 35, 26, 3, 24, 14]),\n",
              " (6178, [324, 376, 242, 17, 573, 1, 11, 89, 28, 9]),\n",
              " (6190, [17, 27, 47, 42, 37, 3, 4, 23, 19, 56]),\n",
              " (6205, [104, 1, 3, 11, 30, 144, 149, 168, 14, 26]),\n",
              " (6211, [11, 28, 2, 42, 4, 50, 80, 37, 14, 8]),\n",
              " (6217, [4, 6, 2, 8, 19, 33, 44, 3, 75, 22]),\n",
              " (6222, [14, 114, 743, 108, 167, 138, 63, 51, 70, 46]),\n",
              " (6240, [1604, 2401, 1729, 3128, 697, 1870, 2823, 3592, 347, 116]),\n",
              " (6242, [36, 3, 154, 6, 2, 10, 51, 44, 16, 20]),\n",
              " (6257, [28, 11, 37, 321, 17, 2, 3, 1, 27, 9]),\n",
              " (6269, [56, 35, 73, 194, 141, 251, 163, 42, 33, 2]),\n",
              " (6272, [1, 8, 19, 2, 26, 88, 44, 101, 20, 24]),\n",
              " (6289, [6, 108, 30, 14, 112, 263, 15, 18, 70, 24]),\n",
              " (6301, [40, 4, 15, 6, 20, 10, 35, 22, 11, 16]),\n",
              " (6328, [96, 208, 51, 324, 262, 179, 81, 955, 344, 36]),\n",
              " (6342, [116, 4, 20, 291, 44, 1, 583, 101, 51, 25]),\n",
              " (6346, [6052, 6875, 7132, 6585, 7134, 7486, 6051, 7133, 6053, 6054]),\n",
              " (6371, [17, 3, 28, 11, 47, 50, 1, 2, 5, 6]),\n",
              " (6376, [182, 324, 291, 411, 66, 94, 10, 99, 119, 346]),\n",
              " (6377, [4, 1398, 1213, 14, 2, 19, 22, 8, 678, 220]),\n",
              " (6396, [47, 11, 50, 19, 35, 1, 45, 22, 4, 136]),\n",
              " (6415, [476, 1267, 15, 3625, 3, 2, 1331, 29, 36, 291]),\n",
              " (6426, [117, 85, 15, 29, 120, 21, 264, 131, 18, 112]),\n",
              " (6428, [54, 159, 2, 120, 6, 32, 4, 85, 30, 101]),\n",
              " (6461, [88, 81, 15, 217, 107, 178, 202, 2, 87, 4]),\n",
              " (6486, [58, 55, 76, 3, 20, 2, 19, 1, 22, 6]),\n",
              " (6509, [627, 346, 112, 58, 41, 40, 18, 68, 31, 39]),\n",
              " (6517, [1, 2, 41, 11, 40, 33, 48, 6, 14, 58]),\n",
              " (6522, [8, 2617, 4, 177, 19, 25, 1286, 16, 164, 1816]),\n",
              " (6530, [22, 20, 33, 48, 24, 65, 80, 134, 83, 212]),\n",
              " (6534, [433, 98, 582, 43, 57, 133, 109, 350, 348, 335]),\n",
              " (6536, [2295, 2558, 31, 41, 40, 39, 55, 96, 4, 1]),\n",
              " (6564, [33, 65, 48, 73, 193, 170, 74, 272, 24, 212]),\n",
              " (6572, [8, 1, 2, 6, 16, 22, 68, 33, 25, 20]),\n",
              " (6588, [17, 56, 9, 399, 28, 50, 144, 37, 126, 42]),\n",
              " (6590, [467, 242, 19, 4, 74, 636, 75, 33, 2, 229]),\n",
              " (6595, [28, 47, 27, 42, 2, 5, 145, 38, 3, 14]),\n",
              " (6610, [88, 51, 15, 813, 107, 255, 1099, 87, 130, 202]),\n",
              " (6612, [41, 33, 19, 2, 103, 83, 66, 77, 9, 73]),\n",
              " (6615, [2958, 31, 896, 2766, 2618, 7735, 6, 22, 5707, 7030]),\n",
              " (6640, [6277, 7883, 141, 212, 171, 163, 474, 139, 272, 543]),\n",
              " (6641, [6, 3, 15, 9, 14, 35, 56, 4, 81, 51]),\n",
              " (6655, [3, 4, 2, 33, 1, 20, 6, 41, 31, 8]),\n",
              " (6658, [27, 47, 95, 42, 37, 3, 35, 145, 9, 1]),\n",
              " (6668, [40, 55, 344, 76, 3, 10, 2, 1, 4, 11]),\n",
              " (6669, [96, 138, 182, 112, 54, 208, 324, 3, 2, 15]),\n",
              " (6673, [1029, 915, 1438, 89, 1207, 936, 343, 1177, 112, 884]),\n",
              " (6683, [2, 3, 28, 17, 37, 41, 31, 5, 126, 1]),\n",
              " (6685, [35, 37, 104, 102, 2, 3, 126, 28, 144, 168]),\n",
              " (6738, [6, 9, 20, 2, 1, 8, 22, 104, 116, 48]),\n",
              " (6742, [55, 58, 11, 76, 28, 47, 42, 186, 50, 3072]),\n",
              " (6759, [44, 20, 1, 2, 66, 6, 3, 116, 24, 74]),\n",
              " (6765, [242, 592, 573, 433, 40, 55, 39, 764, 186, 31]),\n",
              " (6796, [182, 34, 208, 4, 3, 324, 41, 58, 1, 31]),\n",
              " (6798, [3214, 5339, 5531, 7010, 6226, 5000, 5530, 3391, 2208, 2967]),\n",
              " (6807, [11, 27, 56, 4, 42, 3, 14, 47, 6, 5]),\n",
              " (6810, [1883, 2683, 697, 907, 1041, 2702, 2516, 585, 34, 3128]),\n",
              " (6818, [1, 19, 14, 95, 326, 8, 45, 389, 537, 22]),\n",
              " (6851, [58, 41, 101, 31, 15, 126, 40, 39, 55, 161]),\n",
              " (6864, [8, 44, 1, 17, 4, 2, 25, 27, 19, 75]),\n",
              " (6897, [108, 202, 4, 1, 8, 87, 107, 26, 131, 179]),\n",
              " (6906, [111, 244, 239, 17, 511, 857, 27, 71, 37, 11]),\n",
              " (6910, [22, 4, 6, 14, 20, 19, 27, 11, 3, 41]),\n",
              " (6917, [133, 314, 298, 139, 171, 93, 214, 165, 203, 3]),\n",
              " (6927, [35, 9, 144, 1481, 3, 224, 184, 2, 41, 149]),\n",
              " (6929, [11, 259, 42, 28, 47, 37, 19, 2, 1, 22]),\n",
              " (6978, [3, 56, 8, 25, 9, 16, 154, 104, 144, 75]),\n",
              " (6986, [182, 208, 344, 13, 3, 4, 2, 16, 29, 24]),\n",
              " (6993, [15, 14, 6, 4, 154, 2, 101, 3, 90, 26]),\n",
              " (6998, [40, 58, 55, 2, 4, 27, 9, 76, 28, 5]),\n",
              " (7005, [6, 14, 3, 16, 25, 15, 3905, 19, 38, 22]),\n",
              " (7011, [802, 1330, 663, 862, 940, 1977, 1426, 1091, 330, 607]),\n",
              " (7015, [4, 16, 1, 6, 107, 26, 3, 19, 20, 25]),\n",
              " (7019, [202, 179, 131, 596, 365, 217, 114, 813, 9, 207]),\n",
              " (7024, [99, 34, 3, 2, 8, 41, 1, 6, 31, 25]),\n",
              " (7027, [3059, 2084, 66, 99, 4544, 116, 813, 77, 4799, 179]),\n",
              " (7036, [6, 1, 2, 3, 8, 208, 19, 20, 32, 138]),\n",
              " (7057, [34, 41, 58, 39, 40, 3, 76, 55, 29, 88]),\n",
              " (7058, [6, 8, 56, 24, 9, 14, 114, 104, 20, 44]),\n",
              " (7059, [41, 55, 58, 4, 2, 65, 1, 20, 76, 19]),\n",
              " (7069, [4, 95, 33, 20, 22, 48, 44, 80, 3, 11]),\n",
              " (7075, [17, 11, 2, 14, 28, 42, 3, 47, 50, 36]),\n",
              " (7086, [4, 19, 1, 22, 1481, 6, 85, 96, 138, 16]),\n",
              " (7092, [3, 33, 80, 65, 22, 1, 9, 48, 279, 309]),\n",
              " (7113, [242, 3905, 252, 299, 639, 138, 96, 1146, 35, 2056]),\n",
              " (7119, [2, 3, 6, 22, 20, 48, 44, 33, 14, 25]),\n",
              " (7133, [1342, 94, 99, 34, 3458, 2590, 2163, 2543, 2963, 262]),\n",
              " (7151, [182, 324, 20, 344, 837, 22, 48, 4, 60, 66]),\n",
              " (7167, [1, 6, 11, 20, 3, 8, 27, 22, 33, 80]),\n",
              " (7173, [9, 104, 149, 3, 144, 168, 1, 184, 4, 41]),\n",
              " (7187, [208, 175, 353, 441, 612, 573, 428, 415, 133, 350]),\n",
              " (7188, [4, 1, 20, 19, 2, 3, 14, 22, 38, 74]),\n",
              " (7193, [112, 3, 2, 4, 1, 6, 8, 15, 41, 30]),\n",
              " (7201, [27, 28, 58, 47, 41, 11, 50, 40, 31, 3]),\n",
              " (7222, [1, 14, 2, 6, 15, 4, 33, 22, 38, 36]),\n",
              " (7232, [22, 2, 1, 19, 14, 3, 26, 8, 9, 65]),\n",
              " (7235, [1682, 1186, 1828, 4, 1, 1279, 6, 31, 799, 261]),\n",
              " (7238, [96, 138, 182, 15, 208, 51, 179, 101, 81, 324]),\n",
              " (7244, [126, 2, 1, 1207, 35, 16, 20, 6, 33, 11]),\n",
              " (7270, [632, 112, 82, 390, 1750, 2538, 54, 69, 308, 283]),\n",
              " (7275, [249, 119, 639, 536, 584, 117, 313, 242, 956, 1001]),\n",
              " (7284, [39, 55, 58, 1, 14, 33, 3, 48, 76, 22]),\n",
              " (7285, [702, 801, 14, 8, 2, 250, 33, 6, 1, 22]),\n",
              " (7288, [14, 1, 4, 2, 132, 3, 566, 8, 718, 46]),\n",
              " (7306, [76, 116, 733, 4076, 3, 4082, 175, 320, 388, 9]),\n",
              " (7309, [376, 313, 3, 94, 4, 636, 1, 20, 32, 43]),\n",
              " (7323, [55, 56, 144, 28, 184, 168, 224, 34, 43, 15]),\n",
              " (7326, [39, 40, 76, 55, 15, 36, 29, 262, 1, 4]),\n",
              " (7361, [154, 540, 907, 320, 93, 38, 585, 188, 262, 88]),\n",
              " (7369, [27, 1342, 28, 11, 50, 94, 99, 93, 37, 38]),\n",
              " (7373, [58, 3, 20, 33, 5, 4, 22, 9, 2, 45]),\n",
              " (7380, [6, 14, 104, 30, 24, 8, 84, 70, 108, 566]),\n",
              " (7388, [2, 11, 22, 103, 27, 19, 47, 46, 48, 427]),\n",
              " (7406, [41, 2, 4, 33, 9, 22, 48, 6, 35, 26]),\n",
              " (7426, [1960, 1840, 31, 6207, 262, 1911, 5332, 147, 5289, 2072]),\n",
              " (7445, [4, 44, 3, 19, 24, 25, 70, 20, 9, 106]),\n",
              " (7446, [956, 259, 414, 80, 95, 1001, 45, 999, 326, 4]),\n",
              " (7460, [4, 67, 2, 6, 164, 16, 15, 19, 25, 238]),\n",
              " (7461, [1029, 1438, 343, 308, 5, 983, 41, 713, 282, 2]),\n",
              " (7463, [94, 254, 314, 38, 3, 269, 4, 203, 1081, 146]),\n",
              " (7469, [39, 76, 3, 732, 23, 2, 328, 9, 355, 17]),\n",
              " (7471, [401, 179, 813, 88, 43, 202, 29, 51, 255, 98]),\n",
              " (7477, [138, 208, 324, 344, 10, 66, 60, 1, 2, 19]),\n",
              " (7485, [540, 320, 99, 2963, 1960, 1443, 2075, 2127, 31, 1163]),\n",
              " (7490, [1, 4, 2, 14, 3, 8, 20, 80, 33, 48]),\n",
              " (7493, [3, 112, 15, 51, 155, 1, 32, 30, 41, 6]),\n",
              " (7497, [76, 33, 22, 103, 3, 9, 163, 6, 83, 228]),\n",
              " (7505, [401, 51, 34, 94, 108, 87, 72, 106, 6, 15]),\n",
              " (7507, [40, 39, 76, 3, 1, 33, 6, 22, 16, 9]),\n",
              " (7510, [120, 1191, 1481, 1422, 109, 12, 4, 510, 19, 2]),\n",
              " (7522, [34, 36, 3, 154, 44, 1, 25, 41, 101, 6]),\n",
              " (7534, [35, 56, 15, 9, 2, 4, 3, 1, 28, 45]),\n",
              " (7538, [9712, 138, 11178, 10234, 9813, 324, 344, 5038, 81, 15]),\n",
              " (7541, [35, 144, 56, 186, 361, 149, 168, 372, 288, 240]),\n",
              " (7542, [467, 242, 138, 182, 32, 94, 40, 636, 31, 39]),\n",
              " (7548, [4, 20, 48, 301, 33, 5, 702, 22, 260, 164]),\n",
              " (7550, [40, 31, 58, 76, 22, 6, 4, 3, 33, 48]),\n",
              " (7557, [4, 41, 87, 40, 51, 39, 58, 8, 55, 19]),\n",
              " (7584, [32, 15, 138, 4, 1382, 182, 20, 1, 2, 1816]),\n",
              " (7593, [7369, 6723, 6720, 7027, 7028, 6725, 6426, 6721, 324, 1966]),\n",
              " (7596, [11, 824, 27, 28, 451, 1155, 569, 685, 1746, 50]),\n",
              " (7603, [36, 16, 44, 101, 53, 3, 4, 29, 32, 392]),\n",
              " (7620, [2034, 5507, 137, 1207, 18, 511, 1177, 112, 3537, 68]),\n",
              " (7624, [2, 1, 25, 15, 81, 44, 87, 22, 19, 32]),\n",
              " (7635, [430, 242, 2423, 94, 99, 179, 1078, 4267, 131, 401]),\n",
              " (7644, [955, 126, 37, 28, 1, 11, 27, 17, 47, 2150]),\n",
              " (7649, [1897, 401, 72, 51, 596, 202, 8332, 3269, 813, 81]),\n",
              " (7653, [101, 3, 29, 85, 51, 1, 350, 4, 2, 10]),\n",
              " (7660, [11, 27, 42, 36, 6, 14, 51, 30, 90, 4]),\n",
              " (7664, [1722, 585, 1041, 2075, 320, 4154, 2013, 4704, 3582, 3653]),\n",
              " (7674, [1, 85, 88, 6, 4, 51, 44, 38, 8, 2]),\n",
              " (7696, [31, 55, 3, 1, 2, 20, 33, 36, 56, 35]),\n",
              " (7702, [40, 55, 58, 76, 2, 8, 1, 20, 48, 596]),\n",
              " (7704, [51, 160, 30, 137, 87, 54, 114, 26, 18, 414]),\n",
              " (7708, [202, 4, 3403, 228, 8, 20, 74, 81, 19, 2308]),\n",
              " (7714, [540, 32, 138, 208, 3, 1722, 2, 182, 907, 324]),\n",
              " (7717, [680, 101, 337, 403, 15, 895, 515, 699, 2775, 429]),\n",
              " (7740, [4, 8, 24, 33, 20, 11, 3, 108, 90, 48]),\n",
              " (7744, [639, 1146, 109, 5, 64, 928, 29, 198, 3, 1273]),\n",
              " (7762, [17, 42, 11, 28, 50, 47, 2, 35, 5, 3]),\n",
              " (7765, [112, 3, 2, 4, 1, 6, 8, 15, 41, 167]),\n",
              " (7777, [31, 56, 104, 184, 168, 319, 258, 3, 382, 361]),\n",
              " (7781, [99, 85, 41, 31, 76, 159, 40, 39, 120, 15]),\n",
              " (7785, [33, 4, 2, 65, 170, 73, 103, 45, 3, 157]),\n",
              " (7802, [11, 50, 17, 27, 37, 47, 1481, 2, 3, 1]),\n",
              " (7803, [55, 540, 3, 2, 1, 20, 30, 6, 33, 22]),\n",
              " (7808, [3, 4, 2, 11, 2102, 23, 9, 64, 13, 41]),\n",
              " (7818, [28, 2321, 50, 17, 1461, 47, 9, 30, 27, 145]),\n",
              " (7828, [117, 120, 500, 275, 550, 126, 379, 293, 36, 4266]),\n",
              " (7867, [41, 40, 39, 64, 6525, 31, 6052, 7487, 6574, 21]),\n",
              " (7889, [1, 4, 98, 3, 56, 64, 29, 5, 15, 109]),\n",
              " (7893, [32, 10, 138, 182, 2, 3, 59, 95, 939, 208]),\n",
              " (7902, [326, 537, 792, 95, 220, 1024, 465, 1756, 880, 768]),\n",
              " (7916, [6178, 6198, 6179, 6723, 6427, 6452, 6748, 7028, 5303, 8548]),\n",
              " (7918, [56, 35, 104, 17, 9, 47, 28, 168, 11, 2]),\n",
              " (7934, [8, 2, 4, 25, 6, 3, 19, 14, 20, 167]),\n",
              " (7942, [17909, 17903, 17901, 17910, 96, 17888, 428, 134, 20, 378]),\n",
              " (7957, [40, 58, 55, 76, 3, 2, 4, 20, 33, 1]),\n",
              " (7965, [58, 40, 41, 31, 39, 68, 2, 6, 54, 1]),\n",
              " (7968, [138, 182, 208, 4, 324, 1, 36, 10, 112, 31]),\n",
              " (7973, [93, 4, 2, 214, 6, 211, 9, 28, 80, 27]),\n",
              " (7977, [7912, 4597, 4332, 7935, 1190, 1313, 2021, 415, 937, 2844]),\n",
              " (7982, [3424, 603, 188, 203, 1978, 3178, 358, 214, 323, 230]),\n",
              " (7993, [3, 76, 1, 8, 20, 6, 11, 19, 32, 17]),\n",
              " (8003, [39, 55, 76, 2, 1, 56, 19, 22, 48, 30]),\n",
              " (8005, [171, 2198, 316, 350, 148, 165, 116, 56, 9, 843]),\n",
              " (8015, [17, 6, 2, 14, 48, 42, 33, 47, 8, 28]),\n",
              " (8040, [99, 3458, 705, 738, 262, 392, 51, 72, 15, 4889]),\n",
              " (8041, [60, 116, 208, 344, 304, 1, 19, 6, 165, 33]),\n",
              " (8045, [1, 2, 96, 4, 138, 3, 15, 14, 182, 8]),\n",
              " (8055, [55, 58, 76, 4, 20, 22, 19, 9, 11, 48]),\n",
              " (8066, [47, 27, 2, 42, 1, 37, 9, 19, 8, 14]),\n",
              " (8071, [392, 32, 540, 738, 320, 96, 346, 138, 3, 715]),\n",
              " (8082, [22, 6, 1, 48, 67, 33, 80, 65, 3, 73]),\n",
              " (8086, [170, 103, 141, 22, 193, 48, 251, 95, 45, 212]),\n",
              " (8092, [19, 2, 1, 14, 6, 28, 80, 17, 35, 27]),\n",
              " (8099, [1225, 3, 4, 1, 2063, 2, 31, 41, 40, 39]),\n",
              " (8103, [592, 1108, 1288, 618, 342, 751, 68, 112, 271, 54]),\n",
              " (8104, [290, 629, 456, 1747, 153, 88, 661, 84, 228, 72]),\n",
              " (8108, [96, 32, 376, 242, 573, 764, 178, 81, 119, 36]),\n",
              " (8110, [2321, 56, 1461, 104, 144, 9, 168, 149, 45, 310]),\n",
              " (8151, [1195, 1398, 896, 770, 919, 8, 14, 1277, 2566, 44]),\n",
              " (8176, [56, 149, 310, 361, 683, 42, 258, 47, 1082, 2717]),\n",
              " (8192, [41, 40, 39, 58, 55, 76, 2, 4, 1, 6]),\n",
              " (8198, [1083, 154, 582, 1288, 108, 1688, 14, 41, 58, 15]),\n",
              " (8211, [44, 67, 8, 20, 1, 14, 33, 22, 84, 6]),\n",
              " (8224, [4, 2, 42, 11, 22, 20, 47, 3, 48, 14]),\n",
              " (8230, [340, 11, 91, 28, 17, 111, 3, 489, 76, 39]),\n",
              " (8237, [43, 109, 198, 98, 29, 21, 455, 112, 30, 204]),\n",
              " (8244, [55, 76, 2, 1, 4, 5, 20, 28, 33, 9]),\n",
              " (8275, [76, 4, 2, 1, 26, 8, 9, 33, 60, 116]),\n",
              " (8276, [40, 76, 3, 20, 77, 4, 33, 60, 22, 2]),\n",
              " (8278, [9103, 8622, 10865, 11728, 4858, 1177, 6229, 6784, 1290, 3512]),\n",
              " (8282, [2702, 29, 2072, 15, 1, 2495, 1253, 3, 18, 1032]),\n",
              " (8287, [96, 131, 4, 81, 10, 1, 3, 78, 8, 15]),\n",
              " (8302, [1422, 3188, 4552, 5508, 4978, 2453, 3162, 4, 2, 6]),\n",
              " (8316, [31, 41, 94, 1286, 34, 58, 8437, 55, 8417, 2]),\n",
              " (8321, [9, 144, 1, 145, 318, 149, 171, 184, 146, 14]),\n",
              " (8329, [51, 15, 85, 77, 81, 596, 2, 183, 255, 345]),\n",
              " (8342, [978, 1051, 249, 119, 2237, 129, 313, 4, 2, 805]),\n",
              " (8348, [4559, 2198, 2290, 9455, 3205, 3258, 5504, 5307, 1674, 5922]),\n",
              " (8357, [135, 177, 87, 813, 84, 105, 4, 202, 183, 24]),\n",
              " (8364, [17, 11, 28, 347, 2, 47, 329, 1, 799, 261]),\n",
              " (8387, [8, 22, 19, 48, 33, 20, 2, 6, 41, 31]),\n",
              " (8403, [104, 56, 144, 168, 184, 224, 240, 4, 258, 2]),\n",
              " (8424, [41, 31, 39, 76, 1083, 1288, 486, 15, 143, 2]),\n",
              " (8446, [40, 58, 4870, 138, 4869, 5020, 148, 60, 5992, 4440]),\n",
              " (8447, [3, 4, 2, 1, 9, 8, 16, 11, 17, 10]),\n",
              " (8450, [22, 1, 6, 48, 2, 20, 24, 31, 73, 41]),\n",
              " (8451, [95, 45, 220, 389, 4, 537, 22, 465, 2, 8]),\n",
              " (8465, [116, 77, 35, 11, 4, 9, 2, 14, 34, 17]),\n",
              " (8470, [919, 770, 428, 717, 625, 761, 678, 1856, 1014, 1857]),\n",
              " (8471, [88, 4, 87, 131, 8, 107, 26, 25, 75, 2]),\n",
              " (8474, [3, 2, 8, 1, 121, 32, 31, 25, 40, 20]),\n",
              " (8490, [6, 4, 27, 85, 15, 11, 20, 22, 8, 25]),\n",
              " (8495, [1481, 3188, 41, 31, 40, 39, 55, 48, 4552, 110]),\n",
              " (8496, [1411, 809, 34, 99, 320, 179, 94, 907, 60, 4]),\n",
              " (8503, [58, 6, 4, 2, 90, 3, 8, 1, 54, 14]),\n",
              " (8536, [906, 537, 768, 191, 860, 1067, 997, 1756, 1447, 2092]),\n",
              " (8538, [580, 1028, 109, 4, 1, 3, 6, 21, 267, 64]),\n",
              " (8542, [40, 39, 31, 55, 85, 88, 87, 3, 76, 95]),\n",
              " (8546, [3, 2, 4, 31, 40, 9, 8, 58, 41, 5]),\n",
              " (8548, [39, 76, 3, 22, 2, 17, 1, 48, 9, 11]),\n",
              " (8551, [55, 58, 3, 6, 11, 48, 42, 50, 8, 26]),\n",
              " (8554, [42, 28, 50, 47, 11, 1, 38, 37, 154, 203]),\n",
              " (8561, [4, 3, 6, 1, 35, 28, 20, 41, 36, 27]),\n",
              " (8575, [40, 55, 76, 3, 4, 95, 33, 20, 2, 1]),\n",
              " (8589, [1, 3, 6, 4, 68, 18, 8, 20, 14, 90]),\n",
              " (8599, [8, 1, 44, 6, 20, 16, 2, 66, 19, 31]),\n",
              " (8600, [652, 6, 4, 2, 8, 1, 14, 1860, 24, 19]),\n",
              " (8604, [14, 112, 2, 1, 26, 95, 90, 4, 3, 41]),\n",
              " (8609, [66, 9, 304, 144, 309, 3, 4, 378, 2446, 39]),\n",
              " (8617, [40, 31, 28, 2, 37, 5, 19, 4, 35, 145]),\n",
              " (8621, [4, 2, 1, 8, 80, 48, 20, 299, 6, 95]),\n",
              " (8628, [4082, 2121, 7824, 7811, 7771, 9091, 2728, 3609, 1776, 15849]),\n",
              " (8663, [160, 59, 536, 2, 584, 4, 3, 956, 9, 82]),\n",
              " (8676, [584, 4861, 160, 59, 956, 414, 51, 536, 2773, 202]),\n",
              " (8682, [44, 4, 6, 2, 14, 52, 1, 80, 33, 25]),\n",
              " (8699, [94, 99, 4, 96, 51, 8, 1, 85, 138, 81]),\n",
              " (8716, [17, 47, 50, 56, 9, 35, 60, 122, 244, 104]),\n",
              " (8718, [430, 242, 764, 636, 41, 639, 31, 252, 39, 55]),\n",
              " (8722, [326, 45, 537, 906, 19, 3, 17, 5, 9, 35]),\n",
              " (8737, [259, 18, 2, 54, 3, 4, 6, 26, 9, 114]),\n",
              " (8745, [1, 4, 43, 2, 9, 19, 64, 3, 33, 35]),\n",
              " (8749, [1, 2, 4, 17, 14, 28, 3, 37, 19, 8]),\n",
              " (8750, [4, 3, 11, 9, 19, 31, 6, 8, 17, 39]),\n",
              " (8759, [39, 31, 58, 76, 45, 389, 220, 3, 20, 2]),\n",
              " (8761, [41, 31, 4, 1, 2, 33, 22, 47, 24, 8]),\n",
              " (8774, [58, 408, 563, 1239, 353, 1005, 139, 77, 318, 146]),\n",
              " (8779, [30, 2, 14, 68, 1, 3, 4, 90, 106, 112]),\n",
              " (8782, [35, 6, 9, 4, 184, 1, 149, 27, 373, 11]),\n",
              " (8786, [292, 696, 388, 799, 606, 347, 1149, 686, 350, 1239]),\n",
              " (8796, [8044, 9442, 8473, 9982, 9455, 10660, 131, 2657, 756, 1036]),\n",
              " (8816, [1897, 2570, 2879, 3129, 604, 324, 208, 313, 182, 376]),\n",
              " (8817, [35, 144, 56, 168, 149, 373, 310, 382, 184, 258]),\n",
              " (8854, [5179, 41, 1542, 39, 3122, 1578, 40, 76, 31, 55]),\n",
              " (8859, [22, 2, 50, 4, 20, 3, 37, 73, 65, 157]),\n",
              " (8861, [11, 1, 27, 329, 2, 50, 47, 292, 42, 1090]),\n",
              " (8867, [95, 4, 174, 22, 48, 33, 20, 1, 157, 8]),\n",
              " (8873, [41, 55, 58, 76, 43, 705, 64, 57, 3, 56]),\n",
              " (8881, [14, 22, 2, 6, 33, 4, 24, 46, 48, 17]),\n",
              " (8885, [293, 275, 340, 287, 23, 489, 91, 321, 3, 89]),\n",
              " (8888, [19, 48, 14, 103, 73, 74, 60, 134, 3, 67]),\n",
              " (8892, [2, 4, 35, 33, 20, 19, 11, 31, 39, 54]),\n",
              " (8906, [1669, 1143, 1493, 282, 713, 82, 236, 2234, 2071, 1308]),\n",
              " (8915, [313, 764, 2813, 1, 636, 2, 3616, 6, 19, 14]),\n",
              " (8919, [3246, 112, 8982, 5288, 19, 2, 54, 137, 30, 3]),\n",
              " (8930, [40, 58, 3, 2, 4, 9, 33, 20, 30, 36]),\n",
              " (8933, [33, 20, 65, 19, 24, 80, 141, 3, 110, 46]),\n",
              " (8935, [467, 41, 55, 764, 15, 1290, 828, 624, 20, 5]),\n",
              " (8957, [112, 2, 3, 1, 30, 6, 15, 41, 11, 54]),\n",
              " (8958, [4, 1, 20, 87, 44, 15, 22, 24, 11, 51]),\n",
              " (8966, [117, 154, 23, 3, 18, 27, 107, 59, 2, 51]),\n",
              " (9020, [31, 58, 170, 48, 103, 141, 20, 1083, 330, 486]),\n",
              " (9023, [220, 880, 621, 860, 33, 9, 48, 1067, 20, 997]),\n",
              " (9051, [433, 81, 2, 4, 88, 87, 105, 85, 15, 6]),\n",
              " (9052, [1, 19, 6, 4, 2, 11, 27, 14, 33, 22]),\n",
              " (9053, [33, 48, 4, 19, 20, 220, 2, 31, 40, 39]),\n",
              " (9054, [17, 28, 27, 50, 1, 14, 6, 42, 2, 8]),\n",
              " (9057, [14, 84, 44, 19, 93, 20, 108, 22, 46, 48]),\n",
              " (9071, [112, 10, 51, 158, 15, 88, 131, 69, 105, 81]),\n",
              " (9085, [19, 4, 48, 2, 20, 1, 3, 6, 9, 31]),\n",
              " (9088, [283, 490, 380, 112, 2444, 295, 276, 820, 321, 379]),\n",
              " (9100, [111, 751, 50, 37, 244, 59, 28, 128, 54, 11]),\n",
              " (9105, [4, 80, 44, 95, 8, 1, 22, 2, 49, 48]),\n",
              " (9119, [117, 131, 37, 158, 71, 59, 197, 23, 3, 29]),\n",
              " (9126, [94, 99, 88, 87, 41, 51, 39, 31, 40, 55]),\n",
              " (9148, [430, 129, 198, 109, 252, 13, 57, 348, 119, 2293]),\n",
              " (9177, [77, 66, 2565, 31, 8, 39, 41, 134, 138, 2]),\n",
              " (9195, [2, 45, 1, 42, 6, 48, 47, 41, 80, 50]),\n",
              " (9197, [76, 85, 4, 28, 249, 42, 47, 19, 9, 22]),\n",
              " (9208, [555, 29, 231, 1818, 1266, 463, 4, 2, 3, 112]),\n",
              " (9210, [129, 242, 573, 96, 3, 138, 6, 324, 182, 19]),\n",
              " (9214, [1794, 6, 14, 41, 112, 68, 15, 26, 2, 46]),\n",
              " (9230, [1, 2, 4, 27, 14, 28, 9, 8, 19, 3]),\n",
              " (9265, [313, 430, 324, 344, 837, 116, 148, 119, 146, 175]),\n",
              " (9278, [8, 74, 22, 1, 48, 80, 65, 77, 66, 103]),\n",
              " (9287, [94, 11524, 6720, 5338, 13057, 7303, 6425, 6429, 365, 4782]),\n",
              " (9289, [131, 2, 4, 434, 107, 112, 1, 2355, 31, 1511]),\n",
              " (9297, [9, 1, 13, 19, 1411, 136, 111, 23, 6, 22]),\n",
              " (9298, [11, 264, 37, 50, 17, 241, 27, 3, 766, 709]),\n",
              " (9305, [1776, 299, 1090, 34, 3609, 4082, 4076, 4428, 733, 2962]),\n",
              " (9306, [39, 76, 20, 19, 2, 65, 1, 83, 45, 35]),\n",
              " (9317, [88, 4, 96, 36, 20, 87, 8, 138, 81, 1]),\n",
              " (9318, [342, 22, 251, 48, 194, 663, 163, 170, 212, 370]),\n",
              " (9335, [40, 41, 55, 249, 220, 19, 4, 299, 22, 58]),\n",
              " (9341, [14, 203, 841, 211, 214, 36, 3, 24, 15, 11]),\n",
              " (9343, [154, 38, 66, 203, 1, 36, 116, 358, 211, 90]),\n",
              " (9345, [8, 19, 1, 22, 33, 2, 6, 48, 80, 9]),\n",
              " (9363, [1, 3, 17, 15, 36, 4, 90, 11, 14, 101]),\n",
              " (9365, [138, 32, 4, 8, 2, 1, 369, 60, 22, 33]),\n",
              " (9383, [7559, 5598, 6049, 7557, 8310, 6871, 8731, 4898, 6045, 3691]),\n",
              " ...]"
            ]
          },
          "metadata": {},
          "execution_count": 99
        }
      ],
      "source": [
        "submission"
      ]
    },
    {
      "cell_type": "code",
      "execution_count": 100,
      "metadata": {
        "id": "AuuEFD83-OVp"
      },
      "outputs": [],
      "source": [
        "def write_submission(submissions):\n",
        "    with open(\"./submission.csv\", \"w\") as f:\n",
        "        f.write(\"user_id,item_list\\n\")\n",
        "        for user_id, items in submissions:\n",
        "            f.write(f\"{user_id},{' '.join([str(item) for item in items])}\\n\")\n"
      ]
    },
    {
      "cell_type": "code",
      "execution_count": 101,
      "metadata": {
        "id": "tQdu0QIw-VSU"
      },
      "outputs": [],
      "source": [
        "write_submission(submission)"
      ]
    },
    {
      "cell_type": "code",
      "execution_count": null,
      "metadata": {
        "id": "Zo6KGGEnLS1P"
      },
      "outputs": [],
      "source": []
    }
  ],
  "metadata": {
    "colab": {
      "provenance": [],
      "collapsed_sections": [
        "cSLGYEz0xKvB",
        "eCC3N4HIxjjH",
        "GnP3Qb-nzW3F",
        "1IB-Aujzz9OV",
        "7kxSySlQCCp_",
        "GqvLoWjYOUXJ",
        "kf7c8Jck8MD7"
      ]
    },
    "kernelspec": {
      "display_name": "Python 3",
      "name": "python3"
    },
    "language_info": {
      "name": "python"
    }
  },
  "nbformat": 4,
  "nbformat_minor": 0
}