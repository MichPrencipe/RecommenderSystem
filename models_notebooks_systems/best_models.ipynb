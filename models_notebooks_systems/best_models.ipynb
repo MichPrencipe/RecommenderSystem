{
  "cells": [
    {
      "cell_type": "markdown",
      "metadata": {
        "id": "cSLGYEz0xKvB"
      },
      "source": [
        "#Connect to drive"
      ]
    },
    {
      "cell_type": "code",
      "source": [
        "import warnings\n",
        "import logging\n",
        "warnings.simplefilter(action='ignore', category=FutureWarning)\n",
        "warnings.simplefilter(action='ignore', category=Warning)\n",
        "warnings.simplefilter(action='ignore', category = DeprecationWarning)"
      ],
      "metadata": {
        "id": "ZXSmYJnQO0JJ"
      },
      "execution_count": 53,
      "outputs": []
    },
    {
      "cell_type": "code",
      "source": [
        "!git clone https://github.com/MaurizioFD/RecSys_Course_AT_PoliMi\n",
        "%cd RecSys_Course_AT_PoliMi\n",
        "!pip install -r requirements.txt\n",
        "!python run_compile_all_cython.py"
      ],
      "metadata": {
        "colab": {
          "base_uri": "https://localhost:8080/"
        },
        "id": "_8qb-w0XLoKs",
        "outputId": "b62e66aa-7620-45d5-b616-65172bf42131"
      },
      "execution_count": 1,
      "outputs": [
        {
          "output_type": "stream",
          "name": "stdout",
          "text": [
            "Cloning into 'RecSys_Course_AT_PoliMi'...\n",
            "remote: Enumerating objects: 1499, done.\u001b[K\n",
            "remote: Counting objects: 100% (244/244), done.\u001b[K\n",
            "remote: Compressing objects: 100% (143/143), done.\u001b[K\n",
            "remote: Total 1499 (delta 113), reused 230 (delta 99), pack-reused 1255\u001b[K\n",
            "Receiving objects: 100% (1499/1499), 50.98 MiB | 6.32 MiB/s, done.\n",
            "Resolving deltas: 100% (844/844), done.\n",
            "/content/RecSys_Course_AT_PoliMi\n",
            "Collecting Cython==0.29.23 (from -r requirements.txt (line 1))\n",
            "  Downloading Cython-0.29.23-py2.py3-none-any.whl (978 kB)\n",
            "\u001b[2K     \u001b[90m━━━━━━━━━━━━━━━━━━━━━━━━━━━━━━━━━━━━━━━━\u001b[0m \u001b[32m978.0/978.0 kB\u001b[0m \u001b[31m7.0 MB/s\u001b[0m eta \u001b[36m0:00:00\u001b[0m\n",
            "\u001b[?25hCollecting h5py==3.1.0 (from -r requirements.txt (line 2))\n",
            "  Downloading h5py-3.1.0.tar.gz (371 kB)\n",
            "\u001b[2K     \u001b[90m━━━━━━━━━━━━━━━━━━━━━━━━━━━━━━━━━━━━━━━━\u001b[0m \u001b[32m371.4/371.4 kB\u001b[0m \u001b[31m12.4 MB/s\u001b[0m eta \u001b[36m0:00:00\u001b[0m\n",
            "\u001b[?25h  Installing build dependencies ... \u001b[?25l\u001b[?25hdone\n",
            "  Getting requirements to build wheel ... \u001b[?25l\u001b[?25hdone\n",
            "  \u001b[1;31merror\u001b[0m: \u001b[1msubprocess-exited-with-error\u001b[0m\n",
            "  \n",
            "  \u001b[31m×\u001b[0m \u001b[32mpip subprocess to install backend dependencies\u001b[0m did not run successfully.\n",
            "  \u001b[31m│\u001b[0m exit code: \u001b[1;36m1\u001b[0m\n",
            "  \u001b[31m╰─>\u001b[0m See above for output.\n",
            "  \n",
            "  \u001b[1;35mnote\u001b[0m: This error originates from a subprocess, and is likely not a problem with pip.\n",
            "  Installing backend dependencies ... \u001b[?25l\u001b[?25herror\n",
            "\u001b[1;31merror\u001b[0m: \u001b[1msubprocess-exited-with-error\u001b[0m\n",
            "\n",
            "\u001b[31m×\u001b[0m \u001b[32mpip subprocess to install backend dependencies\u001b[0m did not run successfully.\n",
            "\u001b[31m│\u001b[0m exit code: \u001b[1;36m1\u001b[0m\n",
            "\u001b[31m╰─>\u001b[0m See above for output.\n",
            "\n",
            "\u001b[1;35mnote\u001b[0m: This error originates from a subprocess, and is likely not a problem with pip.\n",
            "run_compile_all_cython: Found 10 Cython files in 4 folders...\n",
            "run_compile_all_cython: All files will be compiled using your current python environment: '/usr/bin/python3'\n",
            "Compiling [1/10]: MatrixFactorizationImpressions_Cython_Epoch.pyx... \n",
            "In file included from \u001b[01m\u001b[K/usr/local/lib/python3.10/dist-packages/numpy/core/include/numpy/ndarraytypes.h:1948\u001b[m\u001b[K,\n",
            "                 from \u001b[01m\u001b[K/usr/local/lib/python3.10/dist-packages/numpy/core/include/numpy/ndarrayobject.h:12\u001b[m\u001b[K,\n",
            "                 from \u001b[01m\u001b[K/usr/local/lib/python3.10/dist-packages/numpy/core/include/numpy/arrayobject.h:5\u001b[m\u001b[K,\n",
            "                 from \u001b[01m\u001b[KMatrixFactorizationImpressions_Cython_Epoch.c:1217\u001b[m\u001b[K:\n",
            "\u001b[01m\u001b[K/usr/local/lib/python3.10/dist-packages/numpy/core/include/numpy/npy_1_7_deprecated_api.h:17:2:\u001b[m\u001b[K \u001b[01;35m\u001b[Kwarning: \u001b[m\u001b[K#warning \"Using deprecated NumPy API, disable it with \" \"#define NPY_NO_DEPRECATED_API NPY_1_7_API_VERSION\" [\u001b[01;35m\u001b[K\u001b]8;;https://gcc.gnu.org/onlinedocs/gcc/Warning-Options.html#index-Wcpp\u0007-Wcpp\u001b]8;;\u0007\u001b[m\u001b[K]\n",
            "   17 | #\u001b[01;35m\u001b[Kwarning\u001b[m\u001b[K \"Using deprecated NumPy API, disable it with \" \\\n",
            "      |  \u001b[01;35m\u001b[K^~~~~~~\u001b[m\u001b[K\n",
            "\u001b[01m\u001b[KMatrixFactorizationImpressions_Cython_Epoch.c:\u001b[m\u001b[K In function ‘\u001b[01m\u001b[K__pyx_f_43MatrixFactorizationImpressions_Cython_Epoch_32MatrixFactorization_Cython_Epoch_sampleBPR_Cython\u001b[m\u001b[K’:\n",
            "\u001b[01m\u001b[KMatrixFactorizationImpressions_Cython_Epoch.c:30373:17:\u001b[m\u001b[K \u001b[01;35m\u001b[Kwarning: \u001b[m\u001b[K‘\u001b[01m\u001b[K__pyx_v_start_pos_impression_items\u001b[m\u001b[K’ may be used uninitialized in this function [\u001b[01;35m\u001b[K\u001b]8;;https://gcc.gnu.org/onlinedocs/gcc/Warning-Options.html#index-Wmaybe-uninitialized\u0007-Wmaybe-uninitialized\u001b]8;;\u0007\u001b[m\u001b[K]\n",
            "30373 |       \u001b[01;35m\u001b[K__pyx_t_4 = (__pyx_v_start_pos_impression_items + __pyx_v_index)\u001b[m\u001b[K;\n",
            "      |       \u001b[01;35m\u001b[K~~~~~~~~~~^~~~~~~~~~~~~~~~~~~~~~~~~~~~~~~~~~~~~~~~~~~~~~~~~~~~~~\u001b[m\u001b[K\n",
            "\u001b[01m\u001b[KMatrixFactorizationImpressions_Cython_Epoch.c:\u001b[m\u001b[K In function ‘\u001b[01m\u001b[K__pyx_pf_43MatrixFactorizationImpressions_Cython_Epoch_32MatrixFactorization_Cython_Epoch_10epochIteration_Cython_ASY_SVD_SGD\u001b[m\u001b[K’:\n",
            "\u001b[01m\u001b[KMatrixFactorizationImpressions_Cython_Epoch.c:26107:66:\u001b[m\u001b[K \u001b[01;35m\u001b[Kwarning: \u001b[m\u001b[K‘\u001b[01m\u001b[K__pyx_v_end_pos_seen_items\u001b[m\u001b[K’ may be used uninitialized in this function [\u001b[01;35m\u001b[K\u001b]8;;https://gcc.gnu.org/onlinedocs/gcc/Warning-Options.html#index-Wmaybe-uninitialized\u0007-Wmaybe-uninitialized\u001b]8;;\u0007\u001b[m\u001b[K]\n",
            "26107 |       for (__pyx_t_21 = __pyx_v_start_pos_seen_items; \u001b[01;35m\u001b[K__pyx_t_21 < __pyx_t_20\u001b[m\u001b[K; __pyx_t_21+=1) {\n",
            "      |                                                       \u001b[01;35m\u001b[K~~~~~~~~~~~^~~~~~~~~~~~\u001b[m\u001b[K\n",
            "\u001b[01m\u001b[KMatrixFactorizationImpressions_Cython_Epoch.c:26107:66:\u001b[m\u001b[K \u001b[01;35m\u001b[Kwarning: \u001b[m\u001b[K‘\u001b[01m\u001b[K__pyx_v_start_pos_seen_items\u001b[m\u001b[K’ may be used uninitialized in this function [\u001b[01;35m\u001b[K\u001b]8;;https://gcc.gnu.org/onlinedocs/gcc/Warning-Options.html#index-Wmaybe-uninitialized\u0007-Wmaybe-uninitialized\u001b]8;;\u0007\u001b[m\u001b[K]\n",
            "/usr/local/lib/python3.10/dist-packages/Cython/Compiler/Main.py:381: FutureWarning: Cython directive 'language_level' not set, using '3str' for now (Py3). This has changed from earlier releases! File: /content/RecSys_Course_AT_PoliMi/Recommenders/MatrixFactorization/Cython/MatrixFactorizationImpressions_Cython_Epoch.pyx\n",
            "  tree = Parsing.p_module(s, pxd, full_module_name)\n",
            "Compiling [1/10]: MatrixFactorizationImpressions_Cython_Epoch.pyx... PASS\n",
            "\n",
            "Compiling [2/10]: MatrixFactorization_Cython_Epoch.pyx... \n",
            "In file included from \u001b[01m\u001b[K/usr/local/lib/python3.10/dist-packages/numpy/core/include/numpy/ndarraytypes.h:1948\u001b[m\u001b[K,\n",
            "                 from \u001b[01m\u001b[K/usr/local/lib/python3.10/dist-packages/numpy/core/include/numpy/ndarrayobject.h:12\u001b[m\u001b[K,\n",
            "                 from \u001b[01m\u001b[K/usr/local/lib/python3.10/dist-packages/numpy/core/include/numpy/arrayobject.h:5\u001b[m\u001b[K,\n",
            "                 from \u001b[01m\u001b[KMatrixFactorization_Cython_Epoch.c:1217\u001b[m\u001b[K:\n",
            "\u001b[01m\u001b[K/usr/local/lib/python3.10/dist-packages/numpy/core/include/numpy/npy_1_7_deprecated_api.h:17:2:\u001b[m\u001b[K \u001b[01;35m\u001b[Kwarning: \u001b[m\u001b[K#warning \"Using deprecated NumPy API, disable it with \" \"#define NPY_NO_DEPRECATED_API NPY_1_7_API_VERSION\" [\u001b[01;35m\u001b[K\u001b]8;;https://gcc.gnu.org/onlinedocs/gcc/Warning-Options.html#index-Wcpp\u0007-Wcpp\u001b]8;;\u0007\u001b[m\u001b[K]\n",
            "   17 | #\u001b[01;35m\u001b[Kwarning\u001b[m\u001b[K \"Using deprecated NumPy API, disable it with \" \\\n",
            "      |  \u001b[01;35m\u001b[K^~~~~~~\u001b[m\u001b[K\n",
            "\u001b[01m\u001b[KMatrixFactorization_Cython_Epoch.c:\u001b[m\u001b[K In function ‘\u001b[01m\u001b[K__pyx_pf_32MatrixFactorization_Cython_Epoch_32MatrixFactorization_Cython_Epoch_10epochIteration_Cython_ASY_SVD_SGD\u001b[m\u001b[K’:\n",
            "\u001b[01m\u001b[KMatrixFactorization_Cython_Epoch.c:26251:68:\u001b[m\u001b[K \u001b[01;35m\u001b[Kwarning: \u001b[m\u001b[K‘\u001b[01m\u001b[K__pyx_v_end_pos_seen_items\u001b[m\u001b[K’ may be used uninitialized in this function [\u001b[01;35m\u001b[K\u001b]8;;https://gcc.gnu.org/onlinedocs/gcc/Warning-Options.html#index-Wmaybe-uninitialized\u0007-Wmaybe-uninitialized\u001b]8;;\u0007\u001b[m\u001b[K]\n",
            "26251 |         for (__pyx_t_21 = __pyx_v_start_pos_seen_items; \u001b[01;35m\u001b[K__pyx_t_21 < __pyx_t_20\u001b[m\u001b[K; __pyx_t_21+=1) {\n",
            "      |                                                         \u001b[01;35m\u001b[K~~~~~~~~~~~^~~~~~~~~~~~\u001b[m\u001b[K\n",
            "\u001b[01m\u001b[KMatrixFactorization_Cython_Epoch.c:26251:68:\u001b[m\u001b[K \u001b[01;35m\u001b[Kwarning: \u001b[m\u001b[K‘\u001b[01m\u001b[K__pyx_v_start_pos_seen_items\u001b[m\u001b[K’ may be used uninitialized in this function [\u001b[01;35m\u001b[K\u001b]8;;https://gcc.gnu.org/onlinedocs/gcc/Warning-Options.html#index-Wmaybe-uninitialized\u0007-Wmaybe-uninitialized\u001b]8;;\u0007\u001b[m\u001b[K]\n",
            "/usr/local/lib/python3.10/dist-packages/Cython/Compiler/Main.py:381: FutureWarning: Cython directive 'language_level' not set, using '3str' for now (Py3). This has changed from earlier releases! File: /content/RecSys_Course_AT_PoliMi/Recommenders/MatrixFactorization/Cython/MatrixFactorization_Cython_Epoch.pyx\n",
            "  tree = Parsing.p_module(s, pxd, full_module_name)\n",
            "Compiling [2/10]: MatrixFactorization_Cython_Epoch.pyx... PASS\n",
            "\n",
            "Compiling [3/10]: Compute_Similarity_Cython.pyx... \n",
            "warning: Compute_Similarity_Cython.pyx:21:0: The 'IF' statement is deprecated and will be removed in a future Cython version. Consider using runtime conditions or C macros instead. See https://github.com/cython/cython/issues/4310\n",
            "In file included from \u001b[01m\u001b[K/usr/local/lib/python3.10/dist-packages/numpy/core/include/numpy/ndarraytypes.h:1948\u001b[m\u001b[K,\n",
            "                 from \u001b[01m\u001b[K/usr/local/lib/python3.10/dist-packages/numpy/core/include/numpy/ndarrayobject.h:12\u001b[m\u001b[K,\n",
            "                 from \u001b[01m\u001b[K/usr/local/lib/python3.10/dist-packages/numpy/core/include/numpy/arrayobject.h:5\u001b[m\u001b[K,\n",
            "                 from \u001b[01m\u001b[KCompute_Similarity_Cython.c:1217\u001b[m\u001b[K:\n",
            "\u001b[01m\u001b[K/usr/local/lib/python3.10/dist-packages/numpy/core/include/numpy/npy_1_7_deprecated_api.h:17:2:\u001b[m\u001b[K \u001b[01;35m\u001b[Kwarning: \u001b[m\u001b[K#warning \"Using deprecated NumPy API, disable it with \" \"#define NPY_NO_DEPRECATED_API NPY_1_7_API_VERSION\" [\u001b[01;35m\u001b[K\u001b]8;;https://gcc.gnu.org/onlinedocs/gcc/Warning-Options.html#index-Wcpp\u0007-Wcpp\u001b]8;;\u0007\u001b[m\u001b[K]\n",
            "   17 | #\u001b[01;35m\u001b[Kwarning\u001b[m\u001b[K \"Using deprecated NumPy API, disable it with \" \\\n",
            "      |  \u001b[01;35m\u001b[K^~~~~~~\u001b[m\u001b[K\n",
            "/usr/local/lib/python3.10/dist-packages/Cython/Compiler/Main.py:381: FutureWarning: Cython directive 'language_level' not set, using '3str' for now (Py3). This has changed from earlier releases! File: /content/RecSys_Course_AT_PoliMi/Recommenders/Similarity/Cython/Compute_Similarity_Cython.pyx\n",
            "  tree = Parsing.p_module(s, pxd, full_module_name)\n",
            "warning: Compute_Similarity_Cython.pyx:21:0: The 'IF' statement is deprecated and will be removed in a future Cython version. Consider using runtime conditions or C macros instead. See https://github.com/cython/cython/issues/4310\n",
            "Compiling [3/10]: Compute_Similarity_Cython.pyx... PASS\n",
            "\n",
            "Compiling [4/10]: SLIM_BPR_Cython_Epoch.pyx... \n",
            "warning: SLIM_BPR_Cython_Epoch.pyx:24:0: The 'IF' statement is deprecated and will be removed in a future Cython version. Consider using runtime conditions or C macros instead. See https://github.com/cython/cython/issues/4310\n",
            "warning: SLIM_BPR_Cython_Epoch.pyx:632:34: Non-trivial type declarators in shared declaration (e.g. mix of pointers and values). Each pointer declaration should be on its own line.\n",
            "warning: SLIM_BPR_Cython_Epoch.pyx:632:66: Non-trivial type declarators in shared declaration (e.g. mix of pointers and values). Each pointer declaration should be on its own line.\n",
            "warning: SLIM_BPR_Cython_Epoch.pyx:817:35: Non-trivial type declarators in shared declaration (e.g. mix of pointers and values). Each pointer declaration should be on its own line.\n",
            "warning: SLIM_BPR_Cython_Epoch.pyx:817:52: Non-trivial type declarators in shared declaration (e.g. mix of pointers and values). Each pointer declaration should be on its own line.\n",
            "warning: SLIM_BPR_Cython_Epoch.pyx:916:35: Non-trivial type declarators in shared declaration (e.g. mix of pointers and values). Each pointer declaration should be on its own line.\n",
            "warning: SLIM_BPR_Cython_Epoch.pyx:916:53: Non-trivial type declarators in shared declaration (e.g. mix of pointers and values). Each pointer declaration should be on its own line.\n",
            "warning: SLIM_BPR_Cython_Epoch.pyx:916:69: Non-trivial type declarators in shared declaration (e.g. mix of pointers and values). Each pointer declaration should be on its own line.\n",
            "warning: SLIM_BPR_Cython_Epoch.pyx:1051:35: Non-trivial type declarators in shared declaration (e.g. mix of pointers and values). Each pointer declaration should be on its own line.\n",
            "warning: SLIM_BPR_Cython_Epoch.pyx:1051:42: Non-trivial type declarators in shared declaration (e.g. mix of pointers and values). Each pointer declaration should be on its own line.\n",
            "warning: SLIM_BPR_Cython_Epoch.pyx:1052:35: Non-trivial type declarators in shared declaration (e.g. mix of pointers and values). Each pointer declaration should be on its own line.\n",
            "warning: SLIM_BPR_Cython_Epoch.pyx:1052:53: Non-trivial type declarators in shared declaration (e.g. mix of pointers and values). Each pointer declaration should be on its own line.\n",
            "\n",
            "Error compiling Cython file:\n",
            "------------------------------------------------------------\n",
            "...\n",
            "            vector_pointer_to_list_elements[index].head = current_element\n",
            "            current_element = current_element.higher\n",
            "\n",
            "\n",
            "        # Sort array elements on their data field\n",
            "        qsort(vector_pointer_to_list_elements, list_length, sizeof(head_pointer_tree_s), compare_struct_on_data)\n",
            "                                                                                         ^\n",
            "------------------------------------------------------------\n",
            "\n",
            "SLIM_BPR_Cython_Epoch.pyx:990:89: Cannot assign type 'int (const void *, const void *) except? -1' to 'int (*)(const_void *, const_void *) noexcept'. Exception values are incompatible. Suggest adding 'noexcept' to type 'int (const void *, const void *) except? -1'.\n",
            "\n",
            "Error compiling Cython file:\n",
            "------------------------------------------------------------\n",
            "...\n",
            "        # Sort array elements on their data field\n",
            "        qsort(vector_pointer_to_list_elements, list_length, sizeof(head_pointer_tree_s), compare_struct_on_data)\n",
            "\n",
            "        # Sort only the TopK according to their column field\n",
            "        # Sort is from lower to higher, therefore the elements to be considered are from len-topK to len\n",
            "        qsort(&vector_pointer_to_list_elements[list_length-TopK], TopK, sizeof(head_pointer_tree_s), compare_struct_on_column)\n",
            "                                                                                                     ^\n",
            "------------------------------------------------------------\n",
            "\n",
            "SLIM_BPR_Cython_Epoch.pyx:994:101: Cannot assign type 'int (const void *, const void *) except? -1' to 'int (*)(const_void *, const_void *) noexcept'. Exception values are incompatible. Suggest adding 'noexcept' to type 'int (const void *, const void *) except? -1'.\n",
            "Traceback (most recent call last):\n",
            "  File \"/content/RecSys_Course_AT_PoliMi/CythonCompiler/compile_script.py\", line 48, in <module>\n",
            "    setup(\n",
            "  File \"/usr/local/lib/python3.10/dist-packages/setuptools/__init__.py\", line 107, in setup\n",
            "    return distutils.core.setup(**attrs)\n",
            "  File \"/usr/local/lib/python3.10/dist-packages/setuptools/_distutils/core.py\", line 185, in setup\n",
            "    return run_commands(dist)\n",
            "  File \"/usr/local/lib/python3.10/dist-packages/setuptools/_distutils/core.py\", line 201, in run_commands\n",
            "    dist.run_commands()\n",
            "  File \"/usr/local/lib/python3.10/dist-packages/setuptools/_distutils/dist.py\", line 969, in run_commands\n",
            "    self.run_command(cmd)\n",
            "  File \"/usr/local/lib/python3.10/dist-packages/setuptools/dist.py\", line 1244, in run_command\n",
            "    super().run_command(command)\n",
            "  File \"/usr/local/lib/python3.10/dist-packages/setuptools/_distutils/dist.py\", line 988, in run_command\n",
            "    cmd_obj.run()\n",
            "  File \"/usr/local/lib/python3.10/dist-packages/setuptools/_distutils/command/build_ext.py\", line 345, in run\n",
            "    self.build_extensions()\n",
            "  File \"/usr/local/lib/python3.10/dist-packages/setuptools/_distutils/command/build_ext.py\", line 467, in build_extensions\n",
            "    self._build_extensions_serial()\n",
            "  File \"/usr/local/lib/python3.10/dist-packages/setuptools/_distutils/command/build_ext.py\", line 493, in _build_extensions_serial\n",
            "    self.build_extension(ext)\n",
            "  File \"/usr/local/lib/python3.10/dist-packages/Cython/Distutils/build_ext.py\", line 130, in build_extension\n",
            "    new_ext = cythonize(\n",
            "  File \"/usr/local/lib/python3.10/dist-packages/Cython/Build/Dependencies.py\", line 1154, in cythonize\n",
            "    cythonize_one(*args)\n",
            "  File \"/usr/local/lib/python3.10/dist-packages/Cython/Build/Dependencies.py\", line 1321, in cythonize_one\n",
            "    raise CompileError(None, pyx_file)\n",
            "Cython.Compiler.Errors.CompileError: SLIM_BPR_Cython_Epoch.pyx\n",
            "Traceback (most recent call last):\n",
            "  File \"/content/RecSys_Course_AT_PoliMi/run_compile_all_cython.py\", line 59, in <module>\n",
            "    run_compile_subprocess(file_path, [file_name])\n",
            "  File \"/content/RecSys_Course_AT_PoliMi/CythonCompiler/run_compile_subprocess.py\", line 51, in run_compile_subprocess\n",
            "    raise exc\n",
            "  File \"/content/RecSys_Course_AT_PoliMi/CythonCompiler/run_compile_subprocess.py\", line 32, in run_compile_subprocess\n",
            "    output = subprocess.check_output(' '.join(command),\n",
            "  File \"/usr/lib/python3.10/subprocess.py\", line 421, in check_output\n",
            "    return run(*popenargs, stdout=PIPE, timeout=timeout, check=True,\n",
            "  File \"/usr/lib/python3.10/subprocess.py\", line 526, in run\n",
            "    raise CalledProcessError(retcode, process.args,\n",
            "subprocess.CalledProcessError: Command '/usr/bin/python3 /content/RecSys_Course_AT_PoliMi/CythonCompiler/compile_script.py SLIM_BPR_Cython_Epoch.pyx build_ext --inplace' returned non-zero exit status 1.\n",
            "Compiling [4/10]: SLIM_BPR_Cython_Epoch.pyx... FAIL: Command '/usr/bin/python3 /content/RecSys_Course_AT_PoliMi/CythonCompiler/compile_script.py SLIM_BPR_Cython_Epoch.pyx build_ext --inplace' returned non-zero exit status 1.\n",
            "\n",
            "Compiling [5/10]: Sparse_Matrix_Tree_CSR.pyx... \n",
            "warning: Sparse_Matrix_Tree_CSR.pyx:132:34: Non-trivial type declarators in shared declaration (e.g. mix of pointers and values). Each pointer declaration should be on its own line.\n",
            "warning: Sparse_Matrix_Tree_CSR.pyx:132:66: Non-trivial type declarators in shared declaration (e.g. mix of pointers and values). Each pointer declaration should be on its own line.\n",
            "warning: Sparse_Matrix_Tree_CSR.pyx:343:35: Non-trivial type declarators in shared declaration (e.g. mix of pointers and values). Each pointer declaration should be on its own line.\n",
            "warning: Sparse_Matrix_Tree_CSR.pyx:343:52: Non-trivial type declarators in shared declaration (e.g. mix of pointers and values). Each pointer declaration should be on its own line.\n",
            "warning: Sparse_Matrix_Tree_CSR.pyx:442:35: Non-trivial type declarators in shared declaration (e.g. mix of pointers and values). Each pointer declaration should be on its own line.\n",
            "warning: Sparse_Matrix_Tree_CSR.pyx:442:53: Non-trivial type declarators in shared declaration (e.g. mix of pointers and values). Each pointer declaration should be on its own line.\n",
            "warning: Sparse_Matrix_Tree_CSR.pyx:442:69: Non-trivial type declarators in shared declaration (e.g. mix of pointers and values). Each pointer declaration should be on its own line.\n",
            "warning: Sparse_Matrix_Tree_CSR.pyx:577:35: Non-trivial type declarators in shared declaration (e.g. mix of pointers and values). Each pointer declaration should be on its own line.\n",
            "warning: Sparse_Matrix_Tree_CSR.pyx:577:42: Non-trivial type declarators in shared declaration (e.g. mix of pointers and values). Each pointer declaration should be on its own line.\n",
            "warning: Sparse_Matrix_Tree_CSR.pyx:578:35: Non-trivial type declarators in shared declaration (e.g. mix of pointers and values). Each pointer declaration should be on its own line.\n",
            "warning: Sparse_Matrix_Tree_CSR.pyx:578:53: Non-trivial type declarators in shared declaration (e.g. mix of pointers and values). Each pointer declaration should be on its own line.\n",
            "\n",
            "Error compiling Cython file:\n",
            "------------------------------------------------------------\n",
            "...\n",
            "            vector_pointer_to_list_elements[index].head = current_element\n",
            "            current_element = current_element.higher\n",
            "\n",
            "\n",
            "        # Sort array elements on their data field\n",
            "        qsort(vector_pointer_to_list_elements, list_length, sizeof(head_pointer_tree_s), compare_struct_on_data)\n",
            "                                                                                         ^\n",
            "------------------------------------------------------------\n",
            "\n",
            "Sparse_Matrix_Tree_CSR.pyx:516:89: Cannot assign type 'int (const void *, const void *) except? -1' to 'int (*)(const_void *, const_void *) noexcept'. Exception values are incompatible. Suggest adding 'noexcept' to type 'int (const void *, const void *) except? -1'.\n",
            "\n",
            "Error compiling Cython file:\n",
            "------------------------------------------------------------\n",
            "...\n",
            "        # Sort array elements on their data field\n",
            "        qsort(vector_pointer_to_list_elements, list_length, sizeof(head_pointer_tree_s), compare_struct_on_data)\n",
            "\n",
            "        # Sort only the TopK according to their column field\n",
            "        # Sort is from lower to higher, therefore the elements to be considered are from len-topK to len\n",
            "        qsort(&vector_pointer_to_list_elements[list_length-TopK], TopK, sizeof(head_pointer_tree_s), compare_struct_on_column)\n",
            "                                                                                                     ^\n",
            "------------------------------------------------------------\n",
            "\n",
            "Sparse_Matrix_Tree_CSR.pyx:520:101: Cannot assign type 'int (const void *, const void *) except? -1' to 'int (*)(const_void *, const_void *) noexcept'. Exception values are incompatible. Suggest adding 'noexcept' to type 'int (const void *, const void *) except? -1'.\n",
            "Traceback (most recent call last):\n",
            "  File \"/content/RecSys_Course_AT_PoliMi/CythonCompiler/compile_script.py\", line 48, in <module>\n",
            "    setup(\n",
            "  File \"/usr/local/lib/python3.10/dist-packages/setuptools/__init__.py\", line 107, in setup\n",
            "    return distutils.core.setup(**attrs)\n",
            "  File \"/usr/local/lib/python3.10/dist-packages/setuptools/_distutils/core.py\", line 185, in setup\n",
            "    return run_commands(dist)\n",
            "  File \"/usr/local/lib/python3.10/dist-packages/setuptools/_distutils/core.py\", line 201, in run_commands\n",
            "    dist.run_commands()\n",
            "  File \"/usr/local/lib/python3.10/dist-packages/setuptools/_distutils/dist.py\", line 969, in run_commands\n",
            "    self.run_command(cmd)\n",
            "  File \"/usr/local/lib/python3.10/dist-packages/setuptools/dist.py\", line 1244, in run_command\n",
            "    super().run_command(command)\n",
            "  File \"/usr/local/lib/python3.10/dist-packages/setuptools/_distutils/dist.py\", line 988, in run_command\n",
            "    cmd_obj.run()\n",
            "  File \"/usr/local/lib/python3.10/dist-packages/setuptools/_distutils/command/build_ext.py\", line 345, in run\n",
            "    self.build_extensions()\n",
            "  File \"/usr/local/lib/python3.10/dist-packages/setuptools/_distutils/command/build_ext.py\", line 467, in build_extensions\n",
            "    self._build_extensions_serial()\n",
            "  File \"/usr/local/lib/python3.10/dist-packages/setuptools/_distutils/command/build_ext.py\", line 493, in _build_extensions_serial\n",
            "    self.build_extension(ext)\n",
            "  File \"/usr/local/lib/python3.10/dist-packages/Cython/Distutils/build_ext.py\", line 130, in build_extension\n",
            "    new_ext = cythonize(\n",
            "  File \"/usr/local/lib/python3.10/dist-packages/Cython/Build/Dependencies.py\", line 1154, in cythonize\n",
            "    cythonize_one(*args)\n",
            "  File \"/usr/local/lib/python3.10/dist-packages/Cython/Build/Dependencies.py\", line 1321, in cythonize_one\n",
            "    raise CompileError(None, pyx_file)\n",
            "Cython.Compiler.Errors.CompileError: Sparse_Matrix_Tree_CSR.pyx\n",
            "Traceback (most recent call last):\n",
            "  File \"/content/RecSys_Course_AT_PoliMi/run_compile_all_cython.py\", line 59, in <module>\n",
            "    run_compile_subprocess(file_path, [file_name])\n",
            "  File \"/content/RecSys_Course_AT_PoliMi/CythonCompiler/run_compile_subprocess.py\", line 51, in run_compile_subprocess\n",
            "    raise exc\n",
            "  File \"/content/RecSys_Course_AT_PoliMi/CythonCompiler/run_compile_subprocess.py\", line 32, in run_compile_subprocess\n",
            "    output = subprocess.check_output(' '.join(command),\n",
            "  File \"/usr/lib/python3.10/subprocess.py\", line 421, in check_output\n",
            "    return run(*popenargs, stdout=PIPE, timeout=timeout, check=True,\n",
            "  File \"/usr/lib/python3.10/subprocess.py\", line 526, in run\n",
            "    raise CalledProcessError(retcode, process.args,\n",
            "subprocess.CalledProcessError: Command '/usr/bin/python3 /content/RecSys_Course_AT_PoliMi/CythonCompiler/compile_script.py Sparse_Matrix_Tree_CSR.pyx build_ext --inplace' returned non-zero exit status 1.\n",
            "Compiling [5/10]: Sparse_Matrix_Tree_CSR.pyx... FAIL: Command '/usr/bin/python3 /content/RecSys_Course_AT_PoliMi/CythonCompiler/compile_script.py Sparse_Matrix_Tree_CSR.pyx build_ext --inplace' returned non-zero exit status 1.\n",
            "\n",
            "Compiling [6/10]: Triangular_Matrix.pyx... \n",
            "warning: Triangular_Matrix.pyx:22:0: The 'IF' statement is deprecated and will be removed in a future Cython version. Consider using runtime conditions or C macros instead. See https://github.com/cython/cython/issues/4310\n",
            "In file included from \u001b[01m\u001b[K/usr/local/lib/python3.10/dist-packages/numpy/core/include/numpy/ndarraytypes.h:1948\u001b[m\u001b[K,\n",
            "                 from \u001b[01m\u001b[K/usr/local/lib/python3.10/dist-packages/numpy/core/include/numpy/ndarrayobject.h:12\u001b[m\u001b[K,\n",
            "                 from \u001b[01m\u001b[K/usr/local/lib/python3.10/dist-packages/numpy/core/include/numpy/arrayobject.h:5\u001b[m\u001b[K,\n",
            "                 from \u001b[01m\u001b[KTriangular_Matrix.c:1217\u001b[m\u001b[K:\n",
            "\u001b[01m\u001b[K/usr/local/lib/python3.10/dist-packages/numpy/core/include/numpy/npy_1_7_deprecated_api.h:17:2:\u001b[m\u001b[K \u001b[01;35m\u001b[Kwarning: \u001b[m\u001b[K#warning \"Using deprecated NumPy API, disable it with \" \"#define NPY_NO_DEPRECATED_API NPY_1_7_API_VERSION\" [\u001b[01;35m\u001b[K\u001b]8;;https://gcc.gnu.org/onlinedocs/gcc/Warning-Options.html#index-Wcpp\u0007-Wcpp\u001b]8;;\u0007\u001b[m\u001b[K]\n",
            "   17 | #\u001b[01;35m\u001b[Kwarning\u001b[m\u001b[K \"Using deprecated NumPy API, disable it with \" \\\n",
            "      |  \u001b[01;35m\u001b[K^~~~~~~\u001b[m\u001b[K\n",
            "In function ‘\u001b[01m\u001b[K__pyx_pf_17Triangular_Matrix_17Triangular_Matrix___init__\u001b[m\u001b[K’,\n",
            "    inlined from ‘\u001b[01m\u001b[K__pyx_pw_17Triangular_Matrix_17Triangular_Matrix_1__init__\u001b[m\u001b[K’ at \u001b[01m\u001b[KTriangular_Matrix.c:5532:13\u001b[m\u001b[K:\n",
            "\u001b[01m\u001b[KTriangular_Matrix.c:5590:43:\u001b[m\u001b[K \u001b[01;35m\u001b[Kwarning: \u001b[m\u001b[Kargument 1 value ‘\u001b[01m\u001b[K18446744073709551608\u001b[m\u001b[K’ exceeds maximum object size 9223372036854775807 [\u001b[01;35m\u001b[K\u001b]8;;https://gcc.gnu.org/onlinedocs/gcc/Warning-Options.html#index-Walloc-size-larger-than=\u0007-Walloc-size-larger-than=\u001b]8;;\u0007\u001b[m\u001b[K]\n",
            " 5590 |   __pyx_v_self->row_pointer = ((double **)\u001b[01;35m\u001b[Kmalloc((__pyx_v_self->num_rows * (sizeof(double *))))\u001b[m\u001b[K);\n",
            "      |                                           \u001b[01;35m\u001b[K^~~~~~~~~~~~~~~~~~~~~~~~~~~~~~~~~~~~~~~~~~~~~~~~~~~~~\u001b[m\u001b[K\n",
            "In file included from \u001b[01m\u001b[K/usr/include/python3.10/Python.h:34\u001b[m\u001b[K,\n",
            "                 from \u001b[01m\u001b[KTriangular_Matrix.c:41\u001b[m\u001b[K:\n",
            "\u001b[01m\u001b[KTriangular_Matrix.c:\u001b[m\u001b[K In function ‘\u001b[01m\u001b[K__pyx_pw_17Triangular_Matrix_17Triangular_Matrix_1__init__\u001b[m\u001b[K’:\n",
            "\u001b[01m\u001b[K/usr/include/stdlib.h:540:14:\u001b[m\u001b[K \u001b[01;36m\u001b[Knote: \u001b[m\u001b[Kin a call to allocation function ‘\u001b[01m\u001b[Kmalloc\u001b[m\u001b[K’ declared here\n",
            "  540 | extern void *\u001b[01;36m\u001b[Kmalloc\u001b[m\u001b[K (size_t __size) __THROW __attribute_malloc__\n",
            "      |              \u001b[01;36m\u001b[K^~~~~~\u001b[m\u001b[K\n",
            "/usr/local/lib/python3.10/dist-packages/Cython/Compiler/Main.py:381: FutureWarning: Cython directive 'language_level' not set, using '3str' for now (Py3). This has changed from earlier releases! File: /content/RecSys_Course_AT_PoliMi/Recommenders/SLIM/Cython/Triangular_Matrix.pyx\n",
            "  tree = Parsing.p_module(s, pxd, full_module_name)\n",
            "warning: Triangular_Matrix.pyx:22:0: The 'IF' statement is deprecated and will be removed in a future Cython version. Consider using runtime conditions or C macros instead. See https://github.com/cython/cython/issues/4310\n",
            "Compiling [6/10]: Triangular_Matrix.pyx... PASS\n",
            "\n",
            "Compiling [7/10]: CFW_DVV_Similarity_Cython_SGD.pyx... \n",
            "In file included from \u001b[01m\u001b[K/usr/local/lib/python3.10/dist-packages/numpy/core/include/numpy/ndarraytypes.h:1948\u001b[m\u001b[K,\n",
            "                 from \u001b[01m\u001b[K/usr/local/lib/python3.10/dist-packages/numpy/core/include/numpy/ndarrayobject.h:12\u001b[m\u001b[K,\n",
            "                 from \u001b[01m\u001b[K/usr/local/lib/python3.10/dist-packages/numpy/core/include/numpy/arrayobject.h:5\u001b[m\u001b[K,\n",
            "                 from \u001b[01m\u001b[KCFW_DVV_Similarity_Cython_SGD.c:1217\u001b[m\u001b[K:\n",
            "\u001b[01m\u001b[K/usr/local/lib/python3.10/dist-packages/numpy/core/include/numpy/npy_1_7_deprecated_api.h:17:2:\u001b[m\u001b[K \u001b[01;35m\u001b[Kwarning: \u001b[m\u001b[K#warning \"Using deprecated NumPy API, disable it with \" \"#define NPY_NO_DEPRECATED_API NPY_1_7_API_VERSION\" [\u001b[01;35m\u001b[K\u001b]8;;https://gcc.gnu.org/onlinedocs/gcc/Warning-Options.html#index-Wcpp\u0007-Wcpp\u001b]8;;\u0007\u001b[m\u001b[K]\n",
            "   17 | #\u001b[01;35m\u001b[Kwarning\u001b[m\u001b[K \"Using deprecated NumPy API, disable it with \" \\\n",
            "      |  \u001b[01;35m\u001b[K^~~~~~~\u001b[m\u001b[K\n",
            "/usr/local/lib/python3.10/dist-packages/Cython/Compiler/Main.py:381: FutureWarning: Cython directive 'language_level' not set, using '3str' for now (Py3). This has changed from earlier releases! File: /content/RecSys_Course_AT_PoliMi/Recommenders/FeatureWeighting/Cython/CFW_DVV_Similarity_Cython_SGD.pyx\n",
            "  tree = Parsing.p_module(s, pxd, full_module_name)\n",
            "Compiling [7/10]: CFW_DVV_Similarity_Cython_SGD.pyx... PASS\n",
            "\n",
            "Compiling [8/10]: HP3_Similarity_Cython_SGD.pyx... \n",
            "performance hint: HP3_Similarity_Cython_SGD.pyx:113:40: Index should be typed for more efficient access\n",
            "performance hint: HP3_Similarity_Cython_SGD.pyx:114:40: Index should be typed for more efficient access\n",
            "In file included from \u001b[01m\u001b[K/usr/local/lib/python3.10/dist-packages/numpy/core/include/numpy/ndarraytypes.h:1948\u001b[m\u001b[K,\n",
            "                 from \u001b[01m\u001b[K/usr/local/lib/python3.10/dist-packages/numpy/core/include/numpy/ndarrayobject.h:12\u001b[m\u001b[K,\n",
            "                 from \u001b[01m\u001b[K/usr/local/lib/python3.10/dist-packages/numpy/core/include/numpy/arrayobject.h:5\u001b[m\u001b[K,\n",
            "                 from \u001b[01m\u001b[KHP3_Similarity_Cython_SGD.c:1217\u001b[m\u001b[K:\n",
            "\u001b[01m\u001b[K/usr/local/lib/python3.10/dist-packages/numpy/core/include/numpy/npy_1_7_deprecated_api.h:17:2:\u001b[m\u001b[K \u001b[01;35m\u001b[Kwarning: \u001b[m\u001b[K#warning \"Using deprecated NumPy API, disable it with \" \"#define NPY_NO_DEPRECATED_API NPY_1_7_API_VERSION\" [\u001b[01;35m\u001b[K\u001b]8;;https://gcc.gnu.org/onlinedocs/gcc/Warning-Options.html#index-Wcpp\u0007-Wcpp\u001b]8;;\u0007\u001b[m\u001b[K]\n",
            "   17 | #\u001b[01;35m\u001b[Kwarning\u001b[m\u001b[K \"Using deprecated NumPy API, disable it with \" \\\n",
            "      |  \u001b[01;35m\u001b[K^~~~~~~\u001b[m\u001b[K\n",
            "\u001b[01m\u001b[KHP3_Similarity_Cython_SGD.c:\u001b[m\u001b[K In function ‘\u001b[01m\u001b[K__pyx_pf_25HP3_Similarity_Cython_SGD_25HP3_Similarity_Cython_SGD_4fit\u001b[m\u001b[K’:\n",
            "\u001b[01m\u001b[KHP3_Similarity_Cython_SGD.c:23633:55:\u001b[m\u001b[K \u001b[01;35m\u001b[Kwarning: \u001b[m\u001b[K‘\u001b[01m\u001b[K__pyx_v_sample_num\u001b[m\u001b[K’ may be used uninitialized in this function [\u001b[01;35m\u001b[K\u001b]8;;https://gcc.gnu.org/onlinedocs/gcc/Warning-Options.html#index-Wmaybe-uninitialized\u0007-Wmaybe-uninitialized\u001b]8;;\u0007\u001b[m\u001b[K]\n",
            "23633 |   __pyx_t_1 = PyFloat_FromDouble((__pyx_v_cum_loss / \u001b[01;35m\u001b[K((double)__pyx_v_sample_num)\u001b[m\u001b[K)); if (unlikely(!__pyx_t_1)) __PYX_ERR(0, 291, __pyx_L1_error)\n",
            "      |                                                      \u001b[01;35m\u001b[K~^~~~~~~~~~~~~~~~~~~~~~~~~~~\u001b[m\u001b[K\n",
            "/usr/local/lib/python3.10/dist-packages/Cython/Compiler/Main.py:381: FutureWarning: Cython directive 'language_level' not set, using '3str' for now (Py3). This has changed from earlier releases! File: /content/RecSys_Course_AT_PoliMi/Recommenders/FeatureWeighting/Cython/HP3_Similarity_Cython_SGD.pyx\n",
            "  tree = Parsing.p_module(s, pxd, full_module_name)\n",
            "performance hint: HP3_Similarity_Cython_SGD.pyx:113:40: Index should be typed for more efficient access\n",
            "performance hint: HP3_Similarity_Cython_SGD.pyx:114:40: Index should be typed for more efficient access\n",
            "Compiling [8/10]: HP3_Similarity_Cython_SGD.pyx... PASS\n",
            "\n",
            "Compiling [9/10]: CFW_D_Similarity_Cython_SGD.pyx... \n",
            "In file included from \u001b[01m\u001b[K/usr/local/lib/python3.10/dist-packages/numpy/core/include/numpy/ndarraytypes.h:1948\u001b[m\u001b[K,\n",
            "                 from \u001b[01m\u001b[K/usr/local/lib/python3.10/dist-packages/numpy/core/include/numpy/ndarrayobject.h:12\u001b[m\u001b[K,\n",
            "                 from \u001b[01m\u001b[K/usr/local/lib/python3.10/dist-packages/numpy/core/include/numpy/arrayobject.h:5\u001b[m\u001b[K,\n",
            "                 from \u001b[01m\u001b[KCFW_D_Similarity_Cython_SGD.c:1217\u001b[m\u001b[K:\n",
            "\u001b[01m\u001b[K/usr/local/lib/python3.10/dist-packages/numpy/core/include/numpy/npy_1_7_deprecated_api.h:17:2:\u001b[m\u001b[K \u001b[01;35m\u001b[Kwarning: \u001b[m\u001b[K#warning \"Using deprecated NumPy API, disable it with \" \"#define NPY_NO_DEPRECATED_API NPY_1_7_API_VERSION\" [\u001b[01;35m\u001b[K\u001b]8;;https://gcc.gnu.org/onlinedocs/gcc/Warning-Options.html#index-Wcpp\u0007-Wcpp\u001b]8;;\u0007\u001b[m\u001b[K]\n",
            "   17 | #\u001b[01;35m\u001b[Kwarning\u001b[m\u001b[K \"Using deprecated NumPy API, disable it with \" \\\n",
            "      |  \u001b[01;35m\u001b[K^~~~~~~\u001b[m\u001b[K\n",
            "\u001b[01m\u001b[KCFW_D_Similarity_Cython_SGD.c:\u001b[m\u001b[K In function ‘\u001b[01m\u001b[K__pyx_pf_27CFW_D_Similarity_Cython_SGD_27CFW_D_Similarity_Cython_SGD_6fit\u001b[m\u001b[K’:\n",
            "\u001b[01m\u001b[KCFW_D_Similarity_Cython_SGD.c:23364:55:\u001b[m\u001b[K \u001b[01;35m\u001b[Kwarning: \u001b[m\u001b[K‘\u001b[01m\u001b[K__pyx_v_sample_num\u001b[m\u001b[K’ may be used uninitialized in this function [\u001b[01;35m\u001b[K\u001b]8;;https://gcc.gnu.org/onlinedocs/gcc/Warning-Options.html#index-Wmaybe-uninitialized\u0007-Wmaybe-uninitialized\u001b]8;;\u0007\u001b[m\u001b[K]\n",
            "23364 |   __pyx_t_3 = PyFloat_FromDouble((__pyx_v_cum_loss / \u001b[01;35m\u001b[K((double)__pyx_v_sample_num)\u001b[m\u001b[K)); if (unlikely(!__pyx_t_3)) __PYX_ERR(0, 290, __pyx_L1_error)\n",
            "      |                                                      \u001b[01;35m\u001b[K~^~~~~~~~~~~~~~~~~~~~~~~~~~~\u001b[m\u001b[K\n",
            "/usr/local/lib/python3.10/dist-packages/Cython/Compiler/Main.py:381: FutureWarning: Cython directive 'language_level' not set, using '3str' for now (Py3). This has changed from earlier releases! File: /content/RecSys_Course_AT_PoliMi/Recommenders/FeatureWeighting/Cython/CFW_D_Similarity_Cython_SGD.pyx\n",
            "  tree = Parsing.p_module(s, pxd, full_module_name)\n",
            "Compiling [9/10]: CFW_D_Similarity_Cython_SGD.pyx... PASS\n",
            "\n",
            "Compiling [10/10]: FBSM_Rating_Cython_SGD.pyx... \n",
            "In file included from \u001b[01m\u001b[K/usr/local/lib/python3.10/dist-packages/numpy/core/include/numpy/ndarraytypes.h:1948\u001b[m\u001b[K,\n",
            "                 from \u001b[01m\u001b[K/usr/local/lib/python3.10/dist-packages/numpy/core/include/numpy/ndarrayobject.h:12\u001b[m\u001b[K,\n",
            "                 from \u001b[01m\u001b[K/usr/local/lib/python3.10/dist-packages/numpy/core/include/numpy/arrayobject.h:5\u001b[m\u001b[K,\n",
            "                 from \u001b[01m\u001b[KFBSM_Rating_Cython_SGD.c:1217\u001b[m\u001b[K:\n",
            "\u001b[01m\u001b[K/usr/local/lib/python3.10/dist-packages/numpy/core/include/numpy/npy_1_7_deprecated_api.h:17:2:\u001b[m\u001b[K \u001b[01;35m\u001b[Kwarning: \u001b[m\u001b[K#warning \"Using deprecated NumPy API, disable it with \" \"#define NPY_NO_DEPRECATED_API NPY_1_7_API_VERSION\" [\u001b[01;35m\u001b[K\u001b]8;;https://gcc.gnu.org/onlinedocs/gcc/Warning-Options.html#index-Wcpp\u0007-Wcpp\u001b]8;;\u0007\u001b[m\u001b[K]\n",
            "   17 | #\u001b[01;35m\u001b[Kwarning\u001b[m\u001b[K \"Using deprecated NumPy API, disable it with \" \\\n",
            "      |  \u001b[01;35m\u001b[K^~~~~~~\u001b[m\u001b[K\n",
            "\u001b[01m\u001b[KFBSM_Rating_Cython_SGD.c:\u001b[m\u001b[K In function ‘\u001b[01m\u001b[K__pyx_pf_22FBSM_Rating_Cython_SGD_22FBSM_Rating_Cython_SGD_2fit\u001b[m\u001b[K’:\n",
            "\u001b[01m\u001b[KFBSM_Rating_Cython_SGD.c:26598:55:\u001b[m\u001b[K \u001b[01;35m\u001b[Kwarning: \u001b[m\u001b[K‘\u001b[01m\u001b[K__pyx_v_num_sample\u001b[m\u001b[K’ may be used uninitialized in this function [\u001b[01;35m\u001b[K\u001b]8;;https://gcc.gnu.org/onlinedocs/gcc/Warning-Options.html#index-Wmaybe-uninitialized\u0007-Wmaybe-uninitialized\u001b]8;;\u0007\u001b[m\u001b[K]\n",
            "26598 |   __pyx_t_5 = PyFloat_FromDouble((__pyx_v_cum_loss / \u001b[01;35m\u001b[K((double)__pyx_v_num_sample)\u001b[m\u001b[K)); if (unlikely(!__pyx_t_5)) __PYX_ERR(0, 551, __pyx_L1_error)\n",
            "      |                                                      \u001b[01;35m\u001b[K~^~~~~~~~~~~~~~~~~~~~~~~~~~~\u001b[m\u001b[K\n",
            "/usr/local/lib/python3.10/dist-packages/Cython/Compiler/Main.py:381: FutureWarning: Cython directive 'language_level' not set, using '3str' for now (Py3). This has changed from earlier releases! File: /content/RecSys_Course_AT_PoliMi/Recommenders/FeatureWeighting/Cython/FBSM_Rating_Cython_SGD.pyx\n",
            "  tree = Parsing.p_module(s, pxd, full_module_name)\n",
            "Compiling [10/10]: FBSM_Rating_Cython_SGD.pyx... PASS\n",
            "\n",
            "run_compile_all_cython: Compilation finished. FAILS 2/10.\n",
            "Compilation log can be found here: './result_experiments/run_compile_all_cython.txt'\n"
          ]
        }
      ]
    },
    {
      "cell_type": "code",
      "execution_count": 2,
      "metadata": {
        "colab": {
          "base_uri": "https://localhost:8080/"
        },
        "id": "dRiWEqrkxI-A",
        "outputId": "4a64ae6c-76ce-40f0-ea63-ad8e4a13bf1e"
      },
      "outputs": [
        {
          "output_type": "stream",
          "name": "stdout",
          "text": [
            "Mounted at /gdrive\n"
          ]
        }
      ],
      "source": [
        "from google.colab import drive\n",
        "drive.mount('/gdrive')"
      ]
    },
    {
      "cell_type": "markdown",
      "metadata": {
        "id": "eCC3N4HIxjjH"
      },
      "source": [
        "#Import Library"
      ]
    },
    {
      "cell_type": "code",
      "execution_count": 3,
      "metadata": {
        "colab": {
          "base_uri": "https://localhost:8080/"
        },
        "id": "_Cc4espPxNMj",
        "outputId": "eb506822-0308-4520-b162-9385f7abb1e5"
      },
      "outputs": [
        {
          "output_type": "stream",
          "name": "stdout",
          "text": [
            "Collecting optuna\n",
            "  Downloading optuna-3.4.0-py3-none-any.whl (409 kB)\n",
            "\u001b[2K     \u001b[90m━━━━━━━━━━━━━━━━━━━━━━━━━━━━━━━━━━━━━━━━\u001b[0m \u001b[32m409.6/409.6 kB\u001b[0m \u001b[31m10.1 MB/s\u001b[0m eta \u001b[36m0:00:00\u001b[0m\n",
            "\u001b[?25hCollecting alembic>=1.5.0 (from optuna)\n",
            "  Downloading alembic-1.12.1-py3-none-any.whl (226 kB)\n",
            "\u001b[2K     \u001b[90m━━━━━━━━━━━━━━━━━━━━━━━━━━━━━━━━━━━━━━━━\u001b[0m \u001b[32m226.8/226.8 kB\u001b[0m \u001b[31m24.6 MB/s\u001b[0m eta \u001b[36m0:00:00\u001b[0m\n",
            "\u001b[?25hCollecting colorlog (from optuna)\n",
            "  Downloading colorlog-6.7.0-py2.py3-none-any.whl (11 kB)\n",
            "Requirement already satisfied: numpy in /usr/local/lib/python3.10/dist-packages (from optuna) (1.23.5)\n",
            "Requirement already satisfied: packaging>=20.0 in /usr/local/lib/python3.10/dist-packages (from optuna) (23.2)\n",
            "Requirement already satisfied: sqlalchemy>=1.3.0 in /usr/local/lib/python3.10/dist-packages (from optuna) (2.0.23)\n",
            "Requirement already satisfied: tqdm in /usr/local/lib/python3.10/dist-packages (from optuna) (4.66.1)\n",
            "Requirement already satisfied: PyYAML in /usr/local/lib/python3.10/dist-packages (from optuna) (6.0.1)\n",
            "Collecting Mako (from alembic>=1.5.0->optuna)\n",
            "  Downloading Mako-1.3.0-py3-none-any.whl (78 kB)\n",
            "\u001b[2K     \u001b[90m━━━━━━━━━━━━━━━━━━━━━━━━━━━━━━━━━━━━━━━━\u001b[0m \u001b[32m78.6/78.6 kB\u001b[0m \u001b[31m7.5 MB/s\u001b[0m eta \u001b[36m0:00:00\u001b[0m\n",
            "\u001b[?25hRequirement already satisfied: typing-extensions>=4 in /usr/local/lib/python3.10/dist-packages (from alembic>=1.5.0->optuna) (4.5.0)\n",
            "Requirement already satisfied: greenlet!=0.4.17 in /usr/local/lib/python3.10/dist-packages (from sqlalchemy>=1.3.0->optuna) (3.0.1)\n",
            "Requirement already satisfied: MarkupSafe>=0.9.2 in /usr/local/lib/python3.10/dist-packages (from Mako->alembic>=1.5.0->optuna) (2.1.3)\n",
            "Installing collected packages: Mako, colorlog, alembic, optuna\n",
            "Successfully installed Mako-1.3.0 alembic-1.12.1 colorlog-6.7.0 optuna-3.4.0\n"
          ]
        }
      ],
      "source": [
        "import pandas as pd\n",
        "import numpy as np\n",
        "import matplotlib.pyplot as plt\n",
        "from sklearn.model_selection import train_test_split\n",
        "import scipy.sparse as sp\n",
        "from typing import Tuple, Callable, Dict, Optional, List\n",
        "from Recommenders.KNN.ItemKNNCFRecommender import ItemKNNCFRecommender\n",
        "from Recommenders.Similarity.Compute_Similarity_Python import Compute_Similarity_Python\n",
        "from scipy.stats import loguniform\n",
        "!pip install optuna\n",
        "import optuna"
      ]
    },
    {
      "cell_type": "markdown",
      "metadata": {
        "id": "GnP3Qb-nzW3F"
      },
      "source": [
        "#Load Data"
      ]
    },
    {
      "cell_type": "code",
      "execution_count": 4,
      "metadata": {
        "id": "EmCzZHO8xnHS",
        "colab": {
          "base_uri": "https://localhost:8080/"
        },
        "outputId": "5c99127d-83d5-4dd1-956d-2792632060ae"
      },
      "outputs": [
        {
          "output_type": "stream",
          "name": "stdout",
          "text": [
            "/gdrive/MyDrive/RECSYS\n",
            "/content/RecSys_Course_AT_PoliMi\n"
          ]
        }
      ],
      "source": [
        "%cd /gdrive/MyDrive/RECSYS\n",
        "data_train = pd.read_csv('data_train.csv')\n",
        "data_target_users_test = pd.read_csv('data_target_users_test.csv')\n",
        "%cd ../../../content/RecSys_Course_AT_PoliMi"
      ]
    },
    {
      "cell_type": "code",
      "execution_count": 5,
      "metadata": {
        "id": "Vh_4xGA8xzyV"
      },
      "outputs": [],
      "source": [
        "data_train.columns = [\"user_id\", \"item_id\", \"Interaction\"]"
      ]
    },
    {
      "cell_type": "code",
      "execution_count": 6,
      "metadata": {
        "id": "dtUrQBPlzSEc",
        "colab": {
          "base_uri": "https://localhost:8080/"
        },
        "outputId": "28ccfd3b-53b7-43e0-dc40-c4f3cbb17dff"
      },
      "outputs": [
        {
          "output_type": "stream",
          "name": "stdout",
          "text": [
            "The number of interactions is 478730\n"
          ]
        }
      ],
      "source": [
        "print (\"The number of interactions is {}\".format(len(data_train)))"
      ]
    },
    {
      "cell_type": "code",
      "execution_count": 8,
      "metadata": {
        "id": "aiHSbCzyzUk7"
      },
      "outputs": [],
      "source": [
        "userID_unique = data_train[\"user_id\"].unique()\n",
        "itemID_unique = data_train[\"item_id\"].unique()"
      ]
    },
    {
      "cell_type": "code",
      "execution_count": 9,
      "metadata": {
        "id": "VoJy1s8Tzamf",
        "colab": {
          "base_uri": "https://localhost:8080/"
        },
        "outputId": "c71c6f15-1185-401e-ec1e-017fd4cbecb4"
      },
      "outputs": [
        {
          "output_type": "stream",
          "name": "stdout",
          "text": [
            "Number of items\t 22222, Number of users\t 12638\n",
            "Max ID items\t 22347, Max Id users\t 13024\n",
            "\n"
          ]
        }
      ],
      "source": [
        "n_users = len(userID_unique)\n",
        "n_items = len(itemID_unique)\n",
        "n_interactions = len(data_train)\n",
        "\n",
        "print (\"Number of items\\t {}, Number of users\\t {}\".format(n_items, n_users))\n",
        "print (\"Max ID items\\t {}, Max Id users\\t {}\\n\".format(max(itemID_unique), max(userID_unique)))"
      ]
    },
    {
      "cell_type": "markdown",
      "metadata": {
        "id": "1IB-Aujzz9OV"
      },
      "source": [
        "#Splitting Data"
      ]
    },
    {
      "cell_type": "code",
      "execution_count": 10,
      "metadata": {
        "id": "rv9buSlx5F_U"
      },
      "outputs": [],
      "source": [
        "def preprocess_data(interactions: pd.DataFrame):\n",
        "    unique_users = interactions.user_id.unique()\n",
        "    unique_items = interactions.item_id.unique()\n",
        "\n",
        "    num_users, min_user_id, max_user_id = unique_users.size, unique_users.min(), unique_users.max()\n",
        "    num_items, min_item_id, max_item_id = unique_items.size, unique_items.min(), unique_items.max()\n",
        "\n",
        "    print(num_users, min_user_id, max_user_id)\n",
        "    print(num_items, min_item_id, max_item_id)\n",
        "\n",
        "    mapping_user_id = pd.DataFrame({\"mapped_user_id\": np.arange(num_users), \"user_id\": unique_users})\n",
        "    mapping_item_id = pd.DataFrame({\"mapped_item_id\": np.arange(num_items), \"item_id\": unique_items})\n",
        "\n",
        "    interactions = pd.merge(left=interactions,\n",
        "                       right=mapping_user_id,\n",
        "                       how=\"inner\",\n",
        "                       on=\"user_id\")\n",
        "\n",
        "    interactions = pd.merge(left=interactions,\n",
        "                       right=mapping_item_id,\n",
        "                       how=\"inner\",\n",
        "                       on=\"item_id\")\n",
        "\n",
        "    return interactions\n"
      ]
    },
    {
      "cell_type": "code",
      "execution_count": 11,
      "metadata": {
        "id": "P7n04nV95Mc-",
        "colab": {
          "base_uri": "https://localhost:8080/"
        },
        "outputId": "4dfe9e79-3adf-4ba8-8752-c86fb9bb906f"
      },
      "outputs": [
        {
          "output_type": "stream",
          "name": "stdout",
          "text": [
            "12638 1 13024\n",
            "22222 1 22347\n"
          ]
        }
      ],
      "source": [
        "interactions = preprocess_data(data_train)"
      ]
    },
    {
      "cell_type": "code",
      "execution_count": 12,
      "metadata": {
        "id": "B41fKtAp5wIO",
        "colab": {
          "base_uri": "https://localhost:8080/",
          "height": 0
        },
        "outputId": "0fc9a5eb-2d58-4ab8-d92a-b5bf8435fce6"
      },
      "outputs": [
        {
          "output_type": "execute_result",
          "data": {
            "text/plain": [
              "        user_id  item_id  Interaction  mapped_user_id  mapped_item_id\n",
              "0             1        7          1.0               0               0\n",
              "1             2        7          1.0               1               0\n",
              "2            26        7          1.0              24               0\n",
              "3            36        7          1.0              34               0\n",
              "4            41        7          1.0              39               0\n",
              "...         ...      ...          ...             ...             ...\n",
              "478725    12962    20368          1.0           12579           22217\n",
              "478726    12985    21058          1.0           12601           22218\n",
              "478727    12989    22317          1.0           12605           22219\n",
              "478728    13009    22339          1.0           12624           22220\n",
              "478729    13021    21466          1.0           12634           22221\n",
              "\n",
              "[478730 rows x 5 columns]"
            ],
            "text/html": [
              "\n",
              "  <div id=\"df-0869bc04-7e81-469d-8fb2-23eb9b773fbe\" class=\"colab-df-container\">\n",
              "    <div>\n",
              "<style scoped>\n",
              "    .dataframe tbody tr th:only-of-type {\n",
              "        vertical-align: middle;\n",
              "    }\n",
              "\n",
              "    .dataframe tbody tr th {\n",
              "        vertical-align: top;\n",
              "    }\n",
              "\n",
              "    .dataframe thead th {\n",
              "        text-align: right;\n",
              "    }\n",
              "</style>\n",
              "<table border=\"1\" class=\"dataframe\">\n",
              "  <thead>\n",
              "    <tr style=\"text-align: right;\">\n",
              "      <th></th>\n",
              "      <th>user_id</th>\n",
              "      <th>item_id</th>\n",
              "      <th>Interaction</th>\n",
              "      <th>mapped_user_id</th>\n",
              "      <th>mapped_item_id</th>\n",
              "    </tr>\n",
              "  </thead>\n",
              "  <tbody>\n",
              "    <tr>\n",
              "      <th>0</th>\n",
              "      <td>1</td>\n",
              "      <td>7</td>\n",
              "      <td>1.0</td>\n",
              "      <td>0</td>\n",
              "      <td>0</td>\n",
              "    </tr>\n",
              "    <tr>\n",
              "      <th>1</th>\n",
              "      <td>2</td>\n",
              "      <td>7</td>\n",
              "      <td>1.0</td>\n",
              "      <td>1</td>\n",
              "      <td>0</td>\n",
              "    </tr>\n",
              "    <tr>\n",
              "      <th>2</th>\n",
              "      <td>26</td>\n",
              "      <td>7</td>\n",
              "      <td>1.0</td>\n",
              "      <td>24</td>\n",
              "      <td>0</td>\n",
              "    </tr>\n",
              "    <tr>\n",
              "      <th>3</th>\n",
              "      <td>36</td>\n",
              "      <td>7</td>\n",
              "      <td>1.0</td>\n",
              "      <td>34</td>\n",
              "      <td>0</td>\n",
              "    </tr>\n",
              "    <tr>\n",
              "      <th>4</th>\n",
              "      <td>41</td>\n",
              "      <td>7</td>\n",
              "      <td>1.0</td>\n",
              "      <td>39</td>\n",
              "      <td>0</td>\n",
              "    </tr>\n",
              "    <tr>\n",
              "      <th>...</th>\n",
              "      <td>...</td>\n",
              "      <td>...</td>\n",
              "      <td>...</td>\n",
              "      <td>...</td>\n",
              "      <td>...</td>\n",
              "    </tr>\n",
              "    <tr>\n",
              "      <th>478725</th>\n",
              "      <td>12962</td>\n",
              "      <td>20368</td>\n",
              "      <td>1.0</td>\n",
              "      <td>12579</td>\n",
              "      <td>22217</td>\n",
              "    </tr>\n",
              "    <tr>\n",
              "      <th>478726</th>\n",
              "      <td>12985</td>\n",
              "      <td>21058</td>\n",
              "      <td>1.0</td>\n",
              "      <td>12601</td>\n",
              "      <td>22218</td>\n",
              "    </tr>\n",
              "    <tr>\n",
              "      <th>478727</th>\n",
              "      <td>12989</td>\n",
              "      <td>22317</td>\n",
              "      <td>1.0</td>\n",
              "      <td>12605</td>\n",
              "      <td>22219</td>\n",
              "    </tr>\n",
              "    <tr>\n",
              "      <th>478728</th>\n",
              "      <td>13009</td>\n",
              "      <td>22339</td>\n",
              "      <td>1.0</td>\n",
              "      <td>12624</td>\n",
              "      <td>22220</td>\n",
              "    </tr>\n",
              "    <tr>\n",
              "      <th>478729</th>\n",
              "      <td>13021</td>\n",
              "      <td>21466</td>\n",
              "      <td>1.0</td>\n",
              "      <td>12634</td>\n",
              "      <td>22221</td>\n",
              "    </tr>\n",
              "  </tbody>\n",
              "</table>\n",
              "<p>478730 rows × 5 columns</p>\n",
              "</div>\n",
              "    <div class=\"colab-df-buttons\">\n",
              "\n",
              "  <div class=\"colab-df-container\">\n",
              "    <button class=\"colab-df-convert\" onclick=\"convertToInteractive('df-0869bc04-7e81-469d-8fb2-23eb9b773fbe')\"\n",
              "            title=\"Convert this dataframe to an interactive table.\"\n",
              "            style=\"display:none;\">\n",
              "\n",
              "  <svg xmlns=\"http://www.w3.org/2000/svg\" height=\"24px\" viewBox=\"0 -960 960 960\">\n",
              "    <path d=\"M120-120v-720h720v720H120Zm60-500h600v-160H180v160Zm220 220h160v-160H400v160Zm0 220h160v-160H400v160ZM180-400h160v-160H180v160Zm440 0h160v-160H620v160ZM180-180h160v-160H180v160Zm440 0h160v-160H620v160Z\"/>\n",
              "  </svg>\n",
              "    </button>\n",
              "\n",
              "  <style>\n",
              "    .colab-df-container {\n",
              "      display:flex;\n",
              "      gap: 12px;\n",
              "    }\n",
              "\n",
              "    .colab-df-convert {\n",
              "      background-color: #E8F0FE;\n",
              "      border: none;\n",
              "      border-radius: 50%;\n",
              "      cursor: pointer;\n",
              "      display: none;\n",
              "      fill: #1967D2;\n",
              "      height: 32px;\n",
              "      padding: 0 0 0 0;\n",
              "      width: 32px;\n",
              "    }\n",
              "\n",
              "    .colab-df-convert:hover {\n",
              "      background-color: #E2EBFA;\n",
              "      box-shadow: 0px 1px 2px rgba(60, 64, 67, 0.3), 0px 1px 3px 1px rgba(60, 64, 67, 0.15);\n",
              "      fill: #174EA6;\n",
              "    }\n",
              "\n",
              "    .colab-df-buttons div {\n",
              "      margin-bottom: 4px;\n",
              "    }\n",
              "\n",
              "    [theme=dark] .colab-df-convert {\n",
              "      background-color: #3B4455;\n",
              "      fill: #D2E3FC;\n",
              "    }\n",
              "\n",
              "    [theme=dark] .colab-df-convert:hover {\n",
              "      background-color: #434B5C;\n",
              "      box-shadow: 0px 1px 3px 1px rgba(0, 0, 0, 0.15);\n",
              "      filter: drop-shadow(0px 1px 2px rgba(0, 0, 0, 0.3));\n",
              "      fill: #FFFFFF;\n",
              "    }\n",
              "  </style>\n",
              "\n",
              "    <script>\n",
              "      const buttonEl =\n",
              "        document.querySelector('#df-0869bc04-7e81-469d-8fb2-23eb9b773fbe button.colab-df-convert');\n",
              "      buttonEl.style.display =\n",
              "        google.colab.kernel.accessAllowed ? 'block' : 'none';\n",
              "\n",
              "      async function convertToInteractive(key) {\n",
              "        const element = document.querySelector('#df-0869bc04-7e81-469d-8fb2-23eb9b773fbe');\n",
              "        const dataTable =\n",
              "          await google.colab.kernel.invokeFunction('convertToInteractive',\n",
              "                                                    [key], {});\n",
              "        if (!dataTable) return;\n",
              "\n",
              "        const docLinkHtml = 'Like what you see? Visit the ' +\n",
              "          '<a target=\"_blank\" href=https://colab.research.google.com/notebooks/data_table.ipynb>data table notebook</a>'\n",
              "          + ' to learn more about interactive tables.';\n",
              "        element.innerHTML = '';\n",
              "        dataTable['output_type'] = 'display_data';\n",
              "        await google.colab.output.renderOutput(dataTable, element);\n",
              "        const docLink = document.createElement('div');\n",
              "        docLink.innerHTML = docLinkHtml;\n",
              "        element.appendChild(docLink);\n",
              "      }\n",
              "    </script>\n",
              "  </div>\n",
              "\n",
              "\n",
              "<div id=\"df-45876320-8c12-4272-912d-2506154c963c\">\n",
              "  <button class=\"colab-df-quickchart\" onclick=\"quickchart('df-45876320-8c12-4272-912d-2506154c963c')\"\n",
              "            title=\"Suggest charts\"\n",
              "            style=\"display:none;\">\n",
              "\n",
              "<svg xmlns=\"http://www.w3.org/2000/svg\" height=\"24px\"viewBox=\"0 0 24 24\"\n",
              "     width=\"24px\">\n",
              "    <g>\n",
              "        <path d=\"M19 3H5c-1.1 0-2 .9-2 2v14c0 1.1.9 2 2 2h14c1.1 0 2-.9 2-2V5c0-1.1-.9-2-2-2zM9 17H7v-7h2v7zm4 0h-2V7h2v10zm4 0h-2v-4h2v4z\"/>\n",
              "    </g>\n",
              "</svg>\n",
              "  </button>\n",
              "\n",
              "<style>\n",
              "  .colab-df-quickchart {\n",
              "      --bg-color: #E8F0FE;\n",
              "      --fill-color: #1967D2;\n",
              "      --hover-bg-color: #E2EBFA;\n",
              "      --hover-fill-color: #174EA6;\n",
              "      --disabled-fill-color: #AAA;\n",
              "      --disabled-bg-color: #DDD;\n",
              "  }\n",
              "\n",
              "  [theme=dark] .colab-df-quickchart {\n",
              "      --bg-color: #3B4455;\n",
              "      --fill-color: #D2E3FC;\n",
              "      --hover-bg-color: #434B5C;\n",
              "      --hover-fill-color: #FFFFFF;\n",
              "      --disabled-bg-color: #3B4455;\n",
              "      --disabled-fill-color: #666;\n",
              "  }\n",
              "\n",
              "  .colab-df-quickchart {\n",
              "    background-color: var(--bg-color);\n",
              "    border: none;\n",
              "    border-radius: 50%;\n",
              "    cursor: pointer;\n",
              "    display: none;\n",
              "    fill: var(--fill-color);\n",
              "    height: 32px;\n",
              "    padding: 0;\n",
              "    width: 32px;\n",
              "  }\n",
              "\n",
              "  .colab-df-quickchart:hover {\n",
              "    background-color: var(--hover-bg-color);\n",
              "    box-shadow: 0 1px 2px rgba(60, 64, 67, 0.3), 0 1px 3px 1px rgba(60, 64, 67, 0.15);\n",
              "    fill: var(--button-hover-fill-color);\n",
              "  }\n",
              "\n",
              "  .colab-df-quickchart-complete:disabled,\n",
              "  .colab-df-quickchart-complete:disabled:hover {\n",
              "    background-color: var(--disabled-bg-color);\n",
              "    fill: var(--disabled-fill-color);\n",
              "    box-shadow: none;\n",
              "  }\n",
              "\n",
              "  .colab-df-spinner {\n",
              "    border: 2px solid var(--fill-color);\n",
              "    border-color: transparent;\n",
              "    border-bottom-color: var(--fill-color);\n",
              "    animation:\n",
              "      spin 1s steps(1) infinite;\n",
              "  }\n",
              "\n",
              "  @keyframes spin {\n",
              "    0% {\n",
              "      border-color: transparent;\n",
              "      border-bottom-color: var(--fill-color);\n",
              "      border-left-color: var(--fill-color);\n",
              "    }\n",
              "    20% {\n",
              "      border-color: transparent;\n",
              "      border-left-color: var(--fill-color);\n",
              "      border-top-color: var(--fill-color);\n",
              "    }\n",
              "    30% {\n",
              "      border-color: transparent;\n",
              "      border-left-color: var(--fill-color);\n",
              "      border-top-color: var(--fill-color);\n",
              "      border-right-color: var(--fill-color);\n",
              "    }\n",
              "    40% {\n",
              "      border-color: transparent;\n",
              "      border-right-color: var(--fill-color);\n",
              "      border-top-color: var(--fill-color);\n",
              "    }\n",
              "    60% {\n",
              "      border-color: transparent;\n",
              "      border-right-color: var(--fill-color);\n",
              "    }\n",
              "    80% {\n",
              "      border-color: transparent;\n",
              "      border-right-color: var(--fill-color);\n",
              "      border-bottom-color: var(--fill-color);\n",
              "    }\n",
              "    90% {\n",
              "      border-color: transparent;\n",
              "      border-bottom-color: var(--fill-color);\n",
              "    }\n",
              "  }\n",
              "</style>\n",
              "\n",
              "  <script>\n",
              "    async function quickchart(key) {\n",
              "      const quickchartButtonEl =\n",
              "        document.querySelector('#' + key + ' button');\n",
              "      quickchartButtonEl.disabled = true;  // To prevent multiple clicks.\n",
              "      quickchartButtonEl.classList.add('colab-df-spinner');\n",
              "      try {\n",
              "        const charts = await google.colab.kernel.invokeFunction(\n",
              "            'suggestCharts', [key], {});\n",
              "      } catch (error) {\n",
              "        console.error('Error during call to suggestCharts:', error);\n",
              "      }\n",
              "      quickchartButtonEl.classList.remove('colab-df-spinner');\n",
              "      quickchartButtonEl.classList.add('colab-df-quickchart-complete');\n",
              "    }\n",
              "    (() => {\n",
              "      let quickchartButtonEl =\n",
              "        document.querySelector('#df-45876320-8c12-4272-912d-2506154c963c button');\n",
              "      quickchartButtonEl.style.display =\n",
              "        google.colab.kernel.accessAllowed ? 'block' : 'none';\n",
              "    })();\n",
              "  </script>\n",
              "</div>\n",
              "    </div>\n",
              "  </div>\n"
            ]
          },
          "metadata": {},
          "execution_count": 12
        }
      ],
      "source": [
        "interactions"
      ]
    },
    {
      "cell_type": "code",
      "execution_count": 13,
      "metadata": {
        "id": "BeQy3iIM3NWS"
      },
      "outputs": [],
      "source": [
        "def dataset_splits(interactions, num_users, num_items, validation_percentage: float, testing_percentage: float):\n",
        "    seed = 1234\n",
        "\n",
        "    (user_ids_training, user_ids_test,\n",
        "     item_ids_training, item_ids_test,\n",
        "     interactions_training, interactions_test) = train_test_split(interactions.mapped_user_id,\n",
        "                                                        interactions.mapped_item_id,\n",
        "                                                        interactions.Interaction,\n",
        "                                                        test_size=testing_percentage,\n",
        "                                                        shuffle=True,\n",
        "                                                        random_state=seed)\n",
        "\n",
        "    (user_ids_training, user_ids_validation,\n",
        "     item_ids_training, item_ids_validation,\n",
        "     interactions_training, interactions_validation) = train_test_split(user_ids_training,\n",
        "                                                              item_ids_training,\n",
        "                                                              interactions_training,\n",
        "                                                              test_size=validation_percentage,\n",
        "                                                             )\n",
        "\n",
        "    urm_train = sp.csr_matrix((interactions_training, (user_ids_training, item_ids_training)),\n",
        "                              shape=(num_users, num_items))\n",
        "\n",
        "    urm_validation = sp.csr_matrix((interactions_validation, (user_ids_validation, item_ids_validation)),\n",
        "                              shape=(num_users, num_items))\n",
        "\n",
        "    urm_test = sp.csr_matrix((interactions_test, (user_ids_test, item_ids_test)),\n",
        "                              shape=(num_users, num_items))\n",
        "\n",
        "\n",
        "\n",
        "    return urm_train, urm_validation, urm_test\n",
        "\n"
      ]
    },
    {
      "cell_type": "code",
      "execution_count": 14,
      "metadata": {
        "id": "_haTw9z74REP"
      },
      "outputs": [],
      "source": [
        "urm_train, urm_validation, urm_test = dataset_splits(interactions,\n",
        "                                                     num_users=12638,\n",
        "                                                     num_items=22222,\n",
        "                                                     validation_percentage=0.20,\n",
        "                                                     testing_percentage=0.20)"
      ]
    },
    {
      "cell_type": "code",
      "execution_count": 15,
      "metadata": {
        "id": "XZm4RgMl6_o4",
        "colab": {
          "base_uri": "https://localhost:8080/"
        },
        "outputId": "c14973c9-2e6c-40e9-ebb8-2bd4ad018d6b"
      },
      "outputs": [
        {
          "output_type": "execute_result",
          "data": {
            "text/plain": [
              "<12638x22222 sparse matrix of type '<class 'numpy.float64'>'\n",
              "\twith 306387 stored elements in Compressed Sparse Row format>"
            ]
          },
          "metadata": {},
          "execution_count": 15
        }
      ],
      "source": [
        "urm_train"
      ]
    },
    {
      "cell_type": "code",
      "execution_count": 16,
      "metadata": {
        "id": "Z22fMerd7DDD",
        "colab": {
          "base_uri": "https://localhost:8080/"
        },
        "outputId": "3b5f4f47-3812-4841-cf03-fb2481c233b0"
      },
      "outputs": [
        {
          "output_type": "execute_result",
          "data": {
            "text/plain": [
              "<12638x22222 sparse matrix of type '<class 'numpy.float64'>'\n",
              "\twith 76597 stored elements in Compressed Sparse Row format>"
            ]
          },
          "metadata": {},
          "execution_count": 16
        }
      ],
      "source": [
        "urm_validation"
      ]
    },
    {
      "cell_type": "code",
      "execution_count": 17,
      "metadata": {
        "id": "NXb7krZq7E07",
        "colab": {
          "base_uri": "https://localhost:8080/"
        },
        "outputId": "9eed8a79-8e8a-4c05-e2ce-17ab9f84cfe8"
      },
      "outputs": [
        {
          "output_type": "execute_result",
          "data": {
            "text/plain": [
              "<12638x22222 sparse matrix of type '<class 'numpy.float64'>'\n",
              "\twith 95746 stored elements in Compressed Sparse Row format>"
            ]
          },
          "metadata": {},
          "execution_count": 17
        }
      ],
      "source": [
        "urm_test"
      ]
    },
    {
      "cell_type": "markdown",
      "metadata": {
        "id": "H9nAar4i78dQ"
      },
      "source": [
        "# Build the Recommendation System"
      ]
    },
    {
      "cell_type": "markdown",
      "source": [
        "## Import Evaluator"
      ],
      "metadata": {
        "id": "DJJ9-RDiBq7u"
      }
    },
    {
      "cell_type": "code",
      "source": [
        "from Evaluation.Evaluator import EvaluatorHoldout\n",
        "\n",
        "evaluator_validation = EvaluatorHoldout(urm_validation,cutoff_list=[10])\n",
        "evaluator_test = EvaluatorHoldout(urm_test,cutoff_list=[10])"
      ],
      "metadata": {
        "id": "N9JXoFKbBqbJ",
        "outputId": "969be419-a822-483c-a547-62d04c8baa66",
        "colab": {
          "base_uri": "https://localhost:8080/"
        }
      },
      "execution_count": 292,
      "outputs": [
        {
          "output_type": "stream",
          "name": "stdout",
          "text": [
            "EvaluatorHoldout: Ignoring 2601 (20.6%) Users that have less than 1 test interactions\n",
            "EvaluatorHoldout: Ignoring 2152 (17.0%) Users that have less than 1 test interactions\n"
          ]
        }
      ]
    },
    {
      "cell_type": "code",
      "source": [
        "class SaveResults(object):\n",
        "\n",
        "    def __init__(self):\n",
        "        self.results_df = pd.DataFrame()\n",
        "\n",
        "    def __call__(self, optuna_study, optuna_trial):\n",
        "        hyperparam_dict = optuna_trial.params.copy()\n",
        "        hyperparam_dict[\"result\"] = optuna_trial.values[0]\n",
        "\n",
        "        self.results_df = self.results_df.append(hyperparam_dict, ignore_index=True)"
      ],
      "metadata": {
        "id": "72iuxNPeEG-z"
      },
      "execution_count": 302,
      "outputs": []
    },
    {
      "cell_type": "markdown",
      "source": [
        "## RP3betaRecommender"
      ],
      "metadata": {
        "id": "p2lx_HERBaJJ"
      }
    },
    {
      "cell_type": "code",
      "execution_count": 293,
      "metadata": {
        "id": "hb7DlmAP1exj"
      },
      "outputs": [],
      "source": [
        "from Recommenders.GraphBased.RP3betaRecommender import RP3betaRecommender"
      ]
    },
    {
      "cell_type": "code",
      "source": [
        "rp3 = RP3betaRecommender(urm_train + urm_validation)\n",
        "bests = {'topK': 44, 'alpha': 0.21591232212788025, 'beta': 0.15299862700982697}\n",
        "\n",
        "rp3.fit(**bests)"
      ],
      "metadata": {
        "id": "tNuGErVSOa-_",
        "colab": {
          "base_uri": "https://localhost:8080/"
        },
        "outputId": "7e547a13-d365-4306-872e-bd6fc2f848a4"
      },
      "execution_count": 298,
      "outputs": [
        {
          "output_type": "stream",
          "name": "stdout",
          "text": [
            "RP3betaRecommender: URM Detected 230 ( 1.8%) users with no interactions.\n",
            "RP3betaRecommender: URM Detected 93 ( 0.4%) items with no interactions.\n",
            "RP3betaRecommender: Similarity column 22222 (100.0%), 4075.15 column/sec. Elapsed time 5.45 sec\n"
          ]
        }
      ]
    },
    {
      "cell_type": "code",
      "source": [
        "result_df, _ = evaluator_test.evaluateRecommender(rp3)\n",
        "result_df"
      ],
      "metadata": {
        "id": "uGugPCnGHc2Z",
        "outputId": "583a64bc-b17c-44af-fa27-a4f933ef5ad8",
        "colab": {
          "base_uri": "https://localhost:8080/",
          "height": 179
        }
      },
      "execution_count": 318,
      "outputs": [
        {
          "output_type": "stream",
          "name": "stdout",
          "text": [
            "EvaluatorHoldout: Processed 10486 (100.0%) in 6.09 sec. Users per second: 1722\n"
          ]
        },
        {
          "output_type": "execute_result",
          "data": {
            "text/plain": [
              "       PRECISION PRECISION_RECALL_MIN_DEN    RECALL       MAP MAP_MIN_DEN  \\\n",
              "cutoff                                                                      \n",
              "10      0.093143                 0.162036  0.136137  0.048089    0.083478   \n",
              "\n",
              "             MRR     NDCG        F1  HIT_RATE ARHR_ALL_HITS  ...  \\\n",
              "cutoff                                                       ...   \n",
              "10      0.267838  0.14892  0.110609  0.511158      0.354076  ...   \n",
              "\n",
              "       COVERAGE_USER COVERAGE_USER_HIT USERS_IN_GT DIVERSITY_GINI  \\\n",
              "cutoff                                                              \n",
              "10           0.82972          0.424118     0.82972       0.086468   \n",
              "\n",
              "       SHANNON_ENTROPY RATIO_DIVERSITY_HERFINDAHL RATIO_DIVERSITY_GINI  \\\n",
              "cutoff                                                                   \n",
              "10           10.742446                   0.998595             0.248248   \n",
              "\n",
              "       RATIO_SHANNON_ENTROPY RATIO_AVERAGE_POPULARITY RATIO_NOVELTY  \n",
              "cutoff                                                               \n",
              "10                  0.827582                 1.378839      0.299739  \n",
              "\n",
              "[1 rows x 27 columns]"
            ],
            "text/html": [
              "\n",
              "  <div id=\"df-6dd7885e-057e-4ef2-9671-72443b753e4e\" class=\"colab-df-container\">\n",
              "    <div>\n",
              "<style scoped>\n",
              "    .dataframe tbody tr th:only-of-type {\n",
              "        vertical-align: middle;\n",
              "    }\n",
              "\n",
              "    .dataframe tbody tr th {\n",
              "        vertical-align: top;\n",
              "    }\n",
              "\n",
              "    .dataframe thead th {\n",
              "        text-align: right;\n",
              "    }\n",
              "</style>\n",
              "<table border=\"1\" class=\"dataframe\">\n",
              "  <thead>\n",
              "    <tr style=\"text-align: right;\">\n",
              "      <th></th>\n",
              "      <th>PRECISION</th>\n",
              "      <th>PRECISION_RECALL_MIN_DEN</th>\n",
              "      <th>RECALL</th>\n",
              "      <th>MAP</th>\n",
              "      <th>MAP_MIN_DEN</th>\n",
              "      <th>MRR</th>\n",
              "      <th>NDCG</th>\n",
              "      <th>F1</th>\n",
              "      <th>HIT_RATE</th>\n",
              "      <th>ARHR_ALL_HITS</th>\n",
              "      <th>...</th>\n",
              "      <th>COVERAGE_USER</th>\n",
              "      <th>COVERAGE_USER_HIT</th>\n",
              "      <th>USERS_IN_GT</th>\n",
              "      <th>DIVERSITY_GINI</th>\n",
              "      <th>SHANNON_ENTROPY</th>\n",
              "      <th>RATIO_DIVERSITY_HERFINDAHL</th>\n",
              "      <th>RATIO_DIVERSITY_GINI</th>\n",
              "      <th>RATIO_SHANNON_ENTROPY</th>\n",
              "      <th>RATIO_AVERAGE_POPULARITY</th>\n",
              "      <th>RATIO_NOVELTY</th>\n",
              "    </tr>\n",
              "    <tr>\n",
              "      <th>cutoff</th>\n",
              "      <th></th>\n",
              "      <th></th>\n",
              "      <th></th>\n",
              "      <th></th>\n",
              "      <th></th>\n",
              "      <th></th>\n",
              "      <th></th>\n",
              "      <th></th>\n",
              "      <th></th>\n",
              "      <th></th>\n",
              "      <th></th>\n",
              "      <th></th>\n",
              "      <th></th>\n",
              "      <th></th>\n",
              "      <th></th>\n",
              "      <th></th>\n",
              "      <th></th>\n",
              "      <th></th>\n",
              "      <th></th>\n",
              "      <th></th>\n",
              "      <th></th>\n",
              "    </tr>\n",
              "  </thead>\n",
              "  <tbody>\n",
              "    <tr>\n",
              "      <th>10</th>\n",
              "      <td>0.093143</td>\n",
              "      <td>0.162036</td>\n",
              "      <td>0.136137</td>\n",
              "      <td>0.048089</td>\n",
              "      <td>0.083478</td>\n",
              "      <td>0.267838</td>\n",
              "      <td>0.14892</td>\n",
              "      <td>0.110609</td>\n",
              "      <td>0.511158</td>\n",
              "      <td>0.354076</td>\n",
              "      <td>...</td>\n",
              "      <td>0.82972</td>\n",
              "      <td>0.424118</td>\n",
              "      <td>0.82972</td>\n",
              "      <td>0.086468</td>\n",
              "      <td>10.742446</td>\n",
              "      <td>0.998595</td>\n",
              "      <td>0.248248</td>\n",
              "      <td>0.827582</td>\n",
              "      <td>1.378839</td>\n",
              "      <td>0.299739</td>\n",
              "    </tr>\n",
              "  </tbody>\n",
              "</table>\n",
              "<p>1 rows × 27 columns</p>\n",
              "</div>\n",
              "    <div class=\"colab-df-buttons\">\n",
              "\n",
              "  <div class=\"colab-df-container\">\n",
              "    <button class=\"colab-df-convert\" onclick=\"convertToInteractive('df-6dd7885e-057e-4ef2-9671-72443b753e4e')\"\n",
              "            title=\"Convert this dataframe to an interactive table.\"\n",
              "            style=\"display:none;\">\n",
              "\n",
              "  <svg xmlns=\"http://www.w3.org/2000/svg\" height=\"24px\" viewBox=\"0 -960 960 960\">\n",
              "    <path d=\"M120-120v-720h720v720H120Zm60-500h600v-160H180v160Zm220 220h160v-160H400v160Zm0 220h160v-160H400v160ZM180-400h160v-160H180v160Zm440 0h160v-160H620v160ZM180-180h160v-160H180v160Zm440 0h160v-160H620v160Z\"/>\n",
              "  </svg>\n",
              "    </button>\n",
              "\n",
              "  <style>\n",
              "    .colab-df-container {\n",
              "      display:flex;\n",
              "      gap: 12px;\n",
              "    }\n",
              "\n",
              "    .colab-df-convert {\n",
              "      background-color: #E8F0FE;\n",
              "      border: none;\n",
              "      border-radius: 50%;\n",
              "      cursor: pointer;\n",
              "      display: none;\n",
              "      fill: #1967D2;\n",
              "      height: 32px;\n",
              "      padding: 0 0 0 0;\n",
              "      width: 32px;\n",
              "    }\n",
              "\n",
              "    .colab-df-convert:hover {\n",
              "      background-color: #E2EBFA;\n",
              "      box-shadow: 0px 1px 2px rgba(60, 64, 67, 0.3), 0px 1px 3px 1px rgba(60, 64, 67, 0.15);\n",
              "      fill: #174EA6;\n",
              "    }\n",
              "\n",
              "    .colab-df-buttons div {\n",
              "      margin-bottom: 4px;\n",
              "    }\n",
              "\n",
              "    [theme=dark] .colab-df-convert {\n",
              "      background-color: #3B4455;\n",
              "      fill: #D2E3FC;\n",
              "    }\n",
              "\n",
              "    [theme=dark] .colab-df-convert:hover {\n",
              "      background-color: #434B5C;\n",
              "      box-shadow: 0px 1px 3px 1px rgba(0, 0, 0, 0.15);\n",
              "      filter: drop-shadow(0px 1px 2px rgba(0, 0, 0, 0.3));\n",
              "      fill: #FFFFFF;\n",
              "    }\n",
              "  </style>\n",
              "\n",
              "    <script>\n",
              "      const buttonEl =\n",
              "        document.querySelector('#df-6dd7885e-057e-4ef2-9671-72443b753e4e button.colab-df-convert');\n",
              "      buttonEl.style.display =\n",
              "        google.colab.kernel.accessAllowed ? 'block' : 'none';\n",
              "\n",
              "      async function convertToInteractive(key) {\n",
              "        const element = document.querySelector('#df-6dd7885e-057e-4ef2-9671-72443b753e4e');\n",
              "        const dataTable =\n",
              "          await google.colab.kernel.invokeFunction('convertToInteractive',\n",
              "                                                    [key], {});\n",
              "        if (!dataTable) return;\n",
              "\n",
              "        const docLinkHtml = 'Like what you see? Visit the ' +\n",
              "          '<a target=\"_blank\" href=https://colab.research.google.com/notebooks/data_table.ipynb>data table notebook</a>'\n",
              "          + ' to learn more about interactive tables.';\n",
              "        element.innerHTML = '';\n",
              "        dataTable['output_type'] = 'display_data';\n",
              "        await google.colab.output.renderOutput(dataTable, element);\n",
              "        const docLink = document.createElement('div');\n",
              "        docLink.innerHTML = docLinkHtml;\n",
              "        element.appendChild(docLink);\n",
              "      }\n",
              "    </script>\n",
              "  </div>\n",
              "\n",
              "    </div>\n",
              "  </div>\n"
            ]
          },
          "metadata": {},
          "execution_count": 318
        }
      ]
    },
    {
      "cell_type": "markdown",
      "source": [
        "## P3alpha"
      ],
      "metadata": {
        "id": "5xaZKWgqDAdV"
      }
    },
    {
      "cell_type": "code",
      "source": [
        "from Recommenders.GraphBased.RP3betaRecommender import RP3betaRecommender"
      ],
      "metadata": {
        "id": "i1BPzstLDDl_"
      },
      "execution_count": 299,
      "outputs": []
    },
    {
      "cell_type": "code",
      "source": [
        "p3alpha = P3alphaRecommender(urm_train + urm_validation)\n",
        "bests = {'topK': 57, 'alpha': 0.33099429773847305, 'implicit':True, 'normalize_similarity': True}\n",
        "\n",
        "p3alpha.fit(**bests)"
      ],
      "metadata": {
        "id": "V8Sp1CexDFlP",
        "outputId": "f011d234-90d4-4309-8204-0c52ec480944",
        "colab": {
          "base_uri": "https://localhost:8080/"
        }
      },
      "execution_count": 300,
      "outputs": [
        {
          "output_type": "stream",
          "name": "stdout",
          "text": [
            "P3alphaRecommender: URM Detected 230 ( 1.8%) users with no interactions.\n",
            "P3alphaRecommender: URM Detected 93 ( 0.4%) items with no interactions.\n",
            "P3alphaRecommender: Similarity column 22222 (100.0%), 4967.54 column/sec. Elapsed time 4.47 sec\n"
          ]
        }
      ]
    },
    {
      "cell_type": "code",
      "source": [
        "result_df, _ = evaluator_test.evaluateRecommender(p3alpha)\n",
        "result_df"
      ],
      "metadata": {
        "id": "bDxM8NUQHO4g",
        "outputId": "4737625a-f1f8-463d-c2d6-be5307b22f18",
        "colab": {
          "base_uri": "https://localhost:8080/",
          "height": 179
        }
      },
      "execution_count": 317,
      "outputs": [
        {
          "output_type": "stream",
          "name": "stdout",
          "text": [
            "EvaluatorHoldout: Processed 10486 (100.0%) in 6.44 sec. Users per second: 1627\n"
          ]
        },
        {
          "output_type": "execute_result",
          "data": {
            "text/plain": [
              "       PRECISION PRECISION_RECALL_MIN_DEN    RECALL       MAP MAP_MIN_DEN  \\\n",
              "cutoff                                                                      \n",
              "10      0.091284                 0.156247  0.130494  0.047534    0.082275   \n",
              "\n",
              "             MRR      NDCG        F1  HIT_RATE ARHR_ALL_HITS  ...  \\\n",
              "cutoff                                                        ...   \n",
              "10      0.266254  0.145999  0.107423  0.500572      0.350714  ...   \n",
              "\n",
              "       COVERAGE_USER COVERAGE_USER_HIT USERS_IN_GT DIVERSITY_GINI  \\\n",
              "cutoff                                                              \n",
              "10           0.82972          0.415335     0.82972       0.067953   \n",
              "\n",
              "       SHANNON_ENTROPY RATIO_DIVERSITY_HERFINDAHL RATIO_DIVERSITY_GINI  \\\n",
              "cutoff                                                                   \n",
              "10           10.465962                   0.998379             0.195093   \n",
              "\n",
              "       RATIO_SHANNON_ENTROPY RATIO_AVERAGE_POPULARITY RATIO_NOVELTY  \n",
              "cutoff                                                               \n",
              "10                  0.806282                 1.334062      0.296473  \n",
              "\n",
              "[1 rows x 27 columns]"
            ],
            "text/html": [
              "\n",
              "  <div id=\"df-25ea5693-c53e-4293-9d0b-647c62561650\" class=\"colab-df-container\">\n",
              "    <div>\n",
              "<style scoped>\n",
              "    .dataframe tbody tr th:only-of-type {\n",
              "        vertical-align: middle;\n",
              "    }\n",
              "\n",
              "    .dataframe tbody tr th {\n",
              "        vertical-align: top;\n",
              "    }\n",
              "\n",
              "    .dataframe thead th {\n",
              "        text-align: right;\n",
              "    }\n",
              "</style>\n",
              "<table border=\"1\" class=\"dataframe\">\n",
              "  <thead>\n",
              "    <tr style=\"text-align: right;\">\n",
              "      <th></th>\n",
              "      <th>PRECISION</th>\n",
              "      <th>PRECISION_RECALL_MIN_DEN</th>\n",
              "      <th>RECALL</th>\n",
              "      <th>MAP</th>\n",
              "      <th>MAP_MIN_DEN</th>\n",
              "      <th>MRR</th>\n",
              "      <th>NDCG</th>\n",
              "      <th>F1</th>\n",
              "      <th>HIT_RATE</th>\n",
              "      <th>ARHR_ALL_HITS</th>\n",
              "      <th>...</th>\n",
              "      <th>COVERAGE_USER</th>\n",
              "      <th>COVERAGE_USER_HIT</th>\n",
              "      <th>USERS_IN_GT</th>\n",
              "      <th>DIVERSITY_GINI</th>\n",
              "      <th>SHANNON_ENTROPY</th>\n",
              "      <th>RATIO_DIVERSITY_HERFINDAHL</th>\n",
              "      <th>RATIO_DIVERSITY_GINI</th>\n",
              "      <th>RATIO_SHANNON_ENTROPY</th>\n",
              "      <th>RATIO_AVERAGE_POPULARITY</th>\n",
              "      <th>RATIO_NOVELTY</th>\n",
              "    </tr>\n",
              "    <tr>\n",
              "      <th>cutoff</th>\n",
              "      <th></th>\n",
              "      <th></th>\n",
              "      <th></th>\n",
              "      <th></th>\n",
              "      <th></th>\n",
              "      <th></th>\n",
              "      <th></th>\n",
              "      <th></th>\n",
              "      <th></th>\n",
              "      <th></th>\n",
              "      <th></th>\n",
              "      <th></th>\n",
              "      <th></th>\n",
              "      <th></th>\n",
              "      <th></th>\n",
              "      <th></th>\n",
              "      <th></th>\n",
              "      <th></th>\n",
              "      <th></th>\n",
              "      <th></th>\n",
              "      <th></th>\n",
              "    </tr>\n",
              "  </thead>\n",
              "  <tbody>\n",
              "    <tr>\n",
              "      <th>10</th>\n",
              "      <td>0.091284</td>\n",
              "      <td>0.156247</td>\n",
              "      <td>0.130494</td>\n",
              "      <td>0.047534</td>\n",
              "      <td>0.082275</td>\n",
              "      <td>0.266254</td>\n",
              "      <td>0.145999</td>\n",
              "      <td>0.107423</td>\n",
              "      <td>0.500572</td>\n",
              "      <td>0.350714</td>\n",
              "      <td>...</td>\n",
              "      <td>0.82972</td>\n",
              "      <td>0.415335</td>\n",
              "      <td>0.82972</td>\n",
              "      <td>0.067953</td>\n",
              "      <td>10.465962</td>\n",
              "      <td>0.998379</td>\n",
              "      <td>0.195093</td>\n",
              "      <td>0.806282</td>\n",
              "      <td>1.334062</td>\n",
              "      <td>0.296473</td>\n",
              "    </tr>\n",
              "  </tbody>\n",
              "</table>\n",
              "<p>1 rows × 27 columns</p>\n",
              "</div>\n",
              "    <div class=\"colab-df-buttons\">\n",
              "\n",
              "  <div class=\"colab-df-container\">\n",
              "    <button class=\"colab-df-convert\" onclick=\"convertToInteractive('df-25ea5693-c53e-4293-9d0b-647c62561650')\"\n",
              "            title=\"Convert this dataframe to an interactive table.\"\n",
              "            style=\"display:none;\">\n",
              "\n",
              "  <svg xmlns=\"http://www.w3.org/2000/svg\" height=\"24px\" viewBox=\"0 -960 960 960\">\n",
              "    <path d=\"M120-120v-720h720v720H120Zm60-500h600v-160H180v160Zm220 220h160v-160H400v160Zm0 220h160v-160H400v160ZM180-400h160v-160H180v160Zm440 0h160v-160H620v160ZM180-180h160v-160H180v160Zm440 0h160v-160H620v160Z\"/>\n",
              "  </svg>\n",
              "    </button>\n",
              "\n",
              "  <style>\n",
              "    .colab-df-container {\n",
              "      display:flex;\n",
              "      gap: 12px;\n",
              "    }\n",
              "\n",
              "    .colab-df-convert {\n",
              "      background-color: #E8F0FE;\n",
              "      border: none;\n",
              "      border-radius: 50%;\n",
              "      cursor: pointer;\n",
              "      display: none;\n",
              "      fill: #1967D2;\n",
              "      height: 32px;\n",
              "      padding: 0 0 0 0;\n",
              "      width: 32px;\n",
              "    }\n",
              "\n",
              "    .colab-df-convert:hover {\n",
              "      background-color: #E2EBFA;\n",
              "      box-shadow: 0px 1px 2px rgba(60, 64, 67, 0.3), 0px 1px 3px 1px rgba(60, 64, 67, 0.15);\n",
              "      fill: #174EA6;\n",
              "    }\n",
              "\n",
              "    .colab-df-buttons div {\n",
              "      margin-bottom: 4px;\n",
              "    }\n",
              "\n",
              "    [theme=dark] .colab-df-convert {\n",
              "      background-color: #3B4455;\n",
              "      fill: #D2E3FC;\n",
              "    }\n",
              "\n",
              "    [theme=dark] .colab-df-convert:hover {\n",
              "      background-color: #434B5C;\n",
              "      box-shadow: 0px 1px 3px 1px rgba(0, 0, 0, 0.15);\n",
              "      filter: drop-shadow(0px 1px 2px rgba(0, 0, 0, 0.3));\n",
              "      fill: #FFFFFF;\n",
              "    }\n",
              "  </style>\n",
              "\n",
              "    <script>\n",
              "      const buttonEl =\n",
              "        document.querySelector('#df-25ea5693-c53e-4293-9d0b-647c62561650 button.colab-df-convert');\n",
              "      buttonEl.style.display =\n",
              "        google.colab.kernel.accessAllowed ? 'block' : 'none';\n",
              "\n",
              "      async function convertToInteractive(key) {\n",
              "        const element = document.querySelector('#df-25ea5693-c53e-4293-9d0b-647c62561650');\n",
              "        const dataTable =\n",
              "          await google.colab.kernel.invokeFunction('convertToInteractive',\n",
              "                                                    [key], {});\n",
              "        if (!dataTable) return;\n",
              "\n",
              "        const docLinkHtml = 'Like what you see? Visit the ' +\n",
              "          '<a target=\"_blank\" href=https://colab.research.google.com/notebooks/data_table.ipynb>data table notebook</a>'\n",
              "          + ' to learn more about interactive tables.';\n",
              "        element.innerHTML = '';\n",
              "        dataTable['output_type'] = 'display_data';\n",
              "        await google.colab.output.renderOutput(dataTable, element);\n",
              "        const docLink = document.createElement('div');\n",
              "        docLink.innerHTML = docLinkHtml;\n",
              "        element.appendChild(docLink);\n",
              "      }\n",
              "    </script>\n",
              "  </div>\n",
              "\n",
              "    </div>\n",
              "  </div>\n"
            ]
          },
          "metadata": {},
          "execution_count": 317
        }
      ]
    },
    {
      "cell_type": "markdown",
      "source": [
        "## Item KNN"
      ],
      "metadata": {
        "id": "8bPu00AuCUQ2"
      }
    },
    {
      "cell_type": "code",
      "source": [
        "from Recommenders.KNN.ItemKNNCFRecommender import ItemKNNCFRecommender"
      ],
      "metadata": {
        "id": "NH64CWbHOdis"
      },
      "execution_count": 295,
      "outputs": []
    },
    {
      "cell_type": "code",
      "source": [
        "itemknn = ItemKNNCFRecommender(urm_train + urm_validation)\n",
        "bests = {'similarity': 'tversky',\n",
        " 'topK': 18,\n",
        " 'shrink': 10,\n",
        " 'tversky_alpha': 0.19184100253588082,\n",
        " 'tversky_beta': 1.6515107809400285}\n",
        "itemknn.fit(**bests)"
      ],
      "metadata": {
        "id": "ZC_ebyrAOfyC",
        "colab": {
          "base_uri": "https://localhost:8080/"
        },
        "outputId": "9d48f0f3-c19d-4675-901c-4ad5a0d752c9"
      },
      "execution_count": 297,
      "outputs": [
        {
          "output_type": "stream",
          "name": "stdout",
          "text": [
            "ItemKNNCFRecommender: URM Detected 230 ( 1.8%) users with no interactions.\n",
            "ItemKNNCFRecommender: URM Detected 93 ( 0.4%) items with no interactions.\n",
            "Similarity column 22222 (100.0%), 6550.03 column/sec. Elapsed time 3.39 sec\n"
          ]
        }
      ]
    },
    {
      "cell_type": "code",
      "source": [
        "result_df, _ = evaluator_test.evaluateRecommender(itemknn)\n",
        "result_df"
      ],
      "metadata": {
        "id": "fm2Aa-PSGdg6",
        "outputId": "b6fe11d9-ffce-4a36-c7c6-e0fbe0a9b252",
        "colab": {
          "base_uri": "https://localhost:8080/",
          "height": 179
        }
      },
      "execution_count": 316,
      "outputs": [
        {
          "output_type": "stream",
          "name": "stdout",
          "text": [
            "EvaluatorHoldout: Processed 10486 (100.0%) in 5.43 sec. Users per second: 1933\n"
          ]
        },
        {
          "output_type": "execute_result",
          "data": {
            "text/plain": [
              "       PRECISION PRECISION_RECALL_MIN_DEN    RECALL       MAP MAP_MIN_DEN  \\\n",
              "cutoff                                                                      \n",
              "10      0.092924                 0.160596  0.134392  0.047748    0.081981   \n",
              "\n",
              "             MRR      NDCG        F1  HIT_RATE ARHR_ALL_HITS  ...  \\\n",
              "cutoff                                                        ...   \n",
              "10      0.265426  0.147168  0.109876  0.506962      0.351281  ...   \n",
              "\n",
              "       COVERAGE_USER COVERAGE_USER_HIT USERS_IN_GT DIVERSITY_GINI  \\\n",
              "cutoff                                                              \n",
              "10           0.82972          0.420636     0.82972       0.082021   \n",
              "\n",
              "       SHANNON_ENTROPY RATIO_DIVERSITY_HERFINDAHL RATIO_DIVERSITY_GINI  \\\n",
              "cutoff                                                                   \n",
              "10           10.474686                    0.99789             0.235481   \n",
              "\n",
              "       RATIO_SHANNON_ENTROPY RATIO_AVERAGE_POPULARITY RATIO_NOVELTY  \n",
              "cutoff                                                               \n",
              "10                  0.806954                 1.632192      0.296453  \n",
              "\n",
              "[1 rows x 27 columns]"
            ],
            "text/html": [
              "\n",
              "  <div id=\"df-f06081db-8611-44e2-8797-7b98c9a93fca\" class=\"colab-df-container\">\n",
              "    <div>\n",
              "<style scoped>\n",
              "    .dataframe tbody tr th:only-of-type {\n",
              "        vertical-align: middle;\n",
              "    }\n",
              "\n",
              "    .dataframe tbody tr th {\n",
              "        vertical-align: top;\n",
              "    }\n",
              "\n",
              "    .dataframe thead th {\n",
              "        text-align: right;\n",
              "    }\n",
              "</style>\n",
              "<table border=\"1\" class=\"dataframe\">\n",
              "  <thead>\n",
              "    <tr style=\"text-align: right;\">\n",
              "      <th></th>\n",
              "      <th>PRECISION</th>\n",
              "      <th>PRECISION_RECALL_MIN_DEN</th>\n",
              "      <th>RECALL</th>\n",
              "      <th>MAP</th>\n",
              "      <th>MAP_MIN_DEN</th>\n",
              "      <th>MRR</th>\n",
              "      <th>NDCG</th>\n",
              "      <th>F1</th>\n",
              "      <th>HIT_RATE</th>\n",
              "      <th>ARHR_ALL_HITS</th>\n",
              "      <th>...</th>\n",
              "      <th>COVERAGE_USER</th>\n",
              "      <th>COVERAGE_USER_HIT</th>\n",
              "      <th>USERS_IN_GT</th>\n",
              "      <th>DIVERSITY_GINI</th>\n",
              "      <th>SHANNON_ENTROPY</th>\n",
              "      <th>RATIO_DIVERSITY_HERFINDAHL</th>\n",
              "      <th>RATIO_DIVERSITY_GINI</th>\n",
              "      <th>RATIO_SHANNON_ENTROPY</th>\n",
              "      <th>RATIO_AVERAGE_POPULARITY</th>\n",
              "      <th>RATIO_NOVELTY</th>\n",
              "    </tr>\n",
              "    <tr>\n",
              "      <th>cutoff</th>\n",
              "      <th></th>\n",
              "      <th></th>\n",
              "      <th></th>\n",
              "      <th></th>\n",
              "      <th></th>\n",
              "      <th></th>\n",
              "      <th></th>\n",
              "      <th></th>\n",
              "      <th></th>\n",
              "      <th></th>\n",
              "      <th></th>\n",
              "      <th></th>\n",
              "      <th></th>\n",
              "      <th></th>\n",
              "      <th></th>\n",
              "      <th></th>\n",
              "      <th></th>\n",
              "      <th></th>\n",
              "      <th></th>\n",
              "      <th></th>\n",
              "      <th></th>\n",
              "    </tr>\n",
              "  </thead>\n",
              "  <tbody>\n",
              "    <tr>\n",
              "      <th>10</th>\n",
              "      <td>0.092924</td>\n",
              "      <td>0.160596</td>\n",
              "      <td>0.134392</td>\n",
              "      <td>0.047748</td>\n",
              "      <td>0.081981</td>\n",
              "      <td>0.265426</td>\n",
              "      <td>0.147168</td>\n",
              "      <td>0.109876</td>\n",
              "      <td>0.506962</td>\n",
              "      <td>0.351281</td>\n",
              "      <td>...</td>\n",
              "      <td>0.82972</td>\n",
              "      <td>0.420636</td>\n",
              "      <td>0.82972</td>\n",
              "      <td>0.082021</td>\n",
              "      <td>10.474686</td>\n",
              "      <td>0.99789</td>\n",
              "      <td>0.235481</td>\n",
              "      <td>0.806954</td>\n",
              "      <td>1.632192</td>\n",
              "      <td>0.296453</td>\n",
              "    </tr>\n",
              "  </tbody>\n",
              "</table>\n",
              "<p>1 rows × 27 columns</p>\n",
              "</div>\n",
              "    <div class=\"colab-df-buttons\">\n",
              "\n",
              "  <div class=\"colab-df-container\">\n",
              "    <button class=\"colab-df-convert\" onclick=\"convertToInteractive('df-f06081db-8611-44e2-8797-7b98c9a93fca')\"\n",
              "            title=\"Convert this dataframe to an interactive table.\"\n",
              "            style=\"display:none;\">\n",
              "\n",
              "  <svg xmlns=\"http://www.w3.org/2000/svg\" height=\"24px\" viewBox=\"0 -960 960 960\">\n",
              "    <path d=\"M120-120v-720h720v720H120Zm60-500h600v-160H180v160Zm220 220h160v-160H400v160Zm0 220h160v-160H400v160ZM180-400h160v-160H180v160Zm440 0h160v-160H620v160ZM180-180h160v-160H180v160Zm440 0h160v-160H620v160Z\"/>\n",
              "  </svg>\n",
              "    </button>\n",
              "\n",
              "  <style>\n",
              "    .colab-df-container {\n",
              "      display:flex;\n",
              "      gap: 12px;\n",
              "    }\n",
              "\n",
              "    .colab-df-convert {\n",
              "      background-color: #E8F0FE;\n",
              "      border: none;\n",
              "      border-radius: 50%;\n",
              "      cursor: pointer;\n",
              "      display: none;\n",
              "      fill: #1967D2;\n",
              "      height: 32px;\n",
              "      padding: 0 0 0 0;\n",
              "      width: 32px;\n",
              "    }\n",
              "\n",
              "    .colab-df-convert:hover {\n",
              "      background-color: #E2EBFA;\n",
              "      box-shadow: 0px 1px 2px rgba(60, 64, 67, 0.3), 0px 1px 3px 1px rgba(60, 64, 67, 0.15);\n",
              "      fill: #174EA6;\n",
              "    }\n",
              "\n",
              "    .colab-df-buttons div {\n",
              "      margin-bottom: 4px;\n",
              "    }\n",
              "\n",
              "    [theme=dark] .colab-df-convert {\n",
              "      background-color: #3B4455;\n",
              "      fill: #D2E3FC;\n",
              "    }\n",
              "\n",
              "    [theme=dark] .colab-df-convert:hover {\n",
              "      background-color: #434B5C;\n",
              "      box-shadow: 0px 1px 3px 1px rgba(0, 0, 0, 0.15);\n",
              "      filter: drop-shadow(0px 1px 2px rgba(0, 0, 0, 0.3));\n",
              "      fill: #FFFFFF;\n",
              "    }\n",
              "  </style>\n",
              "\n",
              "    <script>\n",
              "      const buttonEl =\n",
              "        document.querySelector('#df-f06081db-8611-44e2-8797-7b98c9a93fca button.colab-df-convert');\n",
              "      buttonEl.style.display =\n",
              "        google.colab.kernel.accessAllowed ? 'block' : 'none';\n",
              "\n",
              "      async function convertToInteractive(key) {\n",
              "        const element = document.querySelector('#df-f06081db-8611-44e2-8797-7b98c9a93fca');\n",
              "        const dataTable =\n",
              "          await google.colab.kernel.invokeFunction('convertToInteractive',\n",
              "                                                    [key], {});\n",
              "        if (!dataTable) return;\n",
              "\n",
              "        const docLinkHtml = 'Like what you see? Visit the ' +\n",
              "          '<a target=\"_blank\" href=https://colab.research.google.com/notebooks/data_table.ipynb>data table notebook</a>'\n",
              "          + ' to learn more about interactive tables.';\n",
              "        element.innerHTML = '';\n",
              "        dataTable['output_type'] = 'display_data';\n",
              "        await google.colab.output.renderOutput(dataTable, element);\n",
              "        const docLink = document.createElement('div');\n",
              "        docLink.innerHTML = docLinkHtml;\n",
              "        element.appendChild(docLink);\n",
              "      }\n",
              "    </script>\n",
              "  </div>\n",
              "\n",
              "    </div>\n",
              "  </div>\n"
            ]
          },
          "metadata": {},
          "execution_count": 316
        }
      ]
    },
    {
      "cell_type": "markdown",
      "source": [
        "### Hyperparam Tuning"
      ],
      "metadata": {
        "id": "NXBWLoPHD0yP"
      }
    },
    {
      "cell_type": "code",
      "source": [
        "def objective_function_ItemKNN_similarities(optuna_trial):\n",
        "\n",
        "    recommender_instance = ItemKNNCFRecommender(urm_train)\n",
        "    similarity = optuna_trial.suggest_categorical(\"similarity\", ['cosine', 'dice', 'jaccard', 'asymmetric', 'tversky', 'euclidean'])\n",
        "\n",
        "    full_hyperp = {\"similarity\": similarity,\n",
        "                   \"topK\": optuna_trial.suggest_int(\"topK\", 5, 1000),\n",
        "                   \"shrink\": optuna_trial.suggest_int(\"shrink\", 0, 1000),\n",
        "                  }\n",
        "\n",
        "    if similarity == \"asymmetric\":\n",
        "        full_hyperp[\"asymmetric_alpha\"] = optuna_trial.suggest_float(\"asymmetric_alpha\", 0, 2, log=False)\n",
        "        full_hyperp[\"normalize\"] = True\n",
        "\n",
        "    elif similarity == \"tversky\":\n",
        "        full_hyperp[\"tversky_alpha\"] = optuna_trial.suggest_float(\"tversky_alpha\", 0, 2, log=False)\n",
        "        full_hyperp[\"tversky_beta\"] = optuna_trial.suggest_float(\"tversky_beta\", 0, 2, log=False)\n",
        "        full_hyperp[\"normalize\"] = True\n",
        "\n",
        "    elif similarity == \"euclidean\":\n",
        "        full_hyperp[\"normalize_avg_row\"] = optuna_trial.suggest_categorical(\"normalize_avg_row\", [True, False])\n",
        "        full_hyperp[\"similarity_from_distance_mode\"] = optuna_trial.suggest_categorical(\"similarity_from_distance_mode\", [\"lin\", \"log\", \"exp\"])\n",
        "        full_hyperp[\"normalize\"] = optuna_trial.suggest_categorical(\"normalize\", [True, False])\n",
        "\n",
        "\n",
        "    recommender_instance.fit(**full_hyperp)\n",
        "\n",
        "    result_df, _ = evaluator_validation.evaluateRecommender(recommender_instance)\n",
        "\n",
        "    return result_df.loc[10][\"MAP\"]"
      ],
      "metadata": {
        "id": "lRd2OuZfD4vX"
      },
      "execution_count": null,
      "outputs": []
    },
    {
      "cell_type": "code",
      "source": [
        "item_optuna_study = optuna.create_study(direction=\"maximize\")\n",
        "\n",
        "item_save_results = SaveResults()\n",
        "\n",
        "item_optuna_study.optimize(objective_function_ItemKNN_similarities,\n",
        "                      callbacks=[item_save_results],\n",
        "                      n_trials = 50)"
      ],
      "metadata": {
        "id": "9GMg8Cg7EN0B"
      },
      "execution_count": null,
      "outputs": []
    },
    {
      "cell_type": "markdown",
      "source": [
        "## Top popular for the users without info"
      ],
      "metadata": {
        "id": "GqvLoWjYOUXJ"
      }
    },
    {
      "cell_type": "code",
      "execution_count": 301,
      "metadata": {
        "id": "pXwcRW6e5tt4"
      },
      "outputs": [],
      "source": [
        "class TopPopRecommender(object):\n",
        "\n",
        "    def fit(self, URM_train):\n",
        "\n",
        "        item_popularity = np.ediff1d(URM_train.tocsc().indptr)\n",
        "\n",
        "        # We are not interested in sorting the popularity value,\n",
        "        # but to order the items according to it\n",
        "        self.popular_items = np.argsort(item_popularity)\n",
        "        self.popular_items = np.flip(self.popular_items, axis = 0)\n",
        "\n",
        "\n",
        "    def recommend(self, user_id, at=5):\n",
        "\n",
        "        recommended_items = self.popular_items[0:at]\n",
        "\n",
        "        return recommended_items"
      ]
    },
    {
      "cell_type": "markdown",
      "source": [
        "## Hybrid Models"
      ],
      "metadata": {
        "id": "IQ42CAa1EZMW"
      }
    },
    {
      "cell_type": "code",
      "source": [
        "from Recommenders.BaseRecommender import BaseRecommender\n",
        "\n",
        "class ScoresHybridRecommender(BaseRecommender):\n",
        "    \"\"\" ScoresHybridRecommender\n",
        "    Hybrid of two prediction scores R = R1*alpha + R2*(1-alpha)\n",
        "\n",
        "    \"\"\"\n",
        "\n",
        "    RECOMMENDER_NAME = \"ScoresHybridRecommender\"\n",
        "\n",
        "    def __init__(self, URM_train, recommender_1, recommender_2, recommender_3):\n",
        "        super(ScoresHybridRecommender, self).__init__(URM_train)\n",
        "\n",
        "        self.URM_train = sp.csr_matrix(URM_train)\n",
        "        self.recommender_1 = recommender_1\n",
        "        self.recommender_2 = recommender_2\n",
        "        self.recommender_3 = recommender_3\n",
        "\n",
        "    def fit(self, alpha = 0.5):\n",
        "        self.alpha = alpha\n",
        "\n",
        "\n",
        "    def _compute_item_score(self, user_id_array, items_to_compute):\n",
        "\n",
        "        # In a simple extension this could be a loop over a list of pretrained recommender objects\n",
        "        item_weights_1 = self.recommender_1._compute_item_score(user_id_array)\n",
        "        item_weights_2 = self.recommender_2._compute_item_score(user_id_array)\n",
        "        item_weights_3 = self.recommender_3._compute_item_score(user_id_array)\n",
        "\n",
        "        item_weights = item_weights_1*self.alpha + item_weights_2*((1-self.alpha)/2) + item_weights_3*((1-self.alpha)/2)\n",
        "\n",
        "        return item_weights"
      ],
      "metadata": {
        "id": "3CydGxGzbqEn"
      },
      "execution_count": 323,
      "outputs": []
    },
    {
      "cell_type": "code",
      "source": [
        "def objective_function_hybrid(optuna_trial):\n",
        "  hybridrecommender = ScoresHybridRecommender(urm_train + urm_validation, itemknn, rp3, p3alpha)\n",
        "  hybridrecommender.fit(alpha = optuna_trial.suggest_float(\"alpha\", 0.01, 1.0, log=True))\n",
        "  result_df, _ = evaluator_test.evaluateRecommender(hybridrecommender)\n",
        "\n",
        "  return result_df.loc[10][\"MAP\"]"
      ],
      "metadata": {
        "id": "UvquCs_ebrWv"
      },
      "execution_count": 328,
      "outputs": []
    },
    {
      "cell_type": "code",
      "source": [
        "hybrid_optuna_study = optuna.create_study(direction=\"maximize\")\n",
        "\n",
        "hybrid_save_results = SaveResults()\n",
        "\n",
        "hybrid_optuna_study.optimize(objective_function_hybrid,\n",
        "                      callbacks=[hybrid_save_results],\n",
        "                      n_trials = 50)"
      ],
      "metadata": {
        "id": "coj6xucPFYlg",
        "outputId": "a510221c-9b7c-46d6-ee99-3293df8ea39b",
        "colab": {
          "base_uri": "https://localhost:8080/"
        }
      },
      "execution_count": 329,
      "outputs": [
        {
          "output_type": "stream",
          "name": "stderr",
          "text": [
            "[I 2023-11-27 19:05:24,133] A new study created in memory with name: no-name-8775cb41-138c-42e9-a02f-d463e505e9f7\n"
          ]
        },
        {
          "output_type": "stream",
          "name": "stdout",
          "text": [
            "ScoresHybridRecommender: URM Detected 230 ( 1.8%) users with no interactions.\n",
            "ScoresHybridRecommender: URM Detected 93 ( 0.4%) items with no interactions.\n",
            "EvaluatorHoldout: Processed 10486 (100.0%) in 7.09 sec. Users per second: 1478\n"
          ]
        },
        {
          "output_type": "stream",
          "name": "stderr",
          "text": [
            "[I 2023-11-27 19:05:31,252] Trial 0 finished with value: 0.0492022318495717 and parameters: {'alpha': 0.24884700700991433}. Best is trial 0 with value: 0.0492022318495717.\n"
          ]
        },
        {
          "output_type": "stream",
          "name": "stdout",
          "text": [
            "ScoresHybridRecommender: URM Detected 230 ( 1.8%) users with no interactions.\n",
            "ScoresHybridRecommender: URM Detected 93 ( 0.4%) items with no interactions.\n",
            "EvaluatorHoldout: Processed 10486 (100.0%) in 5.93 sec. Users per second: 1768\n"
          ]
        },
        {
          "output_type": "stream",
          "name": "stderr",
          "text": [
            "[I 2023-11-27 19:05:37,208] Trial 1 finished with value: 0.04912007014643918 and parameters: {'alpha': 0.06027132518477795}. Best is trial 0 with value: 0.0492022318495717.\n"
          ]
        },
        {
          "output_type": "stream",
          "name": "stdout",
          "text": [
            "ScoresHybridRecommender: URM Detected 230 ( 1.8%) users with no interactions.\n",
            "ScoresHybridRecommender: URM Detected 93 ( 0.4%) items with no interactions.\n",
            "EvaluatorHoldout: Processed 10486 (100.0%) in 8.71 sec. Users per second: 1203\n"
          ]
        },
        {
          "output_type": "stream",
          "name": "stderr",
          "text": [
            "[I 2023-11-27 19:05:45,946] Trial 2 finished with value: 0.04947351570801937 and parameters: {'alpha': 0.1739089671925161}. Best is trial 2 with value: 0.04947351570801937.\n"
          ]
        },
        {
          "output_type": "stream",
          "name": "stdout",
          "text": [
            "ScoresHybridRecommender: URM Detected 230 ( 1.8%) users with no interactions.\n",
            "ScoresHybridRecommender: URM Detected 93 ( 0.4%) items with no interactions.\n",
            "EvaluatorHoldout: Processed 10486 (100.0%) in 8.97 sec. Users per second: 1169\n"
          ]
        },
        {
          "output_type": "stream",
          "name": "stderr",
          "text": [
            "[I 2023-11-27 19:05:54,941] Trial 3 finished with value: 0.049481950991344954 and parameters: {'alpha': 0.1794753255945852}. Best is trial 3 with value: 0.049481950991344954.\n"
          ]
        },
        {
          "output_type": "stream",
          "name": "stdout",
          "text": [
            "ScoresHybridRecommender: URM Detected 230 ( 1.8%) users with no interactions.\n",
            "ScoresHybridRecommender: URM Detected 93 ( 0.4%) items with no interactions.\n",
            "EvaluatorHoldout: Processed 10486 (100.0%) in 10.08 sec. Users per second: 1041\n"
          ]
        },
        {
          "output_type": "stream",
          "name": "stderr",
          "text": [
            "[I 2023-11-27 19:06:05,054] Trial 4 finished with value: 0.048837955520437425 and parameters: {'alpha': 0.024231502478498246}. Best is trial 3 with value: 0.049481950991344954.\n"
          ]
        },
        {
          "output_type": "stream",
          "name": "stdout",
          "text": [
            "ScoresHybridRecommender: URM Detected 230 ( 1.8%) users with no interactions.\n",
            "ScoresHybridRecommender: URM Detected 93 ( 0.4%) items with no interactions.\n",
            "EvaluatorHoldout: Processed 10486 (100.0%) in 7.73 sec. Users per second: 1357\n"
          ]
        },
        {
          "output_type": "stream",
          "name": "stderr",
          "text": [
            "[I 2023-11-27 19:06:12,833] Trial 5 finished with value: 0.04940702872159158 and parameters: {'alpha': 0.14511221756706624}. Best is trial 3 with value: 0.049481950991344954.\n"
          ]
        },
        {
          "output_type": "stream",
          "name": "stdout",
          "text": [
            "ScoresHybridRecommender: URM Detected 230 ( 1.8%) users with no interactions.\n",
            "ScoresHybridRecommender: URM Detected 93 ( 0.4%) items with no interactions.\n",
            "EvaluatorHoldout: Processed 10486 (100.0%) in 9.93 sec. Users per second: 1056\n"
          ]
        },
        {
          "output_type": "stream",
          "name": "stderr",
          "text": [
            "[I 2023-11-27 19:06:22,806] Trial 6 finished with value: 0.04873099128391947 and parameters: {'alpha': 0.018268660389954516}. Best is trial 3 with value: 0.049481950991344954.\n"
          ]
        },
        {
          "output_type": "stream",
          "name": "stdout",
          "text": [
            "ScoresHybridRecommender: URM Detected 230 ( 1.8%) users with no interactions.\n",
            "ScoresHybridRecommender: URM Detected 93 ( 0.4%) items with no interactions.\n",
            "EvaluatorHoldout: Processed 10486 (100.0%) in 7.49 sec. Users per second: 1400\n"
          ]
        },
        {
          "output_type": "stream",
          "name": "stderr",
          "text": [
            "[I 2023-11-27 19:06:30,326] Trial 7 finished with value: 0.048580931037301954 and parameters: {'alpha': 0.010236179824033272}. Best is trial 3 with value: 0.049481950991344954.\n"
          ]
        },
        {
          "output_type": "stream",
          "name": "stdout",
          "text": [
            "ScoresHybridRecommender: URM Detected 230 ( 1.8%) users with no interactions.\n",
            "ScoresHybridRecommender: URM Detected 93 ( 0.4%) items with no interactions.\n",
            "EvaluatorHoldout: Processed 10486 (100.0%) in 5.93 sec. Users per second: 1767\n"
          ]
        },
        {
          "output_type": "stream",
          "name": "stderr",
          "text": [
            "[I 2023-11-27 19:06:36,283] Trial 8 finished with value: 0.04940613940280225 and parameters: {'alpha': 0.1297587194789561}. Best is trial 3 with value: 0.049481950991344954.\n"
          ]
        },
        {
          "output_type": "stream",
          "name": "stdout",
          "text": [
            "ScoresHybridRecommender: URM Detected 230 ( 1.8%) users with no interactions.\n",
            "ScoresHybridRecommender: URM Detected 93 ( 0.4%) items with no interactions.\n",
            "EvaluatorHoldout: Processed 10486 (100.0%) in 7.06 sec. Users per second: 1485\n"
          ]
        },
        {
          "output_type": "stream",
          "name": "stderr",
          "text": [
            "[I 2023-11-27 19:06:43,369] Trial 9 finished with value: 0.04942101184042878 and parameters: {'alpha': 0.14967237440275125}. Best is trial 3 with value: 0.049481950991344954.\n"
          ]
        },
        {
          "output_type": "stream",
          "name": "stdout",
          "text": [
            "ScoresHybridRecommender: URM Detected 230 ( 1.8%) users with no interactions.\n",
            "ScoresHybridRecommender: URM Detected 93 ( 0.4%) items with no interactions.\n",
            "EvaluatorHoldout: Processed 10486 (100.0%) in 6.63 sec. Users per second: 1583\n"
          ]
        },
        {
          "output_type": "stream",
          "name": "stderr",
          "text": [
            "[I 2023-11-27 19:06:50,021] Trial 10 finished with value: 0.048129766370278104 and parameters: {'alpha': 0.7540515890468564}. Best is trial 3 with value: 0.049481950991344954.\n"
          ]
        },
        {
          "output_type": "stream",
          "name": "stdout",
          "text": [
            "ScoresHybridRecommender: URM Detected 230 ( 1.8%) users with no interactions.\n",
            "ScoresHybridRecommender: URM Detected 93 ( 0.4%) items with no interactions.\n",
            "EvaluatorHoldout: Processed 10486 (100.0%) in 8.72 sec. Users per second: 1202\n"
          ]
        },
        {
          "output_type": "stream",
          "name": "stderr",
          "text": [
            "[I 2023-11-27 19:06:58,773] Trial 11 finished with value: 0.049066343938555114 and parameters: {'alpha': 0.3294054693794077}. Best is trial 3 with value: 0.049481950991344954.\n"
          ]
        },
        {
          "output_type": "stream",
          "name": "stdout",
          "text": [
            "ScoresHybridRecommender: URM Detected 230 ( 1.8%) users with no interactions.\n",
            "ScoresHybridRecommender: URM Detected 93 ( 0.4%) items with no interactions.\n",
            "EvaluatorHoldout: Processed 10486 (100.0%) in 6.86 sec. Users per second: 1529\n"
          ]
        },
        {
          "output_type": "stream",
          "name": "stderr",
          "text": [
            "[I 2023-11-27 19:07:05,660] Trial 12 finished with value: 0.04917872355885008 and parameters: {'alpha': 0.06945679975992876}. Best is trial 3 with value: 0.049481950991344954.\n"
          ]
        },
        {
          "output_type": "stream",
          "name": "stdout",
          "text": [
            "ScoresHybridRecommender: URM Detected 230 ( 1.8%) users with no interactions.\n",
            "ScoresHybridRecommender: URM Detected 93 ( 0.4%) items with no interactions.\n",
            "EvaluatorHoldout: Processed 10486 (100.0%) in 9.27 sec. Users per second: 1131\n"
          ]
        },
        {
          "output_type": "stream",
          "name": "stderr",
          "text": [
            "[I 2023-11-27 19:07:14,962] Trial 13 finished with value: 0.048887715744954596 and parameters: {'alpha': 0.4255725932670224}. Best is trial 3 with value: 0.049481950991344954.\n"
          ]
        },
        {
          "output_type": "stream",
          "name": "stdout",
          "text": [
            "ScoresHybridRecommender: URM Detected 230 ( 1.8%) users with no interactions.\n",
            "ScoresHybridRecommender: URM Detected 93 ( 0.4%) items with no interactions.\n",
            "EvaluatorHoldout: Processed 10486 (100.0%) in 5.90 sec. Users per second: 1776\n"
          ]
        },
        {
          "output_type": "stream",
          "name": "stderr",
          "text": [
            "[I 2023-11-27 19:07:20,893] Trial 14 finished with value: 0.04826634681464993 and parameters: {'alpha': 0.6801018095200472}. Best is trial 3 with value: 0.049481950991344954.\n"
          ]
        },
        {
          "output_type": "stream",
          "name": "stdout",
          "text": [
            "ScoresHybridRecommender: URM Detected 230 ( 1.8%) users with no interactions.\n",
            "ScoresHybridRecommender: URM Detected 93 ( 0.4%) items with no interactions.\n",
            "EvaluatorHoldout: Processed 10486 (100.0%) in 7.10 sec. Users per second: 1477\n"
          ]
        },
        {
          "output_type": "stream",
          "name": "stderr",
          "text": [
            "[I 2023-11-27 19:07:28,020] Trial 15 finished with value: 0.049331504742529494 and parameters: {'alpha': 0.22752848398115622}. Best is trial 3 with value: 0.049481950991344954.\n"
          ]
        },
        {
          "output_type": "stream",
          "name": "stdout",
          "text": [
            "ScoresHybridRecommender: URM Detected 230 ( 1.8%) users with no interactions.\n",
            "ScoresHybridRecommender: URM Detected 93 ( 0.4%) items with no interactions.\n",
            "EvaluatorHoldout: Processed 10486 (100.0%) in 5.88 sec. Users per second: 1783\n"
          ]
        },
        {
          "output_type": "stream",
          "name": "stderr",
          "text": [
            "[I 2023-11-27 19:07:33,928] Trial 16 finished with value: 0.049217410818355574 and parameters: {'alpha': 0.07826623140272841}. Best is trial 3 with value: 0.049481950991344954.\n"
          ]
        },
        {
          "output_type": "stream",
          "name": "stdout",
          "text": [
            "ScoresHybridRecommender: URM Detected 230 ( 1.8%) users with no interactions.\n",
            "ScoresHybridRecommender: URM Detected 93 ( 0.4%) items with no interactions.\n",
            "EvaluatorHoldout: Processed 10486 (100.0%) in 7.04 sec. Users per second: 1489\n"
          ]
        },
        {
          "output_type": "stream",
          "name": "stderr",
          "text": [
            "[I 2023-11-27 19:07:40,996] Trial 17 finished with value: 0.04882253813853157 and parameters: {'alpha': 0.4634701331809596}. Best is trial 3 with value: 0.049481950991344954.\n"
          ]
        },
        {
          "output_type": "stream",
          "name": "stdout",
          "text": [
            "ScoresHybridRecommender: URM Detected 230 ( 1.8%) users with no interactions.\n",
            "ScoresHybridRecommender: URM Detected 93 ( 0.4%) items with no interactions.\n",
            "EvaluatorHoldout: Processed 10486 (100.0%) in 5.96 sec. Users per second: 1761\n"
          ]
        },
        {
          "output_type": "stream",
          "name": "stderr",
          "text": [
            "[I 2023-11-27 19:07:46,979] Trial 18 finished with value: 0.047873915031077525 and parameters: {'alpha': 0.9268975109687301}. Best is trial 3 with value: 0.049481950991344954.\n"
          ]
        },
        {
          "output_type": "stream",
          "name": "stdout",
          "text": [
            "ScoresHybridRecommender: URM Detected 230 ( 1.8%) users with no interactions.\n",
            "ScoresHybridRecommender: URM Detected 93 ( 0.4%) items with no interactions.\n",
            "EvaluatorHoldout: Processed 10486 (100.0%) in 6.85 sec. Users per second: 1530\n"
          ]
        },
        {
          "output_type": "stream",
          "name": "stderr",
          "text": [
            "[I 2023-11-27 19:07:53,861] Trial 19 finished with value: 0.04941826441301989 and parameters: {'alpha': 0.20206919590320196}. Best is trial 3 with value: 0.049481950991344954.\n"
          ]
        },
        {
          "output_type": "stream",
          "name": "stdout",
          "text": [
            "ScoresHybridRecommender: URM Detected 230 ( 1.8%) users with no interactions.\n",
            "ScoresHybridRecommender: URM Detected 93 ( 0.4%) items with no interactions.\n",
            "EvaluatorHoldout: Processed 10486 (100.0%) in 6.23 sec. Users per second: 1684\n"
          ]
        },
        {
          "output_type": "stream",
          "name": "stderr",
          "text": [
            "[I 2023-11-27 19:08:00,123] Trial 20 finished with value: 0.049422612614249684 and parameters: {'alpha': 0.09436060682554094}. Best is trial 3 with value: 0.049481950991344954.\n"
          ]
        },
        {
          "output_type": "stream",
          "name": "stdout",
          "text": [
            "ScoresHybridRecommender: URM Detected 230 ( 1.8%) users with no interactions.\n",
            "ScoresHybridRecommender: URM Detected 93 ( 0.4%) items with no interactions.\n",
            "EvaluatorHoldout: Processed 10486 (100.0%) in 6.35 sec. Users per second: 1652\n"
          ]
        },
        {
          "output_type": "stream",
          "name": "stderr",
          "text": [
            "[I 2023-11-27 19:08:06,500] Trial 21 finished with value: 0.04943055971832494 and parameters: {'alpha': 0.10770616854498867}. Best is trial 3 with value: 0.049481950991344954.\n"
          ]
        },
        {
          "output_type": "stream",
          "name": "stdout",
          "text": [
            "ScoresHybridRecommender: URM Detected 230 ( 1.8%) users with no interactions.\n",
            "ScoresHybridRecommender: URM Detected 93 ( 0.4%) items with no interactions.\n",
            "EvaluatorHoldout: Processed 10486 (100.0%) in 6.61 sec. Users per second: 1587\n"
          ]
        },
        {
          "output_type": "stream",
          "name": "stderr",
          "text": [
            "[I 2023-11-27 19:08:13,141] Trial 22 finished with value: 0.04907007150879999 and parameters: {'alpha': 0.04993450291889595}. Best is trial 3 with value: 0.049481950991344954.\n"
          ]
        },
        {
          "output_type": "stream",
          "name": "stdout",
          "text": [
            "ScoresHybridRecommender: URM Detected 230 ( 1.8%) users with no interactions.\n",
            "ScoresHybridRecommender: URM Detected 93 ( 0.4%) items with no interactions.\n",
            "EvaluatorHoldout: Processed 10486 (100.0%) in 6.00 sec. Users per second: 1747\n"
          ]
        },
        {
          "output_type": "stream",
          "name": "stderr",
          "text": [
            "[I 2023-11-27 19:08:19,174] Trial 23 finished with value: 0.049470291454366 and parameters: {'alpha': 0.11962461383956297}. Best is trial 3 with value: 0.049481950991344954.\n"
          ]
        },
        {
          "output_type": "stream",
          "name": "stdout",
          "text": [
            "ScoresHybridRecommender: URM Detected 230 ( 1.8%) users with no interactions.\n",
            "ScoresHybridRecommender: URM Detected 93 ( 0.4%) items with no interactions.\n",
            "EvaluatorHoldout: Processed 10486 (100.0%) in 7.07 sec. Users per second: 1483\n"
          ]
        },
        {
          "output_type": "stream",
          "name": "stderr",
          "text": [
            "[I 2023-11-27 19:08:26,273] Trial 24 finished with value: 0.04949350078260101 and parameters: {'alpha': 0.18170021794666974}. Best is trial 24 with value: 0.04949350078260101.\n"
          ]
        },
        {
          "output_type": "stream",
          "name": "stdout",
          "text": [
            "ScoresHybridRecommender: URM Detected 230 ( 1.8%) users with no interactions.\n",
            "ScoresHybridRecommender: URM Detected 93 ( 0.4%) items with no interactions.\n",
            "EvaluatorHoldout: Processed 10486 (100.0%) in 5.89 sec. Users per second: 1780\n"
          ]
        },
        {
          "output_type": "stream",
          "name": "stderr",
          "text": [
            "[I 2023-11-27 19:08:32,189] Trial 25 finished with value: 0.049493928412487 and parameters: {'alpha': 0.18449421068723693}. Best is trial 25 with value: 0.049493928412487.\n"
          ]
        },
        {
          "output_type": "stream",
          "name": "stdout",
          "text": [
            "ScoresHybridRecommender: URM Detected 230 ( 1.8%) users with no interactions.\n",
            "ScoresHybridRecommender: URM Detected 93 ( 0.4%) items with no interactions.\n",
            "EvaluatorHoldout: Processed 10486 (100.0%) in 7.16 sec. Users per second: 1465\n"
          ]
        },
        {
          "output_type": "stream",
          "name": "stderr",
          "text": [
            "[I 2023-11-27 19:08:39,373] Trial 26 finished with value: 0.04918028648931815 and parameters: {'alpha': 0.2880050932481488}. Best is trial 25 with value: 0.049493928412487.\n"
          ]
        },
        {
          "output_type": "stream",
          "name": "stdout",
          "text": [
            "ScoresHybridRecommender: URM Detected 230 ( 1.8%) users with no interactions.\n",
            "ScoresHybridRecommender: URM Detected 93 ( 0.4%) items with no interactions.\n",
            "EvaluatorHoldout: Processed 10486 (100.0%) in 5.84 sec. Users per second: 1795\n"
          ]
        },
        {
          "output_type": "stream",
          "name": "stderr",
          "text": [
            "[I 2023-11-27 19:08:45,241] Trial 27 finished with value: 0.04945317490592195 and parameters: {'alpha': 0.19083272809653498}. Best is trial 25 with value: 0.049493928412487.\n"
          ]
        },
        {
          "output_type": "stream",
          "name": "stdout",
          "text": [
            "ScoresHybridRecommender: URM Detected 230 ( 1.8%) users with no interactions.\n",
            "ScoresHybridRecommender: URM Detected 93 ( 0.4%) items with no interactions.\n",
            "EvaluatorHoldout: Processed 10486 (100.0%) in 7.15 sec. Users per second: 1467\n"
          ]
        },
        {
          "output_type": "stream",
          "name": "stderr",
          "text": [
            "[I 2023-11-27 19:08:52,417] Trial 28 finished with value: 0.04905188399347344 and parameters: {'alpha': 0.3474202690852608}. Best is trial 25 with value: 0.049493928412487.\n"
          ]
        },
        {
          "output_type": "stream",
          "name": "stdout",
          "text": [
            "ScoresHybridRecommender: URM Detected 230 ( 1.8%) users with no interactions.\n",
            "ScoresHybridRecommender: URM Detected 93 ( 0.4%) items with no interactions.\n",
            "EvaluatorHoldout: Processed 10486 (100.0%) in 5.98 sec. Users per second: 1755\n"
          ]
        },
        {
          "output_type": "stream",
          "name": "stderr",
          "text": [
            "[I 2023-11-27 19:08:58,424] Trial 29 finished with value: 0.04925265054842644 and parameters: {'alpha': 0.24259958312520455}. Best is trial 25 with value: 0.049493928412487.\n"
          ]
        },
        {
          "output_type": "stream",
          "name": "stdout",
          "text": [
            "ScoresHybridRecommender: URM Detected 230 ( 1.8%) users with no interactions.\n",
            "ScoresHybridRecommender: URM Detected 93 ( 0.4%) items with no interactions.\n",
            "EvaluatorHoldout: Processed 10486 (100.0%) in 6.95 sec. Users per second: 1509\n"
          ]
        },
        {
          "output_type": "stream",
          "name": "stderr",
          "text": [
            "[I 2023-11-27 19:09:05,408] Trial 30 finished with value: 0.049319826283874095 and parameters: {'alpha': 0.23233105892998365}. Best is trial 25 with value: 0.049493928412487.\n"
          ]
        },
        {
          "output_type": "stream",
          "name": "stdout",
          "text": [
            "ScoresHybridRecommender: URM Detected 230 ( 1.8%) users with no interactions.\n",
            "ScoresHybridRecommender: URM Detected 93 ( 0.4%) items with no interactions.\n",
            "EvaluatorHoldout: Processed 10486 (100.0%) in 6.19 sec. Users per second: 1693\n"
          ]
        },
        {
          "output_type": "stream",
          "name": "stderr",
          "text": [
            "[I 2023-11-27 19:09:11,631] Trial 31 finished with value: 0.049489705094321254 and parameters: {'alpha': 0.18201827975655005}. Best is trial 25 with value: 0.049493928412487.\n"
          ]
        },
        {
          "output_type": "stream",
          "name": "stdout",
          "text": [
            "ScoresHybridRecommender: URM Detected 230 ( 1.8%) users with no interactions.\n",
            "ScoresHybridRecommender: URM Detected 93 ( 0.4%) items with no interactions.\n",
            "EvaluatorHoldout: Processed 10486 (100.0%) in 6.69 sec. Users per second: 1567\n"
          ]
        },
        {
          "output_type": "stream",
          "name": "stderr",
          "text": [
            "[I 2023-11-27 19:09:18,356] Trial 32 finished with value: 0.04948173906856963 and parameters: {'alpha': 0.16244013079732567}. Best is trial 25 with value: 0.049493928412487.\n"
          ]
        },
        {
          "output_type": "stream",
          "name": "stdout",
          "text": [
            "ScoresHybridRecommender: URM Detected 230 ( 1.8%) users with no interactions.\n",
            "ScoresHybridRecommender: URM Detected 93 ( 0.4%) items with no interactions.\n",
            "EvaluatorHoldout: Processed 10486 (100.0%) in 6.54 sec. Users per second: 1602\n"
          ]
        },
        {
          "output_type": "stream",
          "name": "stderr",
          "text": [
            "[I 2023-11-27 19:09:24,933] Trial 33 finished with value: 0.04949152914392329 and parameters: {'alpha': 0.18132584891538028}. Best is trial 25 with value: 0.049493928412487.\n"
          ]
        },
        {
          "output_type": "stream",
          "name": "stdout",
          "text": [
            "ScoresHybridRecommender: URM Detected 230 ( 1.8%) users with no interactions.\n",
            "ScoresHybridRecommender: URM Detected 93 ( 0.4%) items with no interactions.\n",
            "EvaluatorHoldout: Processed 10486 (100.0%) in 6.18 sec. Users per second: 1696\n"
          ]
        },
        {
          "output_type": "stream",
          "name": "stderr",
          "text": [
            "[I 2023-11-27 19:09:31,145] Trial 34 finished with value: 0.049138969116797285 and parameters: {'alpha': 0.2666293031362819}. Best is trial 25 with value: 0.049493928412487.\n"
          ]
        },
        {
          "output_type": "stream",
          "name": "stdout",
          "text": [
            "ScoresHybridRecommender: URM Detected 230 ( 1.8%) users with no interactions.\n",
            "ScoresHybridRecommender: URM Detected 93 ( 0.4%) items with no interactions.\n",
            "EvaluatorHoldout: Processed 10486 (100.0%) in 6.91 sec. Users per second: 1518\n"
          ]
        },
        {
          "output_type": "stream",
          "name": "stderr",
          "text": [
            "[I 2023-11-27 19:09:38,088] Trial 35 finished with value: 0.04943971402535262 and parameters: {'alpha': 0.10549288800116224}. Best is trial 25 with value: 0.049493928412487.\n"
          ]
        },
        {
          "output_type": "stream",
          "name": "stdout",
          "text": [
            "ScoresHybridRecommender: URM Detected 230 ( 1.8%) users with no interactions.\n",
            "ScoresHybridRecommender: URM Detected 93 ( 0.4%) items with no interactions.\n",
            "EvaluatorHoldout: Processed 10486 (100.0%) in 5.97 sec. Users per second: 1756\n"
          ]
        },
        {
          "output_type": "stream",
          "name": "stderr",
          "text": [
            "[I 2023-11-27 19:09:44,086] Trial 36 finished with value: 0.049483873433664144 and parameters: {'alpha': 0.17549183651841752}. Best is trial 25 with value: 0.049493928412487.\n"
          ]
        },
        {
          "output_type": "stream",
          "name": "stdout",
          "text": [
            "ScoresHybridRecommender: URM Detected 230 ( 1.8%) users with no interactions.\n",
            "ScoresHybridRecommender: URM Detected 93 ( 0.4%) items with no interactions.\n",
            "EvaluatorHoldout: Processed 10486 (100.0%) in 7.14 sec. Users per second: 1469\n"
          ]
        },
        {
          "output_type": "stream",
          "name": "stderr",
          "text": [
            "[I 2023-11-27 19:09:51,253] Trial 37 finished with value: 0.04941314799172953 and parameters: {'alpha': 0.14328794398072686}. Best is trial 25 with value: 0.049493928412487.\n"
          ]
        },
        {
          "output_type": "stream",
          "name": "stdout",
          "text": [
            "ScoresHybridRecommender: URM Detected 230 ( 1.8%) users with no interactions.\n",
            "ScoresHybridRecommender: URM Detected 93 ( 0.4%) items with no interactions.\n",
            "EvaluatorHoldout: Processed 10486 (100.0%) in 5.91 sec. Users per second: 1774\n"
          ]
        },
        {
          "output_type": "stream",
          "name": "stderr",
          "text": [
            "[I 2023-11-27 19:09:57,192] Trial 38 finished with value: 0.04944778979682714 and parameters: {'alpha': 0.18929422410208657}. Best is trial 25 with value: 0.049493928412487.\n"
          ]
        },
        {
          "output_type": "stream",
          "name": "stdout",
          "text": [
            "ScoresHybridRecommender: URM Detected 230 ( 1.8%) users with no interactions.\n",
            "ScoresHybridRecommender: URM Detected 93 ( 0.4%) items with no interactions.\n",
            "EvaluatorHoldout: Processed 10486 (100.0%) in 7.16 sec. Users per second: 1464\n"
          ]
        },
        {
          "output_type": "stream",
          "name": "stderr",
          "text": [
            "[I 2023-11-27 19:10:04,385] Trial 39 finished with value: 0.04930644109001026 and parameters: {'alpha': 0.08546267213319196}. Best is trial 25 with value: 0.049493928412487.\n"
          ]
        },
        {
          "output_type": "stream",
          "name": "stdout",
          "text": [
            "ScoresHybridRecommender: URM Detected 230 ( 1.8%) users with no interactions.\n",
            "ScoresHybridRecommender: URM Detected 93 ( 0.4%) items with no interactions.\n",
            "EvaluatorHoldout: Processed 10486 (100.0%) in 5.93 sec. Users per second: 1769\n"
          ]
        },
        {
          "output_type": "stream",
          "name": "stderr",
          "text": [
            "[I 2023-11-27 19:10:10,338] Trial 40 finished with value: 0.0494018252605899 and parameters: {'alpha': 0.12605285214536252}. Best is trial 25 with value: 0.049493928412487.\n"
          ]
        },
        {
          "output_type": "stream",
          "name": "stdout",
          "text": [
            "ScoresHybridRecommender: URM Detected 230 ( 1.8%) users with no interactions.\n",
            "ScoresHybridRecommender: URM Detected 93 ( 0.4%) items with no interactions.\n",
            "EvaluatorHoldout: Processed 10486 (100.0%) in 7.31 sec. Users per second: 1434\n"
          ]
        },
        {
          "output_type": "stream",
          "name": "stderr",
          "text": [
            "[I 2023-11-27 19:10:17,683] Trial 41 finished with value: 0.04948428214187372 and parameters: {'alpha': 0.16253818306964074}. Best is trial 25 with value: 0.049493928412487.\n"
          ]
        },
        {
          "output_type": "stream",
          "name": "stdout",
          "text": [
            "ScoresHybridRecommender: URM Detected 230 ( 1.8%) users with no interactions.\n",
            "ScoresHybridRecommender: URM Detected 93 ( 0.4%) items with no interactions.\n",
            "EvaluatorHoldout: Processed 10486 (100.0%) in 6.04 sec. Users per second: 1737\n"
          ]
        },
        {
          "output_type": "stream",
          "name": "stderr",
          "text": [
            "[I 2023-11-27 19:10:23,748] Trial 42 finished with value: 0.04945588070564285 and parameters: {'alpha': 0.15357484285445575}. Best is trial 25 with value: 0.049493928412487.\n"
          ]
        },
        {
          "output_type": "stream",
          "name": "stdout",
          "text": [
            "ScoresHybridRecommender: URM Detected 230 ( 1.8%) users with no interactions.\n",
            "ScoresHybridRecommender: URM Detected 93 ( 0.4%) items with no interactions.\n",
            "EvaluatorHoldout: Processed 10486 (100.0%) in 7.11 sec. Users per second: 1475\n"
          ]
        },
        {
          "output_type": "stream",
          "name": "stderr",
          "text": [
            "[I 2023-11-27 19:10:30,889] Trial 43 finished with value: 0.049428031782361916 and parameters: {'alpha': 0.1983055966187791}. Best is trial 25 with value: 0.049493928412487.\n"
          ]
        },
        {
          "output_type": "stream",
          "name": "stdout",
          "text": [
            "ScoresHybridRecommender: URM Detected 230 ( 1.8%) users with no interactions.\n",
            "ScoresHybridRecommender: URM Detected 93 ( 0.4%) items with no interactions.\n",
            "EvaluatorHoldout: Processed 10486 (100.0%) in 7.52 sec. Users per second: 1394\n"
          ]
        },
        {
          "output_type": "stream",
          "name": "stderr",
          "text": [
            "[I 2023-11-27 19:10:38,443] Trial 44 finished with value: 0.04941680744393951 and parameters: {'alpha': 0.13084344469544523}. Best is trial 25 with value: 0.049493928412487.\n"
          ]
        },
        {
          "output_type": "stream",
          "name": "stdout",
          "text": [
            "ScoresHybridRecommender: URM Detected 230 ( 1.8%) users with no interactions.\n",
            "ScoresHybridRecommender: URM Detected 93 ( 0.4%) items with no interactions.\n",
            "EvaluatorHoldout: Processed 10486 (100.0%) in 6.92 sec. Users per second: 1516\n"
          ]
        },
        {
          "output_type": "stream",
          "name": "stderr",
          "text": [
            "[I 2023-11-27 19:10:45,391] Trial 45 finished with value: 0.049129197963120014 and parameters: {'alpha': 0.30126142865291444}. Best is trial 25 with value: 0.049493928412487.\n"
          ]
        },
        {
          "output_type": "stream",
          "name": "stdout",
          "text": [
            "ScoresHybridRecommender: URM Detected 230 ( 1.8%) users with no interactions.\n",
            "ScoresHybridRecommender: URM Detected 93 ( 0.4%) items with no interactions.\n",
            "EvaluatorHoldout: Processed 10486 (100.0%) in 6.53 sec. Users per second: 1605\n"
          ]
        },
        {
          "output_type": "stream",
          "name": "stderr",
          "text": [
            "[I 2023-11-27 19:10:51,958] Trial 46 finished with value: 0.04930294814855233 and parameters: {'alpha': 0.23352259609558937}. Best is trial 25 with value: 0.049493928412487.\n"
          ]
        },
        {
          "output_type": "stream",
          "name": "stdout",
          "text": [
            "ScoresHybridRecommender: URM Detected 230 ( 1.8%) users with no interactions.\n",
            "ScoresHybridRecommender: URM Detected 93 ( 0.4%) items with no interactions.\n",
            "EvaluatorHoldout: Processed 10486 (100.0%) in 6.55 sec. Users per second: 1600\n"
          ]
        },
        {
          "output_type": "stream",
          "name": "stderr",
          "text": [
            "[I 2023-11-27 19:10:58,545] Trial 47 finished with value: 0.04943440081862799 and parameters: {'alpha': 0.15073916271515536}. Best is trial 25 with value: 0.049493928412487.\n"
          ]
        },
        {
          "output_type": "stream",
          "name": "stdout",
          "text": [
            "ScoresHybridRecommender: URM Detected 230 ( 1.8%) users with no interactions.\n",
            "ScoresHybridRecommender: URM Detected 93 ( 0.4%) items with no interactions.\n",
            "EvaluatorHoldout: Processed 10486 (100.0%) in 7.48 sec. Users per second: 1401\n"
          ]
        },
        {
          "output_type": "stream",
          "name": "stderr",
          "text": [
            "[I 2023-11-27 19:11:06,063] Trial 48 finished with value: 0.04944108773905706 and parameters: {'alpha': 0.10453536176759301}. Best is trial 25 with value: 0.049493928412487.\n"
          ]
        },
        {
          "output_type": "stream",
          "name": "stdout",
          "text": [
            "ScoresHybridRecommender: URM Detected 230 ( 1.8%) users with no interactions.\n",
            "ScoresHybridRecommender: URM Detected 93 ( 0.4%) items with no interactions.\n",
            "EvaluatorHoldout: Processed 10486 (100.0%) in 8.90 sec. Users per second: 1178\n"
          ]
        },
        {
          "output_type": "stream",
          "name": "stderr",
          "text": [
            "[I 2023-11-27 19:11:15,009] Trial 49 finished with value: 0.04902198017613874 and parameters: {'alpha': 0.36818048283031723}. Best is trial 25 with value: 0.049493928412487.\n"
          ]
        }
      ]
    },
    {
      "cell_type": "code",
      "source": [
        "## con itemknn + rp3 = 0.4936\n",
        "hybrid_optuna_study.best_trial.params"
      ],
      "metadata": {
        "id": "nQesJUqzH1u-",
        "outputId": "5ab68b5b-9c46-48ef-edfb-1bdf90955117",
        "colab": {
          "base_uri": "https://localhost:8080/"
        }
      },
      "execution_count": 319,
      "outputs": [
        {
          "output_type": "execute_result",
          "data": {
            "text/plain": [
              "{'alpha': 0.19492256156110832}"
            ]
          },
          "metadata": {},
          "execution_count": 319
        }
      ]
    },
    {
      "cell_type": "code",
      "source": [
        "# con itemknn + rp3 + p3 = 0.049493928412487.\n",
        "alpha = 0.0.18449421068723693"
      ],
      "metadata": {
        "id": "Us892dTuLD_a"
      },
      "execution_count": null,
      "outputs": []
    },
    {
      "cell_type": "markdown",
      "metadata": {
        "id": "0YNKBGi69yjT"
      },
      "source": [
        "#Prepare Submission"
      ]
    },
    {
      "cell_type": "code",
      "execution_count": 274,
      "metadata": {
        "id": "XbsJMXyq-feb",
        "colab": {
          "base_uri": "https://localhost:8080/"
        },
        "outputId": "79063e8f-b081-40f1-ed2d-3e6f05ed3402"
      },
      "outputs": [
        {
          "output_type": "execute_result",
          "data": {
            "text/plain": [
              "<12638x22222 sparse matrix of type '<class 'numpy.float64'>'\n",
              "\twith 478730 stored elements in Compressed Sparse Row format>"
            ]
          },
          "metadata": {},
          "execution_count": 274
        }
      ],
      "source": [
        "urm_train_validation_test = urm_train + urm_validation + urm_test\n",
        "urm_train_validation_test"
      ]
    },
    {
      "cell_type": "code",
      "execution_count": 289,
      "metadata": {
        "id": "Mxytchsc-gJV",
        "outputId": "fe7b9b44-276d-4962-ca2e-e4892e5fe1a3",
        "colab": {
          "base_uri": "https://localhost:8080/"
        }
      },
      "outputs": [
        {
          "output_type": "stream",
          "name": "stdout",
          "text": [
            "RP3betaRecommender: Similarity column 22222 (100.0%), 3882.67 column/sec. Elapsed time 5.72 sec\n"
          ]
        }
      ],
      "source": [
        "bests ={}\n",
        "\n",
        "best_recommender = (urm_train_validation_test)\n",
        "best_recommender.fit(**bests)"
      ]
    },
    {
      "cell_type": "markdown",
      "metadata": {
        "id": "hNLDmXo65XYT"
      },
      "source": [
        "##Top popular for those users without info"
      ]
    },
    {
      "cell_type": "code",
      "execution_count": 285,
      "metadata": {
        "id": "jwzA82CX5WsP"
      },
      "outputs": [],
      "source": [
        "toppop_recommender = TopPopRecommender()\n",
        "toppop_recommender.fit(urm_train_validation_test)"
      ]
    },
    {
      "cell_type": "code",
      "execution_count": 286,
      "metadata": {
        "id": "6CA4_0p9-mAz",
        "colab": {
          "base_uri": "https://localhost:8080/"
        },
        "outputId": "c38a21e3-4792-4d73-9954-bf4568fdca6a"
      },
      "outputs": [
        {
          "output_type": "execute_result",
          "data": {
            "text/plain": [
              "10882"
            ]
          },
          "metadata": {},
          "execution_count": 286
        }
      ],
      "source": [
        "users_to_recommend = np.array(data_target_users_test[\"user_id\"])\n",
        "len(users_to_recommend)"
      ]
    },
    {
      "cell_type": "markdown",
      "source": [
        "## Prepare Sub"
      ],
      "metadata": {
        "id": "BJQM8icfMnig"
      }
    },
    {
      "cell_type": "code",
      "execution_count": 290,
      "metadata": {
        "id": "ULSRLU5i9x3x"
      },
      "outputs": [],
      "source": [
        "def prepare_submission(interactions: pd.DataFrame, users_to_recommend: np.array, urm_train: sp.csr_matrix, recommender: object, toppop_recommender: object):\n",
        "    users_ids_and_mappings = interactions[interactions.user_id.isin(users_to_recommend)][['user_id', 'mapped_user_id']].drop_duplicates()\n",
        "    items_ids_and_mappings = interactions[[\"item_id\", \"mapped_item_id\"]].drop_duplicates()\n",
        "\n",
        "    mapping_to_item_id = dict(zip(interactions.mapped_item_id, interactions.item_id))\n",
        "\n",
        "\n",
        "    recommendation_length = 10\n",
        "    submission = []\n",
        "    for idx, row in users_ids_and_mappings.iterrows():\n",
        "        user_id = row.user_id\n",
        "        mapped_user_id = row.mapped_user_id\n",
        "\n",
        "        recommendations = recommender.recommend(user_id_array=mapped_user_id, cutoff=10)\n",
        "\n",
        "        submission.append((user_id, [mapping_to_item_id[item_id] for item_id in recommendations]))\n",
        "\n",
        "    #assign top popular to the user without interactions\n",
        "    users_without_info = np.setdiff1d(users_to_recommend,np.array(interactions[interactions.user_id.isin(users_to_recommend)][['user_id', 'mapped_user_id']].drop_duplicates().user_id))\n",
        "    for user_id in users_without_info:\n",
        "      recommendations = toppop_recommender.recommend(user_id, at = 10)\n",
        "      submission.append((user_id, [mapping_to_item_id[item_id] for item_id in recommendations]))\n",
        "\n",
        "    return submission"
      ]
    },
    {
      "cell_type": "code",
      "execution_count": null,
      "metadata": {
        "id": "SiJdrRHX99QI"
      },
      "outputs": [],
      "source": [
        "submission = prepare_submission(interactions, users_to_recommend, urm_train_validation_test, best_recommender, toppop_recommender)"
      ]
    },
    {
      "cell_type": "code",
      "execution_count": null,
      "metadata": {
        "id": "KHShzKp7-C4D"
      },
      "outputs": [],
      "source": [
        "submission"
      ]
    },
    {
      "cell_type": "code",
      "execution_count": null,
      "metadata": {
        "id": "AuuEFD83-OVp"
      },
      "outputs": [],
      "source": [
        "def write_submission(submissions):\n",
        "    with open(\"./submission.csv\", \"w\") as f:\n",
        "        f.write(\"user_id,item_list\\n\")\n",
        "        for user_id, items in submissions:\n",
        "            f.write(f\"{user_id},{' '.join([str(item) for item in items])}\\n\")\n"
      ]
    },
    {
      "cell_type": "code",
      "execution_count": null,
      "metadata": {
        "id": "tQdu0QIw-VSU",
        "colab": {
          "base_uri": "https://localhost:8080/"
        },
        "outputId": "07d15623-0c29-4f42-d1b0-53808399e6e8"
      },
      "outputs": [
        {
          "output_type": "stream",
          "name": "stdout",
          "text": [
            "/gdrive/MyDrive/RECSYS\n"
          ]
        }
      ],
      "source": [
        "%cd /gdrive/MyDrive/RECSYS\n",
        "write_submission(submission)"
      ]
    },
    {
      "cell_type": "code",
      "execution_count": null,
      "metadata": {
        "id": "Zo6KGGEnLS1P"
      },
      "outputs": [],
      "source": []
    }
  ],
  "metadata": {
    "colab": {
      "provenance": [],
      "collapsed_sections": [
        "cSLGYEz0xKvB",
        "GnP3Qb-nzW3F",
        "1IB-Aujzz9OV",
        "GqvLoWjYOUXJ",
        "kf7c8Jck8MD7"
      ]
    },
    "kernelspec": {
      "display_name": "Python 3",
      "name": "python3"
    },
    "language_info": {
      "name": "python"
    }
  },
  "nbformat": 4,
  "nbformat_minor": 0
}